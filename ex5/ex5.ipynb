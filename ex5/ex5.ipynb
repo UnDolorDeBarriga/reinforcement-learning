{
 "cells": [
  {
   "cell_type": "markdown",
   "id": "e9b29c9b",
   "metadata": {
    "deletable": false,
    "editable": false,
    "nbgrader": {
     "cell_type": "markdown",
     "checksum": "24cdaedcd4b5dfe347328615bb32c2c1",
     "grade": false,
     "grade_id": "cell-afd59c116a3ed810",
     "locked": true,
     "schema_version": 3,
     "solution": false,
     "task": false
    }
   },
   "source": [
    "\n",
    "<div class=\"alert alert-block alert-info\">\n",
    "   <h2 align=\"center\"> <center><b> Reinforcement Learning Assignment 5 - Policy Gradient </b></center></h2>\n",
    "\n",
    "<br>\n",
    "<center><font size=\"3\">This notebook is a part of teaching material for ELEC-E8125</font></center>\n",
    "<center><font size=\"3\">Sep 4, 2024 - Nov 30, 2024</font></center>\n",
    "<center><font size=\"3\">Aalto University</font></center>\n",
    "</div>\n",
    "\n",
    "\n",
    "<a id='TOC'></a>\n",
    "\n",
    "<div class=\"alert alert-block alert-success\">\n",
    " \n",
    "# Table of contents\n",
    "* <a href='#1.'> 1. Introduction </a>\n",
    "* <a href='#1.1'> 1.1 Learning Objectives </a>\n",
    "* <a href='#1.2'> 1.2 Code Structure & Files </a>\n",
    "* <a href='#2.'> 2. Policy gradient with and without baseline</a>\n",
    "* <a href='#2.1'> 2.1 Training Loop</a>\n",
    "* <a href='#2.2'> 2.2 Policy with Fixed Variance </a>\n",
    "* <a href='#2.3'> 2.3 PG Objects</a>\n",
    "* <a href='#3.'> 3. Choosing the value of variance </a>\n",
    "* <a href='#3.1'> 3.1 Policy with Learned Variance </a>\n",
    "* <a href='#4.'> 4. PG and experience replay </a>\n",
    "* <a href='#5.'> 5. Real-world control problems </a>\n",
    "* <a href='#6.'> 6. Discrete action spaces </a>\n",
    "* <a href='#7.'> 7. Submitting </a>\n",
    "* <a href='#7.1'> 7.1 Feedback </a>\n",
    "* <a href='#8.'> References</a>\n",
    "\n",
    "<a href='#T1'><b>Student Task 1.</b> Implementing Reinforce PG algorithm </a>\\\n",
    "<a href='#T1a'><b>Student Task 1a.</b> Basic REINFORCE without baseline (15 points) </a>\\\n",
    "<a href='#T1b'><b>Student Task 1b.</b> REINFORCE with a constant baseline b = 20 (5 points) </a>\\\n",
    "<a href='#T1c'><b>Student Task 1c.</b> REINFORCE with discounted rewards normalized to zero mean and unit variance (5 points) </a>\\\n",
    "<a href='#Q1'><b>Student Question 1.1</b> A good baseline (15 points) </a>\\\n",
    "<a href='#T2'><b>Student Task 2.</b> Making Variance a Learnable Parameter (10 points) </a>\\\n",
    "<a href='#Q2'><b>Student Question 2.1</b> Constant vs Learnable Variance (5 points) </a>\\\n",
    "<a href='#Q3'><b>Student Question 2.2</b> Learnable Variance Initial Performance (5 points) </a> \\\n",
    "<a href='#Q4'><b>Student Question 3.</b> Considering a experience reply buffer (15 points)</a>\\\n",
    "<a href='#Q5'><b>Student Question 4.1</b> Considering an unbounded continuous action space part 1(5 points) </a>\\\n",
    "<a href='#Q6'><b>Student Question 4.2</b> Considering an unbounded continuous action space part 2 (10 points) </a>\\\n",
    "<a href='#Q7'><b>Student Question 5.</b> Considering discrete action spaces (10 points)</a>\n",
    "    \n",
    "**Total Points:** 100\n",
    "\n",
    "**Estimated runtime of all the cells:** 2 hours"
   ]
  },
  {
   "cell_type": "markdown",
   "id": "50c043fb",
   "metadata": {
    "deletable": false,
    "editable": false,
    "nbgrader": {
     "cell_type": "markdown",
     "checksum": "82ec0ae01bfbd06b245720b831476b14",
     "grade": false,
     "grade_id": "cell-ad52c038bf5d1c50",
     "locked": true,
     "schema_version": 3,
     "solution": false,
     "task": false
    }
   },
   "source": [
    "# 1. Introduction <a id='1.'></a>\n",
    "In this exercise, we will implement the REINFORCE policy gradient algorithm for [InvertedPendulum environment](https://gymnasium.farama.org/environments/mujoco/inverted_pendulum/). The InvertedPendulum is similar to the previously used CartPole environment, except it has a continuous action space: the action can now have values in a range of [−3,3]. The action value represents a numerical force applied to the cart, with magnitude representing the amount of force and sign representing the direction.\n",
    "\n",
    "## 1.2 Learning Objectives <a id='1.2'></a>\n",
    "- To understand how policy gradient works\n",
    "- To implement the REINFORCE policy gradient algorithm\n",
    "- To understand the limits and use cases of policy gradient\n",
    "\n",
    "## 1.3 Code Structure and Files <a id='1.3'></a>\n",
    "You don’t have to edit any other file other than ```ex5.ipynb``` to complete this exercise.\n",
    "\n",
    "```\n",
    "├───cfg                  # Config files for environments e.g. define the maximum number of steps in an episode.\n",
    "├───imgs                 # Images used in notebook\n",
    "├───results \n",
    "│   ├───logging          # Contains logged data\n",
    "│   ├───model            # Contains the policies learned\n",
    "│   └───video            # Contains videos for each environment\n",
    "│       └───InvertedPendulum-v4\n",
    "│       │  └───test      # Videos saved during testing\n",
    "│       │  └───train     # Videos saved during training\n",
    "│   ex5.ipynb            # Main assignment file containing tasks <---------\n",
    "│   setup.py             # Contains setup function\n",
    "│   utils.py             # Contains useful functions \n",
    "```\n",
    "---\n",
    "The foundational class, `PG`, stands as the base class for the Policy Gradient. Three additional classes - `PGNoBase(PG)`, `PGBase20(PG)`, and `PGGamma(PG)` - inherit from this base class. Each class corresponds to a different variant of the policy gradient:\n",
    "\n",
    "- `PGNoBase(PG)`: Implements the vanilla Policy Gradient without a baseline.\n",
    "- `PGBase20(PG)`: Utilizes a baseline of 20.\n",
    "- `PGGamma(PG)`: Employs PG gamma with discounted rewards normalized to zero mean and unit variance.\n",
    "\n",
    "# 2. Policy gradient with and without baseline <a id='2.'></a>"
   ]
  },
  {
   "cell_type": "markdown",
   "id": "298df828",
   "metadata": {
    "deletable": false,
    "editable": false,
    "nbgrader": {
     "cell_type": "markdown",
     "checksum": "8e9d507428e153788d3bffa9d165dc4e",
     "grade": false,
     "grade_id": "cell-46a132ec9dcfe4ac",
     "locked": true,
     "schema_version": 3,
     "solution": false,
     "task": false
    }
   },
   "source": [
    "## Warnings:\n",
    "\n",
    "- Don’t copy and paste cells within a notebook. This will mess up the tracking metadata and prevent autograding from working.\n",
    "- Only add new cells using the '+' button in the upper toolbar and do not split cells.\n",
    "- Be cautious about things such as copying the whole notebook to Colab to work on it. This has sometimes resulted in removing all notebook metadata, making autograding impossible."
   ]
  },
  {
   "cell_type": "markdown",
   "id": "7aabd7b5",
   "metadata": {
    "deletable": false,
    "editable": false,
    "nbgrader": {
     "cell_type": "markdown",
     "checksum": "46cf9e8cd6b3dfa2c69dcf9ebd86720f",
     "grade": false,
     "grade_id": "cell-f93aed21b4a0d27f",
     "locked": true,
     "schema_version": 3,
     "solution": false,
     "task": false
    },
    "tags": []
   },
   "source": [
    "<a id='T1'></a>\n",
    "<div class=\" alert alert-warning\">\n",
    "    <h3><b>Student Task 1.</b> Implementing Reinforce PG algorithm (25 points) </h3> \n",
    "\n",
    "Implement the REINFORCE policy gradient algorithm to balance the InvertedPendulum. \n",
    "<br> Use constant standard deviation $\\sigma = 1$ (i.e. $\\log(\\sigma) = 0$) for the output action distribution throughout the training. Implement:\n",
    "\n",
    "&nbsp;&nbsp;&nbsp;&nbsp;&nbsp;&nbsp; (a) basic REINFORCE without baseline (15 points),\n",
    "\n",
    "&nbsp;&nbsp;&nbsp;&nbsp;&nbsp;&nbsp; (b) REINFORCE with a constant baseline b = 20 (5 points),\n",
    "\n",
    "&nbsp;&nbsp;&nbsp;&nbsp;&nbsp;&nbsp; (c) REINFORCE with discounted rewards normalized to zero mean and unit variance (5 points),\n",
    "    \n",
    "**Complete the all the unfinished implementation in following cells (marked with ```TODOs```)**. \n",
    "    \n",
    "1. **Train Loop Function**: Finalize the `train_iteration(agent, env)` function to establish the training loop, similarly to how it was done in Exercise 1.\n",
    "2. **Policy Class with Fixed Variance**: Complete the `PolicyFixedVar(nn.Module)` class to generate a policy with a fixed variance.\n",
    "3. **Get Action Method**: Finish the `get_action(self, observation, evaluation=False)` method within the `PG` class, ensuring it can be inherited effectively.\n",
    "4. **Complete PG Classes**: Implepment the `PGNoBase(PG)`, `PGBase20(PG)`, and `PGGamma(PG)` classes, each tailored with a different baseline.\n",
    "\n",
    "**Hint:** The ```class PolicyFixedVar(nn.Module)```  contains a basic neural network structure. And we include reasonable\n",
    "hyperparameters in the ```cfg``` folder.\n",
    "\n",
    "**Hint:** Your policy should output a probability distribution over actions. A suitable and straightforward choice is to use a normal distribution (`from torch.distributions import Normal`). Compute log probabilities using the `log_prob` function of the distribution. We strongly recommend you to read the official PyTorch documentation to learn how to use the distributions and related functions.\n",
    "    \n",
    "🔝\t<a href='#TOC'><b>Table of Contents</b></a>\n",
    "</div>\n"
   ]
  },
  {
   "cell_type": "code",
   "execution_count": 158,
   "id": "0ca4ce4c",
   "metadata": {},
   "outputs": [],
   "source": [
    "skip_training = True  # Set this flag to True before validation and submission"
   ]
  },
  {
   "cell_type": "code",
   "execution_count": null,
   "id": "9140b77c",
   "metadata": {
    "deletable": false,
    "editable": false,
    "nbgrader": {
     "cell_type": "code",
     "checksum": "414e47f15fa3b52031225c1d85f7c4ad",
     "grade": true,
     "grade_id": "cell-b087b63d5c88b12c",
     "locked": true,
     "points": 0,
     "schema_version": 3,
     "solution": false,
     "task": false
    }
   },
   "outputs": [],
   "source": []
  },
  {
   "cell_type": "code",
   "execution_count": 116,
   "id": "46471b1e-91d6-48bb-bb0d-f3de4be1aa79",
   "metadata": {
    "tags": []
   },
   "outputs": [],
   "source": [
    "# Importing system and path-related modules\n",
    "import sys\n",
    "import os\n",
    "sys.path.insert(0, os.path.abspath(\"..\"))\n",
    "\n",
    "# Importing PyTorch related modules\n",
    "import torch\n",
    "from torch import nn\n",
    "from torch.distributions import Normal\n",
    "import torch.nn.functional as F\n",
    "\n",
    "# Importing other third-party modules\n",
    "import numpy as np\n",
    "import yaml\n",
    "from pathlib import Path\n",
    "from IPython.display import Video  # to display videos\n",
    "\n",
    "# Importing local utility modules\n",
    "import utils as u\n",
    "from setup import setup\n",
    "\n",
    "# Setting the device for storing tensors/calculations\n",
    "device = 'cpu'"
   ]
  },
  {
   "cell_type": "markdown",
   "id": "a55e45ae",
   "metadata": {
    "tags": []
   },
   "source": [
    "## 2.1 Training Loop <a id='2.1'></a>\n",
    "\n",
    "In the subsequent cell, a foundational framework is provided for training a Reinforcement Learning (RL) agent employing the REINFORCE algorithm. It is constructed to efficiently monitor the agent's progress and performance throughout the training phase. Please complete the training loop, marked with `TODO`, to finalize the setup for the agent’s training process."
   ]
  },
  {
   "cell_type": "code",
   "execution_count": 117,
   "id": "428ff872",
   "metadata": {
    "tags": []
   },
   "outputs": [],
   "source": [
    "def to_numpy(tensor):\n",
    "    \"\"\"\n",
    "    Convert a PyTorch tensor to a NumPy array.\n",
    "\n",
    "    :param tensor: A PyTorch tensor.\n",
    "    :return: The converted NumPy array.\n",
    "    \"\"\"\n",
    "    # Squeeze the tensor, move it to CPU and convert to NumPy array\n",
    "    return tensor.squeeze(0).cpu().numpy()\n",
    "\n",
    "\n",
    "def train_iteration(agent, env):\n",
    "    # Policy training function\n",
    "\n",
    "    # Reset the environment and observe the initial state\n",
    "    reward_sum, timesteps, done = 0, 0, False\n",
    "    obs, _ = env.reset(seed=409)\n",
    "\n",
    "    while not done:\n",
    "        # TODO: Task 1: finish the train loop, including \n",
    "        # 1. Call agent.get_action to get action and log prob of the action\n",
    "        # 2. Call env.step with the action (note: you need to convert the action into a numpy array -- use the function to_numpy for this)\n",
    "        #   (Steps 1. and 2. you can also find from the 'test' function below)\n",
    "        # 3. Store the log prob of action and reward by calling agent.record\n",
    "        # 4. Update reward_sum by adding the reward received from env.step, and increase timesteps by one\n",
    "        # 5. Use the observation you receive from env.step to call agent.get_action for the next timestep \n",
    "        #   (Hint: ensure to use the `.copy()` method to avoid unexpected behavior due to aliasing.)\n",
    "\n",
    "        ########### Your code starts here ###########\n",
    "        # Get action from the agent\n",
    "        action, log_prob = agent.get_action(obs)\n",
    "        # Perform the action on the environment, get new state and reward\n",
    "        obs, reward, done, _, _ = env.step(to_numpy(action))\n",
    "        # Store agent's and env's outcome (so that the agent can improve its policy)\n",
    "        agent.record(log_prob, reward)\n",
    "        # Store total episode reward\n",
    "        reward_sum += reward\n",
    "        timesteps += 1\n",
    "        # update observation\n",
    "        obs = obs.copy()\n",
    "    \n",
    "        ########## Your codes ends here. ##########\n",
    "        if timesteps >= 1000:\n",
    "            done = True\n",
    "            \n",
    "    # Update the policy after one episode\n",
    "    info = agent.update()\n",
    "\n",
    "    # Return stats of training\n",
    "    info.update({'timesteps': timesteps,\n",
    "                'ep_reward': reward_sum,})\n",
    "    return info\n",
    "\n",
    "\n",
    "def train(agent_class, cfg_path, cfg_args={}):\n",
    "    env, cfg = setup(cfg_path, cfg_args=cfg_args)\n",
    "    performance_data = []\n",
    "    \n",
    "    if cfg.save_logging: \n",
    "        u.make_dir(Path().cwd()/'results'/cfg.env_name/\"logging\")\n",
    "        L = u.Logger() # create a simple logger to record stats\n",
    "        \n",
    "    # Get state and action dimensionality\n",
    "    state_dim = env.observation_space.shape[0]\n",
    "    action_dim = env.action_space.shape[0]\n",
    "\n",
    "    # Initialise the policy gradient agent\n",
    "    agent = agent_class(state_dim, action_dim, float(cfg.lr), float(cfg.gamma))\n",
    "    \n",
    "    for ep in range(cfg.train_episodes):\n",
    "        # collect data and update the policy\n",
    "        train_info = train_iteration(agent, env)\n",
    "        train_info.update({'episodes': ep})\n",
    "\n",
    "        if cfg.save_logging:\n",
    "            L.log(**train_info)\n",
    "        if (not cfg.silent) and (ep % 100 == 0):\n",
    "            print({\"ep\": ep, **train_info})\n",
    "\n",
    "        performance_data.append(train_info)\n",
    "        \n",
    "    u.plot_training_data(performance_data)\n",
    "    if cfg.save_model:\n",
    "        agent.save(cfg.model_path)\n",
    "    \n",
    "    print(\"Training complete!\")\n",
    "    \n",
    "\n",
    "# Function to test a trained policy\n",
    "@torch.no_grad()\n",
    "def test(agent_class, cfg_path, cfg_args={}, num_episodes=10, seeds=None):\n",
    "    env, cfg = setup(cfg_path, cfg_args=cfg_args)\n",
    "    \n",
    "    # Get state and action dimensionality\n",
    "    state_dim = env.observation_space.shape[0]\n",
    "    action_dim = env.action_space.shape[0]\n",
    "\n",
    "    # Initialise the policy gradient agent\n",
    "    agent = agent_class(state_dim, action_dim, float(cfg.lr), float(cfg.gamma))\n",
    "    \n",
    "    print(\"Loading model from\", cfg.model_path, \"...\")\n",
    "    agent.load(cfg.model_path)\n",
    "        \n",
    "    test_rewards = []\n",
    "    for ep in range(num_episodes):\n",
    "\n",
    "        if seeds != None:\n",
    "            test_seed = seeds[ep % len(seeds)]\n",
    "            print(\"Episode seed: \", test_seed)\n",
    "            (obs, _)  = env.reset(seed=test_seed)\n",
    "        else :\n",
    "            (obs, _)  = env.reset()\n",
    "        done=  False\n",
    "        test_reward = 0\n",
    "        timesteps = 0\n",
    "        \n",
    "        while not done:\n",
    "            # Similar to the training loop above -\n",
    "            # get the action, act on the environment, save total reward\n",
    "            # (evaluation=True makes the agent always return what it thinks to be\n",
    "            # the best action - there is no exploration at this point)\n",
    "            action, _ = agent.get_action(obs, evaluation=True)\n",
    "\n",
    "            \n",
    "            obs, reward, done, _, info = env.step(to_numpy(action))\n",
    "            timesteps += 1\n",
    "            test_reward += reward\n",
    "            \n",
    "            if timesteps >= 1000:\n",
    "                done = True\n",
    "        test_rewards.append(test_reward)\n",
    "\n",
    "        print(\"Test ep_reward:\", test_reward)\n",
    "\n",
    "    print(\"Median test reward:\", np.median(test_rewards))"
   ]
  },
  {
   "cell_type": "markdown",
   "id": "ac054ea1",
   "metadata": {},
   "source": [
    "## 2.2 Policy with Fixed Variance <a id='2.2'></a>\n",
    "\n",
    "This code is designed to establish a neural network policy where the variance is constant. The `PolicyFixedVar` class, which is a subclass of `nn.Module`, defines this policy. The policy uses a neural network to map states to actions, outputting a normal distribution with a mean and a standard deviation. \n",
    "\n",
    "#### Task:\n",
    "1. **Implementing actor_logstd:**\n",
    "   - Initialize `self.actor_logstd` as a torch tensor with zeros, ensuring to set the `device` parameter for appropriate storage.\n",
    "\n",
    "2. **Create and Return Distribution:**\n",
    "   - In the `forward` method, create a Normal distribution (`probs`) with the computed `action_mean` and `action_std`. This distribution represents the policy’s output given a state input."
   ]
  },
  {
   "cell_type": "code",
   "execution_count": 118,
   "id": "77a5cc6b",
   "metadata": {
    "tags": []
   },
   "outputs": [],
   "source": [
    "# Initialisation function for neural network layers\n",
    "def layer_init(layer, std=np.sqrt(2), bias_const=0.0):\n",
    "    torch.nn.init.orthogonal_(layer.weight, std)\n",
    "    torch.nn.init.constant_(layer.bias, bias_const)\n",
    "    return layer\n",
    "\n",
    "\n",
    "# This class defines the neural network policy\n",
    "class PolicyFixedVar(nn.Module):\n",
    "    def __init__(self, state_dim, action_dim):\n",
    "        super(PolicyFixedVar, self).__init__()\n",
    "\n",
    "        # Initialise a neural network with two hidden layers (64 neurons per layer)\n",
    "        self.actor_mean = nn.Sequential(\n",
    "            layer_init(nn.Linear(state_dim, 64)),\n",
    "            nn.Tanh(),\n",
    "            layer_init(nn.Linear(64, 64)),\n",
    "            nn.Tanh(),\n",
    "            layer_init(nn.Linear(64, action_dim), std=0.01),\n",
    "        )\n",
    "\n",
    "        # TODO: Task 1: Implement actor_logstd as a torch tensor. \n",
    "        # Hint: when creating the torch tensor, remember to set the parameter device=device \n",
    "        #       so the tensor is stored correctly on CUDA (if applicable) \n",
    "        ########## Your code starts here. ###########\n",
    "        self.actor_logstd = torch.zeros(action_dim, device=device)\n",
    "        ########## Your code ends here. ##########\n",
    "\n",
    "    # Do a forward pass to map state to action\n",
    "    def forward(self, state):\n",
    "        # Get mean of a Normal distribution (the output of the neural network)\n",
    "        action_mean = self.actor_mean(state)\n",
    "\n",
    "        # Make sure action_logstd matches dimension of action_mean\n",
    "        action_logstd = self.actor_logstd.expand_as(action_mean)\n",
    "\n",
    "        # Exponentiate the log std to get actual std\n",
    "        action_std = torch.exp(action_logstd)\n",
    "\n",
    "        # TODO: Task 1: Create a Normal distribution with mean of 'action_mean' and standard deviation of 'action_std', and return the distribution\n",
    "        # Use the torch.distributions class\n",
    "        ########## Your code starts here. ###########\n",
    "        probs = Normal(action_mean, action_std)\n",
    "        ########## Your code ends here. ##########\n",
    "        return probs"
   ]
  },
  {
   "cell_type": "code",
   "execution_count": 119,
   "id": "b677a295",
   "metadata": {
    "deletable": false,
    "editable": false,
    "nbgrader": {
     "cell_type": "code",
     "checksum": "e673d7a1cb02204c75f9b5ea389b7d84",
     "grade": true,
     "grade_id": "cell-8e7d3a4799495ca0",
     "locked": true,
     "points": 0,
     "schema_version": 3,
     "solution": false,
     "task": false
    }
   },
   "outputs": [],
   "source": [
    "# Test Policy\n",
    "def test_return_class():\n",
    "    policy = PolicyFixedVar(4, 1)\n",
    "    x = torch.Tensor((1.,2.,3.,4.)).reshape((1,4))\n",
    "    assert isinstance( policy.forward(x),Normal)\n",
    "\n",
    "test_return_class()"
   ]
  },
  {
   "cell_type": "markdown",
   "id": "4de05f7e",
   "metadata": {},
   "source": [
    "## 2.3 PG Objects <a id='2.3'></a>\n",
    "\n",
    "The `PG` class is defined as the Policy Gradient base class. This class forms the foundation for implementing policy gradient algorithms, providing a structured format and placeholders for essential functions and variables used in these algorithms. The methods within this class will be used to interact with, update, and manage the policy used by the agent to make decisions in the environment.\n",
    "\n",
    "Task: Implementing the `get_action` Method."
   ]
  },
  {
   "cell_type": "code",
   "execution_count": 120,
   "id": "7e300959",
   "metadata": {
    "tags": []
   },
   "outputs": [],
   "source": [
    "# Class for the Policy Gradient algorithm\n",
    "class PG(object):\n",
    "    def __init__(self, state_dim, action_dim, lr, gamma):\n",
    "        # Define the neural network policy with fixed variance \n",
    "        self.policy = PolicyFixedVar(state_dim, action_dim).to(device)\n",
    "\n",
    "        # Create an optimizer\n",
    "        self.optimizer = torch.optim.Adam(self.policy.parameters(), lr=lr)\n",
    "\n",
    "        # Set discount factor value\n",
    "        self.gamma = gamma\n",
    "\n",
    "        # Simple buffers for action probabilities and rewards\n",
    "        self.action_probs = []\n",
    "        self.rewards = []\n",
    "\n",
    "    def update(self):\n",
    "        pass\n",
    "\n",
    "    def record(self, action_prob, reward):\n",
    "        \"\"\" Store agent's and env's outcomes to update the agent.\"\"\"\n",
    "        self.action_probs.append(action_prob)\n",
    "        self.rewards.append(torch.tensor([reward]))\n",
    "\n",
    "    def save(self, filepath):\n",
    "        torch.save(self.policy.state_dict(), filepath)\n",
    "\n",
    "    def load(self, filepath):\n",
    "        self.policy.load_state_dict(torch.load(filepath))\n",
    "    \n",
    "    def get_action(self, observation, evaluation=False):\n",
    "        \"\"\"Return action and logprob of this action.\"\"\"\n",
    "\n",
    "        # Add batch dimension if necessary\n",
    "        if observation.ndim == 1: \n",
    "            observation = observation[None]\n",
    "\n",
    "        # Convert observation to a torch tensor\n",
    "        x = torch.from_numpy(observation).float().to(device)\n",
    "\n",
    "        # TODO: Task 1: Calculate action and its log_prob\n",
    "        ########## Your code starts here. ###########\n",
    "        # Hint: \n",
    "        #   1. when evaluation=True, return mean, otherwise return samples from the distribution created in self.policy.forward() function.\n",
    "        #   2. notice the shape of action and act_logprob.\n",
    "        \n",
    "        # Pass state x through the policy network (T1)\n",
    "        dist = self.policy(x)\n",
    "        # Return mean if evaluation, else sample from the distribution\n",
    "        if evaluation:\n",
    "            action = dist.mean\n",
    "        else:   \n",
    "            action = dist.sample()\n",
    "\n",
    "        # Calculate the log probability of the action (T1)\n",
    "        act_logprob = dist.log_prob(action).sum(axis=-1)\n",
    "        ########## Your code ends here. ##########\n",
    "        \n",
    "        if observation.ndim == 1: \n",
    "            action = action[0]\n",
    "\n",
    "        return action, act_logprob"
   ]
  },
  {
   "cell_type": "markdown",
   "id": "61981975",
   "metadata": {},
   "source": [
    "<a id='T1a'></a>\n",
    "<div class=\" alert alert-warning\">\n",
    "    <h3><b>Student Task 1a.</b> Basic REINFORCE without baseline (15 points) </h3> \n",
    "The training performance plot might look like Figure 1a. \n",
    "    <figure style=\"text-align: center\">\n",
    "    <img src=\"imgs/PGNoBase.svg\" width=\"600px\">\n",
    "    <figcaption style=\"text-align: center\"> Figure 1a: REINFORCE without baseline. </figcaption>\n",
    "    </figure>\n",
    "    \n",
    "🔝\t<a href='#TOC'><b>Table of Contents</b></a>\n",
    "</div>\n"
   ]
  },
  {
   "cell_type": "code",
   "execution_count": 121,
   "id": "e164da7c",
   "metadata": {
    "tags": []
   },
   "outputs": [],
   "source": [
    "class PGNoBase(PG):\n",
    "    def __init__(self, state_dim, action_dim, lr, gamma):\n",
    "        super().__init__(state_dim, action_dim, lr, gamma)\n",
    "\n",
    "    # TODO: Task 1: Implement the policy gradient\n",
    "    # Complete the following 2 functions\n",
    "    # Hints:\n",
    "    #   1. compute discounted rewards (use the discount_rewards function offered in common.helper)\n",
    "    #   2. compute the policy gradient loss\n",
    "\n",
    "    # Compute discounted rewards \n",
    "    def calculate_discounted_rewards(self, rewards):\n",
    "        ########## Your code starts here. ##########\n",
    "        discounted_rewards = u.discount_rewards(rewards, self.gamma)\n",
    "        ########## Your code ends here. ##########\n",
    "        return discounted_rewards\n",
    "\n",
    "    # Calculate the PG loss\n",
    "    def calculate_loss(self, action_probs, discounted_rewards):\n",
    "        ########## Your code starts here. ##########\n",
    "        loss = -torch.mean(action_probs * discounted_rewards)\n",
    "        ########## Your code ends here. ##########\n",
    "        return loss\n",
    "    \n",
    "    def update(self):\n",
    "        # Prepare dataset used to update policy\n",
    "        action_probs = torch.stack(self.action_probs, dim=0).to(device).squeeze(-1) # shape: [batch_size,]\n",
    "        rewards = torch.stack(self.rewards, dim=0).to(device).squeeze(-1) # shape [batch_size,]\n",
    "        self.action_probs, self.rewards = [], [] # clean buffers\n",
    "        \n",
    "        # Task 1: Implement the policy gradient\n",
    "        \n",
    "        # Compute discounted rewards \n",
    "        discounted_rewards = self.calculate_discounted_rewards(rewards)\n",
    "\n",
    "        # Calculate the PG loss\n",
    "        loss = self.calculate_loss(action_probs, discounted_rewards)\n",
    "       \n",
    "        # Backprop gradients\n",
    "        loss.backward()  \n",
    "\n",
    "        # Do the optimizer step \n",
    "        self.optimizer.step() \n",
    "        self.optimizer.zero_grad() \n",
    "\n",
    "        # if you want to log something in wandb, you can put them inside the {}, otherwise, just leave it empty.\n",
    "        return {'logstd': self.policy.actor_logstd.cpu().detach().numpy()}"
   ]
  },
  {
   "cell_type": "code",
   "execution_count": 122,
   "id": "63656ac2",
   "metadata": {
    "deletable": false,
    "editable": false,
    "nbgrader": {
     "cell_type": "code",
     "checksum": "58227601cec76e5daee3bee9f5cb8f0c",
     "grade": true,
     "grade_id": "cell-170a359e31be5be6",
     "locked": true,
     "points": 0,
     "schema_version": 3,
     "solution": false,
     "task": false
    }
   },
   "outputs": [
    {
     "name": "stdout",
     "output_type": "stream",
     "text": [
      "Numpy/Torch/Random Seed:  43\n"
     ]
    }
   ],
   "source": [
    "%%capture --no-stdout\n",
    "\"TEST CELL\"\n",
    "#Test get_action method\n",
    "def test_get_action_1():\n",
    "    cfg_path=Path().cwd()/'cfg'/'inverted_pendulum.yaml'\n",
    "    env, cfg = setup(cfg_path, cfg_args={\"model_name\":\"PG\",\"seed\": 43})\n",
    "    state_dim = env.observation_space.shape[0]\n",
    "    action_dim = env.action_space.shape[0]\n",
    "    agent = PG(state_dim, action_dim, float(cfg.lr), float(cfg.gamma))\n",
    "    obs = np.array( [0.00565713,  0.00385536, -0.09085017,  0.20961052] )\n",
    "    action = -0.0009746950818225741\n",
    "    assert np.allclose(agent.get_action(obs,True)[0].item(),action,0.001)\n",
    "    \n",
    "    agent2 = PG(state_dim, 3, float(cfg.lr), float(cfg.gamma))\n",
    "    assert tuple(agent2.get_action(obs,True)[1].shape) == (1,)\n",
    "\n",
    "test_get_action_1()"
   ]
  },
  {
   "cell_type": "code",
   "execution_count": 123,
   "id": "d27e7ee9",
   "metadata": {
    "deletable": false,
    "editable": false,
    "nbgrader": {
     "cell_type": "code",
     "checksum": "5e264785d47b98f7c755dac88b8a7a3d",
     "grade": true,
     "grade_id": "cell-01beb3c8be62ffc0",
     "locked": true,
     "points": 10,
     "schema_version": 3,
     "solution": false,
     "task": false
    }
   },
   "outputs": [],
   "source": [
    "%%capture --no-stdout\n",
    "\"TEST CELL\""
   ]
  },
  {
   "cell_type": "code",
   "execution_count": 124,
   "id": "2f72fee2",
   "metadata": {
    "tags": []
   },
   "outputs": [
    {
     "name": "stdout",
     "output_type": "stream",
     "text": [
      "Numpy/Torch/Random Seed:  409\n",
      "{'ep': 0, 'logstd': array([0.], dtype=float32), 'timesteps': 5, 'ep_reward': 5.0, 'episodes': 0}\n",
      "{'ep': 100, 'logstd': array([0.], dtype=float32), 'timesteps': 58, 'ep_reward': 58.0, 'episodes': 100}\n",
      "{'ep': 200, 'logstd': array([0.], dtype=float32), 'timesteps': 13, 'ep_reward': 13.0, 'episodes': 200}\n",
      "{'ep': 300, 'logstd': array([0.], dtype=float32), 'timesteps': 53, 'ep_reward': 53.0, 'episodes': 300}\n",
      "{'ep': 400, 'logstd': array([0.], dtype=float32), 'timesteps': 55, 'ep_reward': 55.0, 'episodes': 400}\n",
      "{'ep': 500, 'logstd': array([0.], dtype=float32), 'timesteps': 69, 'ep_reward': 69.0, 'episodes': 500}\n",
      "{'ep': 600, 'logstd': array([0.], dtype=float32), 'timesteps': 227, 'ep_reward': 227.0, 'episodes': 600}\n",
      "{'ep': 700, 'logstd': array([0.], dtype=float32), 'timesteps': 181, 'ep_reward': 181.0, 'episodes': 700}\n",
      "{'ep': 800, 'logstd': array([0.], dtype=float32), 'timesteps': 1000, 'ep_reward': 1000.0, 'episodes': 800}\n",
      "{'ep': 900, 'logstd': array([0.], dtype=float32), 'timesteps': 16, 'ep_reward': 16.0, 'episodes': 900}\n"
     ]
    },
    {
     "data": {
      "image/png": "[encoded data removed]",
      "text/plain": [
       "<Figure size 450x350 with 1 Axes>"
      ]
     },
     "metadata": {},
     "output_type": "display_data"
    },
    {
     "name": "stdout",
     "output_type": "stream",
     "text": [
      "Training complete!\n"
     ]
    }
   ],
   "source": [
    "if not skip_training:\n",
    "    train(PGNoBase, cfg_path=Path().cwd() / 'cfg' / 'inverted_pendulum.yaml', cfg_args=dict(model_name=\"PGNoBase\")) # < 7 mins"
   ]
  },
  {
   "cell_type": "code",
   "execution_count": 125,
   "id": "09ab5a2e",
   "metadata": {
    "tags": []
   },
   "outputs": [
    {
     "name": "stdout",
     "output_type": "stream",
     "text": [
      "Numpy/Torch/Random Seed:  409\n",
      "Loading model from c:\\Users\\arnau\\Uni\\Master\\2A_Aalto\\RL\\reinforcement-learning\\ex5\\results\\InvertedPendulum-v4\\model\\PGNoBase_params.pt ...\n",
      "Test ep_reward: 1000.0\n",
      "Test ep_reward: 1000.0\n",
      "Test ep_reward: 1000.0\n",
      "Test ep_reward: 1000.0\n",
      "Test ep_reward: 1000.0\n",
      "Test ep_reward: 1000.0\n",
      "Test ep_reward: 1000.0\n",
      "Test ep_reward: 1000.0\n",
      "Test ep_reward: 1000.0\n",
      "Test ep_reward: 1000.0\n",
      "Median test reward: 1000.0\n"
     ]
    }
   ],
   "source": [
    "if not skip_training:\n",
    "    test(PGNoBase, cfg_path=Path().cwd() / 'cfg' / 'inverted_pendulum.yaml', cfg_args=dict(model_name=\"PGNoBase\", save_video=True, testing=True)) "
   ]
  },
  {
   "cell_type": "code",
   "execution_count": null,
   "id": "2714f3db",
   "metadata": {
    "deletable": false,
    "editable": false,
    "nbgrader": {
     "cell_type": "code",
     "checksum": "6c2e40d8dc91bbf04c0c774bcec4807f",
     "grade": true,
     "grade_id": "cell-88ff36aa060ed0d0",
     "locked": true,
     "points": 1,
     "schema_version": 3,
     "solution": false,
     "task": false
    }
   },
   "outputs": [],
   "source": []
  },
  {
   "cell_type": "code",
   "execution_count": 126,
   "id": "e5178279",
   "metadata": {
    "deletable": false,
    "editable": false,
    "nbgrader": {
     "cell_type": "code",
     "checksum": "f1773f5d1773107777dffbcfb71019cf",
     "grade": true,
     "grade_id": "cell-9efc8886a62a7f68",
     "locked": true,
     "points": 2,
     "schema_version": 3,
     "solution": false,
     "task": false
    }
   },
   "outputs": [
    {
     "name": "stdout",
     "output_type": "stream",
     "text": [
      "Numpy/Torch/Random Seed:  43\n"
     ]
    }
   ],
   "source": [
    "%%capture --no-stdout\n",
    "\"TEST CELL\"\n",
    "def test_pgnobase_update_1():\n",
    "    agent_class = PGNoBase\n",
    "    cfg_path=Path().cwd() / 'cfg' / 'inverted_pendulum.yaml'\n",
    "    cfg_args=dict(model_name=\"PGNoBase\", seed=43)\n",
    "    env, cfg = setup(cfg_path, cfg_args=cfg_args)\n",
    "\n",
    "    state_dim = env.observation_space.shape[0]\n",
    "    action_dim = env.action_space.shape[0]\n",
    "\n",
    "    agent = agent_class(state_dim, action_dim, float(cfg.lr), float(cfg.gamma))\n",
    "\n",
    "    test_reward = torch.Tensor([1., 1., 1., 1., 1., 1., 1., 1.])\n",
    "    test_action_prob = torch.Tensor([-2.4205, -2.1635, -1.2791, -1.2655, -0.9205, -0.9366, -4.9679, -2.1623])\n",
    "    test_discounted_reward = torch.Tensor([7.7255, 6.7935, 5.8520, 4.9010, 3.9404, 2.9701, 1.9900, 1.0000])\n",
    "\n",
    "    assert torch.allclose(agent.calculate_discounted_rewards(test_reward), test_discounted_reward, 0.001)\n",
    "    assert torch.allclose(agent.calculate_loss(test_action_prob, test_discounted_reward), torch.tensor(8.1928), 0.001)\n",
    "\n",
    "test_pgnobase_update_1()"
   ]
  },
  {
   "cell_type": "code",
   "execution_count": 127,
   "id": "3a39f4ea",
   "metadata": {
    "deletable": false,
    "editable": false,
    "nbgrader": {
     "cell_type": "code",
     "checksum": "a71971cc15d36173098a756d78fa1f2e",
     "grade": true,
     "grade_id": "cell-327283bf9249663a",
     "locked": true,
     "points": 2,
     "schema_version": 3,
     "solution": false,
     "task": false
    }
   },
   "outputs": [],
   "source": [
    "%%capture --no-stdout\n",
    "\"TEST CELL\""
   ]
  },
  {
   "cell_type": "code",
   "execution_count": 128,
   "id": "8ff999fb",
   "metadata": {},
   "outputs": [
    {
     "data": {
      "text/html": [
       "<video loop autoplay  >\n",
       " <source src=\"data:video/mp4;base64,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\" type=\"video/mp4\">\n",
       " Your browser does not support the video tag.\n",
       " </video>"
      ],
      "text/plain": [
       "<IPython.core.display.Video object>"
      ]
     },
     "metadata": {},
     "output_type": "display_data"
    }
   ],
   "source": [
    "if not skip_training:\n",
    "      video = Video(Path().cwd()/'results'/'InvertedPendulum-v4'/'video'/'test'/'ex5-episode-5.mp4',\n",
    "      embed=True, html_attributes=\"loop autoplay\") # Set html_attributes=\"controls\" for video control\n",
    "      display(video)"
   ]
  },
  {
   "cell_type": "code",
   "execution_count": 129,
   "id": "e39a2410-d8ea-4e1f-b10a-e112816124e7",
   "metadata": {
    "tags": []
   },
   "outputs": [
    {
     "data": {
      "text/html": [
       "<video loop autoplay  >\n",
       " <source src=\"data:video/mp4;base64,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\" type=\"video/mp4\">\n",
       " Your browser does not support the video tag.\n",
       " </video>"
      ],
      "text/plain": [
       "<IPython.core.display.Video object>"
      ]
     },
     "metadata": {},
     "output_type": "display_data"
    }
   ],
   "source": [
    "if not skip_training:\n",
    "      video = Video(Path().cwd()/'results'/'InvertedPendulum-v4'/'video'/'test'/'ex5-episode-0.mp4',\n",
    "      embed=True, html_attributes=\"loop autoplay\") # Set html_attributes=\"controls\" for video control\n",
    "      display(video)"
   ]
  },
  {
   "cell_type": "markdown",
   "id": "ea079dc7",
   "metadata": {},
   "source": [
    "<a id='T1b'></a>\n",
    "<div class=\" alert alert-warning\">\n",
    "    <h3><b>Student Task 1b.</b> REINFORCE with a constant baseline b = 20 (5 points) </h3> \n",
    "    The training performance plot might look like Figure 1b.\n",
    "    <figure style=\"text-align: center\" id=\"figure-1b\">\n",
    "        <img src=\"imgs/PGBase20.svg\" width=\"600px\">\n",
    "        <figcaption style=\"text-align: center\"> Figure 1b: REINFORCE with a constant baseline 20. </figcaption>\n",
    "    </figure>\n",
    "    \n",
    "🔝 <a href='#TOC'><b>Table of Contents</b></a>\n",
    "</div>\n",
    "\n"
   ]
  },
  {
   "cell_type": "code",
   "execution_count": 132,
   "id": "3c57e167",
   "metadata": {
    "tags": []
   },
   "outputs": [],
   "source": [
    "class PGBase20(PG):\n",
    "    def __init__(self, state_dim, action_dim, lr, gamma):\n",
    "        super().__init__(state_dim, action_dim, lr, gamma)\n",
    "\n",
    "    # TODO: Task 1: Implement the policy gradient\n",
    "    # Complete the following 2 functions\n",
    "    # Hints:\n",
    "    #   1. compute discounted rewards (use the discount_rewards function offered in common.helper)\n",
    "    #   2. compute the policy gradient loss with the baseline\n",
    "    \n",
    "    # Compute discounted rewards \n",
    "    def calculate_discounted_rewards(self, rewards):\n",
    "        ########## Your code starts here. ##########\n",
    "        discounted_rewards = u.discount_rewards(rewards, self.gamma)\n",
    "        ########## Your code ends here. ##########\n",
    "        return discounted_rewards\n",
    "\n",
    "    # Calculate the PG loss with the baseline\n",
    "    def calculate_loss(self, action_probs, discounted_rewards):\n",
    "        ########## Your code starts here. ##########\n",
    "        b = 20\n",
    "        adjusted_rewards = discounted_rewards - b\n",
    "\n",
    "        loss = -torch.mean(action_probs * adjusted_rewards)\n",
    "        ########## Your code ends here. ##########\n",
    "        return loss\n",
    "\n",
    "    def update(self):\n",
    "        # Prepare dataset used to update policy\n",
    "        action_probs = torch.stack(self.action_probs, dim=0).to(device).squeeze(-1) # shape: [batch_size,]\n",
    "        rewards = torch.stack(self.rewards, dim=0).to(device).squeeze(-1) # shape [batch_size,]\n",
    "        self.action_probs, self.rewards = [], [] # clean buffers\n",
    "        \n",
    "        # TODO: Task 1: Implement the policy gradient\n",
    "\n",
    "        # Compute discounted rewards \n",
    "        discounted_rewards = self.calculate_discounted_rewards(rewards)\n",
    "        # Calculate the PG loss with the baseline\n",
    "        loss = self.calculate_loss(action_probs, discounted_rewards)\n",
    "        # Backprop gradients\n",
    "        loss.backward()\n",
    "        # Do the optimizer step\n",
    "        self.optimizer.step()\n",
    "        self.optimizer.zero_grad()\n",
    "\n",
    "        # if you want to log something in wandb, you can put them inside the {}, otherwise, just leave it empty.\n",
    "        return {'logstd': self.policy.actor_logstd.cpu().detach().numpy()}"
   ]
  },
  {
   "cell_type": "code",
   "execution_count": 133,
   "id": "8aa4d283",
   "metadata": {
    "tags": []
   },
   "outputs": [
    {
     "name": "stdout",
     "output_type": "stream",
     "text": [
      "Numpy/Torch/Random Seed:  409\n",
      "{'ep': 0, 'logstd': array([0.], dtype=float32), 'timesteps': 5, 'ep_reward': 5.0, 'episodes': 0}\n",
      "{'ep': 100, 'logstd': array([0.], dtype=float32), 'timesteps': 50, 'ep_reward': 50.0, 'episodes': 100}\n",
      "{'ep': 200, 'logstd': array([0.], dtype=float32), 'timesteps': 52, 'ep_reward': 52.0, 'episodes': 200}\n",
      "{'ep': 300, 'logstd': array([0.], dtype=float32), 'timesteps': 133, 'ep_reward': 133.0, 'episodes': 300}\n",
      "{'ep': 400, 'logstd': array([0.], dtype=float32), 'timesteps': 1000, 'ep_reward': 1000.0, 'episodes': 400}\n",
      "{'ep': 500, 'logstd': array([0.], dtype=float32), 'timesteps': 32, 'ep_reward': 32.0, 'episodes': 500}\n",
      "{'ep': 600, 'logstd': array([0.], dtype=float32), 'timesteps': 1000, 'ep_reward': 1000.0, 'episodes': 600}\n",
      "{'ep': 700, 'logstd': array([0.], dtype=float32), 'timesteps': 1000, 'ep_reward': 1000.0, 'episodes': 700}\n",
      "{'ep': 800, 'logstd': array([0.], dtype=float32), 'timesteps': 259, 'ep_reward': 259.0, 'episodes': 800}\n",
      "{'ep': 900, 'logstd': array([0.], dtype=float32), 'timesteps': 1000, 'ep_reward': 1000.0, 'episodes': 900}\n"
     ]
    },
    {
     "data": {
      "image/png": "[encoded data removed]",
      "text/plain": [
       "<Figure size 450x350 with 1 Axes>"
      ]
     },
     "metadata": {},
     "output_type": "display_data"
    },
    {
     "name": "stdout",
     "output_type": "stream",
     "text": [
      "Training complete!\n"
     ]
    }
   ],
   "source": [
    "if not skip_training:\n",
    "    train(PGBase20, cfg_path=Path().cwd() / 'cfg' / 'inverted_pendulum.yaml', cfg_args=dict(model_name=\"PGBase20\")) # < 7 mins"
   ]
  },
  {
   "cell_type": "code",
   "execution_count": 134,
   "id": "48f26f40-49c9-48f3-8543-cae81be8185f",
   "metadata": {
    "tags": []
   },
   "outputs": [
    {
     "name": "stdout",
     "output_type": "stream",
     "text": [
      "Numpy/Torch/Random Seed:  409\n",
      "Loading model from c:\\Users\\arnau\\Uni\\Master\\2A_Aalto\\RL\\reinforcement-learning\\ex5\\results\\InvertedPendulum-v4\\model\\PGBase20_params.pt ...\n",
      "Test ep_reward: 1000.0\n",
      "Test ep_reward: 1000.0\n",
      "Test ep_reward: 1000.0\n",
      "Test ep_reward: 1000.0\n",
      "Test ep_reward: 1000.0\n",
      "Test ep_reward: 1000.0\n",
      "Test ep_reward: 1000.0\n",
      "Test ep_reward: 1000.0\n",
      "Test ep_reward: 1000.0\n",
      "Test ep_reward: 1000.0\n",
      "Median test reward: 1000.0\n"
     ]
    }
   ],
   "source": [
    "if not skip_training:\n",
    "    test(PGBase20, cfg_path=Path().cwd() / 'cfg' / 'inverted_pendulum.yaml', cfg_args=dict(model_name=\"PGBase20\", save_video=True, testing=True)) "
   ]
  },
  {
   "cell_type": "code",
   "execution_count": null,
   "id": "af4ac907",
   "metadata": {
    "deletable": false,
    "editable": false,
    "nbgrader": {
     "cell_type": "code",
     "checksum": "e67902311730193101e4741111bbf0b2",
     "grade": true,
     "grade_id": "cell-62d1b98f11dcd94b",
     "locked": true,
     "points": 1,
     "schema_version": 3,
     "solution": false,
     "task": false
    }
   },
   "outputs": [],
   "source": []
  },
  {
   "cell_type": "code",
   "execution_count": 135,
   "id": "6074d987",
   "metadata": {
    "deletable": false,
    "editable": false,
    "nbgrader": {
     "cell_type": "code",
     "checksum": "11f6f2b5baa3638d6d0deedc0eee29fe",
     "grade": true,
     "grade_id": "cell-3bcb1eace5908e1d",
     "locked": true,
     "points": 2,
     "schema_version": 3,
     "solution": false,
     "task": false
    }
   },
   "outputs": [
    {
     "name": "stdout",
     "output_type": "stream",
     "text": [
      "Numpy/Torch/Random Seed:  43\n"
     ]
    }
   ],
   "source": [
    "%%capture --no-stdout\n",
    "\"TEST CELL\"\n",
    "def test_pgbase20_update_1():\n",
    "    \n",
    "    agent_class = PGBase20\n",
    "    cfg_path=Path().cwd() / 'cfg' / 'inverted_pendulum.yaml'\n",
    "    cfg_args=dict(model_name=\"PGBase20\", seed=43)\n",
    "    env, cfg = setup(cfg_path, cfg_args=cfg_args)\n",
    "\n",
    "    state_dim = env.observation_space.shape[0]\n",
    "    action_dim = env.action_space.shape[0]\n",
    "\n",
    "    agent = agent_class(state_dim, action_dim, float(cfg.lr), float(cfg.gamma))\n",
    "\n",
    "    test_reward = torch.Tensor([1., 1., 1., 1., 1., 1., 1., 1.])\n",
    "    test_action_prob = torch.Tensor([-2.4205, -2.1635, -1.2791, -1.2655, -0.9205, -0.9366, -4.9679, -2.1623])\n",
    "    test_discounted_reward = torch.Tensor([7.7255, 6.7935, 5.8520, 4.9010, 3.9404, 2.9701, 1.9900, 1.0000])\n",
    "\n",
    "    assert torch.allclose(agent.calculate_discounted_rewards(test_reward), test_discounted_reward, 0.001)\n",
    "    assert torch.allclose(agent.calculate_loss(test_action_prob, test_discounted_reward), torch.tensor(-32.0970), 0.001)\n",
    "\n",
    "test_pgbase20_update_1()"
   ]
  },
  {
   "cell_type": "code",
   "execution_count": 136,
   "id": "42de046f",
   "metadata": {
    "deletable": false,
    "editable": false,
    "nbgrader": {
     "cell_type": "code",
     "checksum": "bd3eaf1021b2d35e4bac9eb0a6515439",
     "grade": true,
     "grade_id": "cell-7c3853783c05c900",
     "locked": true,
     "points": 2,
     "schema_version": 3,
     "solution": false,
     "task": false
    }
   },
   "outputs": [],
   "source": [
    "%%capture --no-stdout\n",
    "\"TEST CELL\""
   ]
  },
  {
   "cell_type": "code",
   "execution_count": 137,
   "id": "a434d9ef-523c-482a-a2e8-441ac66e15e5",
   "metadata": {
    "tags": []
   },
   "outputs": [
    {
     "data": {
      "text/html": [
       "<video loop autoplay  >\n",
       " <source src=\"data:video/mp4;base64,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\" type=\"video/mp4\">\n",
       " Your browser does not support the video tag.\n",
       " </video>"
      ],
      "text/plain": [
       "<IPython.core.display.Video object>"
      ]
     },
     "metadata": {},
     "output_type": "display_data"
    }
   ],
   "source": [
    "if not skip_training:\n",
    "      video = Video(Path().cwd() / 'results' / 'InvertedPendulum-v4' / 'video' / 'test' / 'ex5-episode-0.mp4',\n",
    "      embed=True, html_attributes=\"loop autoplay\") # Set html_attributes=\"controls\" for video control\n",
    "      display(video)"
   ]
  },
  {
   "cell_type": "markdown",
   "id": "e31c7d2e",
   "metadata": {
    "tags": []
   },
   "source": [
    "<a id='T1c'></a>\n",
    "<div class=\" alert alert-warning\">\n",
    "    <h3><b>Student Task 1c.</b> REINFORCE with discounted rewards normalized to zero mean and unit variance (5 points) </h3> \n",
    "    The training performance plot might look like Figure 1c. \n",
    "    <figure style=\"text-align: center\" id=\"figure-1c\">\n",
    "        <img src=\"imgs/PGGamma.svg\" width=\"600px\">\n",
    "        <figcaption style=\"text-align: center\"> Figure 1c: REINFORCE with discounted rewards normalized to zero mean and unit variance. </figcaption>\n",
    "    </figure>\n",
    "    \n",
    "🔝 <a href='#TOC'><b>Table of Contents</b></a>\n",
    "</div>\n",
    "\n"
   ]
  },
  {
   "cell_type": "code",
   "execution_count": 138,
   "id": "d76bcc3c",
   "metadata": {
    "tags": []
   },
   "outputs": [],
   "source": [
    "class PGNormalized(PG):\n",
    "    def __init__(self, state_dim, action_dim, lr, gamma):\n",
    "        super().__init__(state_dim, action_dim, lr, gamma)\n",
    "\n",
    "    # TODO: Task 1: Implement the policy gradient\n",
    "    # Complete the following 2 functions\n",
    "    # Hints:\n",
    "    #   1. compute discounted rewards (use the discount_rewards function offered in utils.py)\n",
    "    #   2. compute the policy gradient loss\n",
    "    \n",
    "    # Compute discounted rewards \n",
    "    def calculate_discounted_rewards(self, rewards):\n",
    "        ########## Your code starts here. ##########\n",
    "        discounted_rewards = u.discount_rewards(rewards, self.gamma)\n",
    "        ########## Your code ends here. ##########\n",
    "        return discounted_rewards\n",
    "\n",
    "    # Calculate the PG loss with the baseline\n",
    "    def calculate_loss(self, action_probs, discounted_rewards):\n",
    "        ########## Your code starts here. ##########\n",
    "        discounted_rewards = (discounted_rewards - discounted_rewards.mean()) / (discounted_rewards.std() + 1e-8)\n",
    "\n",
    "        loss = -torch.mean(action_probs * discounted_rewards)\n",
    "        ########## Your code ends here. ##########\n",
    "        return loss\n",
    "\n",
    "\n",
    "\n",
    "    def update(self):\n",
    "        # Prepare dataset used to update policy\n",
    "        action_probs = torch.stack(self.action_probs, dim=0).to(device).squeeze(-1) # shape: [batch_size,]\n",
    "        rewards = torch.stack(self.rewards, dim=0).to(device).squeeze(-1) # shape [batch_size,]\n",
    "        self.action_probs, self.rewards = [], [] # clean buffers\n",
    "        \n",
    "        # TODO: Task 1: Implement the policy gradient\n",
    "        \n",
    "        # Compute discounted rewards and normalize them\n",
    "        discounted_rewards = self.calculate_discounted_rewards(rewards)\n",
    "        # Calculate the PG loss\n",
    "        loss = self.calculate_loss(action_probs, discounted_rewards)\n",
    "        # Backprop gradients\n",
    "        loss.backward()\n",
    "        # Do the optimizer step\n",
    "        self.optimizer.step()\n",
    "        self.optimizer.zero_grad()    \n",
    "\n",
    "        # if you want to log something in wandb, you can put them inside the {}, otherwise, just leave it empty.\n",
    "        return {'logstd': self.policy.actor_logstd.cpu().detach().numpy()}"
   ]
  },
  {
   "cell_type": "code",
   "execution_count": 139,
   "id": "8e236519-8afb-4ec7-ba87-3181bf822576",
   "metadata": {
    "tags": []
   },
   "outputs": [
    {
     "name": "stdout",
     "output_type": "stream",
     "text": [
      "Numpy/Torch/Random Seed:  409\n",
      "{'ep': 0, 'logstd': array([0.], dtype=float32), 'timesteps': 5, 'ep_reward': 5.0, 'episodes': 0}\n",
      "{'ep': 100, 'logstd': array([0.], dtype=float32), 'timesteps': 77, 'ep_reward': 77.0, 'episodes': 100}\n",
      "{'ep': 200, 'logstd': array([0.], dtype=float32), 'timesteps': 154, 'ep_reward': 154.0, 'episodes': 200}\n",
      "{'ep': 300, 'logstd': array([0.], dtype=float32), 'timesteps': 1000, 'ep_reward': 1000.0, 'episodes': 300}\n",
      "{'ep': 400, 'logstd': array([0.], dtype=float32), 'timesteps': 1000, 'ep_reward': 1000.0, 'episodes': 400}\n",
      "{'ep': 500, 'logstd': array([0.], dtype=float32), 'timesteps': 1000, 'ep_reward': 1000.0, 'episodes': 500}\n",
      "{'ep': 600, 'logstd': array([0.], dtype=float32), 'timesteps': 514, 'ep_reward': 514.0, 'episodes': 600}\n",
      "{'ep': 700, 'logstd': array([0.], dtype=float32), 'timesteps': 1000, 'ep_reward': 1000.0, 'episodes': 700}\n",
      "{'ep': 800, 'logstd': array([0.], dtype=float32), 'timesteps': 1000, 'ep_reward': 1000.0, 'episodes': 800}\n",
      "{'ep': 900, 'logstd': array([0.], dtype=float32), 'timesteps': 1000, 'ep_reward': 1000.0, 'episodes': 900}\n"
     ]
    },
    {
     "data": {
      "image/png": "[encoded data removed]",
      "text/plain": [
       "<Figure size 450x350 with 1 Axes>"
      ]
     },
     "metadata": {},
     "output_type": "display_data"
    },
    {
     "name": "stdout",
     "output_type": "stream",
     "text": [
      "Training complete!\n"
     ]
    }
   ],
   "source": [
    "if not skip_training:\n",
    "    train(PGNormalized, cfg_path=Path().cwd() / 'cfg' / 'inverted_pendulum.yaml', cfg_args=dict(model_name=\"PGNormalized\")) # < 10 mins"
   ]
  },
  {
   "cell_type": "code",
   "execution_count": 140,
   "id": "9aab775f-bc7e-475f-ac41-7bbf0227bc1a",
   "metadata": {
    "tags": []
   },
   "outputs": [
    {
     "name": "stdout",
     "output_type": "stream",
     "text": [
      "Numpy/Torch/Random Seed:  409\n",
      "Loading model from c:\\Users\\arnau\\Uni\\Master\\2A_Aalto\\RL\\reinforcement-learning\\ex5\\results\\InvertedPendulum-v4\\model\\PGNormalized_params.pt ...\n",
      "Test ep_reward: 1000.0\n",
      "Test ep_reward: 1000.0\n",
      "Test ep_reward: 1000.0\n",
      "Test ep_reward: 1000.0\n",
      "Test ep_reward: 1000.0\n",
      "Test ep_reward: 1000.0\n",
      "Test ep_reward: 1000.0\n",
      "Test ep_reward: 1000.0\n",
      "Test ep_reward: 1000.0\n",
      "Test ep_reward: 1000.0\n",
      "Median test reward: 1000.0\n"
     ]
    }
   ],
   "source": [
    "if not skip_training:\n",
    "    test(PGNormalized, cfg_path=Path().cwd() / 'cfg' / 'inverted_pendulum.yaml', cfg_args=dict(model_name=\"PGNormalized\", save_video=True, testing=True))"
   ]
  },
  {
   "cell_type": "code",
   "execution_count": null,
   "id": "fc850792",
   "metadata": {
    "deletable": false,
    "editable": false,
    "nbgrader": {
     "cell_type": "code",
     "checksum": "c2419c79f89c4ca692b669552b27e124",
     "grade": true,
     "grade_id": "cell-03e739e487933e6e",
     "locked": true,
     "points": 1,
     "schema_version": 3,
     "solution": false,
     "task": false
    }
   },
   "outputs": [],
   "source": []
  },
  {
   "cell_type": "code",
   "execution_count": 141,
   "id": "ef8fb1c0",
   "metadata": {
    "deletable": false,
    "editable": false,
    "nbgrader": {
     "cell_type": "code",
     "checksum": "106d897f0caa69b7eb88435c2b1b3043",
     "grade": true,
     "grade_id": "cell-a90ba2f2bac40f9c",
     "locked": true,
     "points": 2,
     "schema_version": 3,
     "solution": false,
     "task": false
    }
   },
   "outputs": [
    {
     "name": "stdout",
     "output_type": "stream",
     "text": [
      "Numpy/Torch/Random Seed:  43\n"
     ]
    }
   ],
   "source": [
    "%%capture --no-stdout\n",
    "\"TEST CELL\"\n",
    "def test_pgnormalized_update_1():\n",
    "    \n",
    "    agent_class = PGNormalized\n",
    "    cfg_path=Path().cwd() / 'cfg' / 'inverted_pendulum.yaml'\n",
    "    cfg_args=dict(model_name=\"PGNormalized\", seed=43)\n",
    "    env, cfg = setup(cfg_path, cfg_args=cfg_args)\n",
    "\n",
    "    state_dim = env.observation_space.shape[0]\n",
    "    action_dim = env.action_space.shape[0]\n",
    "\n",
    "    agent = agent_class(state_dim, action_dim, float(cfg.lr), float(cfg.gamma))\n",
    "\n",
    "    test_reward = torch.Tensor([1., 1., 1., 1., 1., 1., 1., 1.])\n",
    "    test_action_prob = torch.Tensor([-2.4205, -2.1635, -1.2791, -1.2655, -0.9205, -0.9366, -4.9679, -2.1623])\n",
    "    test_discounted_reward = torch.Tensor([7.7255, 6.7935, 5.8520, 4.9010, 3.9404, 2.9701, 1.9900, 1.0000])\n",
    "\n",
    "    assert torch.allclose(agent.calculate_discounted_rewards(test_reward), test_discounted_reward, 0.001)\n",
    "    assert torch.allclose(agent.calculate_loss(test_action_prob, test_discounted_reward), torch.tensor(-0.2822), 0.001)\n",
    "\n",
    "test_pgnormalized_update_1()"
   ]
  },
  {
   "cell_type": "code",
   "execution_count": 142,
   "id": "b36fae08",
   "metadata": {
    "deletable": false,
    "editable": false,
    "nbgrader": {
     "cell_type": "code",
     "checksum": "8d2fb6c9e677aa86435b3c7b06302512",
     "grade": true,
     "grade_id": "cell-a4862f110550460f",
     "locked": true,
     "points": 2,
     "schema_version": 3,
     "solution": false,
     "task": false
    }
   },
   "outputs": [],
   "source": [
    "%%capture --no-stdout\n",
    "\"TEST CELL\""
   ]
  },
  {
   "cell_type": "code",
   "execution_count": 143,
   "id": "9e3bbe30-5d8f-426d-9a76-806e6586a23b",
   "metadata": {
    "tags": []
   },
   "outputs": [
    {
     "data": {
      "text/html": [
       "<video loop autoplay  >\n",
       " <source src=\"data:video/mp4;base64,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\" type=\"video/mp4\">\n",
       " Your browser does not support the video tag.\n",
       " </video>"
      ],
      "text/plain": [
       "<IPython.core.display.Video object>"
      ]
     },
     "metadata": {},
     "output_type": "display_data"
    }
   ],
   "source": [
    "if not skip_training:\n",
    "      video = Video(Path().cwd() / 'results' / 'InvertedPendulum-v4' / 'video' / 'test' / 'ex5-episode-0.mp4',\n",
    "      embed=True, html_attributes=\"loop autoplay\") # Set html_attributes=\"controls\" for video control\n",
    "      display(video)"
   ]
  },
  {
   "cell_type": "markdown",
   "id": "f856d17c",
   "metadata": {
    "deletable": false,
    "editable": false,
    "nbgrader": {
     "cell_type": "markdown",
     "checksum": "5344618e774be27b6e56107827fe9e38",
     "grade": false,
     "grade_id": "cell-970e68431aa3a7cd",
     "locked": true,
     "schema_version": 3,
     "solution": false,
     "task": false
    },
    "tags": []
   },
   "source": [
    "<a id='Q1'></a>\n",
    "<div class=\" alert alert-warning\">\n",
    "    <h3><b>Student Question 1.1</b> A good baseline (15 points) </h3> \n",
    "\n",
    "Which of the following statements correctly describe how to choose a good baseline and why it makes training more stable? **Select 5 options.**\n",
    "            \n",
    "🔝\t<a href='#TOC'><b>Table of Contents</b></a>\n",
    "</div>"
   ]
  },
  {
   "cell_type": "markdown",
   "id": "0c46c994-d93c-4188-adef-ef82dabe437c",
   "metadata": {
    "deletable": false,
    "editable": false,
    "nbgrader": {
     "cell_type": "markdown",
     "checksum": "b1eed5810b36c7aaf8e100f5b08c77b2",
     "grade": false,
     "grade_id": "cell-cfe2a992cab77b22",
     "locked": true,
     "schema_version": 3,
     "solution": false,
     "task": false
    },
    "tags": []
   },
   "source": [
    "Options:\n",
    "\n",
    "1. A good baseline doesn't affect the expectation (doesn't introduce bias) but reduces variance of the estimated gradients. \n",
    "2. The baseline should be dependent on both the state and the action to provide the most accurate estimates.\n",
    "3. The optimal baseline can be theoretically derived, but it is too expensive to calculate in practice. \n",
    "4.  A good baseline should be a constant value to ensure consistency across all states. \n",
    "5.  The lower variance estimates lead to more stable training. \n",
    "6.  A good choice of baseline is an estimate of the state value, or the empirical mean (when doing Monte Carlo roll-outs). \n",
    "7.  The idea with both is that we increase the probability of actions that lead to higher returns than what our current estimate of the expected return is. \n",
    "8.  A proper baseline eliminates the need for exploration in reinforcement learning algorithms. \n",
    "9.  The choice of baseline has no impact on the convergence speed of the algorithm.\n"
   ]
  },
  {
   "cell_type": "code",
   "execution_count": 144,
   "id": "d71bb55e-e23e-48ee-b9d5-da004df72b27",
   "metadata": {},
   "outputs": [],
   "source": [
    "# Answer question 1.1 with appropriate option numbers\n",
    "sq1_1 = [1,3,5,6,7] "
   ]
  },
  {
   "cell_type": "markdown",
   "id": "89b0074d-e8b9-4106-9155-bcc44fafd967",
   "metadata": {},
   "source": [
    "The following cells are used for grading."
   ]
  },
  {
   "cell_type": "code",
   "execution_count": null,
   "id": "7c1438ee-92e4-4123-99ae-bd989bfe1b81",
   "metadata": {
    "deletable": false,
    "editable": false,
    "nbgrader": {
     "cell_type": "code",
     "checksum": "068bab37656d0f1f76a988a2d372cdbe",
     "grade": true,
     "grade_id": "cell-4710481b388d34ce",
     "locked": true,
     "points": 3,
     "schema_version": 3,
     "solution": false,
     "task": false
    },
    "tags": []
   },
   "outputs": [],
   "source": []
  },
  {
   "cell_type": "code",
   "execution_count": null,
   "id": "c385229f-7736-4fb2-92d4-c2c62d7ae1ac",
   "metadata": {
    "deletable": false,
    "editable": false,
    "nbgrader": {
     "cell_type": "code",
     "checksum": "5fcbf26c4ff358b5eaf69cab8b563bc5",
     "grade": true,
     "grade_id": "cell-fdd8262ca17746aa",
     "locked": true,
     "points": 3,
     "schema_version": 3,
     "solution": false,
     "task": false
    },
    "tags": []
   },
   "outputs": [],
   "source": []
  },
  {
   "cell_type": "code",
   "execution_count": null,
   "id": "431586b5-619b-43e8-9045-ad0f3f828b05",
   "metadata": {
    "deletable": false,
    "editable": false,
    "nbgrader": {
     "cell_type": "code",
     "checksum": "5c2bba5cef04af5c1c243114c256376d",
     "grade": true,
     "grade_id": "cell-a0a1d58190a1e0f1",
     "locked": true,
     "points": 3,
     "schema_version": 3,
     "solution": false,
     "task": false
    },
    "tags": []
   },
   "outputs": [],
   "source": []
  },
  {
   "cell_type": "code",
   "execution_count": null,
   "id": "6e1699f5-73ef-4eac-9a5a-17708c1d6ccd",
   "metadata": {
    "deletable": false,
    "editable": false,
    "nbgrader": {
     "cell_type": "code",
     "checksum": "c576e4932e49fe2c4cf243edd4035915",
     "grade": true,
     "grade_id": "cell-3343cc12855e6f15",
     "locked": true,
     "points": 3,
     "schema_version": 3,
     "solution": false,
     "task": false
    },
    "tags": []
   },
   "outputs": [],
   "source": []
  },
  {
   "cell_type": "code",
   "execution_count": null,
   "id": "3d789840-2b3e-4a5b-ba87-f9cc01adb538",
   "metadata": {
    "deletable": false,
    "editable": false,
    "nbgrader": {
     "cell_type": "code",
     "checksum": "1414b678f26986c875a98c0184021ba9",
     "grade": true,
     "grade_id": "cell-86090270df654ed6",
     "locked": true,
     "points": 3,
     "schema_version": 3,
     "solution": false,
     "task": false
    },
    "tags": []
   },
   "outputs": [],
   "source": []
  },
  {
   "cell_type": "markdown",
   "id": "bda4d734",
   "metadata": {},
   "source": [
    "# 3. Choosing the value of variance <a id='3.'></a>"
   ]
  },
  {
   "cell_type": "markdown",
   "id": "c34d6f9d",
   "metadata": {},
   "source": [
    "<a id='T2'></a>\n",
    "<div class=\" alert alert-warning\">\n",
    "    <h3><b>Student Task 2.</b> Making Variance a Learnable Parameter (10 points) </h3> \n",
    "\n",
    "Implement the policy’s variance as a learnable parameter of the network and update it during training. Set the initial value $\\sigma_0^2$ to 1. REINFORCE with normalized discounted returns is used for this task.\n",
    "\n",
    "**Complete the unfinished implementation in ```PolicyLearnedVar(nn.Module)``` class (marked with ```TODOs```)**. \n",
    "    \n",
    "    \n",
    "**Hint:** To make your learned variance automatically updated by the optimizer, declare your variable inside the ```__init__``` function of the model using ```torch.nn.Parameter(some_tensor)```. \n",
    "    \n",
    "🔝\t<a href='#TOC'><b>Table of Contents</b></a>\n",
    "</div>\n"
   ]
  },
  {
   "cell_type": "markdown",
   "id": "bbc8f47f",
   "metadata": {},
   "source": [
    "## 3.1 Policy with Learned Variance <a id='3.1'></a>"
   ]
  },
  {
   "cell_type": "code",
   "execution_count": 145,
   "id": "5f38d70b",
   "metadata": {
    "tags": []
   },
   "outputs": [],
   "source": [
    "# Initialisation function for neural network layers\n",
    "def layer_init(layer, std=np.sqrt(2), bias_const=0.0):\n",
    "    torch.nn.init.orthogonal_(layer.weight, std)\n",
    "    torch.nn.init.constant_(layer.bias, bias_const)\n",
    "    return layer\n",
    "\n",
    "\n",
    "# This class defines the neural network policy with learned variance\n",
    "class PolicyLearnedVar(nn.Module):\n",
    "    def __init__(self, state_dim, action_dim):\n",
    "        super(PolicyLearnedVar, self).__init__()\n",
    "\n",
    "        # Initialise a neural network with two hidden layers (64 neurons per layer)\n",
    "        self.actor_mean = nn.Sequential(\n",
    "            layer_init(nn.Linear(state_dim, 64)),\n",
    "            nn.Tanh(),\n",
    "            layer_init(nn.Linear(64, 64)),\n",
    "            nn.Tanh(),\n",
    "            layer_init(nn.Linear(64, action_dim), std=0.01),\n",
    "        )\n",
    "\n",
    "        # TODO: Task 2: Implement actor_logstd as a learnable parameter\n",
    "        # Use log of std to make sure std doesn't become negative during training\n",
    "        ########## Your code starts here. ###########\n",
    "        self.actor_logstd = nn.Parameter(torch.zeros(1, action_dim))\n",
    "        ########## Your code ends here. ##########\n",
    "        \n",
    "    # Do a forward pass to map state to action\n",
    "    def forward(self, state):\n",
    "        # Get mean of a Normal distribution (the output of the neural network)\n",
    "        action_mean = self.actor_mean(state)\n",
    "\n",
    "        # Make sure action_logstd matches dimension of action_mean\n",
    "        action_logstd = self.actor_logstd.expand_as(action_mean)\n",
    "\n",
    "        # Exponentiate the log std to get actual std\n",
    "        action_std = torch.exp(action_logstd)\n",
    "\n",
    "        # TODO: Task 1: Create a Normal distribution with mean of 'action_mean' and standard deviation of 'action_std', and return the distribution\n",
    "        ########## Your code starts here. ###########\n",
    "        probs = Normal(action_mean, action_std)\n",
    "        ########## Your code ends here. ##########\n",
    "        return probs"
   ]
  },
  {
   "cell_type": "markdown",
   "id": "cbe99408-3caa-43d6-aa52-652c9e1b88fe",
   "metadata": {},
   "source": [
    "Initialize the `PG` class to construct the neural network policy. Continue to employ the `get_action` function, as outlined in Task 1."
   ]
  },
  {
   "cell_type": "code",
   "execution_count": 146,
   "id": "304d7def-5ad3-461e-a2c6-216157833223",
   "metadata": {
    "tags": []
   },
   "outputs": [],
   "source": [
    "# Class for the Policy Gradient algorithm\n",
    "class PGLearnedVar(PGNormalized):\n",
    "    def __init__(self, state_dim, action_dim, lr, gamma):\n",
    "        super().__init__(state_dim, action_dim, lr, gamma)\n",
    "        \n",
    "        # TODO: Task 2: Define the neural network policy (self.policy) with learned variance.\n",
    "        self.policy = None\n",
    "        ########## Your code starts here. ###########  \n",
    "        self.policy = PolicyLearnedVar(state_dim, action_dim).to(device)\n",
    "        ########## Your code ends here. ##########\n",
    "\n",
    "        # Create an optimizer\n",
    "        self.optimizer = torch.optim.Adam(self.policy.parameters(), lr=lr)"
   ]
  },
  {
   "cell_type": "code",
   "execution_count": 147,
   "id": "6b7c5cac-1e2f-4224-a503-bc1e27871a09",
   "metadata": {
    "tags": []
   },
   "outputs": [
    {
     "name": "stdout",
     "output_type": "stream",
     "text": [
      "Numpy/Torch/Random Seed:  409\n",
      "{'ep': 0, 'logstd': array([[0.002]], dtype=float32), 'timesteps': 4, 'ep_reward': 4.0, 'episodes': 0}\n",
      "{'ep': 100, 'logstd': array([[-0.02779322]], dtype=float32), 'timesteps': 58, 'ep_reward': 58.0, 'episodes': 100}\n",
      "{'ep': 200, 'logstd': array([[-0.05860813]], dtype=float32), 'timesteps': 170, 'ep_reward': 170.0, 'episodes': 200}\n",
      "{'ep': 300, 'logstd': array([[-0.07844774]], dtype=float32), 'timesteps': 1000, 'ep_reward': 1000.0, 'episodes': 300}\n",
      "{'ep': 400, 'logstd': array([[-0.08408535]], dtype=float32), 'timesteps': 1000, 'ep_reward': 1000.0, 'episodes': 400}\n",
      "{'ep': 500, 'logstd': array([[-0.08502575]], dtype=float32), 'timesteps': 1000, 'ep_reward': 1000.0, 'episodes': 500}\n",
      "{'ep': 600, 'logstd': array([[-0.07841711]], dtype=float32), 'timesteps': 1000, 'ep_reward': 1000.0, 'episodes': 600}\n",
      "{'ep': 700, 'logstd': array([[-0.07380028]], dtype=float32), 'timesteps': 1000, 'ep_reward': 1000.0, 'episodes': 700}\n",
      "{'ep': 800, 'logstd': array([[-0.07031847]], dtype=float32), 'timesteps': 1000, 'ep_reward': 1000.0, 'episodes': 800}\n",
      "{'ep': 900, 'logstd': array([[-0.0705192]], dtype=float32), 'timesteps': 1000, 'ep_reward': 1000.0, 'episodes': 900}\n"
     ]
    },
    {
     "data": {
      "image/png": "[encoded data removed]",
      "text/plain": [
       "<Figure size 450x350 with 1 Axes>"
      ]
     },
     "metadata": {},
     "output_type": "display_data"
    },
    {
     "name": "stdout",
     "output_type": "stream",
     "text": [
      "Training complete!\n"
     ]
    }
   ],
   "source": [
    "if not skip_training:\n",
    "    train(PGLearnedVar, cfg_path=Path().cwd() / 'cfg' / 'inverted_pendulum.yaml', cfg_args=dict(model_name=\"PGLearnedVar\")) # < 10 mins"
   ]
  },
  {
   "cell_type": "code",
   "execution_count": 148,
   "id": "6b3d4bbd-9d79-4e23-a92a-d593a192a2c7",
   "metadata": {
    "tags": []
   },
   "outputs": [
    {
     "name": "stdout",
     "output_type": "stream",
     "text": [
      "Numpy/Torch/Random Seed:  409\n",
      "Loading model from c:\\Users\\arnau\\Uni\\Master\\2A_Aalto\\RL\\reinforcement-learning\\ex5\\results\\InvertedPendulum-v4\\model\\PGLearnedVar_params.pt ...\n",
      "Test ep_reward: 1000.0\n",
      "Test ep_reward: 1000.0\n",
      "Test ep_reward: 1000.0\n",
      "Test ep_reward: 1000.0\n",
      "Test ep_reward: 1000.0\n",
      "Test ep_reward: 1000.0\n",
      "Test ep_reward: 1000.0\n",
      "Test ep_reward: 1000.0\n",
      "Test ep_reward: 1000.0\n",
      "Test ep_reward: 1000.0\n",
      "Median test reward: 1000.0\n"
     ]
    }
   ],
   "source": [
    "if not skip_training:\n",
    "    test(PGLearnedVar, cfg_path=Path().cwd() / 'cfg' / 'inverted_pendulum.yaml', cfg_args=dict(model_name=\"PGLearnedVar\", save_video=True, testing=True))"
   ]
  },
  {
   "cell_type": "code",
   "execution_count": null,
   "id": "1afce7ed",
   "metadata": {
    "deletable": false,
    "editable": false,
    "nbgrader": {
     "cell_type": "code",
     "checksum": "488b0594c6a0bc7114212e08886456da",
     "grade": true,
     "grade_id": "cell-b30e0b4e722242a6",
     "locked": true,
     "points": 2,
     "schema_version": 3,
     "solution": false,
     "task": false
    }
   },
   "outputs": [],
   "source": []
  },
  {
   "cell_type": "code",
   "execution_count": null,
   "id": "c765232f",
   "metadata": {
    "deletable": false,
    "editable": false,
    "nbgrader": {
     "cell_type": "code",
     "checksum": "3ab5d3ddd4f03fbc59870f78a083f9bf",
     "grade": true,
     "grade_id": "cell-cfe147d31b546e45",
     "locked": true,
     "points": 8,
     "schema_version": 3,
     "solution": false,
     "task": false
    }
   },
   "outputs": [],
   "source": []
  },
  {
   "cell_type": "code",
   "execution_count": 149,
   "id": "da748d77-46d5-4597-b2f9-d9885ca24e6a",
   "metadata": {
    "tags": []
   },
   "outputs": [
    {
     "data": {
      "text/html": [
       "<video loop autoplay  >\n",
       " <source src=\"data:video/mp4;base64,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\" type=\"video/mp4\">\n",
       " Your browser does not support the video tag.\n",
       " </video>"
      ],
      "text/plain": [
       "<IPython.core.display.Video object>"
      ]
     },
     "metadata": {},
     "output_type": "display_data"
    }
   ],
   "source": [
    "if not skip_training:\n",
    "    video = Video(Path().cwd() / 'results' / 'InvertedPendulum-v4' / 'video' / 'test' / 'ex5-episode-0.mp4',\n",
    "    embed=True, html_attributes=\"loop autoplay\") # Set html_attributes=\"controls\" for video control\n",
    "    display(video)"
   ]
  },
  {
   "cell_type": "markdown",
   "id": "6b3294a4",
   "metadata": {
    "deletable": false,
    "editable": false,
    "nbgrader": {
     "cell_type": "markdown",
     "checksum": "fab39c6fa2607a23e24d1db8c8081c5a",
     "grade": false,
     "grade_id": "cell-f5cbd8946325f4b7",
     "locked": true,
     "schema_version": 3,
     "solution": false,
     "task": false
    }
   },
   "source": [
    "<a id='Q2'></a>\n",
    "<div class=\" alert alert-warning\">\n",
    "    <h3><b>Student Question 2.1</b> Constant vs Learnable Variance (5 points) </h3> \n",
    "\n",
    "Which of the following statements accurately describe the strengths and weaknesses of using constant variance vs. learning the variance during training? **Select 5 options.**      \n",
    "🔝\t<a href='#TOC'><b>Table of Contents</b></a>\n",
    "</div>"
   ]
  },
  {
   "cell_type": "markdown",
   "id": "ebc0af92-69e2-4092-8e09-d070351e2fde",
   "metadata": {
    "deletable": false,
    "editable": false,
    "nbgrader": {
     "cell_type": "markdown",
     "checksum": "9f9b59308ffd6714780a24779a21a972",
     "grade": false,
     "grade_id": "cell-5e9bfdef15f9a0fb",
     "locked": true,
     "schema_version": 3,
     "solution": false,
     "task": false
    },
    "tags": []
   },
   "source": [
    "Options:\n",
    "\n",
    "1. Variance is directly tied to exploration, with greater variance leading to more random actions and more exploration. \n",
    "2.  Learned variance always leads to better results than constant variance. \n",
    "3.  Constant variance is a simple solution that guarantees a certain level of exploration throughout training. \n",
    "4.  If constant variance is set too low, it can result in faster convergence to the optimal policy. \n",
    "5.  If the constant variance is set too high, it can handle very challenging environments by seeing through the randomness in selected actions.\n",
    "6.  Learning the variance allows the agent to adapt its exploration needs throughout training. \n",
    "7. Constant variance makes it possible for the agent to explore more at the beginning and less as the policy improves. \n",
    "8. Learning the variance can potentially reduce variance when actions are good and increase it when actions are bad. \n",
    "9. Understanding how learned variance behaves during optimization can be challenging.\n",
    "10. Constant variance is computationally more expensive than learned variance.\n"
   ]
  },
  {
   "cell_type": "code",
   "execution_count": 150,
   "id": "43eb71f9-232a-4ab7-97e3-31972a7cb343",
   "metadata": {},
   "outputs": [],
   "source": [
    "# Answer question 2.1 with appropriate option numbers\n",
    "sq2_1 = [1,3,6,8,9] "
   ]
  },
  {
   "cell_type": "markdown",
   "id": "296320f9-3b14-4edc-b5f2-597a094e171d",
   "metadata": {
    "deletable": false,
    "editable": false,
    "nbgrader": {
     "cell_type": "markdown",
     "checksum": "d13eefd0d63d1ff18a00323cef460153",
     "grade": false,
     "grade_id": "cell-4cf801eac92a3b19",
     "locked": true,
     "schema_version": 3,
     "solution": false,
     "task": false
    },
    "tags": []
   },
   "source": [
    "The following cells are used for grading."
   ]
  },
  {
   "cell_type": "code",
   "execution_count": null,
   "id": "c2333a4c-697c-4875-9885-e63284af3f2c",
   "metadata": {
    "deletable": false,
    "editable": false,
    "nbgrader": {
     "cell_type": "code",
     "checksum": "683b1f0671b478fec843b6e7163a15ca",
     "grade": true,
     "grade_id": "cell-ae37e0b98565323f",
     "locked": true,
     "points": 1,
     "schema_version": 3,
     "solution": false,
     "task": false
    },
    "tags": []
   },
   "outputs": [],
   "source": []
  },
  {
   "cell_type": "code",
   "execution_count": null,
   "id": "2d053c6e-6e65-4aec-ae9d-45ddb4cc3f13",
   "metadata": {
    "deletable": false,
    "editable": false,
    "nbgrader": {
     "cell_type": "code",
     "checksum": "ae84c5dba0956a86e0f1a806c86e0af1",
     "grade": true,
     "grade_id": "cell-a72089ecec4f5632",
     "locked": true,
     "points": 1,
     "schema_version": 3,
     "solution": false,
     "task": false
    },
    "tags": []
   },
   "outputs": [],
   "source": []
  },
  {
   "cell_type": "code",
   "execution_count": null,
   "id": "71edfd5d-e17f-4eda-a717-9e44120af0e1",
   "metadata": {
    "deletable": false,
    "editable": false,
    "nbgrader": {
     "cell_type": "code",
     "checksum": "c189d5b475c6cced735a5314611c4f21",
     "grade": true,
     "grade_id": "cell-9e5f8847acea74a7",
     "locked": true,
     "points": 1,
     "schema_version": 3,
     "solution": false,
     "task": false
    },
    "tags": []
   },
   "outputs": [],
   "source": []
  },
  {
   "cell_type": "code",
   "execution_count": null,
   "id": "e55b5584-6503-4fdb-8114-cc405a144043",
   "metadata": {
    "deletable": false,
    "editable": false,
    "nbgrader": {
     "cell_type": "code",
     "checksum": "115d571744e4b698680e42ef44a6a9f1",
     "grade": true,
     "grade_id": "cell-2be5408389da2f22",
     "locked": true,
     "points": 1,
     "schema_version": 3,
     "solution": false,
     "task": false
    },
    "tags": []
   },
   "outputs": [],
   "source": []
  },
  {
   "cell_type": "code",
   "execution_count": null,
   "id": "be5d5f33-0196-4a05-ab15-c14611e24329",
   "metadata": {
    "deletable": false,
    "editable": false,
    "nbgrader": {
     "cell_type": "code",
     "checksum": "bff3925d27a08b1abb8436e8f9a2087a",
     "grade": true,
     "grade_id": "cell-e990636f285b1fc3",
     "locked": true,
     "points": 1,
     "schema_version": 3,
     "solution": false,
     "task": false
    },
    "tags": []
   },
   "outputs": [],
   "source": []
  },
  {
   "cell_type": "markdown",
   "id": "0f701ff9",
   "metadata": {
    "deletable": false,
    "editable": false,
    "nbgrader": {
     "cell_type": "markdown",
     "checksum": "c782d710199b9b152f240bc37bc10069",
     "grade": false,
     "grade_id": "cell-e68f1d1241b5f955",
     "locked": true,
     "schema_version": 3,
     "solution": false,
     "task": false
    }
   },
   "source": [
    "<a id='Q3'></a>\n",
    "<div class=\" alert alert-warning\">\n",
    "    <h3><b>Student Question 2.2</b> Learnable Variance Initial Performance (5 points) </h3> \n",
    "\n",
    "In the case of learned variance, what are the impacts of initialization on the training performance? **Select 4 options.**\n",
    "\n",
    "🔝\t<a href='#TOC'><b>Table of Contents</b></a>\n",
    "</div>"
   ]
  },
  {
   "cell_type": "markdown",
   "id": "80ffb191-91ed-411a-84db-cdba261fabb1",
   "metadata": {
    "deletable": false,
    "editable": false,
    "nbgrader": {
     "cell_type": "markdown",
     "checksum": "c5d5279967303ed7150ab5b034687350",
     "grade": false,
     "grade_id": "cell-0b76bf2aa4735495",
     "locked": true,
     "schema_version": 3,
     "solution": false,
     "task": false
    },
    "tags": []
   },
   "source": [
    "Options:\n",
    "    \n",
    "1. A larger initial value allows for more exploration at the beginning of training. \n",
    "2. A lower initial value tends to favor exploitation over exploration initially. \n",
    "3. The initial variance value has no impact on the final performance of the trained policy. \n",
    "4. If the initial value is too low or too high, training can be slower and may require more data. \n",
    "5. A high initial variance leads to better final performance regardless of the task. \n",
    "6. The impact of the initial variance diminishes as training progresses and the variance is learned. \n",
    "7. The optimal initial variance can be theoretically calculated for any given task. \n",
    "8. If the variance decreases too rapidly, the optimizer might become trapped in a local minimum.\n",
    "9. Changing the initial variance is equivalent to adjusting the learning rate of the optimizer. \n",
    "10. The initial variance affects only the beginning of training.\n"
   ]
  },
  {
   "cell_type": "code",
   "execution_count": 151,
   "id": "1ffebac0-8432-44a4-bfde-7b985e21fec2",
   "metadata": {},
   "outputs": [],
   "source": [
    "# Answer question 2.2 with appropriate option numbers\n",
    "sq2_2 = [1,2,4,6] "
   ]
  },
  {
   "cell_type": "markdown",
   "id": "4be1c98b-8e1a-45a0-988d-d9b386a24f39",
   "metadata": {
    "deletable": false,
    "editable": false,
    "nbgrader": {
     "cell_type": "markdown",
     "checksum": "d825ca8e2bb7a90eac70fa0a503f7cb4",
     "grade": false,
     "grade_id": "cell-76f57b4b47186121",
     "locked": true,
     "schema_version": 3,
     "solution": false,
     "task": false
    },
    "tags": []
   },
   "source": [
    "The following cells are used for grading."
   ]
  },
  {
   "cell_type": "code",
   "execution_count": null,
   "id": "52fc11d0-fd01-463d-8283-5af574797c1d",
   "metadata": {
    "deletable": false,
    "editable": false,
    "nbgrader": {
     "cell_type": "code",
     "checksum": "f38b6c0f01a00ce34763c3d48b24ca73",
     "grade": true,
     "grade_id": "cell-09b718ecfbe32325",
     "locked": true,
     "points": 1,
     "schema_version": 3,
     "solution": false,
     "task": false
    },
    "tags": []
   },
   "outputs": [],
   "source": []
  },
  {
   "cell_type": "code",
   "execution_count": null,
   "id": "2709dfb7-56be-495d-803e-852110f47093",
   "metadata": {
    "deletable": false,
    "editable": false,
    "nbgrader": {
     "cell_type": "code",
     "checksum": "2a50c0ba4f2bf587aa935a79073d06e1",
     "grade": true,
     "grade_id": "cell-763f34edc660252e",
     "locked": true,
     "points": 1,
     "schema_version": 3,
     "solution": false,
     "task": false
    },
    "tags": []
   },
   "outputs": [],
   "source": []
  },
  {
   "cell_type": "code",
   "execution_count": null,
   "id": "bff6107a-023d-461e-968d-1e17449f64d7",
   "metadata": {
    "deletable": false,
    "editable": false,
    "nbgrader": {
     "cell_type": "code",
     "checksum": "32452fdda00d718cc0baaa7fb394651e",
     "grade": true,
     "grade_id": "cell-98c29f8b68e66232",
     "locked": true,
     "points": 1,
     "schema_version": 3,
     "solution": false,
     "task": false
    },
    "tags": []
   },
   "outputs": [],
   "source": []
  },
  {
   "cell_type": "code",
   "execution_count": null,
   "id": "25bbc19b-e340-42d0-a7ee-ab05a2ad92b8",
   "metadata": {
    "deletable": false,
    "editable": false,
    "nbgrader": {
     "cell_type": "code",
     "checksum": "5785645c12767d416dc6ddfed99efa21",
     "grade": true,
     "grade_id": "cell-9c9e78138da8d51d",
     "locked": true,
     "points": 2,
     "schema_version": 3,
     "solution": false,
     "task": false
    },
    "tags": []
   },
   "outputs": [],
   "source": []
  },
  {
   "cell_type": "markdown",
   "id": "e341103b",
   "metadata": {},
   "source": [
    "# 4. PG and experience replay <a id='4.'></a>"
   ]
  },
  {
   "cell_type": "markdown",
   "id": "6112bc95",
   "metadata": {
    "deletable": false,
    "editable": false,
    "nbgrader": {
     "cell_type": "markdown",
     "checksum": "6a68688c7ef8e04344930af37d7c63f2",
     "grade": false,
     "grade_id": "cell-6cb5eeda51f1d4eb",
     "locked": true,
     "schema_version": 3,
     "solution": false,
     "task": false
    },
    "tags": []
   },
   "source": [
    "<a id='Q4'></a>\n",
    "<div class=\" alert alert-warning\">\n",
    "    <h3><b>Student Question 3.</b> Considering an experience replay buffer (15 points) </h3> \n",
    "\n",
    "Why can't the REINFORCE method implemented in this exercise be directly used with experience replay? Which steps of the algorithm would be problematic, and how could these issues potentially be resolved? **Select 4 options.**\n",
    "\n",
    "🔝\t<a href='#TOC'><b>Table of Contents</b></a>\n",
    "</div>"
   ]
  },
  {
   "cell_type": "markdown",
   "id": "ea0ea7f0-69a6-47f8-a46a-bb010300d0e1",
   "metadata": {
    "deletable": false,
    "editable": false,
    "nbgrader": {
     "cell_type": "markdown",
     "checksum": "698fb1e0819100c4f301814e570244df",
     "grade": false,
     "grade_id": "cell-adb8f569068522a3",
     "locked": true,
     "schema_version": 3,
     "solution": false,
     "task": false
    },
    "tags": []
   },
   "source": [
    "Options:\n",
    "\n",
    "1.  REINFORCE is inherently off-policy and can be directly used with experience replay without modifications. \n",
    "2.  REINFORCE is an on-policy method, making it incompatible with off-policy data from a replay buffer. \n",
    "3. The problematic step is in the policy evaluation process, as the stored rewards may not reflect the current policy's performance.\n",
    "4.  The problem can be mitigated by frequently updating the replay buffer with experiences from more recent policies.\n",
    "5.  The expectation of the gradient must be calculated over the current policy in REINFORCE. \n",
    "6.  REINFORCE requires sequential data, which is disrupted by the random sampling in experience replay. \n",
    "7.  Computing the expectation term is difficult with experiences from policies other than the current one. \n",
    "8.  There is no way to use REINFORCE with experience replay under any circumstances.\n",
    "9.  Importance sampling can be used to estimate the gradients and potentially resolve the issue. \n"
   ]
  },
  {
   "cell_type": "code",
   "execution_count": 152,
   "id": "00d2bf15-930e-4689-898b-d6a529174d21",
   "metadata": {},
   "outputs": [],
   "source": [
    "# Answer question 3 with appropriate option numbers\n",
    "sq3 = [2,5,7,9] "
   ]
  },
  {
   "cell_type": "markdown",
   "id": "5c820539-91be-40c3-9721-f3aecf0d7c71",
   "metadata": {
    "deletable": false,
    "editable": false,
    "nbgrader": {
     "cell_type": "markdown",
     "checksum": "3f9f72a20005df02b60eacdf9cd800a1",
     "grade": false,
     "grade_id": "cell-a7b8cbb0c7ee79bf",
     "locked": true,
     "schema_version": 3,
     "solution": false,
     "task": false
    },
    "tags": []
   },
   "source": [
    "The following cells are used for grading."
   ]
  },
  {
   "cell_type": "code",
   "execution_count": null,
   "id": "a395615e-0977-42fc-97b2-0067d9daf743",
   "metadata": {
    "deletable": false,
    "editable": false,
    "nbgrader": {
     "cell_type": "code",
     "checksum": "4413fbf9a4117123de48bdff40d8edb5",
     "grade": true,
     "grade_id": "cell-888f793f50035df5",
     "locked": true,
     "points": 4,
     "schema_version": 3,
     "solution": false,
     "task": false
    },
    "tags": []
   },
   "outputs": [],
   "source": []
  },
  {
   "cell_type": "code",
   "execution_count": null,
   "id": "62f6467d-1b3e-4990-8d6b-5710d8f43cd4",
   "metadata": {
    "deletable": false,
    "editable": false,
    "nbgrader": {
     "cell_type": "code",
     "checksum": "82a27507e21e239487f9dbc71b70113f",
     "grade": true,
     "grade_id": "cell-c1e5b1ebabd15135",
     "locked": true,
     "points": 4,
     "schema_version": 3,
     "solution": false,
     "task": false
    },
    "tags": []
   },
   "outputs": [],
   "source": []
  },
  {
   "cell_type": "code",
   "execution_count": null,
   "id": "7f2e6daf-15bb-44b9-8613-ad1c420f248a",
   "metadata": {
    "deletable": false,
    "editable": false,
    "nbgrader": {
     "cell_type": "code",
     "checksum": "3151594ac1e83351cd877b808e0b3c67",
     "grade": true,
     "grade_id": "cell-a4e0e03a88560f44",
     "locked": true,
     "points": 4,
     "schema_version": 3,
     "solution": false,
     "task": false
    },
    "tags": []
   },
   "outputs": [],
   "source": []
  },
  {
   "cell_type": "code",
   "execution_count": null,
   "id": "ac8de0c6-3e96-477f-a6f2-f14ba043f29d",
   "metadata": {
    "deletable": false,
    "editable": false,
    "nbgrader": {
     "cell_type": "code",
     "checksum": "fb61e4be1d3786c02d82e25aa17d5550",
     "grade": true,
     "grade_id": "cell-89819ab91b6882b0",
     "locked": true,
     "points": 3,
     "schema_version": 3,
     "solution": false,
     "task": false
    },
    "tags": []
   },
   "outputs": [],
   "source": []
  },
  {
   "cell_type": "markdown",
   "id": "a7b67d36",
   "metadata": {},
   "source": [
    "# 5. Real-world control problems <a id='5.'></a>"
   ]
  },
  {
   "cell_type": "markdown",
   "id": "3731e57a",
   "metadata": {
    "deletable": false,
    "editable": false,
    "nbgrader": {
     "cell_type": "markdown",
     "checksum": "b0ba52a4c04c3e5a61b1b086f6e08642",
     "grade": false,
     "grade_id": "cell-4cf495dce20c4b84",
     "locked": true,
     "schema_version": 3,
     "solution": false,
     "task": false
    }
   },
   "source": [
    "<a id='Q5'></a>\n",
    "<div class=\" alert alert-warning\">\n",
    "    <h3><b>Student Question 4.1</b> Considering an unbounded continuous action space part 1 (5 points) </h3> \n",
    "\n",
    "What could go wrong when a model with an **unbounded** continuous action space and a reward function like the one used here (+1 for survival) were to be used with a physical system? **Select 5 options.**\n",
    "\n",
    "\n",
    "🔝\t<a href='#TOC'><b>Table of Contents</b></a>\n",
    "</div>"
   ]
  },
  {
   "cell_type": "markdown",
   "id": "490748e0-4af6-46c7-8c1f-bd49b17b4988",
   "metadata": {
    "deletable": false,
    "editable": false,
    "nbgrader": {
     "cell_type": "markdown",
     "checksum": "55f365842c25299d768ad29135696fc7",
     "grade": false,
     "grade_id": "cell-bd5793f602cb1128",
     "locked": true,
     "schema_version": 3,
     "solution": false,
     "task": false
    },
    "tags": []
   },
   "source": [
    "Options:\n",
    "    \n",
    "1. The agent would always converge to the most energy-efficient actions to ensure long-term survival. \n",
    "2. The agent might take extreme actions that could damage the physical hardware. \n",
    "3. The simple reward function would lead to slow learning but no physical dangers. \n",
    "4.  The model would naturally avoid extreme actions due to the survival instinct encoded in the reward. \n",
    "5.  The model could apply unrealistically large inputs (e.g., voltages) to system components. \n",
    "6.  The main issue would be the computational cost of handling unlimited actions, not physical dangers.\n",
    "7.  The agent might cause damage to the surroundings of the physical system. \n",
    "8.  The unbounded action space could lead to unsafe operating conditions for the system. \n",
    "9.  The model might learn to exploit the reward function by finding unintended shortcuts to survival. \n",
    "10.  Unbounded continuous action spaces guarantee optimal performance in physical systems. \n"
   ]
  },
  {
   "cell_type": "code",
   "execution_count": 153,
   "id": "097190c7-adc7-4ffa-9acb-600981bdfe4a",
   "metadata": {},
   "outputs": [],
   "source": [
    "# Answer question 4.1 with appropriate option numbers\n",
    "sq4_1 = [2,5,7,8,9] "
   ]
  },
  {
   "cell_type": "markdown",
   "id": "d1502a88-ef13-4b1b-b258-b8f79173b5f2",
   "metadata": {
    "deletable": false,
    "editable": false,
    "nbgrader": {
     "cell_type": "markdown",
     "checksum": "638469d35f910bd89d7923f1d4d54b79",
     "grade": false,
     "grade_id": "cell-b43da332879b800b",
     "locked": true,
     "schema_version": 3,
     "solution": false,
     "task": false
    },
    "tags": []
   },
   "source": [
    "The following cells are used for grading."
   ]
  },
  {
   "cell_type": "code",
   "execution_count": null,
   "id": "db8826d1-9986-46e4-85e5-cf27196e83e3",
   "metadata": {
    "deletable": false,
    "editable": false,
    "nbgrader": {
     "cell_type": "code",
     "checksum": "546aecc1550081b14b1522050105c6bf",
     "grade": true,
     "grade_id": "cell-d5a8ec81fd0d66b1",
     "locked": true,
     "points": 1,
     "schema_version": 3,
     "solution": false,
     "task": false
    },
    "tags": []
   },
   "outputs": [],
   "source": []
  },
  {
   "cell_type": "code",
   "execution_count": null,
   "id": "e479588a-4204-4439-a472-3f42e28a074c",
   "metadata": {
    "deletable": false,
    "editable": false,
    "nbgrader": {
     "cell_type": "code",
     "checksum": "4aa68a722fdde09a0f14b1cc2beca952",
     "grade": true,
     "grade_id": "cell-dd21e01105b76141",
     "locked": true,
     "points": 1,
     "schema_version": 3,
     "solution": false,
     "task": false
    },
    "tags": []
   },
   "outputs": [],
   "source": []
  },
  {
   "cell_type": "code",
   "execution_count": null,
   "id": "d1ddda5c-62d7-4972-8499-b366c33180d9",
   "metadata": {
    "deletable": false,
    "editable": false,
    "nbgrader": {
     "cell_type": "code",
     "checksum": "86c6d11ddefd70ca91ca251f95336b79",
     "grade": true,
     "grade_id": "cell-1fcee280857bec9d",
     "locked": true,
     "points": 1,
     "schema_version": 3,
     "solution": false,
     "task": false
    },
    "tags": []
   },
   "outputs": [],
   "source": []
  },
  {
   "cell_type": "code",
   "execution_count": null,
   "id": "be07e454-ef17-49f7-9bb6-bc8cea0f33b1",
   "metadata": {
    "deletable": false,
    "editable": false,
    "nbgrader": {
     "cell_type": "code",
     "checksum": "4c33a96b244d47f6d295480d7c250f1e",
     "grade": true,
     "grade_id": "cell-8047c00c583ed0b5",
     "locked": true,
     "points": 1,
     "schema_version": 3,
     "solution": false,
     "task": false
    },
    "tags": []
   },
   "outputs": [],
   "source": []
  },
  {
   "cell_type": "code",
   "execution_count": null,
   "id": "11aa6875-27b5-4493-9bbc-947210f76997",
   "metadata": {
    "deletable": false,
    "editable": false,
    "nbgrader": {
     "cell_type": "code",
     "checksum": "3568917e141d50f586181ced3a278c15",
     "grade": true,
     "grade_id": "cell-bd91fc42a27e31c6",
     "locked": true,
     "points": 1,
     "schema_version": 3,
     "solution": false,
     "task": false
    },
    "tags": []
   },
   "outputs": [],
   "source": []
  },
  {
   "cell_type": "markdown",
   "id": "fb45baf8",
   "metadata": {
    "deletable": false,
    "editable": false,
    "nbgrader": {
     "cell_type": "markdown",
     "checksum": "67b760375ed0a6a2b94dfb07ea65d28e",
     "grade": false,
     "grade_id": "cell-7efb2faf02c622ca",
     "locked": true,
     "schema_version": 3,
     "solution": false,
     "task": false
    }
   },
   "source": [
    "<a id='Q6'></a>\n",
    "<div class=\" alert alert-warning\">\n",
    "    <h3><b>Student Question 4.2</b> Considering an unbounded continuous action space part 2 (10 points) </h3> \n",
    "\n",
    "How could the problems appearing in Question 4.1 be mitigated without putting a hard limit on the actions? **Select 3 options.**\n",
    "\n",
    "🔝\t<a href='#TOC'><b>Table of Contents</b></a>\n",
    "</div>"
   ]
  },
  {
   "cell_type": "markdown",
   "id": "0fd8de8b-0921-4e92-99a7-bf716b05d958",
   "metadata": {
    "deletable": false,
    "editable": false,
    "nbgrader": {
     "cell_type": "markdown",
     "checksum": "27fc63402758fa9596a3e25808be10f6",
     "grade": false,
     "grade_id": "cell-aa619f6370139c43",
     "locked": true,
     "schema_version": 3,
     "solution": false,
     "task": false
    },
    "tags": []
   },
   "source": [
    "Options:\n",
    "    \n",
    "1. Only need to add a cost for constraining the state-space of the system\n",
    "2. Implement a reward function with a cost on extreme actions. \n",
    "3. Increase the frequency of agent updates to react more quickly to potential dangers.\n",
    "4.  Penalize actions that lead to unsafe states in the reward function. \n",
    "5.  Train the agent for more episodes to ensure it learns to avoid dangerous actions.\n",
    "6.  Modify the reward function to encourage safer behavior. \n",
    "7.  Increase the exploration rate to ensure the agent finds safe actions more quickly.\n",
    "8. Use a larger neural network to better approximate the optimal policy.\n"
   ]
  },
  {
   "cell_type": "code",
   "execution_count": 154,
   "id": "8c7a8af1-1828-430d-8c93-b066c8c06290",
   "metadata": {},
   "outputs": [],
   "source": [
    "# Answer question 4.2 with appropriate option numbers\n",
    "sq4_2 = [2,4,6] "
   ]
  },
  {
   "cell_type": "markdown",
   "id": "7180cb44-e7f8-46c3-a998-82b8ca735e52",
   "metadata": {
    "deletable": false,
    "editable": false,
    "nbgrader": {
     "cell_type": "markdown",
     "checksum": "a6805e89aea5be8794bf596d54fa3a4b",
     "grade": false,
     "grade_id": "cell-3b450e8fc52b5fde",
     "locked": true,
     "schema_version": 3,
     "solution": false,
     "task": false
    },
    "tags": []
   },
   "source": [
    "The following cells are used for grading."
   ]
  },
  {
   "cell_type": "code",
   "execution_count": null,
   "id": "b91768e7-c369-4f8b-8775-05b643ca6a18",
   "metadata": {
    "deletable": false,
    "editable": false,
    "nbgrader": {
     "cell_type": "code",
     "checksum": "3652e018ac01e53271b7629acbc23b13",
     "grade": true,
     "grade_id": "cell-f9c4479f99666417",
     "locked": true,
     "points": 3,
     "schema_version": 3,
     "solution": false,
     "task": false
    },
    "tags": []
   },
   "outputs": [],
   "source": []
  },
  {
   "cell_type": "code",
   "execution_count": null,
   "id": "00ebbea3-f23d-401e-8aeb-66509850c935",
   "metadata": {
    "deletable": false,
    "editable": false,
    "nbgrader": {
     "cell_type": "code",
     "checksum": "2e999e719e7e4b1c084cb7824d3d757a",
     "grade": true,
     "grade_id": "cell-25d8dcd46c0a0aad",
     "locked": true,
     "points": 3,
     "schema_version": 3,
     "solution": false,
     "task": false
    },
    "tags": []
   },
   "outputs": [],
   "source": []
  },
  {
   "cell_type": "code",
   "execution_count": null,
   "id": "4c207fd7-f8ad-4faf-a3e6-bae40bce0ae0",
   "metadata": {
    "deletable": false,
    "editable": false,
    "nbgrader": {
     "cell_type": "code",
     "checksum": "d8f37ba4a5b559d2961d11bccb39f025",
     "grade": true,
     "grade_id": "cell-ad280a1aceb1fe48",
     "locked": true,
     "points": 4,
     "schema_version": 3,
     "solution": false,
     "task": false
    },
    "tags": []
   },
   "outputs": [],
   "source": []
  },
  {
   "cell_type": "markdown",
   "id": "0eacb159",
   "metadata": {},
   "source": [
    "# 6. Discrete action spaces <a id='6.'></a>"
   ]
  },
  {
   "cell_type": "markdown",
   "id": "078ceb81",
   "metadata": {
    "deletable": false,
    "editable": false,
    "nbgrader": {
     "cell_type": "markdown",
     "checksum": "66dcd9987ec7c4e5ebda97a81438d820",
     "grade": false,
     "grade_id": "cell-ef7074d497b36665",
     "locked": true,
     "schema_version": 3,
     "solution": false,
     "task": false
    },
    "tags": []
   },
   "source": [
    "<a id='Q7'></a>\n",
    "<div class=\" alert alert-warning\">\n",
    "    <h3><b>Student Question 5.</b> Considering discrete action spaces (10 points) </h3> \n",
    "\n",
    "Can policy gradient methods be used with discrete action spaces? If so, how would they be implemented? **Select 5 options.**\n",
    "    \n",
    "🔝\t<a href='#TOC'><b>Table of Contents</b></a>\n",
    "</div>"
   ]
  },
  {
   "cell_type": "markdown",
   "id": "c9d9c3ec-d223-452d-8a47-4f8073e3066a",
   "metadata": {
    "deletable": false,
    "editable": false,
    "nbgrader": {
     "cell_type": "markdown",
     "checksum": "26f3c4738d927b2de66b599a486ba532",
     "grade": false,
     "grade_id": "cell-7f1aac4a2b0a31e4",
     "locked": true,
     "schema_version": 3,
     "solution": false,
     "task": false
    },
    "tags": []
   },
   "source": [
    "Options:\n",
    "    \n",
    "1. Yes, policy gradient methods can be used with discrete action spaces. \n",
    "2. The gradient can still be computed and used to update the policy in discrete action spaces. \n",
    "3. Policy gradient methods are fundamentally incompatible with discrete action spaces. \n",
    "4. In discrete action spaces, the policy network would output probabilities for each action instead of means and variances. \n",
    "5. No changes to the algorithm are needed; it works identically for continuous and discrete spaces. \n",
    "6. A categorical (softmax) distribution is typically used for the policy in discrete action spaces. \n",
    "7. In discrete spaces, the policy gradient is computed using the log-probability of the chosen action. \n",
    "8. Discrete action spaces require a completely different class of algorithms and cannot use policy gradients. \n",
    "9. The main challenge is in defining a continuous approximation of the discrete action space. \n"
   ]
  },
  {
   "cell_type": "code",
   "execution_count": 155,
   "id": "97cd5abb-dd0a-43ea-b413-d2ce26fdab5d",
   "metadata": {},
   "outputs": [],
   "source": [
    "# Answer question 5 with appropriate option numbers\n",
    "sq5 = [1,2,4,6,7] "
   ]
  },
  {
   "cell_type": "markdown",
   "id": "a457fc65-a43e-4bc2-ac20-6f5304cf9dfa",
   "metadata": {
    "deletable": false,
    "editable": false,
    "nbgrader": {
     "cell_type": "markdown",
     "checksum": "dce09cff7bd5d1047689ababaef90649",
     "grade": false,
     "grade_id": "cell-93982c40108e75aa",
     "locked": true,
     "schema_version": 3,
     "solution": false,
     "task": false
    },
    "tags": []
   },
   "source": [
    "The following cells are used for grading."
   ]
  },
  {
   "cell_type": "code",
   "execution_count": null,
   "id": "eae4646c-26ee-456b-a791-ffdaf1dea484",
   "metadata": {
    "deletable": false,
    "editable": false,
    "nbgrader": {
     "cell_type": "code",
     "checksum": "ae1a9141639c916b8df9810c7041bb4b",
     "grade": true,
     "grade_id": "cell-455629eb8ff429fc",
     "locked": true,
     "points": 2,
     "schema_version": 3,
     "solution": false,
     "task": false
    },
    "tags": []
   },
   "outputs": [],
   "source": []
  },
  {
   "cell_type": "code",
   "execution_count": null,
   "id": "c15dc545-4698-489b-a49c-3413cf70a548",
   "metadata": {
    "deletable": false,
    "editable": false,
    "nbgrader": {
     "cell_type": "code",
     "checksum": "b21d5d93a5b584d204404eb34b889116",
     "grade": true,
     "grade_id": "cell-ccd64746d61c21fe",
     "locked": true,
     "points": 2,
     "schema_version": 3,
     "solution": false,
     "task": false
    },
    "tags": []
   },
   "outputs": [],
   "source": []
  },
  {
   "cell_type": "code",
   "execution_count": null,
   "id": "1aa9a214-e0c3-42c8-bba9-28898f3a9758",
   "metadata": {
    "deletable": false,
    "editable": false,
    "nbgrader": {
     "cell_type": "code",
     "checksum": "4b411904077d2218347dba63d31cc773",
     "grade": true,
     "grade_id": "cell-3b1379631af22fbe",
     "locked": true,
     "points": 2,
     "schema_version": 3,
     "solution": false,
     "task": false
    },
    "tags": []
   },
   "outputs": [],
   "source": []
  },
  {
   "cell_type": "code",
   "execution_count": null,
   "id": "00222dd3-06b1-436c-93f4-f6b60147bb2a",
   "metadata": {
    "deletable": false,
    "editable": false,
    "nbgrader": {
     "cell_type": "code",
     "checksum": "86b3c8b0c452ce715cc376a7b4172974",
     "grade": true,
     "grade_id": "cell-a58c487d6d744df5",
     "locked": true,
     "points": 2,
     "schema_version": 3,
     "solution": false,
     "task": false
    },
    "tags": []
   },
   "outputs": [],
   "source": []
  },
  {
   "cell_type": "code",
   "execution_count": null,
   "id": "82c97890-ddd1-4824-bb2b-2e5be84291f4",
   "metadata": {
    "deletable": false,
    "editable": false,
    "nbgrader": {
     "cell_type": "code",
     "checksum": "8ed761b8c0d3a85b2b576a6e3ca8296a",
     "grade": true,
     "grade_id": "cell-6f7c8a46592ca476",
     "locked": true,
     "points": 2,
     "schema_version": 3,
     "solution": false,
     "task": false
    },
    "tags": []
   },
   "outputs": [],
   "source": []
  },
  {
   "cell_type": "markdown",
   "id": "4c50da4d",
   "metadata": {
    "deletable": false,
    "editable": false,
    "nbgrader": {
     "cell_type": "markdown",
     "checksum": "9965fc6e7758f8a420963a52b936f443",
     "grade": false,
     "grade_id": "cell-8d4be4c9092a091c",
     "locked": true,
     "schema_version": 3,
     "solution": false,
     "task": false
    },
    "tags": []
   },
   "source": [
    "# 7. Submitting <a id='7.'></a>\n",
    "\n",
    "Ensure all tasks and questions in `ex5.ipynb` are thoroughly answered and that all the relevant plots are displayed correctly (there is no need to save the plots in the results folder). \n",
    "\n",
    "The training performance plots are as follows:\n",
    "\n",
    "- **Task 1a, REINFORCE without baseline**: Ensure the implementation is correct and the plot is similar to the expected plot shown in the task description. Refer to [Figure 1a](#figure-1a).\n",
    "  \n",
    "- **Task 1b, REINFORCE with constant baseline b = 20**: Properly implement the algorithm with a constant baseline and plot the training performance. Refer to [Figure 1b](#figure-1b).\n",
    "  \n",
    "- **Task 1c, REINFORCE with discounted rewards normalized to zero mean and unit variance**: Implement and plot the performance ensuring the rewards are normalized correctly. Refer to [Figure 1c](#figure-1c).\n",
    "  \n",
    "- **Task 2, REINFORCE with learned variance**: Ensure that the variance is being learned and adjusted during training, and plot the training performance.\n",
    "\n",
    "No model files need to be saved for this assignment.\n",
    "\n",
    "🔝 [Back to Table of Contents](#TOC)\n"
   ]
  },
  {
   "cell_type": "code",
   "execution_count": 159,
   "id": "ed2a8428",
   "metadata": {
    "deletable": false,
    "editable": false,
    "nbgrader": {
     "cell_type": "code",
     "checksum": "0f2a35dca22d4e6a91f7259550809999",
     "grade": true,
     "grade_id": "cell-26f0fb23212021f6",
     "locked": true,
     "points": 0,
     "schema_version": 3,
     "solution": false,
     "task": false
    }
   },
   "outputs": [],
   "source": [
    "# Make sure that skip training is set to True before submission\n",
    "assert skip_training == True"
   ]
  },
  {
   "cell_type": "markdown",
   "id": "ad098b5f",
   "metadata": {},
   "source": [
    "## 7.1 Feedback <a id='7.1'></a>\n",
    "\n",
    "In order to help the staff of the course as well as the forthcoming students, it would be great if you could answer to the following questions in your submission:"
   ]
  },
  {
   "cell_type": "markdown",
   "id": "5ed5c6d1-c83a-4d62-9b4f-5ed33f0f6aea",
   "metadata": {},
   "source": [
    "1) How much time did you spend solving this exercise? (change the ```hrs``` variable below to a floating point number representing the number of hours taken e.g. 5.43)\n",
    "\n"
   ]
  },
  {
   "cell_type": "code",
   "execution_count": null,
   "id": "216bc97b-e49b-4c18-8c41-1c45711b90cd",
   "metadata": {},
   "outputs": [],
   "source": [
    "hrs = 3.5"
   ]
  },
  {
   "cell_type": "markdown",
   "id": "0d26d7a7-acc4-48db-84a8-e366ea68a709",
   "metadata": {},
   "source": [
    "2) Difficulty of each task/question from 1-5 (int or float)"
   ]
  },
  {
   "cell_type": "code",
   "execution_count": 157,
   "id": "5eeb90fa-9f33-49c1-aca3-55f9a9a00d6a",
   "metadata": {},
   "outputs": [],
   "source": [
    "T1a = 4   # Task 1a. basic REINFORCE without baseline (15 points)\n",
    "T1b = 4   # Task 1b. REINFORCE with a constant baseline b = 20 (5 points)\n",
    "T1c = 3   # Task 1c. REINFORCE with discounted rewards normalized to zero mean and unit variance (5 points)\n",
    "Q1_1 = 4  # Question 1.1 A good baseline (15 points)\n",
    "T2 = 3    # Task 2. Making Variance a Learnable Parameter (10 points)\n",
    "Q2_1 = 3  # Question 2.1 Constant vs Learnable Variance (5 points)\n",
    "Q2_2 = 3  # Question 2.2 Learnable Variance Initial Performance (5 points)\n",
    "Q3 = 3    # Question 3. Considering a experience reply buffer (15 points)\n",
    "Q4_1 = 3  # Question 4.1 Considering an unbounded continuous action space part 1 (5 points)\n",
    "Q4_2 = 3  # Question 4.2 Considering an unbounded continuous action space part 2 (10 points)\n",
    "Q5 = 3    # Question 5. Considering discrete action spaces (10 points)"
   ]
  },
  {
   "cell_type": "markdown",
   "id": "fe9387c6-00de-4414-86eb-801485a59ec7",
   "metadata": {},
   "source": [
    "3) How well did you understand the content of the task/question from 1-5? (int or float)"
   ]
  },
  {
   "cell_type": "code",
   "execution_count": 156,
   "id": "d5a53120-fcf2-4dbf-b6ad-87e5aff7dee0",
   "metadata": {},
   "outputs": [],
   "source": [
    "T1a = 3   # Task 1a. basic REINFORCE without baseline (15 points)\n",
    "T1b = 3   # Task 1b. REINFORCE with a constant baseline b = 20 (5 points)\n",
    "T1c = 2   # Task 1c. REINFORCE with discounted rewards normalized to zero mean and unit variance (5 points)\n",
    "Q1_1 = 3  # Question 1.1 A good baseline (15 points)\n",
    "T2 = 2    # Task 2. Making Variance a Learnable Parameter (10 points)\n",
    "Q2_1 = 2  # Question 2.1 Constant vs Learnable Variance (5 points)\n",
    "Q2_2 = 2  # Question 2.2 Learnable Variance Initial Performance (5 points)\n",
    "Q3 = 3    # Question 3. Considering a experience reply buffer (15 points)\n",
    "Q4_1 = 2  # Question 4.1 Considering an unbounded continuous action space part 1 (5 points)\n",
    "Q4_2 = 3  # Question 4.2 Considering an unbounded continuous action space part 2 (10 points)\n",
    "Q5 = 3    # Question 5. Considering discrete action spaces (10 points)"
   ]
  },
  {
   "cell_type": "markdown",
   "id": "7595057e-8666-486a-bd8c-788b4de828a7",
   "metadata": {},
   "source": [
    "4) General feedback. Consider questions like:\n",
    "\n",
    "    - Did the content of the lecture relate well with the assignment?\n",
    "    - To what extent did you find the material to be potentially useful for your research and studies?\n",
    "    \n",
    "And other feedback you think is worth including. Type in the box below"
   ]
  },
  {
   "cell_type": "code",
   "execution_count": null,
   "id": "6e53a93d-a13e-4ced-bf49-2c5b406b8653",
   "metadata": {},
   "outputs": [],
   "source": [
    "DOUBLE CLICK HERE TO EDIT, CLEAR THIS TEXT AND ANSWER HERE"
   ]
  },
  {
   "cell_type": "markdown",
   "id": "e3f5f8d4",
   "metadata": {
    "tags": []
   },
   "source": [
    "\n",
    "# References <a id='8.'></a>"
   ]
  }
 ],
 "metadata": {
  "kernelspec": {
   "display_name": ".venv (3.10.11)",
   "language": "python",
   "name": "python3"
  },
  "language_info": {
   "codemirror_mode": {
    "name": "ipython",
    "version": 3
   },
   "file_extension": ".py",
   "mimetype": "text/x-python",
   "name": "python",
   "nbconvert_exporter": "python",
   "pygments_lexer": "ipython3",
   "version": "3.10.11"
  }
 },
 "nbformat": 4,
 "nbformat_minor": 5
}
