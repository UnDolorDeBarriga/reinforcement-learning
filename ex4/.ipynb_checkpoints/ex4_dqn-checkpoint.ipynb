{
 "cells": [
  {
   "cell_type": "markdown",
   "id": "53274fb5",
   "metadata": {
    "deletable": false,
    "editable": false,
    "nbgrader": {
     "cell_type": "markdown",
     "checksum": "5bba742b91375ed640d206a3c9f351e5",
     "grade": false,
     "grade_id": "cell-7dd133571740e15f",
     "locked": true,
     "schema_version": 3,
     "solution": false,
     "task": false
    }
   },
   "source": [
    "\n",
    "<div class=\"alert alert-block alert-info\">\n",
    "   <h2 align=\"center\"> <center><b> Reinforcement Learning Assignment 4 - Function Approximators Part 2: Deep Q Network </b></center></h2>\n",
    "\n",
    "<br>\n",
    "<center><font size=\"3\">This notebook is a part of teaching material for ELEC-E8125</font></center>\n",
    "<center><font size=\"3\">Aalto University</font></center>\n",
    "</div>\n",
    "\n",
    "\n",
    "<a id='TOC'></a>\n",
    "\n",
    "<div class=\"alert alert-block alert-success\">\n",
    "    \n",
    "# Table of contents\n",
    "* <a href='#1.'> 1. Introduction </a>\n",
    "* <a href='#1.1'> 1.1 Task environments </a>\n",
    "* <a href='#1.2'> 1.2 Learning Objectives </a>\n",
    "* <a href='#1.3'> 1.3 Code Structure & Files </a>\n",
    "* <a href='#1.4'> 1.4 Execution time </a>\n",
    "* <a href='#2.'> 2. A (not-so-)deep Q-network</a>\n",
    "* <a href='#3.'> 3. Submitting </a>\n",
    "* <a href='#3.1'> 3.1 Feedback </a>\n",
    "\n",
    "<a href='#T1'><b>Student Task 1.</b> Implementing DQN (10 points) </a>\\\n",
    "<a href='#Q1'><b>Student Question 1.1</b> Considering Continuous Action Spaces (5 points) </a>\\\n",
    "<a href='#Q2'><b>Student Question 1.2</b> Continuous Action Spaces Part 1 (15 points) </a>\\\n",
    "<a href='#Q3'><b>Student Question 1.3</b> The Target Network (10 points) </a>\n",
    " \n",
    "\n",
    "**Total Points:** 40\n",
    "\n",
    "**Estimated runtime of all the cells:** 2 hours"
   ]
  },
  {
   "cell_type": "markdown",
   "id": "9fb3bd96",
   "metadata": {
    "deletable": false,
    "editable": false,
    "nbgrader": {
     "cell_type": "markdown",
     "checksum": "2ccf0d452335e813bfc82782639cf8f7",
     "grade": false,
     "grade_id": "cell-ebc6fa2d1ab8fcf9",
     "locked": true,
     "schema_version": 3,
     "solution": false,
     "task": false
    }
   },
   "source": [
    "# 1. Introduction <a id='1.'></a>\n",
    "\n",
    "In various real-world scenarios, dealing with high-dimensional state spaces makes it impractical to compute and store Q-values for every possible state-action pair in a Q-table. To address this challenge, we turn to function approximators. In this assignment, you will progress creating a basic Deep Q-Network (DQN) in the **Cartpole** and **LunarLander** environment.\n",
    "\n",
    "**Please start working on this assignment early since the DQN will take some time to train.**\n",
    "\n",
    "\n",
    "<div style=\"display:flex\">\n",
    "     <div style=\"flex:1;padding-left:100px;\">\n",
    "          <img src=\"imgs/cartpole.png\" width=\"300\"/>\n",
    "         <figcaption style=\"flex:1;padding-left:20px;\">  Figure 1: The Cartpole environment. </figcaption>\n",
    "     </div>\n",
    "     <div style=\"flex:1;padding-left:70px;\">\n",
    "          <img src=\"imgs/lunar_lander.png\" width=\"300\"/>\n",
    "         <figcaption style=\"flex:1;padding-left:20px;\">  Figure 2: The Lunarlander environment. </figcaption>\n",
    "     </div>\n",
    "\n",
    "</div>\n",
    "\n",
    "Useful Sources:\n",
    "\n",
    "- Mnih, Volodymyr, et al. \"Playing atari with deep reinforcement learning.\" arXiv preprint arXiv:1312.5602 (2013). https://arxiv.org/pdf/1312.5602.pdf\n",
    "\n",
    "\n",
    "## 1.1 Task environments: <a id='1.1'></a>\n",
    "In this excercise, we will mainly use DQN for two tasks:\n",
    "- Cartpole(https://gymnasium.farama.org/environments/classic_control/cart_pole/): This environment corresponds to the version of the cart-pole problem described by Barto, Sutton, and Anderson in “Neuronlike Adaptive Elements That Can Solve Difficult Learning Control Problem”. A pole is attached by an un-actuated joint to a cart, which moves along a frictionless track. The pendulum is placed upright on the cart and the goal is to balance the pole by applying forces in the left and right direction on the cart.\n",
    "\n",
    "- Lunar Lander (https://gymnasium.farama.org/environments/box2d/lunar_lander/): This environment is a classic rocket trajectory optimization problem. According to Pontryagin’s maximum principle, it is optimal to fire the engine at full throttle or turn it off. This is the reason why this environment has discrete actions: engine on or off.\n",
    "\n",
    "## 1.2 Learning Objectives: <a id='1.1'></a>\n",
    "- Understand why and how function approximators can be used for Q-learning\n",
    "- Understand the Deep Q-Network RL algorithm\n",
    "\n",
    "## 1.3 Code Structure & Files <a id='1.2'></a>\n",
    "\n",
    "```ex4_dqn.ipynb``` is the file needed to be modified for this part of the assignment.  \n",
    "\n",
    "<span style=\"color:red\"> **# IMPORTANT: DO NOT FORGET ANOTHER TASK IN ```ex4_rbf.ipynb```** </span>\n",
    "\n",
    "```\n",
    "├───cfg                            # Config files for environments\n",
    "├───imgs                           # Images used in notebook\n",
    "├───results\n",
    "│   └───CartPole-v1\n",
    "│   │   ├───logging                \n",
    "│   │   │    └───logging.pkl        # Contains logged data\n",
    "│   │   ├───model              \n",
    "│   │   │    └───*dqn.pt            # Contains trained model\n",
    "│   │   └───video                   # Videos saved\n",
    "│   │   └───*cartpole_dqn.png       # Contains training performance plot\n",
    "│   └───LunarLander-v2\n",
    "│   │   ├───logging                \n",
    "│   │   │    └───logging.pkl        # Contains logged data\n",
    "│   │   ├───model              \n",
    "│   │   │    └───*dqn.pt            # Contains trained model\n",
    "│   │   └───video                   # Videos saved\n",
    "│   │   └───*lunarlander_dqn.png    # Contains training performance plot\n",
    "│   ex4_dqn.ipynb                   # 2nd assignment file containing tasks <---------This task\n",
    "│   ex4_rbf.ipynb                   # 1st assignment file containing tasks <---------\n",
    "│   train.py                        # Contains train and test functions \n",
    "│   utils.py                        # Contains useful functions \n",
    "└───buffer.py                       # Contains buffer functions\n",
    "```\n",
    "\n",
    "## 1.4 Execution time <a id='1.4'></a>\n",
    "\n",
    "The training of these methods might take more than 40 mins depends on the server. If you have problem of experiment running takes too much time, you can download the jupyter notebook and test it locally."
   ]
  },
  {
   "cell_type": "markdown",
   "id": "c6968238",
   "metadata": {
    "deletable": false,
    "editable": false,
    "nbgrader": {
     "cell_type": "markdown",
     "checksum": "47530e48db6901812adae6ba0239bc2d",
     "grade": false,
     "grade_id": "cell-fdd24e05653d4a99",
     "locked": true,
     "schema_version": 3,
     "solution": false,
     "task": false
    }
   },
   "source": [
    "## Warnings:\n",
    "\n",
    "- Don’t copy and paste cells within a notebook. This will mess up the tracking metadata and prevent autograding from working.\n",
    "- Only add new cells using the '+' button in the upper toolbar and do not split cells.\n",
    "- Be cautious about things such as copying the whole notebook to Colab to work on it. This has sometimes resulted in removing all notebook metadata, making autograding impossible."
   ]
  },
  {
   "cell_type": "markdown",
   "id": "2cba7612-914b-4860-b019-7dc32b075b6b",
   "metadata": {
    "deletable": false,
    "editable": false,
    "nbgrader": {
     "cell_type": "markdown",
     "checksum": "8ead3054091bb4a4807d085110e4ebc7",
     "grade": false,
     "grade_id": "cell-3c7108bbf5fe22bf",
     "locked": true,
     "schema_version": 3,
     "solution": false,
     "task": false
    },
    "tags": []
   },
   "source": [
    "# 2. A (not-so-)deep Q-network <a id='2.'></a>"
   ]
  },
  {
   "cell_type": "markdown",
   "id": "00b2f2ea",
   "metadata": {
    "deletable": false,
    "editable": false,
    "nbgrader": {
     "cell_type": "markdown",
     "checksum": "a84e8c7719f42c54880e4a2a07f85574",
     "grade": false,
     "grade_id": "cell-af25de8f4a4da8d9",
     "locked": true,
     "schema_version": 3,
     "solution": false,
     "task": false
    }
   },
   "source": [
    "<a id='T1'></a>\n",
    "<div class=\" alert alert-warning\">\n",
    "    <h3><b>Student Task 1.</b> Implementing DQN (10 points) </h3> \n",
    "\n",
    "Finish the incomplete code in DQNAgent (functions ```update``` and ```get_action```, marked with ```TODO```) to implement a DQN agent.\n",
    "\n",
    "**See Figure 3 for an example training performance plot for cartpole. Save the training performance plots, and check if they are in the right place (the paths please refer to <a href='#3.'>Submitting<a>).**\n",
    "\n",
    "<figure style=\"text-align: center\">\n",
    "<img src=\"imgs/dqn.png\" width=\"300px\">\n",
    "<figcaption style=\"text-align: center\"> Figure 3: The training performance plot for cartpole-dqn might look something like this. </figcaption>\n",
    "</figure>\n",
    "    \n",
    "🔝\t<a href='#TOC'><b>Table of Contents</b></a>\n",
    "</div>\n"
   ]
  },
  {
   "cell_type": "code",
   "execution_count": 1,
   "id": "4284bfc0",
   "metadata": {},
   "outputs": [],
   "source": [
    "skip_training = True  # Set this flag to True before validation and submission"
   ]
  },
  {
   "cell_type": "code",
   "execution_count": null,
   "id": "6c9a2760",
   "metadata": {
    "deletable": false,
    "editable": false,
    "nbgrader": {
     "cell_type": "code",
     "checksum": "578a265f70c27c97dcec1ac8b16d4362",
     "grade": true,
     "grade_id": "cell-6421cfde6887e896",
     "locked": true,
     "points": 0,
     "schema_version": 3,
     "solution": false,
     "task": false
    }
   },
   "outputs": [],
   "source": []
  },
  {
   "cell_type": "code",
   "execution_count": 2,
   "id": "ec1d14d1",
   "metadata": {
    "tags": []
   },
   "outputs": [],
   "source": [
    "import sys, os\n",
    "sys.path.insert(0, os.path.abspath(\"..\"))\n",
    "from typing import List\n",
    "import numpy as np\n",
    "import torch, random, copy, yaml, time\n",
    "import torch.nn as nn\n",
    "import torch.optim as optim\n",
    "import torch.nn.functional as F\n",
    "from pathlib import Path\n",
    "\n",
    "import utils as u\n",
    "import train as t\n",
    "\n",
    "from IPython.display import Video # to display videos\n",
    "\n",
    "device = 'cpu'"
   ]
  },
  {
   "cell_type": "code",
   "execution_count": 3,
   "id": "b2c93182",
   "metadata": {
    "tags": []
   },
   "outputs": [],
   "source": [
    "def mlp(in_dim, mlp_dims: List[int], out_dim, act_fn=nn.ReLU, out_act=nn.Identity):\n",
    "    \"\"\"Returns an MLP.\"\"\"\n",
    "    if isinstance(mlp_dims, int): raise ValueError(\"mlp dimensions should be list, but got int.\")\n",
    "\n",
    "    layers = [nn.Linear(in_dim, mlp_dims[0]), act_fn()]\n",
    "    for i in range(len(mlp_dims)-1):\n",
    "        layers += [nn.Linear(mlp_dims[i], mlp_dims[i+1]), act_fn()]\n",
    "    # the output layer\n",
    "    layers += [nn.Linear(mlp_dims[-1], out_dim), out_act()]\n",
    "    return nn.Sequential(*layers)"
   ]
  },
  {
   "cell_type": "code",
   "execution_count": 4,
   "id": "6c01a546",
   "metadata": {
    "tags": []
   },
   "outputs": [],
   "source": [
    "class DQNAgent(object):\n",
    "    def __init__(self, state_shape, n_actions,\n",
    "                 batch_size=32, hidden_dims=[12], gamma=0.98, lr=1e-3, grad_clip_norm=1000, tau=0.001):\n",
    "        self.n_actions = n_actions\n",
    "        self.state_dim = state_shape[0]\n",
    "        self.policy_net = mlp(self.state_dim, hidden_dims, n_actions).to(device)\n",
    "        self.target_net = copy.deepcopy(self.policy_net)\n",
    "        self.target_net.eval()\n",
    "        self.optimizer = optim.Adam(self.policy_net.parameters(), lr=float(lr))\n",
    "\n",
    "        self.batch_size = batch_size\n",
    "        self.gamma = gamma\n",
    "        self.grad_clip_norm = grad_clip_norm\n",
    "        self.tau = tau\n",
    "        \n",
    "        self.counter = 0\n",
    "\n",
    "    def update(self, buffer):\n",
    "        \"\"\" One gradient step, update the policy net.\"\"\"\n",
    "        start = time.perf_counter()\n",
    "        self.counter += 1\n",
    "        # Do one step gradient update\n",
    "        batch = buffer.sample(self.batch_size, device=device)\n",
    "        # Hint:\n",
    "        #    state = batch.state\n",
    "        #    action = batch.action \n",
    "        #    next_state = batch.next_state\n",
    "        #    reward = batch.reward \n",
    "        #    not_done = batch.not_done \n",
    "        \n",
    "        # TODO: Task 3: Finish the DQN implementation.\n",
    "        # Hints: 1. You can use torch.gather() to gather values along an axis specified by dim. \n",
    "        #        2. torch.max returns a namedtuple (values, indices) where values is the maximum \n",
    "        #           value of each row of the input tensor in the given dimension dim.\n",
    "        #           And indices is the index location of each maximum value found (argmax).\n",
    "        #        3.  batch is a namedtuple, which has state, action, next_state, not_done, reward\n",
    "        #           you can access the value be batch.<name>, e.g, batch.state\n",
    "        #        4. check torch.nn.utils.clip_grad_norm_() to know how to clip grad norm\n",
    "        #        5. You can go throught the PyTorch Tutorial given on MyCourses if you are not familiar with it. \n",
    "        # calculate the q(s,a)\n",
    "        ########## You code starts here #########\n",
    "        state      = batch.state        \n",
    "        action     = batch.action       \n",
    "        next_state = batch.next_state\n",
    "        reward     = batch.reward       \n",
    "        not_done   = batch.not_done\n",
    "        \n",
    "        action = action.squeeze(-1).long()      \n",
    "        reward = reward.squeeze(-1)\n",
    "        not_done = not_done.squeeze(-1)\n",
    "        q_values_all = self.policy_net(state)               \n",
    "        qs = q_values_all.gather(1, action.unsqueeze(1)).squeeze(1)\n",
    "\n",
    "        with torch.no_grad():\n",
    "            next_q_all = self.target_net(next_state)           \n",
    "            next_max_q = next_q_all.max(dim=1)[0]              \n",
    "            target = reward + self.gamma * not_done * next_max_q\n",
    "\n",
    "        loss = F.mse_loss(qs, target)\n",
    "        self.optimizer.zero_grad()\n",
    "        loss.backward()\n",
    "        torch.nn.utils.clip_grad_norm_(self.policy_net.parameters(), self.grad_clip_norm)\n",
    "        self.optimizer.step()\n",
    "     \n",
    "        \n",
    "        ########## You code ends here #########\n",
    "\n",
    "        # update the target network\n",
    "        u.soft_update_params(self.policy_net, self.target_net, self.tau)\n",
    "        \n",
    "        end = time.perf_counter()\n",
    "        update_time = end - start\n",
    "        return {'loss': loss.item(), \n",
    "                'q_mean': qs.mean().item(),\n",
    "                'num_update': self.counter,\n",
    "                'update_time': update_time}\n",
    "\n",
    "\n",
    "    @torch.no_grad()\n",
    "    def get_action(self, state, epsilon=0.05):\n",
    "        # TODO:  Task 3: implement epsilon-greedy action selection\n",
    "        ########## You code starts here #########\n",
    "        p = np.random.uniform(0, 1)\n",
    "        s = torch.as_tensor(state, dtype=torch.float32, device=device).unsqueeze(0)\n",
    "        q_values = self.policy_net(s).squeeze(0).cpu().numpy()\n",
    "        if p < epsilon:\n",
    "             action = np.random.randint(self.n_actions)\n",
    "        else:\n",
    "            action = np.argmax(q_values)      \n",
    "        ########## You code ends here #########\n",
    "        return action\n",
    "\n",
    "\n",
    "    def save(self, fp):\n",
    "        path = fp/'dqn.pt'\n",
    "        torch.save({\n",
    "            'policy': self.policy_net.state_dict(),\n",
    "            'policy_target': self.target_net.state_dict()\n",
    "        }, path)\n",
    "\n",
    "    def load(self, fp):\n",
    "        path = fp/'dqn.pt'\n",
    "        d = torch.load(path)\n",
    "        self.policy_net.load_state_dict(d['policy'])\n",
    "        self.target_net.load_state_dict(d['policy_target'])"
   ]
  },
  {
   "cell_type": "code",
   "execution_count": 5,
   "id": "d1d97e7d",
   "metadata": {
    "tags": []
   },
   "outputs": [],
   "source": [
    "# init agent\n",
    "with open(Path().cwd()/'cfg'/'cartpole_dqn.yaml', 'r') as f:\n",
    "    cfg = t.Struct(**yaml.safe_load(f))\n",
    "    \n",
    "agent = DQNAgent(state_shape=cfg.state_shape, n_actions=cfg.n_actions, batch_size=cfg.batch_size, hidden_dims=cfg.hidden_dims,\n",
    "                 gamma=cfg.gamma, lr=cfg.lr, tau=cfg.tau)"
   ]
  },
  {
   "cell_type": "code",
   "execution_count": 6,
   "id": "35fc3169",
   "metadata": {
    "tags": []
   },
   "outputs": [
    {
     "name": "stdout",
     "output_type": "stream",
     "text": [
      "Numpy/Torch/Random Seed:  436\n",
      "{'ep_reward': 15.0, 'episode': 0, 'epsilon': 1.0, 'ep_avr': 0.0013572159805335104, 'ts_avr': 6.937166908755898e-05}\n",
      "{'ep_reward': 17.0, 'episode': 100, 'epsilon': 0.6666666666666666, 'ep_avr': 0.024982716219965367, 'ts_avr': 0.0011114796214189405, 'loss': 0.1714155077934265, 'q_mean': 1.3436201810836792, 'num_update': 2043, 'update_time': 0.001045065000653267}\n",
      "{'ep_reward': 11.0, 'episode': 200, 'epsilon': 0.5, 'ep_avr': 0.018295026457635685, 'ts_avr': 0.0012545208548624862, 'loss': 0.3625744581222534, 'q_mean': 2.5735933780670166, 'num_update': 3499, 'update_time': 0.0010369840310886502}\n",
      "{'ep_reward': 10.0, 'episode': 300, 'epsilon': 0.4, 'ep_avr': 0.015328953971038572, 'ts_avr': 0.001245002490483479, 'loss': 0.32160791754722595, 'q_mean': 3.607619285583496, 'num_update': 4728, 'update_time': 0.001242546015419066}\n",
      "{'ep_reward': 13.0, 'episode': 400, 'epsilon': 0.3333333333333333, 'ep_avr': 0.015316805579932407, 'ts_avr': 0.0012847288554737799, 'loss': 0.2945001423358917, 'q_mean': 4.449615478515625, 'num_update': 5918, 'update_time': 0.0010338550200685859}\n",
      "{'ep_reward': 10.0, 'episode': 500, 'epsilon': 0.2857142857142857, 'ep_avr': 0.01375702551275026, 'ts_avr': 0.0012437508679189098, 'loss': 0.44869691133499146, 'q_mean': 5.158707141876221, 'num_update': 7022, 'update_time': 0.0010509849525988102}\n",
      "{'ep_reward': 32.0, 'episode': 600, 'epsilon': 0.25, 'ep_avr': 0.018275462154415435, 'ts_avr': 0.0012206239037116037, 'loss': 0.8741778135299683, 'q_mean': 5.999442100524902, 'num_update': 8517, 'update_time': 0.0010084949899464846}\n",
      "{'ep_reward': 12.0, 'episode': 700, 'epsilon': 0.2222222222222222, 'ep_avr': 0.020917662582942285, 'ts_avr': 0.0012080563980552215, 'loss': 0.5779696106910706, 'q_mean': 6.930641174316406, 'num_update': 10246, 'update_time': 0.000991485023405403}\n",
      "{'ep_reward': 46.0, 'episode': 800, 'epsilon': 0.2, 'ep_avr': 0.03932014891819563, 'ts_avr': 0.001180766354930686, 'loss': 0.8944592475891113, 'q_mean': 8.562817573547363, 'num_update': 13573, 'update_time': 0.0009740150417201221}\n",
      "{'ep_reward': 138.0, 'episode': 900, 'epsilon': 0.18181818181818182, 'ep_avr': 0.10709896950225811, 'ts_avr': 0.0012045637429573418, 'loss': 1.2203400135040283, 'q_mean': 14.574199676513672, 'num_update': 22459, 'update_time': 0.0012175349984318018}\n",
      "{'ep_reward': 200.0, 'episode': 1000, 'epsilon': 0.16666666666666666, 'ep_avr': 0.21677137553982903, 'ts_avr': 0.0012063974650573807, 'loss': 7.569614410400391, 'q_mean': 26.261533737182617, 'num_update': 40420, 'update_time': 0.0010110950097441673}\n",
      "{'ep_reward': 200.0, 'episode': 1100, 'epsilon': 0.15384615384615385, 'ep_avr': 0.23926551567972637, 'ts_avr': 0.001210555102923255, 'loss': 0.4328659176826477, 'q_mean': 41.98487854003906, 'num_update': 60177, 'update_time': 0.001000604999717325}\n",
      "{'ep_reward': 200.0, 'episode': 1200, 'epsilon': 0.14285714285714285, 'ep_avr': 0.23537238355784212, 'ts_avr': 0.0012000315117863113, 'loss': 0.11461248248815536, 'q_mean': 51.24468231201172, 'num_update': 79783, 'update_time': 0.0009940749732777476}\n",
      "{'ep_reward': 200.0, 'episode': 1300, 'epsilon': 0.13333333333333333, 'ep_avr': 0.2345370276022004, 'ts_avr': 0.0012059855243296998, 'loss': 0.04293292388319969, 'q_mean': 58.25354766845703, 'num_update': 99223, 'update_time': 0.00100306497188285}\n",
      "{'ep_reward': 200.0, 'episode': 1400, 'epsilon': 0.125, 'ep_avr': 0.24102903781982604, 'ts_avr': 0.0012066583468844341, 'loss': 0.15852005779743195, 'q_mean': 63.473609924316406, 'num_update': 119190, 'update_time': 0.0009941839962266386}\n",
      "{'ep_reward': 158.0, 'episode': 1500, 'epsilon': 0.11764705882352941, 'ep_avr': 0.22023659150931052, 'ts_avr': 0.0012225583014407637, 'loss': 25.87190818786621, 'q_mean': 71.64556884765625, 'num_update': 137197, 'update_time': 0.001213636016473174}\n",
      "{'ep_reward': 192.0, 'episode': 1600, 'epsilon': 0.1111111111111111, 'ep_avr': 0.2232965276495088, 'ts_avr': 0.001225793198560256, 'loss': 0.16850143671035767, 'q_mean': 78.24935913085938, 'num_update': 155406, 'update_time': 0.0010231849737465382}\n",
      "{'ep_reward': 187.0, 'episode': 1700, 'epsilon': 0.10526315789473684, 'ep_avr': 0.23628961166075896, 'ts_avr': 0.0012105772344891562, 'loss': 0.1325090229511261, 'q_mean': 79.64389038085938, 'num_update': 174917, 'update_time': 0.0009925549966283143}\n",
      "{'ep_reward': 200.0, 'episode': 1800, 'epsilon': 0.1, 'ep_avr': 0.2219329371524509, 'ts_avr': 0.001219522680874635, 'loss': 0.21006515622138977, 'q_mean': 81.6871337890625, 'num_update': 193108, 'update_time': 0.0010083039524033666}\n",
      "{'ep_reward': 199.0, 'episode': 1900, 'epsilon': 0.09523809523809523, 'ep_avr': 0.2424729939835379, 'ts_avr': 0.0012199395328306346, 'loss': 0.4935353100299835, 'q_mean': 84.00602722167969, 'num_update': 212976, 'update_time': 0.0010100150248035789}\n",
      "{'ep_reward': 200.0, 'episode': 2000, 'epsilon': 0.09090909090909091, 'ep_avr': 0.2417462340753991, 'ts_avr': 0.0012095312876953621, 'loss': 0.23687700927257538, 'q_mean': 87.65701293945312, 'num_update': 232955, 'update_time': 0.001028035010676831}\n",
      "{'ep_reward': 200.0, 'episode': 2100, 'epsilon': 0.08695652173913043, 'ep_avr': 0.24169444471015594, 'ts_avr': 0.001207995826972183, 'loss': 0.05222007632255554, 'q_mean': 82.77792358398438, 'num_update': 252955, 'update_time': 0.0009916750132106245}\n",
      "{'ep_reward': 200.0, 'episode': 2200, 'epsilon': 0.08333333333333333, 'ep_avr': 0.2411094358592527, 'ts_avr': 0.0012050722983869492, 'loss': 0.008951387368142605, 'q_mean': 86.000244140625, 'num_update': 272955, 'update_time': 0.000992504006717354}\n",
      "{'ep_reward': 200.0, 'episode': 2300, 'epsilon': 0.08, 'ep_avr': 0.2411165280273417, 'ts_avr': 0.0012051040552760242, 'loss': 0.004823776427656412, 'q_mean': 86.0600357055664, 'num_update': 292955, 'update_time': 0.0009937949944287539}\n",
      "{'ep_reward': 160.0, 'episode': 2400, 'epsilon': 0.07692307692307693, 'ep_avr': 0.2394691340404097, 'ts_avr': 0.0012218039723541668, 'loss': 0.10790364444255829, 'q_mean': 94.50276947021484, 'num_update': 312547, 'update_time': 0.0010088050039485097}\n",
      "{'ep_reward': 200.0, 'episode': 2500, 'epsilon': 0.07407407407407407, 'ep_avr': 0.1805706070031738, 'ts_avr': 0.0011999264686601081, 'loss': 0.4184283912181854, 'q_mean': 95.81771087646484, 'num_update': 327589, 'update_time': 0.0010086849797517061}\n",
      "{'ep_reward': 200.0, 'episode': 2600, 'epsilon': 0.07142857142857142, 'ep_avr': 0.24102228093834127, 'ts_avr': 0.0012062631311140681, 'loss': 2.9546890258789062, 'q_mean': 89.4489517211914, 'num_update': 347562, 'update_time': 0.00099825399229303}\n",
      "{'ep_reward': 200.0, 'episode': 2700, 'epsilon': 0.06896551724137931, 'ep_avr': 0.2412862883071648, 'ts_avr': 0.0012059565346804447, 'loss': 0.07895262539386749, 'q_mean': 93.66719818115234, 'num_update': 367562, 'update_time': 0.0010141140082851052}\n",
      "{'ep_reward': 200.0, 'episode': 2800, 'epsilon': 0.06666666666666667, 'ep_avr': 0.24088128048402724, 'ts_avr': 0.001204227554956188, 'loss': 0.01854994334280491, 'q_mean': 99.4298324584961, 'num_update': 387557, 'update_time': 0.0010013849823735654}\n",
      "{'ep_reward': 200.0, 'episode': 2900, 'epsilon': 0.06451612903225806, 'ep_avr': 0.24101635698752943, 'ts_avr': 0.0012056889440399642, 'loss': 0.024695150554180145, 'q_mean': 97.0571060180664, 'num_update': 407539, 'update_time': 0.0012466349871829152}\n",
      "{'ep_reward': 200.0, 'episode': 3000, 'epsilon': 0.0625, 'ep_avr': 0.24217025562888012, 'ts_avr': 0.0012103713670483557, 'loss': 0.018114551901817322, 'q_mean': 102.49566650390625, 'num_update': 427539, 'update_time': 0.001013985020108521}\n",
      "{'ep_reward': 200.0, 'episode': 3100, 'epsilon': 0.06060606060606061, 'ep_avr': 0.24201165456848683, 'ts_avr': 0.0012095825528813293, 'loss': 0.003918473143130541, 'q_mean': 105.08251953125, 'num_update': 447539, 'update_time': 0.0009898549760691822}\n",
      "{'ep_reward': 200.0, 'episode': 3200, 'epsilon': 0.058823529411764705, 'ep_avr': 0.24145586555998308, 'ts_avr': 0.0012067987394199008, 'loss': 0.0010765902698040009, 'q_mean': 105.26453399658203, 'num_update': 467539, 'update_time': 0.000993434980046004}\n",
      "{'ep_reward': 200.0, 'episode': 3300, 'epsilon': 0.05714285714285714, 'ep_avr': 0.2423665086104302, 'ts_avr': 0.0012113515653822105, 'loss': 2.839438820956275e-05, 'q_mean': 104.56414794921875, 'num_update': 487539, 'update_time': 0.001000204007141292}\n",
      "{'ep_reward': 200.0, 'episode': 3400, 'epsilon': 0.05555555555555555, 'ep_avr': 0.22484423348971178, 'ts_avr': 0.0011989403662725287, 'loss': 0.07351373136043549, 'q_mean': 103.61860656738281, 'num_update': 506285, 'update_time': 0.0010159939993172884}\n",
      "{'ep_reward': 200.0, 'episode': 3500, 'epsilon': 0.05405405405405406, 'ep_avr': 0.23963216232543347, 'ts_avr': 0.0012080728217179419, 'loss': 0.2336321771144867, 'q_mean': 103.5078125, 'num_update': 526113, 'update_time': 0.001026765035931021}\n",
      "{'ep_reward': 200.0, 'episode': 3600, 'epsilon': 0.05263157894736842, 'ep_avr': 0.242036988249165, 'ts_avr': 0.0012099502435641315, 'loss': 0.19998784363269806, 'q_mean': 103.92622375488281, 'num_update': 546109, 'update_time': 0.0009882639860734344}\n",
      "{'ep_reward': 200.0, 'episode': 3700, 'epsilon': 0.05128205128205128, 'ep_avr': 0.24085488453041762, 'ts_avr': 0.0012037922088929918, 'loss': 0.053586695343256, 'q_mean': 105.4108657836914, 'num_update': 566109, 'update_time': 0.0009907649946399033}\n",
      "{'ep_reward': 200.0, 'episode': 3800, 'epsilon': 0.05, 'ep_avr': 0.24155845777480864, 'ts_avr': 0.0012073152611061233, 'loss': 0.002064070664346218, 'q_mean': 106.5273666381836, 'num_update': 586109, 'update_time': 0.0010036840103566647}\n",
      "{'ep_reward': 200.0, 'episode': 3900, 'epsilon': 0.05, 'ep_avr': 0.2415316655888455, 'ts_avr': 0.0012071817198622738, 'loss': 0.0021296455524861813, 'q_mean': 106.27693939208984, 'num_update': 606109, 'update_time': 0.0010079140192829072}\n",
      "------ Training Finished ------\n"
     ]
    }
   ],
   "source": [
    "# Trainig takes approximately 40 mins,depends on server\n",
    "if not skip_training:\n",
    "    t.train(agent,  cfg_path=Path().cwd()/'cfg'/'cartpole_dqn.yaml',) "
   ]
  },
  {
   "cell_type": "code",
   "execution_count": 7,
   "id": "9a9a1164-6330-4e45-ba52-1a84d8a91001",
   "metadata": {
    "tags": []
   },
   "outputs": [
    {
     "name": "stdout",
     "output_type": "stream",
     "text": [
      "Numpy/Torch/Random Seed:  436\n"
     ]
    },
    {
     "data": {
      "image/png": "[encoded data removed]",
      "text/plain": [
       "<Figure size 640x480 with 1 Axes>"
      ]
     },
     "metadata": {},
     "output_type": "display_data"
    }
   ],
   "source": [
    "# Visualize the DQN training plots for the cartpole \n",
    "if not skip_training:\n",
    "    t.plot(save_name='cartpole_dqn.png', cfg_path=Path().cwd()/'cfg'/'cartpole_dqn.yaml',)"
   ]
  },
  {
   "cell_type": "markdown",
   "id": "adf80e71",
   "metadata": {},
   "source": [
    "In order to get full points from the task make sure most of the test episodes give a reward of 200, given the seeds below (at least 50% of episodes)."
   ]
  },
  {
   "cell_type": "code",
   "execution_count": 8,
   "id": "09736f3b",
   "metadata": {
    "tags": []
   },
   "outputs": [
    {
     "name": "stdout",
     "output_type": "stream",
     "text": [
      "Numpy/Torch/Random Seed:  436\n",
      "{'episode': 0, 'ep_reward': 200.0}\n",
      "{'episode': 1, 'ep_reward': 200.0}\n",
      "{'episode': 2, 'ep_reward': 200.0}\n",
      "{'episode': 3, 'ep_reward': 200.0}\n",
      "{'episode': 4, 'ep_reward': 200.0}\n",
      "{'episode': 5, 'ep_reward': 200.0}\n",
      "{'episode': 6, 'ep_reward': 200.0}\n",
      "{'episode': 7, 'ep_reward': 200.0}\n",
      "{'episode': 8, 'ep_reward': 200.0}\n",
      "{'episode': 9, 'ep_reward': 200.0}\n"
     ]
    }
   ],
   "source": [
    "if not skip_training:\n",
    "    t.test(agent, cfg_path=Path().cwd()/'cfg'/'cartpole_dqn.yaml', cfg_args=dict(save_video=True), seeds=[67, 23, 89, 12, 45, 78, 34, 90, 21, 56])"
   ]
  },
  {
   "cell_type": "code",
   "execution_count": 9,
   "id": "e3658eb5",
   "metadata": {
    "deletable": false,
    "editable": false,
    "nbgrader": {
     "cell_type": "code",
     "checksum": "38a43041b8d9d7219c1c55d322617d12",
     "grade": true,
     "grade_id": "cell-3ef5a6f870ccd026",
     "locked": true,
     "points": 5,
     "schema_version": 3,
     "solution": false,
     "task": false
    }
   },
   "outputs": [],
   "source": [
    "%%capture --no-stdout\n",
    "\"TEST\""
   ]
  },
  {
   "cell_type": "code",
   "execution_count": 10,
   "id": "6c63b5ce",
   "metadata": {
    "tags": []
   },
   "outputs": [
    {
     "data": {
      "text/html": [
       "<video loop autoplay  >\n",
       " <source src=\"data:video/mp4;base64,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\" type=\"video/mp4\">\n",
       " Your browser does not support the video tag.\n",
       " </video>"
      ],
      "text/plain": [
       "<IPython.core.display.Video object>"
      ]
     },
     "metadata": {},
     "output_type": "display_data"
    }
   ],
   "source": [
    "if not skip_training:\n",
    "      video = Video(Path().cwd()/'results'/'CartPole-v1'/'video'/'test'/'ex4_dqn-episode-0.mp4',\n",
    "      embed=True, html_attributes=\"loop autoplay\") # Set html_attributes=\"controls\" for video control\n",
    "      display(video)"
   ]
  },
  {
   "cell_type": "code",
   "execution_count": 11,
   "id": "004fa76f",
   "metadata": {
    "tags": []
   },
   "outputs": [],
   "source": [
    "# init agent\n",
    "with open(Path().cwd()/'cfg'/'lunarlander_dqn.yaml', 'r') as f:\n",
    "    cfg = t.Struct(**yaml.safe_load(f))\n",
    "    \n",
    "agent = DQNAgent(state_shape=cfg.state_shape, n_actions=cfg.n_actions, batch_size=cfg.batch_size, hidden_dims=cfg.hidden_dims,\n",
    "                 gamma=cfg.gamma, lr=cfg.lr, tau=cfg.tau)"
   ]
  },
  {
   "cell_type": "code",
   "execution_count": 12,
   "id": "d3775e17",
   "metadata": {
    "tags": []
   },
   "outputs": [
    {
     "name": "stdout",
     "output_type": "stream",
     "text": [
      "Numpy/Torch/Random Seed:  436\n",
      "{'ep_reward': -179.35252669512982, 'episode': 0, 'epsilon': 1.0, 'ep_avr': 0.00847433798480779, 'ts_avr': 7.993754479684867e-05}\n",
      "{'ep_reward': -103.53863655960066, 'episode': 100, 'epsilon': 0.6666666666666666, 'ep_avr': 0.2235800940799527, 'ts_avr': 0.0019379394057795608, 'loss': 29.452926635742188, 'q_mean': -8.053820610046387, 'num_update': 10682, 'update_time': 0.0018096179701387882}\n",
      "{'ep_reward': -40.300608275517774, 'episode': 200, 'epsilon': 0.5, 'ep_avr': 0.3372435807122383, 'ts_avr': 0.0020804491556846182, 'loss': 5.664219379425049, 'q_mean': -6.656980037689209, 'num_update': 26871, 'update_time': 0.0018188079702667892}\n",
      "{'ep_reward': -109.47436119376852, 'episode': 300, 'epsilon': 0.4, 'ep_avr': 0.6696420227608177, 'ts_avr': 0.002106550603461587, 'loss': 3.7503132820129395, 'q_mean': -1.1410274505615234, 'num_update': 58636, 'update_time': 0.0018344480195082724}\n",
      "{'ep_reward': 4.222959596873054, 'episode': 400, 'epsilon': 0.3333333333333333, 'ep_avr': 0.9767714575998252, 'ts_avr': 0.002099660241949749, 'loss': 28.478092193603516, 'q_mean': 16.244155883789062, 'num_update': 105130, 'update_time': 0.0018459779676049948}\n",
      "{'ep_reward': -8.285763319985879, 'episode': 500, 'epsilon': 0.2857142857142857, 'ep_avr': 1.0174995153880446, 'ts_avr': 0.002116643363562273, 'loss': 3.528061628341675, 'q_mean': 28.60468101501465, 'num_update': 153175, 'update_time': 0.0018966789939440787}\n",
      "{'ep_reward': 72.55803299656682, 'episode': 600, 'epsilon': 0.25, 'ep_avr': 1.0411154424975393, 'ts_avr': 0.0021185452137435, 'loss': 14.622176170349121, 'q_mean': 32.18612289428711, 'num_update': 202291, 'update_time': 0.001813568000216037}\n",
      "{'ep_reward': 86.9379426823574, 'episode': 700, 'epsilon': 0.2222222222222222, 'ep_avr': 1.0194711623509647, 'ts_avr': 0.0021232385126128276, 'loss': 3.168489456176758, 'q_mean': 37.05910110473633, 'num_update': 250279, 'update_time': 0.0018803190323524177}\n",
      "{'ep_reward': 62.263453914243236, 'episode': 800, 'epsilon': 0.2, 'ep_avr': 1.0666646281810244, 'ts_avr': 0.002132188841433963, 'loss': 2.833428382873535, 'q_mean': 40.284542083740234, 'num_update': 300279, 'update_time': 0.0018801779951900244}\n",
      "{'ep_reward': 78.73896302996877, 'episode': 900, 'epsilon': 0.18181818181818182, 'ep_avr': 1.059089126419276, 'ts_avr': 0.0021345676771084257, 'loss': 11.319093704223633, 'q_mean': 40.119361877441406, 'num_update': 349868, 'update_time': 0.0018989300006069243}\n",
      "{'ep_reward': 87.97582312050193, 'episode': 1000, 'epsilon': 0.16666666666666666, 'ep_avr': 1.0611287460208405, 'ts_avr': 0.0021285583102226076, 'loss': 1.4243865013122559, 'q_mean': 41.5887451171875, 'num_update': 399693, 'update_time': 0.0017402489902451634}\n",
      "{'ep_reward': 98.74179808648469, 'episode': 1100, 'epsilon': 0.15384615384615385, 'ep_avr': 1.0512693298759404, 'ts_avr': 0.002101403023530729, 'loss': 4.642738342285156, 'q_mean': 37.240135192871094, 'num_update': 449693, 'update_time': 0.0030947659979574382}\n",
      "{'ep_reward': 76.45905444312037, 'episode': 1200, 'epsilon': 0.14285714285714285, 'ep_avr': 1.0586735263181617, 'ts_avr': 0.0021219836196553574, 'loss': 4.0073561668396, 'q_mean': 36.42996597290039, 'num_update': 499557, 'update_time': 0.0018597489688545465}\n",
      "{'ep_reward': 207.4291600001954, 'episode': 1300, 'epsilon': 0.13333333333333333, 'ep_avr': 1.0294616784382378, 'ts_avr': 0.0020942014651073337, 'loss': 2.116426944732666, 'q_mean': 35.8446044921875, 'num_update': 548688, 'update_time': 0.0017907479777932167}\n",
      "{'ep_reward': 274.7660478585933, 'episode': 1400, 'epsilon': 0.125, 'ep_avr': 0.9455202389252372, 'ts_avr': 0.00213538626788713, 'loss': 1.1889584064483643, 'q_mean': 36.792724609375, 'num_update': 592941, 'update_time': 0.001810389047022909}\n",
      "{'ep_reward': 320.80022562062027, 'episode': 1500, 'epsilon': 0.11764705882352941, 'ep_avr': 0.800035036840709, 'ts_avr': 0.0021230310759009644, 'loss': 13.642133712768555, 'q_mean': 37.52634048461914, 'num_update': 630600, 'update_time': 0.0018779090023599565}\n",
      "{'ep_reward': 246.22842267639027, 'episode': 1600, 'epsilon': 0.1111111111111111, 'ep_avr': 0.7186560916784219, 'ts_avr': 0.002120163667157236, 'loss': 11.535307884216309, 'q_mean': 44.69540786743164, 'num_update': 664472, 'update_time': 0.0018590380204841495}\n",
      "{'ep_reward': 279.98880509084256, 'episode': 1700, 'epsilon': 0.10526315789473684, 'ep_avr': 0.7064820254821097, 'ts_avr': 0.0021372297659163083, 'loss': 0.885373055934906, 'q_mean': 50.77802658081055, 'num_update': 697504, 'update_time': 0.0018714289763011038}\n",
      "{'ep_reward': 144.0218465074237, 'episode': 1800, 'epsilon': 0.1, 'ep_avr': 0.6993053728435189, 'ts_avr': 0.002117697898622594, 'loss': 6.785985946655273, 'q_mean': 58.27573776245117, 'num_update': 730502, 'update_time': 0.0017746879602782428}\n",
      "{'ep_reward': 257.5564337649788, 'episode': 1900, 'epsilon': 0.09523809523809523, 'ep_avr': 0.729449517056346, 'ts_avr': 0.002127036915851938, 'loss': 0.9262235760688782, 'q_mean': 60.207088470458984, 'num_update': 764772, 'update_time': 0.001870587992016226}\n",
      "------ Training Finished ------\n"
     ]
    }
   ],
   "source": [
    "# Trainig takes approximately 60 mins,depends on server\n",
    "if not skip_training:\n",
    "    t.train(agent, cfg_path=Path().cwd()/'cfg'/'lunarlander_dqn.yaml', cfg_args=dict()) "
   ]
  },
  {
   "cell_type": "code",
   "execution_count": 13,
   "id": "3e2a7511-d1aa-4691-be76-406dbccdc739",
   "metadata": {
    "tags": []
   },
   "outputs": [
    {
     "name": "stdout",
     "output_type": "stream",
     "text": [
      "Numpy/Torch/Random Seed:  436\n"
     ]
    },
    {
     "data": {
      "image/png": "[encoded data removed]",
      "text/plain": [
       "<Figure size 640x480 with 1 Axes>"
      ]
     },
     "metadata": {},
     "output_type": "display_data"
    }
   ],
   "source": [
    "# Visualize the DQN training plots for the lunarlander task\n",
    "if not skip_training:\n",
    "    t.plot(save_name='lunarlander_dqn.png', cfg_path=Path().cwd()/'cfg'/'lunarlander_dqn.yaml', cfg_args=dict())"
   ]
  },
  {
   "cell_type": "markdown",
   "id": "74030fd2",
   "metadata": {},
   "source": [
    "In order to get full points from the task make sure most of the test episodes give a reward of 200, given the seeds below (at least 50% of episodes)."
   ]
  },
  {
   "cell_type": "code",
   "execution_count": 14,
   "id": "ba2808d4",
   "metadata": {
    "tags": []
   },
   "outputs": [
    {
     "name": "stdout",
     "output_type": "stream",
     "text": [
      "Numpy/Torch/Random Seed:  436\n",
      "{'episode': 0, 'ep_reward': 247.3729534358288}\n",
      "{'episode': 1, 'ep_reward': 249.73082664614836}\n",
      "{'episode': 2, 'ep_reward': 271.56049027077654}\n",
      "{'episode': 3, 'ep_reward': 266.50489795488147}\n",
      "{'episode': 4, 'ep_reward': 120.09083265854132}\n",
      "{'episode': 5, 'ep_reward': 226.02464912307167}\n",
      "{'episode': 6, 'ep_reward': 256.46949946671964}\n",
      "{'episode': 7, 'ep_reward': 239.49196078748636}\n",
      "{'episode': 8, 'ep_reward': 284.8246032456849}\n",
      "{'episode': 9, 'ep_reward': 281.6486601580598}\n"
     ]
    }
   ],
   "source": [
    "if not skip_training:\n",
    "    t.test(agent, cfg_path=Path().cwd()/'cfg'/'lunarlander_dqn.yaml', cfg_args=dict(save_video=True),seeds=[67, 23, 89, 12, 45, 78, 34, 90, 21, 56])"
   ]
  },
  {
   "cell_type": "code",
   "execution_count": 15,
   "id": "85204079",
   "metadata": {
    "deletable": false,
    "editable": false,
    "nbgrader": {
     "cell_type": "code",
     "checksum": "5b145c58866764ca02e0b5c4729621a0",
     "grade": true,
     "grade_id": "cell-7c41d50955488cf2",
     "locked": true,
     "points": 5,
     "schema_version": 3,
     "solution": false,
     "task": false
    }
   },
   "outputs": [],
   "source": [
    "%%capture --no-stdout\n",
    "\"TEST\""
   ]
  },
  {
   "cell_type": "code",
   "execution_count": 16,
   "id": "e34889d9",
   "metadata": {
    "tags": []
   },
   "outputs": [
    {
     "data": {
      "text/html": [
       "<video loop autoplay  >\n",
       " <source src=\"data:video/mp4;base64,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\" type=\"video/mp4\">\n",
       " Your browser does not support the video tag.\n",
       " </video>"
      ],
      "text/plain": [
       "<IPython.core.display.Video object>"
      ]
     },
     "metadata": {},
     "output_type": "display_data"
    }
   ],
   "source": [
    "if not skip_training:\n",
    "  video = Video(Path().cwd()/'results'/'LunarLander-v2'/'video'/'test'/'ex4_dqn-episode-8.mp4',\n",
    "  embed=True, html_attributes=\"loop autoplay\") # Set html_attributes=\"controls\" for video control\n",
    "  display(video)"
   ]
  },
  {
   "cell_type": "markdown",
   "id": "55896461",
   "metadata": {
    "deletable": false,
    "editable": false,
    "nbgrader": {
     "cell_type": "markdown",
     "checksum": "7672a364f357aec8cb5210d0f941fe63",
     "grade": false,
     "grade_id": "cell-c5606712f2bd514a",
     "locked": true,
     "schema_version": 3,
     "solution": false,
     "task": false
    },
    "tags": []
   },
   "source": [
    "<a id='Q1'></a>\n",
    "<div class=\" alert alert-warning\">\n",
    "    <h3><b>Student Question 1.1</b> Considering Continuous Action Spaces (5 points) </h3> \n",
    "    \n",
    "🔝\t<a href='#TOC'><b>Table of Contents</b></a>\n",
    "</div>\n"
   ]
  },
  {
   "cell_type": "markdown",
   "id": "9b95154b-026f-4e95-9492-20782e8aa24d",
   "metadata": {
    "deletable": false,
    "editable": false,
    "nbgrader": {
     "cell_type": "markdown",
     "checksum": "5f6c4dc6645b2c94d0cbd2e55e2ebe45",
     "grade": false,
     "grade_id": "cell-d77b9f2562ab2797",
     "locked": true,
     "schema_version": 3,
     "solution": false,
     "task": false
    },
    "tags": []
   },
   "source": [
    "### 1.1.1 Question (5 points):\n",
    "Can Q-learning be used directly in environments with continuous action spaces?\n",
    "\n",
    "**Select one:**\n",
    "\n",
    "1. Yes, Q-learning can be used directly without any modifications.\n",
    "2. No, Q-learning cannot be used directly because it only works with a discrete set of actions.\n",
    "3. No, Q-learning cannot be used directly in continuous action spaces, but it can be adapted with certain modifications.\n",
    "4. Yes, Q-learning can be used directly, but it is less efficient than in discrete action spaces."
   ]
  },
  {
   "cell_type": "code",
   "execution_count": 17,
   "id": "22025c94-158f-4ee7-834a-1248eb189d1a",
   "metadata": {
    "tags": []
   },
   "outputs": [],
   "source": [
    "sq_1_1_1 = 3 # Replace with the appropriate answer number"
   ]
  },
  {
   "cell_type": "markdown",
   "id": "29c2290f-67a7-4fe8-9a55-7db7bb6c88f6",
   "metadata": {},
   "source": [
    "The following cells are used for grading"
   ]
  },
  {
   "cell_type": "code",
   "execution_count": 18,
   "id": "abdf5784-303d-4aa9-b036-75219830d49d",
   "metadata": {
    "deletable": false,
    "editable": false,
    "nbgrader": {
     "cell_type": "code",
     "checksum": "85bc371a65d530f9fc963804e483295d",
     "grade": true,
     "grade_id": "cell-9b579c6ba03d991a",
     "locked": true,
     "points": 0,
     "schema_version": 3,
     "solution": false,
     "task": false
    },
    "tags": []
   },
   "outputs": [],
   "source": [
    "assert sq_1_1_1 in range(1, 5)"
   ]
  },
  {
   "cell_type": "code",
   "execution_count": null,
   "id": "42005b40-9ed9-4977-bcbf-8420c8d177b4",
   "metadata": {
    "deletable": false,
    "editable": false,
    "nbgrader": {
     "cell_type": "code",
     "checksum": "0cca2254b439447f716776ca19336a27",
     "grade": true,
     "grade_id": "cell-254ea90497e5d82c",
     "locked": true,
     "points": 5,
     "schema_version": 3,
     "solution": false,
     "task": false
    },
    "tags": []
   },
   "outputs": [],
   "source": []
  },
  {
   "cell_type": "markdown",
   "id": "1395f3d1",
   "metadata": {
    "deletable": false,
    "editable": false,
    "nbgrader": {
     "cell_type": "markdown",
     "checksum": "294b5606dc64ab643d5b5cb9823f7068",
     "grade": false,
     "grade_id": "cell-ca3df96c77733d4f",
     "locked": true,
     "schema_version": 3,
     "solution": false,
     "task": false
    },
    "tags": []
   },
   "source": [
    "<a id='Q2'></a>\n",
    "<div class=\" alert alert-warning\">\n",
    "    <h3><b>Student Question 1.2</b> Continuous Action Spaces Part 1 (15 points) </h3> \n",
    "    \n",
    "🔝\t<a href='#TOC'><b>Table of Contents</b></a>\n",
    "</div>\n"
   ]
  },
  {
   "cell_type": "markdown",
   "id": "f5ee6c44-ca32-4620-85c5-204a4ef2646d",
   "metadata": {
    "deletable": false,
    "editable": false,
    "nbgrader": {
     "cell_type": "markdown",
     "checksum": "368c9ec46e655d5206fd92a3afd6452c",
     "grade": false,
     "grade_id": "cell-19c97802050ed143",
     "locked": true,
     "schema_version": 3,
     "solution": false,
     "task": false
    },
    "tags": []
   },
   "source": [
    "### 1.2.1 Question (5 points):\n",
    "\n",
    "What is the primary challenge when applying DQN to a continuous action space? Hint: select the one that describes the main issue.\n",
    "\n",
    "**Select one:**\n",
    "\n",
    "1. Updating the Q values\n",
    "2. Storing the Q values\n",
    "3. Performing the maximization (argmax) operation\n",
    "4. Calculating the loss function\n",
    "5. Calculating the reward"
   ]
  },
  {
   "cell_type": "code",
   "execution_count": 19,
   "id": "4e8f0ef2-5e19-41d8-bf49-3c8f38ffe645",
   "metadata": {},
   "outputs": [],
   "source": [
    "sq_1_2_1 = 3 # Replace with the appropriate answer number"
   ]
  },
  {
   "cell_type": "markdown",
   "id": "88c67c7f-cabd-40df-97a6-8ddbcfa9a8d6",
   "metadata": {
    "deletable": false,
    "editable": false,
    "nbgrader": {
     "cell_type": "markdown",
     "checksum": "ed192a4eb4250673f4af98c6e743ef23",
     "grade": false,
     "grade_id": "cell-97197487f8ceeb64",
     "locked": true,
     "schema_version": 3,
     "solution": false,
     "task": false
    },
    "tags": []
   },
   "source": [
    "### 1.2.2 Question (5 points):\n",
    "\n",
    "Which one of the following methods does NOT address the continuous action space problem in DQN?\n",
    "\n",
    "**Select one:**\n",
    "\n",
    "1. Learn a function approximation for the maximum of the Q-function\n",
    "2. Use a policy to draw samples of Q(s,a) and select the action with the highest Q-value (e.g., MPO)\n",
    "3. Approximate the Q-function as a convex function\n",
    "4. Use a Deep Deterministic Policy Gradient (DDPG) approach to learn a policy and Q-function simultaneously\n",
    "5. Use a Double DQN approach with two separate networks to estimate Q-values for continuous actions\n",
    "6. Discretize the action space with fine-grained intervals"
   ]
  },
  {
   "cell_type": "code",
   "execution_count": 20,
   "id": "9f1ae7de-289e-44ab-bfed-437273e38cf4",
   "metadata": {},
   "outputs": [],
   "source": [
    "sq_1_2_2 = 5 # Replace with the appropriate answer number"
   ]
  },
  {
   "cell_type": "markdown",
   "id": "dbbf50e1-f1d0-4735-a614-adffd7574619",
   "metadata": {
    "deletable": false,
    "editable": false,
    "nbgrader": {
     "cell_type": "markdown",
     "checksum": "ccae140251592e9baae2e607b9db5a96",
     "grade": false,
     "grade_id": "cell-f42263c476c89d1f",
     "locked": true,
     "schema_version": 3,
     "solution": false,
     "task": false
    },
    "tags": []
   },
   "source": [
    "### 1.2.3 Question (5 points):\n",
    "\n",
    "Discretization is one approach to address the continuous action space problem. What is a **significant** limitation of discretizing the action space to address the continuous action space problem in DQN?\n",
    "\n",
    "**Select one:**\n",
    "\n",
    "1. It may not generalize well to actions outside the discrete set\n",
    "2. It increases the size of the state space exponentially\n",
    "3. It requires modifying the neural network architecture\n",
    "4. It can lead to unstable learning in the early stages of training\n",
    "5. It makes the reward function non-differentiable"
   ]
  },
  {
   "cell_type": "code",
   "execution_count": 21,
   "id": "134ba924-6705-4982-8477-93f27336b475",
   "metadata": {},
   "outputs": [],
   "source": [
    "sq_1_2_3 = 1 # Replace with the appropriate answer number"
   ]
  },
  {
   "cell_type": "markdown",
   "id": "3695dc82-6d20-4051-9e8e-1e256a5bf8fb",
   "metadata": {
    "deletable": false,
    "editable": false,
    "nbgrader": {
     "cell_type": "markdown",
     "checksum": "ea9c2ff3ff7fa62ff869bc2e92a32207",
     "grade": false,
     "grade_id": "cell-6d65dca0030ecedc",
     "locked": true,
     "schema_version": 3,
     "solution": false,
     "task": false
    },
    "tags": []
   },
   "source": [
    "The following cells are used for grading"
   ]
  },
  {
   "cell_type": "code",
   "execution_count": 22,
   "id": "7edf9407-26e1-4b81-910f-a877ebd3d68e",
   "metadata": {
    "deletable": false,
    "editable": false,
    "nbgrader": {
     "cell_type": "code",
     "checksum": "4e70d5f938adbf449599993ed8984ee7",
     "grade": true,
     "grade_id": "cell-b7c78664ec74ec2a",
     "locked": true,
     "points": 0,
     "schema_version": 3,
     "solution": false,
     "task": false
    },
    "tags": []
   },
   "outputs": [],
   "source": [
    "assert sq_1_2_1 in range(1, 6)\n",
    "assert sq_1_2_2 in range(1, 7)\n",
    "assert sq_1_2_3 in range(1, 6)"
   ]
  },
  {
   "cell_type": "code",
   "execution_count": null,
   "id": "d1c89084-b34b-4b3b-bb23-6d84d3b17180",
   "metadata": {
    "deletable": false,
    "editable": false,
    "nbgrader": {
     "cell_type": "code",
     "checksum": "261ad454b4494ded2716bb3ea7da00f4",
     "grade": true,
     "grade_id": "cell-cee299bf0c9ac8e4",
     "locked": true,
     "points": 5,
     "schema_version": 3,
     "solution": false,
     "task": false
    },
    "tags": []
   },
   "outputs": [],
   "source": []
  },
  {
   "cell_type": "code",
   "execution_count": null,
   "id": "9c4eeeb7-aa75-49f5-b69a-3a157060ef58",
   "metadata": {
    "deletable": false,
    "editable": false,
    "nbgrader": {
     "cell_type": "code",
     "checksum": "a0166d8f9297188b4711c3a925bf6006",
     "grade": true,
     "grade_id": "cell-bd84024a26ba389c",
     "locked": true,
     "points": 5,
     "schema_version": 3,
     "solution": false,
     "task": false
    },
    "tags": []
   },
   "outputs": [],
   "source": []
  },
  {
   "cell_type": "code",
   "execution_count": null,
   "id": "11daf090-e4f1-4ca7-bd2a-9e786c3d794b",
   "metadata": {
    "deletable": false,
    "editable": false,
    "nbgrader": {
     "cell_type": "code",
     "checksum": "b14e5eefe2c878d41a5c63ece44a2ab4",
     "grade": true,
     "grade_id": "cell-42e6f022fdf27684",
     "locked": true,
     "points": 5,
     "schema_version": 3,
     "solution": false,
     "task": false
    },
    "tags": []
   },
   "outputs": [],
   "source": []
  },
  {
   "cell_type": "markdown",
   "id": "f10e680f",
   "metadata": {
    "deletable": false,
    "editable": false,
    "nbgrader": {
     "cell_type": "markdown",
     "checksum": "84e1103ca1d0b41cb9afb1cceed72204",
     "grade": false,
     "grade_id": "cell-640e21ebd354971a",
     "locked": true,
     "schema_version": 3,
     "solution": false,
     "task": false
    },
    "tags": []
   },
   "source": [
    "<a id='Q3'></a>\n",
    "<div class=\" alert alert-warning\">\n",
    "    <h3><b>Student Question 1.3</b> The Target Network (10 points) </h3> \n",
    "    \n",
    "🔝\t<a href='#TOC'><b>Table of Contents</b></a>\n",
    "</div>\n"
   ]
  },
  {
   "cell_type": "markdown",
   "id": "11f15fdf-5b08-469f-a0d5-f63f6a969aff",
   "metadata": {
    "deletable": false,
    "editable": false,
    "nbgrader": {
     "cell_type": "markdown",
     "checksum": "61cefb26ece3864427822aed99841924",
     "grade": false,
     "grade_id": "cell-a748a52ab72e0273",
     "locked": true,
     "schema_version": 3,
     "solution": false,
     "task": false
    },
    "tags": []
   },
   "source": [
    "### 1.3.1 Question (5 points):\n",
    "\n",
    "Why do we use a separate target network in DQN instead of using the same network for both Q(s,a) and max_a(Q(s', ·))?\n",
    "\n",
    "**Select one:**\n",
    "\n",
    "1. To prevent the network from overfitting to the most recent transitions\n",
    "2. To ensure that the Q-values are always within a specific range\n",
    "3. To stabilize the training process by preventing frequent changes in target values\n",
    "4. To enable the network to learn from both on-policy and off-policy data"
   ]
  },
  {
   "cell_type": "code",
   "execution_count": 23,
   "id": "559704b6-23fd-4973-92ba-6492923011e2",
   "metadata": {},
   "outputs": [],
   "source": [
    "sq_1_3_1 = 3 # Replace with the appropriate answer number"
   ]
  },
  {
   "cell_type": "markdown",
   "id": "aa24ade0-0094-401f-820d-956a237e2247",
   "metadata": {
    "deletable": false,
    "editable": false,
    "nbgrader": {
     "cell_type": "markdown",
     "checksum": "e10a194b9212ed25ee1f1a223182e825",
     "grade": false,
     "grade_id": "cell-e43b228069f05456",
     "locked": true,
     "schema_version": 3,
     "solution": false,
     "task": false
    },
    "tags": []
   },
   "source": [
    "### 1.3.2 Question (5 points):\n",
    "\n",
    "What would happen if we don't stop the gradient of the target Q-value in DQN?\n",
    "\n",
    "**Select one:**\n",
    "\n",
    "1. The optimization process would become more stable due to the joint updates\n",
    "2. The target network updates would be synchronized with the main network updates\n",
    "3. Both the current Q-values and the target Q-values would be updated during optimization\n",
    "4. The algorithm would effectively switch to an on-policy learning method"
   ]
  },
  {
   "cell_type": "code",
   "execution_count": 24,
   "id": "e7714624-1df2-4e67-aa6a-0b248f69981e",
   "metadata": {},
   "outputs": [],
   "source": [
    "sq_1_3_2 = 3 # Replace with the appropriate answer number"
   ]
  },
  {
   "cell_type": "markdown",
   "id": "de0dd848-e39f-4fa8-bd6c-4b4c38396412",
   "metadata": {
    "deletable": false,
    "editable": false,
    "nbgrader": {
     "cell_type": "markdown",
     "checksum": "87ced07276419b634e8b7d852523bc90",
     "grade": false,
     "grade_id": "cell-2f5dabf7c2e0b401",
     "locked": true,
     "schema_version": 3,
     "solution": false,
     "task": false
    },
    "tags": []
   },
   "source": [
    "The following cells are used for grading"
   ]
  },
  {
   "cell_type": "code",
   "execution_count": 25,
   "id": "92b45bf0-c052-4b1c-b19c-750b371a6cf4",
   "metadata": {
    "deletable": false,
    "editable": false,
    "nbgrader": {
     "cell_type": "code",
     "checksum": "738fa24b9d702b770e751fa6df17c2a3",
     "grade": true,
     "grade_id": "cell-7427871eee3676e5",
     "locked": true,
     "points": 0,
     "schema_version": 3,
     "solution": false,
     "task": false
    },
    "tags": []
   },
   "outputs": [],
   "source": [
    "assert sq_1_3_1 in range(1, 5)\n",
    "assert sq_1_3_2 in range(1, 5)"
   ]
  },
  {
   "cell_type": "code",
   "execution_count": null,
   "id": "08be39cf-a443-4ce7-b709-4701b5b9d187",
   "metadata": {
    "deletable": false,
    "editable": false,
    "nbgrader": {
     "cell_type": "code",
     "checksum": "1f7a58a67e676406e37624e5050e1132",
     "grade": true,
     "grade_id": "cell-06da3985fcfd8e51",
     "locked": true,
     "points": 5,
     "schema_version": 3,
     "solution": false,
     "task": false
    },
    "tags": []
   },
   "outputs": [],
   "source": []
  },
  {
   "cell_type": "code",
   "execution_count": null,
   "id": "5b6fd766-1305-43dd-8a4f-756ad0457882",
   "metadata": {
    "deletable": false,
    "editable": false,
    "nbgrader": {
     "cell_type": "code",
     "checksum": "6a767e7d006960d5cd4bf0181c632ea3",
     "grade": true,
     "grade_id": "cell-a8c5938cdf0dfd2c",
     "locked": true,
     "points": 5,
     "schema_version": 3,
     "solution": false,
     "task": false
    },
    "tags": []
   },
   "outputs": [],
   "source": []
  },
  {
   "cell_type": "markdown",
   "id": "4266d794-008d-4d2c-9a9e-0e18d9b6e354",
   "metadata": {
    "tags": []
   },
   "source": [
    "# 3. Submitting <a id='3.'></a>\n",
    "Ensure all tasks and questions (in ```ex4_dpn.ipynb``` and ```ex4_rbf.ipynb```) are answered and and that the necessary plots are saved in the appropriate locations. The relevant plots and files needed to be submitted for this assignment are:\n",
    "\n",
    "\n",
    "- Training performance plots:\n",
    "  - `cartpole_dqn.png`: Cartpole, training performance plots in terms of episode and episodic reward\n",
    "  - `lunarlander_dqn.png`: Lunarlander, training performance plots in terms of episode and episodic reward \n",
    "<br>\n",
    "<br>\n",
    "\n",
    "  \n",
    "\n",
    "- Model files:\n",
    "  - `dqn.pt`: Trained model\n",
    "\n",
    "\n",
    "Ensure the model files and plots are saved in correct paths:\n",
    "- ```results/CartPole-v1/cartpole_dqn``` Training result for Cartpole environment\n",
    "- ```results/CartPole-v1/model/dqn.pt``` Model for Cartpole environment\n",
    "- ```results/LunarLander-v2/lunarlander_dqn.png``` Training result for LunarLander environment\n",
    "- ```results/LunarLander-v2/model/dqn.pt``` Model for LunarLander environment\n",
    "\n",
    "\n",
    "<span style=\"color:red\"> **# IMPORTANT: DO NOT FORGET ANOTHER TASK IN ```ex4_rbf.ipynb```** </span>"
   ]
  },
  {
   "cell_type": "code",
   "execution_count": 26,
   "id": "40c8536b",
   "metadata": {
    "deletable": false,
    "editable": false,
    "nbgrader": {
     "cell_type": "code",
     "checksum": "cc73e5f68adbc298f70feabf9026032d",
     "grade": true,
     "grade_id": "cell-c97f1e23824070fc",
     "locked": true,
     "points": 0,
     "schema_version": 3,
     "solution": false,
     "task": false
    }
   },
   "outputs": [
    {
     "ename": "AssertionError",
     "evalue": "",
     "output_type": "error",
     "traceback": [
      "\u001b[0;31m---------------------------------------------------------------------------\u001b[0m",
      "\u001b[0;31mAssertionError\u001b[0m                            Traceback (most recent call last)",
      "Cell \u001b[0;32mIn[26], line 2\u001b[0m\n\u001b[1;32m      1\u001b[0m \u001b[38;5;66;03m# Make sure that skip training is set to True before submission\u001b[39;00m\n\u001b[0;32m----> 2\u001b[0m \u001b[38;5;28;01massert\u001b[39;00m skip_training \u001b[38;5;241m==\u001b[39m \u001b[38;5;28;01mTrue\u001b[39;00m\n",
      "\u001b[0;31mAssertionError\u001b[0m: "
     ]
    }
   ],
   "source": [
    "# Make sure that skip training is set to True before submission\n",
    "assert skip_training == True"
   ]
  },
  {
   "cell_type": "markdown",
   "id": "2ec40b02-69c6-401a-ad79-2f67a8a660e9",
   "metadata": {
    "tags": []
   },
   "source": [
    "## 3.1 Feedback <a id='3.1'></a>\n",
    "\n",
    "In order to help the staff of the course as well as the forthcoming students, it would be great if you could answer to the following questions in your submission:"
   ]
  },
  {
   "cell_type": "markdown",
   "id": "d0a8baf6-b860-4338-b655-b28ec4fac282",
   "metadata": {},
   "source": [
    "1) How much time did you spend solving this exercise? (change the ```hrs``` variable below to a floating point number representing the number of hours taken e.g. 5.43)"
   ]
  },
  {
   "cell_type": "code",
   "execution_count": null,
   "id": "ed94026d-ad80-4148-8e02-5bcfd4b33e98",
   "metadata": {
    "tags": []
   },
   "outputs": [],
   "source": [
    "hrs = 1"
   ]
  },
  {
   "cell_type": "markdown",
   "id": "732e1e56-4c4f-4bdf-95b3-f4efcc4c053a",
   "metadata": {},
   "source": [
    "2) Difficulty of each task/question from 1-5 (int or float)"
   ]
  },
  {
   "cell_type": "code",
   "execution_count": null,
   "id": "161f647d-4cf5-4cf8-abbf-1c0d285c5f40",
   "metadata": {
    "tags": []
   },
   "outputs": [],
   "source": [
    "T1 = 5   # Implementing DQN (10 points)\n",
    "Q1_1 = 3 # Question 1.1 Considering Continuous Action Spaces (5 points)\n",
    "Q1_2 = 3 # Question 1.2 Continuous Action Spaces Part 1 (15 points)\n",
    "Q1_3 = 3 # Question 1.3 The Target Network (10 points)"
   ]
  },
  {
   "cell_type": "markdown",
   "id": "4fb4a6d0-4ff1-4705-93af-493eed829e4e",
   "metadata": {},
   "source": [
    "3) How well did you understand the content of the task/question from 1-5? (int or float)"
   ]
  },
  {
   "cell_type": "code",
   "execution_count": null,
   "id": "eb003431-4a23-4350-86ec-34444a64ee9d",
   "metadata": {
    "tags": []
   },
   "outputs": [],
   "source": [
    "T1 = 2   # Implementing DQN (10 points)\n",
    "Q1_1 = 3 # Question 1.1 Considering Continuous Action Spaces (5 points)\n",
    "Q1_2 = 4 # Question 1.2 Continuous Action Spaces Part 1 (15 points)\n",
    "Q1_3 = 4 # Question 1.3 The Target Network (10 points)"
   ]
  },
  {
   "cell_type": "markdown",
   "id": "c2fa9a62-dcf9-41fe-8d56-a852b2582efa",
   "metadata": {},
   "source": [
    "4) General feedback. Consider questions like:\n",
    "\n",
    "    - Did the content of the lecture relate well with the assignment?\n",
    "    - To what extent did you find the material to be potentially useful for your research and studies?\n",
    "    \n",
    "Please share any additional feedback, suggestions, or comments you have about the lecture, assignment, or course content. Your input is valuable in helping us improve the learning experience."
   ]
  },
  {
   "cell_type": "markdown",
   "id": "77edf97b-6cd9-48a9-bbc9-a075e6c15abb",
   "metadata": {
    "tags": []
   },
   "source": [
    "DOUBLE CLICK HERE TO EDIT, CLEAR THIS TEXT AND ANSWER HERE"
   ]
  }
 ],
 "metadata": {
  "kernelspec": {
   "display_name": "Python 3",
   "language": "python",
   "name": "python3"
  },
  "language_info": {
   "codemirror_mode": {
    "name": "ipython",
    "version": 3
   },
   "file_extension": ".py",
   "mimetype": "text/x-python",
   "name": "python",
   "nbconvert_exporter": "python",
   "pygments_lexer": "ipython3",
   "version": "3.10.12"
  }
 },
 "nbformat": 4,
 "nbformat_minor": 5
}
