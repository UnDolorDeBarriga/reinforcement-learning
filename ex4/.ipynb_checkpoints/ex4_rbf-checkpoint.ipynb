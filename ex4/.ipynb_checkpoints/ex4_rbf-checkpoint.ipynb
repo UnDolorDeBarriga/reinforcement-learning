{
 "cells": [
  {
   "cell_type": "markdown",
   "id": "53274fb5",
   "metadata": {
    "deletable": false,
    "editable": false,
    "nbgrader": {
     "cell_type": "markdown",
     "checksum": "42aa8ce65cf2808c1df90efc58a0a546",
     "grade": false,
     "grade_id": "cell-d0c446e141ba6217",
     "locked": true,
     "schema_version": 3,
     "solution": false,
     "task": false
    }
   },
   "source": [
    "\n",
    "<div class=\"alert alert-block alert-info\">\n",
    "   <h2 align=\"center\"> <center><b> Reinforcement Learning Assignment 4 - Function Approximators Part 1: Radial Basis Functions </b></center></h2>\n",
    "\n",
    "<br>\n",
    "<center><font size=\"3\">This notebook is a part of teaching material for ELEC-E8125</font></center>\n",
    "<center><font size=\"3\">Aalto University</font></center>\n",
    "</div>\n",
    "\n",
    "\n",
    "<a id='TOC'></a>\n",
    "\n",
    "<div class=\"alert alert-block alert-success\">\n",
    "    \n",
    "# Table of contents\n",
    "* <a href='#1.'> 1. Introduction </a>\n",
    "* <a href='#1.1'> 1.1 Task environments </a>\n",
    "* <a href='#1.2'> 1.2 Learning Objectives </a>\n",
    "* <a href='#1.3'> 1.3 Code Structure & Files </a>\n",
    "* <a href='#2.'> 2. Approximate with non-linear features</a>\n",
    "* <a href='#2.1'> 2.1 Radial Basis Functions</a>\n",
    "* <a href='#2.2'> 2.2 Sklearn RBF function</a>\n",
    "* <a href='#3.'> 3. Submitting </a>\n",
    "* <a href='#3.1'> 3.1 Feedback </a>\n",
    "\n",
    "<a href='#T1'><b>Student Task 1.</b> Implementing Q-learning using Function Approximation (20 points) </a>\\\n",
    "<a href='#Q1'><b>Student Question 1.1</b> Considering Linear Features (10 points) </a>\\\n",
    "<a href='#Q2'><b>Student Question 1.2</b> Experience Replay Buffer (10 points) </a>\\\n",
    "<a href='#Q3'><b>Student Question 1.3</b> Grid-based vs Function Approximators (10 points) </a>\\\n",
    "<a href='#T2'><b>Student Task 2.</b> Visualizing the Policy (10 points)</a>\n",
    "    \n",
    "**Total Points:** 60\n",
    "\n",
    "**Estimated runtime of all the cells:** 2 - 3 hours"
   ]
  },
  {
   "cell_type": "markdown",
   "id": "c30395ea",
   "metadata": {
    "deletable": false,
    "editable": false,
    "nbgrader": {
     "cell_type": "markdown",
     "checksum": "7a2b0a701ed47cff056b5cb211ab235e",
     "grade": false,
     "grade_id": "cell-e08152dda643a700",
     "locked": true,
     "schema_version": 3,
     "solution": false,
     "task": false
    }
   },
   "source": [
    "# 1. Introduction <a id='1.'></a>\n",
    "\n",
    "In many real world scenarios, the dimensionality of the state space may be too high to compute and store the Q-values for each possible state and action in a Q-table. Instead, the state value and action value functions can be learned by using a function approximator, such as a radial basis functions (RBFs). In this exercise, you will start with handcrafted features and then move to radial basis functions in the **Cartpole** environment.\n",
    "\n",
    "\n",
    "<figure style=\"text-align: center\">\n",
    "<img src=\"imgs/cartpole.png\" width=\"300px\">\n",
    "<figcaption style=\"text-align: center\"> Figure 1: The Cartpole environment. </figcaption>\n",
    "</figure>\n",
    "\n",
    "Useful Sources:\n",
    "\n",
    "- Sutton, Richard S., and Andrew G. Barto. \"Reinforcement Learning: An Introduction (2nd Edition).\" London, England (2017). http://incompleteideas.net/book/RLbook2018.pdf\n",
    "- Lecture 4: Function Approximation (Sutton & Barto Ch. 9-9.3, 10-10.1)\n",
    "\n",
    "## 1.1 Task environments <a id='1.1'></a>\n",
    "\n",
    "In this part, we will specifically use RBF-based Q-learning to solve cartpole task. In this environment, a pole is attached by an un-actuated joint to a cart, which moves along a frictionless track. The pendulum is placed upright on the cart and the goal is to balance the pole by applying forces in the left and right direction on the cart. \n",
    "\n",
    "You can find the detailed description of the task through this link: https://gymnasium.farama.org/environments/classic_control/cart_pole/\n",
    "\n",
    "\n",
    "## 1.2 Learning Objectives: <a id='1.2'></a>\n",
    "- Understand why and how function approximators can be used for Q-learning\n",
    "- Develop intuition behind function approximators: radial basis functions\n",
    "\n",
    "## 1.3 Code Structure & Files <a id='1.3'></a>\n",
    "\n",
    "```ex4_rbf.ipynb``` is the file needed to be modified for this part of the assignment. \n",
    "\n",
    "<span style=\"color:red\"> **# IMPORTANT: DO NOT FORGET ANOTHER TASK IN ```ex4_dqn.ipynb```** </span>\n",
    "\n",
    "```\n",
    "├───cfg                            # Config files for environments\n",
    "├───imgs                           # Images used in notebook\n",
    "├───results\n",
    "│   └───CartPole-v1\n",
    "│   │   ├───logging                \n",
    "│   │   │    └───logging.pkl        # Contains logged data\n",
    "│   │   ├───model              \n",
    "│   │   │    └───*dqn.pt            # Contains trained model for dqn task\n",
    "│   │   │    └───*rbf.pkl           # Contains trained model for rbf task\n",
    "│   │   └───video                   # Videos saved\n",
    "│   │   └───*cartpole_rbf.png       # Contains training performance plot for rbd\n",
    "│   │   └───*cartpole_hd.png        # Contains training performance plot for handcrafted feature\n",
    "│   └───LunarLander-v2\n",
    "│   ex4_dqn.ipynb                   # 2nd assignment file containing tasks <---------\n",
    "│   ex4_rbf.ipynb                   # 1st assignment file containing tasks <---------This task\n",
    "│   train.py                        # Contains train and test functions \n",
    "│   utils.py                        # Contains useful functions \n",
    "└───buffer.py                       # Contains buffer functions\n",
    "```\n",
    "\n"
   ]
  },
  {
   "cell_type": "markdown",
   "id": "5b3c5f5c",
   "metadata": {
    "deletable": false,
    "editable": false,
    "nbgrader": {
     "cell_type": "markdown",
     "checksum": "36b40a9e7e6f787b1b792f5f3a7e224a",
     "grade": false,
     "grade_id": "cell-ab51a95c38cfeb41",
     "locked": true,
     "schema_version": 3,
     "solution": false,
     "task": false
    },
    "tags": []
   },
   "source": [
    "# 2. Approximate with non-linear features <a id='2.'></a>\n",
    "## 2.1 Radial Basis Functions <a id='2.1'></a>\n",
    "A radial basis function (RBF) is a real-valued function $\\phi$ that maps a vector $\\boldsymbol{x} \\in \\mathbb{R}^d$ into a real-value $\\phi : \\mathbb{R}^d \\mapsto \\mathbb{R}$. The RBF $\\phi(\\boldsymbol{x} )$ = $\\phi(||\\boldsymbol{x} ||)$ acts on a distance (radial) and a basis function $\\phi$ (e.g. Gaussian function). The RBFs are commonly used as kernels in machine learning. The RBF kernel is defined as a $K(\\boldsymbol{x} , \\boldsymbol{x} ′) = 〈\\phi(\\boldsymbol{x}),\\phi(\\boldsymbol{x}′)〉$, where $\\phi$ is the Gaussian function. Therefore, the RBF kernel is defined as\n",
    "\n",
    "$$\n",
    "K\\left(\\boldsymbol{x}, \\boldsymbol{x}^{\\prime}\\right)=\\exp \\left(-\\frac{\\left\\|\\boldsymbol{x}-\\boldsymbol{x}^{\\prime}\\right\\|^2}{2 \\sigma^2}\\right)\n",
    "$$\n",
    "\n",
    "where the parameter $\\sigma^2$ is the variance and gives shape to the Gaussian function. \n",
    "\n",
    "On the exercise you are given a ```featurizer``` which uses an ```RBFSampler```. The ```RBFSampler``` uses a Monte Carlo approximation of the RBF kernel and generates samples with the specified variance. The ```RBFSampler``` has been trained on a predefined dataset. Thus, the RBF kernel will map the state $x \\in \\mathbb{R}$ d to the distance to the trained dataset. Therefore, an input state will be transformed to as many features as samples $N$ are specified in the ```RBFSampler``` $\\phi : \\mathbb{R}^d \\mapsto \\mathbb{R}^N $. \n",
    "\n",
    "In a nutshell, the ```featurizer``` function maps low-dimensional states to a high-dimensional representation, which reveals properties that haven’t been shown in the original low-dimensional space, e.g., for the Cartpole environment, it maps the original four-dimensional states to a 230-dimensional vector.\n",
    "\n",
    "## 2.2 Sklearn RBF function<a id='2.2'></a>\n",
    "In this excercise, we use scikit-learn library to implement the RBF approximation by doing following steps:\n",
    "\n",
    "- RBFSampler: A RBF kernel will map feature into higher dimensions using random Fourier features.\n",
    "- FeatureUnion: Concatenates results of multiple transformer objects.\n",
    "- SGDRegressor: Linear model fitted by minimizing a regularized empirical loss with SGD.\n",
    "\n",
    "\n"
   ]
  },
  {
   "cell_type": "markdown",
   "id": "7c8cedc4-14e0-4fb1-b3ba-f26009fa02a4",
   "metadata": {
    "deletable": false,
    "editable": false,
    "nbgrader": {
     "cell_type": "markdown",
     "checksum": "47530e48db6901812adae6ba0239bc2d",
     "grade": false,
     "grade_id": "cell-fdd24e05653d4a99",
     "locked": true,
     "schema_version": 3,
     "solution": false,
     "task": false
    }
   },
   "source": [
    "## Warnings:\n",
    "\n",
    "- Don’t copy and paste cells within a notebook. This will mess up the tracking metadata and prevent autograding from working.\n",
    "- Only add new cells using the '+' button in the upper toolbar and do not split cells.\n",
    "- Be cautious about things such as copying the whole notebook to Colab to work on it. This has sometimes resulted in removing all notebook metadata, making autograding impossible."
   ]
  },
  {
   "cell_type": "markdown",
   "id": "5511d36c",
   "metadata": {
    "deletable": false,
    "editable": false,
    "nbgrader": {
     "cell_type": "markdown",
     "checksum": "d50ae4772484f424d02f23d09e82d04f",
     "grade": false,
     "grade_id": "cell-102128ef6321fb44",
     "locked": true,
     "schema_version": 3,
     "solution": false,
     "task": false
    }
   },
   "source": [
    "<a id='T1'></a>\n",
    "<div class=\" alert alert-warning\">\n",
    "    <h3><b>Student Task 1.</b> Implementing Q-learning using Function Approximation (20 points) </h3> \n",
    "\n",
    "Implement Q-learning using function approximation. Also implement $\\epsilon$-greedy action selection. Test two different features for state representations:\n",
    "\n",
    "&nbsp;&nbsp;&nbsp;&nbsp;&nbsp;(a) handcrafted feature vector $\\phi(s) = [s, |s|]^T$,(use the ```featurizer``` inside the ```RBFAgent``` class).\n",
    "\n",
    "&nbsp;&nbsp;&nbsp;&nbsp;&nbsp;(b) radial basis function representations (use the ```featurizer``` inside the ```RBFAgent``` class).\n",
    "\n",
    "For this task you need to modify functions ```featurize```, ```get_action```, and ```update``` inside the ```RBFAgent``` class. Test the implementation on the Cartpole environment by running the ```train(agent)``` script with default configs. You can test the trained model with the ```test(agent, cfg_args=dict(save_video=true))``` script. \n",
    "    \n",
    "**See Figure 2 for an example training performance plot for Task1(b). Save the training performance plots for both (a) and (b), and check if they are in the right place (the paths please refer to <a href='#3.'>Submitting<a>).**\n",
    "\n",
    "<figure style=\"text-align: center\">\n",
    "<img src=\"imgs/rbf.png\" width=\"300px\">\n",
    "<figcaption style=\"text-align: center\">Figure 2: The training performance plot for Task 1 (b) might look something like this.</figcaption>\n",
    "</figure>\n",
    "    \n",
    "🔝\t<a href='#TOC'><b>Table of Contents</b></a>\n",
    "</div>\n"
   ]
  },
  {
   "cell_type": "code",
   "execution_count": 1,
   "id": "57105930",
   "metadata": {},
   "outputs": [],
   "source": [
    "skip_training = True  # Set this flag to True before validation and submission"
   ]
  },
  {
   "cell_type": "code",
   "execution_count": null,
   "id": "fd6ed5fa",
   "metadata": {
    "deletable": false,
    "editable": false,
    "nbgrader": {
     "cell_type": "code",
     "checksum": "8292581c94100e7cfcfa56cb34739b65",
     "grade": true,
     "grade_id": "cell-21f05aed2ce5f313",
     "locked": true,
     "points": 0,
     "schema_version": 3,
     "solution": false,
     "task": false
    }
   },
   "outputs": [],
   "source": []
  },
  {
   "cell_type": "code",
   "execution_count": 2,
   "id": "62817342",
   "metadata": {
    "tags": []
   },
   "outputs": [],
   "source": [
    "import sys, os\n",
    "sys.path.insert(0, os.path.abspath(\"..\"))\n",
    "\n",
    "import yaml\n",
    "import numpy as np\n",
    "from pathlib import Path\n",
    "\n",
    "from sklearn.linear_model import SGDRegressor\n",
    "from sklearn.kernel_approximation import RBFSampler\n",
    "from sklearn.preprocessing import StandardScaler\n",
    "from sklearn.pipeline import FeatureUnion\n",
    "\n",
    "from buffer import Batch\n",
    "import utils as u\n",
    "import train as t\n",
    "\n",
    "from IPython.display import Video # to display videos"
   ]
  },
  {
   "cell_type": "code",
   "execution_count": 3,
   "id": "9ee3fb4e",
   "metadata": {
    "tags": []
   },
   "outputs": [],
   "source": [
    "class RBFAgent(object):\n",
    "    def __init__(self, n_actions, gamma=0.98, batch_size=32):\n",
    "        self.scaler = None\n",
    "        self.featurizer = None\n",
    "        self.q_functions = None\n",
    "        self.gamma = gamma\n",
    "        self.batch_size = batch_size\n",
    "        self.n_actions = n_actions\n",
    "        self._initialize_model()\n",
    "\n",
    "    def _initialize_model(self):\n",
    "        # Draw some samples from the observation range and initialize the scaler (used to normalize data)\n",
    "        obs_limit = np.array([4.8, 5, 0.5, 5],\n",
    "                             dtype=np.float32)\n",
    "        samples = np.random.uniform(-obs_limit, obs_limit,\n",
    "                                    (1000, obs_limit.shape[0])).astype(np.float32)\n",
    "        \n",
    "        # calculate the mean and var of samples, used later to normalize training data\n",
    "        self.scaler = StandardScaler().fit(samples) \n",
    "\n",
    "        # Initialize the RBF featurizer\n",
    "        self.featurizer = FeatureUnion([\n",
    "            (\"rbf1\", RBFSampler(gamma=5.0, n_components=100)),\n",
    "            (\"rbf2\", RBFSampler(gamma=2.0, n_components=80)),\n",
    "            (\"rbf3\", RBFSampler(gamma=1.0, n_components=50)),\n",
    "        ])\n",
    "        self.featurizer.fit(self.scaler.transform(samples))\n",
    "\n",
    "        # Create a value approximator for each action dimension\n",
    "        self.q_functions = [SGDRegressor(learning_rate=\"constant\", max_iter=500, tol=1e-3)\n",
    "                           for _ in range(self.n_actions)]\n",
    "\n",
    "        # Initialize it to whatever values; implementation detail\n",
    "        for q_a in self.q_functions:\n",
    "            q_a.partial_fit(self.featurize(samples), \n",
    "                            np.zeros((samples.shape[0],), dtype=np.float32))\n",
    "\n",
    "    def featurize(self, state):\n",
    "        \"\"\" Map state to a higher dimension for better representation.\"\"\"\n",
    "        if len(state.shape) == 1:\n",
    "            state = state.reshape(1, -1)\n",
    "        \n",
    "        # TODO: Task 1, choose which feature to use. \n",
    "        # Task 1a: implement the manual features here \n",
    "        ########## You code starts here #########\n",
    "        manual_feature = np.concatenate([state, np.abs(state)], axis=1)\n",
    "        ########## You code ends here #########\n",
    "\n",
    "        # Task 1b: implement the RBF features transformation here \n",
    "        # it will map a state to a higher dimension (100+80+50)\n",
    "        ########## You code starts here #########\n",
    "        rbf_feature = self.featurizer.transform(self.scaler.transform(state))\n",
    "        ########## You code ends here #########\n",
    "\n",
    "        #Task 1: return manual_feature or return rbf_feature\n",
    "        ########## You code starts here #########\n",
    "        # feature = manual_feature #(task 1 a)\n",
    "        feature = rbf_feature #(task 1 b)\n",
    "        ########## You code ends here #########\n",
    "        \n",
    "        return feature\n",
    "    \n",
    "    def get_action(self, state, epsilon=0.0):\n",
    "        # TODO: Task 1: Implement epsilon-greedy policy\n",
    "        # Hints:\n",
    "        # 1. self.q_functions is a list which defines a q function for each action dimension\n",
    "        # 2. for each q function, use predict(feature) to obtain the q value\n",
    "        ########## Your code starts here ##########\n",
    "        p = np.random.uniform(0, 1)\n",
    "        \n",
    "        feature = self.featurize(state)\n",
    "        q_values = [self.q_functions[a].predict(feature)[0] for a in range(self.n_actions)]\n",
    "        \n",
    "        if p < epsilon:\n",
    "            action = np.random.randint(self.n_actions)\n",
    "        else:\n",
    "            action = np.argmax(q_values)\n",
    "        ########## Your code ends here #########\n",
    "        return action\n",
    "\n",
    "    def _to_squeezed_np(self, batch:Batch) -> Batch:\n",
    "        \"\"\" A simple helper function squeeze data dimension and cover data format from tensor to np.ndarray.\"\"\"\n",
    "        _ret = {}\n",
    "        for name, value in batch._asdict().items():\n",
    "            if isinstance(value, dict): # this is for extra, which is a dict\n",
    "                for k, v in value.items():\n",
    "                    value[k] = v.squeeze().numpy()\n",
    "                _ret[name] = value\n",
    "            else:\n",
    "                _ret[name] = value.squeeze().numpy()\n",
    "        return Batch(**_ret)\n",
    "        \n",
    "    def update(self, buffer):\n",
    "        # batch is a namedtuple, which has state, action, next_state, not_done, reward\n",
    "        # you can access the value be batch.<name>, e.g, batch.state\n",
    "        batch = buffer.sample(self.batch_size) \n",
    "        # Hint:\n",
    "        #    state = batch.state\n",
    "        #    action = batch.action \n",
    "        #    next_state = batch.next_state\n",
    "        #    reward = batch.reward \n",
    "        #    not_done = batch.not_done \n",
    "        \n",
    "        # the returned batch is a namedtuple, where the data is torch.Tensor\n",
    "        # we first squeeze dim and then covert it to Numpy array.\n",
    "        batch = self._to_squeezed_np(batch)\n",
    "\n",
    "        # TODO: Task 1, update q_functions\n",
    "        # Hints: \n",
    "        # 1. featurize the state and next_state\n",
    "        # 2. calculate q_target (check q-learning)\n",
    "        # 3. self.q_functions is a list which defines a q function for each action dimension\n",
    "        #    for each q function, use q.predict(featurized_state) to obtain the q value \n",
    "        # 4. remember to use not_done to mask out the q values at terminal states (treat them as 0)\n",
    "        ########## You code starts here #########\n",
    "        f_state = self.featurize(batch.state)\n",
    "        f_next_state = self.featurize(batch.next_state)\n",
    "        \n",
    "        # Check the Hints to finish the rest ;)\n",
    "        next_q_values = np.array([self.q_functions[a].predict(f_next_state) for a in range(self.n_actions)])\n",
    "        max_next_q = np.max(next_q_values, axis=0)\n",
    "        q_tar = batch.reward + self.gamma * max_next_q * batch.not_done\n",
    "        ########## You code ends here #########\n",
    "        \n",
    "        # Get new weights for each action separately\n",
    "        for a in range(self.n_actions):\n",
    "            # Find states where `a` was taken\n",
    "            idx = batch.action == a\n",
    "\n",
    "            # If a not present in the batch, skip and move to the next action\n",
    "            if np.any(idx):\n",
    "                act_states = f_state[idx]\n",
    "                act_targets = q_tar[idx]\n",
    "\n",
    "                # Perform a single SGD step on the Q-function params to update the q_function corresponding to action a\n",
    "                self.q_functions[a].partial_fit(act_states, act_targets)\n",
    "\n",
    "        return {}\n",
    "\n",
    "    def save(self, fp):\n",
    "        path = fp/'rbf.pkl'\n",
    "        u.save_object(\n",
    "            {'q': self.q_functions, 'featurizer': self.featurizer},\n",
    "            path\n",
    "        )\n",
    "\n",
    "    def load(self, fp):\n",
    "        path = fp/'rbf.pkl'\n",
    "        d = u.load_object(path)\n",
    "\n",
    "        self.q_functions = d['q']\n",
    "        self.featurizer = d['featurizer']"
   ]
  },
  {
   "cell_type": "markdown",
   "id": "bb219433-160a-4c5b-b1bf-6c654a57e703",
   "metadata": {
    "deletable": false,
    "editable": false,
    "nbgrader": {
     "cell_type": "markdown",
     "checksum": "d198c51b373df885c3794fef8724caf0",
     "grade": false,
     "grade_id": "cell-f9705dbb63754c13",
     "locked": true,
     "schema_version": 3,
     "solution": false,
     "task": false
    },
    "tags": []
   },
   "source": [
    "<a id='T1'></a>\n",
    "<div class=\" alert alert-warning\">\n",
    "    <h4><b>Student Task 1.(a)</b> Linear model with handcraft feature </h4> \n",
    "\n",
    "First, let's test Q-learning with handcrafted features. We define the feature as :\n",
    "    \n",
    "&nbsp;&nbsp;&nbsp;&nbsp;&nbsp;&nbsp;&nbsp;&nbsp;&nbsp;&nbsp;&nbsp;&nbsp;&nbsp;&nbsp;&nbsp;&nbsp;&nbsp;&nbsp;&nbsp;&nbsp;&nbsp;&nbsp;&nbsp;&nbsp;&nbsp;&nbsp;&nbsp;&nbsp;&nbsp;&nbsp;$\\phi(s) = [s, |s|]^T$\n",
    "\n",
    "Then we will feed this feature into a linear model to predict corresponding Q-values.\n",
    "\n",
    "For this Task, implement the code in ```class RBFAgent```:\n",
    "    \n",
    "1. First, you need to modify functions ```featurize```, to convert the state $s$ from encironment to $[s, |s|]^T$.\n",
    "2. Modify the function ```get_action```, use ```self.q_functions``` to select the action has the highest return.\n",
    "3. Modify the function ```update```, based on the Q-learning objective to update the Q-function (linear models).\n",
    "\n",
    "After the modifying, test the implementation on the Cartpole environment by running the ```train(agent)``` script with default configs. You can test the trained model with the ```test(agent, cfg_args=dict(save_video=true))``` script. \n",
    "</div>"
   ]
  },
  {
   "cell_type": "code",
   "execution_count": 4,
   "id": "d9dd6467",
   "metadata": {
    "tags": []
   },
   "outputs": [],
   "source": [
    "# After the modifying, run\n",
    "# init agent\n",
    "with open(Path().cwd()/'cfg'/'cartpole_rbf.yaml', 'r') as f:\n",
    "    cfg = t.Struct(**yaml.safe_load(f))\n",
    "        \n",
    "agent = RBFAgent(n_actions=cfg.n_actions, gamma=cfg.gamma, batch_size=cfg.batch_size)"
   ]
  },
  {
   "cell_type": "code",
   "execution_count": 5,
   "id": "d78c6566",
   "metadata": {
    "tags": []
   },
   "outputs": [
    {
     "name": "stdout",
     "output_type": "stream",
     "text": [
      "Numpy/Torch/Random Seed:  436\n",
      "{'ep_reward': 19.0, 'episode': 0, 'epsilon': 1.0, 'ep_avr': 0.011725582007784396, 'ts_avr': 0.0006038531520109819}\n",
      "{'ep_reward': 200.0, 'episode': 100, 'epsilon': 0.3333333333333333, 'ep_avr': 0.1938632606389001, 'ts_avr': 0.0017896946540202048}\n",
      "{'ep_reward': 200.0, 'episode': 200, 'epsilon': 0.2, 'ep_avr': 0.3297816807159688, 'ts_avr': 0.0018207769661877}\n",
      "{'ep_reward': 200.0, 'episode': 300, 'epsilon': 0.14285714285714285, 'ep_avr': 0.3457990016893018, 'ts_avr': 0.0018244679804635304}\n",
      "{'ep_reward': 200.0, 'episode': 400, 'epsilon': 0.1111111111111111, 'ep_avr': 0.36168339066964106, 'ts_avr': 0.0018346106413076693}\n",
      "{'ep_reward': 200.0, 'episode': 500, 'epsilon': 0.09090909090909091, 'ep_avr': 0.36738075117580593, 'ts_avr': 0.0018428456964856782}\n",
      "{'ep_reward': 200.0, 'episode': 600, 'epsilon': 0.07692307692307693, 'ep_avr': 0.36771432409179394, 'ts_avr': 0.0018446041138312315}\n",
      "{'ep_reward': 200.0, 'episode': 700, 'epsilon': 0.06666666666666667, 'ep_avr': 0.3679546468378976, 'ts_avr': 0.0018556881101928191}\n",
      "{'ep_reward': 192.0, 'episode': 800, 'epsilon': 0.058823529411764705, 'ep_avr': 0.2585668259806698, 'ts_avr': 0.0018104190695820155}\n",
      "{'ep_reward': 200.0, 'episode': 900, 'epsilon': 0.05263157894736842, 'ep_avr': 0.36569606033852325, 'ts_avr': 0.0018294135500824065}\n",
      "{'ep_reward': 200.0, 'episode': 1000, 'epsilon': 0.05, 'ep_avr': 0.3673046460351907, 'ts_avr': 0.0018359272703790338}\n",
      "{'ep_reward': 200.0, 'episode': 1100, 'epsilon': 0.05, 'ep_avr': 0.36872538468509447, 'ts_avr': 0.0018430225072894246}\n",
      "{'ep_reward': 200.0, 'episode': 1200, 'epsilon': 0.05, 'ep_avr': 0.3722043680038769, 'ts_avr': 0.001860405850072857}\n",
      "{'ep_reward': 200.0, 'episode': 1300, 'epsilon': 0.05, 'ep_avr': 0.36671675599063747, 'ts_avr': 0.0018329784301575273}\n",
      "{'ep_reward': 200.0, 'episode': 1400, 'epsilon': 0.05, 'ep_avr': 0.36502503185649404, 'ts_avr': 0.0018245192168600624}\n",
      "{'ep_reward': 200.0, 'episode': 1500, 'epsilon': 0.05, 'ep_avr': 0.3725125563389156, 'ts_avr': 0.0018619361184362788}\n",
      "{'ep_reward': 200.0, 'episode': 1600, 'epsilon': 0.05, 'ep_avr': 0.3670112210995285, 'ts_avr': 0.0018344501193234464}\n",
      "{'ep_reward': 200.0, 'episode': 1700, 'epsilon': 0.05, 'ep_avr': 0.3701176529302029, 'ts_avr': 0.001849977889866568}\n",
      "{'ep_reward': 200.0, 'episode': 1800, 'epsilon': 0.05, 'ep_avr': 0.3692826567956945, 'ts_avr': 0.0018458116138644982}\n",
      "{'ep_reward': 200.0, 'episode': 1900, 'epsilon': 0.05, 'ep_avr': 0.3645379241014598, 'ts_avr': 0.0018220792592794168}\n",
      "------ Training Finished ------\n"
     ]
    }
   ],
   "source": [
    "if not skip_training:\n",
    "    t.train(agent, cfg_path=Path().cwd()/'cfg'/'cartpole_rbf.yaml', cfg_args={}) # >= 20 mins"
   ]
  },
  {
   "cell_type": "code",
   "execution_count": 6,
   "id": "4d57a812",
   "metadata": {
    "tags": []
   },
   "outputs": [
    {
     "name": "stdout",
     "output_type": "stream",
     "text": [
      "Numpy/Torch/Random Seed:  436\n",
      "{'episode': 0, 'ep_reward': 200.0}\n",
      "{'episode': 1, 'ep_reward': 200.0}\n",
      "{'episode': 2, 'ep_reward': 200.0}\n",
      "{'episode': 3, 'ep_reward': 200.0}\n",
      "{'episode': 4, 'ep_reward': 200.0}\n",
      "{'episode': 5, 'ep_reward': 200.0}\n",
      "{'episode': 6, 'ep_reward': 200.0}\n",
      "{'episode': 7, 'ep_reward': 200.0}\n",
      "{'episode': 8, 'ep_reward': 200.0}\n",
      "{'episode': 9, 'ep_reward': 200.0}\n"
     ]
    }
   ],
   "source": [
    "if not skip_training:\n",
    "    t.test(agent, cfg_path=Path().cwd()/'cfg'/'cartpole_rbf.yaml', cfg_args=dict(save_video=True), seeds=[67, 23, 89, 12, 45, 78, 34, 90, 21, 56]) "
   ]
  },
  {
   "cell_type": "code",
   "execution_count": 7,
   "id": "4e9ba558-6057-4142-804b-d6bc43d0d709",
   "metadata": {
    "tags": []
   },
   "outputs": [
    {
     "name": "stdout",
     "output_type": "stream",
     "text": [
      "Numpy/Torch/Random Seed:  436\n"
     ]
    },
    {
     "data": {
      "image/png": "[encoded data removed]",
      "text/plain": [
       "<Figure size 640x480 with 1 Axes>"
      ]
     },
     "metadata": {},
     "output_type": "display_data"
    }
   ],
   "source": [
    "if not skip_training:\n",
    "    t.plot(save_name='cartpole_hd.png', cfg_path=Path().cwd()/'cfg'/'cartpole_rbf.yaml', cfg_args={}) # < 15 mins"
   ]
  },
  {
   "cell_type": "markdown",
   "id": "05fb6b18",
   "metadata": {},
   "source": [
    "The agent acting in the environment can be seen using the following command. Change the path to pick the episode you want to visualize. Bear in mind by default video saving for training is taken every 500 episodes"
   ]
  },
  {
   "cell_type": "code",
   "execution_count": 8,
   "id": "69b48c8a",
   "metadata": {
    "tags": []
   },
   "outputs": [
    {
     "data": {
      "text/html": [
       "<video loop autoplay  >\n",
       " <source src=\"data:video/mp4;base64,AAAAIGZ0eXBpc29tAAACAGlzb21pc28yYXZjMW1wNDEAAAAIZnJlZQAAHpRtZGF0AAACrwYF//+r3EXpvebZSLeWLNgg2SPu73gyNjQgLSBjb3JlIDE2NCByMzA5NSBiYWVlNDAwIC0gSC4yNjQvTVBFRy00IEFWQyBjb2RlYyAtIENvcHlsZWZ0IDIwMDMtMjAyMiAtIGh0dHA6Ly93d3cudmlkZW9sYW4ub3JnL3gyNjQuaHRtbCAtIG9wdGlvbnM6IGNhYmFjPTEgcmVmPTMgZGVibG9jaz0xOjA6MCBhbmFseXNlPTB4MzoweDExMyBtZT1oZXggc3VibWU9NyBwc3k9MSBwc3lfcmQ9MS4wMDowLjAwIG1peGVkX3JlZj0xIG1lX3JhbmdlPTE2IGNocm9tYV9tZT0xIHRyZWxsaXM9MSA4eDhkY3Q9MSBjcW09MCBkZWFkem9uZT0yMSwxMSBmYXN0X3Bza2lwPTEgY2hyb21hX3FwX29mZnNldD0tMiB0aHJlYWRzPTEyIGxvb2thaGVhZF90aHJlYWRzPTIgc2xpY2VkX3RocmVhZHM9MCBucj0wIGRlY2ltYXRlPTEgaW50ZXJsYWNlZD0wIGJsdXJheV9jb21wYXQ9MCBjb25zdHJhaW5lZF9pbnRyYT0wIGJmcmFtZXM9MyBiX3B5cmFtaWQ9MiBiX2FkYXB0PTEgYl9iaWFzPTAgZGlyZWN0PTEgd2VpZ2h0Yj0xIG9wZW5fZ29wPTAgd2VpZ2h0cD0yIGtleWludD0yNTAga2V5aW50X21pbj0yNSBzY2VuZWN1dD00MCBpbnRyYV9yZWZyZXNoPTAgcmNfbG9va2FoZWFkPTQwIHJjPWNyZiBtYnRyZWU9MSBjcmY9MjMuMCBxY29tcD0wLjYwIHFwbWluPTAgcXBtYXg9NjkgcXBzdGVwPTQgaXBfcmF0aW89MS40MCBhcT0xOjEuMDAAgAAAAedliIQAJ//+9bF8CmrJ84oM6DIu4Zckya62IuJtAMAAJShQAAADABLJlCWzIByZd0AAABMgA4ofQZQeYiYqxUCV4g4JjdGAVR1y3YAA8tPQA9noLuPLGQEGci4ZzLBt/g83/R86noEDQRS/DZo4dn7RxniT1kDaBILEm3RgjQLYTGQ5f9RL9VfGveQGIQ/B+8UWg9WR1Miv+YA41a5nGwJB5+T7GzLTAm/BAv0mzJHPvGKReAUkgAzXuy6A07DRvy3LE28z2wXPnckwtuozlrJAVEbSzinxIHyHMH/6BuOnhgzKwHi2iq65Lm981hUMLJYKGEQmeh+PsuadXLyIEKxU1qzLsPwfoivJuxj02WjlcLOlJcgv/s+fBQODIZy88IqmgUchhzwvWC8Tcekf9KrVb6WV+WqNl1wINjP3fdp1HCZf+Z9ckvlmK0PD+l4CQB7WgZBEtuuEzQb/3jN2GdqrpRYTvy5voujnyjw86lo5c74W39QFajaTd4Dt46z2eD1IZsqcMYuA9645q4OgPd5ElZz5eFBbFJ+T+z3uP0YDgYA7nnEVaMvY+NoxCXZbYwiUwJJZgIEwd7lmcmreoLnx31Gsh/bi8gpDkPrfsMipIAAZwAAObqJAAAADAAADAAADAAADAAJbAAAAXkGaJGxC//6MsAAARjVF3dQPkkRhU/S+xcivpzY2ep7h9+AMBABnsg5kcQLi7W21BQ007qYYzTkApi+fcqfo82xRSfuxDrWGR/lg17E8UpTHqzKzyvuTuv4n9b3iLsAAAAAjQZ5CeIR/AAAWvkuwQnP2Zq+AVbnYZKOxrztX0Ko6JK/sXo0AAAAfAZ5hdEf/AAAjuK/cVXsEORBcY0SdGKrz1dM8whf/gAAAACIBnmNqR/8AACOxzAlvP7c3+MgyJmuT4a2OkIZTuhoEJtuBAAAAGkGaaEmoQWiZTAhX//44QAAAAwAc8ePjJnNBAAAAEkGehkURLCP/AAADAAJrArh+QQAAABABnqV0R/8AAAMAA8sUe35BAAAADgGep2pH/wAAAwAAAwGpAAAAeUGarEmoQWyZTAhP//3xAAADAPhLJ+J+HABdQpgq/vMJct2W8Fgt9Wsyf7YfOTB5hbVr1Ah6+Eui+VaI/PnWcki5jDCyreFzt7OIK+mTObaPW9p/w/mBBW5p0TmEmDpQU57xbhK7ouJjgaiIHz6R2twRye6bRJ1uCPAAAAApQZ7KRRUsI/8AAAMDOTHNhj08MG4ex1MlanofVxu7cmODQjocDQ/jhs0AAAAOAZ7pdEf/AAADAAADAakAAAAzAZ7rakf/AAAjrjMLhT3ZwpdHctO1IcYZqxNkna8Rxl4ieg0s6hL6gWcm9EZlUAl84qJUAAAAWUGa8EmoQWyZTAhX//44QAABDPolvLveFxtoATOIQ6lEVN/gEq9IvU6ShCnFiKX2n72WjjdfhJhYiVJW289LIeIHyEKXSNcrn0r7MpL7U91IQqKfKvNy5gW5AAAAKEGfDkUVLCP/AAAWtVhVis2iBVZm4gRfVano6Iu8uiANcznpjdkTEqEAAAAtAZ8tdEf/AAAjwz4OeCM/8/ZJSHGGa1VoU/uMvEehR2BK+zirHGvzzEhQiSGzAAAAKQGfL2pH/wAAAwC31h+a3sriAf1k5b1y+c7xLWeAEHDJ/a3jbDxtLtqAAAAAHEGbNEmoQWyZTAhP//3xAAADACTfANve7FrhAasAAAAoQZ9SRRUsI/8AAAMBNMSDa4cku9uRQ6qULMkh5RvWxSMLbRnMimc+2QAAABwBn3F0R/8AAAMB5rGfkLBSJZNl+KDag06ET2zAAAAAGwGfc2pH/wAAAwHmf9Vsayz0mChQtZTxvHDFQAAAAEhBm3hJqEFsmUwIX//+jLAAAEYC094CI6RVk1IaER9ToRtyqW/cQG1JgyApqJidX65EKG3PxMc7kdG8YeUYGXcpDKk07wc2xYEAAAAxQZ+WRRUsI/8AABa8TcQeh/GhgCAnKRPy2/iHL/5NNIljm2O7+YbsOIaGaNDtCGEnAgAAAB0Bn7V0R/8AAAUcW3nsd8oq6xE1iH5I3oRA6XQlQQAAABkBn7dqR/8AACO/Gs573iAwu2RG406dKmXhAAAAHEGbvEmoQWyZTAhX//44QAAAAwBJvi/CSTkM8YAAAAAaQZ/aRRUsI/8AAAhScInWZUeBZWsRjDc4oIEAAAATAZ/5dEf/AAANfhLzJY+P6vmiBgAAABQBn/tqR/8AAA2EnatjWWBRDRRAwQAAAFBBm+BJqEFsmUwIT//98QAAAwANdkOidH8D+ACxAiHvlgvQVBAnw9RFZMXBQV5PNkMCW5SqR1cTyeomDT4UPQZi/yuacVniWFzMEvw/A71PwQAAAB9Bnh5FFSwj/wAACHFPslhcg4MmlnPAnP2vwHMaciVAAAAAEwGePXRH/wAADX4S8yWPj+r5ogYAAAAbAZ4/akf/AAANhJ2rY1lgUQ69XqrZrsHzP9ErAAAAKEGaJEmoQWyZTAhP//3xAAADAA18qUsyj96ZKrfp+sWHcOFEGxezooAAAAAeQZ5CRRUsI/8AAAhxT7JYXE0+slHhCqY6AVP4t2zBAAAAHgGeYXRH/wAAAwHmsbDHL8eSOoRPoG4f+++TVFauBAAAABEBnmNqR/8AAA2EnatjXYAc0QAAADlBmmhJqEFsmUwIT//98QAAAwKfAvDgU3EnZBTReRaV1VeTJFDP237rdczwF8O8mYN1nvgpdDfuk4EAAAAvQZ6GRRUsI/8AABa8TqFeGeIkT4iOrvxADRAUav0/HGavl08MFt4FduSEgXGg22cAAAAbAZ6ldEf/AAANfhQq17IAE6TJYTGSVXvIYMCBAAAAHQGep2pH/wAAI78aznveCZHpDOs9trjqNWU7RnAgAAAANEGarEmoQWyZTAhn//6eEAAAGn/CKAAumF2koCXhtdJ4Bcb1q4H/NL6RCBXZshgzjvyIzZgAAAAgQZ7KRRUsI/8AABbAn2SwuQcF/EP/lkQ6/6xCnM/iq2cAAAAjAZ7pdEf/AAAjwzL8fvu32WDsi7pPKI6RalXbSpiBdJwD7YAAAAATAZ7rakf/AAAjvxrOe94JuigjYAAAACNBmvBJqEFsmUwIX//+jLAAABqTrgvpYtVxm2J8ySJ6iLwbMQAAABVBnw5FFSwj/wAACGwKHkVnH+xzjBkAAAATAZ8tdEf/AAANfhLzJY+P6vmiBwAAAA4Bny9qR/8AAAMAAAMBqQAAABdBmzRJqEFsmUwIX//+jLAAAAMAAAMDQgAAABBBn1JFFSwj/wAAAwAAAwEHAAAADgGfcXRH/wAAAwAAAwGpAAAADgGfc2pH/wAAAwAAAwGpAAAAGkGbeEmoQWyZTAhX//44QAAAAwAdHf+lqQrZAAAAEEGflkUVLCP/AAADAAADAQcAAAAOAZ+1dEf/AAADAAADAakAAAAnAZ+3akf/AAADALfWI7ie4YD0hk5b1441+g5BDwAg95uDDEX4yXbVAAAAV0GbvEmoQWyZTAhP//3xAAADACOv6CZOH0AEsW7rNav/8DbtpHZlcDCqrur/r/QpP6itG57f7ZgCcyfrdP8zLASsDGwjTDABmmXZlHzmgpBbaFU/ym8PYQAAAB9Bn9pFFSwj/wAAAwE15Oa8MAcaBlBQQM8yqqrY8DAhAAAADgGf+XRH/wAAAwAAAwGpAAAAHAGf+2pH/wAAAwHmf9VJf0Kumr18vbsPJ+7VwIEAAAAoQZvgSahBbJlMCF///oywAAADA7qMhpF4GJr9WadZavPcsnG0COOMBwAAABxBnh5FFSwj/wAAAwE1gUNpmq9t3rjpEfLzelQmAAAAHgGePXRH/wAAAwHmsbj4ToS3vVFBGe0/W8QRH1ohMAAAAA4Bnj9qR/8AAAMAAAMBqQAAABdBmiRJqEFsmUwIX//+jLAAAAMAAAMDQgAAACJBnkJFFSwj/wAAAwE2Cml7z4vDRAAwKiwhKMtQ4567MtipAAAAGgGeYXRH/wAAAwHmsbDxjZCJFRa8yEXZBmKgAAAAGwGeY2pH/wAAAwHmf9Vsayz0mChQtZTxvHDFQQAAADRBmmhJqEFsmUwIX//+jLAAAAoJ3LTXkQAA1aRwSpUukDK12zlSItme5k4JQdosiGxCCXAhAAAAHkGehkUVLCP/AAADAzkxzZhUjb1ws9c7hX/SdDhZgQAAAA4BnqV0R/8AAAMAAAMBqQAAABsBnqdqR/8AAAUfNNWxkwwDAeZ4CjiCleFhxgQAAAAZQZqrSahBbJlMCFf//jhAAAAFY7m/cFGBowAAABNBnslFFSwj/wAAAwBxQGhNgGPBAAAAKQGe6mpH/wAAAwC4Ye+AdBWACyW0yfDmer86N/Kxv+LNz/apfcr49dswAAAAF0Ga70moQWyZTAhP//3xAAADAAADAB6QAAAAK0GfDUUVLCP/AAADAHLRycBfLMAJRA34jVe9Wb0jgTLCm1vxMmkzSAOkP20AAAAmAZ8sdEf/AAAjwJqhnpq1Pz6qAZ7DA3mAH5T06wGn/uyhelDhCYEAAAAbAZ8uakf/AAADALonzAS19/Pj+3rZ1y8QvcCBAAAAVEGbM0moQWyZTAhP//3xAAADAp8C8OBQ765+psNd1xnQtGRZpL1W4AKi1Iw2c92gz5sq2p4xqNl8PBAsyjOscGPbREnVz0jaf4DXxPdZc7cAKDjAgAAAAB5Bn1FFFSwj/wAAFrxObMLYSwtKnjTvYWNhjx+2EqAAAAAOAZ9wdEf/AAADAAADAakAAAAaAZ9yakf/AAAjsisHEzjhqCchr6AtZQUw/pAAAAAvQZt3SahBbJlMCEf//eEAAAQU2TX6XtujLHJUtxM85hABxFb0aWbSJvc9pDWqhMAAAAAfQZ+VRRUsI/8AABa8TmzC2EsDMymlrhXJx9r1MeztmQAAAA4Bn7R0R/8AAAMAAAMBqQAAABoBn7ZqR/8AACOyKwcTOOGoJyGvoC1lBTD+kQAAACdBm7pJqEFsmUwIT//98QAAAwKfylLMo/EHDu6d0JgFq0KKcDcxZwMAAAAcQZ/YRRUsI/8AABa1WFWKzj/YoRkX4YWYrGh/0gAAACkBn/lqR/8AAAUNJReUGRiSqjXPdgqmhq1zRDfjSxCTbNRAQzcaiZ5GBQAAAD9Bm/5JqEFsmUwIX//+jLAAAAoX9LyAD9DfxS3X/Yd5aA2eQHCst4/SNnEtkNsc2uT78bthxSEyQLcW8gsS4EAAAAAhQZ4cRRUsI/8AABa+ppXUBkFBeJ6y9D9yfeFwae6hw7FhAAAAIAGeO3RH/wAAI8M+DALuP0STYEs0WDpUNPJGa9bPjEqBAAAAFQGePWpH/wAAI78aznveCbZiqtPx9wAAABpBmiJJqEFsmUwIV//+OEAAAAMAHR3/pakK2AAAACNBnkBFFSwj/wAAAwEyAnOOGO661rr9VSIRQflINP4QHqeftwAAABoBnn90R/8AAAMB5rGw8Y2QiRUWvMhF2QZioAAAABsBnmFqR/8AAAMB5n/VbGss9JgoULWU8bxwxUEAAAAmQZpmSahBbJlMCE///fEAAAMAI7P937ggzz1QoLjLrUFyfubEVswAAAAdQZ6ERRUsI/8AAAMBNeTmzC2FJmmttjknNZxA+2EAAAAgAZ6jdEf/AAAjwLmhu/YreLOh/cg2xAC3gDp5PMR4O6EAAAAbAZ6lakf/AAADAeZ/1WxrLPSYKFC1lPG8cMVBAAAAKkGaqkmoQWyZTAhn//6eEAAAAwO0gec1qHSZldS4Di8XwuFYHBCBnBSmzQAAABtBnshFFSwj/wAAAwE1gUPIrO+IZMRp2WG299sAAAAaAZ7ndEf/AAADAeaxsPGNkIkVFrzIRdkGYqAAAAAOAZ7pakf/AAADAAADAakAAAAXQZruSahBbJlMCF///oywAAADAAADA0IAAAAmQZ8MRRUsI/8AAAMBNgppXUBkFBeJ02a2lnsAC5cg96pyNv7YPqoAAAAUAZ8rdEf/AAADAeaxsPGNhPQs/VUAAAAUAZ8takf/AAADAeXNRpiZxw1J9VEAAAAXQZsySahBbJlMCF///oywAAADAAADA0MAAAAQQZ9QRRUsI/8AAAMAAAMBBwAAAA4Bn290R/8AAAMAAAMBqQAAAA4Bn3FqR/8AAAMAAAMBqQAAABZBm3ZJqEFsmUwIV//+OEAAAAMAAAyoAAAAKEGflEUVLCP/AAADATTPxehZAymGihNHiiEQX4hgp9wNWEX66ACRfbAAAAAaAZ+zdEf/AAADAeaxsPGNkIkVFrzIRdkGYqEAAAAbAZ+1akf/AAADAeZ/1WxrLPSYKFC1lPG8cMVAAAAANUGbukmoQWyZTAhP//3xAAADACOmvou5mtUJDcgvpNAJ+9TfIrnMD6tIp+nmLLDP6W5tH5bNAAAAHUGf2EUVLCP/AAADATXk5swthSZprbY4BgcqjtoTAAAADgGf93RH/wAAAwAAAwGpAAAAGwGf+WpH/wAAAwHmf9Vsayz0mChQsuQS06ZTAwAAAClBm/5JqEFsmUwIZ//+nhAAAAMDtIHnNah0mZXUuA4vFdmf/JkiZwmpswAAAB1BnhxFFSwj/wAAAwE1gUPIrO+IZMRpYJEQsM3AgQAAABsBnjt0R/8AAAMB5YoeZLH2vFlFHdTXoewaYEEAAAAQAZ49akf/AAADAAPM/8VnwAAAABdBmiJJqEFsmUwIZ//+nhAAAAMAAAMDPgAAABBBnkBFFSwj/wAAAwAAAwEHAAAADgGef3RH/wAAAwAAAwGpAAAADgGeYWpH/wAAAwAAAwGpAAAAF0GaZkmoQWyZTAhn//6eEAAAAwAAAwM+AAAAEEGehEUVLCP/AAADAAADAQcAAAAOAZ6jdEf/AAADAAADAakAAAAOAZ6lakf/AAADAAADAakAAAAXQZqqSahBbJlMCF///oywAAADAAADA0MAAAAtQZ7IRRUsI/8AAAMBNM/G2d1BIAJ1PzSAJ2uU8EEIHV3cGKHKnkh2gKxSv+zAAAAAGwGe53RH/wAAAwHmsbDxjZCJFRa8eupD2D3AgAAAABoBnulqR/8AAAMB5c1GmJneE1uKi4oG1YQXAwAAABdBmu5JqEFsmUwIX//+jLAAAAMAAAMDQgAAABBBnwxFFSwj/wAAAwAAAwEHAAAADgGfK3RH/wAAAwAAAwGpAAAADgGfLWpH/wAAAwAAAwGpAAAAFkGbMkmoQWyZTAhX//44QAAAAwAADKkAAAAQQZ9QRRUsI/8AAAMAAAMBBwAAAA4Bn290R/8AAAMAAAMBqQAAAA4Bn3FqR/8AAAMAAAMBqQAAAENBm3ZJqEFsmUwIT//98QAAAwAjs/3a3WZd2DtaQov7AwGwptWQgE/epvkVzmB9WkWBElb9f9KXwLxfL+kua01jn2m0AAAAHUGflEUVLCP/AAADATXk5swthSZprbY4djaX3gITAAAAEAGfs3RH/wAAAwADyxR7fkEAAAAbAZ+1akf/AAADAeZ/1WxrLPSYKFC1lPG8cMVAAAAAKkGbukmoQWyZTAhn//6eEAAAAwO0gec1qHSZldS4Di8XwuFYHBCBnBSmzQAAABtBn9hFFSwj/wAAAwE1gUPIrO+IZMRp2WG299sAAAApAZ/3dEf/AAADAeaxsPGNkJehygjfuIbjicAEACfJ7dKjLto/SOkPbMAAAAAOAZ/5akf/AAADAAADAakAAAAXQZv+SahBbJlMCF///oywAAADAAADA0IAAAAQQZ4cRRUsI/8AAAMAAAMBBwAAAA4Bnjt0R/8AAAMAAAMBqQAAAA4Bnj1qR/8AAAMAAAMBqQAAABdBmiJJqEFsmUwIX//+jLAAAAMAAAMDQgAAABBBnkBFFSwj/wAAAwAAAwEHAAAADgGef3RH/wAAAwAAAwGpAAAADgGeYWpH/wAAAwAAAwGpAAAAFkGaZkmoQWyZTAhX//44QAAAAwAADKgAAAAoQZ6ERRUsI/8AAAMBNM/F6FkDKYaKE0eKIRBfiGCn3A1YRfroAJF9sQAAABoBnqN0R/8AAAMB5rGw8Y2QiRUWvMhF2QZioQAAABsBnqVqR/8AAAMB5n/VbGss9JgoULWU8bxwxUEAAABJQZqqSahBbJlMCE///fEAAAMAI6a+i7ma1Pxa0PAI8ewt+XOYH1aHVnjGSn1ZIfnHbN4gEU7buJwCNwSTb2L/z9Ij2iq30OvBFwAAABlBnshFFSwj/wAAAwE15ObMLYSw9CQrH690AAAADgGe53RH/wAAAwAAAwGpAAAAFwGe6WpH/wAAAwHmf9VsaywKoCV6b17pAAAAH0Ga7kmoQWyZTAhX//44QAAADnngfuAt2jsDVd2V64gAAAAZQZ8MRRUsI/8AAAMBNYFDyKzkB2IzcT6ggAAAABYBnyt0R/8AAAMB5YoeZLHx/9FTsyIXAAAAEAGfLWpH/wAAAwADzP/FZ8EAAAAxQZsySahBbJlMCE///fEAAAMAI6jzTLQ8ah0Vy5QWdLvUeSZuhPdx1iGdqcEdekG8WQAAAB5Bn1BFFSwj/wAAAwE15ObMLYUmaa22OF1v0s0zITAAAAAQAZ9vdEf/AAADAAPLFHt+QAAAABsBn3FqR/8AAAMB5n/VbGss9JgoULLkEtOmUwMAAAAqQZt2SahBbJlMCGf//p4QAAADA7SB5zWodJmV1LgOLxfC4VgcEIGcFKbMAAAAHUGflEUVLCP/AAADATWBQ8is74hkxGlgkRCwzcCAAAAAGwGfs3RH/wAAAwHmsbDxjZCJFRa8eupD2D3AgQAAABABn7VqR/8AAAMAA8z/xWfAAAAAF0GbukmoQWyZTAhf//6MsAAAAwAAAwNDAAAAIEGf2EUVLCP/AAADATYKaV1AZBWR1W36Ir/5Fr4dZ3AhAAAAGwGf93RH/wAAAwHmsbDxjZCJFRa8eupD2D3AgAAAABoBn/lqR/8AAAMB5c1GmJneE1uKi4oG1YQXAwAAABdBm/5JqEFsmUwIX//+jLAAAAMAAAMDQgAAABJBnhxFFSwj/wAAAwACbFPyGfEAAAAQAZ47dEf/AAADAAPLFHt+QQAAABABnj1qR/8AAAMAA8z/xWfAAAAAF0GaIkmoQWyZTAhf//6MsAAAAwAAAwNCAAAAEkGeQEUVLCP/AAADAAJsU/IZ8QAAABABnn90R/8AAAMAA8sUe35AAAAAEAGeYWpH/wAAAwADzP/FZ8EAAAAWQZpmSahBbJlMCFf//jhAAAADAAAMqAAAABJBnoRFFSwj/wAAAwACbFPyGfEAAAAQAZ6jdEf/AAADAAPLFHt+QQAAABABnqVqR/8AAAMAA8z/xWfBAAAAFkGaqUmoQWyZTAj//IQAAAMAAAMAwIEAAAAuQZ7HRRUsI/8AAAMBNMSEmo9oAA/bRmDx1Bz1i9H2SbLGx+2TxKHdRU83UHmFrwAAACEBnuhqR/8AAAMB5c1GmLvzG+HlBN0rZfyZR1at4PcNP4EAAAyLbW9vdgAAAGxtdmhkAAAAAAAAAAAAAAAAAAAD6AAAD8gAAQAAAQAAAAAAAAAAAAAAAAEAAAAAAAAAAAAAAAAAAAABAAAAAAAAAAAAAAAAAABAAAAAAAAAAAAAAAAAAAAAAAAAAAAAAAAAAAAAAAAAAgAAC7V0cmFrAAAAXHRraGQAAAADAAAAAAAAAAAAAAABAAAAAAAAD8gAAAAAAAAAAAAAAAAAAAAAAAEAAAAAAAAAAAAAAAAAAAABAAAAAAAAAAAAAAAAAABAAAAAAlgAAAGQAAAAAAAkZWR0cwAAABxlbHN0AAAAAAAAAAEAAA/IAAACAAABAAAAAAstbWRpYQAAACBtZGhkAAAAAAAAAAAAAAAAAAAyAAAAygBVxAAAAAAALWhkbHIAAAAAAAAAAHZpZGUAAAAAAAAAAAAAAABWaWRlb0hhbmRsZXIAAAAK2G1pbmYAAAAUdm1oZAAAAAEAAAAAAAAAAAAAACRkaW5mAAAAHGRyZWYAAAAAAAAAAQAAAAx1cmwgAAAAAQAACphzdGJsAAAAsHN0c2QAAAAAAAAAAQAAAKBhdmMxAAAAAAAAAAEAAAAAAAAAAAAAAAAAAAAAAlgBkABIAAAASAAAAAAAAAABFUxhdmM2MC4zMS4xMDIgbGlieDI2NAAAAAAAAAAAAAAAGP//AAAANmF2Y0MBZAAf/+EAGWdkAB+s2UCYM+XhAAADAAEAAAMAZA8YMZYBAAZo6+PLIsD9+PgAAAAAFGJ0cnQAAAAAAAA8fQAAPH0AAAAYc3R0cwAAAAAAAAABAAAAygAAAQAAAAAUc3RzcwAAAAAAAAABAAAAAQAABkhjdHRzAAAAAAAAAMcAAAABAAACAAAAAAEAAAUAAAAAAQAAAgAAAAABAAAAAAAAAAEAAAEAAAAAAQAABQAAAAABAAACAAAAAAEAAAAAAAAAAQAAAQAAAAABAAAFAAAAAAEAAAIAAAAAAQAAAAAAAAABAAABAAAAAAEAAAUAAAAAAQAAAgAAAAABAAAAAAAAAAEAAAEAAAAAAQAABQAAAAABAAACAAAAAAEAAAAAAAAAAQAAAQAAAAABAAAFAAAAAAEAAAIAAAAAAQAAAAAAAAABAAABAAAAAAEAAAUAAAAAAQAAAgAAAAABAAAAAAAAAAEAAAEAAAAAAQAABQAAAAABAAACAAAAAAEAAAAAAAAAAQAAAQAAAAABAAAFAAAAAAEAAAIAAAAAAQAAAAAAAAABAAABAAAAAAEAAAUAAAAAAQAAAgAAAAABAAAAAAAAAAEAAAEAAAAAAQAABQAAAAABAAACAAAAAAEAAAAAAAAAAQAAAQAAAAABAAAFAAAAAAEAAAIAAAAAAQAAAAAAAAABAAABAAAAAAEAAAUAAAAAAQAAAgAAAAABAAAAAAAAAAEAAAEAAAAAAQAABQAAAAABAAACAAAAAAEAAAAAAAAAAQAAAQAAAAABAAAFAAAAAAEAAAIAAAAAAQAAAAAAAAABAAABAAAAAAEAAAUAAAAAAQAAAgAAAAABAAAAAAAAAAEAAAEAAAAAAQAABQAAAAABAAACAAAAAAEAAAAAAAAAAQAAAQAAAAABAAAFAAAAAAEAAAIAAAAAAQAAAAAAAAABAAABAAAAAAEAAAQAAAAAAgAAAQAAAAABAAAFAAAAAAEAAAIAAAAAAQAAAAAAAAABAAABAAAAAAEAAAUAAAAAAQAAAgAAAAABAAAAAAAAAAEAAAEAAAAAAQAABQAAAAABAAACAAAAAAEAAAAAAAAAAQAAAQAAAAABAAAEAAAAAAIAAAEAAAAAAQAABQAAAAABAAACAAAAAAEAAAAAAAAAAQAAAQAAAAABAAAFAAAAAAEAAAIAAAAAAQAAAAAAAAABAAABAAAAAAEAAAUAAAAAAQAAAgAAAAABAAAAAAAAAAEAAAEAAAAAAQAABQAAAAABAAACAAAAAAEAAAAAAAAAAQAAAQAAAAABAAAFAAAAAAEAAAIAAAAAAQAAAAAAAAABAAABAAAAAAEAAAUAAAAAAQAAAgAAAAABAAAAAAAAAAEAAAEAAAAAAQAABQAAAAABAAACAAAAAAEAAAAAAAAAAQAAAQAAAAABAAAFAAAAAAEAAAIAAAAAAQAAAAAAAAABAAABAAAAAAEAAAUAAAAAAQAAAgAAAAABAAAAAAAAAAEAAAEAAAAAAQAABQAAAAABAAACAAAAAAEAAAAAAAAAAQAAAQAAAAABAAAFAAAAAAEAAAIAAAAAAQAAAAAAAAABAAABAAAAAAEAAAUAAAAAAQAAAgAAAAABAAAAAAAAAAEAAAEAAAAAAQAABQAAAAABAAACAAAAAAEAAAAAAAAAAQAAAQAAAAABAAAFAAAAAAEAAAIAAAAAAQAAAAAAAAABAAABAAAAAAEAAAUAAAAAAQAAAgAAAAABAAAAAAAAAAEAAAEAAAAAAQAABQAAAAABAAACAAAAAAEAAAAAAAAAAQAAAQAAAAABAAAFAAAAAAEAAAIAAAAAAQAAAAAAAAABAAABAAAAAAEAAAUAAAAAAQAAAgAAAAABAAAAAAAAAAEAAAEAAAAAAQAABQAAAAABAAACAAAAAAEAAAAAAAAAAQAAAQAAAAABAAAFAAAAAAEAAAIAAAAAAQAAAAAAAAABAAABAAAAAAEAAAUAAAAAAQAAAgAAAAABAAAAAAAAAAEAAAEAAAAAAQAABQAAAAABAAACAAAAAAEAAAAAAAAAAQAAAQAAAAABAAAFAAAAAAEAAAIAAAAAAQAAAAAAAAABAAABAAAAAAEAAAUAAAAAAQAAAgAAAAABAAAAAAAAAAEAAAEAAAAAAQAABQAAAAABAAACAAAAAAEAAAAAAAAAAQAAAQAAAAABAAAFAAAAAAEAAAIAAAAAAQAAAAAAAAABAAABAAAAAAEAAAUAAAAAAQAAAgAAAAABAAAAAAAAAAEAAAEAAAAAAQAABAAAAAACAAABAAAAABxzdHNjAAAAAAAAAAEAAAABAAAAygAAAAEAAAM8c3RzegAAAAAAAAAAAAAAygAABJ4AAABiAAAAJwAAACMAAAAmAAAAHgAAABYAAAAUAAAAEgAAAH0AAAAtAAAAEgAAADcAAABdAAAALAAAADEAAAAtAAAAIAAAACwAAAAgAAAAHwAAAEwAAAA1AAAAIQAAAB0AAAAgAAAAHgAAABcAAAAYAAAAVAAAACMAAAAXAAAAHwAAACwAAAAiAAAAIgAAABUAAAA9AAAAMwAAAB8AAAAhAAAAOAAAACQAAAAnAAAAFwAAACcAAAAZAAAAFwAAABIAAAAbAAAAFAAAABIAAAASAAAAHgAAABQAAAASAAAAKwAAAFsAAAAjAAAAEgAAACAAAAAsAAAAIAAAACIAAAASAAAAGwAAACYAAAAeAAAAHwAAADgAAAAiAAAAEgAAAB8AAAAdAAAAFwAAAC0AAAAbAAAALwAAACoAAAAfAAAAWAAAACIAAAASAAAAHgAAADMAAAAjAAAAEgAAAB4AAAArAAAAIAAAAC0AAABDAAAAJQAAACQAAAAZAAAAHgAAACcAAAAeAAAAHwAAACoAAAAhAAAAJAAAAB8AAAAuAAAAHwAAAB4AAAASAAAAGwAAACoAAAAYAAAAGAAAABsAAAAUAAAAEgAAABIAAAAaAAAALAAAAB4AAAAfAAAAOQAAACEAAAASAAAAHwAAAC0AAAAhAAAAHwAAABQAAAAbAAAAFAAAABIAAAASAAAAGwAAABQAAAASAAAAEgAAABsAAAAxAAAAHwAAAB4AAAAbAAAAFAAAABIAAAASAAAAGgAAABQAAAASAAAAEgAAAEcAAAAhAAAAFAAAAB8AAAAuAAAAHwAAAC0AAAASAAAAGwAAABQAAAASAAAAEgAAABsAAAAUAAAAEgAAABIAAAAaAAAALAAAAB4AAAAfAAAATQAAAB0AAAASAAAAGwAAACMAAAAdAAAAGgAAABQAAAA1AAAAIgAAABQAAAAfAAAALgAAACEAAAAfAAAAFAAAABsAAAAkAAAAHwAAAB4AAAAbAAAAFgAAABQAAAAUAAAAGwAAABYAAAAUAAAAFAAAABoAAAAWAAAAFAAAABQAAAAaAAAAMgAAACUAAAAUc3RjbwAAAAAAAAABAAAAMAAAAGJ1ZHRhAAAAWm1ldGEAAAAAAAAAIWhkbHIAAAAAAAAAAG1kaXJhcHBsAAAAAAAAAAAAAAAALWlsc3QAAAAlqXRvbwAAAB1kYXRhAAAAAQAAAABMYXZmNjAuMTYuMTAw\" type=\"video/mp4\">\n",
       " Your browser does not support the video tag.\n",
       " </video>"
      ],
      "text/plain": [
       "<IPython.core.display.Video object>"
      ]
     },
     "metadata": {},
     "output_type": "display_data"
    }
   ],
   "source": [
    "if not skip_training:\n",
    "    video = Video(Path().cwd()/'results'/'CartPole-v1'/'video'/'test'/'ex4_rbf-episode-0.mp4',\n",
    "    embed=True, html_attributes=\"loop autoplay\") # Set html_attributes=\"controls\" for video control\n",
    "    display(video)"
   ]
  },
  {
   "cell_type": "markdown",
   "id": "571f48c8-9ab6-43fb-bce0-19719ce2c9e2",
   "metadata": {
    "tags": []
   },
   "source": [
    "<a id='T1'></a>\n",
    "<div class=\" alert alert-warning\">\n",
    "    <h4><b>Student Task 1.(b)</b> RBF approximation </h4> \n",
    "\n",
    "Now, let's test Q-learning with RBF approximation. In this task, we will do a feature transform using the Radial Basis Function. An input state will be transformed to as many features as samples $N$ are specified in the ```RBFSampler``` $\\phi : \\mathbb{R}^d \\mapsto \\mathbb{R}^N $. Then we will feed this $\\mathbb{R}^N $ feature into a linear model to predict corresponding Q-values.\n",
    "\n",
    "For this Task:\n",
    "    \n",
    "1. You need to modify functions ```featurize```, to **convert the state $s$ to a higher dimensional feature using** ```RBFSampler```.\n",
    "\n",
    "2. Run the cell of ```class RBFAgent``` to update the class function\n",
    "\n",
    "3. <span style=\"color:red\"> **IMPORTANT: Directly come to this cell after the modifications, DO NOT RUN the handcraft feature cells again!!!** </span>\n",
    "\n",
    "4. Run the cells below to check the performances of Q-learning with RBF approximation.\n",
    "    \n",
    "After the modifying, test the implementation on the Cartpole environment by running the ```train(agent)``` script with default configs. You can test the trained model with the ```test(agent, cfg_args=dict(save_video=true))``` script. \n",
    "</div>"
   ]
  },
  {
   "cell_type": "code",
   "execution_count": 9,
   "id": "ab43c155-a9a9-4d7c-8829-0b472d25314e",
   "metadata": {
    "tags": []
   },
   "outputs": [],
   "source": [
    "# After modifying the function 'featurize', \n",
    "# 1. run the cell of class RBFAgent(object) to update the class\n",
    "# 2. After update the class, directly run this cell (Skip the cells above of training hadncraft feature) \n",
    "# 2. now let's rerun the agent\n",
    "\n",
    "with open(Path().cwd()/'cfg'/'cartpole_rbf.yaml', 'r') as f:\n",
    "    cfg = t.Struct(**yaml.safe_load(f))        \n",
    "agent = RBFAgent(n_actions=cfg.n_actions, gamma=cfg.gamma, batch_size=cfg.batch_size)"
   ]
  },
  {
   "cell_type": "code",
   "execution_count": 10,
   "id": "793f3d51-0bc1-469e-a889-86f217668c02",
   "metadata": {
    "tags": []
   },
   "outputs": [
    {
     "name": "stdout",
     "output_type": "stream",
     "text": [
      "Numpy/Torch/Random Seed:  436\n",
      "{'ep_reward': 17.0, 'episode': 0, 'epsilon': 1.0, 'ep_avr': 0.001138855004683137, 'ts_avr': 5.5396758184275206e-05}\n",
      "{'ep_reward': 200.0, 'episode': 100, 'epsilon': 0.3333333333333333, 'ep_avr': 0.19989723645616322, 'ts_avr': 0.0017887595856925583}\n",
      "{'ep_reward': 200.0, 'episode': 200, 'epsilon': 0.2, 'ep_avr': 0.29222640614025297, 'ts_avr': 0.0018180654634617711}\n",
      "{'ep_reward': 200.0, 'episode': 300, 'epsilon': 0.14285714285714285, 'ep_avr': 0.3383412805007538, 'ts_avr': 0.001837205818951907}\n",
      "{'ep_reward': 60.0, 'episode': 400, 'epsilon': 0.1111111111111111, 'ep_avr': 0.34300355170038527, 'ts_avr': 0.0018262852239484505}\n",
      "{'ep_reward': 200.0, 'episode': 500, 'epsilon': 0.09090909090909091, 'ep_avr': 0.3543755016778596, 'ts_avr': 0.001836381712477019}\n",
      "{'ep_reward': 200.0, 'episode': 600, 'epsilon': 0.07692307692307693, 'ep_avr': 0.35627117635915057, 'ts_avr': 0.001834148147497214}\n",
      "{'ep_reward': 200.0, 'episode': 700, 'epsilon': 0.06666666666666667, 'ep_avr': 0.36619492136291226, 'ts_avr': 0.001841331365058888}\n",
      "{'ep_reward': 200.0, 'episode': 800, 'epsilon': 0.058823529411764705, 'ep_avr': 0.36870564687123986, 'ts_avr': 0.0018429272636160021}\n",
      "{'ep_reward': 200.0, 'episode': 900, 'epsilon': 0.05263157894736842, 'ep_avr': 0.363419061206514, 'ts_avr': 0.0018267314982440498}\n",
      "{'ep_reward': 200.0, 'episode': 1000, 'epsilon': 0.05, 'ep_avr': 0.36591161438904235, 'ts_avr': 0.0018289504482469055}\n",
      "{'ep_reward': 200.0, 'episode': 1100, 'epsilon': 0.05, 'ep_avr': 0.3668299389985623, 'ts_avr': 0.0018335281945910538}\n",
      "{'ep_reward': 200.0, 'episode': 1200, 'epsilon': 0.05, 'ep_avr': 0.3677201501309173, 'ts_avr': 0.001838000475370791}\n",
      "{'ep_reward': 200.0, 'episode': 1300, 'epsilon': 0.05, 'ep_avr': 0.3687343226239318, 'ts_avr': 0.0018430664313636954}\n",
      "{'ep_reward': 200.0, 'episode': 1400, 'epsilon': 0.05, 'ep_avr': 0.36625281112035735, 'ts_avr': 0.0018306652698636754}\n",
      "{'ep_reward': 200.0, 'episode': 1500, 'epsilon': 0.05, 'ep_avr': 0.365313162462553, 'ts_avr': 0.001825965708430158}\n",
      "{'ep_reward': 200.0, 'episode': 1600, 'epsilon': 0.05, 'ep_avr': 0.366238277045195, 'ts_avr': 0.001830595638390514}\n",
      "{'ep_reward': 200.0, 'episode': 1700, 'epsilon': 0.05, 'ep_avr': 0.3705086545762606, 'ts_avr': 0.0018519333573931362}\n",
      "{'ep_reward': 200.0, 'episode': 1800, 'epsilon': 0.05, 'ep_avr': 0.3680323797109304, 'ts_avr': 0.0018395619497459847}\n",
      "{'ep_reward': 200.0, 'episode': 1900, 'epsilon': 0.05, 'ep_avr': 0.36765158334746956, 'ts_avr': 0.0018376612780761207}\n",
      "------ Training Finished ------\n"
     ]
    }
   ],
   "source": [
    "# Takes more time to train :)\n",
    "if not skip_training:\n",
    "    t.train(agent, cfg_path=Path().cwd()/'cfg'/'cartpole_rbf.yaml', cfg_args={}) # >= 60 mins"
   ]
  },
  {
   "cell_type": "markdown",
   "id": "8b602bfa",
   "metadata": {},
   "source": [
    "In order to get full points from the task make sure most of the test episodes give a reward of 200, given the seeds below (at least 50% of episodes)."
   ]
  },
  {
   "cell_type": "code",
   "execution_count": 11,
   "id": "88396eef-a80e-41dd-bdc7-c5cb67a2e75f",
   "metadata": {
    "tags": []
   },
   "outputs": [
    {
     "name": "stdout",
     "output_type": "stream",
     "text": [
      "Numpy/Torch/Random Seed:  436\n",
      "{'episode': 0, 'ep_reward': 200.0}\n",
      "{'episode': 1, 'ep_reward': 200.0}\n",
      "{'episode': 2, 'ep_reward': 200.0}\n",
      "{'episode': 3, 'ep_reward': 200.0}\n",
      "{'episode': 4, 'ep_reward': 200.0}\n",
      "{'episode': 5, 'ep_reward': 200.0}\n",
      "{'episode': 6, 'ep_reward': 200.0}\n",
      "{'episode': 7, 'ep_reward': 200.0}\n",
      "{'episode': 8, 'ep_reward': 200.0}\n",
      "{'episode': 9, 'ep_reward': 200.0}\n"
     ]
    }
   ],
   "source": [
    "if not skip_training:\n",
    "    t.test(agent, cfg_path=Path().cwd()/'cfg'/'cartpole_rbf.yaml', cfg_args=dict(save_video=True), seeds=[67, 23, 89, 12, 45, 78, 34, 90, 21, 56]) "
   ]
  },
  {
   "cell_type": "code",
   "execution_count": 12,
   "id": "4b5fd3b7-ee1d-46c7-830f-54b295ececa3",
   "metadata": {
    "tags": []
   },
   "outputs": [
    {
     "name": "stdout",
     "output_type": "stream",
     "text": [
      "Numpy/Torch/Random Seed:  436\n"
     ]
    },
    {
     "data": {
      "image/png": "[encoded data removed]",
      "text/plain": [
       "<Figure size 640x480 with 1 Axes>"
      ]
     },
     "metadata": {},
     "output_type": "display_data"
    }
   ],
   "source": [
    "if not skip_training:\n",
    "    t.plot(save_name='cartpole_rbf.png', cfg_path=Path().cwd()/'cfg'/'cartpole_rbf.yaml', cfg_args={}) # < 5 mins"
   ]
  },
  {
   "cell_type": "markdown",
   "id": "445eb823-f602-442f-b4b3-ed6806c18ffe",
   "metadata": {
    "tags": []
   },
   "source": [
    "The agent acting in the environment can be seen using the following command. Change the path to pick the episode you want to visualize. Bear in mind by default video saving for training is taken every 500 episodes"
   ]
  },
  {
   "cell_type": "code",
   "execution_count": 13,
   "id": "cd524780-6930-4de3-ae4b-9157e89760d7",
   "metadata": {
    "tags": []
   },
   "outputs": [
    {
     "data": {
      "text/html": [
       "<video loop autoplay  >\n",
       " <source src=\"data:video/mp4;base64,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\" type=\"video/mp4\">\n",
       " Your browser does not support the video tag.\n",
       " </video>"
      ],
      "text/plain": [
       "<IPython.core.display.Video object>"
      ]
     },
     "metadata": {},
     "output_type": "display_data"
    }
   ],
   "source": [
    "if not skip_training:\n",
    "    video = Video(Path().cwd()/'results'/'CartPole-v1'/'video'/'test'/'ex4_rbf-episode-0.mp4',\n",
    "    embed=True, html_attributes=\"loop autoplay\") # Set html_attributes=\"controls\" for video control\n",
    "    display(video)"
   ]
  },
  {
   "cell_type": "code",
   "execution_count": 14,
   "id": "34862517",
   "metadata": {
    "deletable": false,
    "editable": false,
    "nbgrader": {
     "cell_type": "code",
     "checksum": "930235c2e6039ea417917618e7bfb84c",
     "grade": true,
     "grade_id": "cell-b8217caa685dddf5",
     "locked": true,
     "points": 20,
     "schema_version": 3,
     "solution": false,
     "task": false
    }
   },
   "outputs": [],
   "source": [
    "%%capture --no-stdout\n",
    "\"TEST\""
   ]
  },
  {
   "cell_type": "markdown",
   "id": "8f725b2e",
   "metadata": {
    "deletable": false,
    "editable": false,
    "nbgrader": {
     "cell_type": "markdown",
     "checksum": "5e212891ed3fc555ca4d0fa87023b40a",
     "grade": false,
     "grade_id": "cell-133e2c93df20c4dc",
     "locked": true,
     "schema_version": 3,
     "solution": false,
     "task": false
    },
    "tags": []
   },
   "source": [
    "<a id='Q1'></a>\n",
    "<div class=\" alert alert-warning\">\n",
    "    <h3><b>Student Question 1.1</b> Considering Linear Features (10 points) </h3> \n",
    "    \n",
    "**Hint:** directly return 'state' in function 'featurize'\n",
    "    \n",
    "🔝\t<a href='#TOC'><b>Table of Contents</b></a>\n",
    "</div>\n"
   ]
  },
  {
   "cell_type": "markdown",
   "id": "5635de8e-3bdb-4856-a21e-20381601edbe",
   "metadata": {
    "deletable": false,
    "editable": false,
    "nbgrader": {
     "cell_type": "markdown",
     "checksum": "39f071752749e25e2b4545e6e33a2d28",
     "grade": false,
     "grade_id": "cell-f75a1189f158c6ae",
     "locked": true,
     "schema_version": 3,
     "solution": false,
     "task": false
    },
    "tags": []
   },
   "source": [
    "### 1.1.1 Question (4 points):\n",
    "Which of the following best describes why linear approximation of Q-values in the Cartpole problem is inaccurate?\n",
    "\n",
    "**Select one:**\n",
    "\n",
    "1. The environment dynamics are non-linear\n",
    "2. The Q-function is inherently non-linear\n",
    "3. The state space is too large\n",
    "4. The action space is continuous\n"
   ]
  },
  {
   "cell_type": "code",
   "execution_count": 15,
   "id": "7903b02f-aae1-4b91-bd55-fee1f72129fa",
   "metadata": {
    "tags": []
   },
   "outputs": [],
   "source": [
    "sq_1_1_1 = 2 # Replace with the appropriate answer number"
   ]
  },
  {
   "cell_type": "markdown",
   "id": "f058dca0-e5d7-4890-a4e8-a26a1f3bea00",
   "metadata": {
    "deletable": false,
    "editable": false,
    "nbgrader": {
     "cell_type": "markdown",
     "checksum": "d127ac274ca6ea486fd1e79e155ab5c1",
     "grade": false,
     "grade_id": "cell-09a45dbf2a6f0e1d",
     "locked": true,
     "schema_version": 3,
     "solution": false,
     "task": false
    },
    "tags": []
   },
   "source": [
    "### 1.1.2 Question (2 points):\n",
    "What does the Q-function represent?\n",
    "\n",
    "**Select one:**\n",
    "\n",
    "1. The immediate reward for taking an action\n",
    "2. The probability of the pole falling\n",
    "3. The expected cumulative reward for taking an action and then following the optimal policy\n",
    "4. The linear transformation of the current state\n"
   ]
  },
  {
   "cell_type": "code",
   "execution_count": 16,
   "id": "7a93ee55-0e47-4a1a-b3d5-6d8e8dde720b",
   "metadata": {
    "tags": []
   },
   "outputs": [],
   "source": [
    "sq_1_1_2 = 3 # Replace with the appropriate answer number"
   ]
  },
  {
   "cell_type": "markdown",
   "id": "5a783f6e-c95b-445e-9f7f-27ba47eab902",
   "metadata": {
    "deletable": false,
    "editable": false,
    "nbgrader": {
     "cell_type": "markdown",
     "checksum": "554a02b73714d9443d27251b6d1a8ab7",
     "grade": false,
     "grade_id": "cell-7e7997faef0448da",
     "locked": true,
     "schema_version": 3,
     "solution": false,
     "task": false
    },
    "tags": []
   },
   "source": [
    "### 1.1.3 Question (4 points):\n",
    "If the environment dynamics of Cartpole were perfectly linear, which statement would be true?\n",
    "\n",
    "**Select one:**\n",
    "\n",
    "1. The Q-function would also be linear\n",
    "2. Linear approximation of the Q-function would be accurate\n",
    "3. The Q-function could still be non-linear\n",
    "4. Reinforcement learning would not be necessary\n"
   ]
  },
  {
   "cell_type": "code",
   "execution_count": 17,
   "id": "223f8512-2231-4eb8-b8db-16cd6d62d420",
   "metadata": {},
   "outputs": [],
   "source": [
    "sq_1_1_3 = 3 # Replace with the appropriate answer number"
   ]
  },
  {
   "cell_type": "markdown",
   "id": "5253364e-6e75-4729-8e00-cb606b48dae9",
   "metadata": {
    "deletable": false,
    "editable": false,
    "nbgrader": {
     "cell_type": "markdown",
     "checksum": "144ffb087f8f0ec19ba52b26a9735626",
     "grade": false,
     "grade_id": "cell-22cb658f14d5cde6",
     "locked": true,
     "schema_version": 3,
     "solution": false,
     "task": false
    },
    "tags": []
   },
   "source": [
    "The following cells are used for grading"
   ]
  },
  {
   "cell_type": "code",
   "execution_count": 18,
   "id": "2af865cb-688d-4e9a-b93d-44cb625bebcd",
   "metadata": {
    "deletable": false,
    "editable": false,
    "nbgrader": {
     "cell_type": "code",
     "checksum": "a1b5c33652bada8565e4ee5fb2c1175d",
     "grade": true,
     "grade_id": "cell-b4096a96472e5562",
     "locked": true,
     "points": 0,
     "schema_version": 3,
     "solution": false,
     "task": false
    },
    "tags": []
   },
   "outputs": [],
   "source": [
    "assert sq_1_1_1 in range(1, 5)\n",
    "assert sq_1_1_2 in range(1, 5)\n",
    "assert sq_1_1_3 in range(1, 5)"
   ]
  },
  {
   "cell_type": "code",
   "execution_count": null,
   "id": "4fd02bb8-7933-4647-9993-c19ab6518f54",
   "metadata": {
    "deletable": false,
    "editable": false,
    "nbgrader": {
     "cell_type": "code",
     "checksum": "39cdd7a5d517d956028c7800288c1eab",
     "grade": true,
     "grade_id": "cell-83357309429acbcd",
     "locked": true,
     "points": 4,
     "schema_version": 3,
     "solution": false,
     "task": false
    },
    "tags": []
   },
   "outputs": [],
   "source": []
  },
  {
   "cell_type": "code",
   "execution_count": null,
   "id": "cac21b47-cf94-4da5-bbeb-a39a7abdaca2",
   "metadata": {
    "deletable": false,
    "editable": false,
    "nbgrader": {
     "cell_type": "code",
     "checksum": "e8a92c0c561551cfe15d0aa2c1d00ae0",
     "grade": true,
     "grade_id": "cell-3ed323aa17884686",
     "locked": true,
     "points": 2,
     "schema_version": 3,
     "solution": false,
     "task": false
    },
    "tags": []
   },
   "outputs": [],
   "source": []
  },
  {
   "cell_type": "code",
   "execution_count": null,
   "id": "f9ab2f9f-aff6-4258-abe9-7e21c6270ba6",
   "metadata": {
    "deletable": false,
    "editable": false,
    "nbgrader": {
     "cell_type": "code",
     "checksum": "40a67f2521eabb810cf0e07e83a93bc7",
     "grade": true,
     "grade_id": "cell-4284778ad9d19593",
     "locked": true,
     "points": 4,
     "schema_version": 3,
     "solution": false,
     "task": false
    },
    "tags": []
   },
   "outputs": [],
   "source": []
  },
  {
   "cell_type": "markdown",
   "id": "c5a8edc7",
   "metadata": {
    "deletable": false,
    "editable": false,
    "nbgrader": {
     "cell_type": "markdown",
     "checksum": "981ecd6b06cd94e02fa1bdab9b1b27a7",
     "grade": false,
     "grade_id": "cell-9b048cd847c57c77",
     "locked": true,
     "schema_version": 3,
     "solution": false,
     "task": false
    },
    "tags": []
   },
   "source": [
    "<a id='Q2'></a>\n",
    "<div class=\" alert alert-warning\">\n",
    "    <h3><b>Student Question 1.2</b> Experience Replay Buffer (10 points) </h3> \n",
    "\n",
    "**Hint:** In machine learning, when training a model, we usually assume dataset includes i.i.d(independent and identically distributed) samples from a unknown distribution.\n",
    "    \n",
    "🔝\t<a href='#TOC'><b>Table of Contents</b></a>\n",
    "</div>\n"
   ]
  },
  {
   "cell_type": "markdown",
   "id": "d92584a0-e8d6-4a49-86bc-7d14d2c958d0",
   "metadata": {
    "deletable": false,
    "editable": false,
    "nbgrader": {
     "cell_type": "markdown",
     "checksum": "dd1241216c2e0ee9b94dc815b263ffd8",
     "grade": false,
     "grade_id": "cell-133b0005bee48d98",
     "locked": true,
     "schema_version": 3,
     "solution": false,
     "task": false
    },
    "tags": []
   },
   "source": [
    "### 1.2.1 Question (5 points):\n",
    "Why do we use the experience replay buffer in reinforcement learning? Select **at most** 3 answers, or you will lose **all** points.\n",
    "\n",
    "**Select two:**\n",
    "\n",
    "1. To prioritize the most recent experiences over older ones\n",
    "2. To make the learning process faster by re-using previous data and improving sample efficiency\n",
    "3. To ensure that the agent only learns from highly rewarding experiences\n",
    "4. To prevent the agent from learning negative experiences\n",
    "5. To break the correlation between consecutive experiences"
   ]
  },
  {
   "cell_type": "code",
   "execution_count": 19,
   "id": "4bbf9062-d94b-40f2-a486-930af53ae3c6",
   "metadata": {
    "tags": []
   },
   "outputs": [],
   "source": [
    "sq_1_2_1 = [2, 5] # Write the appropriate answer number(s) inside the list"
   ]
  },
  {
   "cell_type": "markdown",
   "id": "78f7f3c6-c8f0-487c-bece-850f2fa9e087",
   "metadata": {
    "deletable": false,
    "editable": false,
    "nbgrader": {
     "cell_type": "markdown",
     "checksum": "176aee2c7c0508b69bda1934614ecc44",
     "grade": false,
     "grade_id": "cell-8d7e3c6747ad00c9",
     "locked": true,
     "schema_version": 3,
     "solution": false,
     "task": false
    },
    "tags": []
   },
   "source": [
    "### 1.2.2 Question (5 points):\n",
    "Which of the following best describes the benefit of randomly sampling mini-batches from the experience replay buffer?\n",
    "\n",
    "**Select one:**\n",
    "\n",
    "1. It helps the agent to focus on learning from consecutive experiences\n",
    "2. It creates a more diverse and less correlated set of training data, leading to more stable learning\n",
    "3. It allows the agent to forget irrelevant or outdated information more quickly\n",
    "4. It reduces the computational complexity of the learning algorithm\n",
    "5. It simulates exploration by introducing randomness into the learning process"
   ]
  },
  {
   "cell_type": "code",
   "execution_count": 20,
   "id": "f182a02a-15a0-4e09-ac15-f067203d64f7",
   "metadata": {
    "tags": []
   },
   "outputs": [],
   "source": [
    "sq_1_2_2 = 2 # Replace with the appropriate answer number"
   ]
  },
  {
   "cell_type": "markdown",
   "id": "5c53ffaa-6c4f-48b8-bfda-9af54c05b908",
   "metadata": {
    "deletable": false,
    "editable": false,
    "nbgrader": {
     "cell_type": "markdown",
     "checksum": "a48de8481907fbcadd19fb3f8a4e5e18",
     "grade": false,
     "grade_id": "cell-b577265fd0011c08",
     "locked": true,
     "schema_version": 3,
     "solution": false,
     "task": false
    },
    "tags": []
   },
   "source": [
    "The following cells are used for grading"
   ]
  },
  {
   "cell_type": "code",
   "execution_count": 21,
   "id": "f368aba2-5019-4950-aaa0-94a77e5395a1",
   "metadata": {
    "deletable": false,
    "editable": false,
    "nbgrader": {
     "cell_type": "code",
     "checksum": "294627b6a6afdbcc7286f01e288ee2c1",
     "grade": true,
     "grade_id": "cell-f26d8fd34a084fd7",
     "locked": true,
     "points": 0,
     "schema_version": 3,
     "solution": false,
     "task": false
    },
    "tags": []
   },
   "outputs": [],
   "source": [
    "assert len(set(sq_1_2_1)) <= 3\n",
    "assert set(sq_1_2_1) < set(range(1, 6))\n",
    "assert sq_1_2_2 in range(1, 6)"
   ]
  },
  {
   "cell_type": "code",
   "execution_count": null,
   "id": "91541fa7-bba9-4625-b906-87f9406237a6",
   "metadata": {
    "deletable": false,
    "editable": false,
    "nbgrader": {
     "cell_type": "code",
     "checksum": "085eefcf84eb13ee19847348fc726993",
     "grade": true,
     "grade_id": "cell-cf8a284ca46cf5bf",
     "locked": true,
     "points": 2,
     "schema_version": 3,
     "solution": false,
     "task": false
    },
    "tags": []
   },
   "outputs": [],
   "source": []
  },
  {
   "cell_type": "code",
   "execution_count": null,
   "id": "b10389db-047b-499f-8d84-19d79287f54f",
   "metadata": {
    "deletable": false,
    "editable": false,
    "nbgrader": {
     "cell_type": "code",
     "checksum": "434a413418d6a0bcad8db6c32be8b3b6",
     "grade": true,
     "grade_id": "cell-f40898b6f10f1d9b",
     "locked": true,
     "points": 3,
     "schema_version": 3,
     "solution": false,
     "task": false
    },
    "tags": []
   },
   "outputs": [],
   "source": []
  },
  {
   "cell_type": "code",
   "execution_count": null,
   "id": "f264ce3c-6958-4880-95d2-efa9aef31f11",
   "metadata": {
    "deletable": false,
    "editable": false,
    "nbgrader": {
     "cell_type": "code",
     "checksum": "d64fb124439dc4825762417ec6d95155",
     "grade": true,
     "grade_id": "cell-0c6e6e9c7d9037fa",
     "locked": true,
     "points": 5,
     "schema_version": 3,
     "solution": false,
     "task": false
    },
    "tags": []
   },
   "outputs": [],
   "source": []
  },
  {
   "cell_type": "markdown",
   "id": "2a4793b0",
   "metadata": {},
   "source": [
    "<a id='Q3'></a>\n",
    "<div class=\" alert alert-warning\">\n",
    "    <h3><b>Student Question 1.3</b> Grid-based vs Function Approximators (10 points) </h3> \n",
    "\n",
    "**Hint:** An algorithm is said to be sample-efficient when it requires less samples (data) to reach\n",
    "an optimal performance\n",
    "    \n",
    "🔝\t<a href='#TOC'><b>Table of Contents</b></a>\n",
    "</div>\n"
   ]
  },
  {
   "cell_type": "markdown",
   "id": "e88bdee4-990f-4af4-816d-0fc869e720fe",
   "metadata": {
    "tags": []
   },
   "source": [
    "### 1.3.1 Question (10 points):\n",
    "In Exercise 3, we used grid-based Q-learning to balance the Cartpole. Compared to RBF function approximation methods, grid-based methods are:\n",
    "\n",
    "**Select one:**\n",
    "\n",
    "1. More sample-efficient because they take similarities between states into account, making them highly efficient.\n",
    "\n",
    "2. Less sample-efficient because they don't take similarities between states into account and require exploration of all discretized states.\n",
    "\n",
    "3. More robust to noise in the environment and require discretization of continuous state spaces, leading to fewer states to explore.\n",
    "\n",
    "4. Better at generalizing to unseen states because they always simplify the state space, making them more efficient.\n",
    "\n",
    "5. Equally sample-efficient as RBF methods, but less flexible in handling non-uniform state distributions."
   ]
  },
  {
   "cell_type": "code",
   "execution_count": 22,
   "id": "5e40d8ca-e43a-48e8-8421-11a3c4c82374",
   "metadata": {
    "tags": []
   },
   "outputs": [],
   "source": [
    "sq_1_3_1 = 2 # Replace with the appropriate answer number"
   ]
  },
  {
   "cell_type": "markdown",
   "id": "e86df44e-111e-4879-9e61-6cf0ddfe0237",
   "metadata": {},
   "source": [
    "The following cells are used for grading"
   ]
  },
  {
   "cell_type": "code",
   "execution_count": 23,
   "id": "1c91c3fe-5414-4a22-ace9-fd9d4dbbba25",
   "metadata": {
    "deletable": false,
    "editable": false,
    "nbgrader": {
     "cell_type": "code",
     "checksum": "8d0bf530ec49953542f230deb6eda721",
     "grade": true,
     "grade_id": "cell-e5a1f15f82928287",
     "locked": true,
     "points": 0,
     "schema_version": 3,
     "solution": false,
     "task": false
    },
    "tags": []
   },
   "outputs": [],
   "source": [
    "assert sq_1_3_1 in range(1, 6)"
   ]
  },
  {
   "cell_type": "code",
   "execution_count": null,
   "id": "901bf613-0613-4551-8d0d-d91d3b4c13f2",
   "metadata": {
    "deletable": false,
    "editable": false,
    "nbgrader": {
     "cell_type": "code",
     "checksum": "7ef41072134244695dccd85c5ef126f8",
     "grade": true,
     "grade_id": "cell-ac160ae349b95d4c",
     "locked": true,
     "points": 10,
     "schema_version": 3,
     "solution": false,
     "task": false
    },
    "tags": []
   },
   "outputs": [],
   "source": []
  },
  {
   "cell_type": "markdown",
   "id": "223b9e0c",
   "metadata": {
    "deletable": false,
    "editable": false,
    "nbgrader": {
     "cell_type": "markdown",
     "checksum": "9b2bd9223d866f85d0b6d9e2a3948187",
     "grade": false,
     "grade_id": "cell-14c2950d3ec37ff1",
     "locked": true,
     "schema_version": 3,
     "solution": false,
     "task": false
    },
    "tags": []
   },
   "source": [
    "<a id='T2'></a>\n",
    "<div class=\" alert alert-warning\">\n",
    "    <h3><b>Student Task 2.</b> Visualizing the Policy (10 points) </h3> \n",
    "\n",
    "Create a 2D plot of policy (best action in terms of state) learned with RBF in terms of $x$ and θ for $\\dot{x} = 0$ and $\\dot{\\theta} = 0$, such that θ is on the horizontal axis and $x$ is on the vertical axis. The plot will be visualized below.\n",
    "\n",
    "**Hint 1 :** You can fix $\\dot{x} = 0$ and $\\dot{\\theta} = 0$ and discretize the state-space for $x$ and $\\theta$.\n",
    "\n",
    "**Hint 2 :** You can directly use the code in ***excercise 1 Task 4*** to visualize the policy.\n",
    "    \n",
    "**Hint 3 :** For CartPole environment state specifications, find them here https://gymnasium.farama.org/environments/classic_control/cart_pole/\n",
    "    \n",
    "🔝\t<a href='#TOC'><b>Table of Contents</b></a>\n",
    "</div>\n"
   ]
  },
  {
   "cell_type": "code",
   "execution_count": 24,
   "id": "797754bd-2a91-4b68-ab12-84dab27f100a",
   "metadata": {
    "tags": []
   },
   "outputs": [
    {
     "data": {
      "image/png": "[encoded data removed]",
      "text/plain": [
       "<Figure size 800x600 with 1 Axes>"
      ]
     },
     "metadata": {},
     "output_type": "display_data"
    }
   ],
   "source": [
    "import matplotlib.pyplot as plt\n",
    "import seaborn as sns\n",
    "\n",
    "# define and reload the RBF agent, which is trained with RBF feature!!!!\n",
    "with open(Path().cwd()/'cfg'/'cartpole_rbf.yaml', 'r') as f:\n",
    "    cfg = t.Struct(**yaml.safe_load(f))        \n",
    "agent = RBFAgent(n_actions=cfg.n_actions, gamma=cfg.gamma, batch_size=cfg.batch_size)\n",
    "agent.load(Path().cwd()/'results/CartPole-v1/model/')\n",
    "\n",
    "########## Your code starts here ##########\n",
    "x_min, x_max = -2.4, 2.4\n",
    "theta_min, theta_max = -0.2095, 0.2095\n",
    "\n",
    "x_vals = np.linspace(x_min, x_max, 100)\n",
    "theta_vals = np.linspace(theta_min, theta_max, 100)\n",
    "\n",
    "policy = np.zeros((len(x_vals), len(theta_vals)))\n",
    "\n",
    "for i, x in enumerate(x_vals):\n",
    "    for j, theta in enumerate(theta_vals):\n",
    "        state = np.array([x, 0.0, theta, 0.0], dtype=np.float32)\n",
    "        feature = agent.featurize(state)\n",
    "        q_values = np.array([q.predict(feature)[0] for q in agent.q_functions])\n",
    "        policy[i, j] = np.argmax(q_values)\n",
    "\n",
    "# Plot\n",
    "plt.figure(figsize=(8,6))\n",
    "\n",
    "sns.heatmap(\n",
    "    policy,\n",
    "    cbar=False, \n",
    "    xticklabels=False, \n",
    "    yticklabels=False,\n",
    "    cmap=\"coolwarm\"\n",
    ")\n",
    "xticks = np.linspace(0, 99, 5)\n",
    "yticks = np.linspace(0, 99, 5)\n",
    "plt.xticks(xticks, np.round(theta_vals[xticks.astype(int)],2))\n",
    "plt.yticks(yticks, np.round(x_vals[yticks.astype(int)],2))\n",
    "plt.xlabel(\"Theta (rad)\")\n",
    "plt.ylabel(\"X position\")\n",
    "\n",
    "plt.xlabel(\"Pole Angle θ (rad)\")\n",
    "plt.ylabel(\"Cart Position x (m)\")\n",
    "plt.title(\"Policy learned with RBF (for ẋ=0, θ̇=0)\")\n",
    "plt.show()\n",
    "########## Your code ends here #############\n",
    "\n"
   ]
  },
  {
   "cell_type": "markdown",
   "id": "25abcff7-fe09-4151-b343-f0e246725125",
   "metadata": {
    "deletable": false,
    "editable": false,
    "nbgrader": {
     "cell_type": "markdown",
     "checksum": "8b26591fe5462716bc0054bce44c792d",
     "grade": false,
     "grade_id": "cell-ff09aacaf4dcf0a0",
     "locked": true,
     "points": 10,
     "schema_version": 3,
     "solution": false,
     "task": true
    }
   },
   "source": [
    "Do not remove this cell as it is used for grading"
   ]
  },
  {
   "cell_type": "markdown",
   "id": "c88aa5e4-757d-49c8-9bec-3f23e7bc2f9f",
   "metadata": {
    "tags": []
   },
   "source": [
    "# 3. Submitting <a id='3.'></a>\n",
    "Ensure all tasks and questions (in ```ex4_dpn.ipynb``` and ```ex4_rbf.ipynb```) are answered and the necessary plots are saved in the appropriate locations. The relevant plots and files need to be included for this part of assignment are:\n",
    "\n",
    "\n",
    "- Training performance plots:\n",
    "  - `cartpole_hd.png`: Training performance of handcrafted feature plots in terms of episode and episodic reward\n",
    "  - `cartpole_rbf.png`: training performance of rbf feature plots in terms of episode and episodic reward \n",
    "<br>\n",
    "<br>\n",
    "\n",
    "  \n",
    "\n",
    "- Model files:\n",
    "  - `rbf.kpl`: Trained model\n",
    "\n",
    "\n",
    "Ensure the correct model files and plots are saved in paths:\n",
    "- ```results/CartPole-v1/cartpole_rbf.png``` Training result for Cartpole environment\n",
    "- ```results/CartPole-v1/cartpole_hd.png```  Training result for Cartpole environment\n",
    "- ```results/CartPole-v1/model/rbf.kpl``` Model for Cartpole environment\n",
    "\n",
    "\n",
    "<span style=\"color:red\"> **# IMPORTANT: DO NOT FORGET ANOTHER TASK IN ```ex4_dqn.ipynb```** </span>"
   ]
  },
  {
   "cell_type": "code",
   "execution_count": 25,
   "id": "6fa5830a",
   "metadata": {
    "deletable": false,
    "editable": false,
    "nbgrader": {
     "cell_type": "code",
     "checksum": "0df485c3a518d54d556aa23bfd41b439",
     "grade": true,
     "grade_id": "cell-2c6ecd048a50b678",
     "locked": true,
     "points": 0,
     "schema_version": 3,
     "solution": false,
     "task": false
    }
   },
   "outputs": [
    {
     "ename": "AssertionError",
     "evalue": "",
     "output_type": "error",
     "traceback": [
      "\u001b[0;31m---------------------------------------------------------------------------\u001b[0m",
      "\u001b[0;31mAssertionError\u001b[0m                            Traceback (most recent call last)",
      "Cell \u001b[0;32mIn[25], line 2\u001b[0m\n\u001b[1;32m      1\u001b[0m \u001b[38;5;66;03m# Make sure that skip training is set to True before submission\u001b[39;00m\n\u001b[0;32m----> 2\u001b[0m \u001b[38;5;28;01massert\u001b[39;00m skip_training \u001b[38;5;241m==\u001b[39m \u001b[38;5;28;01mTrue\u001b[39;00m\n",
      "\u001b[0;31mAssertionError\u001b[0m: "
     ]
    }
   ],
   "source": [
    "# Make sure that skip training is set to True before submission\n",
    "assert skip_training == True"
   ]
  },
  {
   "cell_type": "markdown",
   "id": "7dbc83ca-dbb0-4024-868e-6718a83e9bb2",
   "metadata": {
    "tags": []
   },
   "source": [
    "## 3.1 Feedback <a id='3.1'></a>\n",
    "\n",
    "In order to help the staff of the course as well as the forthcoming students, it would be great if you could answer to the following questions in your submission:"
   ]
  },
  {
   "cell_type": "markdown",
   "id": "eee27da8-ac20-488b-9d05-c03ed1f0f837",
   "metadata": {},
   "source": [
    "1) How much time did you spend solving this exercise? (change the ```hrs``` variable below to a floating point number representing the number of hours taken e.g. 5.43)"
   ]
  },
  {
   "cell_type": "code",
   "execution_count": null,
   "id": "f4a4e19d-39b6-466a-8fea-b63f91916cf5",
   "metadata": {
    "tags": []
   },
   "outputs": [],
   "source": [
    "hrs = 1.5"
   ]
  },
  {
   "cell_type": "markdown",
   "id": "dc128a60-a227-41b5-b6e0-531de2c3df1b",
   "metadata": {},
   "source": [
    "2) Difficulty of each task/question from 1-5 (int or float)"
   ]
  },
  {
   "cell_type": "code",
   "execution_count": null,
   "id": "c797f06b-bf2d-4305-abe2-e2773c6fb3d8",
   "metadata": {
    "tags": []
   },
   "outputs": [],
   "source": [
    "T1_a = 4   # Implementing Hand feature \n",
    "T2_b = 3   # Implementing RBF feature \n",
    "Q1_1 = 2 # Question 1.1 Considering linear features (10 points)\n",
    "Q1_2 = 2 # Question 1.2 Experience replay (10 points)\n",
    "Q1_3 = 2 # Question 1.3 Grid vs Function (10 points)\n",
    "Q2 = 2 # Question 2 Policy visualization (10 points)"
   ]
  },
  {
   "cell_type": "markdown",
   "id": "e6612842-e130-4658-adef-181218023449",
   "metadata": {},
   "source": [
    "3) How well did you understand the content of the task/question from 1-5? (int or float)"
   ]
  },
  {
   "cell_type": "code",
   "execution_count": null,
   "id": "5a5ea255-ca3f-4ee2-860c-147ff88373f7",
   "metadata": {
    "tags": []
   },
   "outputs": [],
   "source": [
    "T1_a = 5   # Implementing Hand feature \n",
    "T2_b = 3   # Implementing RBF feature \n",
    "Q1_1 = 3 # Question 1.1 Considering linear features (10 points)\n",
    "Q1_2 = 2 # Question 1.2 Experience replay (10 points)\n",
    "Q1_3 = 3 # Question 1.3 Grid vs Function (10 points)\n",
    "Q2 = 4 # Question 2 Policy visualization (10 points)"
   ]
  },
  {
   "cell_type": "markdown",
   "id": "77831fe1-f18d-4036-97a9-ad6d1adadfa2",
   "metadata": {},
   "source": [
    "4) General feedback. Consider questions like:\n",
    "\n",
    "    - Did the content of the lecture relate well with the assignment?\n",
    "    - To what extent did you find the material to be potentially useful for your research and studies?\n",
    "    \n",
    "Please share any additional feedback, suggestions, or comments you have about the lecture, assignment, or course content. Your input is valuable in helping us improve the learning experience."
   ]
  },
  {
   "cell_type": "markdown",
   "id": "6c8038fb-e038-4eac-87f3-ff28e0f94e9d",
   "metadata": {
    "tags": []
   },
   "source": [
    "DOUBLE CLICK HERE TO EDIT, CLEAR THIS TEXT AND ANSWER HERE"
   ]
  }
 ],
 "metadata": {
  "kernelspec": {
   "display_name": "Python 3",
   "language": "python",
   "name": "python3"
  },
  "language_info": {
   "codemirror_mode": {
    "name": "ipython",
    "version": 3
   },
   "file_extension": ".py",
   "mimetype": "text/x-python",
   "name": "python",
   "nbconvert_exporter": "python",
   "pygments_lexer": "ipython3",
   "version": "3.10.12"
  }
 },
 "nbformat": 4,
 "nbformat_minor": 5
}
