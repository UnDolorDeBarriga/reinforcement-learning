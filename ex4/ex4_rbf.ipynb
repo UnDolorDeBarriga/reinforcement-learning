{
 "cells": [
  {
   "cell_type": "markdown",
   "id": "53274fb5",
   "metadata": {
    "deletable": false,
    "editable": false,
    "nbgrader": {
     "cell_type": "markdown",
     "checksum": "42aa8ce65cf2808c1df90efc58a0a546",
     "grade": false,
     "grade_id": "cell-d0c446e141ba6217",
     "locked": true,
     "schema_version": 3,
     "solution": false,
     "task": false
    }
   },
   "source": [
    "\n",
    "<div class=\"alert alert-block alert-info\">\n",
    "   <h2 align=\"center\"> <center><b> Reinforcement Learning Assignment 4 - Function Approximators Part 1: Radial Basis Functions </b></center></h2>\n",
    "\n",
    "<br>\n",
    "<center><font size=\"3\">This notebook is a part of teaching material for ELEC-E8125</font></center>\n",
    "<center><font size=\"3\">Aalto University</font></center>\n",
    "</div>\n",
    "\n",
    "\n",
    "<a id='TOC'></a>\n",
    "\n",
    "<div class=\"alert alert-block alert-success\">\n",
    "    \n",
    "# Table of contents\n",
    "* <a href='#1.'> 1. Introduction </a>\n",
    "* <a href='#1.1'> 1.1 Task environments </a>\n",
    "* <a href='#1.2'> 1.2 Learning Objectives </a>\n",
    "* <a href='#1.3'> 1.3 Code Structure & Files </a>\n",
    "* <a href='#2.'> 2. Approximate with non-linear features</a>\n",
    "* <a href='#2.1'> 2.1 Radial Basis Functions</a>\n",
    "* <a href='#2.2'> 2.2 Sklearn RBF function</a>\n",
    "* <a href='#3.'> 3. Submitting </a>\n",
    "* <a href='#3.1'> 3.1 Feedback </a>\n",
    "\n",
    "<a href='#T1'><b>Student Task 1.</b> Implementing Q-learning using Function Approximation (20 points) </a>\\\n",
    "<a href='#Q1'><b>Student Question 1.1</b> Considering Linear Features (10 points) </a>\\\n",
    "<a href='#Q2'><b>Student Question 1.2</b> Experience Replay Buffer (10 points) </a>\\\n",
    "<a href='#Q3'><b>Student Question 1.3</b> Grid-based vs Function Approximators (10 points) </a>\\\n",
    "<a href='#T2'><b>Student Task 2.</b> Visualizing the Policy (10 points)</a>\n",
    "    \n",
    "**Total Points:** 60\n",
    "\n",
    "**Estimated runtime of all the cells:** 2 - 3 hours"
   ]
  },
  {
   "cell_type": "markdown",
   "id": "c30395ea",
   "metadata": {
    "deletable": false,
    "editable": false,
    "nbgrader": {
     "cell_type": "markdown",
     "checksum": "7a2b0a701ed47cff056b5cb211ab235e",
     "grade": false,
     "grade_id": "cell-e08152dda643a700",
     "locked": true,
     "schema_version": 3,
     "solution": false,
     "task": false
    }
   },
   "source": [
    "# 1. Introduction <a id='1.'></a>\n",
    "\n",
    "In many real world scenarios, the dimensionality of the state space may be too high to compute and store the Q-values for each possible state and action in a Q-table. Instead, the state value and action value functions can be learned by using a function approximator, such as a radial basis functions (RBFs). In this exercise, you will start with handcrafted features and then move to radial basis functions in the **Cartpole** environment.\n",
    "\n",
    "\n",
    "<figure style=\"text-align: center\">\n",
    "<img src=\"imgs/cartpole.png\" width=\"300px\">\n",
    "<figcaption style=\"text-align: center\"> Figure 1: The Cartpole environment. </figcaption>\n",
    "</figure>\n",
    "\n",
    "Useful Sources:\n",
    "\n",
    "- Sutton, Richard S., and Andrew G. Barto. \"Reinforcement Learning: An Introduction (2nd Edition).\" London, England (2017). http://incompleteideas.net/book/RLbook2018.pdf\n",
    "- Lecture 4: Function Approximation (Sutton & Barto Ch. 9-9.3, 10-10.1)\n",
    "\n",
    "## 1.1 Task environments <a id='1.1'></a>\n",
    "\n",
    "In this part, we will specifically use RBF-based Q-learning to solve cartpole task. In this environment, a pole is attached by an un-actuated joint to a cart, which moves along a frictionless track. The pendulum is placed upright on the cart and the goal is to balance the pole by applying forces in the left and right direction on the cart. \n",
    "\n",
    "You can find the detailed description of the task through this link: https://gymnasium.farama.org/environments/classic_control/cart_pole/\n",
    "\n",
    "\n",
    "## 1.2 Learning Objectives: <a id='1.2'></a>\n",
    "- Understand why and how function approximators can be used for Q-learning\n",
    "- Develop intuition behind function approximators: radial basis functions\n",
    "\n",
    "## 1.3 Code Structure & Files <a id='1.3'></a>\n",
    "\n",
    "```ex4_rbf.ipynb``` is the file needed to be modified for this part of the assignment. \n",
    "\n",
    "<span style=\"color:red\"> **# IMPORTANT: DO NOT FORGET ANOTHER TASK IN ```ex4_dqn.ipynb```** </span>\n",
    "\n",
    "```\n",
    "├───cfg                            # Config files for environments\n",
    "├───imgs                           # Images used in notebook\n",
    "├───results\n",
    "│   └───CartPole-v1\n",
    "│   │   ├───logging                \n",
    "│   │   │    └───logging.pkl        # Contains logged data\n",
    "│   │   ├───model              \n",
    "│   │   │    └───*dqn.pt            # Contains trained model for dqn task\n",
    "│   │   │    └───*rbf.pkl           # Contains trained model for rbf task\n",
    "│   │   └───video                   # Videos saved\n",
    "│   │   └───*cartpole_rbf.png       # Contains training performance plot for rbd\n",
    "│   │   └───*cartpole_hd.png        # Contains training performance plot for handcrafted feature\n",
    "│   └───LunarLander-v2\n",
    "│   ex4_dqn.ipynb                   # 2nd assignment file containing tasks <---------\n",
    "│   ex4_rbf.ipynb                   # 1st assignment file containing tasks <---------This task\n",
    "│   train.py                        # Contains train and test functions \n",
    "│   utils.py                        # Contains useful functions \n",
    "└───buffer.py                       # Contains buffer functions\n",
    "```\n",
    "\n"
   ]
  },
  {
   "cell_type": "markdown",
   "id": "5b3c5f5c",
   "metadata": {
    "deletable": false,
    "editable": false,
    "nbgrader": {
     "cell_type": "markdown",
     "checksum": "36b40a9e7e6f787b1b792f5f3a7e224a",
     "grade": false,
     "grade_id": "cell-ab51a95c38cfeb41",
     "locked": true,
     "schema_version": 3,
     "solution": false,
     "task": false
    },
    "tags": []
   },
   "source": [
    "# 2. Approximate with non-linear features <a id='2.'></a>\n",
    "## 2.1 Radial Basis Functions <a id='2.1'></a>\n",
    "A radial basis function (RBF) is a real-valued function $\\phi$ that maps a vector $\\boldsymbol{x} \\in \\mathbb{R}^d$ into a real-value $\\phi : \\mathbb{R}^d \\mapsto \\mathbb{R}$. The RBF $\\phi(\\boldsymbol{x} )$ = $\\phi(||\\boldsymbol{x} ||)$ acts on a distance (radial) and a basis function $\\phi$ (e.g. Gaussian function). The RBFs are commonly used as kernels in machine learning. The RBF kernel is defined as a $K(\\boldsymbol{x} , \\boldsymbol{x} ′) = 〈\\phi(\\boldsymbol{x}),\\phi(\\boldsymbol{x}′)〉$, where $\\phi$ is the Gaussian function. Therefore, the RBF kernel is defined as\n",
    "\n",
    "$$\n",
    "K\\left(\\boldsymbol{x}, \\boldsymbol{x}^{\\prime}\\right)=\\exp \\left(-\\frac{\\left\\|\\boldsymbol{x}-\\boldsymbol{x}^{\\prime}\\right\\|^2}{2 \\sigma^2}\\right)\n",
    "$$\n",
    "\n",
    "where the parameter $\\sigma^2$ is the variance and gives shape to the Gaussian function. \n",
    "\n",
    "On the exercise you are given a ```featurizer``` which uses an ```RBFSampler```. The ```RBFSampler``` uses a Monte Carlo approximation of the RBF kernel and generates samples with the specified variance. The ```RBFSampler``` has been trained on a predefined dataset. Thus, the RBF kernel will map the state $x \\in \\mathbb{R}$ d to the distance to the trained dataset. Therefore, an input state will be transformed to as many features as samples $N$ are specified in the ```RBFSampler``` $\\phi : \\mathbb{R}^d \\mapsto \\mathbb{R}^N $. \n",
    "\n",
    "In a nutshell, the ```featurizer``` function maps low-dimensional states to a high-dimensional representation, which reveals properties that haven’t been shown in the original low-dimensional space, e.g., for the Cartpole environment, it maps the original four-dimensional states to a 230-dimensional vector.\n",
    "\n",
    "## 2.2 Sklearn RBF function<a id='2.2'></a>\n",
    "In this excercise, we use scikit-learn library to implement the RBF approximation by doing following steps:\n",
    "\n",
    "- RBFSampler: A RBF kernel will map feature into higher dimensions using random Fourier features.\n",
    "- FeatureUnion: Concatenates results of multiple transformer objects.\n",
    "- SGDRegressor: Linear model fitted by minimizing a regularized empirical loss with SGD.\n",
    "\n",
    "\n"
   ]
  },
  {
   "cell_type": "markdown",
   "id": "7c8cedc4-14e0-4fb1-b3ba-f26009fa02a4",
   "metadata": {
    "deletable": false,
    "editable": false,
    "nbgrader": {
     "cell_type": "markdown",
     "checksum": "47530e48db6901812adae6ba0239bc2d",
     "grade": false,
     "grade_id": "cell-fdd24e05653d4a99",
     "locked": true,
     "schema_version": 3,
     "solution": false,
     "task": false
    }
   },
   "source": [
    "## Warnings:\n",
    "\n",
    "- Don’t copy and paste cells within a notebook. This will mess up the tracking metadata and prevent autograding from working.\n",
    "- Only add new cells using the '+' button in the upper toolbar and do not split cells.\n",
    "- Be cautious about things such as copying the whole notebook to Colab to work on it. This has sometimes resulted in removing all notebook metadata, making autograding impossible."
   ]
  },
  {
   "cell_type": "markdown",
   "id": "5511d36c",
   "metadata": {
    "deletable": false,
    "editable": false,
    "nbgrader": {
     "cell_type": "markdown",
     "checksum": "d50ae4772484f424d02f23d09e82d04f",
     "grade": false,
     "grade_id": "cell-102128ef6321fb44",
     "locked": true,
     "schema_version": 3,
     "solution": false,
     "task": false
    }
   },
   "source": [
    "<a id='T1'></a>\n",
    "<div class=\" alert alert-warning\">\n",
    "    <h3><b>Student Task 1.</b> Implementing Q-learning using Function Approximation (20 points) </h3> \n",
    "\n",
    "Implement Q-learning using function approximation. Also implement $\\epsilon$-greedy action selection. Test two different features for state representations:\n",
    "\n",
    "&nbsp;&nbsp;&nbsp;&nbsp;&nbsp;(a) handcrafted feature vector $\\phi(s) = [s, |s|]^T$,(use the ```featurizer``` inside the ```RBFAgent``` class).\n",
    "\n",
    "&nbsp;&nbsp;&nbsp;&nbsp;&nbsp;(b) radial basis function representations (use the ```featurizer``` inside the ```RBFAgent``` class).\n",
    "\n",
    "For this task you need to modify functions ```featurize```, ```get_action```, and ```update``` inside the ```RBFAgent``` class. Test the implementation on the Cartpole environment by running the ```train(agent)``` script with default configs. You can test the trained model with the ```test(agent, cfg_args=dict(save_video=true))``` script. \n",
    "    \n",
    "**See Figure 2 for an example training performance plot for Task1(b). Save the training performance plots for both (a) and (b), and check if they are in the right place (the paths please refer to <a href='#3.'>Submitting<a>).**\n",
    "\n",
    "<figure style=\"text-align: center\">\n",
    "<img src=\"imgs/rbf.png\" width=\"300px\">\n",
    "<figcaption style=\"text-align: center\">Figure 2: The training performance plot for Task 1 (b) might look something like this.</figcaption>\n",
    "</figure>\n",
    "    \n",
    "🔝\t<a href='#TOC'><b>Table of Contents</b></a>\n",
    "</div>\n"
   ]
  },
  {
   "cell_type": "code",
   "execution_count": 33,
   "id": "57105930",
   "metadata": {},
   "outputs": [],
   "source": [
    "skip_training = True  # Set this flag to True before validation and submission"
   ]
  },
  {
   "cell_type": "code",
   "execution_count": null,
   "id": "fd6ed5fa",
   "metadata": {
    "deletable": false,
    "editable": false,
    "nbgrader": {
     "cell_type": "code",
     "checksum": "8292581c94100e7cfcfa56cb34739b65",
     "grade": true,
     "grade_id": "cell-21f05aed2ce5f313",
     "locked": true,
     "points": 0,
     "schema_version": 3,
     "solution": false,
     "task": false
    }
   },
   "outputs": [],
   "source": []
  },
  {
   "cell_type": "code",
   "execution_count": 4,
   "id": "62817342",
   "metadata": {
    "tags": []
   },
   "outputs": [],
   "source": [
    "import sys, os\n",
    "sys.path.insert(0, os.path.abspath(\"..\"))\n",
    "\n",
    "import yaml\n",
    "import numpy as np\n",
    "from pathlib import Path\n",
    "\n",
    "from sklearn.linear_model import SGDRegressor\n",
    "from sklearn.kernel_approximation import RBFSampler\n",
    "from sklearn.preprocessing import StandardScaler\n",
    "from sklearn.pipeline import FeatureUnion\n",
    "\n",
    "from buffer import Batch\n",
    "import utils as u\n",
    "import train as t\n",
    "\n",
    "from IPython.display import Video # to display videos"
   ]
  },
  {
   "cell_type": "code",
   "execution_count": 6,
   "id": "9ee3fb4e",
   "metadata": {
    "tags": []
   },
   "outputs": [],
   "source": [
    "class RBFAgent(object):\n",
    "    def __init__(self, n_actions, gamma=0.98, batch_size=32):\n",
    "        self.scaler = None\n",
    "        self.featurizer = None\n",
    "        self.q_functions = None\n",
    "        self.gamma = gamma\n",
    "        self.batch_size = batch_size\n",
    "        self.n_actions = n_actions\n",
    "        self._initialize_model()\n",
    "\n",
    "    def _initialize_model(self):\n",
    "        # Draw some samples from the observation range and initialize the scaler (used to normalize data)\n",
    "        obs_limit = np.array([4.8, 5, 0.5, 5],\n",
    "                             dtype=np.float32)\n",
    "        samples = np.random.uniform(-obs_limit, obs_limit,\n",
    "                                    (1000, obs_limit.shape[0])).astype(np.float32)\n",
    "        \n",
    "        # calculate the mean and var of samples, used later to normalize training data\n",
    "        self.scaler = StandardScaler().fit(samples) \n",
    "\n",
    "        # Initialize the RBF featurizer\n",
    "        self.featurizer = FeatureUnion([\n",
    "            (\"rbf1\", RBFSampler(gamma=5.0, n_components=100)),\n",
    "            (\"rbf2\", RBFSampler(gamma=2.0, n_components=80)),\n",
    "            (\"rbf3\", RBFSampler(gamma=1.0, n_components=50)),\n",
    "        ])\n",
    "        self.featurizer.fit(self.scaler.transform(samples))\n",
    "\n",
    "        # Create a value approximator for each action dimension\n",
    "        self.q_functions = [SGDRegressor(learning_rate=\"constant\", max_iter=500, tol=1e-3)\n",
    "                           for _ in range(self.n_actions)]\n",
    "\n",
    "        # Initialize it to whatever values; implementation detail\n",
    "        for q_a in self.q_functions:\n",
    "            q_a.partial_fit(self.featurize(samples), \n",
    "                            np.zeros((samples.shape[0],), dtype=np.float32))\n",
    "\n",
    "    def featurize(self, state):\n",
    "        \"\"\" Map state to a higher dimension for better representation.\"\"\"\n",
    "        if len(state.shape) == 1:\n",
    "            state = state.reshape(1, -1)\n",
    "        \n",
    "        # TODO: Task 1, choose which feature to use. \n",
    "        # Task 1a: implement the manual features here \n",
    "        ########## You code starts here #########\n",
    "        manual_feature = np.concatenate([state, np.abs(state)], axis=1)\n",
    "        ########## You code ends here #########\n",
    "\n",
    "        # Task 1b: implement the RBF features transformation here \n",
    "        # it will map a state to a higher dimension (100+80+50)\n",
    "        ########## You code starts here #########\n",
    "        rbf_feature = self.featurizer.transform(self.scaler.transform(state))\n",
    "        ########## You code ends here #########\n",
    "\n",
    "        #Task 1: return manual_feature or return rbf_feature\n",
    "        ########## You code starts here #########\n",
    "        # feature = manual_feature #(task 1 a)\n",
    "        feature = rbf_feature #(task 1 b)\n",
    "        ########## You code ends here #########\n",
    "        \n",
    "        return feature\n",
    "    \n",
    "    def get_action(self, state, epsilon=0.0):\n",
    "        # TODO: Task 1: Implement epsilon-greedy policy\n",
    "        # Hints:\n",
    "        # 1. self.q_functions is a list which defines a q function for each action dimension\n",
    "        # 2. for each q function, use predict(feature) to obtain the q value\n",
    "        ########## Your code starts here ##########\n",
    "        p = np.random.uniform(0, 1)\n",
    "        \n",
    "        feature = self.featurize(state)\n",
    "        q_values = [self.q_functions[a].predict(feature)[0] for a in range(self.n_actions)]\n",
    "        \n",
    "        if p < epsilon:\n",
    "            action = np.random.randint(self.n_actions)\n",
    "        else:\n",
    "            action = np.argmax(q_values)\n",
    "        ########## Your code ends here #########\n",
    "        return action\n",
    "\n",
    "    def _to_squeezed_np(self, batch:Batch) -> Batch:\n",
    "        \"\"\" A simple helper function squeeze data dimension and cover data format from tensor to np.ndarray.\"\"\"\n",
    "        _ret = {}\n",
    "        for name, value in batch._asdict().items():\n",
    "            if isinstance(value, dict): # this is for extra, which is a dict\n",
    "                for k, v in value.items():\n",
    "                    value[k] = v.squeeze().numpy()\n",
    "                _ret[name] = value\n",
    "            else:\n",
    "                _ret[name] = value.squeeze().numpy()\n",
    "        return Batch(**_ret)\n",
    "        \n",
    "    def update(self, buffer):\n",
    "        # batch is a namedtuple, which has state, action, next_state, not_done, reward\n",
    "        # you can access the value be batch.<name>, e.g, batch.state\n",
    "        batch = buffer.sample(self.batch_size) \n",
    "        # Hint:\n",
    "        #    state = batch.state\n",
    "        #    action = batch.action \n",
    "        #    next_state = batch.next_state\n",
    "        #    reward = batch.reward \n",
    "        #    not_done = batch.not_done \n",
    "        \n",
    "        # the returned batch is a namedtuple, where the data is torch.Tensor\n",
    "        # we first squeeze dim and then covert it to Numpy array.\n",
    "        batch = self._to_squeezed_np(batch)\n",
    "\n",
    "        # TODO: Task 1, update q_functions\n",
    "        # Hints: \n",
    "        # 1. featurize the state and next_state\n",
    "        # 2. calculate q_target (check q-learning)\n",
    "        # 3. self.q_functions is a list which defines a q function for each action dimension\n",
    "        #    for each q function, use q.predict(featurized_state) to obtain the q value \n",
    "        # 4. remember to use not_done to mask out the q values at terminal states (treat them as 0)\n",
    "        ########## You code starts here #########\n",
    "        f_state = self.featurize(batch.state)\n",
    "        f_next_state = self.featurize(batch.next_state)\n",
    "        \n",
    "        # Check the Hints to finish the rest ;)\n",
    "        next_q_values = np.array([self.q_functions[a].predict(f_next_state) for a in range(self.n_actions)])\n",
    "        max_next_q = np.max(next_q_values, axis=0)\n",
    "        q_tar = batch.reward + self.gamma * max_next_q * batch.not_done\n",
    "        ########## You code ends here #########\n",
    "        \n",
    "        # Get new weights for each action separately\n",
    "        for a in range(self.n_actions):\n",
    "            # Find states where `a` was taken\n",
    "            idx = batch.action == a\n",
    "\n",
    "            # If a not present in the batch, skip and move to the next action\n",
    "            if np.any(idx):\n",
    "                act_states = f_state[idx]\n",
    "                act_targets = q_tar[idx]\n",
    "\n",
    "                # Perform a single SGD step on the Q-function params to update the q_function corresponding to action a\n",
    "                self.q_functions[a].partial_fit(act_states, act_targets)\n",
    "\n",
    "        return {}\n",
    "\n",
    "    def save(self, fp):\n",
    "        path = fp/'rbf.pkl'\n",
    "        u.save_object(\n",
    "            {'q': self.q_functions, 'featurizer': self.featurizer},\n",
    "            path\n",
    "        )\n",
    "\n",
    "    def load(self, fp):\n",
    "        path = fp/'rbf.pkl'\n",
    "        d = u.load_object(path)\n",
    "\n",
    "        self.q_functions = d['q']\n",
    "        self.featurizer = d['featurizer']"
   ]
  },
  {
   "cell_type": "markdown",
   "id": "bb219433-160a-4c5b-b1bf-6c654a57e703",
   "metadata": {
    "deletable": false,
    "editable": false,
    "nbgrader": {
     "cell_type": "markdown",
     "checksum": "d198c51b373df885c3794fef8724caf0",
     "grade": false,
     "grade_id": "cell-f9705dbb63754c13",
     "locked": true,
     "schema_version": 3,
     "solution": false,
     "task": false
    },
    "tags": []
   },
   "source": [
    "<a id='T1'></a>\n",
    "<div class=\" alert alert-warning\">\n",
    "    <h4><b>Student Task 1.(a)</b> Linear model with handcraft feature </h4> \n",
    "\n",
    "First, let's test Q-learning with handcrafted features. We define the feature as :\n",
    "    \n",
    "&nbsp;&nbsp;&nbsp;&nbsp;&nbsp;&nbsp;&nbsp;&nbsp;&nbsp;&nbsp;&nbsp;&nbsp;&nbsp;&nbsp;&nbsp;&nbsp;&nbsp;&nbsp;&nbsp;&nbsp;&nbsp;&nbsp;&nbsp;&nbsp;&nbsp;&nbsp;&nbsp;&nbsp;&nbsp;&nbsp;$\\phi(s) = [s, |s|]^T$\n",
    "\n",
    "Then we will feed this feature into a linear model to predict corresponding Q-values.\n",
    "\n",
    "For this Task, implement the code in ```class RBFAgent```:\n",
    "    \n",
    "1. First, you need to modify functions ```featurize```, to convert the state $s$ from encironment to $[s, |s|]^T$.\n",
    "2. Modify the function ```get_action```, use ```self.q_functions``` to select the action has the highest return.\n",
    "3. Modify the function ```update```, based on the Q-learning objective to update the Q-function (linear models).\n",
    "\n",
    "After the modifying, test the implementation on the Cartpole environment by running the ```train(agent)``` script with default configs. You can test the trained model with the ```test(agent, cfg_args=dict(save_video=true))``` script. \n",
    "</div>"
   ]
  },
  {
   "cell_type": "code",
   "execution_count": 9,
   "id": "d9dd6467",
   "metadata": {
    "tags": []
   },
   "outputs": [],
   "source": [
    "# After the modifying, run\n",
    "# init agent\n",
    "with open(Path().cwd()/'cfg'/'cartpole_rbf.yaml', 'r') as f:\n",
    "    cfg = t.Struct(**yaml.safe_load(f))\n",
    "        \n",
    "agent = RBFAgent(n_actions=cfg.n_actions, gamma=cfg.gamma, batch_size=cfg.batch_size)"
   ]
  },
  {
   "cell_type": "code",
   "execution_count": 10,
   "id": "d78c6566",
   "metadata": {
    "tags": []
   },
   "outputs": [
    {
     "name": "stdout",
     "output_type": "stream",
     "text": [
      "Numpy/Torch/Random Seed:  436\n",
      "{'ep_reward': 23.0, 'episode': 0, 'epsilon': 1.0, 'ep_avr': np.float64(0.002969599998323247), 'ts_avr': np.float64(0.00011561304184041269)}\n",
      "{'ep_reward': 33.0, 'episode': 100, 'epsilon': 0.3333333333333333, 'ep_avr': np.float64(0.03732757100340677), 'ts_avr': np.float64(0.000848097474509225)}\n",
      "{'ep_reward': 69.0, 'episode': 200, 'epsilon': 0.2, 'ep_avr': np.float64(0.05390040999976918), 'ts_avr': np.float64(0.0008934199634767571)}\n",
      "{'ep_reward': 41.0, 'episode': 300, 'epsilon': 0.14285714285714285, 'ep_avr': np.float64(0.05451567599928239), 'ts_avr': np.float64(0.0008829873379646202)}\n",
      "{'ep_reward': 40.0, 'episode': 400, 'epsilon': 0.1111111111111111, 'ep_avr': np.float64(0.05775902200111886), 'ts_avr': np.float64(0.0008890922189514742)}\n",
      "{'ep_reward': 80.0, 'episode': 500, 'epsilon': 0.09090909090909091, 'ep_avr': np.float64(0.05866101599938702), 'ts_avr': np.float64(0.0009042231754864779)}\n",
      "{'ep_reward': 49.0, 'episode': 600, 'epsilon': 0.07692307692307693, 'ep_avr': np.float64(0.050605159000260753), 'ts_avr': np.float64(0.0008925348692723237)}\n",
      "{'ep_reward': 57.0, 'episode': 700, 'epsilon': 0.06666666666666667, 'ep_avr': np.float64(0.06478329300152837), 'ts_avr': np.float64(0.0008910192869686522)}\n",
      "{'ep_reward': 50.0, 'episode': 800, 'epsilon': 0.058823529411764705, 'ep_avr': np.float64(0.06389510800101561), 'ts_avr': np.float64(0.0008826795632099288)}\n",
      "{'ep_reward': 21.0, 'episode': 900, 'epsilon': 0.05263157894736842, 'ep_avr': np.float64(0.08645095700136153), 'ts_avr': np.float64(0.0008909960383302931)}\n",
      "{'ep_reward': 82.0, 'episode': 1000, 'epsilon': 0.05, 'ep_avr': np.float64(0.07281744299922138), 'ts_avr': np.float64(0.0009004640052524635)}\n",
      "{'ep_reward': 79.0, 'episode': 1100, 'epsilon': 0.05, 'ep_avr': np.float64(0.0806380679976428), 'ts_avr': np.float64(0.0009057074423945871)}\n",
      "{'ep_reward': 89.0, 'episode': 1200, 'epsilon': 0.05, 'ep_avr': np.float64(0.05949494700325886), 'ts_avr': np.float64(0.0009314386774896011)}\n",
      "{'ep_reward': 103.0, 'episode': 1300, 'epsilon': 0.05, 'ep_avr': np.float64(0.06876338199857855), 'ts_avr': np.float64(0.0009279091301425898)}\n",
      "{'ep_reward': 80.0, 'episode': 1400, 'epsilon': 0.05, 'ep_avr': np.float64(0.070086442999891), 'ts_avr': np.float64(0.0009256770859293775)}\n",
      "{'ep_reward': 71.0, 'episode': 1500, 'epsilon': 0.05, 'ep_avr': np.float64(0.0724671319979825), 'ts_avr': np.float64(0.0009071456013753004)}\n",
      "{'ep_reward': 62.0, 'episode': 1600, 'epsilon': 0.05, 'ep_avr': np.float64(0.0818763820003369), 'ts_avr': np.float64(0.0009027994482106762)}\n",
      "{'ep_reward': 130.0, 'episode': 1700, 'epsilon': 0.05, 'ep_avr': np.float64(0.077650522000622), 'ts_avr': np.float64(0.0009118521452833609)}\n",
      "{'ep_reward': 94.0, 'episode': 1800, 'epsilon': 0.05, 'ep_avr': np.float64(0.06908990299853031), 'ts_avr': np.float64(0.0009065589125092124)}\n",
      "{'ep_reward': 108.0, 'episode': 1900, 'epsilon': 0.05, 'ep_avr': np.float64(0.06718289799930062), 'ts_avr': np.float64(0.00090615785834255)}\n",
      "------ Training Finished ------\n"
     ]
    }
   ],
   "source": [
    "if not skip_training:\n",
    "    t.train(agent, cfg_path=Path().cwd()/'cfg'/'cartpole_rbf.yaml', cfg_args={}) # >= 20 mins"
   ]
  },
  {
   "cell_type": "code",
   "execution_count": 11,
   "id": "4d57a812",
   "metadata": {
    "tags": []
   },
   "outputs": [
    {
     "name": "stdout",
     "output_type": "stream",
     "text": [
      "Numpy/Torch/Random Seed:  436\n",
      "{'episode': 0, 'ep_reward': 107.0}\n",
      "{'episode': 1, 'ep_reward': 62.0}\n",
      "{'episode': 2, 'ep_reward': 64.0}\n",
      "{'episode': 3, 'ep_reward': 83.0}\n",
      "{'episode': 4, 'ep_reward': 104.0}\n",
      "{'episode': 5, 'ep_reward': 103.0}\n",
      "{'episode': 6, 'ep_reward': 91.0}\n",
      "{'episode': 7, 'ep_reward': 90.0}\n",
      "{'episode': 8, 'ep_reward': 73.0}\n",
      "{'episode': 9, 'ep_reward': 63.0}\n"
     ]
    }
   ],
   "source": [
    "if not skip_training:\n",
    "    t.test(agent, cfg_path=Path().cwd()/'cfg'/'cartpole_rbf.yaml', cfg_args=dict(save_video=True), seeds=[67, 23, 89, 12, 45, 78, 34, 90, 21, 56]) "
   ]
  },
  {
   "cell_type": "code",
   "execution_count": 12,
   "id": "4e9ba558-6057-4142-804b-d6bc43d0d709",
   "metadata": {
    "tags": []
   },
   "outputs": [
    {
     "name": "stdout",
     "output_type": "stream",
     "text": [
      "Numpy/Torch/Random Seed:  436\n"
     ]
    },
    {
     "data": {
      "image/png": "[encoded data removed]",
      "text/plain": [
       "<Figure size 640x480 with 1 Axes>"
      ]
     },
     "metadata": {},
     "output_type": "display_data"
    }
   ],
   "source": [
    "if not skip_training:\n",
    "    t.plot(save_name='cartpole_hd.png', cfg_path=Path().cwd()/'cfg'/'cartpole_rbf.yaml', cfg_args={}) # < 15 mins"
   ]
  },
  {
   "cell_type": "markdown",
   "id": "05fb6b18",
   "metadata": {},
   "source": [
    "The agent acting in the environment can be seen using the following command. Change the path to pick the episode you want to visualize. Bear in mind by default video saving for training is taken every 500 episodes"
   ]
  },
  {
   "cell_type": "code",
   "execution_count": 13,
   "id": "69b48c8a",
   "metadata": {
    "tags": []
   },
   "outputs": [
    {
     "data": {
      "text/html": [
       "<video loop autoplay  >\n",
       " <source src=\"data:video/mp4;base64,AAAAIGZ0eXBpc29tAAACAGlzb21pc28yYXZjMW1wNDEAAAAIZnJlZQAAHDZtZGF0AAACrwYF//+r3EXpvebZSLeWLNgg2SPu73gyNjQgLSBjb3JlIDE2NCByMzE5MiBjMjRlMDZjIC0gSC4yNjQvTVBFRy00IEFWQyBjb2RlYyAtIENvcHlsZWZ0IDIwMDMtMjAyNCAtIGh0dHA6Ly93d3cudmlkZW9sYW4ub3JnL3gyNjQuaHRtbCAtIG9wdGlvbnM6IGNhYmFjPTEgcmVmPTMgZGVibG9jaz0xOjA6MCBhbmFseXNlPTB4MzoweDExMyBtZT1oZXggc3VibWU9NyBwc3k9MSBwc3lfcmQ9MS4wMDowLjAwIG1peGVkX3JlZj0xIG1lX3JhbmdlPTE2IGNocm9tYV9tZT0xIHRyZWxsaXM9MSA4eDhkY3Q9MSBjcW09MCBkZWFkem9uZT0yMSwxMSBmYXN0X3Bza2lwPTEgY2hyb21hX3FwX29mZnNldD0tMiB0aHJlYWRzPTEyIGxvb2thaGVhZF90aHJlYWRzPTIgc2xpY2VkX3RocmVhZHM9MCBucj0wIGRlY2ltYXRlPTEgaW50ZXJsYWNlZD0wIGJsdXJheV9jb21wYXQ9MCBjb25zdHJhaW5lZF9pbnRyYT0wIGJmcmFtZXM9MyBiX3B5cmFtaWQ9MiBiX2FkYXB0PTEgYl9iaWFzPTAgZGlyZWN0PTEgd2VpZ2h0Yj0xIG9wZW5fZ29wPTAgd2VpZ2h0cD0yIGtleWludD0yNTAga2V5aW50X21pbj0yNSBzY2VuZWN1dD00MCBpbnRyYV9yZWZyZXNoPTAgcmNfbG9va2FoZWFkPTQwIHJjPWNyZiBtYnRyZWU9MSBjcmY9MjMuMCBxY29tcD0wLjYwIHFwbWluPTAgcXBtYXg9NjkgcXBzdGVwPTQgaXBfcmF0aW89MS40MCBhcT0xOjEuMDAAgAAAActliIQAJ//+9bF8CmrJ84oM6DIu4Zckya62IuJtAMAAJShQAAADABLJlCWzIByZd0AAABMgA4ofQZQeYiYqxUCV4g4JjdGAVR1y3YAA8tPQA9noLuPLGQEGci4ZzLBt/g83/R86noEDQRS/DZo4dn7RxniT1kDaBILEm3RgjQLV4GDfSOP+mxWYQcYAPwW21ksSdwtZGnIrgWNT9Q9MW07uF6mcOQuuuTYwTqL/083biKHnCKfQJWNLCCFOYuvLBVxRhqu3XELthTljQ9hqv8LzRsQbbJ31yI5RnhvoTXhxKBKFAvsNWSz2OWlEzku5bUkaxbE/nSrN4kN1dRP4lWJLUngJoZX6F4lrHW0CewP9MyD7Q7slTieGlLysVLLYgQbbtwTTQXT0rsSrvzmPsOwivS9S9KAbBaXn8FG5jSW6A0nQWh0dHbCp0taMiFSrQ4G8+xd1Xg0XywYzu6JB8caThhPEp8k5ip2BdYQI5xDMh3hjgVH6AalBvEtJo2mvL+UpJn8Fibz+JZDBqto4AU8KLSNGHUHLkELWU2JoajQCEl9JPM6v9vrdR+onYtLX8Zk3xsdVibv9T+HENK+cqwCtnFQAAAMAAAMAt4EAAABqQZokbEJ//fEAAAMCoSpENZHXASRAFFOyN2HTSZp2MRifSdEXg7aICriPQ8HUvzPK+ThjeKsSC8RR5ePT3U2ZbNgoDZp7Wnf7WaP5fo7JfGXQXiUzSxchWyZlyBDa4KybR+otSTo7sCgcEwAAACBBnkJ4hH8AABa1KzdrWmFxhAp3o9JAqtb84ikRkXn2NwAAAC8BnmF0R/8AACOr+FtdV5jhJBcrDIniZ5iqilhWlFKk80qAhBD97TcJnSNSdJkvbQAAABABnmNqR/8AAAMAAjwKx725AAAAY0GaaEmoQWiZTAhP//3xAAADAp/t3wQWVn+1ng9DLGCPEAF1ClYkl2GuSwX3A0K5vIT0tnXZQ2xAM3gphLr2EuiXqx389uNykf/O1q6nXQIQb5g3qv743n5oYj0L+tiaMrJ7ewAAACFBnoZFESwj/wAAFrVYT5mXzBitCNmWQgBqRsqL+JhjeOEAAAAbAZ6ldEf/AAAjrDj+9JE5he+Fyd+91y6Tn3jhAAAADgGep2pH/wAAAwAAAwGpAAAAW0GarEmoQWyZTAhP//3xAAADAF+WDi8/ruEPR3v+LlTLwZlhgKSBBrLDUJxAKm7atwG/q6ttFCbBHG5rhLltE+XMB4QhU6Ca17tOG850B8zubcBxSyjOAqMD8I4AAAAqQZ7KRRUsI/8AAAMDOXa2jTBqo73dcy+LUYABrQ3Q6Vb3e8EhGHkzb02zAAAAHQGe6XRH/wAABR/Qwc62jcNX2BJy/xw4n3+HBt9mAAAAGwGe62pH/wAAAwHmf9VsayzrDDbHcCzWT7aSYAAAAEBBmvBJqEFsmUwIT//98QAAAwKfAsUTFzXVf42Ji0J6j19BPBk1wDBAIvMYkBADDjzIf9bmdSN2vO8ekVbYNQnBAAAAJ0GfDkUVLCP/AAAWtVd+pnXmqF7qZYr5AAAiIArzAieAFkx0FZPxgQAAABgBny10R/8AACOsOQWuTx8/TSEXfmCamfEAAAAeAZ8vakf/AAADAeZ/1WxtVtbFFlIjZEL0IP+u2fZgAAAAO0GbNEmoQWyZTAhX//44QAABDU8mcInoylo/2UB+NtVgACk4e+tMKy1X6H0PpxlxPfw2s3T9kpvRS6coAAAALUGfUkUVLCP/AAAWvE5sp78uNbcnsFdgA2jxzQPYspbyBQhqfy6fCw9uiP5+2QAAABsBn3F0R/8AAAUf0MHPGwn4pzMh98nf/J8LNwIAAAAWAZ9zakf/AAAjvxrOe6vIg1AQqOwwYAAAAEZBm3dJqEFsmUwIT//98QAAAwBfe6n3qAzCMpjIzMBtuNZda5jRgikgWxteRpYrh0pJUcs1rmddcXSeJ2rx0sFAT013zBwJAAAAHUGflUUVLCP/AAADAHQiMf3Dq0AXueamqn/34INmAAAAGQGftmpH/wAAAwC6J8wcXnfhg6TfRcZlL+kAAACGQZu7SahBbJlMCE///fEAAAMA+EuhdADn3Y0bbFPvqEZAuqhwj31AaekTxwnDp8xJmDjcmHxFEBtE9bW5/U6Sd4cuZEGZDHXFOojROt50+ttbLVPqqSBxlPWFV74lq3kx7KwZKSYXK9Jqv51AuQLsuDyc9FsBFsc39fDmQUZWjOK2+XYtQr8AAAA8QZ/ZRRUsI/8AAAMDNt8P2ADi2mmRgypYh2nhGcFznSaBugHkntLGaRV+thk6eASO6yceJUVmO0dVT2pAAAAAHAGf+HRH/wAADX4S8etGSv0OUtkqPEMTlhbfe4EAAAAYAZ/6akf/AAAFHy5k/zSDyD+DviVj3Km4AAAAZUGb/0moQWyZTAhH//3hAAAEE3OS8CH9QHU2Z67U7K7td50cMu1uBChU1JG1FceHxMfjJqDPdDq106wwCEW3dokqZRh8V0lWxfixWVLDomov9Ynlb2vHgt2mlsEWV1EZxWLy0+BBAAAAJ0GeHUUVLCP/AAAWtVhV5X+rRKjMMT+93T7T6xY1KkHZ4dpN6wBwQQAAAB4Bnjx0R/8AACPDPg4nQuVJvyvaEpKPwvE2hi5oo9wAAAAaAZ4+akf/AAAFHUCV6ok8CCVYbgkn30tpyLAAAACDQZojSahBbJlMCFf//jhAAABm4MnNZ9FnlWK4FKqAYxTkM1mOvoXZYUjj/vS7CP0n34qXiCRXCFxYvFuPzuDySVCWK4/DeQ16uR4i0CGpmwzQOFPOObh4KoscCw5vvnqIX7iQKKEb+S9Fwjcm92TWBU2KODIjae/f9h/rUl6Juk8fomkAAAAkQZ5BRRUsI/8AAAhsChy+90EfiNeOhhGhIlYxkskPxXvcmTvcAAAAGQGeYHRH/wAABUPCowHwXXHqr/B6HCKcRN0AAAAYAZ5iakf/AAADAEWE0IjNBTnuzM+Q+Y9SAAAAIUGaZ0moQWyZTAhP//3xAAADAF8zP5iaSt9i00wUq2JBwQAAABRBnoVFFSwj/wAAAwMlu/VMCxgXkQAAAA4BnqR0R/8AAAMAAAMBqQAAACIBnqZqR/8AAAMACoFWEFk43rl1YgKdgAJ0Mn9FJEplIdODAAAAWEGaq0moQWyZTAhX//44QAAAZ0YSNTz/Ue+8yxaDnbe7YIiXmqSkA1x3/bI7Qjqe8AONtMZl5MZXoyJpjm3ybGn+UPRoaX/vvCe/nQbdVS5PM1Gmkux527gAAAAgQZ7JRRUsI/8AAAhsDLTJ6LXNg8aVS20Ww1BGxxLwWpAAAAAcAZ7odEf/AAANfhXCdASVkVj2Xz1v0wYRLMozgwAAAA4BnupqR/8AAAMAAAMBqQAAAE1Bmu9JqEFsmUwIT//98QAAAwAAw5lOVptvhl8SfhizH8gDO2oxhQRgXAvwI3KMtaC/0YIL79vozkNC3pradVlc3UQHfo1DtfCvpogkegAAABtBnw1FFSwj/wAAAwMlu/J8YG7P/nEdSSWMdqUAAAAOAZ8sdEf/AAADAAADAakAAAArAZ8uakf/AAAFGInvs74bSrF0/RqwZc39YPpgF9zmtdGLn41seiFIIx9tSQAAAGVBmzNJqEFsmUwIT//98QAAAwBfyoh8BoMJ6erJzwTpTVGEy1ACf2tMgP8TNRUpkQJXW7NsZvgzJdAIAZNCpQfENteWz5iydaKmyCAIFEtNggITG0rCRE6Jt1cY5V5K0C0Lk100XAAAABtBn1FFFSwj/wAAAwM4UIEHaT6mOMoZXIXRUqoAAAAYAZ9wdEf/AAAFHFzhOgJGJKFCDXIcWS8hAAAADgGfcmpH/wAAAwAAAwGpAAAATUGbd0moQWyZTAhP//3xAAADAp8FNJkbFQAGrVxqEeznb2Et9ypAeT6XNTVyctFF01qKpq6fno+AVmsmZ/0FMVtMFX6UjSY6o/rWgAEOAAAALUGflUUVLCP/AAAWtVhV2M9KWrGwANO+6UJp3l88qQUaGPTRUr/Oha3FmlBtSQAAABgBn7R0R/8AACOsOQWuTx9+G2Ab6jq7H3AAAAAfAZ+2akf/AAAFHTT149n51yJ2WrNZAjobcNw7oKHvcQAAAEdBm7tJqEFsmUwIT//98QAAAwKf7fmFDXiFwUAKuq5yoEdLVzxpFULJcWdToey7xcYzm02IIaq1hbbIgcEqM/MjouiX5rcWpQAAABpBn9lFFSwj/wAAFrVYVYl2dYeDhTh1vrj7gAAAABwBn/h0R/8AACPDPg5zzgTsd7/nqSoZOf4lpsfdAAAAEAGf+mpH/wAAAwHxf+KAZUAAAACgQZv/SahBbJlMCEf//eEAAAQTeHKyxdkQAWA/JAosq1FWE8GfVKcYWSLCDYzmOgo9YD2LwXTccoJbS6XjOVvSrZazRZ5O5kmy/Kdek2JiK1sf2TRR/A/ZvoIE37k9aFeIioJrBEgDBUNlICVmh/+0CksA742Lemk8I2gCyJkMy21sGnj5zThWO23eWTuge9rtc8Da9q+pR4gV1h4Ur6S1IQAAAB9Bnh1FFSwj/wAAFrxObMLp5GBI3J0pwT4odOBJMCLBAAAAEAGePHRH/wAAAwHwij2Ae0AAAAAjAZ4+akf/AAAjsi05FA0f6Qps94LLjsrM26He2SUQ1q00psAAAABHQZojSahBbJlMCEf//eEAAAQUufSAGirTh2bO8AHbgHzrWCS1LncW6NVX7gWSf0UTNEP8yPNm3pOV3HY717aBBktSuN40OfEAAAAdQZ5BRRUsI/8AABa1WFWLydQTF6vgpSxMPqEAIeAAAAAhAZ5gdEf/AAAjwz6WpN3VkvQsNIHXCLFF14XAKl7hkHVVAAAAEgGeYmpH/wAAAwHxf+jyFeBJwAAAAIRBmmdJqEFsmUwIR//94QAABBNdwJv/7V/ZKquEnTw/sf6vgBSDLRk1DZSULZc2KoAcdYF+41wic+U6NMliigkhsAPCscjqMmOVJIFQJzk4zIYb78nkS8BoJ6VH8FsSDq14B+pvQEPJukypvVrKg3hDHqBN5edOdcQXXgjAGSn6LwTei4UAAAA5QZ6FRRUsI/8AABazK7UGAYHVknFrRinIoRquR6qfOPl8Cii5Ic2bq7K5gokFu8MoGcyicoruuBixAAAAGQGepHRH/wAAI6v4W3gSnfCuX+BEqMGc6YEAAAAeAZ6makf/AAAjscwJb6lvsiSUIbBPE74nClVAudCZAAAAkUGaq0moQWyZTAhP//3xAAADAp7psm+AoBXF1Hjg6zVD5K4qyPfVnCrTJ3aj/qyanpP+WR2hqIiO+fNhjSh1xHvCbVmerMgOa12Scq1PpMLu8hfovBHZuKynL5LjrEC/0b1qcFQl2zfgtKejTknvzhyC6yvpTFiKJPxN/5iqE2KX3DKgq3eBcsU4jSFDRU1j4OAAAAAsQZ7JRRUsI/8AABZvmBIlKb/S3r6krFvVNgaJen72N0WaLEAAuG7ceO+wo+AAAAAaAZ7odEf/AAAjq/hbeBKdaCOIJcejkDWcONEAAAAoAZ7qakf/AAAjvZYCigCFqCDb58QnJeNAj4GKmNk9KO7B8mr4x4HQQAAAAGhBmu9JqEFsmUwIR//94QAABBNdwJv0hwqaj6pYBzkTZH3peuBVWXaNdHm0qzQ8YdGAGHEvVYczaPqK70PboOkoGWaSlfBEvrEcsjh1XVdi8MxKZnq8u8U9WNmqqfCZZxCzpCwcw6W92gAAAChBnw1FFSwj/wAAFrMrtQW5HC/l0NexlUhc2ai/8vql94oLHY8V/WzBAAAAGgGfLHRH/wAAI8MXaKmlU9T6ZL8mUJ1pGDBhAAAAOAGfLmpH/wAAI7HMCW+8/26Zh+6jhTdzGm8x8XvPFdiwEhRK6gvNAtyp4ATVy7evdLbkP6NymsWBAAAAf0GbM0moQWyZTAhH//3hAAAEE0Cmw13+rbaikApUS00a+VRpy2UIZgKC8COKAhLhejqvEdMwr1L46fyEb//B1rVTihuxLoDYgZ5MfFPxSJHI1xQbqyg4LXeYn64wKxymjk978nXJRWdrb7/ZVUAXgWwAkxyz7CQT/FnZ5p7XKIAAAAAsQZ9RRRUsI/8AABaynt428yrqT7vi1KVnWVaLqv8I32nQgbwQSsQIMiMQDZgAAAAlAZ9wdEf/AAAjq/hbeBPA94VMe/qyYyCrEX5sdK7SlCL0WsryYQAAACoBn3JqR/8AACOuMS/S6rJJZpl7SaCNM/yCmRdKXXewDsK6AdTys87COSAAAABsQZt3SahBbJlMCE///fEAAAMCo8n1lvkI+Qb5ssnqCTur8Q2F19/benUnF79hNvRAuBRiVML3+aD3xIbPZfz2L+aGy6gBlY85XdzjcyayHCdnmPCeojkUz9uvuCkCGQK3BrxS1E5jjJFvhFhgAAAAKkGflUUVLCP/AAAWtSX9RKqXppndjtRdxpKwciZU/9wdayLOU0ny1G/EqQAAACUBn7R0R/8AACPAyStj9pNtMH46wpHhpjD+qI0BXRTojHVmScgIAAAAIgGftmpH/wAAIr2Wndt5nqIsfzcMRDO7k7yY3WxDemevbMEAAACWQZu7SahBbJlMCE///fEAAAMCj5ZdR0uxM+IkSjTJFUyLf6tnnjlSVUDpRzM1gAFbMTc5LfqR1OM/NvN/NaUBGv4wydZVhhJcPditv8oORBWOwLfmsgd7W/6iTmH/lNM8KgtRGHOgVUP4Y+mpAwCd2LAzVC5IBT9rFLAwlq+kXmy9F0CEhedRNWigCQpTyiZkGUhuuhhtAAAAQEGf2UUVLCP/AAAWMDeqwCJjce5ADYioFmURqR1SHXTtXBTbuIHxaxTQaQP+AlyV13YNAVvYYSZuItj7RafX7MAAAAAnAZ/4dEf/AAAiqc/uuYg7yHTBBGCA1dnUt9OTGGX9udOxTsbsi42ZAAAALwGf+mpH/wAAIr2VrbtPmJTUktMP/40GACBhhV/jylGSgAkkfUeW+hgehFfrmp4MAAAAiEGb/0moQWyZTAhH//3hAAADA/VAt9HRjLqgKAqlhFvojku0j6vZ8kyP3SKdbNkrH7SH+t5QkK3FMiCuydq2Lv+6YHxbheui7IPfUIC0moTAiB62L+9BmYqBq3OFpINd/XF920VkA3OIqaq7rHnJd7cFUW0pxyvD1sqmZg7HatS3ijLGnFa6w9sAAAA/QZ4dRRUsI/8AABYh/ZELYdwcgBbzTebymCdWnhgXtPoBYTZGp2dTQUbGyeAUzvjYKpXMPLTpJDfTp/+PFtuBAAAALwGePHRH/wAAIsC41R9dJOd90oob44Zv9kqu40ft1CiL2TUTpESN7iw9Vw3ABkmAAAAALgGePmpH/wAAIq4xL9F5Q7RBQazp2HkWPYfrNcOttBIJULTwACv0VYpypNR45IAAAACAQZojSahBbJlMCE///fEAAAMCkcn2La5DeW3p3XHjsyN+lzPPCtc9Z6kc/uBq4ABrW4T1rI0pr+l8IDL1fo1ZHnQvpoJ77fypRqez+kLPq8QA+N8q5hhADRVyBBtHzL61ATJKwM2zN+9MC1+yCpb0VbYmdkUf7bZvsD2VaRntN1EAAABIQZ5BRRUsI/8AABXjkvtBMwANVIX6U0iaLAqd7TbNMbkdKiysAwAMh6ASLx6AdFJDuEVb2piE1/cyiJkyLva2P/0jBo21iKtmAAAAMAGeYHRH/wAAIqnPVM7UwmoZy/xApwPW3zuiP40aXeID5jEvBYyAANQCTkSbxJ87cQAAAD8BnmJqR/8AACKxvmKYumaerp6cr30m7rYXWXPiAcWmjkZo3A7i95SCeRPqBSFTZ9IQ/0AAB7170rfzZibXFJMAAAB0QZpnSahBbJlMCE///fEAAAMCevILxCtkwBzMSAAs1CH4fvUvDhSxV/kJk8023vKwJfsxlYgj05gz8Y9GaLgMs/pgevbiV7tzDkaEvXhgDT6zyEI169XAFAElydXNRFYAFH/2JY7dEnSvWQW6xwBwH4/jgtEAAABGQZ6FRRUsI/8AABWSLvELTTTXl9UABlCBA+PlBxOJDT9LQ3UX2CYql/MTqV3c5e42q8R5rjk4q2yYA5Jg9e0oGV8kso35QQAAAEABnqR0R/8AACG//m6cpcyKdzKjeefidlhmgJ4rKPkJ0Lpbe9xpADbJ6R9Dzv4rr0Z1q2iZhgAeaU6IITEzM/5hAAAANgGepmpH/wAAIa1F5nDfO78IyqjDB2ZwNe+8HHcwawIYXveIIY4+9v3XgBMr2LauVyjz3fRUNwAAAF5BmqtJqEFsmUwI//yEAAAPP6IsCKDzMPK6awC/5vn4oMQZtilZYzEKs2fK5svkLfQy2AC6iXA9CNkwWfc2qPcS4iXg+PAw5d1OhL7/iW7mg0RFPe99uaHj+NuHP73JAAAAQEGeyUUVLCP/AAAVnmaAvLdfbV3rt/Jmsx1uGCjlh9JVJ8VdZMA4uCfFB2hEeP8JlGPJy1I8Fv8pnLgJ+WFQk2AAAAA0AZ7odEf/AAAhqUA+9SVZBT9nZ+8yEu8VvEsaFsOe99vci6In8GqYW+r/N9le6IPgZEGPBQAAAD8BnupqR/8AACGx5gql/lGSiVk7jJlFCA9rFCr64u4kaurV2hHHSADWxmsrf+l81mHDNbmyFjb+Ck8bJYhz2bAAAAgybW9vdgAAAGxtdmhkAAAAAAAAAAAAAAAAAAAD6AAACHAAAQAAAQAAAAAAAAAAAAAAAAEAAAAAAAAAAAAAAAAAAAABAAAAAAAAAAAAAAAAAABAAAAAAAAAAAAAAAAAAAAAAAAAAAAAAAAAAAAAAAAAAgAAB110cmFrAAAAXHRraGQAAAADAAAAAAAAAAAAAAABAAAAAAAACHAAAAAAAAAAAAAAAAAAAAAAAAEAAAAAAAAAAAAAAAAAAAABAAAAAAAAAAAAAAAAAABAAAAAAlgAAAGQAAAAAAAkZWR0cwAAABxlbHN0AAAAAAAAAAEAAAhwAAACAAABAAAAAAbVbWRpYQAAACBtZGhkAAAAAAAAAAAAAAAAAAAyAAAAbABVxAAAAAAALWhkbHIAAAAAAAAAAHZpZGUAAAAAAAAAAAAAAABWaWRlb0hhbmRsZXIAAAAGgG1pbmYAAAAUdm1oZAAAAAEAAAAAAAAAAAAAACRkaW5mAAAAHGRyZWYAAAAAAAAAAQAAAAx1cmwgAAAAAQAABkBzdGJsAAAAsHN0c2QAAAAAAAAAAQAAAKBhdmMxAAAAAAAAAAEAAAAAAAAAAAAAAAAAAAAAAlgBkABIAAAASAAAAAAAAAABFUxhdmM2MS4xOS4xMDAgbGlieDI2NAAAAAAAAAAAAAAAGP//AAAANmF2Y0MBZAAf/+EAGWdkAB+s2UCYM+XhAAADAAEAAAMAZA8YMZYBAAZo6+PLIsD9+PgAAAAAFGJ0cnQAAAAAAABoXgAAaF4AAAAYc3R0cwAAAAAAAAABAAAAbAAAAQAAAAAUc3RzcwAAAAAAAAABAAAAAQAAA2hjdHRzAAAAAAAAAGsAAAABAAACAAAAAAEAAAUAAAAAAQAAAgAAAAABAAAAAAAAAAEAAAEAAAAAAQAABQAAAAABAAACAAAAAAEAAAAAAAAAAQAAAQAAAAABAAAFAAAAAAEAAAIAAAAAAQAAAAAAAAABAAABAAAAAAEAAAUAAAAAAQAAAgAAAAABAAAAAAAAAAEAAAEAAAAAAQAABQAAAAABAAACAAAAAAEAAAAAAAAAAQAAAQAAAAABAAAEAAAAAAIAAAEAAAAAAQAABQAAAAABAAACAAAAAAEAAAAAAAAAAQAAAQAAAAABAAAFAAAAAAEAAAIAAAAAAQAAAAAAAAABAAABAAAAAAEAAAUAAAAAAQAAAgAAAAABAAAAAAAAAAEAAAEAAAAAAQAABQAAAAABAAACAAAAAAEAAAAAAAAAAQAAAQAAAAABAAAFAAAAAAEAAAIAAAAAAQAAAAAAAAABAAABAAAAAAEAAAUAAAAAAQAAAgAAAAABAAAAAAAAAAEAAAEAAAAAAQAABQAAAAABAAACAAAAAAEAAAAAAAAAAQAAAQAAAAABAAAFAAAAAAEAAAIAAAAAAQAAAAAAAAABAAABAAAAAAEAAAUAAAAAAQAAAgAAAAABAAAAAAAAAAEAAAEAAAAAAQAABQAAAAABAAACAAAAAAEAAAAAAAAAAQAAAQAAAAABAAAFAAAAAAEAAAIAAAAAAQAAAAAAAAABAAABAAAAAAEAAAUAAAAAAQAAAgAAAAABAAAAAAAAAAEAAAEAAAAAAQAABQAAAAABAAACAAAAAAEAAAAAAAAAAQAAAQAAAAABAAAFAAAAAAEAAAIAAAAAAQAAAAAAAAABAAABAAAAAAEAAAUAAAAAAQAAAgAAAAABAAAAAAAAAAEAAAEAAAAAAQAABQAAAAABAAACAAAAAAEAAAAAAAAAAQAAAQAAAAABAAAFAAAAAAEAAAIAAAAAAQAAAAAAAAABAAABAAAAAAEAAAUAAAAAAQAAAgAAAAABAAAAAAAAAAEAAAEAAAAAAQAABQAAAAABAAACAAAAAAEAAAAAAAAAAQAAAQAAAAABAAAFAAAAAAEAAAIAAAAAAQAAAAAAAAABAAABAAAAAAEAAAUAAAAAAQAAAgAAAAABAAAAAAAAAAEAAAEAAAAAHHN0c2MAAAAAAAAAAQAAAAEAAABsAAAAAQAAAcRzdHN6AAAAAAAAAAAAAABsAAAEggAAAG4AAAAkAAAAMwAAABQAAABnAAAAJQAAAB8AAAASAAAAXwAAAC4AAAAhAAAAHwAAAEQAAAArAAAAHAAAACIAAAA/AAAAMQAAAB8AAAAaAAAASgAAACEAAAAdAAAAigAAAEAAAAAgAAAAHAAAAGkAAAArAAAAIgAAAB4AAACHAAAAKAAAAB0AAAAcAAAAJQAAABgAAAASAAAAJgAAAFwAAAAkAAAAIAAAABIAAABRAAAAHwAAABIAAAAvAAAAaQAAAB8AAAAcAAAAEgAAAFEAAAAxAAAAHAAAACMAAABLAAAAHgAAACAAAAAUAAAApAAAACMAAAAUAAAAJwAAAEsAAAAhAAAAJQAAABYAAACIAAAAPQAAAB0AAAAiAAAAlQAAADAAAAAeAAAALAAAAGwAAAAsAAAAHgAAADwAAACDAAAAMAAAACkAAAAuAAAAcAAAAC4AAAApAAAAJgAAAJoAAABEAAAAKwAAADMAAACMAAAAQwAAADMAAAAyAAAAhAAAAEwAAAA0AAAAQwAAAHgAAABKAAAARAAAADoAAABiAAAARAAAADgAAABDAAAAFHN0Y28AAAAAAAAAAQAAADAAAABhdWR0YQAAAFltZXRhAAAAAAAAACFoZGxyAAAAAAAAAABtZGlyYXBwbAAAAAAAAAAAAAAAACxpbHN0AAAAJKl0b28AAAAcZGF0YQAAAAEAAAAATGF2ZjYxLjcuMTAw\" type=\"video/mp4\">\n",
       " Your browser does not support the video tag.\n",
       " </video>"
      ],
      "text/plain": [
       "<IPython.core.display.Video object>"
      ]
     },
     "metadata": {},
     "output_type": "display_data"
    }
   ],
   "source": [
    "if not skip_training:\n",
    "    video = Video(Path().cwd()/'results'/'CartPole-v1'/'video'/'test'/'ex4_rbf-episode-0.mp4',\n",
    "    embed=True, html_attributes=\"loop autoplay\") # Set html_attributes=\"controls\" for video control\n",
    "    display(video)"
   ]
  },
  {
   "cell_type": "markdown",
   "id": "571f48c8-9ab6-43fb-bce0-19719ce2c9e2",
   "metadata": {
    "tags": []
   },
   "source": [
    "<a id='T1'></a>\n",
    "<div class=\" alert alert-warning\">\n",
    "    <h4><b>Student Task 1.(b)</b> RBF approximation </h4> \n",
    "\n",
    "Now, let's test Q-learning with RBF approximation. In this task, we will do a feature transform using the Radial Basis Function. An input state will be transformed to as many features as samples $N$ are specified in the ```RBFSampler``` $\\phi : \\mathbb{R}^d \\mapsto \\mathbb{R}^N $. Then we will feed this $\\mathbb{R}^N $ feature into a linear model to predict corresponding Q-values.\n",
    "\n",
    "For this Task:\n",
    "    \n",
    "1. You need to modify functions ```featurize```, to **convert the state $s$ to a higher dimensional feature using** ```RBFSampler```.\n",
    "\n",
    "2. Run the cell of ```class RBFAgent``` to update the class function\n",
    "\n",
    "3. <span style=\"color:red\"> **IMPORTANT: Directly come to this cell after the modifications, DO NOT RUN the handcraft feature cells again!!!** </span>\n",
    "\n",
    "4. Run the cells below to check the performances of Q-learning with RBF approximation.\n",
    "    \n",
    "After the modifying, test the implementation on the Cartpole environment by running the ```train(agent)``` script with default configs. You can test the trained model with the ```test(agent, cfg_args=dict(save_video=true))``` script. \n",
    "</div>"
   ]
  },
  {
   "cell_type": "code",
   "execution_count": 7,
   "id": "ab43c155-a9a9-4d7c-8829-0b472d25314e",
   "metadata": {
    "tags": []
   },
   "outputs": [],
   "source": [
    "# After modifying the function 'featurize', \n",
    "# 1. run the cell of class RBFAgent(object) to update the class\n",
    "# 2. After update the class, directly run this cell (Skip the cells above of training hadncraft feature) \n",
    "# 2. now let's rerun the agent\n",
    "\n",
    "with open(Path().cwd()/'cfg'/'cartpole_rbf.yaml', 'r') as f:\n",
    "    cfg = t.Struct(**yaml.safe_load(f))        \n",
    "agent = RBFAgent(n_actions=cfg.n_actions, gamma=cfg.gamma, batch_size=cfg.batch_size)"
   ]
  },
  {
   "cell_type": "code",
   "execution_count": 8,
   "id": "793f3d51-0bc1-469e-a889-86f217668c02",
   "metadata": {
    "tags": []
   },
   "outputs": [
    {
     "name": "stdout",
     "output_type": "stream",
     "text": [
      "Numpy/Torch/Random Seed:  436\n",
      "{'ep_reward': 10.0, 'episode': 0, 'epsilon': 1.0, 'ep_avr': np.float64(0.0025452999980188906), 'ts_avr': np.float64(0.0002216099965153262)}\n",
      "{'ep_reward': 140.0, 'episode': 100, 'epsilon': 0.3333333333333333, 'ep_avr': np.float64(0.24212187199969776), 'ts_avr': np.float64(0.0022964207875146706)}\n",
      "{'ep_reward': 200.0, 'episode': 200, 'epsilon': 0.2, 'ep_avr': np.float64(0.35265656799892897), 'ts_avr': np.float64(0.0023397517319551134)}\n",
      "{'ep_reward': 200.0, 'episode': 300, 'epsilon': 0.14285714285714285, 'ep_avr': np.float64(0.5234279000005335), 'ts_avr': np.float64(0.002667277939638343)}\n",
      "{'ep_reward': 200.0, 'episode': 400, 'epsilon': 0.1111111111111111, 'ep_avr': np.float64(0.5498563089992967), 'ts_avr': np.float64(0.00283298275094662)}\n",
      "{'ep_reward': 200.0, 'episode': 500, 'epsilon': 0.09090909090909091, 'ep_avr': np.float64(0.5573764909995953), 'ts_avr': np.float64(0.002819977211512612)}\n",
      "{'ep_reward': 200.0, 'episode': 600, 'epsilon': 0.07692307692307693, 'ep_avr': np.float64(0.6333197859989014), 'ts_avr': np.float64(0.0031754523346353464)}\n",
      "{'ep_reward': 200.0, 'episode': 700, 'epsilon': 0.06666666666666667, 'ep_avr': np.float64(0.765572797000641), 'ts_avr': np.float64(0.003826875719956297)}\n",
      "{'ep_reward': 200.0, 'episode': 800, 'epsilon': 0.058823529411764705, 'ep_avr': np.float64(0.7106465710003976), 'ts_avr': np.float64(0.0036106654113308052)}\n",
      "{'ep_reward': 200.0, 'episode': 900, 'epsilon': 0.05263157894736842, 'ep_avr': np.float64(0.8142561170001863), 'ts_avr': np.float64(0.004070207080020919)}\n",
      "{'ep_reward': 200.0, 'episode': 1000, 'epsilon': 0.05, 'ep_avr': np.float64(0.6309527779996279), 'ts_avr': np.float64(0.003153907710069325)}\n",
      "{'ep_reward': 200.0, 'episode': 1100, 'epsilon': 0.05, 'ep_avr': np.float64(0.5896583579992876), 'ts_avr': np.float64(0.0029475123200303644)}\n",
      "{'ep_reward': 200.0, 'episode': 1200, 'epsilon': 0.05, 'ep_avr': np.float64(0.5879751730014686), 'ts_avr': np.float64(0.002939120025024749)}\n",
      "{'ep_reward': 200.0, 'episode': 1300, 'epsilon': 0.05, 'ep_avr': np.float64(0.5922676770013641), 'ts_avr': np.float64(0.002960578294968582)}\n",
      "{'ep_reward': 200.0, 'episode': 1400, 'epsilon': 0.05, 'ep_avr': np.float64(0.7491854479990434), 'ts_avr': np.float64(0.00374504244501295)}\n",
      "{'ep_reward': 200.0, 'episode': 1500, 'epsilon': 0.05, 'ep_avr': np.float64(0.6267916469983175), 'ts_avr': np.float64(0.003133185574995878)}\n",
      "{'ep_reward': 200.0, 'episode': 1600, 'epsilon': 0.05, 'ep_avr': np.float64(0.8117992779993801), 'ts_avr': np.float64(0.004057999775159988)}\n",
      "{'ep_reward': 200.0, 'episode': 1700, 'epsilon': 0.05, 'ep_avr': np.float64(0.8584660249997978), 'ts_avr': np.float64(0.004291219589945104)}\n",
      "{'ep_reward': 200.0, 'episode': 1800, 'epsilon': 0.05, 'ep_avr': np.float64(0.5790729729965096), 'ts_avr': np.float64(0.0028946249800064832)}\n",
      "{'ep_reward': 200.0, 'episode': 1900, 'epsilon': 0.05, 'ep_avr': np.float64(0.5749872509983834), 'ts_avr': np.float64(0.002874180715053808)}\n",
      "------ Training Finished ------\n"
     ]
    }
   ],
   "source": [
    "# Takes more time to train :)\n",
    "if not skip_training:\n",
    "    t.train(agent, cfg_path=Path().cwd()/'cfg'/'cartpole_rbf.yaml', cfg_args={}) # >= 60 mins"
   ]
  },
  {
   "cell_type": "markdown",
   "id": "8b602bfa",
   "metadata": {},
   "source": [
    "In order to get full points from the task make sure most of the test episodes give a reward of 200, given the seeds below (at least 50% of episodes)."
   ]
  },
  {
   "cell_type": "code",
   "execution_count": 9,
   "id": "88396eef-a80e-41dd-bdc7-c5cb67a2e75f",
   "metadata": {
    "tags": []
   },
   "outputs": [
    {
     "name": "stdout",
     "output_type": "stream",
     "text": [
      "Numpy/Torch/Random Seed:  436\n",
      "{'episode': 0, 'ep_reward': 200.0}\n",
      "{'episode': 1, 'ep_reward': 200.0}\n",
      "{'episode': 2, 'ep_reward': 200.0}\n",
      "{'episode': 3, 'ep_reward': 200.0}\n",
      "{'episode': 4, 'ep_reward': 200.0}\n",
      "{'episode': 5, 'ep_reward': 200.0}\n",
      "{'episode': 6, 'ep_reward': 200.0}\n",
      "{'episode': 7, 'ep_reward': 200.0}\n",
      "{'episode': 8, 'ep_reward': 200.0}\n",
      "{'episode': 9, 'ep_reward': 200.0}\n"
     ]
    }
   ],
   "source": [
    "if not skip_training:\n",
    "    t.test(agent, cfg_path=Path().cwd()/'cfg'/'cartpole_rbf.yaml', cfg_args=dict(save_video=True), seeds=[67, 23, 89, 12, 45, 78, 34, 90, 21, 56]) "
   ]
  },
  {
   "cell_type": "code",
   "execution_count": 10,
   "id": "4b5fd3b7-ee1d-46c7-830f-54b295ececa3",
   "metadata": {
    "tags": []
   },
   "outputs": [
    {
     "name": "stdout",
     "output_type": "stream",
     "text": [
      "Numpy/Torch/Random Seed:  436\n"
     ]
    },
    {
     "data": {
      "image/png": "[encoded data removed]",
      "text/plain": [
       "<Figure size 640x480 with 1 Axes>"
      ]
     },
     "metadata": {},
     "output_type": "display_data"
    }
   ],
   "source": [
    "if not skip_training:\n",
    "    t.plot(save_name='cartpole_rbf.png', cfg_path=Path().cwd()/'cfg'/'cartpole_rbf.yaml', cfg_args={}) # < 5 mins"
   ]
  },
  {
   "cell_type": "markdown",
   "id": "445eb823-f602-442f-b4b3-ed6806c18ffe",
   "metadata": {
    "tags": []
   },
   "source": [
    "The agent acting in the environment can be seen using the following command. Change the path to pick the episode you want to visualize. Bear in mind by default video saving for training is taken every 500 episodes"
   ]
  },
  {
   "cell_type": "code",
   "execution_count": 11,
   "id": "cd524780-6930-4de3-ae4b-9157e89760d7",
   "metadata": {
    "tags": []
   },
   "outputs": [
    {
     "data": {
      "text/html": [
       "<video loop autoplay  >\n",
       " <source src=\"data:video/mp4;base64,AAAAIGZ0eXBpc29tAAACAGlzb21pc28yYXZjMW1wNDEAAAAIZnJlZQAAIGptZGF0AAACrwYF//+r3EXpvebZSLeWLNgg2SPu73gyNjQgLSBjb3JlIDE2NCByMzE5MiBjMjRlMDZjIC0gSC4yNjQvTVBFRy00IEFWQyBjb2RlYyAtIENvcHlsZWZ0IDIwMDMtMjAyNCAtIGh0dHA6Ly93d3cudmlkZW9sYW4ub3JnL3gyNjQuaHRtbCAtIG9wdGlvbnM6IGNhYmFjPTEgcmVmPTMgZGVibG9jaz0xOjA6MCBhbmFseXNlPTB4MzoweDExMyBtZT1oZXggc3VibWU9NyBwc3k9MSBwc3lfcmQ9MS4wMDowLjAwIG1peGVkX3JlZj0xIG1lX3JhbmdlPTE2IGNocm9tYV9tZT0xIHRyZWxsaXM9MSA4eDhkY3Q9MSBjcW09MCBkZWFkem9uZT0yMSwxMSBmYXN0X3Bza2lwPTEgY2hyb21hX3FwX29mZnNldD0tMiB0aHJlYWRzPTEyIGxvb2thaGVhZF90aHJlYWRzPTIgc2xpY2VkX3RocmVhZHM9MCBucj0wIGRlY2ltYXRlPTEgaW50ZXJsYWNlZD0wIGJsdXJheV9jb21wYXQ9MCBjb25zdHJhaW5lZF9pbnRyYT0wIGJmcmFtZXM9MyBiX3B5cmFtaWQ9MiBiX2FkYXB0PTEgYl9iaWFzPTAgZGlyZWN0PTEgd2VpZ2h0Yj0xIG9wZW5fZ29wPTAgd2VpZ2h0cD0yIGtleWludD0yNTAga2V5aW50X21pbj0yNSBzY2VuZWN1dD00MCBpbnRyYV9yZWZyZXNoPTAgcmNfbG9va2FoZWFkPTQwIHJjPWNyZiBtYnRyZWU9MSBjcmY9MjMuMCBxY29tcD0wLjYwIHFwbWluPTAgcXBtYXg9NjkgcXBzdGVwPTQgaXBfcmF0aW89MS40MCBhcT0xOjEuMDAAgAAAAeNliIQAJ//+9bF8CmrJ84oM6DIu4Zckya62IuJtAMAAJShQAAADABLJlCWzIByZd0AAABMgA4ofQZQeYiYqxUCV4g4JjdGAVR1y3YAA8tPQA9noLuPLGQEGci4ZzLBt/g83/R86noEDQRS/DZo4dn7RxniT1kDaBILEm3RgjQLYOlsO7xRDQF3apznwAj59vnOMHmAYAfD3zfXaZT7juBVlxhRRBUWuIUJthkAAzrWxfniPL74svfYJyRFo5J4lH1cwmU+uE3fKsABIY6wv2a1F0baNgGj1PGLING3C/JE8SbcutoYFaUL8TG/wrk8WicuNAewPuWom/xaCywZIJmScIp1V5FD3JV2KajsrGX30ADgA1UfubggtMueJdpsjc7xXSBxnrwvOP6tZJsr8uXFzMxfUtq+LyhAg2bIT5zSGUSO5UbYK+t2cuEKa6pgF6LO59EESyVBuisr6fjjKJ0S/IjZKR3cCDxCQJO8jN6nZ5wfgMWb6aRYdxWNU/aSkdE9cwUbyMmmdDf6wslWFYSsy8BCVjnZfNhYB7hl9RvrcEwIAAIwCELnjMqIxEoaJ03IQni4MvoF+khw3y76Tx8h8cfoT5847OBDDaoHlRANIAJ4VT18AAAMAAAMAAAMAAAMABd0AAAA8QZokbEK//jhAAAENzMhA00mpxzXeuhR0pa3tKgDxFFUUFKkgIBVUMlKrQkDDDQcKElOJl3M7aITmsKSAAAAAIEGeQniEfwAAFr5LsEJz9mazy1Cg4QAq/g0BSbmSSy9fAAAAHAGeYXRH/wAAI7iv3FV7qqyakLsTpMGE7PPyyf4AAAAZAZ5jakf/AAAjscwJb6lvshWW2axR5j//wQAAABdBmmhJqEFomUwIT//98QAAAwAAAwAekQAAADdBnoZFESwj/wAAAwM2aGtS4V4f1tqABqxU0QO9A+ftin/lcpcq2bOcQ5u6zG7LTEctZoNbbdkxAAAAHQGepXRH/wAABR/Qwc79ZvfCLyjEFH3l7MsEXNkxAAAAGgGep2pH/wAABR801bGssCqAmJxAt4MxyggIAAAASEGarEmoQWyZTAhf//6MsAAARgLQ+ZzWOkr/6fRH6XkAGy5eJftuTZnwOeLGO+jBtsb5ezQdYKZP7l2FON352SQ/ZJKVrzgrBgAAAB5BnspFFSwj/wAAFrVYVYrOP9ihDlqGEQXCwSDMs+EAAAAjAZ7pdEf/AAAjrDkFbbUj+Q+iXLfO5ndNQFlciPL/4LjE5IAAAAAOAZ7rakf/AAADAAADAakAAABsQZrwSahBbJlMCFf//jhAAAAmr/9AAbNoSvMjEeY+YNM9Hwuie9yDL48loO1WPttWmPW42DxrYM5G2zhCCuzdAaWZXY9QoJa85tb+nt9RHZ8IuEUdj7NPSqz1jnXrTza+3u6lzCrQIgy8BKKBAAAAIEGfDkUVLCP/AAADAzkxzaO3lox7xpnDHQrImoxdWXAhAAAADgGfLXRH/wAAAwAAAwGpAAAAHAGfL2pH/wAABR801d7biOI9Q2nF9dNDDxtXrgQAAAAxQZs0SahBbJlMCE///fEAAAMADd+mmn9VAEEigba5Y0jZcomcWVgpAoT/jh54wsI2YAAAABlBn1JFFSwj/wAAAwB29v/9eFMIM9QdN0r/AAAAEwGfcXRH/wAAAwC+4A1+PYMg4TcAAAAdAZ9zakf/AAAjrjL6/HBz0cgM3dZVEymo5qX4dlwAAABhQZt4SahBbJlMCFf//jhAAAEM+iW5EywAQQTU897YqArdvFvThzJyfYCD6O0DjLYHfqyZbvq0EykAybG/BIBNPduW4o8TIkkMKGrmc31cnDC5ze4nNxz258q8b1BuXux9dwAAAClBn5ZFFSwj/wAAFrVYVEEHfcix2sEDkt1Z3SpQxoJe7YLdeOivSvnQmAAAAB4Bn7V0R/8AACOsOQXlVCiIE48lgvPvSHI/uyFu0bMAAAAeAZ+3akf/AAADAfF+lsnwch36tV4t/KVg4DdQt8wHAAAAKkGbvEmoQWyZTAhP//3xAAADAGJ9N19Xjrq46lzVn6ABK8Ngqhi48sJ1YAAAABhBn9pFFSwj/wAAAwE+VYXGmhUhVwSexF0AAAAWAZ/5dEf/AAADAfCKHrfZL0mwJI0LKAAAABABn/tqR/8AAAMAteahQIuBAAAAS0Gb4EmoQWyZTAhP//3xAAADAp8C8OA078yL3ZSYtG/JC1ad1EUfP+UKt/bMjBx7eoIfpv6HHKQY0k4Blgiq/4nv7GdQAbrYQrD+MQAAACdBnh5FFSwj/wAAFrVSjCFTLYMo5iFowTWx6kCIVbNFFE+emEC83AgAAAAUAZ49dEf/AAAjwz4OeNhONEtGBJwAAAAcAZ4/akf/AAANhJ2rY1lE06i72ZFa1gE/810+zQAAAC9BmiRJqEFsmUwIX//+jLAAABqKsz3UFWL5OOxx0ua0zQBWJwMZ6skJmHAvLiSbMAAAAB9BnkJFFSwj/wAACGwKHkVmrfSSK6UNtsBjzTu9fAelAAAAHgGeYXRH/wAADX4UlYOL8uTDtZTS2EShaZ11kBLGBAAAABABnmNqR/8AAAMAteahQIuBAAAAGkGaaEmoQWyZTAhX//44QAAAAwAdHf8SZM5pAAAAJUGehkUVLCP/AAADAzl8vskHL+RhxKG/EKEbSfIdomGj3ZfO4qUAAAAaAZ6ldEf/AAAFH9DBznnAnZx9L2+lZ/SZ+4EAAAAcAZ6nakf/AAADAeZ/1Ul/Qq6avXy9uw8n7tXAgAAAAChBmqxJqEFsmUwI//yEAAADANzCZSCK7oTNEgO7pGBre888gZ4XfTZgAAAAIEGeykUVLCP/AAADAzm758tYqIA1Uc+zrfxsYj10H9NJAAAAGgGe6XRH/wAABR/Qwc55wJ2cfS9vpWf0mfuBAAAAEAGe62pH/wAAAwC15qFAi4AAAAA1QZrtSahBbJlMCF///oywAABGAtPeAiZOBDYMPvOq5fMSKS+vs2wFI3tsd0ww2bwm5auLHpEAAAAVQZsRSeEKUmUwIV/+OEAAAAMAAAypAAAAEEGfL0U0TCP/AAADAAADAQcAAAAqAZ9OdEf/AAADAeTnmc1hYkAFt1edADzT07/KSl5QvUeu6dMBXO7oDf7YAAAADgGfUGpH/wAAAwAAAwGpAAAATEGbVUmoQWiZTAhP//3xAAADACOv6CZOH0ADZ8brWrA5KyLmHNAQpySBxBCPuueB/Vx7FaPU7iGUafLSOg8hG0rpvAy3dXesJCIm0VEAAAAnQZ9zRREsI/8AAAMBNeTmzC6fVtnLtbP/ep1mvaGAos6H8EDsSfAgAAAADgGfknRH/wAAAwAAAwGpAAAAJAGflGpH/wAAAwHlzVMkHP+Y3w8fM+FXmkgiC6wfKS3RY55rXwAAADxBm5lJqEFsmUwIX//+jLAAAAMDuoyGk1hfEu5TzVHJ5IOAvCf9OCdwltt/3cVImgqTJd3tCugwDJ4u8OAAAAAmQZ+3RRUsI/8AAAMBNYFD4vXpDRccu1s/96nWZD2fy9EZawcdLHkAAAAkAZ/WdEf/AAADAeWKHnr6Nm1ovi6jPhV5pH3Cn+RgeXpcALWPAAAADgGf2GpH/wAAAwAAAwGpAAAAOUGb3UmoQWyZTAhX//44QAAAJq/4xN38lmW+K4ACM2XbZEktR7+5EIhrZlHbr2oOGdZDv2u2M3DfUwAAAB1Bn/tFFSwj/wAAAwM4Uwq2Vg2w+VoItchHTzrakAAAABkBnhp0R/8AAAUcW3mSx8f/xiew63ocXSLBAAAAHAGeHGpH/wAABSCB7xes9uAzsY9Wof4JANo/e4EAAAAbQZoBSahBbJlMCE///fEAAAMADXypZ+vkFRruAAAAH0GeP0UVLCP/AAADAzl80rqAyCgv3MjyKOaML6VrG1IAAAAZAZ5edEf/AAAFHFt5ksfH/8YnsL+9nHH+PQAAABgBnkBqR/8AAAUdPmDiZxyGOjIbeFnVyLAAAAApQZpFSahBbJlMCGf//p4QAAADA7SB5zWodJmV1LfhnOULMnQOBFlE/j0AAAAcQZ5jRRUsI/8AAAMBNeTmzC2FJmmb8hGQ9tjIsAAAAA4BnoJ0R/8AAAMAAAMBqQAAABgBnoRqR/8AAAMB5c1GmJneE01Iwdu8ocEAAAA1QZqJSahBbJlMCF///oywAAADA7qMhqHB0AKl02Vgd37g6f/3Y6KtdUjEMOTSsYCajQVqj8sAAAAbQZ6nRRUsI/8AAAMBNYFDyKzviF4A+1nwVA2pAAAAGQGexnRH/wAAAwHlih5ksfa8V0I9yt97y1IAAAAQAZ7Iakf/AAADAAPM/8VnwAAAABlBms1JqEFsmUwIX//+jLAAAAMAB3UZFPKTAAAAH0Ge60UVLCP/AAADATYKaV1AZBWR1WYwEj/LRNoDakAAAAAaAZ8KdEf/AAADAeWKHmSx9rxXQja1BjRq4EAAAAAYAZ8Makf/AAADAeXNRpiZ3hNNSMHbvKHBAAAAFkGbEUmoQWyZTAhX//44QAAAAwAADKkAAAAQQZ8vRRUsI/8AAAMAAAMBBwAAAA4Bn050R/8AAAMAAAMBqQAAACIBn1BqR/8AAAMB3+b+MwoHQFBG9MRs58keQ9Pn1Z3dJktSAAAAF0GbVUmoQWyZTAhP//3xAAADAAADAB6RAAAAJEGfc0UVLCP/AAADATGOZy0Eby/N7fWkbHoTSw870OH4lQ5TggAAABwBn5J0R/8AAAMB5YoeYLJFLHVYqWnZKmw5HnIsAAAAGAGflGpH/wAAAwHlzUaYmd4TTUjB27yhwQAAAExBm5lJqEFsmUwIV//+OEAAACbe4uIZpKb54GQpkMDvTKg4A1xW4a1tjBoowU2IvtKJYcH4kolkz9vW9Br/YlG2nEVtBQfbKCsSR7XgAAAAHUGft0UVLCP/AAADAzkxzZhbCWHtTdWYtLKXIh7hAAAADgGf1nRH/wAAAwAAAwGpAAAAGAGf2GpH/wAABR0+YOJnHIY6Mht4WdXIsAAAACpBm91JqEFsmUwIT//98QAAAwBfZUpZlH4g4eP2wFAG+TaiAmM16XShNSEAAAAdQZ/7RRUsI/8AAAMDOTHNmFsJYe1N1Zi0spciHuAAAAAQAZ4adEf/AAADAAPNY4rPgQAAABgBnhxqR/8AAAUdPmDiZxyGOjIbeFnVyLEAAAAoQZoBSahBbJlMCFf//jhAAAAmp+xJoYZcaD1uzZqhx0WIBoraYz07XgAAAB1Bnj9FFSwj/wAAAwM5Mc2YWwlh7U3VmHbKfglDrwAAACMBnl50R/8AAAMACoRygW/LzyedDpAAhB92/dkjep0LhUlPLQAAABgBnkBqR/8AAAUdPmDiZxyGOjIbeFnVyLAAAAAXQZpFSahBbJlMCE///fEAAAMAAAMAHpEAAAAQQZ5jRRUsI/8AAAMAAAMBBwAAAA4BnoJ0R/8AAAMAAAMBqQAAAA4BnoRqR/8AAAMAAAMBqQAAAEVBmolJqEFsmUwIV//+OEAAAQz68oANY116uBuN/EefrOv5d67r2DjXhZNWZ6HlroUO01wVfnpmz9J5Fj14eYLwqs2kekEAAAArQZ6nRRUsI/8AABa8TmyoJHV4mdo6aeqeM2nprc/vh7Y4zrYt0eDaSjqYqQAAABoBnsZ0R/8AAAMB5YoeZLH2vFlFHfjWOxeGzAAAABwBnshqR/8AACOyKwcTORq0/Whd4iTxMePDu+2AAAAAH0GazUmoQWyZTAhP//3xAAADAA1/MSIMkykkibvlFlUAAAAUQZ7rRRUsI/8AAAMAdACIQxNA6YAAAAASAZ8KdEf/AAADALoLmfnPwMGAAAAADgGfDGpH/wAAAwAAAwGpAAAAWUGbEUmoQWyZTAhX//44QAAADn0w6JV/gALm1N0VdH5zKcvf2dMq5YV9WqFA17fEklo3oGj16r3+zUd1+I+ibVZyo5KcahUST4KavL0h6+gn/mV6DJcUBgHFAAAAI0GfL0UVLCP/AAADATWA99Gis99QA1nRm0xPf0ZOZx5G0exVAAAAHQGfTnRH/wAAAwHlih5X3p0cgVmtBh3AZ3lmYSMVAAAADgGfUGpH/wAAAwAAAwGpAAAAGUGbVUmoQWyZTAhP//3xAAADAAAbAceEaZkAAAAWQZ9zRRUsI/8AAAMAdDcfE3C52AYPWAAAAA4Bn5J0R/8AAAMAAAMBqQAAACQBn5RqR/8AAAUOEctuMfdw4esgHaQJUTM3t8QJaAtyLQN2tmEAAAA6QZuZSahBbJlMCE///fEAAAMCnwU0mOc9NRokv5KhoAOE36MZ4pJq5sDjWosF84LNl5lic0Dma4kp7gAAADdBn7dFFSwj/wAAFrxObL6fJ6gDdF/QAP3nAZ0Qrj7jy5TWJL7GbwiMvvAiRLhM0/i6X3otr32xAAAAHQGf1nRH/wAAAwHlinjlA8QGTg55JtU4XabWAYqBAAAAHgGf2GpH/wAAI78aznveIDCxxTMyx/1LRP3BZmH/tgAAAEVBm91JqEFsmUwIV//+OEAAACbf1/gALmxRqegRHT0sVsm+rJ77nIc0ho/cPItxIzYrXh7ckEJuysg0JD9xv3+LqHPIDj0AAAAhQZ/7RRUsI/8AAAMAcnL/pVfYEGuTNON5i+Y4vzHdhqQmAAAAEgGeGnRH/wAAAwC1i5wofvCZgQAAABoBnhxqR/8AAAMAumaatja9KwXq4sdbf0pYqQAAABlBmgFJqEFsmUwIT//98QAAAwAAQ1HmzxJwAAAAEEGeP0UVLCP/AAADAAADAQcAAAAOAZ5edEf/AAADAAADAakAAAAOAZ5Aakf/AAADAAADAakAAABMQZpFSahBbJlMCF///oywAABGAvreAZgbLDL5d7MuYdm+ZDise3SVu0dmly//Dpyy/RdhZlEAwPCGm4YTu2hOsmbpeEVhL0qjf4WKgQAAACVBnmNFFSwj/wAAFrVYVcILafln/P636jl0D1e76PZWky00rnkYAAAAGAGegnRH/wAAI8M+DBtnjaQBFL9vV+gIGQAAABkBnoRqR/8AAAUdPmDiZxyGOo6dnfAhAv2xAAAAGUGaiUmoQWyZTAhX//44QAAAAwAc9Sgipj0AAAAQQZ6nRRUsI/8AAAMAAAMBBwAAAA4BnsZ0R/8AAAMAAAMBqQAAAA4BnshqR/8AAAMAAAMBqQAAABhBmstJqEFsmUwUTCf//fEAAAMAAAMAHpEAAAAqAZ7qakf/AAADALm89qgAEtRsmxILHscXeoa1IX83lXwXOVe/l4gUe3tuAAAAQkGa70nhClJlMCE//fEAAAMCnwV5kB76PbdOrjAYT6hnJNHhGPlDulIpY9yCHO8XsBIpKq8dOdeDEPW3sfLGTuCrgAAAAB1Bnw1FNEwj/wAAFrVYVYrOTUB2vwwbhiTLy6SPgQAAABYBnyx0R/8AACOsOQWuTyQbeEaf3H3BAAAAFgGfLmpH/wAAAwC6dn5OhOreeU7YBi0AAABNQZszSahBaJlMCE///fEAAAMCkckmS3WAJHdbLWAFtLUibxbIRDfLL/Zgv8bOhE++sSWLB24q/b/vqCJUKlQycDBAwKif7Y2s9pYC4bwAAAAkQZ9RRREsI/8AAAMDOTHNmZ4pRn4YNw7rQx1i5TVthOCQ1K2YAAAAFgGfcHRH/wAAAwC6Cx3anVvPKdsAxYEAAAAaAZ9yakf/AAADAeZ/1WxrLOsMNsdwfpzmCyYAAAA7QZt3SahBbJlMCE///fEAAAMCnwVg4DTvsmt9C5VRHzjcgAS56G3xx+chLhHb5IA8GBVXEBRvkiu7qy8AAAAbQZ+VRRUsI/8AABa8Q823FcysmUlDL7RVUjrhAAAADgGftHRH/wAAAwAAAwGpAAAAGAGftmpH/wAAI78EJxLJaZq4VmspM699XwAAADlBm7tJqEFsmUwIV//+OEAAACanQF3ykXHAH1DTEiE4BGAO0X1jv5U/jJFgaJHjy5zwU7UK6X9+moEAAAAfQZ/ZRRUsI/8AAAMBNeTmvC/oHf+pM2ud/fWIAg+24AAAAA4Bn/h0R/8AAAMAAAMBqQAAABkBn/pqR/8AAAUdPmDgbdvxPxEZ+Si0cx24AAAAGUGb/0moQWyZTAhP//3xAAADAAAZuVLPMWEAAAAQQZ4dRRUsI/8AAAMAAAMBBwAAAA4Bnjx0R/8AAAMAAAMBqQAAAA4Bnj5qR/8AAAMAAAMBqQAAAFNBmiNJqEFsmUwIV//+OEAAAQz64J+vA8WgLLYjfM5ovfbawn2e7kdQqznVa2i4p7HsjOCvJd6OiwoA2HxbselqxhghRc+cnHICwgCvqxT2lou/gQAAACVBnkFFFSwj/wAAFrUrN2tV6TmFCLcYg1iOPnUSS4DrAO3cUtuAAAAAKgGeYHRH/wAAI8MXaKmlrKXN3c2qzy4AGzhQVZnarORWXTUdZqq3EF1twQAAABkBnmJqR/8AAAUdPmDgbdvxPxEZ+Si0cx24AAAAJEGaZ0moQWyZTAhP//3xAAADAABDmgNYANzUh8u0JTH/Q6lTRwAAABBBnoVFFSwj/wAAAwAAAwEHAAAADgGepHRH/wAAAwAAAwGpAAAADgGepmpH/wAAAwAAAwGpAAAAWUGaq0moQWyZTAhX//44QAABDZVvcoDKn+qU+dSOZItAsTfCjI076ema5bfstidsrR/J+UgFTuCc7wP2h//0g0zY830U+BNoooGytHTKOK5BJk6uL4fGFDFgAAAAJkGeyUUVLCP/AAAWvEPNtxXNggzWiiuSxMvI7qM6yRvvt2aY89swAAAAGwGe6HRH/wAAAwHaih56+jYWko9u2N/Q8LCAgQAAACYBnupqR/8AACOxzAnBZCvwx2dAj+GScBSVaT8lzd1eIoIIS3QlQAAAABpBmu9JqEFsmUwIT//98QAAAwANLTzH0YBOwAAAABxBnw1FFSwj/wAACBMOCgBufMCLapYyRewsnuMbAAAAEgGfLHRH/wAAAwC1xqwN7iEZUQAAABEBny5qR/8AAAMAQ341nUwwIQAAAElBmzNJqEFsmUwIV//+OEAAAQz64J+vAV+WOI/tYZTsx9StvSKwn1SX3OQhrHTGoMfCpuTE1SIYTS3GFSIZyVlYAjL2eGRGSIMgAAAAHUGfUUUVLCP/AAAWtSs3a1peuKKDwjCwOdzHmockAAAAIwGfcHRH/wAAI8MXaJzq63VwW3AlfD6dWhdCJA/dSJ0R+iVBAAAADgGfcmpH/wAAAwAAAwGpAAAAF0Gbd0moQWyZTAhP//3xAAADAAADAB6QAAAAEEGflUUVLCP/AAADAAADAQcAAAAOAZ+0dEf/AAADAAADAakAAAAOAZ+2akf/AAADAAADAakAAAA8QZu7SahBbJlMCFf//jhAAAEM+vKABgwb8SBb/z1sTVy1z3GkXjMGxxeAQAL2gASNONizaR2iNrprv7rBAAAAHUGf2UUVLCP/AAAWtSs3a1peuKKDwjCwOdzHmockAAAAIAGf+HRH/wAAI8MXaKmleT26/rXoJcXTw4UCv8s3lClRAAAADgGf+mpH/wAAAwAAAwGpAAAAF0Gb/0moQWyZTAhP//3xAAADAAADAB6RAAAAEEGeHUUVLCP/AAADAAADAQcAAAAOAZ48dEf/AAADAAADAakAAAArAZ4+akf/AAAE991WPsh7kKdwQTPOXNgj4BIAEzAKLB7mPRHUI4d7bAJTBgAAADBBmiNJqEFsmUwIV//+OEAAAQz64J5c0oquCekPIAKMMuLQsXL5+H9ghf/Uuf+BcHMAAAAdQZ5BRRUsI/8AABa1KzdrWl64ooPCMLA53MeahyQAAAAgAZ5gdEf/AAAjwxdoqaV5Pbr+teglxdPDhQK/yzeUKVEAAAAOAZ5iakf/AAADAAADAakAAAAsQZpnSahBbJlMCEf//eEAAAMANx+STvNp3ccL2DCuNGD/MvhVPxcZ20klRWEAAAAeQZ6FRRUsI/8AAAMBLeULb01GRLsEcE9UtfMLhpARAAAADgGepHRH/wAAAwAAAwGpAAAAHAGepmpH/wAAAwHbgBL44Gm4rXVClwk7Zlbg5IEAAAAWQZqoSahBbJlMCP/8hAAAAwAAAwDAgAAADJZtb292AAAAbG12aGQAAAAAAAAAAAAAAAAAAAPoAAAPtAABAAABAAAAAAAAAAAAAAAAAQAAAAAAAAAAAAAAAAAAAAEAAAAAAAAAAAAAAAAAAEAAAAAAAAAAAAAAAAAAAAAAAAAAAAAAAAAAAAAAAAACAAALwXRyYWsAAABcdGtoZAAAAAMAAAAAAAAAAAAAAAEAAAAAAAAPtAAAAAAAAAAAAAAAAAAAAAAAAQAAAAAAAAAAAAAAAAAAAAEAAAAAAAAAAAAAAAAAAEAAAAACWAAAAZAAAAAAACRlZHRzAAAAHGVsc3QAAAAAAAAAAQAAD7QAAAIAAAEAAAAACzltZGlhAAAAIG1kaGQAAAAAAAAAAAAAAAAAADIAAADJAFXEAAAAAAAtaGRscgAAAAAAAAAAdmlkZQAAAAAAAAAAAAAAAFZpZGVvSGFuZGxlcgAAAArkbWluZgAAABR2bWhkAAAAAQAAAAAAAAAAAAAAJGRpbmYAAAAcZHJlZgAAAAAAAAABAAAADHVybCAAAAABAAAKpHN0YmwAAACwc3RzZAAAAAAAAAABAAAAoGF2YzEAAAAAAAAAAQAAAAAAAAAAAAAAAAAAAAACWAGQAEgAAABIAAAAAAAAAAEVTGF2YzYxLjE5LjEwMCBsaWJ4MjY0AAAAAAAAAAAAAAAY//8AAAA2YXZjQwFkAB//4QAZZ2QAH6zZQJgz5eEAAAMAAQAAAwBkDxgxlgEABmjr48siwP34+AAAAAAUYnRydAAAAAAAAEBxAABAcQAAABhzdHRzAAAAAAAAAAEAAADJAAABAAAAABRzdHNzAAAAAAAAAAEAAAABAAAGWGN0dHMAAAAAAAAAyQAAAAEAAAIAAAAAAQAABQAAAAABAAACAAAAAAEAAAAAAAAAAQAAAQAAAAABAAAFAAAAAAEAAAIAAAAAAQAAAAAAAAABAAABAAAAAAEAAAUAAAAAAQAAAgAAAAABAAAAAAAAAAEAAAEAAAAAAQAABQAAAAABAAACAAAAAAEAAAAAAAAAAQAAAQAAAAABAAAFAAAAAAEAAAIAAAAAAQAAAAAAAAABAAABAAAAAAEAAAUAAAAAAQAAAgAAAAABAAAAAAAAAAEAAAEAAAAAAQAABQAAAAABAAACAAAAAAEAAAAAAAAAAQAAAQAAAAABAAAFAAAAAAEAAAIAAAAAAQAAAAAAAAABAAABAAAAAAEAAAUAAAAAAQAAAgAAAAABAAAAAAAAAAEAAAEAAAAAAQAABQAAAAABAAACAAAAAAEAAAAAAAAAAQAAAQAAAAABAAAFAAAAAAEAAAIAAAAAAQAAAAAAAAABAAABAAAAAAEAAAIAAAAAAQAABQAAAAABAAACAAAAAAEAAAAAAAAAAQAAAQAAAAABAAAFAAAAAAEAAAIAAAAAAQAAAAAAAAABAAABAAAAAAEAAAUAAAAAAQAAAgAAAAABAAAAAAAAAAEAAAEAAAAAAQAABQAAAAABAAACAAAAAAEAAAAAAAAAAQAAAQAAAAABAAAFAAAAAAEAAAIAAAAAAQAAAAAAAAABAAABAAAAAAEAAAUAAAAAAQAAAgAAAAABAAAAAAAAAAEAAAEAAAAAAQAABQAAAAABAAACAAAAAAEAAAAAAAAAAQAAAQAAAAABAAAFAAAAAAEAAAIAAAAAAQAAAAAAAAABAAABAAAAAAEAAAUAAAAAAQAAAgAAAAABAAAAAAAAAAEAAAEAAAAAAQAABQAAAAABAAACAAAAAAEAAAAAAAAAAQAAAQAAAAABAAAFAAAAAAEAAAIAAAAAAQAAAAAAAAABAAABAAAAAAEAAAUAAAAAAQAAAgAAAAABAAAAAAAAAAEAAAEAAAAAAQAABQAAAAABAAACAAAAAAEAAAAAAAAAAQAAAQAAAAABAAAFAAAAAAEAAAIAAAAAAQAAAAAAAAABAAABAAAAAAEAAAUAAAAAAQAAAgAAAAABAAAAAAAAAAEAAAEAAAAAAQAABQAAAAABAAACAAAAAAEAAAAAAAAAAQAAAQAAAAABAAAFAAAAAAEAAAIAAAAAAQAAAAAAAAABAAABAAAAAAEAAAUAAAAAAQAAAgAAAAABAAAAAAAAAAEAAAEAAAAAAQAABQAAAAABAAACAAAAAAEAAAAAAAAAAQAAAQAAAAABAAAFAAAAAAEAAAIAAAAAAQAAAAAAAAABAAABAAAAAAEAAAUAAAAAAQAAAgAAAAABAAAAAAAAAAEAAAEAAAAAAQAABQAAAAABAAACAAAAAAEAAAAAAAAAAQAAAQAAAAABAAAFAAAAAAEAAAIAAAAAAQAAAAAAAAABAAABAAAAAAEAAAMAAAAAAQAAAQAAAAABAAAFAAAAAAEAAAIAAAAAAQAAAAAAAAABAAABAAAAAAEAAAUAAAAAAQAAAgAAAAABAAAAAAAAAAEAAAEAAAAAAQAABQAAAAABAAACAAAAAAEAAAAAAAAAAQAAAQAAAAABAAAFAAAAAAEAAAIAAAAAAQAAAAAAAAABAAABAAAAAAEAAAUAAAAAAQAAAgAAAAABAAAAAAAAAAEAAAEAAAAAAQAABQAAAAABAAACAAAAAAEAAAAAAAAAAQAAAQAAAAABAAAFAAAAAAEAAAIAAAAAAQAAAAAAAAABAAABAAAAAAEAAAUAAAAAAQAAAgAAAAABAAAAAAAAAAEAAAEAAAAAAQAABQAAAAABAAACAAAAAAEAAAAAAAAAAQAAAQAAAAABAAAFAAAAAAEAAAIAAAAAAQAAAAAAAAABAAABAAAAAAEAAAUAAAAAAQAAAgAAAAABAAAAAAAAAAEAAAEAAAAAAQAABQAAAAABAAACAAAAAAEAAAAAAAAAAQAAAQAAAAABAAAFAAAAAAEAAAIAAAAAAQAAAAAAAAABAAABAAAAAAEAAAUAAAAAAQAAAgAAAAABAAAAAAAAAAEAAAEAAAAAAQAABQAAAAABAAACAAAAAAEAAAAAAAAAAQAAAQAAAAABAAACAAAAABxzdHNjAAAAAAAAAAEAAAABAAAAyQAAAAEAAAM4c3RzegAAAAAAAAAAAAAAyQAABJoAAABAAAAAJAAAACAAAAAdAAAAGwAAADsAAAAhAAAAHgAAAEwAAAAiAAAAJwAAABIAAABwAAAAJAAAABIAAAAgAAAANQAAAB0AAAAXAAAAIQAAAGUAAAAtAAAAIgAAACIAAAAuAAAAHAAAABoAAAAUAAAATwAAACsAAAAYAAAAIAAAADMAAAAjAAAAIgAAABQAAAAeAAAAKQAAAB4AAAAgAAAALAAAACQAAAAeAAAAFAAAADkAAAAZAAAAFAAAAC4AAAASAAAAUAAAACsAAAASAAAAKAAAAEAAAAAqAAAAKAAAABIAAAA9AAAAIQAAAB0AAAAgAAAAHwAAACMAAAAdAAAAHAAAAC0AAAAgAAAAEgAAABwAAAA5AAAAHwAAAB0AAAAUAAAAHQAAACMAAAAeAAAAHAAAABoAAAAUAAAAEgAAACYAAAAbAAAAKAAAACAAAAAcAAAAUAAAACEAAAASAAAAHAAAAC4AAAAhAAAAFAAAABwAAAAsAAAAIQAAACcAAAAcAAAAGwAAABQAAAASAAAAEgAAAEkAAAAvAAAAHgAAACAAAAAjAAAAGAAAABYAAAASAAAAXQAAACcAAAAhAAAAEgAAAB0AAAAaAAAAEgAAACgAAAA+AAAAOwAAACEAAAAiAAAASQAAACUAAAAWAAAAHgAAAB0AAAAUAAAAEgAAABIAAABQAAAAKQAAABwAAAAdAAAAHQAAABQAAAASAAAAEgAAABwAAAAuAAAARgAAACEAAAAaAAAAGgAAAFEAAAAoAAAAGgAAAB4AAAA/AAAAHwAAABIAAAAcAAAAPQAAACMAAAASAAAAHQAAAB0AAAAUAAAAEgAAABIAAABXAAAAKQAAAC4AAAAdAAAAKAAAABQAAAASAAAAEgAAAF0AAAAqAAAAHwAAACoAAAAeAAAAIAAAABYAAAAVAAAATQAAACEAAAAnAAAAEgAAABsAAAAUAAAAEgAAABIAAABAAAAAIQAAACQAAAASAAAAGwAAABQAAAASAAAALwAAADQAAAAhAAAAJAAAABIAAAAwAAAAIgAAABIAAAAgAAAAGgAAABRzdGNvAAAAAAAAAAEAAAAwAAAAYXVkdGEAAABZbWV0YQAAAAAAAAAhaGRscgAAAAAAAAAAbWRpcmFwcGwAAAAAAAAAAAAAAAAsaWxzdAAAACSpdG9vAAAAHGRhdGEAAAABAAAAAExhdmY2MS43LjEwMA==\" type=\"video/mp4\">\n",
       " Your browser does not support the video tag.\n",
       " </video>"
      ],
      "text/plain": [
       "<IPython.core.display.Video object>"
      ]
     },
     "metadata": {},
     "output_type": "display_data"
    }
   ],
   "source": [
    "if not skip_training:\n",
    "    video = Video(Path().cwd()/'results'/'CartPole-v1'/'video'/'test'/'ex4_rbf-episode-0.mp4',\n",
    "    embed=True, html_attributes=\"loop autoplay\") # Set html_attributes=\"controls\" for video control\n",
    "    display(video)"
   ]
  },
  {
   "cell_type": "code",
   "execution_count": 12,
   "id": "34862517",
   "metadata": {
    "deletable": false,
    "editable": false,
    "nbgrader": {
     "cell_type": "code",
     "checksum": "930235c2e6039ea417917618e7bfb84c",
     "grade": true,
     "grade_id": "cell-b8217caa685dddf5",
     "locked": true,
     "points": 20,
     "schema_version": 3,
     "solution": false,
     "task": false
    }
   },
   "outputs": [],
   "source": [
    "%%capture --no-stdout\n",
    "\"TEST\""
   ]
  },
  {
   "cell_type": "markdown",
   "id": "8f725b2e",
   "metadata": {
    "deletable": false,
    "editable": false,
    "nbgrader": {
     "cell_type": "markdown",
     "checksum": "5e212891ed3fc555ca4d0fa87023b40a",
     "grade": false,
     "grade_id": "cell-133e2c93df20c4dc",
     "locked": true,
     "schema_version": 3,
     "solution": false,
     "task": false
    },
    "tags": []
   },
   "source": [
    "<a id='Q1'></a>\n",
    "<div class=\" alert alert-warning\">\n",
    "    <h3><b>Student Question 1.1</b> Considering Linear Features (10 points) </h3> \n",
    "    \n",
    "**Hint:** directly return 'state' in function 'featurize'\n",
    "    \n",
    "🔝\t<a href='#TOC'><b>Table of Contents</b></a>\n",
    "</div>\n"
   ]
  },
  {
   "cell_type": "markdown",
   "id": "5635de8e-3bdb-4856-a21e-20381601edbe",
   "metadata": {
    "deletable": false,
    "editable": false,
    "nbgrader": {
     "cell_type": "markdown",
     "checksum": "39f071752749e25e2b4545e6e33a2d28",
     "grade": false,
     "grade_id": "cell-f75a1189f158c6ae",
     "locked": true,
     "schema_version": 3,
     "solution": false,
     "task": false
    },
    "tags": []
   },
   "source": [
    "### 1.1.1 Question (4 points):\n",
    "Which of the following best describes why linear approximation of Q-values in the Cartpole problem is inaccurate?\n",
    "\n",
    "**Select one:**\n",
    "\n",
    "1. The environment dynamics are non-linear\n",
    "2. The Q-function is inherently non-linear\n",
    "3. The state space is too large\n",
    "4. The action space is continuous\n"
   ]
  },
  {
   "cell_type": "code",
   "execution_count": 13,
   "id": "7903b02f-aae1-4b91-bd55-fee1f72129fa",
   "metadata": {
    "tags": []
   },
   "outputs": [],
   "source": [
    "sq_1_1_1 = 2 # Replace with the appropriate answer number"
   ]
  },
  {
   "cell_type": "markdown",
   "id": "f058dca0-e5d7-4890-a4e8-a26a1f3bea00",
   "metadata": {
    "deletable": false,
    "editable": false,
    "nbgrader": {
     "cell_type": "markdown",
     "checksum": "d127ac274ca6ea486fd1e79e155ab5c1",
     "grade": false,
     "grade_id": "cell-09a45dbf2a6f0e1d",
     "locked": true,
     "schema_version": 3,
     "solution": false,
     "task": false
    },
    "tags": []
   },
   "source": [
    "### 1.1.2 Question (2 points):\n",
    "What does the Q-function represent?\n",
    "\n",
    "**Select one:**\n",
    "\n",
    "1. The immediate reward for taking an action\n",
    "2. The probability of the pole falling\n",
    "3. The expected cumulative reward for taking an action and then following the optimal policy\n",
    "4. The linear transformation of the current state\n"
   ]
  },
  {
   "cell_type": "code",
   "execution_count": 14,
   "id": "7a93ee55-0e47-4a1a-b3d5-6d8e8dde720b",
   "metadata": {
    "tags": []
   },
   "outputs": [],
   "source": [
    "sq_1_1_2 = 3 # Replace with the appropriate answer number"
   ]
  },
  {
   "cell_type": "markdown",
   "id": "5a783f6e-c95b-445e-9f7f-27ba47eab902",
   "metadata": {
    "deletable": false,
    "editable": false,
    "nbgrader": {
     "cell_type": "markdown",
     "checksum": "554a02b73714d9443d27251b6d1a8ab7",
     "grade": false,
     "grade_id": "cell-7e7997faef0448da",
     "locked": true,
     "schema_version": 3,
     "solution": false,
     "task": false
    },
    "tags": []
   },
   "source": [
    "### 1.1.3 Question (4 points):\n",
    "If the environment dynamics of Cartpole were perfectly linear, which statement would be true?\n",
    "\n",
    "**Select one:**\n",
    "\n",
    "1. The Q-function would also be linear\n",
    "2. Linear approximation of the Q-function would be accurate\n",
    "3. The Q-function could still be non-linear\n",
    "4. Reinforcement learning would not be necessary\n"
   ]
  },
  {
   "cell_type": "code",
   "execution_count": 15,
   "id": "223f8512-2231-4eb8-b8db-16cd6d62d420",
   "metadata": {},
   "outputs": [],
   "source": [
    "sq_1_1_3 = 3 # Replace with the appropriate answer number"
   ]
  },
  {
   "cell_type": "markdown",
   "id": "5253364e-6e75-4729-8e00-cb606b48dae9",
   "metadata": {
    "deletable": false,
    "editable": false,
    "nbgrader": {
     "cell_type": "markdown",
     "checksum": "144ffb087f8f0ec19ba52b26a9735626",
     "grade": false,
     "grade_id": "cell-22cb658f14d5cde6",
     "locked": true,
     "schema_version": 3,
     "solution": false,
     "task": false
    },
    "tags": []
   },
   "source": [
    "The following cells are used for grading"
   ]
  },
  {
   "cell_type": "code",
   "execution_count": 16,
   "id": "2af865cb-688d-4e9a-b93d-44cb625bebcd",
   "metadata": {
    "deletable": false,
    "editable": false,
    "nbgrader": {
     "cell_type": "code",
     "checksum": "a1b5c33652bada8565e4ee5fb2c1175d",
     "grade": true,
     "grade_id": "cell-b4096a96472e5562",
     "locked": true,
     "points": 0,
     "schema_version": 3,
     "solution": false,
     "task": false
    },
    "tags": []
   },
   "outputs": [],
   "source": [
    "assert sq_1_1_1 in range(1, 5)\n",
    "assert sq_1_1_2 in range(1, 5)\n",
    "assert sq_1_1_3 in range(1, 5)"
   ]
  },
  {
   "cell_type": "code",
   "execution_count": null,
   "id": "4fd02bb8-7933-4647-9993-c19ab6518f54",
   "metadata": {
    "deletable": false,
    "editable": false,
    "nbgrader": {
     "cell_type": "code",
     "checksum": "39cdd7a5d517d956028c7800288c1eab",
     "grade": true,
     "grade_id": "cell-83357309429acbcd",
     "locked": true,
     "points": 4,
     "schema_version": 3,
     "solution": false,
     "task": false
    },
    "tags": []
   },
   "outputs": [],
   "source": []
  },
  {
   "cell_type": "code",
   "execution_count": null,
   "id": "cac21b47-cf94-4da5-bbeb-a39a7abdaca2",
   "metadata": {
    "deletable": false,
    "editable": false,
    "nbgrader": {
     "cell_type": "code",
     "checksum": "e8a92c0c561551cfe15d0aa2c1d00ae0",
     "grade": true,
     "grade_id": "cell-3ed323aa17884686",
     "locked": true,
     "points": 2,
     "schema_version": 3,
     "solution": false,
     "task": false
    },
    "tags": []
   },
   "outputs": [],
   "source": []
  },
  {
   "cell_type": "code",
   "execution_count": null,
   "id": "f9ab2f9f-aff6-4258-abe9-7e21c6270ba6",
   "metadata": {
    "deletable": false,
    "editable": false,
    "nbgrader": {
     "cell_type": "code",
     "checksum": "40a67f2521eabb810cf0e07e83a93bc7",
     "grade": true,
     "grade_id": "cell-4284778ad9d19593",
     "locked": true,
     "points": 4,
     "schema_version": 3,
     "solution": false,
     "task": false
    },
    "tags": []
   },
   "outputs": [],
   "source": []
  },
  {
   "cell_type": "markdown",
   "id": "c5a8edc7",
   "metadata": {
    "deletable": false,
    "editable": false,
    "nbgrader": {
     "cell_type": "markdown",
     "checksum": "981ecd6b06cd94e02fa1bdab9b1b27a7",
     "grade": false,
     "grade_id": "cell-9b048cd847c57c77",
     "locked": true,
     "schema_version": 3,
     "solution": false,
     "task": false
    },
    "tags": []
   },
   "source": [
    "<a id='Q2'></a>\n",
    "<div class=\" alert alert-warning\">\n",
    "    <h3><b>Student Question 1.2</b> Experience Replay Buffer (10 points) </h3> \n",
    "\n",
    "**Hint:** In machine learning, when training a model, we usually assume dataset includes i.i.d(independent and identically distributed) samples from a unknown distribution.\n",
    "    \n",
    "🔝\t<a href='#TOC'><b>Table of Contents</b></a>\n",
    "</div>\n"
   ]
  },
  {
   "cell_type": "markdown",
   "id": "d92584a0-e8d6-4a49-86bc-7d14d2c958d0",
   "metadata": {
    "deletable": false,
    "editable": false,
    "nbgrader": {
     "cell_type": "markdown",
     "checksum": "dd1241216c2e0ee9b94dc815b263ffd8",
     "grade": false,
     "grade_id": "cell-133b0005bee48d98",
     "locked": true,
     "schema_version": 3,
     "solution": false,
     "task": false
    },
    "tags": []
   },
   "source": [
    "### 1.2.1 Question (5 points):\n",
    "Why do we use the experience replay buffer in reinforcement learning? Select **at most** 3 answers, or you will lose **all** points.\n",
    "\n",
    "**Select two:**\n",
    "\n",
    "1. To prioritize the most recent experiences over older ones\n",
    "2. To make the learning process faster by re-using previous data and improving sample efficiency\n",
    "3. To ensure that the agent only learns from highly rewarding experiences\n",
    "4. To prevent the agent from learning negative experiences\n",
    "5. To break the correlation between consecutive experiences"
   ]
  },
  {
   "cell_type": "code",
   "execution_count": 17,
   "id": "4bbf9062-d94b-40f2-a486-930af53ae3c6",
   "metadata": {
    "tags": []
   },
   "outputs": [],
   "source": [
    "sq_1_2_1 = [2, 5] # Write the appropriate answer number(s) inside the list"
   ]
  },
  {
   "cell_type": "markdown",
   "id": "78f7f3c6-c8f0-487c-bece-850f2fa9e087",
   "metadata": {
    "deletable": false,
    "editable": false,
    "nbgrader": {
     "cell_type": "markdown",
     "checksum": "176aee2c7c0508b69bda1934614ecc44",
     "grade": false,
     "grade_id": "cell-8d7e3c6747ad00c9",
     "locked": true,
     "schema_version": 3,
     "solution": false,
     "task": false
    },
    "tags": []
   },
   "source": [
    "### 1.2.2 Question (5 points):\n",
    "Which of the following best describes the benefit of randomly sampling mini-batches from the experience replay buffer?\n",
    "\n",
    "**Select one:**\n",
    "\n",
    "1. It helps the agent to focus on learning from consecutive experiences\n",
    "2. It creates a more diverse and less correlated set of training data, leading to more stable learning\n",
    "3. It allows the agent to forget irrelevant or outdated information more quickly\n",
    "4. It reduces the computational complexity of the learning algorithm\n",
    "5. It simulates exploration by introducing randomness into the learning process"
   ]
  },
  {
   "cell_type": "code",
   "execution_count": 18,
   "id": "f182a02a-15a0-4e09-ac15-f067203d64f7",
   "metadata": {
    "tags": []
   },
   "outputs": [],
   "source": [
    "sq_1_2_2 = 2 # Replace with the appropriate answer number"
   ]
  },
  {
   "cell_type": "markdown",
   "id": "5c53ffaa-6c4f-48b8-bfda-9af54c05b908",
   "metadata": {
    "deletable": false,
    "editable": false,
    "nbgrader": {
     "cell_type": "markdown",
     "checksum": "a48de8481907fbcadd19fb3f8a4e5e18",
     "grade": false,
     "grade_id": "cell-b577265fd0011c08",
     "locked": true,
     "schema_version": 3,
     "solution": false,
     "task": false
    },
    "tags": []
   },
   "source": [
    "The following cells are used for grading"
   ]
  },
  {
   "cell_type": "code",
   "execution_count": 19,
   "id": "f368aba2-5019-4950-aaa0-94a77e5395a1",
   "metadata": {
    "deletable": false,
    "editable": false,
    "nbgrader": {
     "cell_type": "code",
     "checksum": "294627b6a6afdbcc7286f01e288ee2c1",
     "grade": true,
     "grade_id": "cell-f26d8fd34a084fd7",
     "locked": true,
     "points": 0,
     "schema_version": 3,
     "solution": false,
     "task": false
    },
    "tags": []
   },
   "outputs": [],
   "source": [
    "assert len(set(sq_1_2_1)) <= 3\n",
    "assert set(sq_1_2_1) < set(range(1, 6))\n",
    "assert sq_1_2_2 in range(1, 6)"
   ]
  },
  {
   "cell_type": "code",
   "execution_count": null,
   "id": "91541fa7-bba9-4625-b906-87f9406237a6",
   "metadata": {
    "deletable": false,
    "editable": false,
    "nbgrader": {
     "cell_type": "code",
     "checksum": "085eefcf84eb13ee19847348fc726993",
     "grade": true,
     "grade_id": "cell-cf8a284ca46cf5bf",
     "locked": true,
     "points": 2,
     "schema_version": 3,
     "solution": false,
     "task": false
    },
    "tags": []
   },
   "outputs": [],
   "source": []
  },
  {
   "cell_type": "code",
   "execution_count": null,
   "id": "b10389db-047b-499f-8d84-19d79287f54f",
   "metadata": {
    "deletable": false,
    "editable": false,
    "nbgrader": {
     "cell_type": "code",
     "checksum": "434a413418d6a0bcad8db6c32be8b3b6",
     "grade": true,
     "grade_id": "cell-f40898b6f10f1d9b",
     "locked": true,
     "points": 3,
     "schema_version": 3,
     "solution": false,
     "task": false
    },
    "tags": []
   },
   "outputs": [],
   "source": []
  },
  {
   "cell_type": "code",
   "execution_count": null,
   "id": "f264ce3c-6958-4880-95d2-efa9aef31f11",
   "metadata": {
    "deletable": false,
    "editable": false,
    "nbgrader": {
     "cell_type": "code",
     "checksum": "d64fb124439dc4825762417ec6d95155",
     "grade": true,
     "grade_id": "cell-0c6e6e9c7d9037fa",
     "locked": true,
     "points": 5,
     "schema_version": 3,
     "solution": false,
     "task": false
    },
    "tags": []
   },
   "outputs": [],
   "source": []
  },
  {
   "cell_type": "markdown",
   "id": "2a4793b0",
   "metadata": {},
   "source": [
    "<a id='Q3'></a>\n",
    "<div class=\" alert alert-warning\">\n",
    "    <h3><b>Student Question 1.3</b> Grid-based vs Function Approximators (10 points) </h3> \n",
    "\n",
    "**Hint:** An algorithm is said to be sample-efficient when it requires less samples (data) to reach\n",
    "an optimal performance\n",
    "    \n",
    "🔝\t<a href='#TOC'><b>Table of Contents</b></a>\n",
    "</div>\n"
   ]
  },
  {
   "cell_type": "markdown",
   "id": "e88bdee4-990f-4af4-816d-0fc869e720fe",
   "metadata": {
    "tags": []
   },
   "source": [
    "### 1.3.1 Question (10 points):\n",
    "In Exercise 3, we used grid-based Q-learning to balance the Cartpole. Compared to RBF function approximation methods, grid-based methods are:\n",
    "\n",
    "**Select one:**\n",
    "\n",
    "1. More sample-efficient because they take similarities between states into account, making them highly efficient.\n",
    "\n",
    "2. Less sample-efficient because they don't take similarities between states into account and require exploration of all discretized states.\n",
    "\n",
    "3. More robust to noise in the environment and require discretization of continuous state spaces, leading to fewer states to explore.\n",
    "\n",
    "4. Better at generalizing to unseen states because they always simplify the state space, making them more efficient.\n",
    "\n",
    "5. Equally sample-efficient as RBF methods, but less flexible in handling non-uniform state distributions."
   ]
  },
  {
   "cell_type": "code",
   "execution_count": 20,
   "id": "5e40d8ca-e43a-48e8-8421-11a3c4c82374",
   "metadata": {
    "tags": []
   },
   "outputs": [],
   "source": [
    "sq_1_3_1 = 2 # Replace with the appropriate answer number"
   ]
  },
  {
   "cell_type": "markdown",
   "id": "e86df44e-111e-4879-9e61-6cf0ddfe0237",
   "metadata": {},
   "source": [
    "The following cells are used for grading"
   ]
  },
  {
   "cell_type": "code",
   "execution_count": 21,
   "id": "1c91c3fe-5414-4a22-ace9-fd9d4dbbba25",
   "metadata": {
    "deletable": false,
    "editable": false,
    "nbgrader": {
     "cell_type": "code",
     "checksum": "8d0bf530ec49953542f230deb6eda721",
     "grade": true,
     "grade_id": "cell-e5a1f15f82928287",
     "locked": true,
     "points": 0,
     "schema_version": 3,
     "solution": false,
     "task": false
    },
    "tags": []
   },
   "outputs": [],
   "source": [
    "assert sq_1_3_1 in range(1, 6)"
   ]
  },
  {
   "cell_type": "code",
   "execution_count": null,
   "id": "901bf613-0613-4551-8d0d-d91d3b4c13f2",
   "metadata": {
    "deletable": false,
    "editable": false,
    "nbgrader": {
     "cell_type": "code",
     "checksum": "7ef41072134244695dccd85c5ef126f8",
     "grade": true,
     "grade_id": "cell-ac160ae349b95d4c",
     "locked": true,
     "points": 10,
     "schema_version": 3,
     "solution": false,
     "task": false
    },
    "tags": []
   },
   "outputs": [],
   "source": []
  },
  {
   "cell_type": "markdown",
   "id": "223b9e0c",
   "metadata": {
    "deletable": false,
    "editable": false,
    "nbgrader": {
     "cell_type": "markdown",
     "checksum": "9b2bd9223d866f85d0b6d9e2a3948187",
     "grade": false,
     "grade_id": "cell-14c2950d3ec37ff1",
     "locked": true,
     "schema_version": 3,
     "solution": false,
     "task": false
    },
    "tags": []
   },
   "source": [
    "<a id='T2'></a>\n",
    "<div class=\" alert alert-warning\">\n",
    "    <h3><b>Student Task 2.</b> Visualizing the Policy (10 points) </h3> \n",
    "\n",
    "Create a 2D plot of policy (best action in terms of state) learned with RBF in terms of $x$ and θ for $\\dot{x} = 0$ and $\\dot{\\theta} = 0$, such that θ is on the horizontal axis and $x$ is on the vertical axis. The plot will be visualized below.\n",
    "\n",
    "**Hint 1 :** You can fix $\\dot{x} = 0$ and $\\dot{\\theta} = 0$ and discretize the state-space for $x$ and $\\theta$.\n",
    "\n",
    "**Hint 2 :** You can directly use the code in ***excercise 1 Task 4*** to visualize the policy.\n",
    "    \n",
    "**Hint 3 :** For CartPole environment state specifications, find them here https://gymnasium.farama.org/environments/classic_control/cart_pole/\n",
    "    \n",
    "🔝\t<a href='#TOC'><b>Table of Contents</b></a>\n",
    "</div>\n"
   ]
  },
  {
   "cell_type": "code",
   "execution_count": 30,
   "id": "797754bd-2a91-4b68-ab12-84dab27f100a",
   "metadata": {
    "tags": []
   },
   "outputs": [
    {
     "data": {
      "image/png": "[encoded data removed]",
      "text/plain": [
       "<Figure size 800x600 with 1 Axes>"
      ]
     },
     "metadata": {},
     "output_type": "display_data"
    }
   ],
   "source": [
    "import matplotlib.pyplot as plt\n",
    "import seaborn as sns\n",
    "\n",
    "# define and reload the RBF agent, which is trained with RBF feature!!!!\n",
    "with open(Path().cwd()/'cfg'/'cartpole_rbf.yaml', 'r') as f:\n",
    "    cfg = t.Struct(**yaml.safe_load(f))        \n",
    "agent = RBFAgent(n_actions=cfg.n_actions, gamma=cfg.gamma, batch_size=cfg.batch_size)\n",
    "agent.load(Path().cwd()/'results/CartPole-v1/model/')\n",
    "\n",
    "########## Your code starts here ##########\n",
    "x_min, x_max = -2.4, 2.4\n",
    "theta_min, theta_max = -0.2095, 0.2095\n",
    "\n",
    "x_vals = np.linspace(x_min, x_max, 100)\n",
    "theta_vals = np.linspace(theta_min, theta_max, 100)\n",
    "\n",
    "policy = np.zeros((len(x_vals), len(theta_vals)))\n",
    "\n",
    "for i, x in enumerate(x_vals):\n",
    "    for j, theta in enumerate(theta_vals):\n",
    "        state = np.array([x, 0.0, theta, 0.0], dtype=np.float32)\n",
    "        feature = agent.featurize(state)\n",
    "        q_values = np.array([q.predict(feature)[0] for q in agent.q_functions])\n",
    "        policy[i, j] = np.argmax(q_values)\n",
    "\n",
    "# Plot\n",
    "plt.figure(figsize=(8,6))\n",
    "\n",
    "sns.heatmap(\n",
    "    policy,\n",
    "    cbar=False, \n",
    "    xticklabels=False, \n",
    "    yticklabels=False,\n",
    "    cmap=\"coolwarm\"\n",
    ")\n",
    "xticks = np.linspace(0, 99, 5)\n",
    "yticks = np.linspace(0, 99, 5)\n",
    "plt.xticks(xticks, np.round(theta_vals[xticks.astype(int)],2))\n",
    "plt.yticks(yticks, np.round(x_vals[yticks.astype(int)],2))\n",
    "plt.xlabel(\"Theta (rad)\")\n",
    "plt.ylabel(\"X position\")\n",
    "\n",
    "plt.xlabel(\"Pole Angle θ (rad)\")\n",
    "plt.ylabel(\"Cart Position x (m)\")\n",
    "plt.title(\"Policy learned with RBF (for ẋ=0, θ̇=0)\")\n",
    "plt.show()\n",
    "########## Your code ends here #############\n",
    "\n"
   ]
  },
  {
   "cell_type": "markdown",
   "id": "25abcff7-fe09-4151-b343-f0e246725125",
   "metadata": {
    "deletable": false,
    "editable": false,
    "nbgrader": {
     "cell_type": "markdown",
     "checksum": "8b26591fe5462716bc0054bce44c792d",
     "grade": false,
     "grade_id": "cell-ff09aacaf4dcf0a0",
     "locked": true,
     "points": 10,
     "schema_version": 3,
     "solution": false,
     "task": true
    }
   },
   "source": [
    "Do not remove this cell as it is used for grading"
   ]
  },
  {
   "cell_type": "markdown",
   "id": "c88aa5e4-757d-49c8-9bec-3f23e7bc2f9f",
   "metadata": {
    "tags": []
   },
   "source": [
    "# 3. Submitting <a id='3.'></a>\n",
    "Ensure all tasks and questions (in ```ex4_dpn.ipynb``` and ```ex4_rbf.ipynb```) are answered and the necessary plots are saved in the appropriate locations. The relevant plots and files need to be included for this part of assignment are:\n",
    "\n",
    "\n",
    "- Training performance plots:\n",
    "  - `cartpole_hd.png`: Training performance of handcrafted feature plots in terms of episode and episodic reward\n",
    "  - `cartpole_rbf.png`: training performance of rbf feature plots in terms of episode and episodic reward \n",
    "<br>\n",
    "<br>\n",
    "\n",
    "  \n",
    "\n",
    "- Model files:\n",
    "  - `rbf.kpl`: Trained model\n",
    "\n",
    "\n",
    "Ensure the correct model files and plots are saved in paths:\n",
    "- ```results/CartPole-v1/cartpole_rbf.png``` Training result for Cartpole environment\n",
    "- ```results/CartPole-v1/cartpole_hd.png```  Training result for Cartpole environment\n",
    "- ```results/CartPole-v1/model/rbf.kpl``` Model for Cartpole environment\n",
    "\n",
    "\n",
    "<span style=\"color:red\"> **# IMPORTANT: DO NOT FORGET ANOTHER TASK IN ```ex4_dqn.ipynb```** </span>"
   ]
  },
  {
   "cell_type": "code",
   "execution_count": 34,
   "id": "6fa5830a",
   "metadata": {
    "deletable": false,
    "editable": false,
    "nbgrader": {
     "cell_type": "code",
     "checksum": "0df485c3a518d54d556aa23bfd41b439",
     "grade": true,
     "grade_id": "cell-2c6ecd048a50b678",
     "locked": true,
     "points": 0,
     "schema_version": 3,
     "solution": false,
     "task": false
    }
   },
   "outputs": [],
   "source": [
    "# Make sure that skip training is set to True before submission\n",
    "assert skip_training == True"
   ]
  },
  {
   "cell_type": "markdown",
   "id": "7dbc83ca-dbb0-4024-868e-6718a83e9bb2",
   "metadata": {
    "tags": []
   },
   "source": [
    "## 3.1 Feedback <a id='3.1'></a>\n",
    "\n",
    "In order to help the staff of the course as well as the forthcoming students, it would be great if you could answer to the following questions in your submission:"
   ]
  },
  {
   "cell_type": "markdown",
   "id": "eee27da8-ac20-488b-9d05-c03ed1f0f837",
   "metadata": {},
   "source": [
    "1) How much time did you spend solving this exercise? (change the ```hrs``` variable below to a floating point number representing the number of hours taken e.g. 5.43)"
   ]
  },
  {
   "cell_type": "code",
   "execution_count": 31,
   "id": "f4a4e19d-39b6-466a-8fea-b63f91916cf5",
   "metadata": {
    "tags": []
   },
   "outputs": [],
   "source": [
    "hrs = 1.5"
   ]
  },
  {
   "cell_type": "markdown",
   "id": "dc128a60-a227-41b5-b6e0-531de2c3df1b",
   "metadata": {},
   "source": [
    "2) Difficulty of each task/question from 1-5 (int or float)"
   ]
  },
  {
   "cell_type": "code",
   "execution_count": null,
   "id": "c797f06b-bf2d-4305-abe2-e2773c6fb3d8",
   "metadata": {
    "tags": []
   },
   "outputs": [],
   "source": [
    "T1_a = 4   # Implementing Hand feature \n",
    "T2_b = 3   # Implementing RBF feature \n",
    "Q1_1 = 2 # Question 1.1 Considering linear features (10 points)\n",
    "Q1_2 = 2 # Question 1.2 Experience replay (10 points)\n",
    "Q1_3 = 2 # Question 1.3 Grid vs Function (10 points)\n",
    "Q2 = 2 # Question 2 Policy visualization (10 points)"
   ]
  },
  {
   "cell_type": "markdown",
   "id": "e6612842-e130-4658-adef-181218023449",
   "metadata": {},
   "source": [
    "3) How well did you understand the content of the task/question from 1-5? (int or float)"
   ]
  },
  {
   "cell_type": "code",
   "execution_count": null,
   "id": "5a5ea255-ca3f-4ee2-860c-147ff88373f7",
   "metadata": {
    "tags": []
   },
   "outputs": [],
   "source": [
    "T1_a = 5   # Implementing Hand feature \n",
    "T2_b = 3   # Implementing RBF feature \n",
    "Q1_1 = 3 # Question 1.1 Considering linear features (10 points)\n",
    "Q1_2 = 2 # Question 1.2 Experience replay (10 points)\n",
    "Q1_3 = 3 # Question 1.3 Grid vs Function (10 points)\n",
    "Q2 = 4 # Question 2 Policy visualization (10 points)"
   ]
  },
  {
   "cell_type": "markdown",
   "id": "77831fe1-f18d-4036-97a9-ad6d1adadfa2",
   "metadata": {},
   "source": [
    "4) General feedback. Consider questions like:\n",
    "\n",
    "    - Did the content of the lecture relate well with the assignment?\n",
    "    - To what extent did you find the material to be potentially useful for your research and studies?\n",
    "    \n",
    "Please share any additional feedback, suggestions, or comments you have about the lecture, assignment, or course content. Your input is valuable in helping us improve the learning experience."
   ]
  },
  {
   "cell_type": "markdown",
   "id": "6c8038fb-e038-4eac-87f3-ff28e0f94e9d",
   "metadata": {
    "tags": []
   },
   "source": [
    "DOUBLE CLICK HERE TO EDIT, CLEAR THIS TEXT AND ANSWER HERE"
   ]
  }
 ],
 "metadata": {
  "kernelspec": {
   "display_name": ".venv (3.10.11)",
   "language": "python",
   "name": "python3"
  },
  "language_info": {
   "codemirror_mode": {
    "name": "ipython",
    "version": 3
   },
   "file_extension": ".py",
   "mimetype": "text/x-python",
   "name": "python",
   "nbconvert_exporter": "python",
   "pygments_lexer": "ipython3",
   "version": "3.10.11"
  }
 },
 "nbformat": 4,
 "nbformat_minor": 5
}
