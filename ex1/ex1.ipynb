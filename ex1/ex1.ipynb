{
 "cells": [
  {
   "cell_type": "markdown",
   "id": "5434b10e-25c3-4fd0-b8b8-a4f4671feaf7",
   "metadata": {
    "deletable": false,
    "editable": false,
    "nbgrader": {
     "cell_type": "markdown",
     "checksum": "9b1433e97d4756e2c9546a6a35a1562c",
     "grade": false,
     "grade_id": "cell-36af2f1e65d7b244",
     "locked": true,
     "schema_version": 3,
     "solution": false,
     "task": false
    },
    "tags": []
   },
   "source": [
    "\n",
    "<div class=\"alert alert-block alert-info\">\n",
    "   <h2 align=\"center\"> <center><b> Reinforcement Learning Assignment 1 - The Reinforcement Learning Framework</b></center></h2>\n",
    "\n",
    "<br>\n",
    "<center><font size=\"3\">This notebook is a part of teaching material for ELEC-E8125</font></center>\n",
    "<center><font size=\"3\">Sep 1, 2025 - Dec 1, 2025</font></center>\n",
    "<center><font size=\"3\">Aalto University</font></center>\n",
    "</div>\n",
    "\n",
    "\n",
    "<a id='TOC'></a>\n",
    "\n",
    "<div class=\"alert alert-block alert-success\">\n",
    "    \n",
    "# Table of contents\n",
    "* <a href='#1.'> 1. Introduction </a>\n",
    "* <a href='#1.1'> 1.1 Learning Objectives </a>\n",
    "* <a href='#1.2'> 1.2 Code Structure & Files </a>\n",
    "* <a href='#2.'> 2. Cartpole</a>\n",
    "* <a href='#3.'> 3. Reacher</a>\n",
    "* <a href='#4.'> 4. Submitting </a>\n",
    "* <a href='#4.1'> 4.1 Feedback </a>\n",
    "* <a href='#5.'> References</a>\n",
    "\n",
    "<a href='#T1'><b>Student Task 1.</b> Training a Model for Simple Cartpole Environment (10 points)</a>\\\n",
    "<a href='#Q1'><b>Student Question 1.1</b> Learning (10 points)</a>\\\n",
    "<a href='#T2'><b>Student Task 2.</b> Investigating Training Performance (12 points) </a>\\\n",
    "<a href='#Q2'><b>Student Question 2.1</b> Analysis of Training Performance (15 points) </a>\\\n",
    "<a href='#Q3'><b>Student Question 2.2</b> Stochasticity (10 points) </a>\\\n",
    "<a href='#T3'><b>Student Task 3.</b> Reward Functions (20 points) </a>\\\n",
    "<a href='#T4'><b>Student Task 4.</b> Visualizing Behavior </a>\\\n",
    "<a href='#Q4'><b>Student Question 4.1</b> Achieved Peformance (5 points)</a>\\\n",
    "<a href='#Q5'><b>Student Question 4.2</b> Analysis of Behaviour (9 points)</a>\\\n",
    "<a href='#Q6'><b>Student Question 4.3</b> Checking your knowledge about RL (9 points)</a>\n",
    "    \n",
    "**Total Points:** 100\n",
    "\n",
    "**Estimated runtime of all the cells:** 30 minutes "
   ]
  },
  {
   "cell_type": "markdown",
   "id": "a698be7a-714b-4e3d-b9d1-71b9fc9ae08b",
   "metadata": {
    "deletable": false,
    "editable": false,
    "nbgrader": {
     "cell_type": "markdown",
     "checksum": "ecb4bed28908246a16850b56315b8e8e",
     "grade": false,
     "grade_id": "cell-afbabf910b8ed9fd",
     "locked": true,
     "schema_version": 3,
     "solution": false,
     "task": false
    },
    "tags": []
   },
   "source": [
    "# 1. Introduction <a id='1.'></a>\n",
    "In this exercise we will take a first look at a reinforcement learning environment, its components and modify the reward function of a simple agent.\n",
    "\n",
    "In this notebook two environments are used: Cartpole and Reacher. The cartpole environment is taken from [OpenAI's Gym library](https://www.gymlibrary.dev/). The reacher environment is custom made (and defined in ```reacher.py```) but utilizes the Gym API.\n",
    "\n",
    "## 1.1 Learning Objectives: <a id='1.1'></a>\n",
    "- To become familiar with assignment structure and the agent-environment relationshp\n",
    "- To understand the effects of stochasticity\n",
    "- To understand and explore the effects of task definition\n",
    "\n",
    "## 1.2 Code Structure & Files <a id='1.2'></a>\n",
    "\n",
    "The ```train.py``` file instantiates the environment and the RL agent that acts in it. The ```agent.py``` file contains the implementation of a simple reinforcement learning agent; for the sake of this exercise, you can assume it to be a black box (you don’t need to understand how it works, although you are encouraged to study it in more detail). You don’t have to edit any other file other than ```ex1.ipynb``` to complete this exercise.\n",
    "```\n",
    "├───cfg                  # Config files for environments e.g. define the maximum number of steps in an episode.\n",
    "├───imgs                 # Images used in notebook\n",
    "├───results \n",
    "│   ├───logging          # Contains logged data\n",
    "│   ├───model            # Contains the policies learned\n",
    "│   └───video            # Contains videos for each environment\n",
    "│       └───CartPole-v0\n",
    "│       │  └───test      # Videos saved during testing\n",
    "│       │  └───train     # Videos saved during training\n",
    "│       └───SpinningReacher-v0\n",
    "│           └───test\n",
    "│           └───train\n",
    "│   ex1.ipynb            # Main assignment file containing tasks <---------\n",
    "│   feedback.ipynb       # Please give feedback in here\n",
    "│   README.ipynb         # This file\n",
    "│   agent.py             # Contains functions that govern the policy\n",
    "│   reacher.py           # Defines the reacher environment\n",
    "│   train.py             # Contains training and testing functions\n",
    "│   utils.py             # Contains useful functions \n",
    "```"
   ]
  },
  {
   "cell_type": "markdown",
   "id": "b0a27923-5d51-4017-9a19-13e69ff200e0",
   "metadata": {},
   "source": [
    "Please consult ```README.md``` for more details the assignments."
   ]
  },
  {
   "cell_type": "markdown",
   "id": "d9eb87e9-da62-4052-9c87-f6921e812986",
   "metadata": {
    "tags": []
   },
   "source": [
    "## Warnings:\n",
    "\n",
    "- Don’t copy and paste cells within a notebook. This will mess up the tracking metadata and prevent autograding from working.\n",
    "- Only add new cells using the '+' button in the upper toolbar and do not split cells.\n",
    "- Be cautious about things such as copying the whole notebook to Colab to work on it. This has sometimes resulted in removing all notebook metadata, making autograding impossible."
   ]
  },
  {
   "cell_type": "code",
   "execution_count": 74,
   "id": "f097ab74",
   "metadata": {
    "tags": []
   },
   "outputs": [],
   "source": [
    "skip_training = True  # Set this flag to True before validation and submission"
   ]
  },
  {
   "cell_type": "code",
   "execution_count": null,
   "id": "cc004e57",
   "metadata": {
    "deletable": false,
    "editable": false,
    "nbgrader": {
     "cell_type": "code",
     "checksum": "ecf78d754d0b1f6eb047222f9e14a0e4",
     "grade": true,
     "grade_id": "cell-8fb587d5abdec975",
     "locked": true,
     "points": 0,
     "schema_version": 3,
     "solution": false,
     "task": false
    },
    "tags": []
   },
   "outputs": [],
   "source": []
  },
  {
   "cell_type": "code",
   "execution_count": 2,
   "id": "c8cb8a88",
   "metadata": {
    "tags": []
   },
   "outputs": [],
   "source": [
    "from pathlib import Path # to find directory\n",
    "work_dir = Path().cwd()/'results'\n",
    "import os\n",
    "\n",
    "import train as t # for training\n",
    "import utils as u # helper functions\n",
    "\n",
    "import numpy as np # The numpy library can be used for math functions\n",
    "import torch # Used to manage policy and learning\n",
    "from IPython.display import Video, display, HTML # to display videos"
   ]
  },
  {
   "cell_type": "markdown",
   "id": "82b2e9eb-638f-4da6-8905-9e86c6b307ea",
   "metadata": {
    "deletable": false,
    "editable": false,
    "nbgrader": {
     "cell_type": "markdown",
     "checksum": "6468fd86adbbe289e7e8853d2b1cdf8b",
     "grade": false,
     "grade_id": "cell-56c1faa5635120ab",
     "locked": true,
     "schema_version": 3,
     "solution": false,
     "task": false
    }
   },
   "source": [
    "# 2. Cartpole <a id='2.'></a>\n",
    "\n",
    "The Cartpole environment consists of a cart and a pole mounted on top of it, as shown in Figure 1. The cart can move either to the left or to the right. The goal is to balance the pole in a vertical position in order to prevent it from falling down. The cart should also stay within limited distance from the center (trying to move outside screen boundaries is considered a failure).\n",
    "\n",
    "<figure>\n",
    "<img src=\"imgs/cartpole.png\" width=\"400px\">\n",
    "<figcaption style=\"text-align: center\"> Figure 1: The Cartpole environment  </figcaption>\n",
    "</figure>\n",
    "\n",
    "The state and the observation are four element vectors:\n",
    "\n",
    "$$\n",
    "o=s=\\left(\\begin{array}{c}\n",
    "x \\\\\n",
    "\\dot{x} \\\\\n",
    "\\theta \\\\\n",
    "\\dot{\\theta}\n",
    "\\end{array}\\right) \\text {, }\n",
    "$$\n",
    "\n",
    "where $x$ is the position of the cart, $\\dot{x}$ is its velocity, $\\theta$ is the angle of the pole w.r.t. the vertical axis, and $\\dot{\\theta}$ is the angular velocity of the pole.\n",
    "\n",
    "In the standard formulation, a reward of 1 is given for every timestep the pole remains balanced. Upon failing (the pole falls) or completing the task, an episode is finished.\n",
    "\n",
    "The training script will record videos of the agent’s learning progress during training, and the recorded videos are saved to ```results/video/CartPole-v0/train```. By default, the training information is saved to ```results/logging/CartPole-v0_{seed}.csv```. When the training is finished, the models are saved to ```results/model/Cartpole-v0_params.pt```. Videos of the agent’s behaviour during testing are saved to ```results/video/CartPole-v0/test```."
   ]
  },
  {
   "cell_type": "markdown",
   "id": "4287c9ec-5ca6-45e0-9267-cf16645327dc",
   "metadata": {
    "deletable": false,
    "editable": false,
    "nbgrader": {
     "cell_type": "markdown",
     "checksum": "a1c02d0e9b975ce9813ef40bd06998d0",
     "grade": false,
     "grade_id": "cell-4902974772926f28",
     "locked": true,
     "schema_version": 3,
     "solution": false,
     "task": false
    },
    "tags": []
   },
   "source": [
    "<a id='T1'></a>\n",
    "<div class=\" alert alert-warning\">\n",
    "    <h3><b>Student Task 1.</b> Training a Model for Simple Cartpole Environment (10 points) </h3> \n",
    "\n",
    "This task requires you to train a model for the cartpole environment with 100 timesteps per episode. Then test the model for 500 timesteps and report average reward. To do this, you can simply run the code in the cells below. \n",
    "\n",
    "To see a full list of options that can be passed through ```cfg_args``` consult the configuation file found in ```cfg/```.\n",
    "\n",
    "- **1st** Run training over 100 steps per episode by using ```t.train``` function. See the cell below. The training will run for 500 episodes automatically.\n",
    "- **2nd:** Export the training plot ```episodesep_reward``` from logged data (.csv format).\n",
    "- **3rd:** Run testing over 500 steps by using ```t.test``` function. See the cell below. See the cell below. Notice ```max_episode_steps``` parameter. \n",
    "- **4th:** **Manually** report the average reward after the cells have completed execution.\n",
    "    \n",
    "🔝\t<a href='#TOC'><b>Table of Contents</b></a>\n",
    "</div>\n"
   ]
  },
  {
   "cell_type": "code",
   "execution_count": 3,
   "id": "e0481176",
   "metadata": {
    "tags": []
   },
   "outputs": [
    {
     "name": "stdout",
     "output_type": "stream",
     "text": [
      "Numpy/Torch/Random Seed:  1\n"
     ]
    },
    {
     "name": "stderr",
     "output_type": "stream",
     "text": [
      "/opt/software/lib/python3.10/site-packages/gymnasium/wrappers/record_video.py:87: UserWarning: \u001b[33mWARN: Overwriting existing videos at /notebooks/rl2025/ex1/results/video/CartPole-v1/train folder (try specifying a different `video_folder` for the `RecordVideo` wrapper if this is not desired)\u001b[0m\n",
      "  logger.warn(\n"
     ]
    },
    {
     "name": "stdout",
     "output_type": "stream",
     "text": [
      "Configuration Settings: {'exp_name': 'ex1', 'seed': 1, 'env_name': 'CartPole-v1', 'model_name': 'CartPole-v1', 'max_episode_steps': 100, 'train_episodes': 500, 'batch_size': 64, 'min_update_samples': 2000, 'testing': False, 'model_path': 'default', 'save_video': True, 'save_model': True, 'save_logging': True, 'silent': False, 'use_wandb': True, 'run_suffix': 0}\n",
      "Training device: cpu\n",
      "Observation space dimensions: 4\n",
      "Action space dimensions: 2\n",
      "\n",
      "Episode 0 finished. Total reward: 14.0 (14 timesteps)\n",
      "Episode 5 finished. Total reward: 38.0 (38 timesteps)\n",
      "Episode 10 finished. Total reward: 14.0 (14 timesteps)\n",
      "Episode 15 finished. Total reward: 83.0 (83 timesteps)\n",
      "Episode 20 finished. Total reward: 12.0 (12 timesteps)\n",
      "Episode 25 finished. Total reward: 18.0 (18 timesteps)\n",
      "Episode 30 finished. Total reward: 36.0 (36 timesteps)\n",
      "Episode 35 finished. Total reward: 16.0 (16 timesteps)\n",
      "Episode 40 finished. Total reward: 29.0 (29 timesteps)\n",
      "Episode 45 finished. Total reward: 15.0 (15 timesteps)\n",
      "Episode 50 finished. Total reward: 15.0 (15 timesteps)\n",
      "Episode 55 finished. Total reward: 27.0 (27 timesteps)\n",
      "Episode 60 finished. Total reward: 33.0 (33 timesteps)\n",
      "Episode 65 finished. Total reward: 11.0 (11 timesteps)\n",
      "Episode 70 finished. Total reward: 27.0 (27 timesteps)\n",
      "Episode 75 finished. Total reward: 13.0 (13 timesteps)\n",
      "Episode 80 finished. Total reward: 9.0 (9 timesteps)\n",
      "Episode 85 finished. Total reward: 19.0 (19 timesteps)\n",
      "Updating the policy...\n",
      "Updating finished!\n",
      "Episode 90 finished. Total reward: 58.0 (58 timesteps)\n",
      "Episode 95 finished. Total reward: 13.0 (13 timesteps)\n",
      "Episode 100 finished. Total reward: 17.0 (17 timesteps)\n",
      "Episode 105 finished. Total reward: 17.0 (17 timesteps)\n",
      "Episode 110 finished. Total reward: 27.0 (27 timesteps)\n",
      "Episode 115 finished. Total reward: 9.0 (9 timesteps)\n",
      "Episode 120 finished. Total reward: 17.0 (17 timesteps)\n",
      "Episode 125 finished. Total reward: 13.0 (13 timesteps)\n",
      "Episode 130 finished. Total reward: 26.0 (26 timesteps)\n",
      "Episode 135 finished. Total reward: 9.0 (9 timesteps)\n",
      "Episode 140 finished. Total reward: 89.0 (89 timesteps)\n",
      "Episode 145 finished. Total reward: 14.0 (14 timesteps)\n",
      "Episode 150 finished. Total reward: 30.0 (30 timesteps)\n",
      "Episode 155 finished. Total reward: 27.0 (27 timesteps)\n",
      "Episode 160 finished. Total reward: 23.0 (23 timesteps)\n",
      "Updating the policy...\n",
      "Updating finished!\n",
      "Episode 165 finished. Total reward: 24.0 (24 timesteps)\n",
      "Episode 170 finished. Total reward: 28.0 (28 timesteps)\n",
      "Episode 175 finished. Total reward: 32.0 (32 timesteps)\n",
      "Episode 180 finished. Total reward: 27.0 (27 timesteps)\n",
      "Episode 185 finished. Total reward: 65.0 (65 timesteps)\n",
      "Episode 190 finished. Total reward: 99.0 (99 timesteps)\n",
      "Episode 195 finished. Total reward: 30.0 (30 timesteps)\n",
      "Episode 200 finished. Total reward: 25.0 (25 timesteps)\n",
      "Episode 205 finished. Total reward: 29.0 (29 timesteps)\n",
      "Episode 210 finished. Total reward: 27.0 (27 timesteps)\n",
      "Updating the policy...\n",
      "Updating finished!\n",
      "Episode 215 finished. Total reward: 100.0 (100 timesteps)\n",
      "Episode 220 finished. Total reward: 100.0 (100 timesteps)\n",
      "Episode 225 finished. Total reward: 59.0 (59 timesteps)\n",
      "Episode 230 finished. Total reward: 74.0 (74 timesteps)\n",
      "Episode 235 finished. Total reward: 49.0 (49 timesteps)\n",
      "Episode 240 finished. Total reward: 96.0 (96 timesteps)\n",
      "Episode 245 finished. Total reward: 73.0 (73 timesteps)\n",
      "Updating the policy...\n",
      "Updating finished!\n",
      "Episode 250 finished. Total reward: 100.0 (100 timesteps)\n",
      "Episode 255 finished. Total reward: 100.0 (100 timesteps)\n",
      "Episode 260 finished. Total reward: 52.0 (52 timesteps)\n",
      "Episode 265 finished. Total reward: 100.0 (100 timesteps)\n",
      "Episode 270 finished. Total reward: 18.0 (18 timesteps)\n",
      "Updating the policy...\n",
      "Updating finished!\n",
      "Episode 275 finished. Total reward: 100.0 (100 timesteps)\n",
      "Episode 280 finished. Total reward: 93.0 (93 timesteps)\n",
      "Episode 285 finished. Total reward: 100.0 (100 timesteps)\n",
      "Episode 290 finished. Total reward: 100.0 (100 timesteps)\n",
      "Updating the policy...\n",
      "Updating finished!\n",
      "Episode 295 finished. Total reward: 100.0 (100 timesteps)\n",
      "Episode 300 finished. Total reward: 52.0 (52 timesteps)\n",
      "Episode 305 finished. Total reward: 100.0 (100 timesteps)\n",
      "Episode 310 finished. Total reward: 100.0 (100 timesteps)\n",
      "Updating the policy...\n",
      "Updating finished!\n",
      "Episode 315 finished. Total reward: 100.0 (100 timesteps)\n",
      "Episode 320 finished. Total reward: 100.0 (100 timesteps)\n",
      "Episode 325 finished. Total reward: 100.0 (100 timesteps)\n",
      "Episode 330 finished. Total reward: 100.0 (100 timesteps)\n",
      "Episode 335 finished. Total reward: 40.0 (40 timesteps)\n",
      "Episode 340 finished. Total reward: 42.0 (42 timesteps)\n",
      "Updating the policy...\n",
      "Updating finished!\n",
      "Episode 345 finished. Total reward: 100.0 (100 timesteps)\n",
      "Episode 350 finished. Total reward: 100.0 (100 timesteps)\n",
      "Episode 355 finished. Total reward: 100.0 (100 timesteps)\n",
      "Episode 360 finished. Total reward: 100.0 (100 timesteps)\n",
      "Updating the policy...\n",
      "Updating finished!\n",
      "Episode 365 finished. Total reward: 100.0 (100 timesteps)\n",
      "Episode 370 finished. Total reward: 100.0 (100 timesteps)\n",
      "Episode 375 finished. Total reward: 100.0 (100 timesteps)\n",
      "Episode 380 finished. Total reward: 100.0 (100 timesteps)\n",
      "Updating the policy...\n",
      "Updating finished!\n",
      "Episode 385 finished. Total reward: 100.0 (100 timesteps)\n",
      "Episode 390 finished. Total reward: 100.0 (100 timesteps)\n",
      "Episode 395 finished. Total reward: 100.0 (100 timesteps)\n",
      "Episode 400 finished. Total reward: 35.0 (35 timesteps)\n",
      "Updating the policy...\n",
      "Updating finished!\n",
      "Episode 405 finished. Total reward: 100.0 (100 timesteps)\n",
      "Episode 410 finished. Total reward: 100.0 (100 timesteps)\n",
      "Episode 415 finished. Total reward: 100.0 (100 timesteps)\n",
      "Episode 420 finished. Total reward: 100.0 (100 timesteps)\n",
      "Episode 425 finished. Total reward: 100.0 (100 timesteps)\n",
      "Updating the policy...\n",
      "Updating finished!\n",
      "Episode 430 finished. Total reward: 100.0 (100 timesteps)\n",
      "Episode 435 finished. Total reward: 100.0 (100 timesteps)\n",
      "Episode 440 finished. Total reward: 100.0 (100 timesteps)\n",
      "Episode 445 finished. Total reward: 100.0 (100 timesteps)\n",
      "Updating the policy...\n",
      "Updating finished!\n",
      "Episode 450 finished. Total reward: 100.0 (100 timesteps)\n",
      "Episode 455 finished. Total reward: 98.0 (98 timesteps)\n",
      "Episode 460 finished. Total reward: 98.0 (98 timesteps)\n",
      "Episode 465 finished. Total reward: 98.0 (98 timesteps)\n",
      "Updating the policy...\n",
      "Updating finished!\n",
      "Episode 470 finished. Total reward: 100.0 (100 timesteps)\n",
      "Episode 475 finished. Total reward: 90.0 (90 timesteps)\n",
      "Episode 480 finished. Total reward: 100.0 (100 timesteps)\n",
      "Episode 485 finished. Total reward: 100.0 (100 timesteps)\n",
      "Updating the policy...\n",
      "Updating finished!\n",
      "Episode 490 finished. Total reward: 100.0 (100 timesteps)\n",
      "Episode 495 finished. Total reward: 100.0 (100 timesteps)\n",
      "Episode 500 finished. Total reward: 100.0 (100 timesteps)\n",
      "Model saved to /notebooks/rl2025/ex1/results/model/CartPole-v1_params.pt\n",
      "------Training finished.------\n"
     ]
    }
   ],
   "source": [
    "if not skip_training:\n",
    "    t.train(cfg_path=Path().cwd()/'cfg'/'cartpole_v1.yaml', cfg_args=dict(seed=1, max_episode_steps=100, model_name=\"CartPole-v1\")) # < 5 mins"
   ]
  },
  {
   "cell_type": "code",
   "execution_count": 4,
   "id": "1f8cd415-c26a-44cf-9f76-f80237cdd918",
   "metadata": {},
   "outputs": [
    {
     "data": {
      "image/png": "[encoded data removed]",
      "text/plain": [
       "<Figure size 450x300 with 1 Axes>"
      ]
     },
     "metadata": {},
     "output_type": "display_data"
    }
   ],
   "source": [
    "if not skip_training:\n",
    "    u.plot_reward(Path().cwd()/'results'/'logging'/'CartPole-v1_1.csv', 'CartPole')"
   ]
  },
  {
   "cell_type": "markdown",
   "id": "0c9e3a0d-97e4-4b2d-ab9e-0e7110525c28",
   "metadata": {
    "deletable": false,
    "editable": false,
    "nbgrader": {
     "cell_type": "markdown",
     "checksum": "4b2dc935e91cccb3f0345d4c423e7190",
     "grade": false,
     "grade_id": "cell-64fbeb2b60de708a",
     "locked": true,
     "schema_version": 3,
     "solution": false,
     "task": false
    }
   },
   "source": [
    "The command below will evaluate the trained model in 10 episodes and report the average reward (and episode length) for these 10 episodes. Do not delete the cell below as it is used for grading."
   ]
  },
  {
   "cell_type": "code",
   "execution_count": 5,
   "id": "95418d8d",
   "metadata": {
    "deletable": false,
    "editable": false,
    "nbgrader": {
     "cell_type": "code",
     "checksum": "8b492043c94a6382f5ff92b768d1cc89",
     "grade": true,
     "grade_id": "cell-8b1bd0d092f865b7",
     "locked": true,
     "points": 10,
     "schema_version": 3,
     "solution": false,
     "task": false
    },
    "tags": []
   },
   "outputs": [
    {
     "name": "stdout",
     "output_type": "stream",
     "text": [
      "Numpy/Torch/Random Seed:  688\n",
      "Loading model from /notebooks/rl2025/ex1/results/model/CartPole-v1_params.pt ...\n",
      "Testing...\n",
      "Test ep reward: 117.0 seed: 434\n",
      "Test ep reward: 136.0 seed: 308\n",
      "Test ep reward: 125.0 seed: 922\n",
      "Test ep reward: 121.0 seed: 231\n",
      "Test ep reward: 116.0 seed: 961\n",
      "Test ep reward: 133.0 seed: 363\n",
      "Test ep reward: 124.0 seed: 626\n",
      "Test ep reward: 125.0 seed: 905\n",
      "Test ep reward: 133.0 seed: 497\n",
      "Test ep reward: 129.0 seed: 816\n",
      "Average test reward: 125.9 episode length: 125.9\n"
     ]
    }
   ],
   "source": [
    "%%capture --no-stdout\n",
    "assert t.test(episodes=10, cfg_path=Path().cwd()/'cfg'/'cartpole_v1.yaml', \n",
    "        cfg_args=dict(testing=True, save_video=(not skip_training), save_model=False, seed=None, max_episode_steps=500,model_name=\"CartPole-v1\")) > 100"
   ]
  },
  {
   "cell_type": "markdown",
   "id": "37b6826e-7aa4-4160-bafb-9a6016eea7ee",
   "metadata": {},
   "source": [
    "Report below the average reward after testing the model"
   ]
  },
  {
   "cell_type": "markdown",
   "id": "b1116cee-5a2a-42ab-b964-c0d3b3b929e6",
   "metadata": {
    "deletable": false,
    "nbgrader": {
     "cell_type": "markdown",
     "checksum": "e556373c147e8173d8451bd1c237691e",
     "grade": true,
     "grade_id": "cell-24f7f8d91599a232",
     "locked": false,
     "points": 0,
     "schema_version": 3,
     "solution": true,
     "task": false
    }
   },
   "source": [
    "125.9"
   ]
  },
  {
   "cell_type": "markdown",
   "id": "a5b5a013-e6a3-4bb1-8d6c-aa543c9ba4a1",
   "metadata": {
    "deletable": false,
    "editable": false,
    "nbgrader": {
     "cell_type": "markdown",
     "checksum": "9f2c06a70d499a71cbcb437b5400a3c1",
     "grade": false,
     "grade_id": "cell-17b4eb8d711f2770",
     "locked": true,
     "schema_version": 3,
     "solution": false,
     "task": false
    }
   },
   "source": [
    "The agent acting in the environment can be seen using the following command. Change the ```path``` to pick the episode you want to visualize. Bear in mind by default video saving for training is taken every 50 episodes."
   ]
  },
  {
   "cell_type": "code",
   "execution_count": 7,
   "id": "ee7bc0ff",
   "metadata": {
    "tags": []
   },
   "outputs": [
    {
     "name": "stdout",
     "output_type": "stream",
     "text": [
      "test/ ex1-episode-0.mp4\n"
     ]
    },
    {
     "data": {
      "text/html": [
       "<div style=\"width: 200px; height: 100px;; border: 1px solid #FF5733;\"><video loop autoplay  width=\"200\"  height=\"100\">\n",
       " <source src=\"data:video/mp4;base64,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\" type=\"video/mp4\">\n",
       " Your browser does not support the video tag.\n",
       " </video></div>"
      ],
      "text/plain": [
       "<IPython.core.display.HTML object>"
      ]
     },
     "metadata": {},
     "output_type": "display_data"
    },
    {
     "name": "stdout",
     "output_type": "stream",
     "text": [
      "test/ ex1-episode-50.mp4\n"
     ]
    },
    {
     "data": {
      "text/html": [
       "<div style=\"width: 200px; height: 100px;; border: 1px solid #FF5733;\"><video loop autoplay  width=\"200\"  height=\"100\">\n",
       " <source src=\"data:video/mp4;base64,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\" type=\"video/mp4\">\n",
       " Your browser does not support the video tag.\n",
       " </video></div>"
      ],
      "text/plain": [
       "<IPython.core.display.HTML object>"
      ]
     },
     "metadata": {},
     "output_type": "display_data"
    },
    {
     "name": "stdout",
     "output_type": "stream",
     "text": [
      "test/ ex1-episode-100.mp4\n"
     ]
    },
    {
     "data": {
      "text/html": [
       "<div style=\"width: 200px; height: 100px;; border: 1px solid #FF5733;\"><video loop autoplay  width=\"200\"  height=\"100\">\n",
       " <source src=\"data:video/mp4;base64,AAAAIGZ0eXBpc29tAAACAGlzb21pc28yYXZjMW1wNDEAAAAIZnJlZQAADERtZGF0AAACrwYF//+r3EXpvebZSLeWLNgg2SPu73gyNjQgLSBjb3JlIDE2NCByMzA5NSBiYWVlNDAwIC0gSC4yNjQvTVBFRy00IEFWQyBjb2RlYyAtIENvcHlsZWZ0IDIwMDMtMjAyMiAtIGh0dHA6Ly93d3cudmlkZW9sYW4ub3JnL3gyNjQuaHRtbCAtIG9wdGlvbnM6IGNhYmFjPTEgcmVmPTMgZGVibG9jaz0xOjA6MCBhbmFseXNlPTB4MzoweDExMyBtZT1oZXggc3VibWU9NyBwc3k9MSBwc3lfcmQ9MS4wMDowLjAwIG1peGVkX3JlZj0xIG1lX3JhbmdlPTE2IGNocm9tYV9tZT0xIHRyZWxsaXM9MSA4eDhkY3Q9MSBjcW09MCBkZWFkem9uZT0yMSwxMSBmYXN0X3Bza2lwPTEgY2hyb21hX3FwX29mZnNldD0tMiB0aHJlYWRzPTEyIGxvb2thaGVhZF90aHJlYWRzPTIgc2xpY2VkX3RocmVhZHM9MCBucj0wIGRlY2ltYXRlPTEgaW50ZXJsYWNlZD0wIGJsdXJheV9jb21wYXQ9MCBjb25zdHJhaW5lZF9pbnRyYT0wIGJmcmFtZXM9MyBiX3B5cmFtaWQ9MiBiX2FkYXB0PTEgYl9iaWFzPTAgZGlyZWN0PTEgd2VpZ2h0Yj0xIG9wZW5fZ29wPTAgd2VpZ2h0cD0yIGtleWludD0yNTAga2V5aW50X21pbj0yNSBzY2VuZWN1dD00MCBpbnRyYV9yZWZyZXNoPTAgcmNfbG9va2FoZWFkPTQwIHJjPWNyZiBtYnRyZWU9MSBjcmY9MjMuMCBxY29tcD0wLjYwIHFwbWluPTAgcXBtYXg9NjkgcXBzdGVwPTQgaXBfcmF0aW89MS40MCBhcT0xOjEuMDAAgAAAAqRliIQAI//+9Sf4FNQS/Evha2Ht1LdJMNFwsS2z0ACHoUAAAAMAB/5MpR0dNau8UAAAEMADgB9BlB5iJirFQJbQWBEM4ALgLKyv+3N6PVptDQHcDjw/bwH/Y6yudaYBNbQ+dWI3vXhPdWGijruug5/U51OFB6Fj/GuFBZF39PmQSD5yWXRywPy9aVOD29tq+SacCJacKGbkHHjjjceuWU/a3wgOygFZYCVhBHWqqgWslqF9SfErd0G2WADD3wiHrw4rp8/Bfj6Yt93m1fJXl7Uz029gIy0MzuRMN6Q2TCZfF6fLnkBOxFP2yKLgTSHZ9SKpQyO43iJkDBjwBFYfEecDEL4O9XLTBvXrGFEbf4f0cNKYnie2hGSFMsKCHq00ZcTReAZtWaku5L6H3jJz8km/DlPcQO+lL71SHxIcHkG82plsZ6BpL0AKrIaAmTXMdsDrjc2SUPn/TuNvI99GpEb/4HwdS86etGoFAK+sh24W+x/KQimhBiZx3QJaomO+aRlCWWY/Os3s45mZ8UR56klec/Ciiv25Zf0mDSbCBu5j3UxUyCCRoi5RUw1YjnMOHAXa9nv6wc+RpdYJ9RwmxrlKx7jCCelqqxgUfSJjyEDIPpxV8b6nDp9f6PAqQTpvRMoT/7eUQCPiRoHCokPJFe7acphPubaEe0Im8J9Pi460Lj+rhSh8EhomkBc9gW61t0amv92m/+N1F3ef24NIBjcYRCk0V8IjpghWPU6/J47WPlfMrzP2ErOtyST98iLQKV80D6VcYZkwghWihwCOznPxjLMzDMVmPxA8AACzkovaAl4yJuJ9ER3VQPoaZEigWX7kEjsmDwoikEpb7uK5pWN0zZV0Yvc8k4+TTrTvR0iwGRYNbKvJiCZ3+gPtAAADAAADAALDAAABDUGaImxCf/3xAAADArXJ9gxDR+i4EboAJ3DzGGI8M/Kpvj6VjmpJGX69yv7vRYu1cFHK0HNLK6n18K/on9yLKzOG4LR2ssqiPT5jquLL/8jrKzjIA8VxT43gBPUMqCSCT9h1wnZfo9WIKt1eB/AmfgvUxUgY27Pu15jxuhw99JpWujITnr9MkS8K2ql+zOZ/GfCPfRL1zQ2fXNwoTuBe0Q+zprlHDGeSZiNA2mv9R9yZoO7WyCL5uj8Ts8Og4NvxwAk/mg4QxEqRpFhkV1qrmg6uwFrxDIt9obgoWFNj+J1Z1QeqL03r20FiH2bN+ISmZZ3ebHkF+paEO53/h/4oExaQpmXIx5TPGR59FzNZAAAAMAGeQXkf/wAAJLHBDcaCXIYtB/3MpZ5MghbPZ8Rq9D08qROxiBCkI6JoYJmh1iUjPwAAAHhBmkY8IZMphCv//jhAAAEM+t8Vdc+pDpAaMFe3gBwjI2w2Wcr036Qc05c0mC+uyL+xVNkObs/nS+790JBb7l+H23xuy57Gz7Sx7QPeqbM9noElgetFaBTfRxs6DZMNI2tlfe6+2Z14wvf4kppP2Fn3v02C6+VQ1WgAAAApQZ5kalPCPwAAFrxQtKvM+Zp3yikmYYLASEPe/iCIdAQtUtCTgytwFJEAAAAsAZ6DdEf/AAANzhNEHENHOC2uEwCZh5xKuvRZAA+41bOKyhSNaNnOaf64om8AAAAdAZ6Fakf/AAAjsisNuyOPw8cP6UttTDGf0slToIEAAAAXQZqKSahBaJlMCP/8hAAAAwAArGhnJekAAAA5QZ6oRREsI/8AAAhthB/UtJ3Sj0pAnHEmEGau7fOmTLywZ/U0o0KALBiCYe8UFmdPuWgL/P8+MGzAAAAAGwGex3RH/wAABRxbeZJPdykkh8fe9ewZtPigYAAAABwBnslqR/8AAAUfNNWxkwvP68AVDV/Nlgs3w2zBAAAAl0Gay0moQWyZTAhP//3xAAADAqC0vQAN1hvdeAenPl1AYISQ74CmWKYjLGYUrl0kmdHR9YAYsFGZpKCqmz4tkSiqAgkhCd1Z7UTCpNje13QrMa0YDy2crdUjbz1NfQaVVtLaIc0jGrWZs7SULfHtiUz+7Wp0MzywYGvELZcXQtyVRGHEO+RLLGVBrQPx/zxJGfWL/vb4aYAAAADQQZrvSeEKUmUwIR/94QAABBNKBe8AcmCUPdOs1b5qw/PtCB7af2tQNwZRAMGcUoXdu4KHH7sT5CYDG3Pf8wkhpmcdd3p0DVkRjt2WYJcEeKuiu5uR94PZ9IbwC5PQIfRO6ttv/9WPdVBuZtEeF8Xhpi9OWr5KlNRKdbvXh8QlY1OBGZ9q2OFdw3Kh3zh6c7csdSzTCgxAuC8UICv332GHUhxQD9fgYVxQwqsBJPrvA903tOLgt+bh2N9Rc12M8FX+ka0iwI+JAcABuzZBNMRYtgAAAFBBnw1FNEwj/wAAFrtfbrRoLcLgBat3YsN8sa74qpJrnEVNzxI500Bj+gwyboct1IlL/nWWbaKCZgw5fqRELDc5MV7/MEj1plmYj5Yal7bluQAAAEABnyx0R/8AACPAuN+/7X6IAC4YPreaQe9qAHCiswQPw6wsR8GhBIrSR7v1in34hhTdCMoR0qERFHhLutq/vVhbAAAARwGfLmpH/wAAI64xL89cjYZa6MkVnsLpbF95T9CzWaVBXgZUEsLVMfqJVb8u6TZMTmLeAF+g/+/JxxJxIb/lSii8giTGnu2vAAAAvUGbM0moQWiZTAj//IQAAA/Tq/hhoWOr3c2SPFBuFrMEFAZ0oAWy2QQn8kQRvayZshwdiIa1LKkGYL+VuZ/lv+iDzbEcjb/esuinVHKoDMyjuKv+OfP+aTFqRHSSgYfmJL6cOtARLvYGY+RAox7ABU8EIlk0QBb42QYai0rH4yqQSumd/+L3CcozsVCV2meYznp18XM+Y18mS3sAVy/JBrMp7LZpf9d8Q5bOmFWEs3UEG1zOgzv9Mf8lMyABgAAAAG1Bn1FFESwj/wAAFrsixGQI0LpxFjfcSoHP784JdMqOLMV+1t0XUpSb2/gS0dlGhjMj3jlJlFmkyAAGtAwjK/1KpXN+kBpXb04T8u9DWWcfKY/Vnt/X3/mPH8HqjXI5t/GdSiaqZ0witK+zmLDaAAAASQGfcHRH/wAAI8AK1qdtY0t50Yqb9Nc7IdibCxju4kdDnCTMs4IHiycjCcMFzOxASLYSbm1ENmt8SE63ZSgKQMJTKUMOrs+hwk0AAAA2AZ9yakf/AAAjsaqJ2wxb7ad18vj99xfrtnaKhzxXyMd0Oaerbhcb1PriUsoJY7kRc+mSdkGwAAAEG21vb3YAAABsbXZoZAAAAAAAAAAAAAAAAAAAA+gAAAGQAAEAAAEAAAAAAAAAAAAAAAABAAAAAAAAAAAAAAAAAAAAAQAAAAAAAAAAAAAAAAAAQAAAAAAAAAAAAAAAAAAAAAAAAAAAAAAAAAAAAAAAAAIAAANFdHJhawAAAFx0a2hkAAAAAwAAAAAAAAAAAAAAAQAAAAAAAAGQAAAAAAAAAAAAAAAAAAAAAAABAAAAAAAAAAAAAAAAAAAAAQAAAAAAAAAAAAAAAAAAQAAAAAJYAAABkAAAAAAAJGVkdHMAAAAcZWxzdAAAAAAAAAABAAABkAAAAgAAAQAAAAACvW1kaWEAAAAgbWRoZAAAAAAAAAAAAAAAAAAAMgAAABQAVcQAAAAAAC1oZGxyAAAAAAAAAAB2aWRlAAAAAAAAAAAAAAAAVmlkZW9IYW5kbGVyAAAAAmhtaW5mAAAAFHZtaGQAAAABAAAAAAAAAAAAAAAkZGluZgAAABxkcmVmAAAAAAAAAAEAAAAMdXJsIAAAAAEAAAIoc3RibAAAALBzdHNkAAAAAAAAAAEAAACgYXZjMQAAAAAAAAABAAAAAAAAAAAAAAAAAAAAAAJYAZAASAAAAEgAAAAAAAAAARVMYXZjNjAuMzEuMTAyIGxpYngyNjQAAAAAAAAAAAAAABj//wAAADZhdmNDAWQAH//hABlnZAAfrNlAmDPl4QAAAwABAAADAGQPGDGWAQAGaOvjyyLA/fj4AAAAABRidHJ0AAAAAAAA9LAAAPSwAAAAGHN0dHMAAAAAAAAAAQAAABQAAAEAAAAAFHN0c3MAAAAAAAAAAQAAAAEAAACwY3R0cwAAAAAAAAAUAAAAAQAAAgAAAAABAAADAAAAAAEAAAEAAAAAAQAABQAAAAABAAACAAAAAAEAAAAAAAAAAQAAAQAAAAABAAAFAAAAAAEAAAIAAAAAAQAAAAAAAAABAAABAAAAAAEAAAIAAAAAAQAABQAAAAABAAACAAAAAAEAAAAAAAAAAQAAAQAAAAABAAAFAAAAAAEAAAIAAAAAAQAAAAAAAAABAAABAAAAABxzdHNjAAAAAAAAAAEAAAABAAAAFAAAAAEAAABkc3RzegAAAAAAAAAAAAAAFAAABVsAAAERAAAANAAAAHwAAAAtAAAAMAAAACEAAAAbAAAAPQAAAB8AAAAgAAAAmwAAANQAAABUAAAARAAAAEsAAADBAAAAcQAAAE0AAAA6AAAAFHN0Y28AAAAAAAAAAQAAADAAAABidWR0YQAAAFptZXRhAAAAAAAAACFoZGxyAAAAAAAAAABtZGlyYXBwbAAAAAAAAAAAAAAAAC1pbHN0AAAAJal0b28AAAAdZGF0YQAAAAEAAAAATGF2ZjYwLjE2LjEwMA==\" type=\"video/mp4\">\n",
       " Your browser does not support the video tag.\n",
       " </video></div>"
      ],
      "text/plain": [
       "<IPython.core.display.HTML object>"
      ]
     },
     "metadata": {},
     "output_type": "display_data"
    },
    {
     "name": "stdout",
     "output_type": "stream",
     "text": [
      "test/ ex1-episode-150.mp4\n"
     ]
    },
    {
     "data": {
      "text/html": [
       "<div style=\"width: 200px; height: 100px;; border: 1px solid #FF5733;\"><video loop autoplay  width=\"200\"  height=\"100\">\n",
       " <source src=\"data:video/mp4;base64,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\" type=\"video/mp4\">\n",
       " Your browser does not support the video tag.\n",
       " </video></div>"
      ],
      "text/plain": [
       "<IPython.core.display.HTML object>"
      ]
     },
     "metadata": {},
     "output_type": "display_data"
    },
    {
     "name": "stdout",
     "output_type": "stream",
     "text": [
      "test/ ex1-episode-200.mp4\n"
     ]
    },
    {
     "data": {
      "text/html": [
       "<div style=\"width: 200px; height: 100px;; border: 1px solid #FF5733;\"><video loop autoplay  width=\"200\"  height=\"100\">\n",
       " <source src=\"data:video/mp4;base64,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\" type=\"video/mp4\">\n",
       " Your browser does not support the video tag.\n",
       " </video></div>"
      ],
      "text/plain": [
       "<IPython.core.display.HTML object>"
      ]
     },
     "metadata": {},
     "output_type": "display_data"
    },
    {
     "name": "stdout",
     "output_type": "stream",
     "text": [
      "test/ ex1-episode-250.mp4\n"
     ]
    },
    {
     "data": {
      "text/html": [
       "<div style=\"width: 200px; height: 100px;; border: 1px solid #FF5733;\"><video loop autoplay  width=\"200\"  height=\"100\">\n",
       " <source src=\"data:video/mp4;base64,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\" type=\"video/mp4\">\n",
       " Your browser does not support the video tag.\n",
       " </video></div>"
      ],
      "text/plain": [
       "<IPython.core.display.HTML object>"
      ]
     },
     "metadata": {},
     "output_type": "display_data"
    },
    {
     "name": "stdout",
     "output_type": "stream",
     "text": [
      "test/ ex1-episode-300.mp4\n"
     ]
    },
    {
     "data": {
      "text/html": [
       "<div style=\"width: 200px; height: 100px;; border: 1px solid #FF5733;\"><video loop autoplay  width=\"200\"  height=\"100\">\n",
       " <source src=\"data:video/mp4;base64,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\" type=\"video/mp4\">\n",
       " Your browser does not support the video tag.\n",
       " </video></div>"
      ],
      "text/plain": [
       "<IPython.core.display.HTML object>"
      ]
     },
     "metadata": {},
     "output_type": "display_data"
    },
    {
     "name": "stdout",
     "output_type": "stream",
     "text": [
      "test/ ex1-episode-350.mp4\n"
     ]
    },
    {
     "data": {
      "text/html": [
       "<div style=\"width: 200px; height: 100px;; border: 1px solid #FF5733;\"><video loop autoplay  width=\"200\"  height=\"100\">\n",
       " <source src=\"data:video/mp4;base64,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\" type=\"video/mp4\">\n",
       " Your browser does not support the video tag.\n",
       " </video></div>"
      ],
      "text/plain": [
       "<IPython.core.display.HTML object>"
      ]
     },
     "metadata": {},
     "output_type": "display_data"
    },
    {
     "name": "stdout",
     "output_type": "stream",
     "text": [
      "test/ ex1-episode-400.mp4\n"
     ]
    },
    {
     "data": {
      "text/html": [
       "<div style=\"width: 200px; height: 100px;; border: 1px solid #FF5733;\"><video loop autoplay  width=\"200\"  height=\"100\">\n",
       " <source src=\"data:video/mp4;base64,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\" type=\"video/mp4\">\n",
       " Your browser does not support the video tag.\n",
       " </video></div>"
      ],
      "text/plain": [
       "<IPython.core.display.HTML object>"
      ]
     },
     "metadata": {},
     "output_type": "display_data"
    },
    {
     "name": "stdout",
     "output_type": "stream",
     "text": [
      "test/ ex1-episode-450.mp4\n"
     ]
    },
    {
     "data": {
      "text/html": [
       "<div style=\"width: 200px; height: 100px;; border: 1px solid #FF5733;\"><video loop autoplay  width=\"200\"  height=\"100\">\n",
       " <source src=\"data:video/mp4;base64,AAAAIGZ0eXBpc29tAAACAGlzb21pc28yYXZjMW1wNDEAAAAIZnJlZQAAIq1tZGF0AAACrwYF//+r3EXpvebZSLeWLNgg2SPu73gyNjQgLSBjb3JlIDE2NCByMzA5NSBiYWVlNDAwIC0gSC4yNjQvTVBFRy00IEFWQyBjb2RlYyAtIENvcHlsZWZ0IDIwMDMtMjAyMiAtIGh0dHA6Ly93d3cudmlkZW9sYW4ub3JnL3gyNjQuaHRtbCAtIG9wdGlvbnM6IGNhYmFjPTEgcmVmPTMgZGVibG9jaz0xOjA6MCBhbmFseXNlPTB4MzoweDExMyBtZT1oZXggc3VibWU9NyBwc3k9MSBwc3lfcmQ9MS4wMDowLjAwIG1peGVkX3JlZj0xIG1lX3JhbmdlPTE2IGNocm9tYV9tZT0xIHRyZWxsaXM9MSA4eDhkY3Q9MSBjcW09MCBkZWFkem9uZT0yMSwxMSBmYXN0X3Bza2lwPTEgY2hyb21hX3FwX29mZnNldD0tMiB0aHJlYWRzPTEyIGxvb2thaGVhZF90aHJlYWRzPTIgc2xpY2VkX3RocmVhZHM9MCBucj0wIGRlY2ltYXRlPTEgaW50ZXJsYWNlZD0wIGJsdXJheV9jb21wYXQ9MCBjb25zdHJhaW5lZF9pbnRyYT0wIGJmcmFtZXM9MyBiX3B5cmFtaWQ9MiBiX2FkYXB0PTEgYl9iaWFzPTAgZGlyZWN0PTEgd2VpZ2h0Yj0xIG9wZW5fZ29wPTAgd2VpZ2h0cD0yIGtleWludD0yNTAga2V5aW50X21pbj0yNSBzY2VuZWN1dD00MCBpbnRyYV9yZWZyZXNoPTAgcmNfbG9va2FoZWFkPTQwIHJjPWNyZiBtYnRyZWU9MSBjcmY9MjMuMCBxY29tcD0wLjYwIHFwbWluPTAgcXBtYXg9NjkgcXBzdGVwPTQgaXBfcmF0aW89MS40MCBhcT0xOjEuMDAAgAAAAidliIQAI//+9Sf4FNQS/Evha2Ht1Ld88KogtX5hJ1wAAAMAAAMAABG9ae0VKcQe+cAAAEMADgB9BlB5iJirFQL7iwMnSYAQ+atd/mSrkj6WlVadHcEEXzTB0ZueUV0g/CcrtIKcwPr3WDjoerEAFhHFLqiFD1tx7VrMtvmKQDlyfL/0VfZ0KqzdW8+ORA2FWvzB8sx/IYA3ktp1vAkSnpXsefvIdnx41X3yz/LTrjg1AHj39llSumse6AYja6WIFo1fKCA5EVLIHj+NGFLhTPwmpFVrbmdbkgmC9YDv8gf1PvsUEgFhf1zjAuaMrhboLZJa163OBts0vSpJOfahZeAmrELbzY+6SwWEAPw7PDOKilwu4o44SBl993CZ6fHOi2DOma1QpBXtRoJJhNsJAII+eD25crIiqREFY8/13KkfmKgdc0Pt7iEBcO/nk3UijkBMnLV420OBEzPi5ro3HNyQ9cnoqdri04eAD/nLZ0fhV6yX77L9czUSYno+i0imgSG04AAAAwEQd6jlzv/782hEkf4HYCZXhk2WzjzTzhuN1cPnGsecc9V0qkhaKTySLSRnuLAv3kxN9A/lKl+hBa8G7zpCsoATbfXU+xc9t3OlAuRH2xbasQC8Nn1M1dU9pC9GzTzYLooVxKdr9DqMluxgO+3K4gAAJNE7y+xHjvBVWGWPIEMrEd4CjCPh+OSyRZK1sy9GIkSAAWrS/9B5QAAAAwAAAwABsQAAAcJBmiNsQr/+OEAAAX/1Ilrdb6+LdylcBCMWP6X43idaXubBmHmrhcCMdTzIN6IcWDiX5uiF8paPz0SkYj33+BKIq1kKRzadYtnsC28s3DB08SvUb/mYRJr9Hk38Wt/kqct22eRnNIRou/uB4fj+V48u6XKUxorxnpp8whYIQ+yW5m4Z4Zffe3mnh4gjJPlJ7s+hxZBPvf7sBWwE2jbItSg9yB28ge5OYYBh8jBlZasj3wY4aOtGl3wnaEnHQ9ok4RMxRhvZeJYm+DWwLYj75SxUhjbivDS60AguNvl16FMSBm828YhAaoDi/MtvG707DL4mrJIW+XzsdyfthGy4Bc5udrp0eCUlPzdsshQU4DrR6Awc2wdMqPYdDKb/ow2oV4SM7XmSuJHv7wC2XaclybB0pFY1uWB9nLntc6Srqoqya54RcKm87a//BlTTsBcxKU6278IYhRbuV8zzbtLSZ+K/VI51gZJJ7naDh6ubZOBZiWUiV/mYIQ4QU1AfKY404nSA2EkdJOBGSSBLMQeLLtxOdOgALX2S88CD3mPv32LGdy3tMfO8fwKvBN3Cj9wyw3tje1t/r953sqYZVT0W4BxIhMwAAABGQZ5BeIR/AAAfD+lwExzoqg/VoCPk1r7kL9ngaXsEMQA2Ie+0Jqh/nLBcSvN2jJ3zurBn9ADPW3v9be9lwLug6xjdnyALaQAAAC8BnmJqR/8AACOyPL9+owxW+T8PjlZHvxT6+bO0CLqcv1v0WpBOzcthNRMpNvCEHAAAAGRBmmdJqEFomUwIT//98QAAAwD++mpZlPAI8e9M5P32LpbLd1jOqhsSaearNF8CEMdtrIJ0CCKX2ENmHuJZ83GUdRRAupwFlBLfmWsYlxb0+EmWRTvJxXx5flixy0M0X9EkhbIjAAAANUGehUURLCP/AAAIsUsppewha6qBCkbO3BCj4j3b3mE+hZRW0Uwr9UamklhZxfSTubiY8yLbAAAAHgGepHRH/wAADc4F4AwNBsQpZcKT0t6GuKuw5ZwpIQAAAB8BnqZqR/8AAA3Un3jBw/+yjFdiBXECeeYiH6yYN3IjAAAAX0Gaq0moQWyZTAhP//3xAAADAP76aavoOnR1HljGchAQQrrZYD6OX7yyL5/YqUGWI1VUdv/2cAgc1gJhz+e/7oxdpDWHyhkCNcqqL1Xwib03uJ+pVbiRt630iUt3KcZgAAAAIEGeyUUVLCP/AAAIrAAXXFAxBp9EozfquYkise35NJuAAAAAEwGe6HRH/wAADc4UQzt+blp26oEAAAAbAZ7qakf/AAANhJ2rYyZnhKqzst/9JltAiEbcAAAAgUGa70moQWyZTAhP//3xAAADAqC0PHPjwCFQnI1LU5bXAaO4RtAdQ3YyIqMHbArqA9ezXxZRwP3USbnUEAbSsSXKsG47mpEb+I+hVkx83IFrgBAM0pObTHGOPxYgNzJXvfm5Tujc/Xu56E8NevthIBo6JRXQMhgTRv7869ZTFYW97wAAACpBnw1FFSwj/wAAFrxObR3zeltOoQF77lgBOR4Z7m8P+WGBe4EsJNhJWLEAAAAbAZ8sdEf/AAAN1g1PEcom+RjpFWXO74vR/Vg5AAAAPgGfLmpH/wAAI7I8yQ6QCigmCR03C1KgAlNdGWg/YkywyuKZyE67k1SzUaS/ZiVT1FTEUh8mEyr6Pt5iaq2hAAAAYEGbM0moQWyZTAhP//3xAAADAp8CxIATpvpHvwB8mOIG9iPIFjOPwuG+s6KHLvFfUERlYbQBzxgj/CZP+bmzZ9Nn1fqcoNbu8eSknVApppeNArEwxyB3e70+MFTM6uoHUAAAACdBn1FFFSwj/wAAF1CcHV+dKGgCWU4n/a8D3B1pI3m/oBIPoMhSk+AAAAAWAZ9wdEf/AAANzifbe25oQkc0AN39sQAAACIBn3JqR/8AACOyPL9zia5/nThWCqm1Le07BKs52UlB8xGAAAAAZ0Gbd0moQWyZTAhP//3xAAADArXJ9t37dlpuFZid1QAJod9rrcT9w3i3Jujm2KmQrPAWLkbRgKRrNq2ju1tyksXLdn9g9gYS1lJlxN1n51Y/DKJaRmlunqfFNqaS9rA7VlRhf2mqIlgAAAAuQZ+VRRUsI/8AAAixU7zoUXVMbFk4dgiaX5bKfM+Z8KFG8FoODuLOOZHQc4+k+QAAACMBn7R0R/8AAA3OJ9uNG5CEvIbvEYbIgtOH9kUQ2qh4BL/m4AAAADMBn7ZqR/8AAA3UrpxE9E3voLkad+fUPU+80anuEE7J2V9LRqrYFiq1+S9YtwD40gimwcEAAABlQZu7SahBbJlMCEf//eEAAAQzP7awasMsokhIL90Nj7SX9lUGbtJTPClj9p4Skax8vnPsXdX5o6a/6P/2mrYRe3COpYbINsVDHzzE7R3xAgpdCPRL/kQajcQto5K9b/cJj6dj0JMAAAAyQZ/ZRRUsI/8AABdMPMNhKQvxHlSdMvMXvFBbdOmTAXSzAzK03loEUiAnVOZdqg+/qWUAAAAxAZ/4dEf/AAAjrEJULUry0pV63tvjpSCIJw3izf6wROGbXQIWwAP29RxFc8jPTXPllQAAACkBn/pqR/8AACSuXjOBv7cI/zkJuPR0VhFF3ufRozJvL0ghtESKF50ZBgAAAHtBm/9JqEFsmUwIR//94QAABDS0jIb3B7Q6w+57lAITiLB+WTh20Sk3PErcTgdTB2gqM9OuQH2pS3Gkz8JpNX+r8zAgji/WPi+Qr6F+RmO/T2zXCufWE72cDiAgRCMajOMrgPkhg1HmDIwxxNSfQcZGhjVa8YoQ8QJhsUEAAAAxQZ4dRRUsI/8AABdDR7cN/84kdrjrETuWr3HLApg6VQuchyXHDRKvP6WHpGyfRomCwQAAACsBnjx0R/8AACTDF2iuCneA9l9B388FJ5bucu8U4cYaLb+WpQf8WKFQsHZgAAAAHwGePmpH/wAAJLHMCW+pb7SAXfd+MMoKn1n3wHFnLFgAAACLQZojSahBbJlMCEf//eEAAAQzSDLf6Vn8DM0Iv+W41BJFqHL2RMiWUxvhZzaWVNON92LAzahsJxqezqw+AtmoSabqVwlycOlR2OcPNdeC0nVVQTIDNv/ikPHSKI/Qtq4P9L3/tH5ZnvpTagZ3jQZBos1aNT9cebXerJOvHgj2c3ms8aRyx+o1VH4a4QAAACtBnkFFFSwj/wAAF0Kr6LQ808GL5xgypaIIJNv2YdpbP8mM3gSl/2oxWaVbAAAAOwGeYHRH/wAAJMCZ3emEG94cGDkfTKaD1bkxqAKs19k9UbRyjyLZeoc/i4Pvd4/JMigBX85FrPUyxMalAAAAIwGeYmpH/wAAJK5eM4F5Q7PNzR/LlNc5xTB93xDjapB5yOzcAAAAcEGaZ0moQWyZTAhH//3hAAAEMz+jp/ofRYnNRS6Jb+ayWv7kyRER9Xundn0IkF/PahGCOv2L47LLZDPUOZCpaySG+Q+HUE0k/KlBMw/gf28r0dNxdvdOMoDPgtYHOtNFHCSJtSN37Hvl8maKa89+0qEAAAAsQZ6FRRUsI/8AABdLinWI0bj9OZ310pMlN4cmuyEFhKdLmJUeUnpwq149ioEAAAAuAZ6kdEf/AAAkwvB6xdGkeX3DQVA3QZ5Nn4O8afQ/Tdx+sYnwHEKD0/GGVNrFgQAAACYBnqZqR/8AACSuXjOBeUOzzc0fzBtGzA++nxhf5x2ul4zopw1qIwAAAHlBmqtJqEFsmUwIT//98QAAAwKw7R6P9ae3ziq/fJfclXH5wmlzI2Uhn7P29bRL8O8Y2eBf73uD8FY8bBj9E5lbd6CpdlNrRi9aM1FWiaJnMC7+cTrK4H67xwF/EVLnJU8QulcnD2oejvb7jCWhRI+4UKNUzKsjYIkfAAAAJ0GeyUUVLCP/AAAXQqwvU6aZPfpTH0IoPZH0EAMVg1MIGU7vpo/tgAAAADMBnuh0R/8AACTAmTIvHQ6Cxc5lUgCRtEaWomeF6aW647KqkuihHQphFeTPvsljIpedqVEAAAAwAZ7qakf/AAAkrl/7VAj//0NMimszvNTuji4issij3XWvZQTE1HH9B1rGr/bXQ5KbAAAARkGa70moQWyZTAhH//3hAAAEU04MvW6O3PyIcRPebkwumNoMICZtH/rYo2XkRbouM5qVYBXxbI37yrEL4pyuno5XBvspBKAAAAApQZ8NRRUsI/8AABffQ9Q4C5HkqmZtc0x/XGSsfJio+NCuWrbkzqKutL0AAAAtAZ8sdEf/AAAlqepOOT6YQCKAEl5D4yLKi8rd5W64/HDx75pB2WSLNiOOfiptAAAAOAGfLmpH/wAAJa1bw4lURziejGiIuNevjFGAUQNtWWdAWlbSYXELQ29uZs8b1tCeI2+84ItfYymxAAAAfUGbM0moQWyZTAhP//3xAAADAsLwBfa/UjFHbHanXuQqbLPUiLYBkDeUgCPj2i1fL4lAI5UleRtT+1ahsTrtx/u12F3q0YO2kRGa8G4ZVXEOua0y5YI0TmmPbfw79QAWqYeychyAgwDF/ePmo99fHd/TuZpyYWkNDFD7E/0YAAAAN0GfUUUVLCP/AAAX30O9C15p5nLL0tn56CG1rcogTXsmDJ2TXdg0wJxHS2yyxxWxFIoec8HmnfMAAAApAZ9wdEf/AAAlwJnd6V6RZRH8Zg6xJ7XcEp7jU7PcZC5Wx3raoMn2DgkAAAA0AZ9yakf/AAAlrVvDiRwzEFxYmPm4RBoGxbjUIg7FMu+OrF0FqcaAuhXbH7M0x1r6SEpuNgAAAJRBm3dJqEFsmUwIR//94QAABHNQbYsDFTVANQOPhfZip/i8clAUAchmS07Q0vAh7HyZhMTAHReD86hjsb7nPoYwBLeDZJo+Tpi6QyKJS4olVNVygGGlRE5GjFrzRgNtqtlzzTVNzYKhXlnU2LqlQqCrzyyPlO+d84UgdTwvBgQGRCw599eZcN8KW8pAXOInFzG29GfAAAAALkGflUUVLCP/AAAYiYK/tmgmK7VdOfpqYKuwC92kHaLrijhIimMj8vn7b7QmdZ8AAAAmAZ+0dEf/AAAlv++UzT0mqkHeQnKtOAtCPM9RuHi32HhLoQ9hQIAAAABJAZ+2akf/AAAmvwGTUShXaAyxF+e3e3ggMJml0x1deUsA4K+G+Zjm1ZKJGFAk54k0YfB9cXW8Zb6gBKHGI0lEN8OI2PCHn4plnwAAAJJBm7tJqEFsmUwIR//94QAABHUU+kuAVI/0vA8eixkQPV7bk1Z2u8FfjAEHlGYNfAEHz4xi2Kp+frnzXu8aLEV7fnGQat/9ErZGlvN9Bveozus0J7eFNX9ulzyWopse16eGtuaOnShmTajqh0KACTmr1Vdz8HMrmOetwP5azkBUjsfNhK7X2+GUzppP8WmCsd5ThQAAAEdBn9lFFSwj/wAAGIh0bB/HniPUSnFK4aOWEmAHI457B/zRCn9jPXyxvvFW6rsfEX46Nn5sQ5tmJg6i6HmpNptzQ/85Qgbo7QAAADwBn/h0R/8AACa/797wxVeaD85wjAH0cMgGkooLK2JNqDKw99asvObhCH70QgXH3O5iKlMALRrwIl0UO0EAAAAoAZ/6akf/AAAmvSZbrIPJGHIbBAVvUlhkV2RhVGqH1TFdryLq5jR2gAAAAH1Bm/5JqEFsmUwIR//94QAABJNQNL94UHhonqivN5JE7nwebj2aNL/Fv/o6jn/n6XAeqkATfOL70jz/vQAiyNTUj5VP0O1q6rmDF3CB0fQaT22/xyvTMXmjcoNYE8Gkv2Azdd6gweKchD06soHIR1zlFII3MPeqnshQBOtYYQAAAERBnhxFFSwj/wAAGSmC7YVQTOETycUSyAzVWfXraj2Dg1DmSeu5eeYh6v177Gl0gtNOUxm9iFG6PoT7QBuE3UKLQ8TrkwAAADEBnj1qR/8AACfZgZFKW5VYRTix+OdvnZO4+5MymLAkLQ8qInBpoiZY6blskuvs/RAgAAAAY0GaIkmoQWyZTAj//IQAABHRt7d7A+01Pwa/aTlOHKmoTboD+u5JQfJKTeYn0hn09RA0c00Rry7VTPqwo+ayfp6ugtDuPskP+XwB9w0o/OMBb/yKesgY4t7xdrw4SgHeMKiKYAAAADBBnkBFFSwj/wAAGSh0W0KGJtStptB5HzQiTaJIRFm3jwXRowIWUSaVExKtbbWtRYEAAAArAZ5/dEf/AAAn2p2NYhxz+OqcHRV/7ejmnmT2Rtmy7AdIxRccDxi1K8CiwAAAAC0BnmFqR/8AACfEGTJwcJk/mceXhxFKLVEHhAC3oIzdYM1iUljUYCZwcVnRO4EAAABTQZpjSahBbJlMCEf//eEAAASTP6Oh3gFVwbfxOudQOI6LsOa38AQAd/sA334PAncsFIreEbV4p9DkOUosiY4wzZpvSLn4C1clAIZ4x4SJaWQ15yQAAABCQZqHSeEKUmUwI//8hAAAElG3t3sEUYqL4Rn+hBO9tPSob84ZK8BAUX96g8QRm9GlwaAKyXwb0d204ViJIsAmv4FXAAAAREGepUU0TCP/AAAZv5INZaeIZwQGVMgLdiaPMQOfoAR8Uz7aZEQ69hkgNPD8+/p37bPQxAmznH2SzhDsc1p/LyEqhagtAAAAMwGexHRH/wAAKN+eku7w0kVCyAIu2AZR3j+3b/7Qy2qfca/CY4k3CcxH1Vkk0MCLGGOs7wAAACcBnsZqR/8AACjinJ/0hj81YLRZTXIPAroJz4nK0tPDfggxLcG9BtEAAABsQZrISahBaJlMCP/8hAAAEljPlLiYBp/rJFNlWtwwB9qbuRW3L1YmXymtew316zvOrm6BIH/5Rnd6YAdZ0ZqmcG8DE4wbNqFr0ODhY5EfVxh6/fl66EFeKdpYNqVIvjpOE8vcsQ5uI3lA8g/AAAAAbUGa6UnhClJlMCEf/eEAAASzP6OhgZzfQ0+q4AK2K2dHhsDiXRzi1EQNcOzbe77VoY5k+At0qwFmCAKTFvak51pgYKlAY4by+3U42mE8kJuJQ4CwqAY8a7tfXe2vxi69tSJq1oawVYowlTvv/ZAAAABjQZsMSeEOiZTAhH/94QAABNS3uckgDj+sg39eJy4iNoAGj+mFRa2089N1xxy35QeKzwu/NGr/LmZx/1JGftAzwAMtkfuXWx1d3eadbNkfgAt8u7ZlagoTFINT8eBsMi5yOyudAAAAPEGfKkURPCP/AAAaaGMkzq6V68b9pWYSYRLNmC2GuOkaG8XYIo0T+lLDt+H5BxI9A4ReKPYbyLJtjQ44QAAAAC4Bn0tqR/8AACoCnJ/0jkSWfNwWaqSN39MZuAZ1SrcRHnMeb3MxiGmvTQXQNmmUAAAAXEGbTkmoQWiZTBTwj/3hAAAE01A46GBmJpbX/FjenS86kghI7DXIBNTrNRHYcKsSdkZsw7XPuzZ9EsiYd1pAF558psIC+FdrsjUwOw1PkHDL3kQ5mEo4bRVLchYVAAAAMgGfbWpH/wAAKhbA6+ZHcqJmDBWPgOpEXpIOHM//rRE4HFOjkSmAe1d//gU5/2byVQyhAAAAo0GbcUnhClJlMCP//IQAABNRuUeqyxX1s2ezcScgBP/155Gfz/UglhibJk0/CFGP6v8q/d6QZdhnVwTRtNG2cQlIPbwteYLxsRQdm9I7GiKKhmbyZ7olAJ37sRhIwk6gRtOiVYxK5+vpyM9xMnVTENyWIACQPX04TT4qOC+xx2Qhssdv81llPA25H1lTQn+pU43lRLvL3HilNxnyoqZxL8I0/Q0AAABRQZ+PRTRMI/8AABsIdFsWfCfaNnIMamgRf+kkhx5cy32mTJHH8lB9VYgwo5Bjf/LSW6SzLZWb73rGXnolGVGPSw4jwmKXTObLQdegdvaZVgcIAAAANwGfsGpH/wAAKzbBJgBSBr4taiIhJZYd9N6llljLfdf+CaQnWOhJJfjbWmgPTVUw6hjWXM6FuXAAAABPQZuySahBaJlMCP/8hAAAE1iqoFjxyoCy0hKY2oOXtdQz1lpMMrPTbz/VMEYYEP0NZKvkLurzLZsUCUIKi8z9tiQu3Wx4oq0PDAGTpqlNjQAAAHFBm9NJ4QpSZTAhH/3hAAAFGX+V6oKWZVU28TZGE/pf5DUqeEhpcj3RM/5sv3FXULZdbclO0h+AGRPOHfWm7hVwKIWrABP0dwPMXQJWydmxKPm6Rl5FLfSEdBEtB88RhTb7CAV79+MtHkXYXgmEyA0BoAAAAHlBm/VJ4Q6JlMFNEx///IQAABPJoHr++gAQqnfYUm7NbHg7CDwQhvReZCu+FfJ8eQ0Rxq+iYqS38+rkEYOLFaxlU/L0rcz5Glm5za7ET9+TsmvVPMJ5RDvdyvCq2YzfIsnvg7aS3VIdoTnJKwYhMW6GDqJmj1CPuVwgAAAAKQGeFGpH/wAALEMOH/SGPzVhzbbigfPed9H29sVvFL461E5gT7fOBnpxAAAAckGaFknhDyZTAhH//eEAAAUZiEOhgZ/zrl/ie8sUly8FAeuQC1ifo66XVsEVVIdv46Vt1mzkm1achrG65x+mcDADpRvbWd9yytY4MEpiU8y7D665k7K5o6ujK5+NfeCAHDd0cPG8L1zUeMowuvIExRVhwAAAAEtBmjlJ4Q8mUwI///yEAAAUZMthQTodGvvOtCbGmtKtthPNq4L9qhcfygaAF/Sa7omL+XcN2AOcuSQAI/caUUihPn4WaM85OepvVLcAAAA1QZ5XRRE8I/8AABxW946VjPDtDs9qq7PZ9/p5o9gXdKdK2lrgIQ85Q8gzVspwhWEGb/Gbh/EAAAAgAZ54akf/AAAtYw4f9IY/NWTy7x1HigWbiKrFHP8p+fAAAAA9QZp6SahBaJlMCP/8hAAAFGSBfflQJFJIrKKAF6W609wMjGo3OYqYm6QygINLVjJtFU9zMvFhtOMvow5ERQAAAFFBmptJ4QpSZTAhH/3hAAAFYYwJWj60AVO5F6AIqNORaHa+Nik03QCthvziBssxZeE1a2at1HAyKnvE+1pZPZBDkTHbVHrBbqGMpN3e4sTVM7AAAABxQZq9SeEOiZTBTRMI//3hAAAFYZNJYFW11Ubp4iqvJ+gA2WXil4XWd5R9IzN7rHi7QUDR1mbsCovmoxeYt+Bs5ChDYeURsLLs6/TcTTQqnrbUEzNmNnfS7Bim+s7D/c1g3v2NQXqOD5UDbB+XCiuqTr0AAAAyAZ7cakf/AAAulsDr5kHqdCwhswtvaQOSEN495/TFwwcEi1YmVjhA7+clYYymyHJkbpEAAACAQZrASeEPJlMCP//8hAAAFZDvecPAGr2koZdDkFehpnvsDU7W5Js/bv/HQfGo9oTzgFUerWDO3UDPmBg1xyRt/7f+i5GC1nToEMZUK7wA49LmHd0mODPFfPFgtbJZkqCbkAT52XGPLvfj62mNNhF9kFuRFi+AonCwnA3fsWtbAnAAAABAQZ7+RRE8I/8AAB24a6y+jAIGPdy7kGkC90Env36+HP4EGxFHYNmR7U8h259cr7Nj6gUW/yeo1LBYjr7biLMggAAAADYBnx9qR/8AAC/PQEqbaVkq0Psz1J0SXI/6oYohXLFqmGEX1gTNHP20THyqAmEzTgQk3HwDkVsAAABFQZsBSahBaJlMCEf//eEAAAWFi+joYGWxvHOoABVcFIZUSlRh6sTtdpa8qDSp0KZ2g/qgGw54PbgIHETJHVM2LVMWRxMxAAAAQkGbJEnhClJlMCEf/eEAAAWploY6GBmpg+z312qwpPMzaqOjJbQJ9ziSt0ejl+4QgCiUSb1ACvCn0PZpcv412RGZgQAAAElBn0JFNEx/AAAxF8l9qakhqzo+g0rnW6S7FiShNC3FBPmvg/D4uILmK2jqKyF4cV1kILqHBAvOqACxX81Zj7PuBfJt7skOVSWnAAAAOQGfY2pH/wAAMOZ9oUG5sAv0CkZcE8DqOs7V0VkDzU5Acp3dI5KSYsbJyZE1yKpYbGUsgQLBXi+kgQAAAFJBm2ZJqEFomUwU8f/8hAAAFqg6IAoNYGHTsZarqmP9C5jew5VaDWpc97Al1uLF+9sShgrm9L4CkoryswZ+JrvQoDHKHrgnDkUWX7cPz0nnLfKBAAAAIQGfhWpH/wAAMj7aMKkO6kxbKuTzLaOxtP90gHG7A26TgQAAB69tb292AAAAbG12aGQAAAAAAAAAAAAAAAAAAAPoAAAIDAABAAABAAAAAAAAAAAAAAAAAQAAAAAAAAAAAAAAAAAAAAEAAAAAAAAAAAAAAAAAAEAAAAAAAAAAAAAAAAAAAAAAAAAAAAAAAAAAAAAAAAACAAAG2XRyYWsAAABcdGtoZAAAAAMAAAAAAAAAAAAAAAEAAAAAAAAIDAAAAAAAAAAAAAAAAAAAAAAAAQAAAAAAAAAAAAAAAAAAAAEAAAAAAAAAAAAAAAAAAEAAAAACWAAAAZAAAAAAACRlZHRzAAAAHGVsc3QAAAAAAAAAAQAACAwAAAIAAAEAAAAABlFtZGlhAAAAIG1kaGQAAAAAAAAAAAAAAAAAADIAAABnAFXEAAAAAAAtaGRscgAAAAAAAAAAdmlkZQAAAAAAAAAAAAAAAFZpZGVvSGFuZGxlcgAAAAX8bWluZgAAABR2bWhkAAAAAQAAAAAAAAAAAAAAJGRpbmYAAAAcZHJlZgAAAAAAAAABAAAADHVybCAAAAABAAAFvHN0YmwAAACwc3RzZAAAAAAAAAABAAAAoGF2YzEAAAAAAAAAAQAAAAAAAAAAAAAAAAAAAAACWAGQAEgAAABIAAAAAAAAAAEVTGF2YzYwLjMxLjEwMiBsaWJ4MjY0AAAAAAAAAAAAAAAY//8AAAA2YXZjQwFkAB//4QAZZ2QAH6zZQJgz5eEAAAMAAQAAAwBkDxgxlgEABmjr48siwP34+AAAAAAUYnRydAAAAAAAAIaKAACGigAAABhzdHRzAAAAAAAAAAEAAABnAAABAAAAABRzdHNzAAAAAAAAAAEAAAABAAAC+GN0dHMAAAAAAAAAXQAAAAEAAAIAAAAAAQAABAAAAAACAAABAAAAAAEAAAUAAAAAAQAAAgAAAAABAAAAAAAAAAEAAAEAAAAAAQAABQAAAAABAAACAAAAAAEAAAAAAAAAAQAAAQAAAAABAAAFAAAAAAEAAAIAAAAAAQAAAAAAAAABAAABAAAAAAEAAAUAAAAAAQAAAgAAAAABAAAAAAAAAAEAAAEAAAAAAQAABQAAAAABAAACAAAAAAEAAAAAAAAAAQAAAQAAAAABAAAFAAAAAAEAAAIAAAAAAQAAAAAAAAABAAABAAAAAAEAAAUAAAAAAQAAAgAAAAABAAAAAAAAAAEAAAEAAAAAAQAABQAAAAABAAACAAAAAAEAAAAAAAAAAQAAAQAAAAABAAAFAAAAAAEAAAIAAAAAAQAAAAAAAAABAAABAAAAAAEAAAUAAAAAAQAAAgAAAAABAAAAAAAAAAEAAAEAAAAAAQAABQAAAAABAAACAAAAAAEAAAAAAAAAAQAAAQAAAAABAAAFAAAAAAEAAAIAAAAAAQAAAAAAAAABAAABAAAAAAEAAAUAAAAAAQAAAgAAAAABAAAAAAAAAAEAAAEAAAAAAQAABQAAAAABAAACAAAAAAEAAAAAAAAAAQAAAQAAAAABAAAEAAAAAAIAAAEAAAAAAQAABQAAAAABAAACAAAAAAEAAAAAAAAAAQAAAQAAAAABAAACAAAAAAEAAAUAAAAAAQAAAgAAAAABAAAAAAAAAAEAAAEAAAAAAgAAAgAAAAABAAAEAAAAAAIAAAEAAAAAAQAAAwAAAAABAAABAAAAAAEAAAQAAAAAAgAAAQAAAAACAAACAAAAAAEAAAMAAAAAAQAAAQAAAAABAAACAAAAAAEAAAQAAAAAAgAAAQAAAAACAAACAAAAAAEAAAMAAAAAAQAAAQAAAAABAAAEAAAAAAIAAAEAAAAAAQAAAgAAAAABAAAEAAAAAAIAAAEAAAAAAQAAAwAAAAABAAABAAAAABxzdHNjAAAAAAAAAAEAAAABAAAAZwAAAAEAAAGwc3RzegAAAAAAAAAAAAAAZwAABN4AAAHGAAAASgAAADMAAABoAAAAOQAAACIAAAAjAAAAYwAAACQAAAAXAAAAHwAAAIUAAAAuAAAAHwAAAEIAAABkAAAAKwAAABoAAAAmAAAAawAAADIAAAAnAAAANwAAAGkAAAA2AAAANQAAAC0AAAB/AAAANQAAAC8AAAAjAAAAjwAAAC8AAAA/AAAAJwAAAHQAAAAwAAAAMgAAACoAAAB9AAAAKwAAADcAAAA0AAAASgAAAC0AAAAxAAAAPAAAAIEAAAA7AAAALQAAADgAAACYAAAAMgAAACoAAABNAAAAlgAAAEsAAABAAAAALAAAAIEAAABIAAAANQAAAGcAAAA0AAAALwAAADEAAABXAAAARgAAAEgAAAA3AAAAKwAAAHAAAABxAAAAZwAAAEAAAAAyAAAAYAAAADYAAACnAAAAVQAAADsAAABTAAAAdQAAAH0AAAAtAAAAdgAAAE8AAAA5AAAAJAAAAEEAAABVAAAAdQAAADYAAACEAAAARAAAADoAAABJAAAARgAAAE0AAAA9AAAAVgAAACUAAAAUc3RjbwAAAAAAAAABAAAAMAAAAGJ1ZHRhAAAAWm1ldGEAAAAAAAAAIWhkbHIAAAAAAAAAAG1kaXJhcHBsAAAAAAAAAAAAAAAALWlsc3QAAAAlqXRvbwAAAB1kYXRhAAAAAQAAAABMYXZmNjAuMTYuMTAw\" type=\"video/mp4\">\n",
       " Your browser does not support the video tag.\n",
       " </video></div>"
      ],
      "text/plain": [
       "<IPython.core.display.HTML object>"
      ]
     },
     "metadata": {},
     "output_type": "display_data"
    },
    {
     "name": "stdout",
     "output_type": "stream",
     "text": [
      "test/ ex1-episode-500.mp4\n"
     ]
    },
    {
     "data": {
      "text/html": [
       "<div style=\"width: 200px; height: 100px;; border: 1px solid #FF5733;\"><video loop autoplay  width=\"200\"  height=\"100\">\n",
       " <source src=\"data:video/mp4;base64,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\" type=\"video/mp4\">\n",
       " Your browser does not support the video tag.\n",
       " </video></div>"
      ],
      "text/plain": [
       "<IPython.core.display.HTML object>"
      ]
     },
     "metadata": {},
     "output_type": "display_data"
    }
   ],
   "source": [
    "if not skip_training:\n",
    "    # Train Result\n",
    "    video_dir = work_dir/'video'/'CartPole-v1'/'train'\n",
    "    \n",
    "    # List all MP4 files in the directory\n",
    "    mp4_files = [file for file in os.listdir(video_dir) if file.endswith(\".mp4\")]\n",
    "    frame_colors = ['#FF5733', '#33FF57', '#5733FF', '#FFFF33', '#33FFFF', '#FF33FF']\n",
    "    # Display each MP4 file\n",
    "    for i, mp4_file in enumerate(mp4_files):\n",
    "        video_path = os.path.join(video_dir, mp4_file)\n",
    "        video = Video(video_path, embed=True, html_attributes=\"loop autoplay\", width=200, height=100)\n",
    "        frame_color = frame_colors[i % len(frame_colors)]\n",
    "        video_frame = HTML(f'<div style=\"width: 200px; height: 100px;; border: 1px solid #FF5733;\">{video._repr_html_()}</div>')\n",
    "        print(\"test/\",mp4_file)\n",
    "        display(video_frame)"
   ]
  },
  {
   "cell_type": "code",
   "execution_count": 8,
   "id": "47f0e835-79ad-47c7-9984-bfc705927d7b",
   "metadata": {
    "tags": []
   },
   "outputs": [
    {
     "name": "stdout",
     "output_type": "stream",
     "text": [
      "test/ ex1-episode-0.mp4\n"
     ]
    },
    {
     "data": {
      "text/html": [
       "<div style=\"width: 200px; height: 100px;; border: 1px solid #5733FF;\"><video loop autoplay  width=\"200\"  height=\"100\">\n",
       " <source src=\"data:video/mp4;base64,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\" type=\"video/mp4\">\n",
       " Your browser does not support the video tag.\n",
       " </video></div>"
      ],
      "text/plain": [
       "<IPython.core.display.HTML object>"
      ]
     },
     "metadata": {},
     "output_type": "display_data"
    },
    {
     "name": "stdout",
     "output_type": "stream",
     "text": [
      "test/ ex1-episode-1.mp4\n"
     ]
    },
    {
     "data": {
      "text/html": [
       "<div style=\"width: 200px; height: 100px;; border: 1px solid #5733FF;\"><video loop autoplay  width=\"200\"  height=\"100\">\n",
       " <source src=\"data:video/mp4;base64,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\" type=\"video/mp4\">\n",
       " Your browser does not support the video tag.\n",
       " </video></div>"
      ],
      "text/plain": [
       "<IPython.core.display.HTML object>"
      ]
     },
     "metadata": {},
     "output_type": "display_data"
    },
    {
     "name": "stdout",
     "output_type": "stream",
     "text": [
      "test/ ex1-episode-2.mp4\n"
     ]
    },
    {
     "data": {
      "text/html": [
       "<div style=\"width: 200px; height: 100px;; border: 1px solid #5733FF;\"><video loop autoplay  width=\"200\"  height=\"100\">\n",
       " <source src=\"data:video/mp4;base64,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\" type=\"video/mp4\">\n",
       " Your browser does not support the video tag.\n",
       " </video></div>"
      ],
      "text/plain": [
       "<IPython.core.display.HTML object>"
      ]
     },
     "metadata": {},
     "output_type": "display_data"
    },
    {
     "name": "stdout",
     "output_type": "stream",
     "text": [
      "test/ ex1-episode-3.mp4\n"
     ]
    },
    {
     "data": {
      "text/html": [
       "<div style=\"width: 200px; height: 100px;; border: 1px solid #5733FF;\"><video loop autoplay  width=\"200\"  height=\"100\">\n",
       " <source src=\"data:video/mp4;base64,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\" type=\"video/mp4\">\n",
       " Your browser does not support the video tag.\n",
       " </video></div>"
      ],
      "text/plain": [
       "<IPython.core.display.HTML object>"
      ]
     },
     "metadata": {},
     "output_type": "display_data"
    },
    {
     "name": "stdout",
     "output_type": "stream",
     "text": [
      "test/ ex1-episode-4.mp4\n"
     ]
    },
    {
     "data": {
      "text/html": [
       "<div style=\"width: 200px; height: 100px;; border: 1px solid #5733FF;\"><video loop autoplay  width=\"200\"  height=\"100\">\n",
       " <source src=\"data:video/mp4;base64,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\" type=\"video/mp4\">\n",
       " Your browser does not support the video tag.\n",
       " </video></div>"
      ],
      "text/plain": [
       "<IPython.core.display.HTML object>"
      ]
     },
     "metadata": {},
     "output_type": "display_data"
    },
    {
     "name": "stdout",
     "output_type": "stream",
     "text": [
      "test/ ex1-episode-5.mp4\n"
     ]
    },
    {
     "data": {
      "text/html": [
       "<div style=\"width: 200px; height: 100px;; border: 1px solid #5733FF;\"><video loop autoplay  width=\"200\"  height=\"100\">\n",
       " <source src=\"data:video/mp4;base64,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\" type=\"video/mp4\">\n",
       " Your browser does not support the video tag.\n",
       " </video></div>"
      ],
      "text/plain": [
       "<IPython.core.display.HTML object>"
      ]
     },
     "metadata": {},
     "output_type": "display_data"
    },
    {
     "name": "stdout",
     "output_type": "stream",
     "text": [
      "test/ ex1-episode-6.mp4\n"
     ]
    },
    {
     "data": {
      "text/html": [
       "<div style=\"width: 200px; height: 100px;; border: 1px solid #5733FF;\"><video loop autoplay  width=\"200\"  height=\"100\">\n",
       " <source src=\"data:video/mp4;base64,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\" type=\"video/mp4\">\n",
       " Your browser does not support the video tag.\n",
       " </video></div>"
      ],
      "text/plain": [
       "<IPython.core.display.HTML object>"
      ]
     },
     "metadata": {},
     "output_type": "display_data"
    },
    {
     "name": "stdout",
     "output_type": "stream",
     "text": [
      "test/ ex1-episode-7.mp4\n"
     ]
    },
    {
     "data": {
      "text/html": [
       "<div style=\"width: 200px; height: 100px;; border: 1px solid #5733FF;\"><video loop autoplay  width=\"200\"  height=\"100\">\n",
       " <source src=\"data:video/mp4;base64,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\" type=\"video/mp4\">\n",
       " Your browser does not support the video tag.\n",
       " </video></div>"
      ],
      "text/plain": [
       "<IPython.core.display.HTML object>"
      ]
     },
     "metadata": {},
     "output_type": "display_data"
    },
    {
     "name": "stdout",
     "output_type": "stream",
     "text": [
      "test/ ex1-episode-8.mp4\n"
     ]
    },
    {
     "data": {
      "text/html": [
       "<div style=\"width: 200px; height: 100px;; border: 1px solid #5733FF;\"><video loop autoplay  width=\"200\"  height=\"100\">\n",
       " <source src=\"data:video/mp4;base64,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\" type=\"video/mp4\">\n",
       " Your browser does not support the video tag.\n",
       " </video></div>"
      ],
      "text/plain": [
       "<IPython.core.display.HTML object>"
      ]
     },
     "metadata": {},
     "output_type": "display_data"
    },
    {
     "name": "stdout",
     "output_type": "stream",
     "text": [
      "test/ ex1-episode-9.mp4\n"
     ]
    },
    {
     "data": {
      "text/html": [
       "<div style=\"width: 200px; height: 100px;; border: 1px solid #5733FF;\"><video loop autoplay  width=\"200\"  height=\"100\">\n",
       " <source src=\"data:video/mp4;base64,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\" type=\"video/mp4\">\n",
       " Your browser does not support the video tag.\n",
       " </video></div>"
      ],
      "text/plain": [
       "<IPython.core.display.HTML object>"
      ]
     },
     "metadata": {},
     "output_type": "display_data"
    }
   ],
   "source": [
    "if not skip_training:\n",
    "    # Test Result\n",
    "    \n",
    "    video_dir = work_dir/'video'/'CartPole-v1'/'test'\n",
    "    \n",
    "    # List all MP4 files in the directory\n",
    "    mp4_files = [file for file in os.listdir(video_dir) if file.endswith(\".mp4\")]\n",
    "    frame_colors = ['#FF5733', '#33FF57', '#5733FF', '#FFFF33', '#33FFFF', '#FF33FF']\n",
    "    # Display each MP4 file\n",
    "    for i, mp4_file in enumerate(mp4_files):\n",
    "        video_path = os.path.join(video_dir, mp4_file)\n",
    "        video = Video(video_path, embed=True, html_attributes=\"loop autoplay\", width=200, height=100)\n",
    "        frame_color = frame_colors[i % len(frame_colors)]\n",
    "        video_frame = HTML(f'<div style=\"width: 200px; height: 100px;; border: 1px solid #5733FF;\">{video._repr_html_()}</div>')\n",
    "        print(\"test/\",mp4_file)\n",
    "        display(video_frame)"
   ]
  },
  {
   "cell_type": "markdown",
   "id": "d1d8f79e-0821-4951-85ed-f5bce7abf438",
   "metadata": {
    "deletable": false,
    "editable": false,
    "nbgrader": {
     "cell_type": "markdown",
     "checksum": "29f3456bbec5bacc9d93ec415d74e5d3",
     "grade": false,
     "grade_id": "cell-9b1e05f80922c2bf",
     "locked": true,
     "schema_version": 3,
     "solution": false,
     "task": false
    },
    "tags": []
   },
   "source": [
    "<a id='Q1'></a>\n",
    "<div class=\" alert alert-warning\">\n",
    "    <h3><b>Student Question 1.1</b> Learning (10 points) </h3> \n",
    "\n",
    "Test the trained model from Task 1 five times with different random seeds. Did the same model, trained to balance for 100 timesteps, learn to always balance the pole for 1000 timesteps? Why/why not?\n",
    "    \n",
    "🔝\t<a href='#TOC'><b>Table of Contents</b></a>\n",
    "</div>\n"
   ]
  },
  {
   "cell_type": "code",
   "execution_count": 9,
   "id": "e76718b1",
   "metadata": {},
   "outputs": [],
   "source": [
    "#Evaluate the trained model by setting 5 different random seeds chosen by you\n",
    "#Type 5 different  random seeds  in eval_seeds array\n",
    "eval_seeds =  [ 2,  4,  8,  69,  99999]"
   ]
  },
  {
   "cell_type": "code",
   "execution_count": 10,
   "id": "1549ae65",
   "metadata": {
    "deletable": false,
    "editable": false,
    "nbgrader": {
     "cell_type": "code",
     "checksum": "55507b4aacb261bb5e0c39e9fb9933f9",
     "grade": true,
     "grade_id": "cell-a885538088286a64",
     "locked": true,
     "points": 0,
     "schema_version": 3,
     "solution": false,
     "task": false
    }
   },
   "outputs": [],
   "source": [
    "assert len(set(eval_seeds)) == 5"
   ]
  },
  {
   "cell_type": "code",
   "execution_count": 11,
   "id": "14d21282-3aa1-447b-9e15-173a8a5586a6",
   "metadata": {
    "deletable": false,
    "editable": false,
    "nbgrader": {
     "cell_type": "code",
     "checksum": "ebb50086ad7448789468612578cd825d",
     "grade": true,
     "grade_id": "cell-2f9ca7392eabd6d2",
     "locked": true,
     "points": 0,
     "schema_version": 3,
     "solution": false,
     "task": false
    }
   },
   "outputs": [
    {
     "name": "stdout",
     "output_type": "stream",
     "text": [
      "Numpy/Torch/Random Seed:  2\n",
      "Loading model from /notebooks/rl2025/ex1/results/model/CartPole-v1_params.pt ...\n",
      "Testing...\n",
      "Test ep reward: 128.0 seed: 2\n",
      "Average test reward: 128.0 episode length: 128.0\n",
      "Numpy/Torch/Random Seed:  4\n",
      "Loading model from /notebooks/rl2025/ex1/results/model/CartPole-v1_params.pt ...\n",
      "Testing...\n",
      "Test ep reward: 141.0 seed: 4\n",
      "Average test reward: 141.0 episode length: 141.0\n",
      "Numpy/Torch/Random Seed:  8\n",
      "Loading model from /notebooks/rl2025/ex1/results/model/CartPole-v1_params.pt ...\n",
      "Testing...\n",
      "Test ep reward: 125.0 seed: 8\n",
      "Average test reward: 125.0 episode length: 125.0\n",
      "Numpy/Torch/Random Seed:  69\n",
      "Loading model from /notebooks/rl2025/ex1/results/model/CartPole-v1_params.pt ...\n",
      "Testing...\n",
      "Test ep reward: 137.0 seed: 69\n",
      "Average test reward: 137.0 episode length: 137.0\n",
      "Numpy/Torch/Random Seed:  99999\n",
      "Loading model from /notebooks/rl2025/ex1/results/model/CartPole-v1_params.pt ...\n",
      "Testing...\n",
      "Test ep reward: 121.0 seed: 99999\n",
      "Average test reward: 121.0 episode length: 121.0\n"
     ]
    }
   ],
   "source": [
    "%%capture --no-stdout\n",
    "def question1_1_evaluate1(eval_seeds):\n",
    "    mean_reward = []\n",
    "\n",
    "    for seed in eval_seeds:\n",
    "        acc_rewards = t.test(episodes=1, cfg_path=Path().cwd()/'cfg'/'cartpole_v1.yaml', \n",
    "            cfg_args=dict(testing=True,save_video=False, save_logging=False, save_model=False, \n",
    "            seed=seed, max_episode_steps=1000, model_name=\"CartPole-v1\"))\n",
    "        mean_reward.append(acc_rewards)\n",
    "\n",
    "    return np.mean(mean_reward)\n",
    "\n",
    "assert question1_1_evaluate1(eval_seeds) > 100"
   ]
  },
  {
   "cell_type": "markdown",
   "id": "f868c5da-6965-4a2b-ab66-4720486be2ac",
   "metadata": {
    "deletable": false,
    "editable": false,
    "nbgrader": {
     "cell_type": "markdown",
     "checksum": "a8a797866432c49e79a07cbe95f60a7d",
     "grade": false,
     "grade_id": "cell-34afac26642e2bc4",
     "locked": true,
     "schema_version": 3,
     "solution": false,
     "task": false
    },
    "tags": []
   },
   "source": [
    "### Question:\n",
    "Did the same model consistently balance the pole for 1000 timesteps? There are multiple correct answers. Choose the one you think is most appropriate.\n",
    "\n",
    "**Options:**\n",
    "Choose **only one**:\n",
    "\n",
    "1. No, the agent generally failed around 100-200 timesteps because it encountered unfamiliar states.\n",
    "\n",
    "2. Yes, the agent balanced the pole for 1000 timesteps in every test due to a perfectly learned policy.\n",
    "\n",
    "3. No, although the agent sometimes balanced the pole for 1000 timesteps, it typically failed due to limited generalization to new states.\n",
    "\n",
    "4. No, the agent frequently moved out of bounds or the pole tilted too much, showing poor adaptation.\n",
    "\n",
    "5. Yes, the agent demonstrated perfect control in all tests due to effective training.\n",
    "\n",
    "6. No, the agent's performance varied significantly with different random seeds, indicating inconsistency in learned behavior."
   ]
  },
  {
   "cell_type": "code",
   "execution_count": 15,
   "id": "3b571667",
   "metadata": {},
   "outputs": [],
   "source": [
    "sq1_1 = 1 # Answer question 1.1 with the appropriate answer number"
   ]
  },
  {
   "cell_type": "code",
   "execution_count": 16,
   "id": "53d85d22",
   "metadata": {
    "deletable": false,
    "editable": false,
    "nbgrader": {
     "cell_type": "code",
     "checksum": "11c62ac2a464b078e231c9be051ec0cc",
     "grade": true,
     "grade_id": "cell-c0b2457bfc16e0b6",
     "locked": true,
     "points": 0,
     "schema_version": 3,
     "solution": false,
     "task": false
    }
   },
   "outputs": [],
   "source": [
    "assert sq1_1 in range(1,8)"
   ]
  },
  {
   "cell_type": "markdown",
   "id": "7b9cf487-ff8d-4f29-8567-878bac8660ba",
   "metadata": {},
   "source": [
    "The following cells are used for grading"
   ]
  },
  {
   "cell_type": "code",
   "execution_count": null,
   "id": "a14c81c7",
   "metadata": {
    "deletable": false,
    "editable": false,
    "nbgrader": {
     "cell_type": "code",
     "checksum": "d5b622a3c44df9ba7ba3b01cfcc246d6",
     "grade": true,
     "grade_id": "cell-c5e675812f807564",
     "locked": true,
     "points": 10,
     "schema_version": 3,
     "solution": false,
     "task": false
    },
    "tags": []
   },
   "outputs": [],
   "source": []
  },
  {
   "cell_type": "markdown",
   "id": "9cd34808-3bf7-461d-bca4-160adac7c409",
   "metadata": {
    "deletable": false,
    "editable": false,
    "nbgrader": {
     "cell_type": "markdown",
     "checksum": "404aae2a11c55e21c7625ae8a845b515",
     "grade": false,
     "grade_id": "cell-6fdccf7da0340917",
     "locked": true,
     "schema_version": 3,
     "solution": false,
     "task": false
    }
   },
   "source": [
    "<a id='T2'></a>\n",
    "<div class=\" alert alert-warning\">\n",
    "    <h3><b>Student Task 2.</b> Investigating Training Performance (12 points) </h3> \n",
    "\n",
    "Repeat the experiment in Task 1 five times, each time training the model from scratch with 100 timesteps and testing it for 1000 timesteps. Use a different seed number for each training/testing cycle. You can use the box below to write a small script to do this. Use the result textbox below to report the average test reward for each repeat. \n",
    "    \n",
    "🔝\t<a href='#TOC'><b>Table of Contents</b></a>\n",
    "</div>\n"
   ]
  },
  {
   "cell_type": "markdown",
   "id": "07b9a784-0319-4413-9412-309054f88421",
   "metadata": {
    "deletable": false,
    "editable": false,
    "nbgrader": {
     "cell_type": "markdown",
     "checksum": "0e6bbcf84dee7d5a7e4e77f40fef39da",
     "grade": false,
     "grade_id": "cell-52c4064985fce5f1",
     "locked": true,
     "schema_version": 3,
     "solution": false,
     "task": false
    }
   },
   "source": [
    "Make sure to change the model_name for each agent to the ones given and and that the respective parameter file is saved in results/model/\n",
    "\n",
    "In order to get the points for this exercise each of the agents must have a test accuracy of higher than 100."
   ]
  },
  {
   "cell_type": "code",
   "execution_count": 44,
   "id": "01cb1f80",
   "metadata": {},
   "outputs": [
    {
     "name": "stdout",
     "output_type": "stream",
     "text": [
      "Numpy/Torch/Random Seed:  8\n",
      "Configuration Settings: {'exp_name': 'ex1', 'seed': 8, 'env_name': 'CartPole-v1', 'model_name': 'CartPole-v1-model0', 'max_episode_steps': 100, 'train_episodes': 500, 'batch_size': 64, 'min_update_samples': 2000, 'testing': False, 'model_path': 'default', 'save_video': True, 'save_model': True, 'save_logging': True, 'silent': False, 'use_wandb': True, 'run_suffix': 0, 'results_dir': '/notebooks/rl2025/ex1/results/model'}\n",
      "Training device: cpu\n",
      "Observation space dimensions: 4\n",
      "Action space dimensions: 2\n",
      "\n",
      "Episode 0 finished. Total reward: 17.0 (17 timesteps)\n",
      "Episode 5 finished. Total reward: 12.0 (12 timesteps)\n",
      "Episode 10 finished. Total reward: 52.0 (52 timesteps)\n",
      "Episode 15 finished. Total reward: 21.0 (21 timesteps)\n",
      "Episode 20 finished. Total reward: 29.0 (29 timesteps)\n",
      "Episode 25 finished. Total reward: 17.0 (17 timesteps)\n",
      "Episode 30 finished. Total reward: 29.0 (29 timesteps)\n",
      "Episode 35 finished. Total reward: 16.0 (16 timesteps)\n",
      "Episode 40 finished. Total reward: 28.0 (28 timesteps)\n",
      "Episode 45 finished. Total reward: 16.0 (16 timesteps)\n",
      "Episode 50 finished. Total reward: 32.0 (32 timesteps)\n",
      "Episode 55 finished. Total reward: 32.0 (32 timesteps)\n",
      "Episode 60 finished. Total reward: 11.0 (11 timesteps)\n",
      "Episode 65 finished. Total reward: 29.0 (29 timesteps)\n",
      "Episode 70 finished. Total reward: 14.0 (14 timesteps)\n",
      "Episode 75 finished. Total reward: 36.0 (36 timesteps)\n",
      "Episode 80 finished. Total reward: 11.0 (11 timesteps)\n",
      "Updating the policy...\n",
      "Updating finished!\n",
      "Episode 85 finished. Total reward: 37.0 (37 timesteps)\n",
      "Episode 90 finished. Total reward: 26.0 (26 timesteps)\n",
      "Episode 95 finished. Total reward: 18.0 (18 timesteps)\n",
      "Episode 100 finished. Total reward: 50.0 (50 timesteps)\n",
      "Episode 105 finished. Total reward: 87.0 (87 timesteps)\n",
      "Episode 110 finished. Total reward: 53.0 (53 timesteps)\n",
      "Episode 115 finished. Total reward: 13.0 (13 timesteps)\n",
      "Episode 120 finished. Total reward: 25.0 (25 timesteps)\n",
      "Episode 125 finished. Total reward: 30.0 (30 timesteps)\n",
      "Episode 130 finished. Total reward: 16.0 (16 timesteps)\n",
      "Episode 135 finished. Total reward: 46.0 (46 timesteps)\n",
      "Episode 140 finished. Total reward: 18.0 (18 timesteps)\n",
      "Updating the policy...\n",
      "Updating finished!\n",
      "Episode 145 finished. Total reward: 54.0 (54 timesteps)\n",
      "Episode 150 finished. Total reward: 38.0 (38 timesteps)\n",
      "Episode 155 finished. Total reward: 37.0 (37 timesteps)\n",
      "Episode 160 finished. Total reward: 40.0 (40 timesteps)\n",
      "Episode 165 finished. Total reward: 53.0 (53 timesteps)\n",
      "Episode 170 finished. Total reward: 43.0 (43 timesteps)\n",
      "Episode 175 finished. Total reward: 97.0 (97 timesteps)\n",
      "Episode 180 finished. Total reward: 53.0 (53 timesteps)\n",
      "Episode 185 finished. Total reward: 39.0 (39 timesteps)\n",
      "Updating the policy...\n",
      "Updating finished!\n",
      "Episode 190 finished. Total reward: 100.0 (100 timesteps)\n",
      "Episode 195 finished. Total reward: 65.0 (65 timesteps)\n",
      "Episode 200 finished. Total reward: 52.0 (52 timesteps)\n",
      "Episode 205 finished. Total reward: 74.0 (74 timesteps)\n",
      "Episode 210 finished. Total reward: 100.0 (100 timesteps)\n",
      "Episode 215 finished. Total reward: 17.0 (17 timesteps)\n",
      "Updating the policy...\n",
      "Updating finished!\n",
      "Episode 220 finished. Total reward: 100.0 (100 timesteps)\n",
      "Episode 225 finished. Total reward: 100.0 (100 timesteps)\n",
      "Episode 230 finished. Total reward: 100.0 (100 timesteps)\n",
      "Episode 235 finished. Total reward: 70.0 (70 timesteps)\n",
      "Episode 240 finished. Total reward: 100.0 (100 timesteps)\n",
      "Updating the policy...\n",
      "Updating finished!\n",
      "Episode 245 finished. Total reward: 100.0 (100 timesteps)\n",
      "Episode 250 finished. Total reward: 100.0 (100 timesteps)\n",
      "Episode 255 finished. Total reward: 100.0 (100 timesteps)\n",
      "Episode 260 finished. Total reward: 100.0 (100 timesteps)\n",
      "Updating the policy...\n",
      "Updating finished!\n",
      "Episode 265 finished. Total reward: 100.0 (100 timesteps)\n",
      "Episode 270 finished. Total reward: 100.0 (100 timesteps)\n",
      "Episode 275 finished. Total reward: 100.0 (100 timesteps)\n",
      "Episode 280 finished. Total reward: 100.0 (100 timesteps)\n",
      "Updating the policy...\n",
      "Updating finished!\n",
      "Episode 285 finished. Total reward: 89.0 (89 timesteps)\n",
      "Episode 290 finished. Total reward: 100.0 (100 timesteps)\n",
      "Episode 295 finished. Total reward: 100.0 (100 timesteps)\n",
      "Episode 300 finished. Total reward: 100.0 (100 timesteps)\n",
      "Updating the policy...\n",
      "Updating finished!\n",
      "Episode 305 finished. Total reward: 93.0 (93 timesteps)\n",
      "Episode 310 finished. Total reward: 100.0 (100 timesteps)\n",
      "Episode 315 finished. Total reward: 100.0 (100 timesteps)\n",
      "Episode 320 finished. Total reward: 100.0 (100 timesteps)\n",
      "Episode 325 finished. Total reward: 100.0 (100 timesteps)\n",
      "Updating the policy...\n",
      "Updating finished!\n",
      "Episode 330 finished. Total reward: 100.0 (100 timesteps)\n",
      "Episode 335 finished. Total reward: 100.0 (100 timesteps)\n",
      "Episode 340 finished. Total reward: 100.0 (100 timesteps)\n",
      "Episode 345 finished. Total reward: 100.0 (100 timesteps)\n",
      "Updating the policy...\n",
      "Updating finished!\n",
      "Episode 350 finished. Total reward: 97.0 (97 timesteps)\n",
      "Episode 355 finished. Total reward: 100.0 (100 timesteps)\n",
      "Episode 360 finished. Total reward: 100.0 (100 timesteps)\n",
      "Episode 365 finished. Total reward: 100.0 (100 timesteps)\n",
      "Episode 370 finished. Total reward: 100.0 (100 timesteps)\n",
      "Updating the policy...\n",
      "Updating finished!\n",
      "Episode 375 finished. Total reward: 100.0 (100 timesteps)\n",
      "Episode 380 finished. Total reward: 100.0 (100 timesteps)\n",
      "Episode 385 finished. Total reward: 100.0 (100 timesteps)\n",
      "Episode 390 finished. Total reward: 100.0 (100 timesteps)\n",
      "Updating the policy...\n",
      "Updating finished!\n",
      "Episode 395 finished. Total reward: 100.0 (100 timesteps)\n",
      "Episode 400 finished. Total reward: 100.0 (100 timesteps)\n",
      "Episode 405 finished. Total reward: 100.0 (100 timesteps)\n",
      "Episode 410 finished. Total reward: 100.0 (100 timesteps)\n",
      "Updating the policy...\n",
      "Updating finished!\n",
      "Episode 415 finished. Total reward: 100.0 (100 timesteps)\n",
      "Episode 420 finished. Total reward: 100.0 (100 timesteps)\n",
      "Episode 425 finished. Total reward: 100.0 (100 timesteps)\n",
      "Episode 430 finished. Total reward: 100.0 (100 timesteps)\n",
      "Updating the policy...\n",
      "Updating finished!\n",
      "Episode 435 finished. Total reward: 100.0 (100 timesteps)\n",
      "Episode 440 finished. Total reward: 100.0 (100 timesteps)\n",
      "Episode 445 finished. Total reward: 100.0 (100 timesteps)\n",
      "Episode 450 finished. Total reward: 100.0 (100 timesteps)\n",
      "Updating the policy...\n",
      "Updating finished!\n",
      "Episode 455 finished. Total reward: 100.0 (100 timesteps)\n",
      "Episode 460 finished. Total reward: 100.0 (100 timesteps)\n",
      "Episode 465 finished. Total reward: 100.0 (100 timesteps)\n",
      "Episode 470 finished. Total reward: 100.0 (100 timesteps)\n",
      "Updating the policy...\n",
      "Updating finished!\n",
      "Episode 475 finished. Total reward: 100.0 (100 timesteps)\n",
      "Episode 480 finished. Total reward: 100.0 (100 timesteps)\n",
      "Episode 485 finished. Total reward: 100.0 (100 timesteps)\n",
      "Episode 490 finished. Total reward: 100.0 (100 timesteps)\n",
      "Updating the policy...\n",
      "Updating finished!\n",
      "Episode 495 finished. Total reward: 100.0 (100 timesteps)\n",
      "Episode 500 finished. Total reward: 100.0 (100 timesteps)\n",
      "Model saved to /notebooks/rl2025/ex1/results/model/CartPole-v1-model0_params.pt\n",
      "------Training finished.------\n",
      "Numpy/Torch/Random Seed:  69\n",
      "Configuration Settings: {'exp_name': 'ex1', 'seed': 69, 'env_name': 'CartPole-v1', 'model_name': 'CartPole-v1-model1', 'max_episode_steps': 100, 'train_episodes': 500, 'batch_size': 64, 'min_update_samples': 2000, 'testing': False, 'model_path': 'default', 'save_video': True, 'save_model': True, 'save_logging': True, 'silent': False, 'use_wandb': True, 'run_suffix': 0, 'results_dir': '/notebooks/rl2025/ex1/results/model'}\n",
      "Training device: cpu\n",
      "Observation space dimensions: 4\n",
      "Action space dimensions: 2\n",
      "\n",
      "Episode 0 finished. Total reward: 24.0 (24 timesteps)\n",
      "Episode 5 finished. Total reward: 10.0 (10 timesteps)\n",
      "Episode 10 finished. Total reward: 14.0 (14 timesteps)\n",
      "Episode 15 finished. Total reward: 57.0 (57 timesteps)\n",
      "Episode 20 finished. Total reward: 14.0 (14 timesteps)\n",
      "Episode 25 finished. Total reward: 24.0 (24 timesteps)\n",
      "Episode 30 finished. Total reward: 26.0 (26 timesteps)\n",
      "Episode 35 finished. Total reward: 23.0 (23 timesteps)\n",
      "Episode 40 finished. Total reward: 9.0 (9 timesteps)\n",
      "Episode 45 finished. Total reward: 16.0 (16 timesteps)\n",
      "Episode 50 finished. Total reward: 10.0 (10 timesteps)\n",
      "Episode 55 finished. Total reward: 30.0 (30 timesteps)\n",
      "Episode 60 finished. Total reward: 17.0 (17 timesteps)\n",
      "Episode 65 finished. Total reward: 19.0 (19 timesteps)\n",
      "Episode 70 finished. Total reward: 25.0 (25 timesteps)\n",
      "Episode 75 finished. Total reward: 49.0 (49 timesteps)\n",
      "Episode 80 finished. Total reward: 19.0 (19 timesteps)\n",
      "Episode 85 finished. Total reward: 35.0 (35 timesteps)\n",
      "Episode 90 finished. Total reward: 22.0 (22 timesteps)\n",
      "Updating the policy...\n",
      "Updating finished!\n",
      "Episode 95 finished. Total reward: 14.0 (14 timesteps)\n",
      "Episode 100 finished. Total reward: 17.0 (17 timesteps)\n",
      "Episode 105 finished. Total reward: 78.0 (78 timesteps)\n",
      "Episode 110 finished. Total reward: 13.0 (13 timesteps)\n",
      "Episode 115 finished. Total reward: 13.0 (13 timesteps)\n",
      "Episode 120 finished. Total reward: 35.0 (35 timesteps)\n",
      "Episode 125 finished. Total reward: 13.0 (13 timesteps)\n",
      "Episode 130 finished. Total reward: 36.0 (36 timesteps)\n",
      "Episode 135 finished. Total reward: 45.0 (45 timesteps)\n",
      "Episode 140 finished. Total reward: 100.0 (100 timesteps)\n",
      "Episode 145 finished. Total reward: 67.0 (67 timesteps)\n",
      "Episode 150 finished. Total reward: 12.0 (12 timesteps)\n",
      "Episode 155 finished. Total reward: 27.0 (27 timesteps)\n",
      "Episode 160 finished. Total reward: 23.0 (23 timesteps)\n",
      "Updating the policy...\n",
      "Updating finished!\n",
      "Episode 165 finished. Total reward: 13.0 (13 timesteps)\n",
      "Episode 170 finished. Total reward: 14.0 (14 timesteps)\n",
      "Episode 175 finished. Total reward: 67.0 (67 timesteps)\n",
      "Episode 180 finished. Total reward: 19.0 (19 timesteps)\n",
      "Episode 185 finished. Total reward: 27.0 (27 timesteps)\n",
      "Episode 190 finished. Total reward: 17.0 (17 timesteps)\n",
      "Episode 195 finished. Total reward: 44.0 (44 timesteps)\n",
      "Episode 200 finished. Total reward: 18.0 (18 timesteps)\n",
      "Episode 205 finished. Total reward: 37.0 (37 timesteps)\n",
      "Updating the policy...\n",
      "Updating finished!\n",
      "Episode 210 finished. Total reward: 18.0 (18 timesteps)\n",
      "Episode 215 finished. Total reward: 100.0 (100 timesteps)\n",
      "Episode 220 finished. Total reward: 76.0 (76 timesteps)\n",
      "Episode 225 finished. Total reward: 29.0 (29 timesteps)\n",
      "Episode 230 finished. Total reward: 100.0 (100 timesteps)\n",
      "Updating the policy...\n",
      "Updating finished!\n",
      "Episode 235 finished. Total reward: 86.0 (86 timesteps)\n",
      "Episode 240 finished. Total reward: 100.0 (100 timesteps)\n",
      "Episode 245 finished. Total reward: 18.0 (18 timesteps)\n",
      "Episode 250 finished. Total reward: 100.0 (100 timesteps)\n",
      "Episode 255 finished. Total reward: 100.0 (100 timesteps)\n",
      "Updating the policy...\n",
      "Updating finished!\n",
      "Episode 260 finished. Total reward: 100.0 (100 timesteps)\n",
      "Episode 265 finished. Total reward: 54.0 (54 timesteps)\n",
      "Episode 270 finished. Total reward: 60.0 (60 timesteps)\n",
      "Episode 275 finished. Total reward: 100.0 (100 timesteps)\n",
      "Updating the policy...\n",
      "Updating finished!\n",
      "Episode 280 finished. Total reward: 100.0 (100 timesteps)\n",
      "Episode 285 finished. Total reward: 100.0 (100 timesteps)\n",
      "Episode 290 finished. Total reward: 100.0 (100 timesteps)\n",
      "Episode 295 finished. Total reward: 100.0 (100 timesteps)\n",
      "Episode 300 finished. Total reward: 100.0 (100 timesteps)\n",
      "Updating the policy...\n",
      "Updating finished!\n",
      "Episode 305 finished. Total reward: 100.0 (100 timesteps)\n",
      "Episode 310 finished. Total reward: 25.0 (25 timesteps)\n",
      "Episode 315 finished. Total reward: 100.0 (100 timesteps)\n",
      "Episode 320 finished. Total reward: 100.0 (100 timesteps)\n",
      "Updating the policy...\n",
      "Updating finished!\n",
      "Episode 325 finished. Total reward: 100.0 (100 timesteps)\n",
      "Episode 330 finished. Total reward: 100.0 (100 timesteps)\n",
      "Episode 335 finished. Total reward: 100.0 (100 timesteps)\n",
      "Episode 340 finished. Total reward: 100.0 (100 timesteps)\n",
      "Updating the policy...\n",
      "Updating finished!\n",
      "Episode 345 finished. Total reward: 100.0 (100 timesteps)\n",
      "Episode 350 finished. Total reward: 89.0 (89 timesteps)\n",
      "Episode 355 finished. Total reward: 100.0 (100 timesteps)\n",
      "Episode 360 finished. Total reward: 100.0 (100 timesteps)\n",
      "Updating the policy...\n",
      "Updating finished!\n",
      "Episode 365 finished. Total reward: 100.0 (100 timesteps)\n",
      "Episode 370 finished. Total reward: 100.0 (100 timesteps)\n",
      "Episode 375 finished. Total reward: 100.0 (100 timesteps)\n",
      "Episode 380 finished. Total reward: 100.0 (100 timesteps)\n",
      "Updating the policy...\n",
      "Updating finished!\n",
      "Episode 385 finished. Total reward: 100.0 (100 timesteps)\n",
      "Episode 390 finished. Total reward: 100.0 (100 timesteps)\n",
      "Episode 395 finished. Total reward: 99.0 (99 timesteps)\n",
      "Episode 400 finished. Total reward: 100.0 (100 timesteps)\n",
      "Updating the policy...\n",
      "Updating finished!\n",
      "Episode 405 finished. Total reward: 100.0 (100 timesteps)\n",
      "Episode 410 finished. Total reward: 100.0 (100 timesteps)\n",
      "Episode 415 finished. Total reward: 100.0 (100 timesteps)\n",
      "Episode 420 finished. Total reward: 100.0 (100 timesteps)\n",
      "Updating the policy...\n",
      "Updating finished!\n",
      "Episode 425 finished. Total reward: 100.0 (100 timesteps)\n",
      "Episode 430 finished. Total reward: 100.0 (100 timesteps)\n",
      "Episode 435 finished. Total reward: 100.0 (100 timesteps)\n",
      "Episode 440 finished. Total reward: 100.0 (100 timesteps)\n",
      "Updating the policy...\n",
      "Updating finished!\n",
      "Episode 445 finished. Total reward: 100.0 (100 timesteps)\n",
      "Episode 450 finished. Total reward: 100.0 (100 timesteps)\n",
      "Episode 455 finished. Total reward: 100.0 (100 timesteps)\n",
      "Episode 460 finished. Total reward: 100.0 (100 timesteps)\n",
      "Updating the policy...\n",
      "Updating finished!\n",
      "Episode 465 finished. Total reward: 100.0 (100 timesteps)\n",
      "Episode 470 finished. Total reward: 100.0 (100 timesteps)\n",
      "Episode 475 finished. Total reward: 100.0 (100 timesteps)\n",
      "Episode 480 finished. Total reward: 100.0 (100 timesteps)\n",
      "Updating the policy...\n",
      "Updating finished!\n",
      "Episode 485 finished. Total reward: 100.0 (100 timesteps)\n",
      "Episode 490 finished. Total reward: 100.0 (100 timesteps)\n",
      "Episode 495 finished. Total reward: 100.0 (100 timesteps)\n",
      "Episode 500 finished. Total reward: 80.0 (80 timesteps)\n",
      "Model saved to /notebooks/rl2025/ex1/results/model/CartPole-v1-model1_params.pt\n",
      "------Training finished.------\n",
      "Numpy/Torch/Random Seed:  400\n",
      "Configuration Settings: {'exp_name': 'ex1', 'seed': 400, 'env_name': 'CartPole-v1', 'model_name': 'CartPole-v1-model2', 'max_episode_steps': 100, 'train_episodes': 500, 'batch_size': 64, 'min_update_samples': 2000, 'testing': False, 'model_path': 'default', 'save_video': True, 'save_model': True, 'save_logging': True, 'silent': False, 'use_wandb': True, 'run_suffix': 0, 'results_dir': '/notebooks/rl2025/ex1/results/model'}\n",
      "Training device: cpu\n",
      "Observation space dimensions: 4\n",
      "Action space dimensions: 2\n",
      "\n",
      "Episode 0 finished. Total reward: 22.0 (22 timesteps)\n",
      "Episode 5 finished. Total reward: 12.0 (12 timesteps)\n",
      "Episode 10 finished. Total reward: 16.0 (16 timesteps)\n",
      "Episode 15 finished. Total reward: 8.0 (8 timesteps)\n",
      "Episode 20 finished. Total reward: 26.0 (26 timesteps)\n",
      "Episode 25 finished. Total reward: 39.0 (39 timesteps)\n",
      "Episode 30 finished. Total reward: 15.0 (15 timesteps)\n",
      "Episode 35 finished. Total reward: 21.0 (21 timesteps)\n",
      "Episode 40 finished. Total reward: 15.0 (15 timesteps)\n",
      "Episode 45 finished. Total reward: 25.0 (25 timesteps)\n",
      "Episode 50 finished. Total reward: 24.0 (24 timesteps)\n",
      "Episode 55 finished. Total reward: 40.0 (40 timesteps)\n",
      "Episode 60 finished. Total reward: 16.0 (16 timesteps)\n",
      "Episode 65 finished. Total reward: 39.0 (39 timesteps)\n",
      "Episode 70 finished. Total reward: 24.0 (24 timesteps)\n",
      "Episode 75 finished. Total reward: 19.0 (19 timesteps)\n",
      "Episode 80 finished. Total reward: 19.0 (19 timesteps)\n",
      "Episode 85 finished. Total reward: 20.0 (20 timesteps)\n",
      "Episode 90 finished. Total reward: 12.0 (12 timesteps)\n",
      "Updating the policy...\n",
      "Updating finished!\n",
      "Episode 95 finished. Total reward: 12.0 (12 timesteps)\n",
      "Episode 100 finished. Total reward: 24.0 (24 timesteps)\n",
      "Episode 105 finished. Total reward: 28.0 (28 timesteps)\n",
      "Episode 110 finished. Total reward: 19.0 (19 timesteps)\n",
      "Episode 115 finished. Total reward: 20.0 (20 timesteps)\n",
      "Episode 120 finished. Total reward: 29.0 (29 timesteps)\n",
      "Episode 125 finished. Total reward: 18.0 (18 timesteps)\n",
      "Episode 130 finished. Total reward: 78.0 (78 timesteps)\n",
      "Episode 135 finished. Total reward: 39.0 (39 timesteps)\n",
      "Episode 140 finished. Total reward: 61.0 (61 timesteps)\n",
      "Episode 145 finished. Total reward: 28.0 (28 timesteps)\n",
      "Episode 150 finished. Total reward: 19.0 (19 timesteps)\n",
      "Episode 155 finished. Total reward: 14.0 (14 timesteps)\n",
      "Updating the policy...\n",
      "Updating finished!\n",
      "Episode 160 finished. Total reward: 57.0 (57 timesteps)\n",
      "Episode 165 finished. Total reward: 75.0 (75 timesteps)\n",
      "Episode 170 finished. Total reward: 67.0 (67 timesteps)\n",
      "Episode 175 finished. Total reward: 26.0 (26 timesteps)\n",
      "Episode 180 finished. Total reward: 21.0 (21 timesteps)\n",
      "Episode 185 finished. Total reward: 32.0 (32 timesteps)\n",
      "Episode 190 finished. Total reward: 31.0 (31 timesteps)\n",
      "Episode 195 finished. Total reward: 22.0 (22 timesteps)\n",
      "Episode 200 finished. Total reward: 71.0 (71 timesteps)\n",
      "Episode 205 finished. Total reward: 70.0 (70 timesteps)\n",
      "Updating the policy...\n",
      "Updating finished!\n",
      "Episode 210 finished. Total reward: 100.0 (100 timesteps)\n",
      "Episode 215 finished. Total reward: 16.0 (16 timesteps)\n",
      "Episode 220 finished. Total reward: 51.0 (51 timesteps)\n",
      "Episode 225 finished. Total reward: 86.0 (86 timesteps)\n",
      "Episode 230 finished. Total reward: 31.0 (31 timesteps)\n",
      "Episode 235 finished. Total reward: 70.0 (70 timesteps)\n",
      "Updating the policy...\n",
      "Updating finished!\n",
      "Episode 240 finished. Total reward: 100.0 (100 timesteps)\n",
      "Episode 245 finished. Total reward: 100.0 (100 timesteps)\n",
      "Episode 250 finished. Total reward: 100.0 (100 timesteps)\n",
      "Episode 255 finished. Total reward: 28.0 (28 timesteps)\n",
      "Episode 260 finished. Total reward: 29.0 (29 timesteps)\n",
      "Updating the policy...\n",
      "Updating finished!\n",
      "Episode 265 finished. Total reward: 100.0 (100 timesteps)\n",
      "Episode 270 finished. Total reward: 100.0 (100 timesteps)\n",
      "Episode 275 finished. Total reward: 100.0 (100 timesteps)\n",
      "Episode 280 finished. Total reward: 100.0 (100 timesteps)\n",
      "Episode 285 finished. Total reward: 100.0 (100 timesteps)\n",
      "Updating the policy...\n",
      "Updating finished!\n",
      "Episode 290 finished. Total reward: 100.0 (100 timesteps)\n",
      "Episode 295 finished. Total reward: 100.0 (100 timesteps)\n",
      "Episode 300 finished. Total reward: 100.0 (100 timesteps)\n",
      "Episode 305 finished. Total reward: 100.0 (100 timesteps)\n",
      "Updating the policy...\n",
      "Updating finished!\n",
      "Episode 310 finished. Total reward: 100.0 (100 timesteps)\n",
      "Episode 315 finished. Total reward: 94.0 (94 timesteps)\n",
      "Episode 320 finished. Total reward: 100.0 (100 timesteps)\n",
      "Episode 325 finished. Total reward: 100.0 (100 timesteps)\n",
      "Updating the policy...\n",
      "Updating finished!\n",
      "Episode 330 finished. Total reward: 100.0 (100 timesteps)\n",
      "Episode 335 finished. Total reward: 100.0 (100 timesteps)\n",
      "Episode 340 finished. Total reward: 100.0 (100 timesteps)\n",
      "Episode 345 finished. Total reward: 100.0 (100 timesteps)\n",
      "Updating the policy...\n",
      "Updating finished!\n",
      "Episode 350 finished. Total reward: 100.0 (100 timesteps)\n",
      "Episode 355 finished. Total reward: 100.0 (100 timesteps)\n",
      "Episode 360 finished. Total reward: 100.0 (100 timesteps)\n",
      "Episode 365 finished. Total reward: 100.0 (100 timesteps)\n",
      "Updating the policy...\n",
      "Updating finished!\n",
      "Episode 370 finished. Total reward: 100.0 (100 timesteps)\n",
      "Episode 375 finished. Total reward: 100.0 (100 timesteps)\n",
      "Episode 380 finished. Total reward: 86.0 (86 timesteps)\n",
      "Episode 385 finished. Total reward: 100.0 (100 timesteps)\n",
      "Updating the policy...\n",
      "Updating finished!\n",
      "Episode 390 finished. Total reward: 100.0 (100 timesteps)\n",
      "Episode 395 finished. Total reward: 100.0 (100 timesteps)\n",
      "Episode 400 finished. Total reward: 100.0 (100 timesteps)\n",
      "Episode 405 finished. Total reward: 100.0 (100 timesteps)\n",
      "Updating the policy...\n",
      "Updating finished!\n",
      "Episode 410 finished. Total reward: 100.0 (100 timesteps)\n",
      "Episode 415 finished. Total reward: 100.0 (100 timesteps)\n",
      "Episode 420 finished. Total reward: 100.0 (100 timesteps)\n",
      "Episode 425 finished. Total reward: 100.0 (100 timesteps)\n",
      "Updating the policy...\n",
      "Updating finished!\n",
      "Episode 430 finished. Total reward: 100.0 (100 timesteps)\n",
      "Episode 435 finished. Total reward: 100.0 (100 timesteps)\n",
      "Episode 440 finished. Total reward: 100.0 (100 timesteps)\n",
      "Episode 445 finished. Total reward: 100.0 (100 timesteps)\n",
      "Updating the policy...\n",
      "Updating finished!\n",
      "Episode 450 finished. Total reward: 100.0 (100 timesteps)\n",
      "Episode 455 finished. Total reward: 100.0 (100 timesteps)\n",
      "Episode 460 finished. Total reward: 96.0 (96 timesteps)\n",
      "Episode 465 finished. Total reward: 47.0 (47 timesteps)\n",
      "Episode 470 finished. Total reward: 35.0 (35 timesteps)\n",
      "Updating the policy...\n",
      "Updating finished!\n",
      "Episode 475 finished. Total reward: 100.0 (100 timesteps)\n",
      "Episode 480 finished. Total reward: 100.0 (100 timesteps)\n",
      "Episode 485 finished. Total reward: 100.0 (100 timesteps)\n",
      "Episode 490 finished. Total reward: 100.0 (100 timesteps)\n",
      "Updating the policy...\n",
      "Updating finished!\n",
      "Episode 495 finished. Total reward: 100.0 (100 timesteps)\n",
      "Episode 500 finished. Total reward: 100.0 (100 timesteps)\n",
      "Model saved to /notebooks/rl2025/ex1/results/model/CartPole-v1-model2_params.pt\n",
      "------Training finished.------\n",
      "Numpy/Torch/Random Seed:  278\n",
      "Configuration Settings: {'exp_name': 'ex1', 'seed': 278, 'env_name': 'CartPole-v1', 'model_name': 'CartPole-v1-model3', 'max_episode_steps': 100, 'train_episodes': 500, 'batch_size': 64, 'min_update_samples': 2000, 'testing': False, 'model_path': 'default', 'save_video': True, 'save_model': True, 'save_logging': True, 'silent': False, 'use_wandb': True, 'run_suffix': 0, 'results_dir': '/notebooks/rl2025/ex1/results/model'}\n",
      "Training device: cpu\n",
      "Observation space dimensions: 4\n",
      "Action space dimensions: 2\n",
      "\n",
      "Episode 0 finished. Total reward: 31.0 (31 timesteps)\n",
      "Episode 5 finished. Total reward: 15.0 (15 timesteps)\n",
      "Episode 10 finished. Total reward: 20.0 (20 timesteps)\n",
      "Episode 15 finished. Total reward: 12.0 (12 timesteps)\n",
      "Episode 20 finished. Total reward: 25.0 (25 timesteps)\n",
      "Episode 25 finished. Total reward: 32.0 (32 timesteps)\n",
      "Episode 30 finished. Total reward: 50.0 (50 timesteps)\n",
      "Episode 35 finished. Total reward: 20.0 (20 timesteps)\n",
      "Episode 40 finished. Total reward: 17.0 (17 timesteps)\n",
      "Episode 45 finished. Total reward: 11.0 (11 timesteps)\n",
      "Episode 50 finished. Total reward: 73.0 (73 timesteps)\n",
      "Episode 55 finished. Total reward: 18.0 (18 timesteps)\n",
      "Episode 60 finished. Total reward: 19.0 (19 timesteps)\n",
      "Episode 65 finished. Total reward: 31.0 (31 timesteps)\n",
      "Episode 70 finished. Total reward: 44.0 (44 timesteps)\n",
      "Episode 75 finished. Total reward: 23.0 (23 timesteps)\n",
      "Episode 80 finished. Total reward: 26.0 (26 timesteps)\n",
      "Episode 85 finished. Total reward: 17.0 (17 timesteps)\n",
      "Episode 90 finished. Total reward: 12.0 (12 timesteps)\n",
      "Updating the policy...\n",
      "Updating finished!\n",
      "Episode 95 finished. Total reward: 33.0 (33 timesteps)\n",
      "Episode 100 finished. Total reward: 34.0 (34 timesteps)\n",
      "Episode 105 finished. Total reward: 16.0 (16 timesteps)\n",
      "Episode 110 finished. Total reward: 61.0 (61 timesteps)\n",
      "Episode 115 finished. Total reward: 35.0 (35 timesteps)\n",
      "Episode 120 finished. Total reward: 17.0 (17 timesteps)\n",
      "Episode 125 finished. Total reward: 17.0 (17 timesteps)\n",
      "Episode 130 finished. Total reward: 39.0 (39 timesteps)\n",
      "Episode 135 finished. Total reward: 25.0 (25 timesteps)\n",
      "Episode 140 finished. Total reward: 15.0 (15 timesteps)\n",
      "Episode 145 finished. Total reward: 17.0 (17 timesteps)\n",
      "Episode 150 finished. Total reward: 23.0 (23 timesteps)\n",
      "Episode 155 finished. Total reward: 17.0 (17 timesteps)\n",
      "Episode 160 finished. Total reward: 30.0 (30 timesteps)\n",
      "Updating the policy...\n",
      "Updating finished!\n",
      "Episode 165 finished. Total reward: 25.0 (25 timesteps)\n",
      "Episode 170 finished. Total reward: 24.0 (24 timesteps)\n",
      "Episode 175 finished. Total reward: 56.0 (56 timesteps)\n",
      "Episode 180 finished. Total reward: 22.0 (22 timesteps)\n",
      "Episode 185 finished. Total reward: 19.0 (19 timesteps)\n",
      "Episode 190 finished. Total reward: 25.0 (25 timesteps)\n",
      "Episode 195 finished. Total reward: 23.0 (23 timesteps)\n",
      "Episode 200 finished. Total reward: 15.0 (15 timesteps)\n",
      "Episode 205 finished. Total reward: 20.0 (20 timesteps)\n",
      "Episode 210 finished. Total reward: 26.0 (26 timesteps)\n",
      "Updating the policy...\n",
      "Updating finished!\n",
      "Episode 215 finished. Total reward: 20.0 (20 timesteps)\n",
      "Episode 220 finished. Total reward: 100.0 (100 timesteps)\n",
      "Episode 225 finished. Total reward: 17.0 (17 timesteps)\n",
      "Episode 230 finished. Total reward: 21.0 (21 timesteps)\n",
      "Episode 235 finished. Total reward: 60.0 (60 timesteps)\n",
      "Episode 240 finished. Total reward: 19.0 (19 timesteps)\n",
      "Episode 245 finished. Total reward: 74.0 (74 timesteps)\n",
      "Updating the policy...\n",
      "Updating finished!\n",
      "Episode 250 finished. Total reward: 100.0 (100 timesteps)\n",
      "Episode 255 finished. Total reward: 66.0 (66 timesteps)\n",
      "Episode 260 finished. Total reward: 100.0 (100 timesteps)\n",
      "Episode 265 finished. Total reward: 26.0 (26 timesteps)\n",
      "Episode 270 finished. Total reward: 54.0 (54 timesteps)\n",
      "Updating the policy...\n",
      "Updating finished!\n",
      "Episode 275 finished. Total reward: 86.0 (86 timesteps)\n",
      "Episode 280 finished. Total reward: 100.0 (100 timesteps)\n",
      "Episode 285 finished. Total reward: 100.0 (100 timesteps)\n",
      "Episode 290 finished. Total reward: 100.0 (100 timesteps)\n",
      "Episode 295 finished. Total reward: 100.0 (100 timesteps)\n",
      "Updating the policy...\n",
      "Updating finished!\n",
      "Episode 300 finished. Total reward: 100.0 (100 timesteps)\n",
      "Episode 305 finished. Total reward: 95.0 (95 timesteps)\n",
      "Episode 310 finished. Total reward: 100.0 (100 timesteps)\n",
      "Episode 315 finished. Total reward: 100.0 (100 timesteps)\n",
      "Updating the policy...\n",
      "Updating finished!\n",
      "Episode 320 finished. Total reward: 100.0 (100 timesteps)\n",
      "Episode 325 finished. Total reward: 100.0 (100 timesteps)\n",
      "Episode 330 finished. Total reward: 100.0 (100 timesteps)\n",
      "Episode 335 finished. Total reward: 100.0 (100 timesteps)\n",
      "Updating the policy...\n",
      "Updating finished!\n",
      "Episode 340 finished. Total reward: 100.0 (100 timesteps)\n",
      "Episode 345 finished. Total reward: 100.0 (100 timesteps)\n",
      "Episode 350 finished. Total reward: 15.0 (15 timesteps)\n",
      "Episode 355 finished. Total reward: 100.0 (100 timesteps)\n",
      "Updating the policy...\n",
      "Updating finished!\n",
      "Episode 360 finished. Total reward: 100.0 (100 timesteps)\n",
      "Episode 365 finished. Total reward: 100.0 (100 timesteps)\n",
      "Episode 370 finished. Total reward: 100.0 (100 timesteps)\n",
      "Episode 375 finished. Total reward: 100.0 (100 timesteps)\n",
      "Updating the policy...\n",
      "Updating finished!\n",
      "Episode 380 finished. Total reward: 44.0 (44 timesteps)\n",
      "Episode 385 finished. Total reward: 100.0 (100 timesteps)\n",
      "Episode 390 finished. Total reward: 85.0 (85 timesteps)\n",
      "Episode 395 finished. Total reward: 16.0 (16 timesteps)\n",
      "Episode 400 finished. Total reward: 100.0 (100 timesteps)\n",
      "Updating the policy...\n",
      "Updating finished!\n",
      "Episode 405 finished. Total reward: 100.0 (100 timesteps)\n",
      "Episode 410 finished. Total reward: 100.0 (100 timesteps)\n",
      "Episode 415 finished. Total reward: 100.0 (100 timesteps)\n",
      "Episode 420 finished. Total reward: 100.0 (100 timesteps)\n",
      "Updating the policy...\n",
      "Updating finished!\n",
      "Episode 425 finished. Total reward: 100.0 (100 timesteps)\n",
      "Episode 430 finished. Total reward: 100.0 (100 timesteps)\n",
      "Episode 435 finished. Total reward: 100.0 (100 timesteps)\n",
      "Episode 440 finished. Total reward: 100.0 (100 timesteps)\n",
      "Updating the policy...\n",
      "Updating finished!\n",
      "Episode 445 finished. Total reward: 100.0 (100 timesteps)\n",
      "Episode 450 finished. Total reward: 100.0 (100 timesteps)\n",
      "Episode 455 finished. Total reward: 100.0 (100 timesteps)\n",
      "Episode 460 finished. Total reward: 43.0 (43 timesteps)\n",
      "Episode 465 finished. Total reward: 100.0 (100 timesteps)\n",
      "Updating the policy...\n",
      "Updating finished!\n",
      "Episode 470 finished. Total reward: 100.0 (100 timesteps)\n",
      "Episode 475 finished. Total reward: 100.0 (100 timesteps)\n",
      "Episode 480 finished. Total reward: 100.0 (100 timesteps)\n",
      "Episode 485 finished. Total reward: 100.0 (100 timesteps)\n",
      "Updating the policy...\n",
      "Updating finished!\n",
      "Episode 490 finished. Total reward: 100.0 (100 timesteps)\n",
      "Episode 495 finished. Total reward: 100.0 (100 timesteps)\n",
      "Episode 500 finished. Total reward: 100.0 (100 timesteps)\n",
      "Model saved to /notebooks/rl2025/ex1/results/model/CartPole-v1-model3_params.pt\n",
      "------Training finished.------\n",
      "Numpy/Torch/Random Seed:  99999\n",
      "Configuration Settings: {'exp_name': 'ex1', 'seed': 99999, 'env_name': 'CartPole-v1', 'model_name': 'CartPole-v1-model4', 'max_episode_steps': 100, 'train_episodes': 500, 'batch_size': 64, 'min_update_samples': 2000, 'testing': False, 'model_path': 'default', 'save_video': True, 'save_model': True, 'save_logging': True, 'silent': False, 'use_wandb': True, 'run_suffix': 0, 'results_dir': '/notebooks/rl2025/ex1/results/model'}\n",
      "Training device: cpu\n",
      "Observation space dimensions: 4\n",
      "Action space dimensions: 2\n",
      "\n",
      "Episode 0 finished. Total reward: 26.0 (26 timesteps)\n",
      "Episode 5 finished. Total reward: 23.0 (23 timesteps)\n",
      "Episode 10 finished. Total reward: 25.0 (25 timesteps)\n",
      "Episode 15 finished. Total reward: 19.0 (19 timesteps)\n",
      "Episode 20 finished. Total reward: 13.0 (13 timesteps)\n",
      "Episode 25 finished. Total reward: 18.0 (18 timesteps)\n",
      "Episode 30 finished. Total reward: 16.0 (16 timesteps)\n",
      "Episode 35 finished. Total reward: 10.0 (10 timesteps)\n",
      "Episode 40 finished. Total reward: 22.0 (22 timesteps)\n",
      "Episode 45 finished. Total reward: 16.0 (16 timesteps)\n",
      "Episode 50 finished. Total reward: 11.0 (11 timesteps)\n",
      "Episode 55 finished. Total reward: 21.0 (21 timesteps)\n",
      "Episode 60 finished. Total reward: 35.0 (35 timesteps)\n",
      "Episode 65 finished. Total reward: 33.0 (33 timesteps)\n",
      "Episode 70 finished. Total reward: 16.0 (16 timesteps)\n",
      "Episode 75 finished. Total reward: 17.0 (17 timesteps)\n",
      "Episode 80 finished. Total reward: 63.0 (63 timesteps)\n",
      "Episode 85 finished. Total reward: 27.0 (27 timesteps)\n",
      "Episode 90 finished. Total reward: 41.0 (41 timesteps)\n",
      "Updating the policy...\n",
      "Updating finished!\n",
      "Episode 95 finished. Total reward: 18.0 (18 timesteps)\n",
      "Episode 100 finished. Total reward: 16.0 (16 timesteps)\n",
      "Episode 105 finished. Total reward: 31.0 (31 timesteps)\n",
      "Episode 110 finished. Total reward: 22.0 (22 timesteps)\n",
      "Episode 115 finished. Total reward: 22.0 (22 timesteps)\n",
      "Episode 120 finished. Total reward: 26.0 (26 timesteps)\n",
      "Episode 125 finished. Total reward: 17.0 (17 timesteps)\n",
      "Episode 130 finished. Total reward: 43.0 (43 timesteps)\n",
      "Episode 135 finished. Total reward: 48.0 (48 timesteps)\n",
      "Episode 140 finished. Total reward: 9.0 (9 timesteps)\n",
      "Episode 145 finished. Total reward: 47.0 (47 timesteps)\n",
      "Episode 150 finished. Total reward: 16.0 (16 timesteps)\n",
      "Episode 155 finished. Total reward: 98.0 (98 timesteps)\n",
      "Episode 160 finished. Total reward: 36.0 (36 timesteps)\n",
      "Updating the policy...\n",
      "Updating finished!\n",
      "Episode 165 finished. Total reward: 24.0 (24 timesteps)\n",
      "Episode 170 finished. Total reward: 40.0 (40 timesteps)\n",
      "Episode 175 finished. Total reward: 41.0 (41 timesteps)\n",
      "Episode 180 finished. Total reward: 11.0 (11 timesteps)\n",
      "Episode 185 finished. Total reward: 33.0 (33 timesteps)\n",
      "Episode 190 finished. Total reward: 27.0 (27 timesteps)\n",
      "Episode 195 finished. Total reward: 63.0 (63 timesteps)\n",
      "Episode 200 finished. Total reward: 17.0 (17 timesteps)\n",
      "Episode 205 finished. Total reward: 52.0 (52 timesteps)\n",
      "Episode 210 finished. Total reward: 45.0 (45 timesteps)\n",
      "Updating the policy...\n",
      "Updating finished!\n",
      "Episode 215 finished. Total reward: 100.0 (100 timesteps)\n",
      "Episode 220 finished. Total reward: 36.0 (36 timesteps)\n",
      "Episode 225 finished. Total reward: 20.0 (20 timesteps)\n",
      "Episode 230 finished. Total reward: 70.0 (70 timesteps)\n",
      "Episode 235 finished. Total reward: 37.0 (37 timesteps)\n",
      "Episode 240 finished. Total reward: 30.0 (30 timesteps)\n",
      "Updating the policy...\n",
      "Updating finished!\n",
      "Episode 245 finished. Total reward: 100.0 (100 timesteps)\n",
      "Episode 250 finished. Total reward: 83.0 (83 timesteps)\n",
      "Episode 255 finished. Total reward: 100.0 (100 timesteps)\n",
      "Episode 260 finished. Total reward: 100.0 (100 timesteps)\n",
      "Episode 265 finished. Total reward: 46.0 (46 timesteps)\n",
      "Updating the policy...\n",
      "Updating finished!\n",
      "Episode 270 finished. Total reward: 100.0 (100 timesteps)\n",
      "Episode 275 finished. Total reward: 100.0 (100 timesteps)\n",
      "Episode 280 finished. Total reward: 100.0 (100 timesteps)\n",
      "Episode 285 finished. Total reward: 100.0 (100 timesteps)\n",
      "Updating the policy...\n",
      "Updating finished!\n",
      "Episode 290 finished. Total reward: 100.0 (100 timesteps)\n",
      "Episode 295 finished. Total reward: 100.0 (100 timesteps)\n",
      "Episode 300 finished. Total reward: 100.0 (100 timesteps)\n",
      "Episode 305 finished. Total reward: 100.0 (100 timesteps)\n",
      "Updating the policy...\n",
      "Updating finished!\n",
      "Episode 310 finished. Total reward: 100.0 (100 timesteps)\n",
      "Episode 315 finished. Total reward: 100.0 (100 timesteps)\n",
      "Episode 320 finished. Total reward: 100.0 (100 timesteps)\n",
      "Episode 325 finished. Total reward: 100.0 (100 timesteps)\n",
      "Episode 330 finished. Total reward: 100.0 (100 timesteps)\n",
      "Updating the policy...\n",
      "Updating finished!\n",
      "Episode 335 finished. Total reward: 100.0 (100 timesteps)\n",
      "Episode 340 finished. Total reward: 100.0 (100 timesteps)\n",
      "Episode 345 finished. Total reward: 100.0 (100 timesteps)\n",
      "Episode 350 finished. Total reward: 100.0 (100 timesteps)\n",
      "Updating the policy...\n",
      "Updating finished!\n",
      "Episode 355 finished. Total reward: 100.0 (100 timesteps)\n",
      "Episode 360 finished. Total reward: 100.0 (100 timesteps)\n",
      "Episode 365 finished. Total reward: 100.0 (100 timesteps)\n",
      "Episode 370 finished. Total reward: 100.0 (100 timesteps)\n",
      "Updating the policy...\n",
      "Updating finished!\n",
      "Episode 375 finished. Total reward: 100.0 (100 timesteps)\n",
      "Episode 380 finished. Total reward: 100.0 (100 timesteps)\n",
      "Episode 385 finished. Total reward: 100.0 (100 timesteps)\n",
      "Episode 390 finished. Total reward: 100.0 (100 timesteps)\n",
      "Updating the policy...\n",
      "Updating finished!\n",
      "Episode 395 finished. Total reward: 100.0 (100 timesteps)\n",
      "Episode 400 finished. Total reward: 100.0 (100 timesteps)\n",
      "Episode 405 finished. Total reward: 100.0 (100 timesteps)\n",
      "Episode 410 finished. Total reward: 100.0 (100 timesteps)\n",
      "Updating the policy...\n",
      "Updating finished!\n",
      "Episode 415 finished. Total reward: 84.0 (84 timesteps)\n",
      "Episode 420 finished. Total reward: 100.0 (100 timesteps)\n",
      "Episode 425 finished. Total reward: 100.0 (100 timesteps)\n",
      "Episode 430 finished. Total reward: 95.0 (95 timesteps)\n",
      "Updating the policy...\n",
      "Updating finished!\n",
      "Episode 435 finished. Total reward: 100.0 (100 timesteps)\n",
      "Episode 440 finished. Total reward: 100.0 (100 timesteps)\n",
      "Episode 445 finished. Total reward: 100.0 (100 timesteps)\n",
      "Episode 450 finished. Total reward: 100.0 (100 timesteps)\n",
      "Updating the policy...\n",
      "Updating finished!\n",
      "Episode 455 finished. Total reward: 100.0 (100 timesteps)\n",
      "Episode 460 finished. Total reward: 100.0 (100 timesteps)\n",
      "Episode 465 finished. Total reward: 100.0 (100 timesteps)\n",
      "Episode 470 finished. Total reward: 100.0 (100 timesteps)\n",
      "Updating the policy...\n",
      "Updating finished!\n",
      "Episode 475 finished. Total reward: 100.0 (100 timesteps)\n",
      "Episode 480 finished. Total reward: 100.0 (100 timesteps)\n",
      "Episode 485 finished. Total reward: 100.0 (100 timesteps)\n",
      "Episode 490 finished. Total reward: 83.0 (83 timesteps)\n",
      "Updating the policy...\n",
      "Updating finished!\n",
      "Episode 495 finished. Total reward: 100.0 (100 timesteps)\n",
      "Episode 500 finished. Total reward: 100.0 (100 timesteps)\n",
      "Model saved to /notebooks/rl2025/ex1/results/model/CartPole-v1-model4_params.pt\n",
      "------Training finished.------\n"
     ]
    }
   ],
   "source": [
    "# %%capture\n",
    "# uncomment if you want to skip the output\n",
    "\n",
    "if not skip_training:\n",
    "    model_names = [\"CartPole-v1-model0\", \"CartPole-v1-model1\", \"CartPole-v1-model2\", \"CartPole-v1-model3\", \"CartPole-v1-model4\"]\n",
    "    model_seeds = [8,  69, 400 , 278, 99999]\n",
    "\n",
    "    assert len(set(model_seeds)) == 5\n",
    "    '''\n",
    "    TODO: Repeat the experiment in Task 1 five times\n",
    "    '''\n",
    "    ########## Your code starts here ##########\n",
    "    for i in range(5):\n",
    "        t.train(cfg_path=Path().cwd()/'cfg'/'cartpole_v1.yaml', \n",
    "                cfg_args=dict(seed=model_seeds[i], \n",
    "                max_episode_steps=100, \n",
    "                model_name=model_names[i], \n",
    "                results_dir=str(Path().cwd() / \"results\" / \"model\")))\n",
    "    ########## Your code ends here ##########\n",
    "\n"
   ]
  },
  {
   "cell_type": "markdown",
   "id": "cbc4c480-90d3-469b-a5b2-07d8fd9355e4",
   "metadata": {},
   "source": [
    "Do not delete the cell below as it is used for grading."
   ]
  },
  {
   "cell_type": "code",
   "execution_count": 45,
   "id": "3b59f4fd",
   "metadata": {
    "deletable": false,
    "editable": false,
    "nbgrader": {
     "cell_type": "code",
     "checksum": "27f80c6109a365207abe48d1a8553f27",
     "grade": true,
     "grade_id": "cell-410200f55bb863ed",
     "locked": true,
     "points": 12,
     "schema_version": 3,
     "solution": false,
     "task": false
    },
    "tags": []
   },
   "outputs": [
    {
     "name": "stdout",
     "output_type": "stream",
     "text": [
      "Numpy/Torch/Random Seed:  700\n",
      "Loading model from /notebooks/rl2025/ex1/results/model/CartPole-v1-model0_params.pt ...\n",
      "Testing...\n",
      "Test ep reward: 239.0 seed: 700\n",
      "Average test reward: 239.0 episode length: 239.0\n",
      "Numpy/Torch/Random Seed:  800\n",
      "Loading model from /notebooks/rl2025/ex1/results/model/CartPole-v1-model0_params.pt ...\n",
      "Testing...\n",
      "Test ep reward: 437.0 seed: 800\n",
      "Average test reward: 437.0 episode length: 437.0\n",
      "Numpy/Torch/Random Seed:  900\n",
      "Loading model from /notebooks/rl2025/ex1/results/model/CartPole-v1-model0_params.pt ...\n",
      "Testing...\n",
      "Test ep reward: 449.0 seed: 900\n",
      "Average test reward: 449.0 episode length: 449.0\n",
      "Numpy/Torch/Random Seed:  1000\n",
      "Loading model from /notebooks/rl2025/ex1/results/model/CartPole-v1-model0_params.pt ...\n",
      "Testing...\n",
      "Test ep reward: 385.0 seed: 1000\n",
      "Average test reward: 385.0 episode length: 385.0\n",
      "Numpy/Torch/Random Seed:  2000\n",
      "Loading model from /notebooks/rl2025/ex1/results/model/CartPole-v1-model0_params.pt ...\n",
      "Testing...\n",
      "Test ep reward: 263.0 seed: 2000\n",
      "Average test reward: 263.0 episode length: 263.0\n",
      "Numpy/Torch/Random Seed:  700\n",
      "Loading model from /notebooks/rl2025/ex1/results/model/CartPole-v1-model1_params.pt ...\n",
      "Testing...\n",
      "Test ep reward: 127.0 seed: 700\n",
      "Average test reward: 127.0 episode length: 127.0\n",
      "Numpy/Torch/Random Seed:  800\n",
      "Loading model from /notebooks/rl2025/ex1/results/model/CartPole-v1-model1_params.pt ...\n",
      "Testing...\n",
      "Test ep reward: 142.0 seed: 800\n",
      "Average test reward: 142.0 episode length: 142.0\n",
      "Numpy/Torch/Random Seed:  900\n",
      "Loading model from /notebooks/rl2025/ex1/results/model/CartPole-v1-model1_params.pt ...\n",
      "Testing...\n",
      "Test ep reward: 133.0 seed: 900\n",
      "Average test reward: 133.0 episode length: 133.0\n",
      "Numpy/Torch/Random Seed:  1000\n",
      "Loading model from /notebooks/rl2025/ex1/results/model/CartPole-v1-model1_params.pt ...\n",
      "Testing...\n",
      "Test ep reward: 143.0 seed: 1000\n",
      "Average test reward: 143.0 episode length: 143.0\n",
      "Numpy/Torch/Random Seed:  2000\n",
      "Loading model from /notebooks/rl2025/ex1/results/model/CartPole-v1-model1_params.pt ...\n",
      "Testing...\n",
      "Test ep reward: 149.0 seed: 2000\n",
      "Average test reward: 149.0 episode length: 149.0\n",
      "Numpy/Torch/Random Seed:  700\n",
      "Loading model from /notebooks/rl2025/ex1/results/model/CartPole-v1-model2_params.pt ...\n",
      "Testing...\n",
      "Test ep reward: 154.0 seed: 700\n",
      "Average test reward: 154.0 episode length: 154.0\n",
      "Numpy/Torch/Random Seed:  800\n",
      "Loading model from /notebooks/rl2025/ex1/results/model/CartPole-v1-model2_params.pt ...\n",
      "Testing...\n",
      "Test ep reward: 177.0 seed: 800\n",
      "Average test reward: 177.0 episode length: 177.0\n",
      "Numpy/Torch/Random Seed:  900\n",
      "Loading model from /notebooks/rl2025/ex1/results/model/CartPole-v1-model2_params.pt ...\n",
      "Testing...\n",
      "Test ep reward: 167.0 seed: 900\n",
      "Average test reward: 167.0 episode length: 167.0\n",
      "Numpy/Torch/Random Seed:  1000\n",
      "Loading model from /notebooks/rl2025/ex1/results/model/CartPole-v1-model2_params.pt ...\n",
      "Testing...\n",
      "Test ep reward: 175.0 seed: 1000\n",
      "Average test reward: 175.0 episode length: 175.0\n",
      "Numpy/Torch/Random Seed:  2000\n",
      "Loading model from /notebooks/rl2025/ex1/results/model/CartPole-v1-model2_params.pt ...\n",
      "Testing...\n",
      "Test ep reward: 251.0 seed: 2000\n",
      "Average test reward: 251.0 episode length: 251.0\n",
      "Numpy/Torch/Random Seed:  700\n",
      "Loading model from /notebooks/rl2025/ex1/results/model/CartPole-v1-model3_params.pt ...\n",
      "Testing...\n",
      "Test ep reward: 131.0 seed: 700\n",
      "Average test reward: 131.0 episode length: 131.0\n",
      "Numpy/Torch/Random Seed:  800\n",
      "Loading model from /notebooks/rl2025/ex1/results/model/CartPole-v1-model3_params.pt ...\n",
      "Testing...\n",
      "Test ep reward: 124.0 seed: 800\n",
      "Average test reward: 124.0 episode length: 124.0\n",
      "Numpy/Torch/Random Seed:  900\n",
      "Loading model from /notebooks/rl2025/ex1/results/model/CartPole-v1-model3_params.pt ...\n",
      "Testing...\n",
      "Test ep reward: 128.0 seed: 900\n",
      "Average test reward: 128.0 episode length: 128.0\n",
      "Numpy/Torch/Random Seed:  1000\n",
      "Loading model from /notebooks/rl2025/ex1/results/model/CartPole-v1-model3_params.pt ...\n",
      "Testing...\n",
      "Test ep reward: 125.0 seed: 1000\n",
      "Average test reward: 125.0 episode length: 125.0\n",
      "Numpy/Torch/Random Seed:  2000\n",
      "Loading model from /notebooks/rl2025/ex1/results/model/CartPole-v1-model3_params.pt ...\n",
      "Testing...\n",
      "Test ep reward: 116.0 seed: 2000\n",
      "Average test reward: 116.0 episode length: 116.0\n",
      "Numpy/Torch/Random Seed:  700\n",
      "Loading model from /notebooks/rl2025/ex1/results/model/CartPole-v1-model4_params.pt ...\n",
      "Testing...\n",
      "Test ep reward: 128.0 seed: 700\n",
      "Average test reward: 128.0 episode length: 128.0\n",
      "Numpy/Torch/Random Seed:  800\n",
      "Loading model from /notebooks/rl2025/ex1/results/model/CartPole-v1-model4_params.pt ...\n",
      "Testing...\n",
      "Test ep reward: 120.0 seed: 800\n",
      "Average test reward: 120.0 episode length: 120.0\n",
      "Numpy/Torch/Random Seed:  900\n",
      "Loading model from /notebooks/rl2025/ex1/results/model/CartPole-v1-model4_params.pt ...\n",
      "Testing...\n",
      "Test ep reward: 123.0 seed: 900\n",
      "Average test reward: 123.0 episode length: 123.0\n",
      "Numpy/Torch/Random Seed:  1000\n",
      "Loading model from /notebooks/rl2025/ex1/results/model/CartPole-v1-model4_params.pt ...\n",
      "Testing...\n",
      "Test ep reward: 122.0 seed: 1000\n",
      "Average test reward: 122.0 episode length: 122.0\n",
      "Numpy/Torch/Random Seed:  2000\n",
      "Loading model from /notebooks/rl2025/ex1/results/model/CartPole-v1-model4_params.pt ...\n",
      "Testing...\n",
      "Test ep reward: 116.0 seed: 2000\n",
      "Average test reward: 116.0 episode length: 116.0\n"
     ]
    }
   ],
   "source": [
    "%%capture --no-stdout\n",
    "test_seeds = [700, 800, 900, 1000, 2000]\n",
    "\n",
    "for i in range(5):\n",
    "    for seed in test_seeds:\n",
    "        assert t.test(episodes=1, cfg_path=Path().cwd()/'cfg'/'cartpole_v1.yaml', \n",
    "            cfg_args=dict(testing=True, seed=seed,save_video=False, save_logging=False, \n",
    "            save_model=False, max_episode_steps=1000, model_name=str(\"CartPole-v1-model\"+str(i)))) > 100\n",
    "\n"
   ]
  },
  {
   "cell_type": "markdown",
   "id": "993d706d-f76f-4249-8356-67ffdc126ae6",
   "metadata": {
    "tags": []
   },
   "source": [
    "Model_0\n",
    "700: 239.0\n",
    "800: 437.0\n",
    "900: 449.0\n",
    "1000: 385.0\n",
    "2000: 263.0\n",
    "\n",
    "Model_1\n",
    "700: 127.0\n",
    "800: 142.0\n",
    "900: 133.0\n",
    "1000: 143.0\n",
    "2000: 149.0\n",
    "\n",
    "Model_2\n",
    "700: 154.0\n",
    "800: 177.0\n",
    "900: 167.0\n",
    "1000: 175.0\n",
    "2000: 251.0\n",
    "\n",
    "Model_3\n",
    "700: 131.0\n",
    "800: 124.0\n",
    "900: 128.0\n",
    "1000: 125.0\n",
    "2000: 116.0\n",
    "\n",
    "Model_4\n",
    "700: 128.0 \n",
    "800: 120.0\n",
    "900: 123.0\n",
    "1000: 122.0\n",
    "2000: 116.0"
   ]
  },
  {
   "cell_type": "markdown",
   "id": "e86c10a5-513f-4984-bdd9-db2da80199ab",
   "metadata": {
    "deletable": false,
    "editable": false,
    "nbgrader": {
     "cell_type": "markdown",
     "checksum": "4a996d7ff3ccc16e98ef6c64a247a59e",
     "grade": false,
     "grade_id": "cell-7b64e24c45653faa",
     "locked": true,
     "schema_version": 3,
     "solution": false,
     "task": false
    }
   },
   "source": [
    "<a id='Q2'></a>\n",
    "<div class=\" alert alert-warning\">\n",
    "    <h3><b>Student Question 2.1</b> Analysis of Training Performance (15 points) </h3> \n",
    "\n",
    "Are the behavior and performance of the trained models the same every time? Why/why not? Analyze the causes briefly. Hint: the random seed initializes the weights and the environment settings randomly.\n",
    "    \n",
    "🔝\t<a href='#TOC'><b>Table of Contents</b></a>\n",
    "</div>\n"
   ]
  },
  {
   "cell_type": "markdown",
   "id": "d0a79f19-05a8-4052-892a-653e5d57f809",
   "metadata": {
    "deletable": false,
    "editable": false,
    "nbgrader": {
     "cell_type": "markdown",
     "checksum": "397e056ea791b621a4248328ad689f75",
     "grade": false,
     "grade_id": "cell-7af2d94176449236",
     "locked": true,
     "schema_version": 3,
     "solution": false,
     "task": false
    }
   },
   "source": [
    "Select all the correct answers. You get 3 points for each correct answer. Select at **most** 6 answers, or you will **lose all points**.\n",
    "\n",
    "1. Yes, because the model has been optimized to always reach the highest possible reward regardless of random seeds or initial conditions.\n",
    "\n",
    "2. No, because the training dynamics and the evaluating dynamics are not the same\n",
    "\n",
    "3. No, because the trained model has stochastic behaviour which may perform differently in different environments\n",
    "\n",
    "4. No, the behaviour and performance are not the same, as shown by the different average rewards in previous Task. \n",
    "\n",
    "5. No, because there’s a lot of stochasticity involved in the training process\n",
    "\n",
    "6. No, because agent explores with random actions during training\n",
    "\n",
    "7. No, because policy is initially randomly initialised with random weights, gradient updates of the policy are noisy. \n",
    "\n",
    "8. No, because the environment may be stochastic: agent is randomly initialised in beginning of each episode, (transitions from one state to next one may follow a probability distribution)\n",
    "\n",
    "9. Yes, all machine learning models perform consistently after training due to the deterministic nature of their algorithms."
   ]
  },
  {
   "cell_type": "code",
   "execution_count": 46,
   "id": "24c0e6d4",
   "metadata": {},
   "outputs": [],
   "source": [
    "sq2_1 = [3, 4, 5, 6, 7, 8] # Answer question 2.1 with the appropriate answer numbers"
   ]
  },
  {
   "cell_type": "code",
   "execution_count": 47,
   "id": "a4f08826",
   "metadata": {
    "deletable": false,
    "editable": false,
    "nbgrader": {
     "cell_type": "code",
     "checksum": "8984880c713f3f91b66fe44e266ed251",
     "grade": true,
     "grade_id": "cell-722a5d335b120083",
     "locked": true,
     "points": 0,
     "schema_version": 3,
     "solution": false,
     "task": false
    }
   },
   "outputs": [],
   "source": [
    "assert 1 <= len(set(sq2_1)) <= 6\n",
    "assert set(sq2_1) < set(range(1, 10))"
   ]
  },
  {
   "cell_type": "markdown",
   "id": "4dabb6c2-638a-4592-ac12-8522528e44fa",
   "metadata": {},
   "source": [
    "Do not remove the following blocks as they are used for grading"
   ]
  },
  {
   "cell_type": "code",
   "execution_count": null,
   "id": "6ea13a03",
   "metadata": {
    "deletable": false,
    "editable": false,
    "nbgrader": {
     "cell_type": "code",
     "checksum": "ecec9d4c828f9bed69a14039122d01f8",
     "grade": true,
     "grade_id": "cell-c78029cac9905a77",
     "locked": true,
     "points": 3,
     "schema_version": 3,
     "solution": false,
     "task": false
    }
   },
   "outputs": [],
   "source": []
  },
  {
   "cell_type": "code",
   "execution_count": null,
   "id": "fa2fbbce",
   "metadata": {
    "deletable": false,
    "editable": false,
    "nbgrader": {
     "cell_type": "code",
     "checksum": "ee347f3560f406aeae33d04d56afa907",
     "grade": true,
     "grade_id": "cell-9d6e251e5ab4caaa",
     "locked": true,
     "points": 3,
     "schema_version": 3,
     "solution": false,
     "task": false
    }
   },
   "outputs": [],
   "source": []
  },
  {
   "cell_type": "code",
   "execution_count": null,
   "id": "cfded39b",
   "metadata": {
    "deletable": false,
    "editable": false,
    "nbgrader": {
     "cell_type": "code",
     "checksum": "b68ba72b4beaba16e6a1a23bd6c7af06",
     "grade": true,
     "grade_id": "cell-0cc6e8153c39e73f",
     "locked": true,
     "points": 3,
     "schema_version": 3,
     "solution": false,
     "task": false
    }
   },
   "outputs": [],
   "source": []
  },
  {
   "cell_type": "code",
   "execution_count": null,
   "id": "5871d663",
   "metadata": {
    "deletable": false,
    "editable": false,
    "nbgrader": {
     "cell_type": "code",
     "checksum": "119a95a042c705feb85c5dc20e6f7143",
     "grade": true,
     "grade_id": "cell-0622d1b37ab64c5f",
     "locked": true,
     "points": 3,
     "schema_version": 3,
     "solution": false,
     "task": false
    }
   },
   "outputs": [],
   "source": []
  },
  {
   "cell_type": "code",
   "execution_count": null,
   "id": "d58c5f09",
   "metadata": {
    "deletable": false,
    "editable": false,
    "nbgrader": {
     "cell_type": "code",
     "checksum": "2482be09b178df1a0623964d5ca75e57",
     "grade": true,
     "grade_id": "cell-cf801ba86d95dc4f",
     "locked": true,
     "points": 3,
     "schema_version": 3,
     "solution": false,
     "task": false
    }
   },
   "outputs": [],
   "source": []
  },
  {
   "cell_type": "markdown",
   "id": "d3778b04-2272-4253-849c-1431cb5c0f60",
   "metadata": {
    "deletable": false,
    "editable": false,
    "nbgrader": {
     "cell_type": "markdown",
     "checksum": "dc5ef08285c80b3826ba67701c70dede",
     "grade": false,
     "grade_id": "cell-e0d965bc4eca7b76",
     "locked": true,
     "schema_version": 3,
     "solution": false,
     "task": false
    }
   },
   "source": [
    "<a id='Q3'></a>\n",
    "<div class=\" alert alert-warning\">\n",
    "    <h3><b>Student Question 2.2</b> Stochasticity (10 points) </h3> \n",
    "\n",
    "What are the implications of this stochasticity, when it comes to comparing reinforcement learning algorithms to each other?\n",
    "    \n",
    "🔝\t<a href='#TOC'><b>Table of Contents</b></a>\n",
    "</div>\n"
   ]
  },
  {
   "cell_type": "markdown",
   "id": "44816c5d-85ff-43bf-891f-173f47edaa84",
   "metadata": {
    "deletable": false,
    "editable": false,
    "nbgrader": {
     "cell_type": "markdown",
     "checksum": "626187977d5460c138a08a7220fa18a3",
     "grade": false,
     "grade_id": "cell-20eea1ddc122c6c4",
     "locked": true,
     "schema_version": 3,
     "solution": false,
     "task": false
    }
   },
   "source": [
    "Select **only one**:\n",
    "\n",
    "1. It is only necessary to compare the maximum rewards achieved by each algorithm to determine the best one.\n",
    "\n",
    "2. Stochasticity requires that algorithms be trained and evaluated multiple times to obtain a reliable estimate of performance, including measures of variance besides the average reward.\n",
    "\n",
    "3. Algorithms should be trained once under identical conditions to ensure a fair comparison, focusing on the consistency of the training process.\n",
    "\n",
    "4. The best approach is to evaluate algorithms based on their performance in a single, well-designed test to avoid the confounding effects of random variability."
   ]
  },
  {
   "cell_type": "code",
   "execution_count": 48,
   "id": "ddea5e29",
   "metadata": {},
   "outputs": [],
   "source": [
    "sq2_2 = 2 # Answer question 2.2 with the appropriate answer number"
   ]
  },
  {
   "cell_type": "code",
   "execution_count": 49,
   "id": "47fb2651",
   "metadata": {
    "deletable": false,
    "editable": false,
    "nbgrader": {
     "cell_type": "code",
     "checksum": "8e55384a770d91c7f192f6daeea33c89",
     "grade": true,
     "grade_id": "cell-f97b7298905094bd",
     "locked": true,
     "points": 0,
     "schema_version": 3,
     "solution": false,
     "task": false
    }
   },
   "outputs": [],
   "source": [
    "assert sq2_2 in range(1,5)"
   ]
  },
  {
   "cell_type": "markdown",
   "id": "e751a2fb-7239-478c-9b8d-20ae6c9b3f90",
   "metadata": {},
   "source": [
    "The following cells are used for grading"
   ]
  },
  {
   "cell_type": "code",
   "execution_count": null,
   "id": "1f38a7a5",
   "metadata": {
    "deletable": false,
    "editable": false,
    "nbgrader": {
     "cell_type": "code",
     "checksum": "3c9b327530544c6d2be97f448098ae51",
     "grade": true,
     "grade_id": "cell-390e4a656c3243a8",
     "locked": true,
     "points": 10,
     "schema_version": 3,
     "solution": false,
     "task": false
    },
    "tags": []
   },
   "outputs": [],
   "source": []
  },
  {
   "cell_type": "markdown",
   "id": "33e5fb18-c1ff-42e1-9e00-c07d706ada1d",
   "metadata": {
    "deletable": false,
    "editable": false,
    "nbgrader": {
     "cell_type": "markdown",
     "checksum": "c77d78adb7ac2e8073a9ea95d4ddece4",
     "grade": false,
     "grade_id": "cell-18b846ee50e61942",
     "locked": true,
     "schema_version": 3,
     "solution": false,
     "task": false
    },
    "tags": []
   },
   "source": [
    "# Reacher <a id='3.'></a>\n",
    "\n",
    "Now we will focus on designing a reward function for a different environment, the Reacher environment, where a two-joint manipulator needs to reach a goal (see Figure 2).\n",
    "\n",
    "<figure>\n",
    "<img src=\"imgs/reacher.png\" width=\"200px\">\n",
    "<figcaption style=\"text-align: center\"> Figure 2: The Reacher environment  </figcaption>\n",
    "</figure>\n",
    "\n",
    "The Cartesian ($x$, $y$) position of the end-effector of the manipulator can be determined following the equation:\n",
    "\n",
    "$$\n",
    " x = L_1 \\sin(\\theta_0)+L_2 \\sin(\\theta_0+\\theta_1)\\\\\n",
    " y = -L_1 \\cos(\\theta_0)-L_2 \\cos(\\theta_0+\\theta_1)\n",
    "$$\n",
    "\n",
    "where $L1 = 1$, $L2 = 1$ are the lengths, and $\\theta_0$, $\\theta_1$ the joint angles of the first and second links respectively. The state (and observation) in this environment is the two element vector:\n",
    "\n",
    "$$\n",
    "o=s=\\left(\\begin{array}{c}\n",
    "\\theta_0 \\\\\n",
    "\\theta_1 \\\\\n",
    "\\end{array}\\right) \\text {, }\n",
    "$$\n",
    "\n",
    "The action space now consists of 5 \"options\"; 4 correspond rotating the first/second joint left/right, and the final one performs no motion at all (the configuration doesn’t change). The episode terminates when the agent reaches the target position, marked in red. Now, let us design a custom reward function and use it for training the RL agent."
   ]
  },
  {
   "cell_type": "markdown",
   "id": "bd6fea5b-f665-47da-8207-cb3998894e1d",
   "metadata": {
    "deletable": false,
    "editable": false,
    "nbgrader": {
     "cell_type": "markdown",
     "checksum": "ff94517d52449f9ad78ed836e8ae5056",
     "grade": false,
     "grade_id": "cell-47ba07fead317fd8",
     "locked": true,
     "schema_version": 3,
     "solution": false,
     "task": false
    }
   },
   "source": [
    "<a id='T3'></a>\n",
    "<div class=\" alert alert-warning\">\n",
    "    <h3><b>Student Task 3.</b> Reward Functions (20 points) </h3> \n",
    "\n",
    "Below two classes are shown that modify the reward function of the reacher function provided in ```reacher.py```. Edit the function ```get_reward``` _below_ (not in ```reacher.py```) in both classes. For each class, write a reward function to incentivise the agent to learn the following behaviors:\n",
    "\n",
    "Class 1) ```SpinningReacherEnv```: Keep the manipulator rotating clockwise continuously (w.r.t. angle θ_0). You can use a lower number of training episodes for this, e.g. train(cfg_args=dict(env_name='SpinningReacher-v0', train_episodes=200), overrides=['env=reacher_v1'])\n",
    "\n",
    "Class 2) ```TargetReacherEnv```: Reach the goal point located in x = [1.0,1.0] (marked in red). Use at least 500 training episodes.\n",
    "    \n",
    "Train one model for each behavior. \n",
    "\n",
    "**Hint:** Use the observation vector to get the quantities required to compute the new reward (such as the position of the manipulator). You can get the Cartesian position of the end-effector with ```self.get_cartesian_pos(state)```.\n",
    "            \n",
    "🔝\t<a href='#TOC'><b>Table of Contents</b></a>\n",
    "</div>\n"
   ]
  },
  {
   "cell_type": "code",
   "execution_count": 50,
   "id": "32bf76fe",
   "metadata": {
    "tags": []
   },
   "outputs": [
    {
     "name": "stderr",
     "output_type": "stream",
     "text": [
      "/opt/software/lib/python3.10/site-packages/gymnasium/envs/registration.py:693: UserWarning: \u001b[33mWARN: Overriding environment SpinningReacher-v0 already in registry.\u001b[0m\n",
      "  logger.warn(f\"Overriding environment {new_spec.id} already in registry.\")\n",
      "/opt/software/lib/python3.10/site-packages/gymnasium/envs/registration.py:693: UserWarning: \u001b[33mWARN: Overriding environment TargetReacher-v0 already in registry.\u001b[0m\n",
      "  logger.warn(f\"Overriding environment {new_spec.id} already in registry.\")\n"
     ]
    }
   ],
   "source": [
    "from reacher import ReacherEnv\n",
    "from typing import Optional\n",
    "from gymnasium.envs.registration import register\n",
    "\n",
    "class SpinningReacherEnv(ReacherEnv):\n",
    "    def __init__(self, render_mode: Optional[str] = None, max_episode_steps=200):\n",
    "        super().__init__(render_mode=render_mode, max_episode_steps=max_episode_steps)\n",
    "        \n",
    "    def get_reward(self, prev_state, action, next_state):\n",
    "        '''\n",
    "        TODO: Task 3: Implement and test the first reward function\n",
    "        '''\n",
    "        ########## Your code starts here ##########\n",
    "        return prev_state[0] - next_state[0]\n",
    "        ########## Your codes end here ########## \n",
    "        \n",
    "    \n",
    "register(\"SpinningReacher-v0\",\n",
    "        entry_point=\"%s:SpinningReacherEnv\"%__name__,\n",
    "        max_episode_steps=200)\n",
    "\n",
    "class TargetReacherEnv(ReacherEnv):\n",
    "    def __init__(self, render_mode: Optional[str] = None, max_episode_steps=200):\n",
    "        super().__init__(render_mode=render_mode, max_episode_steps=max_episode_steps)\n",
    "        \n",
    "    def get_reward(self, prev_state, action, next_state):\n",
    "        '''\n",
    "        # TODO: Task 3: Implement and test the second reward function\n",
    "        '''\n",
    "        ########## Your code starts here ##########\n",
    "        target = np.array([1.0, 1.0])\n",
    "        ee_pos = self.get_cartesian_pos(next_state)\n",
    "        dist = np.linalg.norm(ee_pos - target)\n",
    "\n",
    "        return -dist\n",
    "        ########## Your codes end here ########## \n",
    "        \n",
    "register(\"TargetReacher-v0\",\n",
    "        entry_point=\"%s:TargetReacherEnv\"%__name__,\n",
    "        max_episode_steps=200)"
   ]
  },
  {
   "cell_type": "code",
   "execution_count": 52,
   "id": "765ea45c",
   "metadata": {
    "tags": []
   },
   "outputs": [
    {
     "name": "stdout",
     "output_type": "stream",
     "text": [
      "Numpy/Torch/Random Seed:  1\n",
      "Configuration Settings: {'exp_name': 'ex1', 'seed': 1, 'env_name': 'SpinningReacher-v0', 'model_name': 'SpinningReacher-v0', 'max_episode_steps': 200, 'train_episodes': 200, 'batch_size': 64, 'min_update_samples': 2000, 'testing': False, 'model_path': 'default', 'save_video': True, 'save_model': True, 'save_logging': True, 'silent': False, 'use_wandb': True, 'run_suffix': 0}\n",
      "Training device: cpu\n",
      "Observation space dimensions: 2\n",
      "Action space dimensions: 5\n",
      "\n",
      "Episode 0 finished. Total reward: -0.9999997168779373 (200 timesteps)\n",
      "Episode 5 finished. Total reward: 4.199996635317802 (200 timesteps)\n",
      "Episode 10 finished. Total reward: 0.20000001788139343 (200 timesteps)\n",
      "Updating the policy...\n",
      "Updating finished!\n",
      "Episode 15 finished. Total reward: 0.6000000685453415 (200 timesteps)\n",
      "Episode 20 finished. Total reward: 0.9999996870756149 (200 timesteps)\n",
      "Updating the policy...\n",
      "Updating finished!\n",
      "Episode 25 finished. Total reward: 4.799996063113213 (126 timesteps)\n",
      "Episode 30 finished. Total reward: 6.9999939650297165 (200 timesteps)\n",
      "Updating the policy...\n",
      "Updating finished!\n",
      "Episode 35 finished. Total reward: 10.00003831088543 (200 timesteps)\n",
      "Episode 40 finished. Total reward: 12.200088664889336 (200 timesteps)\n",
      "Episode 45 finished. Total reward: 2.999997779726982 (40 timesteps)\n",
      "Updating the policy...\n",
      "Updating finished!\n",
      "Episode 50 finished. Total reward: 18.60023419559002 (200 timesteps)\n",
      "Episode 55 finished. Total reward: 16.000175639986992 (200 timesteps)\n",
      "Updating the policy...\n",
      "Updating finished!\n",
      "Episode 60 finished. Total reward: 20.800284549593925 (200 timesteps)\n",
      "Episode 65 finished. Total reward: 21.200293704867363 (200 timesteps)\n",
      "Updating the policy...\n",
      "Updating finished!\n",
      "Episode 70 finished. Total reward: 27.400435611605644 (200 timesteps)\n",
      "Episode 75 finished. Total reward: 25.00038067996502 (200 timesteps)\n",
      "Updating the policy...\n",
      "Updating finished!\n",
      "Episode 80 finished. Total reward: 28.400458499789238 (200 timesteps)\n",
      "Episode 85 finished. Total reward: 26.60041730105877 (200 timesteps)\n",
      "Updating the policy...\n",
      "Updating finished!\n",
      "Episode 90 finished. Total reward: 17.200202152132988 (120 timesteps)\n",
      "Episode 95 finished. Total reward: 9.600029155611992 (58 timesteps)\n",
      "Episode 100 finished. Total reward: 29.80049054324627 (200 timesteps)\n",
      "Updating the policy...\n",
      "Updating finished!\n",
      "Episode 105 finished. Total reward: 32.000540897250175 (200 timesteps)\n",
      "Episode 110 finished. Total reward: 30.000495120882988 (184 timesteps)\n",
      "Updating the policy...\n",
      "Updating finished!\n",
      "Episode 115 finished. Total reward: 34.00058667361736 (200 timesteps)\n",
      "Episode 120 finished. Total reward: 29.60048596560955 (185 timesteps)\n",
      "Updating the policy...\n",
      "Updating finished!\n",
      "Episode 125 finished. Total reward: 33.800582095980644 (200 timesteps)\n",
      "Episode 130 finished. Total reward: 34.80060498416424 (200 timesteps)\n",
      "Updating the policy...\n",
      "Updating finished!\n",
      "Episode 135 finished. Total reward: 35.400618717074394 (200 timesteps)\n",
      "Episode 140 finished. Total reward: 36.20063702762127 (200 timesteps)\n",
      "Updating the policy...\n",
      "Updating finished!\n",
      "Episode 145 finished. Total reward: 37.20065991580486 (200 timesteps)\n",
      "Episode 150 finished. Total reward: 37.40066449344158 (200 timesteps)\n",
      "Updating the policy...\n",
      "Updating finished!\n",
      "Episode 155 finished. Total reward: 37.20065991580486 (200 timesteps)\n",
      "Episode 160 finished. Total reward: 39.40071026980877 (200 timesteps)\n",
      "Updating the policy...\n",
      "Updating finished!\n",
      "Episode 165 finished. Total reward: 38.80069653689861 (200 timesteps)\n",
      "Episode 170 finished. Total reward: 38.20068280398846 (200 timesteps)\n",
      "Updating the policy...\n",
      "Updating finished!\n",
      "Episode 175 finished. Total reward: 38.400687381625175 (200 timesteps)\n",
      "Episode 180 finished. Total reward: 38.80069653689861 (200 timesteps)\n",
      "Updating the policy...\n",
      "Updating finished!\n",
      "Episode 185 finished. Total reward: 39.40071026980877 (200 timesteps)\n",
      "Episode 190 finished. Total reward: 38.400687381625175 (200 timesteps)\n",
      "Updating the policy...\n",
      "Updating finished!\n",
      "Episode 195 finished. Total reward: 38.400687381625175 (200 timesteps)\n",
      "Episode 200 finished. Total reward: 39.80071942508221 (200 timesteps)\n",
      "Model saved to /notebooks/rl2025/ex1/results/model/SpinningReacher-v0_params.pt\n",
      "------Training finished.------\n"
     ]
    }
   ],
   "source": [
    "if not skip_training:\n",
    "      t.train(cfg_path=Path().cwd()/'cfg'/'reacher_v1.yaml', \n",
    "      cfg_args=dict(env_name='SpinningReacher-v0',model_name='SpinningReacher-v0', train_episodes=200, seed=1)) # < 5 mins"
   ]
  },
  {
   "cell_type": "code",
   "execution_count": 53,
   "id": "2d4cb332",
   "metadata": {
    "tags": []
   },
   "outputs": [
    {
     "name": "stdout",
     "output_type": "stream",
     "text": [
      "Numpy/Torch/Random Seed:  60\n",
      "Loading model from /notebooks/rl2025/ex1/results/model/SpinningReacher-v0_params.pt ...\n",
      "Testing...\n",
      "Test ep reward: 40.00072371959686 seed: 206\n",
      "Test ep reward: 40.0007204413414 seed: 66\n",
      "Test ep reward: 40.000726103782654 seed: 583\n",
      "Test ep reward: 40.00072482228279 seed: 395\n",
      "Test ep reward: 40.00072520971298 seed: 400\n",
      "Test ep reward: 40.00072360038757 seed: 100\n",
      "Test ep reward: 40.000724509358406 seed: 73\n",
      "Test ep reward: 40.00072421133518 seed: 122\n",
      "Test ep reward: 40.00072203576565 seed: 914\n",
      "Test ep reward: 40.00072421133518 seed: 675\n",
      "Average test reward: 40.000723886489865 episode length: 200.0\n"
     ]
    }
   ],
   "source": [
    "if not skip_training:\n",
    "       t.test(episodes=10, cfg_path=Path().cwd()/'cfg'/'reacher_v1.yaml', \n",
    "       cfg_args=dict(env_name='SpinningReacher-v0',model_name='SpinningReacher-v0', testing=True,seed=None))"
   ]
  },
  {
   "cell_type": "markdown",
   "id": "b1d2de27-0105-47a3-bd48-0f6896531379",
   "metadata": {
    "deletable": false,
    "editable": false,
    "nbgrader": {
     "cell_type": "markdown",
     "checksum": "ae28a94ff0891a34fcdffc954b90cda2",
     "grade": false,
     "grade_id": "cell-06f756f42a921878",
     "locked": true,
     "schema_version": 3,
     "solution": false,
     "task": false
    }
   },
   "source": [
    "The agent acting in the environment can be seen using the following command. Change the ```path``` to pick the episode you want to visualize. Bear in mind by default video saving for training is taken every 50 episodes."
   ]
  },
  {
   "cell_type": "code",
   "execution_count": 54,
   "id": "555bc002",
   "metadata": {
    "tags": []
   },
   "outputs": [
    {
     "data": {
      "text/html": [
       "<video loop autoplay  >\n",
       " <source src=\"data:video/mp4;base64,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\" type=\"video/mp4\">\n",
       " Your browser does not support the video tag.\n",
       " </video>"
      ],
      "text/plain": [
       "<IPython.core.display.Video object>"
      ]
     },
     "metadata": {},
     "output_type": "display_data"
    }
   ],
   "source": [
    "if not skip_training:\n",
    "      video = Video(work_dir/'video'/'SpinningReacher-v0'/'test'/f'ex1-episode-0.mp4',\n",
    "      embed=True, html_attributes=\"loop autoplay\") # Set html_attributes=\"controls\" for video control\n",
    "      display(video)"
   ]
  },
  {
   "cell_type": "code",
   "execution_count": 55,
   "id": "663c258a",
   "metadata": {
    "tags": []
   },
   "outputs": [
    {
     "name": "stdout",
     "output_type": "stream",
     "text": [
      "Numpy/Torch/Random Seed:  1\n",
      "Configuration Settings: {'exp_name': 'ex1', 'seed': 1, 'env_name': 'TargetReacher-v0', 'model_name': 'TargetReacher-v0', 'max_episode_steps': 200, 'train_episodes': 500, 'batch_size': 64, 'min_update_samples': 2000, 'testing': False, 'model_path': 'default', 'save_video': True, 'save_model': True, 'save_logging': True, 'silent': False, 'use_wandb': True, 'run_suffix': 0}\n",
      "Training device: cpu\n",
      "Observation space dimensions: 2\n",
      "Action space dimensions: 5\n",
      "\n",
      "Episode 0 finished. Total reward: -571.9537799663696 (200 timesteps)\n",
      "Episode 5 finished. Total reward: -533.6843767599244 (200 timesteps)\n",
      "Episode 10 finished. Total reward: -604.2727677112639 (200 timesteps)\n",
      "Updating the policy...\n",
      "Updating finished!\n",
      "Episode 15 finished. Total reward: -80.17965376531592 (40 timesteps)\n",
      "Episode 20 finished. Total reward: -369.8773110116718 (200 timesteps)\n",
      "Updating the policy...\n",
      "Updating finished!\n",
      "Episode 25 finished. Total reward: -394.4414380305123 (200 timesteps)\n",
      "Episode 30 finished. Total reward: -378.48743586096316 (200 timesteps)\n",
      "Updating the policy...\n",
      "Updating finished!\n",
      "Episode 35 finished. Total reward: -373.0086256256852 (200 timesteps)\n",
      "Episode 40 finished. Total reward: -233.26818809582724 (134 timesteps)\n",
      "Episode 45 finished. Total reward: -60.52375115838202 (31 timesteps)\n",
      "Episode 50 finished. Total reward: -80.45341408434949 (44 timesteps)\n",
      "Updating the policy...\n",
      "Updating finished!\n",
      "Episode 55 finished. Total reward: -35.80822378645589 (21 timesteps)\n",
      "Episode 60 finished. Total reward: -151.32287415505706 (105 timesteps)\n",
      "Episode 65 finished. Total reward: -82.7911347218498 (37 timesteps)\n",
      "Episode 70 finished. Total reward: -325.3955435976231 (179 timesteps)\n",
      "Updating the policy...\n",
      "Updating finished!\n",
      "Episode 75 finished. Total reward: -129.70303339408906 (85 timesteps)\n",
      "Episode 80 finished. Total reward: -382.0681732830813 (190 timesteps)\n",
      "Episode 85 finished. Total reward: -52.63962029395635 (28 timesteps)\n",
      "Episode 90 finished. Total reward: -47.91394902524597 (25 timesteps)\n",
      "Episode 95 finished. Total reward: -52.2874565459738 (33 timesteps)\n",
      "Updating the policy...\n",
      "Updating finished!\n",
      "Episode 100 finished. Total reward: -356.3862753909834 (200 timesteps)\n",
      "Episode 105 finished. Total reward: -44.73574923379327 (22 timesteps)\n",
      "Episode 110 finished. Total reward: -94.34763201790838 (66 timesteps)\n",
      "Episode 115 finished. Total reward: -184.86231529579445 (104 timesteps)\n",
      "Episode 120 finished. Total reward: -41.31595727818325 (20 timesteps)\n",
      "Updating the policy...\n",
      "Updating finished!\n",
      "Episode 125 finished. Total reward: -43.288258693635946 (22 timesteps)\n",
      "Episode 130 finished. Total reward: -60.71964671289649 (31 timesteps)\n",
      "Episode 135 finished. Total reward: -39.632916507400296 (20 timesteps)\n",
      "Episode 140 finished. Total reward: -295.6180665008678 (157 timesteps)\n",
      "Episode 145 finished. Total reward: -254.30846595801907 (147 timesteps)\n",
      "Episode 150 finished. Total reward: -57.18759352179512 (27 timesteps)\n",
      "Updating the policy...\n",
      "Updating finished!\n",
      "Episode 155 finished. Total reward: -372.99764921603645 (200 timesteps)\n",
      "Episode 160 finished. Total reward: -337.23883914167106 (200 timesteps)\n",
      "Episode 165 finished. Total reward: -49.52239563816503 (26 timesteps)\n",
      "Episode 170 finished. Total reward: -77.35910382893931 (57 timesteps)\n",
      "Episode 175 finished. Total reward: -346.10944459695764 (200 timesteps)\n",
      "Episode 180 finished. Total reward: -47.91335107967865 (28 timesteps)\n",
      "Updating the policy...\n",
      "Updating finished!\n",
      "Episode 185 finished. Total reward: -378.3352481012443 (200 timesteps)\n",
      "Episode 190 finished. Total reward: -34.67835195778455 (19 timesteps)\n",
      "Episode 195 finished. Total reward: -353.2299008708376 (200 timesteps)\n",
      "Episode 200 finished. Total reward: -32.16505615403594 (19 timesteps)\n",
      "Episode 205 finished. Total reward: -24.712735414082896 (14 timesteps)\n",
      "Episode 210 finished. Total reward: -40.45892006704988 (22 timesteps)\n",
      "Updating the policy...\n",
      "Updating finished!\n",
      "Episode 215 finished. Total reward: -373.9539305480662 (200 timesteps)\n",
      "Episode 220 finished. Total reward: -353.78033260070146 (200 timesteps)\n",
      "Episode 225 finished. Total reward: -33.9335118534165 (18 timesteps)\n",
      "Episode 230 finished. Total reward: -183.7242866119868 (106 timesteps)\n",
      "Episode 235 finished. Total reward: -39.83690090371854 (21 timesteps)\n",
      "Updating the policy...\n",
      "Updating finished!\n",
      "Episode 240 finished. Total reward: -201.42760513081777 (103 timesteps)\n",
      "Episode 245 finished. Total reward: -30.186451893113553 (21 timesteps)\n",
      "Episode 250 finished. Total reward: -24.37244585680298 (14 timesteps)\n",
      "Episode 255 finished. Total reward: -26.246516336671007 (18 timesteps)\n",
      "Episode 260 finished. Total reward: -367.23409558765513 (200 timesteps)\n",
      "Episode 265 finished. Total reward: -160.80721629949213 (97 timesteps)\n",
      "Episode 270 finished. Total reward: -45.59560494366818 (25 timesteps)\n",
      "Episode 275 finished. Total reward: -30.293819669024444 (21 timesteps)\n",
      "Updating the policy...\n",
      "Updating finished!\n",
      "Episode 280 finished. Total reward: -31.91970174801561 (18 timesteps)\n",
      "Episode 285 finished. Total reward: -33.911246237236895 (19 timesteps)\n",
      "Episode 290 finished. Total reward: -27.78264205744773 (18 timesteps)\n",
      "Episode 295 finished. Total reward: -26.013012615069464 (16 timesteps)\n",
      "Episode 300 finished. Total reward: -28.732397835358285 (18 timesteps)\n",
      "Episode 305 finished. Total reward: -35.5571173189276 (23 timesteps)\n",
      "Episode 310 finished. Total reward: -24.96296393714176 (14 timesteps)\n",
      "Episode 315 finished. Total reward: -73.89741565670646 (54 timesteps)\n",
      "Episode 320 finished. Total reward: -27.252443988529027 (16 timesteps)\n",
      "Episode 325 finished. Total reward: -283.5326046130536 (161 timesteps)\n",
      "Updating the policy...\n",
      "Updating finished!\n",
      "Episode 330 finished. Total reward: -26.166102477279654 (15 timesteps)\n",
      "Episode 335 finished. Total reward: -25.79547096709638 (16 timesteps)\n",
      "Episode 340 finished. Total reward: -35.57231834196702 (19 timesteps)\n",
      "Episode 345 finished. Total reward: -32.73826586554623 (17 timesteps)\n",
      "Episode 350 finished. Total reward: -29.34920098160039 (19 timesteps)\n",
      "Episode 355 finished. Total reward: -30.567907910604813 (18 timesteps)\n",
      "Episode 360 finished. Total reward: -37.14780078512098 (20 timesteps)\n",
      "Episode 365 finished. Total reward: -25.732206167957226 (17 timesteps)\n",
      "Episode 370 finished. Total reward: -34.67793723458081 (21 timesteps)\n",
      "Episode 375 finished. Total reward: -35.20681589470691 (21 timesteps)\n",
      "Episode 380 finished. Total reward: -29.704128259348604 (16 timesteps)\n",
      "Updating the policy...\n",
      "Updating finished!\n",
      "Episode 385 finished. Total reward: -30.586441801722554 (18 timesteps)\n",
      "Episode 390 finished. Total reward: -26.077319552808248 (16 timesteps)\n",
      "Episode 395 finished. Total reward: -164.0665113606061 (90 timesteps)\n",
      "Episode 400 finished. Total reward: -28.681643215570315 (17 timesteps)\n",
      "Episode 405 finished. Total reward: -33.74179176002684 (20 timesteps)\n",
      "Episode 410 finished. Total reward: -23.551423436435062 (14 timesteps)\n",
      "Episode 415 finished. Total reward: -25.2017787466327 (15 timesteps)\n",
      "Episode 420 finished. Total reward: -33.24961765395034 (20 timesteps)\n",
      "Episode 425 finished. Total reward: -26.175171522813745 (16 timesteps)\n",
      "Episode 430 finished. Total reward: -24.513506897240163 (14 timesteps)\n",
      "Episode 435 finished. Total reward: -168.66763449172407 (91 timesteps)\n",
      "Episode 440 finished. Total reward: -28.739075765077224 (17 timesteps)\n",
      "Updating the policy...\n",
      "Updating finished!\n",
      "Episode 445 finished. Total reward: -205.0291107372034 (129 timesteps)\n",
      "Episode 450 finished. Total reward: -26.486015050340626 (15 timesteps)\n",
      "Episode 455 finished. Total reward: -25.99087235007946 (16 timesteps)\n",
      "Episode 460 finished. Total reward: -173.0006298639697 (111 timesteps)\n",
      "Episode 465 finished. Total reward: -30.71369709604213 (18 timesteps)\n",
      "Episode 470 finished. Total reward: -28.443766117807076 (17 timesteps)\n",
      "Episode 475 finished. Total reward: -23.111591333788454 (14 timesteps)\n",
      "Episode 480 finished. Total reward: -44.30888821555425 (21 timesteps)\n",
      "Episode 485 finished. Total reward: -31.04078190153797 (17 timesteps)\n",
      "Episode 490 finished. Total reward: -26.450943293728468 (16 timesteps)\n",
      "Episode 495 finished. Total reward: -27.503310743136897 (16 timesteps)\n",
      "Episode 500 finished. Total reward: -172.51722477576968 (97 timesteps)\n",
      "Model saved to /notebooks/rl2025/ex1/results/model/TargetReacher-v0_params.pt\n",
      "------Training finished.------\n"
     ]
    }
   ],
   "source": [
    "if not skip_training:\n",
    "      t.train(cfg_path=Path().cwd()/'cfg'/'reacher_v1.yaml', \n",
    "      cfg_args=dict(env_name='TargetReacher-v0',model_name='TargetReacher-v0', train_episodes=500, seed=1)) # < 5 mins"
   ]
  },
  {
   "cell_type": "code",
   "execution_count": 56,
   "id": "4714194c",
   "metadata": {},
   "outputs": [
    {
     "name": "stdout",
     "output_type": "stream",
     "text": [
      "Numpy/Torch/Random Seed:  688\n",
      "Loading model from /notebooks/rl2025/ex1/results/model/TargetReacher-v0_params.pt ...\n",
      "Testing...\n",
      "Test ep reward: -25.856226673668008 seed: 434\n"
     ]
    },
    {
     "name": "stderr",
     "output_type": "stream",
     "text": [
      "/opt/software/lib/python3.10/site-packages/gymnasium/wrappers/record_video.py:87: UserWarning: \u001b[33mWARN: Overwriting existing videos at /notebooks/rl2025/ex1/results/video/TargetReacher-v0/test folder (try specifying a different `video_folder` for the `RecordVideo` wrapper if this is not desired)\u001b[0m\n",
      "  logger.warn(\n"
     ]
    },
    {
     "name": "stdout",
     "output_type": "stream",
     "text": [
      "Test ep reward: -24.746774711651035 seed: 308\n",
      "Test ep reward: -26.940363204367124 seed: 922\n",
      "Test ep reward: -24.243487222488078 seed: 231\n",
      "Test ep reward: -26.79917901244273 seed: 961\n",
      "Test ep reward: -22.833457411533992 seed: 363\n",
      "Test ep reward: -24.576256213405102 seed: 626\n",
      "Test ep reward: -23.167114388870107 seed: 905\n",
      "Test ep reward: -25.129568843478946 seed: 497\n",
      "Test ep reward: -24.739322561394363 seed: 816\n",
      "Average test reward: -24.90317502432995 episode length: 15.1\n"
     ]
    }
   ],
   "source": [
    "if not skip_training:\n",
    "       t.test(episodes=10, cfg_path=Path().cwd()/'cfg'/'reacher_v1.yaml', \n",
    "       cfg_args=dict(env_name='TargetReacher-v0',model_name='TargetReacher-v0', seed=None, testing=True,))"
   ]
  },
  {
   "cell_type": "code",
   "execution_count": 57,
   "id": "67152513",
   "metadata": {},
   "outputs": [
    {
     "data": {
      "text/html": [
       "<video loop autoplay  >\n",
       " <source src=\"data:video/mp4;base64,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\" type=\"video/mp4\">\n",
       " Your browser does not support the video tag.\n",
       " </video>"
      ],
      "text/plain": [
       "<IPython.core.display.Video object>"
      ]
     },
     "metadata": {},
     "output_type": "display_data"
    }
   ],
   "source": [
    "if not skip_training:\n",
    "      video = Video(work_dir/'video'/'TargetReacher-v0'/'test'/f'ex1-episode-0.mp4',\n",
    "      embed=True, html_attributes=\"loop autoplay\") # Set html_attributes=\"controls\" for video control\n",
    "      display(video)"
   ]
  },
  {
   "cell_type": "markdown",
   "id": "c712196a-ac24-425f-9f64-722bdc165557",
   "metadata": {
    "deletable": false,
    "editable": false,
    "nbgrader": {
     "cell_type": "markdown",
     "checksum": "24b4e1b132030de471dd3ab7d7d89a7b",
     "grade": false,
     "grade_id": "cell-8fbe6b6920b12c52",
     "locked": true,
     "schema_version": 3,
     "solution": false,
     "task": false
    },
    "tags": []
   },
   "source": [
    "Do not delete the following cells as they are used for grading. Make sure to test that both agents work correctly for the selected set of seeds [860, 241, 73, 543, 582, 211, 524, 484, 954, 656]."
   ]
  },
  {
   "cell_type": "code",
   "execution_count": 58,
   "id": "141e44fe",
   "metadata": {
    "deletable": false,
    "editable": false,
    "nbgrader": {
     "cell_type": "code",
     "checksum": "8d262615dcd66ffad7534f4c0c2a5424",
     "grade": true,
     "grade_id": "cell-626f99384bd58109",
     "locked": true,
     "points": 10,
     "schema_version": 3,
     "solution": false,
     "task": false
    }
   },
   "outputs": [],
   "source": [
    "%%capture --no-stdout\n",
    "\"TEST CELL\""
   ]
  },
  {
   "cell_type": "code",
   "execution_count": 59,
   "id": "0ee03e99",
   "metadata": {
    "deletable": false,
    "editable": false,
    "nbgrader": {
     "cell_type": "code",
     "checksum": "80c6477f2fe781715a9c816f5434d617",
     "grade": true,
     "grade_id": "cell-233242cce6bb1187",
     "locked": true,
     "points": 10,
     "schema_version": 3,
     "solution": false,
     "task": false
    }
   },
   "outputs": [],
   "source": [
    "%%capture --no-stdout\n",
    "\"TEST CELL\""
   ]
  },
  {
   "cell_type": "markdown",
   "id": "5a93d6a4-7156-4309-8b5b-6be93f4542e4",
   "metadata": {
    "deletable": false,
    "editable": false,
    "nbgrader": {
     "cell_type": "markdown",
     "checksum": "b3bb72081ab68915f7c37a6a93a897ee",
     "grade": false,
     "grade_id": "cell-54aa2850dfdfb7d1",
     "locked": true,
     "schema_version": 3,
     "solution": false,
     "task": false
    }
   },
   "source": [
    "<a id='T4'></a>\n",
    "<div class=\" alert alert-warning\">\n",
    "    <h3><b>Student Task 4.</b> Visualizing Behavior </h3> \n",
    "\n",
    "Now, let us visualize the reward function for the second behavior (reaching the goal [1,1]). Plot the values of the second reward function from Task 3 and the learned best action as a function of the state (the joint positions). Use the code below as a starting point. After plotting, answer the questions below.\n",
    "            \n",
    "🔝\t<a href='#TOC'><b>Table of Contents</b></a>\n",
    "</div>\n"
   ]
  },
  {
   "cell_type": "code",
   "execution_count": 60,
   "id": "139b3387",
   "metadata": {
    "tags": []
   },
   "outputs": [],
   "source": [
    "import matplotlib.pyplot as plt\n",
    "import seaborn as sns\n",
    "import gymnasium as gym\n",
    "from agent import Agent, Policy"
   ]
  },
  {
   "cell_type": "code",
   "execution_count": 61,
   "id": "0035a7f8",
   "metadata": {},
   "outputs": [
    {
     "name": "stdout",
     "output_type": "stream",
     "text": [
      "Loading policy from /notebooks/rl2025/ex1/results/model/TargetReacher-v0_params.pt\n"
     ]
    }
   ],
   "source": [
    "env_name = \"TargetReacher-v0\" \n",
    "resolution = 101  # Resolution of the policy/reward image\n",
    "\n",
    "# Load policy from default path to plot\n",
    "policy_dir = Path().cwd()/'results'/'model'/f'{env_name}_params.pt'\n",
    "\n",
    "sns.set()\n",
    "\n",
    "# Create a gym environment\n",
    "env = gym.make(env_name)\n",
    "\n",
    "action_space_dim = u.get_space_dim(env.action_space)\n",
    "observation_space_dim = u.get_space_dim(env.observation_space)\n",
    "policy = Policy(observation_space_dim, action_space_dim)\n",
    "\n",
    "if policy_dir:\n",
    "    policy.load_state_dict(torch.load(policy_dir))\n",
    "    print(\"Loading policy from\", policy_dir)\n",
    "else:\n",
    "    print(\"Plotting a random policy\")"
   ]
  },
  {
   "cell_type": "code",
   "execution_count": 62,
   "id": "170a06be",
   "metadata": {},
   "outputs": [],
   "source": [
    "# Create a grid and initialize arrays to store rewards and actions\n",
    "npoints = resolution\n",
    "state_range = np.linspace(-np.pi, np.pi, npoints)\n",
    "rewards = np.zeros((npoints, npoints))\n",
    "actions = np.zeros((npoints, npoints), dtype=np.int32)\n",
    "\n",
    "# Loop through state[0] and state[1]\n",
    "for i,th1 in enumerate(state_range):\n",
    "    for j,th2 in enumerate(state_range):\n",
    "        # Create the state vector from th1, th2\n",
    "        state = np.array([th1, th2])\n",
    "\n",
    "        # Query the policy and find the most probable action\n",
    "        with torch.no_grad():\n",
    "            action_dist, _ = policy(torch.from_numpy(state).float().unsqueeze(0))\n",
    "        action_probs = action_dist.probs.numpy()\n",
    "\n",
    "        '''\n",
    "        # TODO: Task 4: \n",
    "        # 1. What's the best action, according to the policy?\n",
    "        # 2. Compute the reward given state\n",
    "        '''\n",
    "        ########## Your code starts here ##########\n",
    "        # Use the action probabilities in the action_probs vector\n",
    "        # (it's a numpy array)\n",
    "        actions[i, j] = np.argmax(action_probs)\n",
    "        rewards[i,j] = env.get_reward(prev_state=state, action=actions[i,j], next_state=state)\n",
    "        ########## Your code ends here ##########\n"
   ]
  },
  {
   "cell_type": "code",
   "execution_count": 63,
   "id": "ea36aa9a",
   "metadata": {},
   "outputs": [
    {
     "data": {
      "image/png": "[encoded data removed]",
      "text/plain": [
       "<Figure size 640x480 with 2 Axes>"
      ]
     },
     "metadata": {},
     "output_type": "display_data"
    }
   ],
   "source": [
    "# Create the reward plot\n",
    "num_ticks = 10\n",
    "tick_skip = max(1, npoints // num_ticks)\n",
    "tick_shift = 2*np.pi/npoints/2\n",
    "tick_points = np.arange(npoints)[::tick_skip] + tick_shift\n",
    "tick_labels = state_range.round(2)[::tick_skip]\n",
    "\n",
    "sns.heatmap(rewards)\n",
    "plt.xticks(tick_points, tick_labels, rotation=45)\n",
    "plt.yticks(tick_points, tick_labels, rotation=45)\n",
    "plt.xlabel(\"J2\")\n",
    "plt.ylabel(\"J1\")\n",
    "plt.title(\"Reward\")\n",
    "plt.suptitle(\"Rewards in %s\" % env_name)\n",
    "plt.show()\n"
   ]
  },
  {
   "cell_type": "code",
   "execution_count": 64,
   "id": "99f6c89a",
   "metadata": {},
   "outputs": [
    {
     "data": {
      "image/png": "[encoded data removed]",
      "text/plain": [
       "<Figure size 640x480 with 2 Axes>"
      ]
     },
     "metadata": {},
     "output_type": "display_data"
    }
   ],
   "source": [
    "# # Create the policy plot\n",
    "cmap = sns.color_palette(\"deep\", action_space_dim)\n",
    "sns.heatmap(actions, cmap=cmap, vmin=0, vmax=action_space_dim-1)\n",
    "plt.xticks(tick_points, tick_labels, rotation=45)\n",
    "plt.yticks(tick_points, tick_labels, rotation=45)\n",
    "colorbar = plt.gca().collections[0].colorbar\n",
    "ticks = np.array(range(action_space_dim))*((action_space_dim-1)/action_space_dim)+0.5\n",
    "colorbar.set_ticks(ticks)\n",
    "if env.spec.id == \"Reacher-v1\":\n",
    "    # In Reacher, we can replace 0..4 with more readable labels\n",
    "    labels = [\"J1+\", \"J1-\", \"J2+\", \"J2-\", \"Stop\"]\n",
    "else:\n",
    "    labels = list(map(str, range(action_space_dim)))\n",
    "colorbar.set_ticklabels(labels)\n",
    "plt.xlabel(\"J2\")\n",
    "plt.ylabel(\"J1\")\n",
    "plt.title(\"Best action\")\n",
    "plt.suptitle(\"Best action in %s\" % env_name)\n",
    "plt.show()"
   ]
  },
  {
   "cell_type": "markdown",
   "id": "0d9795e4-5afa-49ac-a99f-c0ddeb8bd474",
   "metadata": {
    "deletable": false,
    "editable": false,
    "nbgrader": {
     "cell_type": "markdown",
     "checksum": "8a786bb3b1a68bc06adae81775588814",
     "grade": false,
     "grade_id": "cell-29064556f36a3c80",
     "locked": true,
     "schema_version": 3,
     "solution": false,
     "task": false
    },
    "tags": []
   },
   "source": [
    "Do not remove this cell as it is used for grading"
   ]
  },
  {
   "cell_type": "markdown",
   "id": "13966488-6300-49d8-83dc-f42d0c510a0e",
   "metadata": {
    "deletable": false,
    "editable": false,
    "nbgrader": {
     "cell_type": "markdown",
     "checksum": "38774681f9b8ea8d0c120330f044c23a",
     "grade": false,
     "grade_id": "cell-a90e3e94423fcb0c",
     "locked": true,
     "schema_version": 3,
     "solution": false,
     "task": false
    }
   },
   "source": [
    "<a id='Q4'></a>\n",
    "<div class=\" alert alert-warning\">\n",
    "    <h3><b>Student Question 4.1</b> Achieved Performance (5 points) </h3> \n",
    "\n",
    "Where should the reward be higher for the reaching task? \n",
    "            \n",
    "🔝\t<a href='#TOC'><b>Table of Contents</b></a>\n",
    "</div>\n"
   ]
  },
  {
   "cell_type": "markdown",
   "id": "85963244-735c-406b-8076-a9c144d276b8",
   "metadata": {
    "deletable": false,
    "editable": false,
    "nbgrader": {
     "cell_type": "markdown",
     "checksum": "b6af53eeeb3490d7b74f6e2ca3a59c9b",
     "grade": false,
     "grade_id": "cell-e19d78f23a6643a3",
     "locked": true,
     "schema_version": 3,
     "solution": false,
     "task": false
    },
    "tags": []
   },
   "source": [
    "Select **only one**.\n",
    "1. Reward should be higher when the end-effector is far from the goal.\n",
    "2. Reward should be higher when the end-effector is near the goal. \n",
    "3. Reward should be equal in joint space.\n",
    "4. Reward should have noise to improve exploration and be higher when close to the goal.\n",
    "5. Reward should be calculated based on the history, if end-effector is approaching the goal, it should be higher"
   ]
  },
  {
   "cell_type": "code",
   "execution_count": 66,
   "id": "21dbcb90-01c8-4825-bc3e-5f28f0bcf965",
   "metadata": {},
   "outputs": [],
   "source": [
    "sq4_1 = 2 # Answer question 4.1 with the appropriate answer number"
   ]
  },
  {
   "cell_type": "code",
   "execution_count": 67,
   "id": "77452fd6-23f2-4045-9437-3107a3a50a0b",
   "metadata": {
    "deletable": false,
    "editable": false,
    "nbgrader": {
     "cell_type": "code",
     "checksum": "67f2ef8d46163f9aae541c7ff63a427b",
     "grade": true,
     "grade_id": "cell-d6a8fcabc4c42c92",
     "locked": true,
     "points": 0,
     "schema_version": 3,
     "solution": false,
     "task": false
    },
    "tags": []
   },
   "outputs": [],
   "source": [
    "assert sq4_1 in range(1, 6)"
   ]
  },
  {
   "cell_type": "code",
   "execution_count": null,
   "id": "783b614d-8f10-42ed-980e-c2def5d66181",
   "metadata": {
    "deletable": false,
    "editable": false,
    "nbgrader": {
     "cell_type": "code",
     "checksum": "08f817d52414224e40facb15ed356d59",
     "grade": true,
     "grade_id": "cell-385126983a8fd92d",
     "locked": true,
     "points": 5,
     "schema_version": 3,
     "solution": false,
     "task": false
    },
    "tags": []
   },
   "outputs": [],
   "source": []
  },
  {
   "cell_type": "markdown",
   "id": "5a33edc5-9e4f-41c5-af73-f0b4684589fe",
   "metadata": {
    "deletable": false,
    "editable": false,
    "nbgrader": {
     "cell_type": "markdown",
     "checksum": "9114aa69847c9c2be97907cfa2af71a4",
     "grade": false,
     "grade_id": "cell-4346eec80fe675af",
     "locked": true,
     "schema_version": 3,
     "solution": false,
     "task": false
    }
   },
   "source": [
    "<a id='Q5'></a>\n",
    "<div class=\" alert alert-warning\">\n",
    "    <h3><b>Student Question 4.2</b> Analysis of Behaviour (9 points) </h3> \n",
    "\n",
    "Did the policy learn to reach the goal from every possible state (manipulator configuration) in an optimal way (i.e. with lowest possible number of steps)? Why/why not?\n",
    "            \n",
    "🔝\t<a href='#TOC'><b>Table of Contents</b></a>\n",
    "</div>"
   ]
  },
  {
   "cell_type": "markdown",
   "id": "b5a50a12-040e-44c6-8062-494174715119",
   "metadata": {
    "deletable": false,
    "editable": false,
    "nbgrader": {
     "cell_type": "markdown",
     "checksum": "79a2ad8ef18bc08b07496b71340a0dfb",
     "grade": false,
     "grade_id": "cell-44ab862bff7d27bf",
     "locked": true,
     "schema_version": 3,
     "solution": false,
     "task": false
    }
   },
   "source": [
    "Select all the correct answers. You get 3 points for each correct answer. Select at **most** 4 answers, or you will **lose all points**.\n",
    "\n",
    "1. Yes, the policy efficiently learns to reach the goal from every state due to comprehensive state exploration.\n",
    "\n",
    "2. No, the policy fails to explore all states adequately because the initial and goal states are nearly constant, leading to limited exploration ability.\n",
    "\n",
    "3. Yes, the model is trained to always find the shortest path due to advanced algorithmic efficiency.\n",
    "\n",
    "4. No, because the policy often chooses longer paths for certain initial states , not exploiting shorter alternatives.\n",
    "\n",
    "5. Yes, continuous training ensures the policy adapts to find the best route from any state over time.\n",
    "\n",
    "6. No, optimal paths are not always found because the exploration phase is limited, causing repeated suboptimal actions.\n",
    "\n",
    "7. No, the policy sometimes achieves the goal optimally, but not consistently across all trials and configurations.\n",
    "\n",
    "8. Yes, the training regime guarantees that all possible configurations are optimally addressed by the final model.\n",
    "\n",
    "9. No, the policy cannot reach from all state because the policy has stochastic behavior.\n",
    "\n",
    "10. No, bacause the policy overfits to the online it collects.\n",
    "\n",
    "11. No, bacause the the reward function is not defined in an optimal way for this task."
   ]
  },
  {
   "cell_type": "code",
   "execution_count": 68,
   "id": "1621dc20",
   "metadata": {},
   "outputs": [],
   "source": [
    "sq4_2 = [2, 4, 7, 10] #Answer question 4.2 with the appropriate answer numbers"
   ]
  },
  {
   "cell_type": "code",
   "execution_count": 69,
   "id": "fcc40e62",
   "metadata": {
    "deletable": false,
    "editable": false,
    "nbgrader": {
     "cell_type": "code",
     "checksum": "343ce1ee6a8e4d8c9e31750dca196477",
     "grade": true,
     "grade_id": "cell-44c69f0bc8c72e3f",
     "locked": true,
     "points": 0,
     "schema_version": 3,
     "solution": false,
     "task": false
    },
    "tags": []
   },
   "outputs": [],
   "source": [
    "assert 1 <= len(set(sq4_2)) <= 4\n",
    "assert set(sq4_2) < set(range(1, 12))"
   ]
  },
  {
   "cell_type": "markdown",
   "id": "e60a926e-b1b4-4d1e-9daf-41a6c217ea6b",
   "metadata": {
    "deletable": false,
    "editable": false,
    "nbgrader": {
     "cell_type": "markdown",
     "checksum": "b652e7d56b0faeab487f22b14f619240",
     "grade": false,
     "grade_id": "cell-c1270f97d5ec1f3d",
     "locked": true,
     "schema_version": 3,
     "solution": false,
     "task": false
    }
   },
   "source": [
    "Do not remove the following blocks as they are used for grading"
   ]
  },
  {
   "cell_type": "code",
   "execution_count": null,
   "id": "05031d7b",
   "metadata": {
    "deletable": false,
    "editable": false,
    "nbgrader": {
     "cell_type": "code",
     "checksum": "363e721a50466efc4a48b8eb31060bfc",
     "grade": true,
     "grade_id": "cell-5a73a8d6f1e62a4c",
     "locked": true,
     "points": 3,
     "schema_version": 3,
     "solution": false,
     "task": false
    }
   },
   "outputs": [],
   "source": []
  },
  {
   "cell_type": "code",
   "execution_count": null,
   "id": "75c7b426",
   "metadata": {
    "deletable": false,
    "editable": false,
    "nbgrader": {
     "cell_type": "code",
     "checksum": "7ac4e9f13a548e2d539bd454d10ee8b0",
     "grade": true,
     "grade_id": "cell-b18c9cd3dfeb8639",
     "locked": true,
     "points": 3,
     "schema_version": 3,
     "solution": false,
     "task": false
    }
   },
   "outputs": [],
   "source": []
  },
  {
   "cell_type": "code",
   "execution_count": null,
   "id": "db031f32",
   "metadata": {
    "deletable": false,
    "editable": false,
    "nbgrader": {
     "cell_type": "code",
     "checksum": "27bd6747e4d994a69c36e743a49c9e70",
     "grade": true,
     "grade_id": "cell-20401f4d0e76b565",
     "locked": true,
     "points": 3,
     "schema_version": 3,
     "solution": false,
     "task": false
    }
   },
   "outputs": [],
   "source": []
  },
  {
   "cell_type": "markdown",
   "id": "5dbe1eb2-85e3-4cb3-afbd-cb89b547c0b4",
   "metadata": {},
   "source": [
    "<a id='Q6'></a>\n",
    "<div class=\" alert alert-warning\">\n",
    "    <h3><b>Student Question 4.3</b> Checking your knowledge about RL (9 points) </h3> \n",
    "            \n",
    "🔝\t<a href='#TOC'><b>Table of Contents</b></a>\n",
    "</div>"
   ]
  },
  {
   "cell_type": "markdown",
   "id": "b79ddc4c-744e-4fdb-8e73-81dbfa3e8358",
   "metadata": {},
   "source": [
    "Select all the true statements. You get 3 points for each correct answer. Select at **most** 4 answers, or you will **lose all points**.\n",
    "\n",
    "1. Each trial in reinforcement learning is called an episode. \n",
    "\n",
    "2. Each trial in reinforcement learning should have the same length.\n",
    "\n",
    "3. Reinforcement learning always requires a model of the environment.\n",
    "\n",
    "4. Once the agent learns, it never makes mistakes again.\n",
    "\n",
    "5. Exploitation means choosing the action that seems best based on past experience.\n",
    "\n",
    "6. Optimal policies are always found in reinforcement learining. \n",
    "\n",
    "7. There is always only one optimal policy.\n",
    "\n",
    "8. The exploration–exploitation trade-off is central to reinforcement learning."
   ]
  },
  {
   "cell_type": "code",
   "execution_count": 70,
   "id": "054d3397-37f7-4c08-8291-e285b80ec907",
   "metadata": {
    "tags": []
   },
   "outputs": [],
   "source": [
    "sq4_3 = [1, 5, 8] #Answer question 4.2 with the appropriate answer numbers"
   ]
  },
  {
   "cell_type": "code",
   "execution_count": 71,
   "id": "c8127189-016c-4e5a-b90f-4040047c63cb",
   "metadata": {
    "deletable": false,
    "editable": false,
    "nbgrader": {
     "cell_type": "code",
     "checksum": "827fe7185982bb28d0d7593ccea30093",
     "grade": true,
     "grade_id": "cell-f6aef306d8725802",
     "locked": true,
     "points": 0,
     "schema_version": 3,
     "solution": false,
     "task": false
    },
    "tags": []
   },
   "outputs": [],
   "source": [
    "assert 1 <= len(set(sq4_3)) <= 4\n",
    "assert set(sq4_3) < set(range(1, 9))"
   ]
  },
  {
   "cell_type": "code",
   "execution_count": null,
   "id": "7241aea4-ff50-4d85-a502-0d1df5d78627",
   "metadata": {
    "deletable": false,
    "editable": false,
    "nbgrader": {
     "cell_type": "code",
     "checksum": "7fb4f785894e812af8f5a4f71dbc3a48",
     "grade": true,
     "grade_id": "cell-9b87d4e533b58f65",
     "locked": true,
     "points": 3,
     "schema_version": 3,
     "solution": false,
     "task": false
    },
    "tags": []
   },
   "outputs": [],
   "source": []
  },
  {
   "cell_type": "code",
   "execution_count": null,
   "id": "3054efbc-e7c1-4583-ad3b-5b7c04ce7958",
   "metadata": {
    "deletable": false,
    "editable": false,
    "nbgrader": {
     "cell_type": "code",
     "checksum": "823ca0672ba2112c1554c928516e9318",
     "grade": true,
     "grade_id": "cell-582e8b9d6a11c222",
     "locked": true,
     "points": 3,
     "schema_version": 3,
     "solution": false,
     "task": false
    },
    "tags": []
   },
   "outputs": [],
   "source": []
  },
  {
   "cell_type": "code",
   "execution_count": null,
   "id": "090291db-697d-495e-850e-d184a04c8224",
   "metadata": {
    "deletable": false,
    "editable": false,
    "nbgrader": {
     "cell_type": "code",
     "checksum": "f8e2c7de06cbb3496a3346d3e652dcd8",
     "grade": true,
     "grade_id": "cell-ffc63b0be74b0da6",
     "locked": true,
     "points": 3,
     "schema_version": 3,
     "solution": false,
     "task": false
    },
    "tags": []
   },
   "outputs": [],
   "source": []
  },
  {
   "cell_type": "markdown",
   "id": "12c171dd-5966-4066-9fea-f2ef3bac1da9",
   "metadata": {},
   "source": [
    "# 5. Submitting <a id='4.'></a>\n",
    "Ensure all tasks and questions (in ```ex1.ipynb```) are answered and the relevant plots are recorded in the relevant places. Details about attaching images and figures can be found below. The relevant graphs to be included for this assignment are:\n",
    "- Task 1, CartPole ```episodesep_reward``` plot from logged csv file\n",
    "- x2 Task 4 reward plots\n",
    "\n",
    "Ensure the correct model files are saved:\n",
    "- results/model/CartPole-v1_params.pt\n",
    "- results/model/CartPole-v1-model{0-4}_params.pt\n",
    "- results/model/SpinningReacher-v0_params.pt\n",
    "- results/model/TargetReacher-v0_params.pt\n"
   ]
  },
  {
   "cell_type": "code",
   "execution_count": 75,
   "id": "27d551ec",
   "metadata": {
    "deletable": false,
    "editable": false,
    "nbgrader": {
     "cell_type": "code",
     "checksum": "ec29d723e13463965e0cd445e8d76d21",
     "grade": true,
     "grade_id": "cell-b0b285ad316b6cdf",
     "locked": true,
     "points": 0,
     "schema_version": 3,
     "solution": false,
     "task": false
    }
   },
   "outputs": [],
   "source": [
    "# Make sure that skip training is set to True before submission\n",
    "assert skip_training == True"
   ]
  },
  {
   "cell_type": "markdown",
   "id": "83fc9b21-2b96-413d-9f3c-80b9130b4d0a",
   "metadata": {},
   "source": [
    "## 5.1 Feedback <a id='5.1'></a>\n",
    "\n",
    "In order to help the staff of the course as well as the forthcoming students, it would be great if you could answer to the following questions in your submission:"
   ]
  },
  {
   "cell_type": "markdown",
   "id": "9768b189-41ea-4690-9852-7b63482c0d9a",
   "metadata": {},
   "source": [
    "1) How much time did you spend solving this exercise? (change the ```hrs``` variable below to a floating point number representing the number of hours taken e.g. 5.43)\n"
   ]
  },
  {
   "cell_type": "code",
   "execution_count": 76,
   "id": "cbc91b59-0048-475d-a679-8e976ba0c7b7",
   "metadata": {},
   "outputs": [],
   "source": [
    "hrs = 2"
   ]
  },
  {
   "cell_type": "markdown",
   "id": "eb35c1c3-d806-4f9f-821a-592576cbbd66",
   "metadata": {},
   "source": [
    "2) Difficulty of each task/question from 1-5 (int or float)"
   ]
  },
  {
   "cell_type": "code",
   "execution_count": null,
   "id": "35321f8a-a156-4953-ba84-689b6e53a0b8",
   "metadata": {},
   "outputs": [],
   "source": [
    "T1 = 1 # Student Task 1. Training a simple model for Cartpole environment\n",
    "Q1_1 = 1 # Student Question 1.1 Learning\n",
    "T2 = 2 # Student Task 2. Investigating training performance\n",
    "Q2_1 = 3 # Student Question 2.1 Analyzing the training performance\n",
    "Q2_2 = 1 # Stochasticity\n",
    "T3 = 1 # Student Task 3. Reward function\n",
    "T4 = 2 # Student Task 4. Visualize behavior\n",
    "Q4_1 = 3 # Student Question 4.1 Achieved performance\n",
    "Q4_2 = 3 # Student Question 4.2 Analysis of behavior\n",
    "Q4_3 = 2 # Student Question 4.3 Checking your knowledge about RL"
   ]
  },
  {
   "cell_type": "markdown",
   "id": "2fafec26-6287-4211-87d4-0cb0a4919642",
   "metadata": {},
   "source": [
    "3) How well did you understand the content of the task/question from 1-5? (int or float)\n"
   ]
  },
  {
   "cell_type": "code",
   "execution_count": null,
   "id": "6ed5d535-89b1-4852-81ef-541a0e1d6dcd",
   "metadata": {},
   "outputs": [],
   "source": [
    "T1 = None # Student Task 1. Training a simple model for Cartpole environment\n",
    "Q1_1 = None # Student Question 1.1 Learning\n",
    "T2 = None # Student Task 2. Investigating training performance\n",
    "Q2_1 = None # Student Question 2.1 Analyzing the training performance\n",
    "Q2_2 = None # Stochasticity\n",
    "T3 = None # Student Task 3. Reward function\n",
    "T4 = None # Student Task 4. Visualize behavior\n",
    "Q4_1 = None # Student Question 4.1 Achieved performance\n",
    "Q4_2 = None # Student Question 4.2 Analysis of behavior\n",
    "Q4_3 = None # Student Question 4.3 Checking your knowledge about RL"
   ]
  },
  {
   "cell_type": "markdown",
   "id": "79ecd7c7-bfa0-4bad-85d3-3728c82e165d",
   "metadata": {},
   "source": [
    "4) General feedback. Consider questions like:\n",
    "\n",
    "    - Did the content of the lecture relate well with the assignment?\n",
    "    - To what extent did you find the material to be potentially useful for your research and studies?\n",
    "    \n",
    "And other feedback you think is worth including. Type in the box below"
   ]
  },
  {
   "cell_type": "code",
   "execution_count": null,
   "id": "38a916c5-73ec-44b2-a6b7-e33e86ab0ace",
   "metadata": {},
   "outputs": [],
   "source": []
  },
  {
   "cell_type": "markdown",
   "id": "9e1f683c-5d59-48df-bb8b-1514569b2dd6",
   "metadata": {
    "tags": []
   },
   "source": [
    "# References <a id='5.'></a>\n",
    "\n",
    "[1] Sutton, Richard S., and Andrew G. Barto. \"Reinforcement Learning: An Introduction (in progress).\" London, England (2017). http://incompleteideas.net/book/RLbook2018.pdf"
   ]
  },
  {
   "cell_type": "code",
   "execution_count": null,
   "id": "69d837ff-dea1-4e5a-84a1-c1771fe296a1",
   "metadata": {},
   "outputs": [],
   "source": []
  }
 ],
 "metadata": {
  "kernelspec": {
   "display_name": "Python 3",
   "language": "python",
   "name": "python3"
  },
  "language_info": {
   "codemirror_mode": {
    "name": "ipython",
    "version": 3
   },
   "file_extension": ".py",
   "mimetype": "text/x-python",
   "name": "python",
   "nbconvert_exporter": "python",
   "pygments_lexer": "ipython3",
   "version": "3.10.12"
  }
 },
 "nbformat": 4,
 "nbformat_minor": 5
}
