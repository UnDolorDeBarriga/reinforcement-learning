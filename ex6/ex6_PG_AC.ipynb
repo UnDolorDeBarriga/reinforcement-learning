{
 "cells": [
  {
   "cell_type": "markdown",
   "id": "8323a86e",
   "metadata": {
    "deletable": false,
    "editable": false,
    "nbgrader": {
     "cell_type": "markdown",
     "checksum": "968ecb4cb3b8623792cd5938edc4ea1b",
     "grade": false,
     "grade_id": "cell-47bfc0ea1447f571",
     "locked": true,
     "schema_version": 3,
     "solution": false,
     "task": false
    }
   },
   "source": [
    "\n",
    "<div class=\"alert alert-block alert-info\">\n",
    "   <h2 align=\"center\"> <center><b> Reinforcement Learning Assignment 6 - Actor Critic part 1 </b></center></h2>\n",
    "\n",
    "<br>\n",
    "<center><font size=\"3\">This notebook is part of the teaching material for ELEC-E8125</font></center>\n",
    "<center><font size=\"3\">Aalto University</font></center>\n",
    "</div>\n",
    "\n",
    "\n",
    "<a id='TOC'></a>\n",
    "\n",
    "<div class=\"alert alert-block alert-success\">\n",
    "    \n",
    "# Table of contents\n",
    "* <a href='#1.'> 1. Introduction </a>\n",
    "* <a href='#1.1'> 1.1 Learning Objectives </a>\n",
    "* <a href='#1.2'> 1.2 Code Structure & Files </a>\n",
    "* <a href='#2.'> 2. Policy Gradient with a Critic </a>\n",
    "* <a href='#3.'> 3. Submitting </a>\n",
    "* <a href='#3.1'> 3.1 Feedback </a>\n",
    "* <a href='#4.'> References</a>\n",
    "\n",
    "<a href='#T1'><b>Student Task 1.</b> Implementing PG with critic (20 points)</a>\\\n",
    "<a href='#Q1'><b>Student Question 1.1</b> Relationship between actor-critic and REINFORCE with baseline (10 points)</a>\\\n",
    "<a href='#Q2'><b>Student Question 1.2</b> Advantage (5 points)  </a>\\\n",
    "<a href='#Q3'><b>Student Question 1.3</b> Bias and Variance Analysis (10 points) </a>\\\n",
    "<a href='#Q4'><b>Student Question 1.4</b> Controlling bias-variance tradeoff (10 points)</a>\n",
    "    \n",
    "**Total Points:** 55\n",
    "\n",
    "**Estimated runtime of all the cells:** 1 hour"
   ]
  },
  {
   "cell_type": "markdown",
   "id": "ab53631b",
   "metadata": {
    "deletable": false,
    "editable": false,
    "nbgrader": {
     "cell_type": "markdown",
     "checksum": "a4ce01f58b207f5715f395b180619b9e",
     "grade": false,
     "grade_id": "cell-6ef87fd4c2d2cc44",
     "locked": true,
     "schema_version": 3,
     "solution": false,
     "task": false
    }
   },
   "source": [
    "# 1. Introduction <a id='1.'></a>\n",
    "\n",
    "In this assignment, we will implement an actor-critic reinforcement learning algorithm which combines elements of both value-based methods (critic) and policy-based methods (actor) to improve learning and stability in the **InvertedPendulum-v4**  environment.\n",
    "\n",
    "## 1.1 Task environments: <a id='1.1'></a>\n",
    "\n",
    "In this exercise, we will focus on InvertedPendulum-v4 tasks:\n",
    "- InvertedPendulum-v4(https://gymnasium.farama.org/environments/mujoco/inverted_pendulum/): This environment is similar to the cartpole environment but now powered by the Mujoco physics simulator - allowing for more complex experiments (such as varying the effects of gravity). This environment involves a cart that moves horizontally, with a pole fixed on the cart at one end and the other end of the pole moving freely. The cart can be pushed left or right. The goal is to move the pole such that it is vertically above the cart pointing straight up by applying horizontal forces on the cart.\n",
    "<figure style=\"text-align: center\">\n",
    "    <img src=\"imgs/InvertedPendulum.png\" width=\"300\"/>\n",
    "    <figcaption style=\"text-align: center\">  Figure 1: The InvertedPendulum-v4 environment. </figcaption>\n",
    "</figure>\n",
    "\n",
    "## 1.2 Learning Objectives: <a id='1.1'></a>\n",
    "\n",
    "- Understand the idea of actor-critic algorithms\n",
    "- Understand the limits and use cases of actor-critics\n",
    "\n",
    "## 1.3 Code Structure & Files <a id='1.2'></a>\n",
    "\n",
    "```ex6_PG_AC.ipynb``` is the file needed to be modified for this part of the assignment.  \n",
    "\n",
    "<span style=\"color:red\"> **# IMPORTANT: DO NOT FORGET ANOTHER PART IN ```ex6_DDPG.ipynb```** </span>\n",
    "\n",
    "```\n",
    "├───cfg                            # Config files for environments\n",
    "├───imgs                           # Images used in notebook\n",
    "├───results\n",
    "│   └───HalfCheetah-v4\n",
    "│   │   ├───logging                \n",
    "│   │   │    └───logging.pkl        # Contains logged data\n",
    "│   │   ├───model              \n",
    "│   │   │    └───*HalfCheetah-v4_params.pt    # Contains trained model\n",
    "│   │   └───video                   # Videos saved\n",
    "│   │   └───*ddpg.png               # Contains training performance plot\n",
    "│   └───InvertedPendulum-v4\n",
    "│   │   ├───logging                \n",
    "│   │   │    └───logging.pkl        # Contains logged data\n",
    "│   │   ├───model              \n",
    "│   │   │    └───*InvertedPendulum-v4_params.pt      # Contains trained model\n",
    "│   │   └───video                   # Videos saved\n",
    "│   │   └───*pg_ac.png              # Contains training performance plot\n",
    "│   ex6_DDPG.ipynb                  # 2nd assignment file containing tasks <---------\n",
    "│   ex6_PG_AC.ipynb                 # 1st assignment file containing tasks <---------This task\n",
    "│   train.py                        # Contains train and test functions \n",
    "│   utils.py                        # Contains useful functions \n",
    "└───buffer.py                       # Contains buffer functions\n",
    "```\n",
    "\n",
    "## 1.4 Execution time <a id='1.4'></a>\n",
    "\n",
    "The training of Actor-Critic may take more than 30 mins depending on the server load. If you have problems with the training time, you can train locally."
   ]
  },
  {
   "cell_type": "markdown",
   "id": "36ef1c90",
   "metadata": {
    "deletable": false,
    "editable": false,
    "nbgrader": {
     "cell_type": "markdown",
     "checksum": "e2a4fdb4406c82cbf0924a4ae9fd56ca",
     "grade": false,
     "grade_id": "cell-76eb1e3dcf217198",
     "locked": true,
     "schema_version": 3,
     "solution": false,
     "task": false
    }
   },
   "source": [
    "## Warnings:\n",
    "\n",
    "- Don’t copy and paste cells within a notebook. This will mess up the tracking metadata and prevent autograding from working.\n",
    "- Only add new cells using the '+' button in the upper toolbar and do not split cells.\n",
    "- Be cautious about things such as copying the whole notebook to Colab to work on it. This has sometimes resulted in removing all notebook metadata, making autograding impossible."
   ]
  },
  {
   "cell_type": "markdown",
   "id": "eb79df48",
   "metadata": {
    "deletable": false,
    "editable": false,
    "nbgrader": {
     "cell_type": "markdown",
     "checksum": "dd4a8717cd49c894ce9a4aa3a1895148",
     "grade": false,
     "grade_id": "cell-78fdf22a73920722",
     "locked": true,
     "schema_version": 3,
     "solution": false,
     "task": false
    }
   },
   "source": [
    "\n",
    "# 2. Policy Gradient with a Critic <a id='2.'></a>"
   ]
  },
  {
   "cell_type": "markdown",
   "id": "c584d11d",
   "metadata": {
    "deletable": false,
    "editable": false,
    "nbgrader": {
     "cell_type": "markdown",
     "checksum": "0439bebaa3d0d286f254868ab55e9939",
     "grade": false,
     "grade_id": "cell-61899a5dd880417b",
     "locked": true,
     "schema_version": 3,
     "solution": false,
     "task": false
    }
   },
   "source": [
    "<a id='T1'></a>\n",
    "<div class=\" alert alert-warning\">\n",
    "    <h3><b>Student Task 1.</b> Implement policy gradient (PG) with critic (20 points) </h3> \n",
    "\n",
    "Revisit the policy gradient solution for the InvertedPendulum from Exercise 5 with learned sigma if needed. Implement the actor-critic algorithm below. Perform TD(0) updates at the end of each episode. You can check the training performance plot in the result folder after running the plot cell. Take Figure 2 as a reference training plot. \n",
    "    \n",
    "**Hint:** Check out the PyTorch tutorial from [here](https://pytorch.org/tutorials/beginner/basics/autogradqs_tutorial.html) to see how to calculate the $A_\\theta \\Delta_\\theta \\log \\pi_\\theta(a_i|s_i)$ term using the ```detach()``` function. \n",
    "\n",
    "<figure style=\"text-align: center\">\n",
    "<img src=\"imgs/pg_ac.png\" width=\"400px\">\n",
    "<figcaption style=\"text-align: center\"> Figure 2: Training plot of the policy gradient with a critic.\n",
    "</figcaption>\n",
    "</figure>\n",
    "     \n",
    "**Complete the all the unfinished implementation in `PG` class (marked with ```TODOs```)**. \n",
    "    \n",
    "1. **Policy Network**: Finish the `__init__(self, state_dim, action_dim)` function and `forward(self, state)` function within the `Policy` class\n",
    "2. **Agent Update Function**: Finish the `update(self, )` function within the `PG` class\n",
    "3. **Get Action Method**: Finish the `get_action(self, observation, evaluation=False)` function within the `PG` class.\n",
    "    \n",
    "🔝\t<a href='#TOC'><b>Table of Contents</b></a>\n",
    "</div>\n"
   ]
  },
  {
   "cell_type": "code",
   "execution_count": 1,
   "id": "9dc0d42e",
   "metadata": {},
   "outputs": [],
   "source": [
    "skip_training = False  # Set this flag to True before validation and submission"
   ]
  },
  {
   "cell_type": "code",
   "execution_count": null,
   "id": "489df71f",
   "metadata": {
    "deletable": false,
    "editable": false,
    "nbgrader": {
     "cell_type": "code",
     "checksum": "e4a46183e22c508d922baebfefbe6a0a",
     "grade": true,
     "grade_id": "cell-f54b5f40d174d5b2",
     "locked": true,
     "points": 0,
     "schema_version": 3,
     "solution": false,
     "task": false
    }
   },
   "outputs": [],
   "source": []
  },
  {
   "cell_type": "code",
   "execution_count": 2,
   "id": "fad4384f",
   "metadata": {
    "tags": []
   },
   "outputs": [],
   "source": [
    "import sys, os\n",
    "sys.path.insert(0, os.path.abspath(\"..\"))\n",
    "\n",
    "import numpy as np\n",
    "from pathlib import Path\n",
    "from IPython.display import Video\n",
    "\n",
    "import torch, yaml\n",
    "from torch import nn\n",
    "import torch.nn.functional as F\n",
    "from torch.distributions import Normal\n",
    "\n",
    "import train as t\n",
    "import utils as u\n",
    "\n",
    "device = 'cpu'"
   ]
  },
  {
   "cell_type": "code",
   "execution_count": 3,
   "id": "a6634d41",
   "metadata": {
    "tags": []
   },
   "outputs": [],
   "source": [
    "# Actor-critic agent\n",
    "def layer_init(layer, std=np.sqrt(2), bias_const=0.0):\n",
    "    torch.nn.init.orthogonal_(layer.weight, std)\n",
    "    torch.nn.init.constant_(layer.bias, bias_const)\n",
    "    return layer\n",
    "\n",
    "\n",
    "class Policy(nn.Module):\n",
    "    def __init__(self, state_dim, action_dim):\n",
    "        super().__init__()\n",
    "        # Create a neural network and use it for the mean of the policy.\n",
    "        # The size of the neural network here has been chosen such that \n",
    "        # it is not too big but should perform well in the tasks we want to look at.\n",
    "        self.actor_mean = nn.Sequential(\n",
    "            layer_init(nn.Linear(state_dim, 64)), nn.Tanh(),\n",
    "            layer_init(nn.Linear(64, 64)), nn.Tanh(),\n",
    "            layer_init(nn.Linear(64, action_dim), std=0.01),\n",
    "        )\n",
    "        \n",
    "        \"\"\"\n",
    "        # TODO: Implement actor_logstd as a learnable parameter\n",
    "        # Use log of std to make sure std (standard deviation) of the policy\n",
    "        # doesn't become negative during training\n",
    "        \"\"\"\n",
    "        self.actor_logstd = nn.Parameter(torch.zeros(action_dim))\n",
    "        \n",
    "    def forward(self, state):\n",
    "        # Get mean of a Normal distribution (the output of the neural network)\n",
    "        action_mean = self.actor_mean(state)\n",
    "\n",
    "        # Make sure action_logstd matches dimensions of action_mean\n",
    "        action_logstd = self.actor_logstd.expand_as(action_mean)\n",
    "\n",
    "        # Exponentiate the log std to get actual std\n",
    "        action_std = torch.exp(action_logstd)\n",
    "        \n",
    "        \"\"\"\n",
    "        # TODO: Create a Normal distribution with mean of 'action_mean' & standard deviation of 'action_logstd' \n",
    "        # and return the distribution. You should be using the torch.distributions.Normal class to create the distribution.\n",
    "        \"\"\"\n",
    "        probs = Normal(action_mean, action_std)\n",
    "        return probs\n",
    "\n",
    "    \n",
    "class Value(nn.Module):\n",
    "    def __init__(self, state_dim):\n",
    "        super().__init__()\n",
    "        self.value = nn.Sequential(\n",
    "            layer_init(nn.Linear(state_dim, 64)), nn.Tanh(),\n",
    "            layer_init(nn.Linear(64, 64)), nn.Tanh(),\n",
    "            layer_init(nn.Linear(64, 1)))\n",
    "    \n",
    "    def forward(self, x):\n",
    "        return self.value(x).squeeze(1) # output shape [batch,]\n",
    "\n",
    "\n",
    "class PG(object):\n",
    "    def __init__(self, state_dim, action_dim, lr, gamma):\n",
    "        self.name = 'pg'\n",
    "        self.policy = Policy(state_dim, action_dim).to(device)\n",
    "        self.value = Value(state_dim).to(device)\n",
    "        self.optimizer = torch.optim.Adam(list(self.policy.parameters()) + list(self.value.parameters()), \n",
    "                                         lr=float(lr),)\n",
    "\n",
    "        self.gamma = gamma\n",
    "\n",
    "        # a simple buffer\n",
    "        self.states = []\n",
    "        self.action_probs = []\n",
    "        self.rewards = []\n",
    "        self.dones = []\n",
    "        self.next_states = []\n",
    "\n",
    "    '''\n",
    "    TODO: Task 1\n",
    "    # Complete the following 4 functions\n",
    "    # Hints: 1. calculate the target values as well as the MSE loss between the predicted value and the target values\n",
    "    #        2. calculate the policy loss (similar to ex5) with advantage calculated from the value function. Normalise\n",
    "    #           the advantage to zero mean and unit variance.\n",
    "    #        3. Use mean to calculate the actor (policy) loss ;)\n",
    "    #           - https://discuss.pytorch.org/t/loss-reduction-sum-vs-mean-when-to-use-each/115641/2\n",
    "    '''\n",
    "    \n",
    "    # 1. Calculate the target values, you should not modify the gradient of the variables\n",
    "    def calculate_target_values(self, rewards, next_states, dones):\n",
    "        ########## Your code starts here. ##########\n",
    "        with torch.no_grad():\n",
    "            next_values = self.value(next_states)\n",
    "            target_values = rewards + self.gamma * next_values * (1 - dones)\n",
    "        ########## Your code ends here. ##########\n",
    "        return target_values\n",
    "\n",
    "    # 2. Calculate the critic loss\n",
    "    def calculate_critic_loss(self, values, target_values):\n",
    "        ########## Your code starts here. ##########\n",
    "        critic_loss = F.mse_loss(values, target_values)\n",
    "        ########## Your code ends here. ##########\n",
    "        return critic_loss\n",
    "    \n",
    "    # 3. Advantage estimation, you should not modify the gradient of the variables\n",
    "    def calculate_advantage(self, values, target_values):\n",
    "        ########## Your code starts here. ##########\n",
    "        with torch.no_grad():\n",
    "            advantage = target_values - values\n",
    "            advantage = (advantage - advantage.mean()) / (advantage.std() + 1e-8)\n",
    "        ########## Your code ends here. ##########\n",
    "        return advantage\n",
    "    \n",
    "    # 4. Calculate the actor (policy) loss \n",
    "    def calculate_actor_loss(self, action_probs, advantage):\n",
    "        ########## Your code starts here. ##########\n",
    "        weighted_probs = action_probs * advantage\n",
    "        actor_loss = -weighted_probs.mean()\n",
    "        ########## Your code ends here. ##########\n",
    "        return actor_loss\n",
    "\n",
    "    def update(self,):\n",
    "        action_probs = torch.stack(self.action_probs, dim=0) \\\n",
    "                .to(device).squeeze(-1)\n",
    "        rewards = torch.stack(self.rewards, dim=0).to(device).squeeze(-1)\n",
    "        states = torch.stack(self.states, dim=0).to(device).squeeze(-1)\n",
    "        next_states = torch.stack(self.next_states, dim=0).to(device).squeeze(-1)\n",
    "        dones = torch.stack(self.dones, dim=0).to(device).squeeze(-1)\n",
    "        # clear buffer\n",
    "        self.states, self.action_probs, self.rewards, self.dones, self.next_states = [], [], [], [], []\n",
    "\n",
    "        \"\"\"\n",
    "        # TODO: Compute the current state value estimates using the value function network\n",
    "        \"\"\"\n",
    "        values = self.value(states)\n",
    "        \n",
    "        target_values = self.calculate_target_values(rewards, next_states, dones)        \n",
    "        critic_loss = self.calculate_critic_loss(values, target_values)        \n",
    "        advantage = self.calculate_advantage(values, target_values)\n",
    "        actor_loss = self.calculate_actor_loss(action_probs, advantage)\n",
    "\n",
    "        \"\"\"\n",
    "        # TODO: Compute the gradients of the joint loss w.r.t network parameters\n",
    "        \"\"\"\n",
    "        loss = actor_loss + critic_loss\n",
    "        loss.backward()\n",
    "\n",
    "        # Update network parameters using self.optimizer and zero gradients\n",
    "        self.optimizer.step()\n",
    "        nn.utils.clip_grad_norm_(list(self.policy.parameters()) + list(self.value.parameters()), 1.0)\n",
    "        self.optimizer.zero_grad() \n",
    "\n",
    "        return {}\n",
    "\n",
    "    def get_action(self, observation, evaluation=False):\n",
    "        \"\"\"Return action (np.ndarray) and logprob (torch.Tensor) of this action.\"\"\"\n",
    "        if observation.ndim == 1: observation = observation[None] # add the batch dimension\n",
    "        x = torch.from_numpy(observation).float().to(device)\n",
    "        \n",
    "        '''\n",
    "        # TODO: Task 1\n",
    "        # Hints: 1. the self.policy returns a normal distribution, check the PyTorch documentation to see \n",
    "        #           how to calculate the log_prob of an action and how to sample.\n",
    "        #        2. if evaluating the policy, return policy mean, otherwise, return a sample\n",
    "        #        3. the returned action and the act_logprob should be torch.Tensors.\n",
    "        #           Please always make sure the shape of variables is as you expected.\n",
    "        '''\n",
    "        ########## Your code starts here. ##########\n",
    "        dist = self.policy(x)\n",
    "        if evaluation:\n",
    "            action = dist.mean.squeeze(0)\n",
    "        else:\n",
    "            action = dist.sample().squeeze(0)\n",
    "\n",
    "        # compute the log probability of the action\n",
    "        act_logprob = dist.log_prob(action).sum(axis=-1).squeeze(0)\n",
    "        ########## Your code ends here. ###########\n",
    "\n",
    "        return action, act_logprob\n",
    "\n",
    "    def record(self, observation, action_prob, next_observation, reward, done):\n",
    "        self.states.append(torch.tensor(observation, dtype=torch.float32))\n",
    "        self.action_probs.append(action_prob)\n",
    "        self.rewards.append(torch.tensor([reward], dtype=torch.float32))\n",
    "        self.dones.append(torch.tensor([done], dtype=torch.float32))\n",
    "        self.next_states.append(torch.tensor(next_observation, dtype=torch.float32))\n",
    "\n",
    "    def load(self, filepath):\n",
    "        d = torch.load(filepath)\n",
    "        self.policy.load_state_dict(d['policy'])\n",
    "        self.value.load_state_dict(d['value'])\n",
    "    \n",
    "    def save(self, filepath):\n",
    "        torch.save({\n",
    "            'policy': self.policy.state_dict(),\n",
    "            'value': self.value.state_dict(),\n",
    "        }, filepath)"
   ]
  },
  {
   "cell_type": "code",
   "execution_count": 4,
   "id": "c970385d",
   "metadata": {
    "deletable": false,
    "editable": false,
    "nbgrader": {
     "cell_type": "code",
     "checksum": "5af7194a025f5c6a09d1e4bd68084daa",
     "grade": true,
     "grade_id": "cell-9122872aaa786a57",
     "locked": true,
     "points": 2,
     "schema_version": 3,
     "solution": false,
     "task": false
    }
   },
   "outputs": [],
   "source": [
    "# Test Policy\n",
    "def test_policy_class():\n",
    "    policy = Policy(4, 1)\n",
    "    x = torch.Tensor((1.,2.,3.,4.)).reshape((1,4))\n",
    "    assert isinstance( policy.forward(x),Normal)\n",
    "    assert policy.actor_logstd.requires_grad\n",
    "\n",
    "test_policy_class()"
   ]
  },
  {
   "cell_type": "code",
   "execution_count": 5,
   "id": "1267fbc6",
   "metadata": {
    "deletable": false,
    "editable": false,
    "nbgrader": {
     "cell_type": "code",
     "checksum": "8bd467e6ef4d0bce56458aa52ec2b321",
     "grade": true,
     "grade_id": "cell-43cbda8b39fe293e",
     "locked": true,
     "points": 2,
     "schema_version": 3,
     "solution": false,
     "task": false
    }
   },
   "outputs": [
    {
     "name": "stdout",
     "output_type": "stream",
     "text": [
      "Numpy/Torch/Random Seed:  43\n"
     ]
    }
   ],
   "source": [
    "%%capture --no-stdout\n",
    "#Test get_action method\n",
    "def test_get_action_1():\n",
    "    cfg_path=Path().cwd()/'cfg'/'pg_ac.yaml'\n",
    "    cfg_args=dict(save_video=False,testing=False,seed=43)\n",
    "    env, cfg = t.setup(cfg_path, cfg_args=cfg_args)\n",
    "    agent = PG(cfg.state_shape[0], cfg.action_dim, cfg.lr, cfg.gamma)\n",
    "    obs = np.array([ 0.00978977, -0.00972236, -0.00706408,  0.00517535])\n",
    "    action = -2.0871510059805587e-05\n",
    "    assert np.allclose(agent.get_action(obs,True)[0].item(),action,atol=1e-03)\n",
    "\n",
    "    agent2 = PG(cfg.state_shape[0], cfg.action_dim, cfg.lr, cfg.gamma)\n",
    "    assert tuple(agent2.get_action(obs,True)[1].shape) == ()\n",
    "\n",
    "test_get_action_1()"
   ]
  },
  {
   "cell_type": "code",
   "execution_count": 6,
   "id": "f1baa5e6",
   "metadata": {
    "deletable": false,
    "editable": false,
    "nbgrader": {
     "cell_type": "code",
     "checksum": "70ac43e68631b7ae6e31f11b62e2eece",
     "grade": true,
     "grade_id": "cell-5bfa2cf43da8fc00",
     "locked": true,
     "points": 2,
     "schema_version": 3,
     "solution": false,
     "task": false
    }
   },
   "outputs": [
    {
     "name": "stdout",
     "output_type": "stream",
     "text": [
      "Numpy/Torch/Random Seed:  43\n"
     ]
    }
   ],
   "source": [
    "def test_update_function_1():\n",
    "    cfg_path=Path().cwd()/'cfg'/'pg_ac.yaml'\n",
    "    cfg_args=dict(save_video=False,testing=False,seed=43)\n",
    "    env, cfg = t.setup(cfg_path, cfg_args=cfg_args)\n",
    "    agent = PG(4, cfg.action_dim, cfg.lr, cfg.gamma)\n",
    "\n",
    "    rewards = torch.tensor([1., 1., 1., 1.])\n",
    "    action_probs = torch.tensor([-0.9286, -1.1687, -1.2360, -1.7127])\n",
    "    next_states = torch.tensor([[-0.0079,  0.0071, -0.1703,  0.4061],\n",
    "                                [-0.0274,  0.0524, -0.8029,  1.8464],\n",
    "                                [-0.0633,  0.1342, -0.9942,  2.2525],\n",
    "                                [-0.0931,  0.2017, -0.4978,  1.1568]])\n",
    "    dones = torch.tensor([0., 0., 0., 1.])\n",
    "    states = torch.tensor([[-4.6008e-03, -1.0801e-03,  7.1437e-03, -1.4543e-03],\n",
    "                           [-7.8743e-03,  7.0946e-03, -1.7034e-01,  4.0608e-01],\n",
    "                           [-2.7371e-02,  5.2385e-02, -8.0292e-01,  1.8464e+00],\n",
    "                           [-6.3307e-02,  1.3419e-01, -9.9422e-01,  2.2525e+00]])\n",
    "    values = torch.tensor([-0.0013, -0.0137, -0.0187, -0.0289])\n",
    "\n",
    "    target_values = agent.calculate_target_values(rewards, next_states, dones)        \n",
    "    critic_loss = agent.calculate_critic_loss(values, target_values)        \n",
    "    adv = agent.calculate_advantage(values, target_values)\n",
    "    actor_loss = agent.calculate_actor_loss(action_probs, adv)\n",
    "\n",
    "    assert torch.allclose(target_values, torch.tensor([0.9864, 0.9815, 0.9714, 1.0000]), atol = 0.001)\n",
    "    assert torch.allclose(critic_loss, torch.tensor(1.0012), atol = 0.001)\n",
    "    assert torch.allclose(adv, torch.tensor([-0.6645, -0.2767, -0.5391,  1.4803]), atol = 0.001)\n",
    "    assert torch.allclose(actor_loss, torch.tensor(0.2321), atol = 0.001)\n",
    "\n",
    "test_update_function_1()"
   ]
  },
  {
   "cell_type": "code",
   "execution_count": 7,
   "id": "04b263dd",
   "metadata": {
    "deletable": false,
    "editable": false,
    "nbgrader": {
     "cell_type": "code",
     "checksum": "47065bb40c58f45827cb38b377996854",
     "grade": true,
     "grade_id": "cell-dcf55b2136722f26",
     "locked": true,
     "points": 5,
     "schema_version": 3,
     "solution": false,
     "task": false
    }
   },
   "outputs": [],
   "source": [
    "%%capture --no-stdout\n",
    "\"TEST\""
   ]
  },
  {
   "cell_type": "code",
   "execution_count": 8,
   "id": "d39c60f7",
   "metadata": {
    "deletable": false,
    "editable": false,
    "nbgrader": {
     "cell_type": "code",
     "checksum": "c35464679797db9e10ee0bb6646ff6e0",
     "grade": true,
     "grade_id": "cell-289c24f5539ad5d3",
     "locked": true,
     "points": 7,
     "schema_version": 3,
     "solution": false,
     "task": false
    }
   },
   "outputs": [],
   "source": [
    "%%capture --no-stdout\n",
    "\"TEST\""
   ]
  },
  {
   "cell_type": "code",
   "execution_count": 9,
   "id": "8c6b02f2-891d-40c1-b01a-9bd370009a3a",
   "metadata": {
    "tags": []
   },
   "outputs": [],
   "source": [
    "# init agent\n",
    "with open(Path().cwd()/'cfg'/'pg_ac.yaml', 'r') as f:\n",
    "    cfg = u.Struct(**yaml.safe_load(f))\n",
    "    \n",
    "agent = PG(cfg.state_shape[0], cfg.action_dim, cfg.lr, cfg.gamma)"
   ]
  },
  {
   "cell_type": "code",
   "execution_count": 10,
   "id": "5fad7389",
   "metadata": {
    "tags": []
   },
   "outputs": [
    {
     "name": "stdout",
     "output_type": "stream",
     "text": [
      "Numpy/Torch/Random Seed:  837\n",
      "{'episode': 0, 'timesteps': 6, 'ep_reward': 6.0}\n",
      "{'episode': 50, 'timesteps': 22, 'ep_reward': 22.0}\n",
      "{'episode': 100, 'timesteps': 8, 'ep_reward': 8.0}\n",
      "{'episode': 150, 'timesteps': 7, 'ep_reward': 7.0}\n",
      "{'episode': 200, 'timesteps': 10, 'ep_reward': 10.0}\n",
      "{'episode': 250, 'timesteps': 24, 'ep_reward': 24.0}\n",
      "{'episode': 300, 'timesteps': 34, 'ep_reward': 34.0}\n",
      "{'episode': 350, 'timesteps': 87, 'ep_reward': 87.0}\n",
      "{'episode': 400, 'timesteps': 39, 'ep_reward': 39.0}\n",
      "{'episode': 450, 'timesteps': 157, 'ep_reward': 157.0}\n",
      "{'episode': 500, 'timesteps': 61, 'ep_reward': 61.0}\n",
      "{'episode': 550, 'timesteps': 113, 'ep_reward': 113.0}\n",
      "{'episode': 600, 'timesteps': 137, 'ep_reward': 137.0}\n",
      "{'episode': 650, 'timesteps': 114, 'ep_reward': 114.0}\n",
      "{'episode': 700, 'timesteps': 83, 'ep_reward': 83.0}\n",
      "{'episode': 750, 'timesteps': 66, 'ep_reward': 66.0}\n",
      "{'episode': 800, 'timesteps': 105, 'ep_reward': 105.0}\n",
      "{'episode': 850, 'timesteps': 254, 'ep_reward': 254.0}\n",
      "{'episode': 900, 'timesteps': 148, 'ep_reward': 148.0}\n",
      "{'episode': 950, 'timesteps': 133, 'ep_reward': 133.0}\n",
      "{'episode': 1000, 'timesteps': 55, 'ep_reward': 55.0}\n",
      "{'episode': 1050, 'timesteps': 26, 'ep_reward': 26.0}\n",
      "{'episode': 1100, 'timesteps': 13, 'ep_reward': 13.0}\n",
      "{'episode': 1150, 'timesteps': 21, 'ep_reward': 21.0}\n",
      "{'episode': 1200, 'timesteps': 44, 'ep_reward': 44.0}\n",
      "{'episode': 1250, 'timesteps': 24, 'ep_reward': 24.0}\n",
      "{'episode': 1300, 'timesteps': 52, 'ep_reward': 52.0}\n",
      "{'episode': 1350, 'timesteps': 49, 'ep_reward': 49.0}\n",
      "{'episode': 1400, 'timesteps': 59, 'ep_reward': 59.0}\n",
      "{'episode': 1450, 'timesteps': 653, 'ep_reward': 653.0}\n",
      "{'episode': 1500, 'timesteps': 365, 'ep_reward': 365.0}\n",
      "{'episode': 1550, 'timesteps': 247, 'ep_reward': 247.0}\n",
      "{'episode': 1600, 'timesteps': 218, 'ep_reward': 218.0}\n",
      "{'episode': 1650, 'timesteps': 1000, 'ep_reward': 1000.0}\n",
      "{'episode': 1700, 'timesteps': 1000, 'ep_reward': 1000.0}\n",
      "{'episode': 1750, 'timesteps': 1000, 'ep_reward': 1000.0}\n",
      "{'episode': 1800, 'timesteps': 695, 'ep_reward': 695.0}\n",
      "{'episode': 1850, 'timesteps': 1000, 'ep_reward': 1000.0}\n",
      "{'episode': 1900, 'timesteps': 1000, 'ep_reward': 1000.0}\n",
      "{'episode': 1950, 'timesteps': 1000, 'ep_reward': 1000.0}\n",
      "{'episode': 2000, 'timesteps': 1000, 'ep_reward': 1000.0}\n",
      "Saving model to /notebooks/rl2025/ex6/results/InvertedPendulum-v4/model/InvertedPendulum-v4_params.pt\n",
      "------ Training Finished ------\n",
      "Total traning time is 4.0162155588002255mins\n"
     ]
    }
   ],
   "source": [
    "if not skip_training:\n",
    "    t.train(agent, cfg_path=Path().cwd()/'cfg'/'pg_ac.yaml', cfg_args={})"
   ]
  },
  {
   "cell_type": "code",
   "execution_count": 11,
   "id": "f8041f0c-73f8-4f23-bbd2-4a976a8b842a",
   "metadata": {
    "tags": []
   },
   "outputs": [
    {
     "name": "stdout",
     "output_type": "stream",
     "text": [
      "Numpy/Torch/Random Seed:  625\n"
     ]
    },
    {
     "data": {
      "image/png": "[encoded data removed]",
      "text/plain": [
       "<Figure size 640x480 with 1 Axes>"
      ]
     },
     "metadata": {},
     "output_type": "display_data"
    }
   ],
   "source": [
    "if not skip_training:\n",
    "    t.plot(cfg_path=Path().cwd()/'cfg'/'pg_ac.yaml',)"
   ]
  },
  {
   "cell_type": "code",
   "execution_count": 12,
   "id": "91d4922b",
   "metadata": {
    "tags": []
   },
   "outputs": [
    {
     "name": "stdout",
     "output_type": "stream",
     "text": [
      "Numpy/Torch/Random Seed:  820\n",
      "Loading model from /notebooks/rl2025/ex6/results/InvertedPendulum-v4/model/InvertedPendulum-v4_params.pt ...\n",
      "Testing ...\n",
      "Moviepy - Building video /notebooks/rl2025/ex6/results/InvertedPendulum-v4/video/test/ex6-episode-0.mp4.\n",
      "Moviepy - Writing video /notebooks/rl2025/ex6/results/InvertedPendulum-v4/video/test/ex6-episode-0.mp4\n",
      "\n"
     ]
    },
    {
     "name": "stderr",
     "output_type": "stream",
     "text": [
      "                                                                \r"
     ]
    },
    {
     "name": "stdout",
     "output_type": "stream",
     "text": [
      "Moviepy - Done !\n",
      "Moviepy - video ready /notebooks/rl2025/ex6/results/InvertedPendulum-v4/video/test/ex6-episode-0.mp4\n",
      "Ep0: Test ep_reward is 1000.0\n",
      "Ep1: Test ep_reward is 1000.0\n",
      "Ep2: Test ep_reward is 1000.0\n",
      "Ep3: Test ep_reward is 1000.0\n",
      "Ep4: Test ep_reward is 1000.0\n",
      "Ep5: Test ep_reward is 1000.0\n",
      "Ep6: Test ep_reward is 1000.0\n",
      "Ep7: Test ep_reward is 1000.0\n",
      "Ep8: Test ep_reward is 1000.0\n",
      "Moviepy - Building video /notebooks/rl2025/ex6/results/InvertedPendulum-v4/video/test/ex6-episode-9.mp4.\n",
      "Moviepy - Writing video /notebooks/rl2025/ex6/results/InvertedPendulum-v4/video/test/ex6-episode-9.mp4\n",
      "\n"
     ]
    },
    {
     "name": "stderr",
     "output_type": "stream",
     "text": [
      "                                                                \r"
     ]
    },
    {
     "name": "stdout",
     "output_type": "stream",
     "text": [
      "Moviepy - Done !\n",
      "Moviepy - video ready /notebooks/rl2025/ex6/results/InvertedPendulum-v4/video/test/ex6-episode-9.mp4\n",
      "Ep9: Test ep_reward is 1000.0\n",
      "Average test reward: 1000.0\n"
     ]
    }
   ],
   "source": [
    "if not skip_training:\n",
    "    t.test(agent, cfg_path=Path().cwd()/'cfg'/'pg_ac.yaml', cfg_args=dict(save_video=True,testing=True))"
   ]
  },
  {
   "cell_type": "code",
   "execution_count": 13,
   "id": "2edb556b-187c-4662-a1df-60dc87917930",
   "metadata": {
    "tags": []
   },
   "outputs": [
    {
     "data": {
      "text/html": [
       "<video loop autoplay  >\n",
       " <source src=\"data:video/mp4;base64,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\" type=\"video/mp4\">\n",
       " Your browser does not support the video tag.\n",
       " </video>"
      ],
      "text/plain": [
       "<IPython.core.display.Video object>"
      ]
     },
     "metadata": {},
     "output_type": "display_data"
    }
   ],
   "source": [
    "if not skip_training:\n",
    "    video = Video(Path().cwd()/'results'/'InvertedPendulum-v4'/'video'/'test'/'ex6-episode-0.mp4',\n",
    "    embed=True, html_attributes=\"loop autoplay\") # Set html_attributes=\"controls\" for video control\n",
    "    display(video)"
   ]
  },
  {
   "cell_type": "code",
   "execution_count": 14,
   "id": "54640b32",
   "metadata": {
    "deletable": false,
    "editable": false,
    "nbgrader": {
     "cell_type": "code",
     "checksum": "f83948189f99f90b4085c2d303b547ad",
     "grade": true,
     "grade_id": "cell-09564874b32375cf",
     "locked": true,
     "points": 2,
     "schema_version": 3,
     "solution": false,
     "task": false
    }
   },
   "outputs": [],
   "source": [
    "%%capture --no-stdout\n",
    "\"TEST\""
   ]
  },
  {
   "cell_type": "markdown",
   "id": "7d432792",
   "metadata": {
    "deletable": false,
    "editable": false,
    "nbgrader": {
     "cell_type": "markdown",
     "checksum": "13b4216c279dd80ba4512330ce718bdd",
     "grade": false,
     "grade_id": "cell-5db97bc9fe1b8e96",
     "locked": true,
     "schema_version": 3,
     "solution": false,
     "task": false
    }
   },
   "source": [
    "<a id='Q1'></a>\n",
    "<div class=\" alert alert-warning\">\n",
    "    <h3><b>Student Question 1.1</b> Relationship between actor-critic and REINFORCE with baseline (10 points) </h3> \n",
    "\n",
    "What is the relationship between actor-critic and REINFORCE with baseline?\n",
    "            \n",
    "🔝\t<a href='#TOC'><b>Table of Contents</b></a>\n",
    "</div>"
   ]
  },
  {
   "cell_type": "markdown",
   "id": "a7662c12-4b22-48ca-85cc-d389b77dde79",
   "metadata": {
    "deletable": false,
    "editable": false,
    "nbgrader": {
     "cell_type": "markdown",
     "checksum": "9e350ecacc72df859b8ea1279bba8b20",
     "grade": false,
     "grade_id": "cell-af3dccf8c7e41349",
     "locked": true,
     "schema_version": 3,
     "solution": false,
     "task": false
    },
    "tags": []
   },
   "source": [
    "<h5><b>Options</b></h5>\n",
    "\n",
    "1. Both actor-critic and REINFORCE use boostrapping to update their parameters. \n",
    "2. Both methods use Monte-Carlo estimates for updating their parameters.\n",
    "3. The baseline in REINFORCE is the state value function for actor-critic.\n",
    "4. Both methods require full-trajectories before they can update their parameters.\n",
    "5. Both methods can update their parameters during each timestep.\n",
    "6. Actor-critic uses bootstrapping to update its parameters while REINFORCE does not.\n",
    "\n",
    "Select the **two** most appropriate answers. Selecting more than 2 answers results in zero points from this task."
   ]
  },
  {
   "cell_type": "code",
   "execution_count": 17,
   "id": "4875db20-b21d-4c28-b2ca-c7f2e46fffe2",
   "metadata": {
    "tags": []
   },
   "outputs": [],
   "source": [
    "sq1_1 = [3,6] # Select the most approapriate answers"
   ]
  },
  {
   "cell_type": "markdown",
   "id": "6f4810fe-a2b7-44cd-93b1-a1b2d082c2ad",
   "metadata": {
    "deletable": false,
    "editable": false,
    "nbgrader": {
     "cell_type": "markdown",
     "checksum": "3beea4b65c1e4d7a95ab8a1ae1600bb9",
     "grade": false,
     "grade_id": "cell-d838cdbf4808c6ff",
     "locked": true,
     "schema_version": 3,
     "solution": false,
     "task": false
    },
    "tags": []
   },
   "source": [
    "The cells below are used for autograding."
   ]
  },
  {
   "cell_type": "code",
   "execution_count": 18,
   "id": "1a6b3310-7e16-4408-9d74-6555c1fc7ed3",
   "metadata": {
    "deletable": false,
    "editable": false,
    "nbgrader": {
     "cell_type": "code",
     "checksum": "1de4c11b92c17597e4ac9050802b3eaa",
     "grade": true,
     "grade_id": "cell-0e00f76e0960536d",
     "locked": true,
     "points": 0,
     "schema_version": 3,
     "solution": false,
     "task": false
    },
    "tags": []
   },
   "outputs": [],
   "source": [
    "assert 1 <= len(sq1_1) <= 2\n",
    "assert set(sq1_1) < set(range(1, 7))"
   ]
  },
  {
   "cell_type": "code",
   "execution_count": null,
   "id": "950514e5-56e9-488d-a9b6-b231e7d5262e",
   "metadata": {
    "deletable": false,
    "editable": false,
    "nbgrader": {
     "cell_type": "code",
     "checksum": "1702e61d7c49da20be80181b5c9d064e",
     "grade": true,
     "grade_id": "cell-26b1c613a6f06ff9",
     "locked": true,
     "points": 5,
     "schema_version": 3,
     "solution": false,
     "task": false
    },
    "tags": []
   },
   "outputs": [],
   "source": []
  },
  {
   "cell_type": "code",
   "execution_count": null,
   "id": "3a5dfa77-0d04-4384-84df-88f14550d8b4",
   "metadata": {
    "deletable": false,
    "editable": false,
    "nbgrader": {
     "cell_type": "code",
     "checksum": "e76afee0618f7073f2ebef8e947b465b",
     "grade": true,
     "grade_id": "cell-9aa5fe70a03ab88f",
     "locked": true,
     "points": 5,
     "schema_version": 3,
     "solution": false,
     "task": false
    },
    "tags": []
   },
   "outputs": [],
   "source": []
  },
  {
   "cell_type": "markdown",
   "id": "8b88b08e",
   "metadata": {
    "deletable": false,
    "editable": false,
    "nbgrader": {
     "cell_type": "markdown",
     "checksum": "a57b56668c6aed15c3d1dcaa0c5e0be7",
     "grade": false,
     "grade_id": "cell-05a96ed4b54d0a0c",
     "locked": true,
     "schema_version": 3,
     "solution": false,
     "task": false
    },
    "tags": []
   },
   "source": [
    "<a id='Q2'></a>\n",
    "<div class=\" alert alert-warning\">\n",
    "    <h3><b>Student Question 1.2</b> Advantage (5 points) </h3> \n",
    "\n",
    "How can the value of advantage be intuitively interpreted? (Your answer should not be longer than 10 sentences).\n",
    "    \n",
    "🔝\t<a href='#TOC'><b>Table of Contents</b></a>\n",
    "</div>"
   ]
  },
  {
   "cell_type": "markdown",
   "id": "aa3bac64",
   "metadata": {
    "deletable": false,
    "nbgrader": {
     "cell_type": "markdown",
     "checksum": "c97f49161088ab47f866a42e9dd909a4",
     "grade": true,
     "grade_id": "cell-7ea462e5360ad185",
     "locked": false,
     "points": 5,
     "schema_version": 3,
     "solution": true,
     "task": false
    }
   },
   "source": [
    "The advantage measures how much better or worse an action performed compared to what was expected on average in that state.\n",
    "It’s defined as A(s,a) = Q(s,a) - V(s), meaning it tells us how much better the chosen action was than the baseline value of the state.\n",
    "If the advantage is positive, the action led to a higher return than expected; if negative, it performed worse.\n",
    "This helps the policy focus on actions that yield above-average outcomes instead of blindly reinforcing all actions.\n",
    "In practice, it stabilizes learning by reducing variance compared to using raw returns.\n",
    "Intuitively, the advantage is the “extra credit” an action earns beyond what the agent already predicted from being in that state."
   ]
  },
  {
   "cell_type": "markdown",
   "id": "a4db6c52",
   "metadata": {
    "deletable": false,
    "editable": false,
    "nbgrader": {
     "cell_type": "markdown",
     "checksum": "c98268593ad7780ce49ad86a1e8f987c",
     "grade": false,
     "grade_id": "cell-9a3f2bca9650b8b5",
     "locked": true,
     "schema_version": 3,
     "solution": false,
     "task": false
    }
   },
   "source": [
    "<a id='Q3'></a>\n",
    "<div class=\" alert alert-warning\">\n",
    "    <h3><b>Student Question 1.3</b> Bias and Variance Analysis (10 points) </h3> \n",
    "\n",
    "How does the implemented actor-critic method compare to REINFORCE in terms of bias and variance of the policy gradient estimation? Explain your answer. (Your answer should not be longer than 10 sentences).\n",
    "    \n",
    "🔝\t<a href='#TOC'><b>Table of Contents</b></a>\n",
    "</div>"
   ]
  },
  {
   "cell_type": "markdown",
   "id": "106d5916",
   "metadata": {
    "deletable": false,
    "nbgrader": {
     "cell_type": "markdown",
     "checksum": "22175d03d3f4b28b443696bddd162af1",
     "grade": true,
     "grade_id": "cell-74f7530fd7c8fef3",
     "locked": false,
     "points": 10,
     "schema_version": 3,
     "solution": true,
     "task": false
    }
   },
   "source": [
    "The actor-critic method generally has lower variance but higher bias compared to REINFORCE.\n",
    "REINFORCE uses full Monte Carlo returns, which are unbiased but have high variance due to depending on complete trajectories.\n",
    "Actor-critic, instead, uses a learned value function to estimate returns, introducing some bias but smoothing updates.\n",
    "This bootstrapping reduces noise in the gradient estimates, allowing faster and more stable learning.\n",
    "In short, actor-critic trades a bit of bias for significantly lower variance and better sample efficiency."
   ]
  },
  {
   "cell_type": "markdown",
   "id": "c0ddf4e7",
   "metadata": {
    "deletable": false,
    "editable": false,
    "nbgrader": {
     "cell_type": "markdown",
     "checksum": "600033db53328bf2d16d465b3aff68b2",
     "grade": false,
     "grade_id": "cell-57372114b7deef34",
     "locked": true,
     "schema_version": 3,
     "solution": false,
     "task": false
    }
   },
   "source": [
    "<a id='Q4'></a>\n",
    "<div class=\" alert alert-warning\">\n",
    "    <h3><b>Student Question 1.4</b> Controlling bias-variance tradeoff (10 points) </h3> \n",
    "\n",
    "How could the bias-variance tradeoff in actor-critic be controlled? (Your answer should not be longer than 10 sentences).\n",
    "    \n",
    "🔝\t<a href='#TOC'><b>Table of Contents</b></a>\n",
    "</div>"
   ]
  },
  {
   "cell_type": "markdown",
   "id": "03501249",
   "metadata": {
    "deletable": false,
    "nbgrader": {
     "cell_type": "markdown",
     "checksum": "719a83ac1efc28a51317240ab20e3168",
     "grade": true,
     "grade_id": "cell-bd37bcc37ef9fff6",
     "locked": false,
     "points": 10,
     "schema_version": 3,
     "solution": true,
     "task": false
    }
   },
   "source": [
    "The bias-variance tradeoff in actor-critic can be controlled by tuning how much the method relies on bootstrapping versus Monte Carlo returns.\n",
    "Using n-step returns or λ-returns allows a gradual transition between high-variance, low-bias (Monte Carlo) and low-variance, high-bias (bootstrapping) updates.\n",
    "The GAE (Generalized Advantage Estimator) is a popular approach that uses a parameter λ to balance this tradeoff smoothly.\n",
    "A higher λ gives more accurate but noisier estimates, while a lower λ makes updates more stable but more biased.\n",
    "Additionally, learning rate, value loss weight, and entropy regularization can influence this balance indirectly.\n",
    "Careful tuning of these hyperparameters helps prevent either excessive bias or instability.\n",
    "Regularizing the critic network and ensuring good state coverage in training also reduce unwanted bias accumulation.\n",
    "Ultimately, the best balance depends on the task’s dynamics and the stability requirements of the learning process."
   ]
  },
  {
   "cell_type": "markdown",
   "id": "edc1e91e-5715-45b9-a2c2-4e8f0fd2fff2",
   "metadata": {
    "deletable": false,
    "editable": false,
    "nbgrader": {
     "cell_type": "markdown",
     "checksum": "2b1c367010d08ca7088a8580a920eb7d",
     "grade": false,
     "grade_id": "cell-5f74898cf5b2c817",
     "locked": true,
     "schema_version": 3,
     "solution": false,
     "task": false
    },
    "tags": []
   },
   "source": [
    "\n",
    "# 3. Submitting <a id='3.'></a>\n",
    "Ensure all tasks and questions (in ```ex6_DDPG.ipynb``` and ```ex6_PG_AC.ipynb```) are answered and the necessary plots are saved in the appropriate locations. The relevant plots and files needed to be submitted for this assignment are:\n",
    "\n",
    "\n",
    "- Training performance plots:\n",
    "  - `pg_ac.png`: Training performance plots in terms of episode and episodic reward\n",
    "<br>\n",
    "\n",
    "  \n",
    "- Model files:\n",
    "  - `InvertedPendulum-v4_params.pt`: Trained model\n",
    "\n",
    "\n",
    "Ensure the model files and plots are saved in correct paths:\n",
    "- ```results/InvertedPendulum-v4/pg_ac.png``` Training result\n",
    "- ```results/InvertedPendulum-v4/model/InvertedPendulum-v4_params.pt``` Training Model\n",
    "\n",
    "\n",
    "<span style=\"color:red\"> **# IMPORTANT: DO NOT FORGET ANOTHER TASK IN ```ex6_DDPG.ipynb```** </span>"
   ]
  },
  {
   "cell_type": "code",
   "execution_count": null,
   "id": "e9269a2b",
   "metadata": {},
   "outputs": [],
   "source": [
    "# Make sure that skip training is set to True before submission\n",
    "assert skip_training == True"
   ]
  },
  {
   "cell_type": "markdown",
   "id": "88b0c6d7-563a-4037-9d4c-ef1422d7b657",
   "metadata": {
    "deletable": false,
    "editable": false,
    "nbgrader": {
     "cell_type": "markdown",
     "checksum": "89e8fd20b8a0b3230d25dc0d69962803",
     "grade": false,
     "grade_id": "cell-99c320f0e224a0c8",
     "locked": true,
     "schema_version": 3,
     "solution": false,
     "task": false
    },
    "tags": []
   },
   "source": [
    "## 3.1 Feedback <a id='3.1'></a>\n",
    "\n",
    "In order to help the staff of the course as well as the forthcoming students, it would be great if you could answer to the following questions in your submission:"
   ]
  },
  {
   "cell_type": "markdown",
   "id": "de2e7c42-211b-419b-a3c9-daeab45597f1",
   "metadata": {
    "deletable": false,
    "editable": false,
    "nbgrader": {
     "cell_type": "markdown",
     "checksum": "016e22b96662eff6447f48f25857a230",
     "grade": false,
     "grade_id": "cell-09e6cdb34c71b984",
     "locked": true,
     "schema_version": 3,
     "solution": false,
     "task": false
    },
    "tags": []
   },
   "source": [
    "1) How much time did you spend solving this exercise? (change the ```hrs``` variable below to a floating point number representing the number of hours taken e.g. 5.43)"
   ]
  },
  {
   "cell_type": "code",
   "execution_count": null,
   "id": "3cfa3e0a-f247-43f4-92cc-5b6e99c79049",
   "metadata": {
    "tags": []
   },
   "outputs": [],
   "source": [
    "hrs = None"
   ]
  },
  {
   "cell_type": "markdown",
   "id": "83e49e4f-0803-4d11-9ac4-9f77bedfa52f",
   "metadata": {
    "deletable": false,
    "editable": false,
    "nbgrader": {
     "cell_type": "markdown",
     "checksum": "7c96fba064ac1fc2b00810fc1dc378a0",
     "grade": false,
     "grade_id": "cell-fa64dd33a8c904ef",
     "locked": true,
     "schema_version": 3,
     "solution": false,
     "task": false
    },
    "tags": []
   },
   "source": [
    "2) Difficulty of each task/question from 1-5 (int or float)"
   ]
  },
  {
   "cell_type": "code",
   "execution_count": null,
   "id": "f8fc5ed4-1957-4c5c-97fb-de2dc7c4362e",
   "metadata": {
    "tags": []
   },
   "outputs": [],
   "source": [
    "T1 = None   # Implementing DDPG (20 points)\n",
    "Q1 = None   # Question 1.1 Relationship between actor-critic and REINFORCE with baseline (10 points)\n",
    "Q2 = None   # Question 1.2 Advantage (5 points)\n",
    "Q3 = None   # Question 1.3 Bias and Variance Analysis (10 points)\n",
    "Q4 = None   # Question 1.4 Controlling bias-variance tradeoff (10 points)"
   ]
  },
  {
   "cell_type": "markdown",
   "id": "a8f6cdd1-ea58-4a06-a81b-1d7cc36f14a2",
   "metadata": {
    "deletable": false,
    "editable": false,
    "nbgrader": {
     "cell_type": "markdown",
     "checksum": "4dab816afcbe55502451543d8a576129",
     "grade": false,
     "grade_id": "cell-69fa22cf9bfa78b8",
     "locked": true,
     "schema_version": 3,
     "solution": false,
     "task": false
    },
    "tags": []
   },
   "source": [
    "3) How well did you understand the content of the task/question from 1-5? (int or float)"
   ]
  },
  {
   "cell_type": "code",
   "execution_count": null,
   "id": "27706e2f-2a35-4a6e-ad07-9af944b96dfe",
   "metadata": {
    "tags": []
   },
   "outputs": [],
   "source": [
    "T1 = None   # Implementing DDPG (20 points)\n",
    "Q1 = None   # Question 1.1 Relationship between actor-critic and REINFORCE with baseline (10 points)\n",
    "Q2 = None   # Question 1.2 Advantage (5 points)\n",
    "Q3 = None   # Question 1.3 Bias and Variance Analysis (10 points)\n",
    "Q4 = None   # Question 1.4 Controlling bias-variance tradeoff (10 points)"
   ]
  },
  {
   "cell_type": "markdown",
   "id": "bc810cc9-ba38-480d-a95e-178f875bc744",
   "metadata": {
    "deletable": false,
    "editable": false,
    "nbgrader": {
     "cell_type": "markdown",
     "checksum": "e0204b1b962a537ae2e40333c7dfdbcb",
     "grade": false,
     "grade_id": "cell-2e02694ca4fcfa78",
     "locked": true,
     "schema_version": 3,
     "solution": false,
     "task": false
    },
    "tags": []
   },
   "source": [
    "4) General feedback. Consider questions like:\n",
    "\n",
    "    - Did the content of the lecture relate well with the assignment?\n",
    "    - To what extent did you find the material to be potentially useful for your research and studies?\n",
    "    \n",
    "Please share any additional feedback, suggestions, or comments you have about the lecture, assignment, or course content. Your input is valuable in helping us improve the learning experience."
   ]
  },
  {
   "cell_type": "markdown",
   "id": "ce6d30ad-8d44-4fe5-a642-121200f920d1",
   "metadata": {
    "tags": []
   },
   "source": [
    "DOUBLE CLICK HERE TO EDIT, CLEAR THIS TEXT AND ANSWER HERE"
   ]
  },
  {
   "cell_type": "markdown",
   "id": "785254f3-48b6-44a6-ace6-0eae136d6396",
   "metadata": {
    "deletable": false,
    "editable": false,
    "nbgrader": {
     "cell_type": "markdown",
     "checksum": "c456a1da33caaefda4a4a4c165be11d6",
     "grade": false,
     "grade_id": "cell-5086c1c7c783ad08",
     "locked": true,
     "schema_version": 3,
     "solution": false,
     "task": false
    },
    "tags": []
   },
   "source": [
    "# References <a id='4.'></a>\n",
    "Please use the following section to record references."
   ]
  },
  {
   "cell_type": "code",
   "execution_count": null,
   "id": "1be24169-8a32-4c87-9e15-3f6eee2364a9",
   "metadata": {},
   "outputs": [],
   "source": []
  }
 ],
 "metadata": {
  "kernelspec": {
   "display_name": "Python 3",
   "language": "python",
   "name": "python3"
  },
  "language_info": {
   "codemirror_mode": {
    "name": "ipython",
    "version": 3
   },
   "file_extension": ".py",
   "mimetype": "text/x-python",
   "name": "python",
   "nbconvert_exporter": "python",
   "pygments_lexer": "ipython3",
   "version": "3.10.12"
  }
 },
 "nbformat": 4,
 "nbformat_minor": 5
}
