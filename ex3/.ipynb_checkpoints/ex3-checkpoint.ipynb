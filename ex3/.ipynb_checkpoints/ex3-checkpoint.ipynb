{
 "cells": [
  {
   "cell_type": "markdown",
   "id": "53274fb5",
   "metadata": {
    "deletable": false,
    "editable": false,
    "jp-MarkdownHeadingCollapsed": true,
    "nbgrader": {
     "cell_type": "markdown",
     "checksum": "73759704c25454df00b3738c245f7a5f",
     "grade": false,
     "grade_id": "cell-4b5bc7c2e51c6d03",
     "locked": true,
     "schema_version": 3,
     "solution": false,
     "task": false
    },
    "tags": []
   },
   "source": [
    "\n",
    "<div class=\"alert alert-block alert-info\">\n",
    "   <h2 align=\"center\"> <center><b> Reinforcement Learning Assignment 3 - Q Learning </b></center></h2>\n",
    "\n",
    "<br>\n",
    "<center><font size=\"3\">This notebook is a part of teaching material for ELEC-E8125</font></center>\n",
    "<center><font size=\"3\">Sep 1, 2025 - Dec 1, 2025</font></center>\n",
    "<center><font size=\"3\">Aalto University</font></center>\n",
    "</div>\n",
    "\n",
    "\n",
    "<a id='TOC'></a>\n",
    "\n",
    "<div class=\"alert alert-block alert-success\">\n",
    "    \n",
    "# Table of contents\n",
    "* <a href='#1.'> 1. Introduction </a>\n",
    "* <a href='#1.1'> 1.1 Learning Objectives </a>\n",
    "* <a href='#1.2'> 1.2 Code Structure & Files </a>\n",
    "* <a href='#2.'> 2. Cartpole </a>\n",
    "* <a href='#2.'> 3. Lunar Lander </a> \n",
    "* <a href='#4.'> 4. Submitting </a>\n",
    "* <a href='#4.1'> 4.1 Feedback </a>\n",
    "* <a href='#5.'> References</a>\n",
    "\n",
    "<a href='#T1'><b>Student Task 1.</b> Implementing Q-Learning  (25 points) </a>\\\n",
    "<a href='#T2'><b>Student Task 2.</b> Visualizing the Value Function (10 points) </a>\\\n",
    "<a href='#Q1'><b>Student Question 2.1</b> Analyzing the Value Function Heatmap (15 points) </a>\\\n",
    "<a href='#T3'><b>Student Task 3.</b> Investigating Initial Values (10 points) </a>\\\n",
    "<a href='#Q2'><b>Student Question 3.1</b> Analyzing Initial Values (5 points) </a>\\\n",
    "<a href='#Q3'><b>Student Question 3.2</b> Exploration (15 points) </a>\\\n",
    "<a href='#T4'><b>Student Task 4.</b> Using Q-Learning on the Lunar Lander Environment (5 points) </a>\\\n",
    "<a href='#Q4'><b>Student Question 4.1</b> Lunar Lander Performance (15 points) </a>\n",
    "\n",
    "**Total Points:** 100\n",
    "\n",
    "**Estimated runtime of all the cells:** 2 hour "
   ]
  },
  {
   "cell_type": "markdown",
   "id": "e845acab",
   "metadata": {
    "deletable": false,
    "editable": false,
    "nbgrader": {
     "cell_type": "markdown",
     "checksum": "b83672bf7f3be091f160f135ae78d22c",
     "grade": false,
     "grade_id": "cell-0ecccf891e2408d9",
     "locked": true,
     "schema_version": 3,
     "solution": false,
     "task": false
    },
    "tags": []
   },
   "source": [
    "# 1. Introduction <a id='1.'></a>\n",
    "\n",
    "In this exercise, you'll be applying grid-based Q-learning to the **Cartpole** and **LunarLander** environments.\n",
    "\n",
    "## 1.1 Learning Objectives: <a id='1.1'></a>\n",
    "- To understand and develop intuition about Q-learning.\n",
    "- To understand simple exploration methods like GLIE and how exploration effects learning\n",
    "\n",
    "## 1.2 Code Structure & Files <a id='1.2'></a>\n",
    "\n",
    "You don’t have to edit any other file other than ```ex3.ipynb``` to complete this exercise.\n",
    "\n",
    "```\n",
    "├───cfg                           # Config files for environments e.g. define the maximum number of steps in an episode.\n",
    "├───imgs                          # Images used in notebook\n",
    "├───results\n",
    "│   ├───CartPole-v1\n",
    "│   │   └───video                  # Videos saved\n",
    "│   │   │   logging.pkl            # Contains logged data\n",
    "│   │   │   *q_table_e.pkl         # Contains qtable data for epsilon fixed\n",
    "│   │   │   *q_table_glie.pkl      # Contains qtable data for glie\n",
    "│   │   │   *e.png                 # Contains training performance plot for epsilon fixed\n",
    "│   │   │   *glie.png              # Contains training performance plot for glie\n",
    "│   ├───LunarLander-v2\n",
    "│   │   └───video\n",
    "│   │   │   logging.pkl\n",
    "│   │   │   *q_table_e.pkl\n",
    "│   │   │   *q_table_glie.pkl\n",
    "│   │   │   *e.png                 \n",
    "│   │   │   *glie.png              \n",
    "│   ex3.ipynb                      # Main assignment file containing tasks <---------\n",
    "│   setup.py                       # Contains setup function\n",
    "│   utils.py                       # Contains useful functions \n",
    "```\n"
   ]
  },
  {
   "cell_type": "markdown",
   "id": "ff36c86f",
   "metadata": {},
   "source": [
    "## Warnings:\n",
    "\n",
    "- Don’t copy and paste cells within a notebook. This will mess up the tracking metadata and prevent autograding from working.\n",
    "- Only add new cells using the '+' button in the upper toolbar and do not split cells.\n",
    "- Be cautious about things such as copying the whole notebook to Colab to work on it. This has sometimes resulted in removing all notebook metadata, making autograding impossible."
   ]
  },
  {
   "cell_type": "markdown",
   "id": "0c999cc7",
   "metadata": {
    "deletable": false,
    "editable": false,
    "nbgrader": {
     "cell_type": "markdown",
     "checksum": "15066d1f084603d0367d637a21c41cef",
     "grade": false,
     "grade_id": "cell-c2117ccc1c4199d3",
     "locked": true,
     "schema_version": 3,
     "solution": false,
     "task": false
    },
    "tags": []
   },
   "source": [
    "# 2. Cartpole <a id='2.'></a>\n",
    "\n",
    "Recall the Cartpole environment from Exercise 1.\n"
   ]
  },
  {
   "cell_type": "markdown",
   "id": "88cfe17b",
   "metadata": {
    "deletable": false,
    "editable": false,
    "nbgrader": {
     "cell_type": "markdown",
     "checksum": "2524f28d2ba6329fe80ca41bedc61ea5",
     "grade": false,
     "grade_id": "cell-83fe844e90e20c9e",
     "locked": true,
     "schema_version": 3,
     "solution": false,
     "task": false
    },
    "tags": []
   },
   "source": [
    "<a id='T1'></a>\n",
    "<div class=\" alert alert-warning\">\n",
    "    <h3><b>Student Task 1.</b> Implementing Q-Learning  (25 points) </h3> \n",
    "\n",
    "Implement Q-learning as presented in [Sutton and Barto, 2017, Section 6.5][1] for the Cartpole environment. Once you've successfully implemented the `get_action` and `update_q_value` functions,\n",
    "you can compare the two exploration methods:\n",
    "\n",
    "1. Use a constant value of $\\epsilon = 0.1$:\n",
    "    \n",
    "- Training:\n",
    "    ```python\n",
    "    # Training with constant epsilon 0.1\n",
    "    cfg_args = dict(epsilon=0.1, save_video=False)\n",
    "    train(cfg_path=Path().cwd()/'cfg'/'cartpole_v1.yaml', cfg_args=cfg_args)\n",
    "    ```\n",
    "- Testing:\n",
    "    ```python\n",
    "    # Testing with constant epsilon 0.1\n",
    "    cfg_args=dict(epsilon=0.1, save_video=True)\n",
    "    test(cfg_path=Path().cwd()/'cfg'/'cartpole_v1.yaml', cfg_args=cfg_args)\n",
    "    ```\n",
    "- Visualization: To record and visualize the agent's performance, you could set `save_video=True` and run the following:\n",
    "\n",
    "    ```python\n",
    "    Video(Path().cwd()/'results'/'CartPole-v1'/'video'/'test'/'ex3-episode-0.mp4', embed=True, html_attributes=\"loop autoplay\")\n",
    "    ```\n",
    "\n",
    "2. Implement **GLIE** (i.e., *Greedy in the Limit with Infinite Exploration*), which reduces the value of $\\epsilon$ over time. For details on the formula, refer to **[Lecture 3]**.\n",
    "    \n",
    "- Training (Ensure you've determined the correct value for `glie_b`):  \n",
    "    ```python\n",
    "    # Training with GLIE\n",
    "    cfg_args=dict(epsilon='glie', glie_b=<insert-correct-value>, save_video=False) # insert correct value for glie_b\n",
    "    train(cfg_path=Path().cwd()/'cfg'/'cartpole_v1.yaml', cfg_args=cfg_args) # < 30 mins\n",
    "    ```\n",
    "- Testing:\n",
    " \n",
    "    ```python\n",
    "    # Testing with GLIE\n",
    "    cfg_args=dict(epsilon='glie', save_video=True)\n",
    "    test(cfg_path=Path().cwd()/'cfg'/'cartpole_v1.yaml', cfg_args=cfg_args)\n",
    "    ```\n",
    "- Visualization: To record and visualize the agent's performance, you could set `save_video=True` and run the following:\n",
    "\n",
    "    ```python\n",
    "    Video(Path().cwd()/'results'/'CartPole-v1'/'video'/'test'/'ex3-episode-0.mp4', embed=True, html_attributes=\"loop autoplay\")\n",
    "    ```\n",
    "    \n",
    "These videos will be stored in the **results** folder.\n",
    "\n",
    "**Note:** Before you proceed with the \"Training with GLIE\" method, ensure you have completed the \"Training with a constant epsilon\" steps. Since the video save path is the same, the results will be overwritten.\n",
    "\n",
    "---\n",
    "\n",
    "**Please attach the following files to your submission:**\n",
    "\n",
    "- Training performance plots:\n",
    "  - `task1_e.png`: This file represents the episode versus the smoothed episodic reward for the constant exploration rate.\n",
    "  - `task1_glie.png`: This file represents the episode versus the smoothed episodic reward for GLIE.\n",
    "\n",
    "- Q-table files:\n",
    "  - `task1_q_table_e.pkl`: Q-table for the constant exploration rate.\n",
    "  - `task1_q_table_glie.pkl`: Q-table for GLIE.\n",
    "\n",
    "Ensure all files are correctly named and included.\n",
    "\n",
    "\n",
    "<figure style=\"text-align: center\">\n",
    "<img src=\"imgs/ep_reward.png\" width=\"600px\">\n",
    "<figcaption style=\"text-align: center\"> Figure 1: The training performance plot should look similar to the one presented here when using GLIE  </figcaption>\n",
    "</figure>\n",
    "\n",
    "### References\n",
    "[1]: http://incompleteideas.net/book/RLbook2018.pdf\n",
    "[Sutton and Barto, 2017]: Sutton, Richard S., and Andrew G. Barto. \"Reinforcement Learning: An Introduction (in progress).\" London, England (2017).\n",
    "    \n",
    "🔝\t<a href='#TOC'><b>Table of Contents</b></a>\n",
    "</div>\n",
    "\n"
   ]
  },
  {
   "cell_type": "code",
   "execution_count": 1,
   "id": "4375e55b",
   "metadata": {
    "tags": []
   },
   "outputs": [],
   "source": [
    "skip_training = True  # Set this flag to True before validation and submission"
   ]
  },
  {
   "cell_type": "code",
   "execution_count": null,
   "id": "db1eacb1",
   "metadata": {
    "deletable": false,
    "editable": false,
    "nbgrader": {
     "cell_type": "code",
     "checksum": "92d6d673e50350c2b0b437bc2a2803a9",
     "grade": true,
     "grade_id": "cell-6d789f0e8b41dcd4",
     "locked": true,
     "points": 0,
     "schema_version": 3,
     "solution": false,
     "task": false
    }
   },
   "outputs": [],
   "source": []
  },
  {
   "cell_type": "code",
   "execution_count": 2,
   "id": "47d6ce86",
   "metadata": {
    "tags": []
   },
   "outputs": [],
   "source": [
    "# --- Standard Libraries ---\n",
    "from pathlib import Path\n",
    "from collections import deque\n",
    "import warnings\n",
    "import os\n",
    "\n",
    "# --- Third-party Libraries ---\n",
    "import numpy as np  # Fundamental package for scientific computing\n",
    "from IPython.display import Video  # For displaying videos in the notebook\n",
    "import seaborn as sns\n",
    "import matplotlib.pyplot as plt\n",
    "import pandas as pd\n",
    "\n",
    "# --- Custom Modules ---\n",
    "from setup import setup  # Setup functions for training\n",
    "import utils as u  # Helper functions for the notebook\n",
    "\n",
    "# --- Configurations ---\n",
    "# Set working directory to 'results'\n",
    "work_dir = Path().cwd() / 'results'\n",
    "\n",
    "# Suppress DeprecationWarnings\n",
    "warnings.filterwarnings(\"ignore\", category=DeprecationWarning)"
   ]
  },
  {
   "cell_type": "code",
   "execution_count": 3,
   "id": "b91287ed",
   "metadata": {
    "tags": []
   },
   "outputs": [],
   "source": [
    "def init_q_table(observation_space, action_dim, discr, bool_position=None, init_q=0.):\n",
    "    \"\"\"\n",
    "    Initialize a Q-table for the given observation space and actions.\n",
    "    \n",
    "    Parameters:\n",
    "    - observation_space: The state space of the environment.\n",
    "    - action_dim: The number of possible actions.\n",
    "    - discr: The number of divisions for discretization.\n",
    "    - bool_position: Indexes where the observation space has boolean values.\n",
    "    - init_q: Initial value for the Q-table.\n",
    "    \n",
    "    Returns:\n",
    "    - axis: A list of numpy arrays representing the discrete states. \n",
    "            Each array's length corresponds to either 'discr' or 2 (for boolean values).\n",
    "    - q_table: The initialized Q-table. Its shape is determined by [*axis dimensions, action_dim].\n",
    "               For example, if the axis dimensions were [10, 10] and action_dim was 3, \n",
    "               the q_table shape would be [10, 10, 3].\n",
    "    \"\"\"\n",
    "    high_values = observation_space.high\n",
    "    low_values = observation_space.low\n",
    "    axis = []\n",
    "    for idx, (low_val, high_val) in enumerate(zip(low_values, high_values)):\n",
    "        # here to avoid inf boundary, we truncate the value to [-4, 4] \n",
    "        if low_val < -1e10: low_val = -4\n",
    "        if high_val > 1e10: high_val = 4\n",
    "        \n",
    "        if (bool_position is not None) and (idx in bool_position):\n",
    "            axis.append(np.linspace(low_val, high_val, 2, dtype=np.float32)) # for boolean, we only have two values: 1., 0.\n",
    "        else:\n",
    "            axis.append(np.linspace(low_val, high_val, discr, dtype=np.float32))\n",
    "    _shape = [ax.shape[0] for ax in axis] + [action_dim]\n",
    "    q_table = np.zeros(_shape) + init_q\n",
    "    return axis, q_table\n",
    "\n",
    "def get_table_idx(state, axis):\n",
    "    \"\"\"\n",
    "    Give a state, discretize it, and return the index in each dimension (axis). \n",
    "    With the returned index, you can access q(s,.) with q_table[idx].\n",
    "    \n",
    "    Parameters:\n",
    "    - state: The state to be discretized. \n",
    "    - axis: The discrete state space as a list of numpy arrays. \n",
    "    \n",
    "    Returns:\n",
    "    - idx: A tuple representing the index of the discretized state in the Q-table. \n",
    "           Its shape matches the dimensions of the provided 'axis'.\n",
    "    \"\"\"\n",
    "    def _get_ax_idx(ax, value):\n",
    "        return np.argmin(np.abs(ax - value))\n",
    "    return tuple([_get_ax_idx(ax, value) for ax, value in zip(axis, state)])"
   ]
  },
  {
   "cell_type": "code",
   "execution_count": 4,
   "id": "a6b139b4",
   "metadata": {
    "tags": []
   },
   "outputs": [],
   "source": [
    "def get_action(state, q_axis, q_table, epsilon=0.0):\n",
    "    \"\"\"\n",
    "    Determine the action to take based on epsilon-greedy strategy.\n",
    "    \n",
    "    Parameters:\n",
    "    - state: The current state of the agent.\n",
    "    - q_axis: The discrete state space as a list of numpy arrays.\n",
    "    - q_table: The Q-table with learned values.\n",
    "    - epsilon: The probability with which a random action is taken (exploration). \n",
    "               Default is 0 (purely greedy).\n",
    "    \n",
    "    Returns:\n",
    "    - action: The chosen action, either greedily or randomly based on epsilon.\n",
    "    \"\"\"\n",
    "    # if epsilon == 0.0, the policy will be greedy -- always choose the best action\n",
    "    '''\n",
    "    # TODO: Task 1, implement epsilon-greedy\n",
    "    # 1. Discretize the given state by using the get_table_idx(state, axis) function\n",
    "    # 2. Use the discretized state's index to access the Q-table\n",
    "    # 3. Generate a random number between 0 and 1.\n",
    "    # 4. Compare this number to `epsilon`\n",
    "    # 5. If the random number is less than `epsilon`, choose a random action.\n",
    "    # 6. Otherwise, choose the best action (greedy action)\n",
    "    '''\n",
    "    ########## Your code starts here ##########\n",
    "    q_idx = get_table_idx(state, q_axis)\n",
    "    q_values = q_table[q_idx]\n",
    "    if np.random.rand() < epsilon:\n",
    "        action = np.random.choice(len(q_values))\n",
    "\n",
    "    else:\n",
    "        action = np.argmax(q_values)\n",
    "    return action\n",
    "    ########### Your code ends here ##########\n",
    "\n",
    "\n",
    "def update_q_value(old_state, action, new_state, gamma, reward, done, alpha, q_axis, q_table):\n",
    "    \"\"\"\n",
    "    Update the Q-value for a state-action pair based on the Q-learning update rule.\n",
    "    \n",
    "    Parameters:\n",
    "    - old_state: The original state before taking the action.\n",
    "    - action: The action taken.\n",
    "    - new_state: The state after taking the action.\n",
    "    - gamma: Discount factor.\n",
    "    - reward: Immediate reward for taking the action.\n",
    "    - done: Boolean indicating if the episode is done.\n",
    "    - alpha: Learning rate.\n",
    "    - q_axis: The discrete state space as a list of numpy arrays.\n",
    "    - q_table: The Q-table with learned values.\n",
    "    \n",
    "    Returns:\n",
    "    - q_table: Updated Q-table.\n",
    "    \"\"\"\n",
    "\n",
    "    # q_table contains discretized state-action space (16, 16, 16, 16, 2) values\n",
    "    # Each observation is discritized 16 times and the last dimension are the two\n",
    "    # actions that can be taken. \n",
    "    '''\n",
    "    # TODO: Task 1, update q value\n",
    "    # 1. Retrieve Old Q-Value\n",
    "    # 2. Determine the Next Action\n",
    "    # 3. Retrieve New Q-Value\n",
    "    #     If the episode isn't done, get the Q-value for the new_state and next_action.\n",
    "    #     If the episode is done, set the new Q-value to zero.\n",
    "    # 4. Compute the Updated Q-Value\n",
    "    # 5. Update the Q-Table \n",
    "    # 6. Return the Updated Q-Table\n",
    "    '''\n",
    "    old_table_idx = get_table_idx(old_state, q_axis) # idx of q(s_old, *)\n",
    "    new_table_idx = get_table_idx(new_state, q_axis) # idx of q(s_new, *)  \n",
    "    ########## Your code starts here ########## \n",
    "    old_q_val = q_table[old_table_idx]\n",
    "    if not done:\n",
    "        new_q_val = np.max(q_table[new_table_idx])\n",
    "    else:\n",
    "        new_q_val = 0\n",
    "    updated_q_val = old_q_val[action] + alpha * (reward + gamma * new_q_val - old_q_val[action])\n",
    "\n",
    "    q_table[old_table_idx][action] = updated_q_val\n",
    "\n",
    "    ########### Your code ends here ########## \n",
    "    return q_table"
   ]
  },
  {
   "cell_type": "code",
   "execution_count": 5,
   "id": "7d0d958b",
   "metadata": {
    "deletable": false,
    "editable": false,
    "nbgrader": {
     "cell_type": "code",
     "checksum": "dc16991d5ec22369589192a57b098e56",
     "grade": true,
     "grade_id": "cell-b84fd8ddc27262ad",
     "locked": true,
     "points": 5,
     "schema_version": 3,
     "solution": false,
     "task": false
    }
   },
   "outputs": [],
   "source": [
    "# test the get_action function \n",
    "\n",
    "def test_get_action():\n",
    "    test_state = [1,0]\n",
    "    test_qaxis = np.array([-4.,3.]), np.array([-4. ,-6. ])\n",
    "\n",
    "    test_qtable = np.array([[[0.49364422, 0.83209827],[0.987027,  0.48691833]],[[0.40560464, 0.26888288],[0.90825581, 0.88758134]]])\n",
    "    assert get_action(test_state, test_qaxis, test_qtable, epsilon=0) == 0\n",
    "    test_qtable = np.array([[[0.49364422, 0.83209827],[0.987027,  0.48691833]],[[-0.40560464, 0.26888288],[0.90825581, 0.88758134]]])\n",
    "    assert get_action(test_state, test_qaxis, test_qtable, epsilon=0) == 1\n",
    "\n",
    "\n",
    "# test update_q_value function\n",
    "def test_update_q_value():\n",
    "    test_state = [1,0]\n",
    "    test_qaxis = np.array([-4.,3.]), np.array([-4. ,-6. ])\n",
    "    test_qtable = np.array([[[0.49364422, 0.83209827],[0.987027,  0.48691833]],[[-0.40560464, 0.26888288],[0.90825581, 0.88758134]]])\n",
    "    new_test_state = [0,1]\n",
    "    reward = 1\n",
    "    gamma = 0.9\n",
    "    done = False\n",
    "    action = 0\n",
    "    alpha = 1\n",
    "    updated_q_value = update_q_value(test_state, action, new_test_state, gamma, reward, done, alpha, test_qaxis, test_qtable)\n",
    "    assert np.allclose(updated_q_value, np.array([[[0.49364422, 0.83209827],[0.987027  , 0.48691833]],[[1.24199459, 0.26888288],[0.90825581, 0.88758134]]]), 0.001)\n",
    "\n",
    "test_get_action()\n",
    "test_update_q_value()"
   ]
  },
  {
   "cell_type": "code",
   "execution_count": 6,
   "id": "62297b95-5f55-4dcc-827b-ff984ae99bd2",
   "metadata": {
    "tags": []
   },
   "outputs": [],
   "source": [
    "def plot_training_data(training_data, save_path):\n",
    "    df = pd.DataFrame(training_data)\n",
    "    plt.figure(figsize=(5, 3.5))\n",
    "    sns.lineplot(data=df, x='episode', y='ep_reward_avg')\n",
    "    plt.title('Training Performance')\n",
    "    plt.savefig(save_path)\n",
    "    plt.show()\n",
    "\n",
    "def train(cfg_path, cfg_args={}):\n",
    "    env, cfg = setup(cfg_path, cfg_args=cfg_args)\n",
    "    performance_data = []\n",
    "\n",
    "    # init q_table with zeros\n",
    "    q_axis, q_table = init_q_table(env.observation_space, \n",
    "        env.action_space.n, cfg.discr, bool_position=cfg.bool_position, init_q=cfg.initial_q)\n",
    "\n",
    "    # begin training and testing\n",
    "    ep_reward_deque = deque([], maxlen=500)  # used to calculate the smoothed (avg over recent 500 episodes) ep_reward\n",
    "    for ep in range(cfg.train_episodes + 1):\n",
    "        # set epsilon value\n",
    "        if cfg.epsilon == 'glie':\n",
    "            epsilon = cfg.glie_b / (cfg.glie_b + ep)  \n",
    "        elif isinstance(cfg.epsilon, (int, float)):\n",
    "            epsilon = cfg.epsilon\n",
    "        else: \n",
    "            raise ValueError\n",
    "        \n",
    "        (state, _), done, ep_reward, timesteps = env.reset(), False, 0, 0\n",
    "        while not done:\n",
    "            action = get_action(state, q_axis, q_table, epsilon=epsilon) \n",
    "            new_state, reward, done, _, _ = env.step(action)\n",
    "            q_table = update_q_value(state, action, new_state, cfg.gamma, reward, done, cfg.alpha,\n",
    "                                        q_axis, q_table)\n",
    "    \n",
    "            state = new_state\n",
    "            ep_reward += reward\n",
    "            timesteps += 1\n",
    "            if timesteps >= env.spec.max_episode_steps:\n",
    "                done = True\n",
    "                \n",
    "        ep_reward_deque.append(ep_reward)\n",
    "        info = {\n",
    "            'episode': ep,\n",
    "            'epsilon': epsilon,\n",
    "            'ep_reward': ep_reward,\n",
    "            'timesteps': timesteps,\n",
    "            'ep_reward_avg': np.mean(list(ep_reward_deque))\n",
    "        }\n",
    "\n",
    "        performance_data.append(info)\n",
    "        \n",
    "\n",
    "        if (not cfg.silent) and (ep % 500 == 0): print(info)\n",
    "    \n",
    "    work_dir = Path().cwd()/'results'/f'{cfg.env_name}'\n",
    "      \n",
    "    # save the q-value table and q_axis\n",
    "    file_pre = f\"{cfg.task_no}_\" if hasattr(cfg, 'task_no') else \"\"\n",
    "    file = file_pre + 'q_table_glie.pkl' if cfg.epsilon == 'glie' else file_pre + 'q_table_e.pkl'\n",
    "    u.save_object({'q_table': q_table, 'axis': q_axis},\n",
    "                        work_dir/file)\n",
    "    png_file = file_pre + '_glie.png' if cfg.epsilon == 'glie' else file_pre + '_e.png'\n",
    "    plot_training_data(performance_data, work_dir/png_file)\n",
    "    print('Training done!')\n",
    "\n",
    "    \n",
    "def test(cfg_path, cfg_args={'testing':True}):\n",
    "    \n",
    "    cfg_args.update({'testing':True})\n",
    "    env, cfg = setup(cfg_path, cfg_args=cfg_args)\n",
    "    \n",
    "    work_dir = Path().cwd()/'results'/f'{cfg.env_name}'\n",
    "    \n",
    "    # load q_table\n",
    "    file_pre = f\"{cfg.task_no}_\" if hasattr(cfg, 'task_no') else \"\"\n",
    "    file = file_pre + 'q_table_glie.pkl' if cfg.epsilon == 'glie' else file_pre + 'q_table_e.pkl'\n",
    "    data = u.load_object(work_dir/file)\n",
    "    q_axis, q_table = data['axis'], data['q_table']\n",
    "\n",
    "    # begin testing\n",
    "    for ep in range(cfg.test_episodes):\n",
    "        (state, _), done, ep_reward, timesteps = env.reset(), False, 0, 0\n",
    "        while not done:\n",
    "            action = get_action(state, q_axis, q_table, epsilon=0.0) # be greedy during testing\n",
    "            new_state, reward, done, _, _ = env.step(action)\n",
    "\n",
    "            state = new_state\n",
    "            ep_reward += reward\n",
    "            timesteps += 1\n",
    "        \n",
    "        info = {\n",
    "            'test_episode': ep,\n",
    "            'test_ep_reward': ep_reward,\n",
    "            'timesteps': timesteps,\n",
    "        }\n",
    "\n",
    "        if not cfg.silent: print(info)\n",
    "    \n",
    "    print('Testing done!')\n",
    "\n"
   ]
  },
  {
   "cell_type": "code",
   "execution_count": 7,
   "id": "dace84a6-031e-4b0d-9d99-511af93202eb",
   "metadata": {
    "tags": []
   },
   "outputs": [
    {
     "name": "stdout",
     "output_type": "stream",
     "text": [
      "Numpy/Torch/Random Seed:  408\n",
      "{'episode': 0, 'epsilon': 0.1, 'ep_reward': 8.0, 'timesteps': 8, 'ep_reward_avg': 8.0}\n",
      "{'episode': 500, 'epsilon': 0.1, 'ep_reward': 12.0, 'timesteps': 12, 'ep_reward_avg': 10.56}\n",
      "{'episode': 1000, 'epsilon': 0.1, 'ep_reward': 14.0, 'timesteps': 14, 'ep_reward_avg': 11.522}\n",
      "{'episode': 1500, 'epsilon': 0.1, 'ep_reward': 15.0, 'timesteps': 15, 'ep_reward_avg': 13.098}\n",
      "{'episode': 2000, 'epsilon': 0.1, 'ep_reward': 118.0, 'timesteps': 118, 'ep_reward_avg': 50.51}\n",
      "{'episode': 2500, 'epsilon': 0.1, 'ep_reward': 17.0, 'timesteps': 17, 'ep_reward_avg': 78.912}\n",
      "{'episode': 3000, 'epsilon': 0.1, 'ep_reward': 92.0, 'timesteps': 92, 'ep_reward_avg': 127.464}\n",
      "{'episode': 3500, 'epsilon': 0.1, 'ep_reward': 192.0, 'timesteps': 192, 'ep_reward_avg': 136.066}\n",
      "{'episode': 4000, 'epsilon': 0.1, 'ep_reward': 183.0, 'timesteps': 183, 'ep_reward_avg': 167.182}\n",
      "{'episode': 4500, 'epsilon': 0.1, 'ep_reward': 172.0, 'timesteps': 172, 'ep_reward_avg': 177.848}\n",
      "{'episode': 5000, 'epsilon': 0.1, 'ep_reward': 119.0, 'timesteps': 119, 'ep_reward_avg': 167.124}\n",
      "{'episode': 5500, 'epsilon': 0.1, 'ep_reward': 174.0, 'timesteps': 174, 'ep_reward_avg': 163.66}\n",
      "{'episode': 6000, 'epsilon': 0.1, 'ep_reward': 198.0, 'timesteps': 198, 'ep_reward_avg': 168.418}\n",
      "{'episode': 6500, 'epsilon': 0.1, 'ep_reward': 173.0, 'timesteps': 173, 'ep_reward_avg': 193.688}\n",
      "{'episode': 7000, 'epsilon': 0.1, 'ep_reward': 157.0, 'timesteps': 157, 'ep_reward_avg': 175.512}\n",
      "{'episode': 7500, 'epsilon': 0.1, 'ep_reward': 165.0, 'timesteps': 165, 'ep_reward_avg': 214.858}\n",
      "{'episode': 8000, 'epsilon': 0.1, 'ep_reward': 181.0, 'timesteps': 181, 'ep_reward_avg': 210.57}\n",
      "{'episode': 8500, 'epsilon': 0.1, 'ep_reward': 149.0, 'timesteps': 149, 'ep_reward_avg': 221.436}\n",
      "{'episode': 9000, 'epsilon': 0.1, 'ep_reward': 500.0, 'timesteps': 500, 'ep_reward_avg': 219.438}\n",
      "{'episode': 9500, 'epsilon': 0.1, 'ep_reward': 488.0, 'timesteps': 488, 'ep_reward_avg': 232.846}\n",
      "{'episode': 10000, 'epsilon': 0.1, 'ep_reward': 394.0, 'timesteps': 394, 'ep_reward_avg': 252.924}\n",
      "{'episode': 10500, 'epsilon': 0.1, 'ep_reward': 80.0, 'timesteps': 80, 'ep_reward_avg': 212.278}\n",
      "{'episode': 11000, 'epsilon': 0.1, 'ep_reward': 261.0, 'timesteps': 261, 'ep_reward_avg': 249.94}\n",
      "{'episode': 11500, 'epsilon': 0.1, 'ep_reward': 163.0, 'timesteps': 163, 'ep_reward_avg': 243.942}\n",
      "{'episode': 12000, 'epsilon': 0.1, 'ep_reward': 214.0, 'timesteps': 214, 'ep_reward_avg': 245.978}\n",
      "{'episode': 12500, 'epsilon': 0.1, 'ep_reward': 122.0, 'timesteps': 122, 'ep_reward_avg': 267.838}\n",
      "{'episode': 13000, 'epsilon': 0.1, 'ep_reward': 236.0, 'timesteps': 236, 'ep_reward_avg': 226.934}\n",
      "{'episode': 13500, 'epsilon': 0.1, 'ep_reward': 406.0, 'timesteps': 406, 'ep_reward_avg': 201.644}\n",
      "{'episode': 14000, 'epsilon': 0.1, 'ep_reward': 500.0, 'timesteps': 500, 'ep_reward_avg': 283.628}\n",
      "{'episode': 14500, 'epsilon': 0.1, 'ep_reward': 82.0, 'timesteps': 82, 'ep_reward_avg': 276.9}\n",
      "{'episode': 15000, 'epsilon': 0.1, 'ep_reward': 339.0, 'timesteps': 339, 'ep_reward_avg': 301.372}\n",
      "{'episode': 15500, 'epsilon': 0.1, 'ep_reward': 117.0, 'timesteps': 117, 'ep_reward_avg': 217.882}\n",
      "{'episode': 16000, 'epsilon': 0.1, 'ep_reward': 194.0, 'timesteps': 194, 'ep_reward_avg': 246.98}\n",
      "{'episode': 16500, 'epsilon': 0.1, 'ep_reward': 500.0, 'timesteps': 500, 'ep_reward_avg': 258.976}\n",
      "{'episode': 17000, 'epsilon': 0.1, 'ep_reward': 245.0, 'timesteps': 245, 'ep_reward_avg': 326.394}\n",
      "{'episode': 17500, 'epsilon': 0.1, 'ep_reward': 349.0, 'timesteps': 349, 'ep_reward_avg': 244.868}\n",
      "{'episode': 18000, 'epsilon': 0.1, 'ep_reward': 186.0, 'timesteps': 186, 'ep_reward_avg': 251.43}\n",
      "{'episode': 18500, 'epsilon': 0.1, 'ep_reward': 178.0, 'timesteps': 178, 'ep_reward_avg': 302.384}\n",
      "{'episode': 19000, 'epsilon': 0.1, 'ep_reward': 217.0, 'timesteps': 217, 'ep_reward_avg': 333.758}\n",
      "{'episode': 19500, 'epsilon': 0.1, 'ep_reward': 127.0, 'timesteps': 127, 'ep_reward_avg': 261.806}\n",
      "{'episode': 20000, 'epsilon': 0.1, 'ep_reward': 154.0, 'timesteps': 154, 'ep_reward_avg': 329.582}\n"
     ]
    },
    {
     "data": {
      "image/png": "[encoded data removed]",
      "text/plain": [
       "<Figure size 500x350 with 1 Axes>"
      ]
     },
     "metadata": {},
     "output_type": "display_data"
    },
    {
     "name": "stdout",
     "output_type": "stream",
     "text": [
      "Training done!\n"
     ]
    }
   ],
   "source": [
    "# Training with constant epsilon 0.1\n",
    "if not skip_training:\n",
    "    cfg_args=dict(epsilon=0.1, save_video=False)\n",
    "    train(cfg_path=Path().cwd()/'cfg'/'cartpole_v1.yaml', cfg_args=cfg_args) # < 30 mins"
   ]
  },
  {
   "cell_type": "code",
   "execution_count": 8,
   "id": "8d603c2a-5582-4a7b-a04b-7b6ba03fc89d",
   "metadata": {
    "tags": []
   },
   "outputs": [
    {
     "name": "stdout",
     "output_type": "stream",
     "text": [
      "Numpy/Torch/Random Seed:  408\n"
     ]
    },
    {
     "name": "stderr",
     "output_type": "stream",
     "text": [
      "/opt/software/lib/python3.10/site-packages/gymnasium/wrappers/record_video.py:87: UserWarning: \u001b[33mWARN: Overwriting existing videos at /notebooks/rl2025/ex3/results/CartPole-v1/video/test folder (try specifying a different `video_folder` for the `RecordVideo` wrapper if this is not desired)\u001b[0m\n",
      "  logger.warn(\n"
     ]
    },
    {
     "name": "stdout",
     "output_type": "stream",
     "text": [
      "{'test_episode': 0, 'test_ep_reward': 211.0, 'timesteps': 211}\n",
      "{'test_episode': 1, 'test_ep_reward': 245.0, 'timesteps': 245}\n",
      "{'test_episode': 2, 'test_ep_reward': 194.0, 'timesteps': 194}\n",
      "{'test_episode': 3, 'test_ep_reward': 458.0, 'timesteps': 458}\n",
      "{'test_episode': 4, 'test_ep_reward': 402.0, 'timesteps': 402}\n",
      "{'test_episode': 5, 'test_ep_reward': 269.0, 'timesteps': 269}\n",
      "{'test_episode': 6, 'test_ep_reward': 2018.0, 'timesteps': 2018}\n",
      "{'test_episode': 7, 'test_ep_reward': 223.0, 'timesteps': 223}\n",
      "{'test_episode': 8, 'test_ep_reward': 166.0, 'timesteps': 166}\n",
      "{'test_episode': 9, 'test_ep_reward': 261.0, 'timesteps': 261}\n",
      "Testing done!\n"
     ]
    }
   ],
   "source": [
    "# Testing with constant epsilon 0.1\n",
    "if not skip_training:\n",
    "    cfg_args=dict(epsilon=0.1, save_video=True)\n",
    "    test(cfg_path=Path().cwd()/'cfg'/'cartpole_v1.yaml', cfg_args=cfg_args)"
   ]
  },
  {
   "cell_type": "code",
   "execution_count": null,
   "id": "0c840efe",
   "metadata": {
    "deletable": false,
    "editable": false,
    "nbgrader": {
     "cell_type": "code",
     "checksum": "ad7d05103e53861c49975c1d2361488a",
     "grade": true,
     "grade_id": "cell-847ab0bf4eb63619",
     "locked": true,
     "points": 0,
     "schema_version": 3,
     "solution": false,
     "task": false
    }
   },
   "outputs": [],
   "source": []
  },
  {
   "cell_type": "code",
   "execution_count": null,
   "id": "c3ea5fd1",
   "metadata": {
    "deletable": false,
    "editable": false,
    "nbgrader": {
     "cell_type": "code",
     "checksum": "d0564f2e3a7abff5b2e4abdb8d16932e",
     "grade": true,
     "grade_id": "cell-dd274e845abca949",
     "locked": true,
     "points": 20,
     "schema_version": 3,
     "solution": false,
     "task": false
    }
   },
   "outputs": [],
   "source": []
  },
  {
   "cell_type": "markdown",
   "id": "2f6dd079-2502-4c2c-bd8e-0ac321b5826d",
   "metadata": {
    "deletable": false,
    "editable": false,
    "nbgrader": {
     "cell_type": "markdown",
     "checksum": "a6efc673501c2327e961e6c37013f0ff",
     "grade": false,
     "grade_id": "cell-fbe6a290babdf212",
     "locked": true,
     "schema_version": 3,
     "solution": false,
     "task": false
    },
    "tags": []
   },
   "source": [
    "To visualize how the agent acts within the environment, execute the cell below. **Modify the path** to select the episode you'd like to observe. Remember, by default, videos are saved every 500 episodes during training."
   ]
  },
  {
   "cell_type": "code",
   "execution_count": 9,
   "id": "356b9226-601e-4ba3-ae3b-05f5ea36d3ca",
   "metadata": {
    "tags": []
   },
   "outputs": [
    {
     "data": {
      "text/html": [
       "<video loop autoplay  >\n",
       " <source src=\"data:video/mp4;base64,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\" type=\"video/mp4\">\n",
       " Your browser does not support the video tag.\n",
       " </video>"
      ],
      "text/plain": [
       "<IPython.core.display.Video object>"
      ]
     },
     "metadata": {},
     "output_type": "display_data"
    }
   ],
   "source": [
    "# Visualizing the results with constant epsilon 0.1\n",
    "if not skip_training:\n",
    "      video = Video(Path().cwd()/'results'/'CartPole-v1'/'video'/'test'/'ex3-episode-0.mp4',\n",
    "      embed=True, html_attributes=\"loop autoplay\") # Set html_attributes=\"controls\" for video control\n",
    "      display(video)"
   ]
  },
  {
   "cell_type": "markdown",
   "id": "9f187979-feb2-4833-a11a-68cfacc62080",
   "metadata": {
    "deletable": false,
    "editable": false,
    "nbgrader": {
     "cell_type": "markdown",
     "checksum": "b906207556426401a8d6dbd61f4e4f7e",
     "grade": false,
     "grade_id": "cell-9f2ba95983a3b730",
     "locked": true,
     "schema_version": 3,
     "solution": false,
     "task": false
    },
    "tags": []
   },
   "source": [
    "\n",
    "**Important Reminder:** Before initiating the \"Training with GLIE\" process, make sure you've fully executed the steps under \"Training with a constant epsilon\". Be cautious, as the video save path remains identical; thus, any previous results will be overwritten.\n"
   ]
  },
  {
   "cell_type": "code",
   "execution_count": 10,
   "id": "4f5da29e-f3f3-4b23-b879-a7786eb25c94",
   "metadata": {
    "tags": []
   },
   "outputs": [
    {
     "name": "stdout",
     "output_type": "stream",
     "text": [
      "Numpy/Torch/Random Seed:  408\n",
      "{'episode': 0, 'epsilon': 1.0, 'ep_reward': 19.0, 'timesteps': 19, 'ep_reward_avg': 19.0}\n",
      "{'episode': 500, 'epsilon': 0.8163115356355621, 'ep_reward': 27.0, 'timesteps': 27, 'ep_reward_avg': 24.356}\n",
      "{'episode': 1000, 'epsilon': 0.6896337678460583, 'ep_reward': 24.0, 'timesteps': 24, 'ep_reward_avg': 32.088}\n",
      "{'episode': 1500, 'epsilon': 0.5969908651262762, 'ep_reward': 25.0, 'timesteps': 25, 'ep_reward_avg': 48.194}\n",
      "{'episode': 2000, 'epsilon': 0.5262908574135481, 'ep_reward': 37.0, 'timesteps': 37, 'ep_reward_avg': 69.748}\n",
      "{'episode': 2500, 'epsilon': 0.470563320626853, 'ep_reward': 91.0, 'timesteps': 91, 'ep_reward_avg': 94.672}\n",
      "{'episode': 3000, 'epsilon': 0.42550746840291076, 'ep_reward': 117.0, 'timesteps': 117, 'ep_reward_avg': 106.204}\n",
      "{'episode': 3500, 'epsilon': 0.388325760223698, 'ep_reward': 155.0, 'timesteps': 155, 'ep_reward_avg': 128.792}\n",
      "{'episode': 4000, 'epsilon': 0.3571198971391835, 'ep_reward': 90.0, 'timesteps': 90, 'ep_reward_avg': 152.92}\n",
      "{'episode': 4500, 'epsilon': 0.330556382029158, 'ep_reward': 141.0, 'timesteps': 141, 'ep_reward_avg': 169.598}\n",
      "{'episode': 5000, 'epsilon': 0.3076710052617004, 'ep_reward': 112.0, 'timesteps': 112, 'ep_reward_avg': 191.902}\n",
      "{'episode': 5500, 'epsilon': 0.28774928774928776, 'ep_reward': 96.0, 'timesteps': 96, 'ep_reward_avg': 195.726}\n",
      "{'episode': 6000, 'epsilon': 0.27025054731208953, 'ep_reward': 145.0, 'timesteps': 145, 'ep_reward_avg': 197.328}\n",
      "{'episode': 6500, 'epsilon': 0.2547580830084843, 'ep_reward': 18.0, 'timesteps': 18, 'ep_reward_avg': 199.102}\n",
      "{'episode': 7000, 'epsilon': 0.24094556495337238, 'ep_reward': 412.0, 'timesteps': 412, 'ep_reward_avg': 250.638}\n",
      "{'episode': 7500, 'epsilon': 0.22855379551532606, 'ep_reward': 30.0, 'timesteps': 30, 'ep_reward_avg': 234.31}\n",
      "{'episode': 8000, 'epsilon': 0.21737429074545098, 'ep_reward': 181.0, 'timesteps': 181, 'ep_reward_avg': 258.566}\n",
      "{'episode': 8500, 'epsilon': 0.2072374556985637, 'ep_reward': 500.0, 'timesteps': 500, 'ep_reward_avg': 287.356}\n",
      "{'episode': 9000, 'epsilon': 0.19800392086972018, 'ep_reward': 184.0, 'timesteps': 184, 'ep_reward_avg': 301.262}\n",
      "{'episode': 9500, 'epsilon': 0.1895580958880737, 'ep_reward': 186.0, 'timesteps': 186, 'ep_reward_avg': 262.598}\n",
      "{'episode': 10000, 'epsilon': 0.1818033055146457, 'ep_reward': 115.0, 'timesteps': 115, 'ep_reward_avg': 324.68}\n",
      "{'episode': 10500, 'epsilon': 0.17465807263008962, 'ep_reward': 288.0, 'timesteps': 288, 'ep_reward_avg': 271.394}\n",
      "{'episode': 11000, 'epsilon': 0.16805324459234608, 'ep_reward': 136.0, 'timesteps': 136, 'ep_reward_avg': 297.726}\n",
      "{'episode': 11500, 'epsilon': 0.16192974785016762, 'ep_reward': 197.0, 'timesteps': 197, 'ep_reward_avg': 268.916}\n",
      "{'episode': 12000, 'epsilon': 0.15623681620025312, 'ep_reward': 34.0, 'timesteps': 34, 'ep_reward_avg': 275.058}\n",
      "{'episode': 12500, 'epsilon': 0.1509305800842277, 'ep_reward': 226.0, 'timesteps': 226, 'ep_reward_avg': 276.906}\n",
      "{'episode': 13000, 'epsilon': 0.14597293391144398, 'ep_reward': 500.0, 'timesteps': 500, 'ep_reward_avg': 280.09}\n",
      "{'episode': 13500, 'epsilon': 0.14133061951405673, 'ep_reward': 500.0, 'timesteps': 500, 'ep_reward_avg': 331.234}\n",
      "{'episode': 14000, 'epsilon': 0.13697447910245344, 'ep_reward': 497.0, 'timesteps': 497, 'ep_reward_avg': 335.972}\n",
      "{'episode': 14500, 'epsilon': 0.13287884224375074, 'ep_reward': 141.0, 'timesteps': 141, 'ep_reward_avg': 312.942}\n",
      "{'episode': 15000, 'epsilon': 0.1290210196260597, 'ep_reward': 334.0, 'timesteps': 334, 'ep_reward_avg': 264.94}\n",
      "{'episode': 15500, 'epsilon': 0.12538088251890306, 'ep_reward': 398.0, 'timesteps': 398, 'ep_reward_avg': 310.13}\n",
      "{'episode': 16000, 'epsilon': 0.12194051146965207, 'ep_reward': 500.0, 'timesteps': 500, 'ep_reward_avg': 352.508}\n",
      "{'episode': 16500, 'epsilon': 0.11868390129259694, 'ep_reward': 289.0, 'timesteps': 289, 'ep_reward_avg': 338.542}\n",
      "{'episode': 17000, 'epsilon': 0.11559671210071792, 'ep_reward': 500.0, 'timesteps': 500, 'ep_reward_avg': 311.676}\n",
      "{'episode': 17500, 'epsilon': 0.11266605820910658, 'ep_reward': 278.0, 'timesteps': 278, 'ep_reward_avg': 302.564}\n",
      "{'episode': 18000, 'epsilon': 0.10988032835525666, 'ep_reward': 378.0, 'timesteps': 378, 'ep_reward_avg': 281.516}\n",
      "{'episode': 18500, 'epsilon': 0.10722903194672329, 'ep_reward': 143.0, 'timesteps': 143, 'ep_reward_avg': 222.526}\n",
      "{'episode': 19000, 'epsilon': 0.10470266704363397, 'ep_reward': 157.0, 'timesteps': 157, 'ep_reward_avg': 296.6}\n",
      "{'episode': 19500, 'epsilon': 0.1022926065739803, 'ep_reward': 308.0, 'timesteps': 308, 'ep_reward_avg': 295.012}\n",
      "{'episode': 20000, 'epsilon': 0.0999909999099991, 'ep_reward': 347.0, 'timesteps': 347, 'ep_reward_avg': 348.08}\n"
     ]
    },
    {
     "data": {
      "image/png": "[encoded data removed]",
      "text/plain": [
       "<Figure size 500x350 with 1 Axes>"
      ]
     },
     "metadata": {},
     "output_type": "display_data"
    },
    {
     "name": "stdout",
     "output_type": "stream",
     "text": [
      "Training done!\n"
     ]
    }
   ],
   "source": [
    "# Training with GLIE\n",
    "if not skip_training:\n",
    "    cfg_args=dict(epsilon='glie', glie_b=2222, save_video=False) # insert correct value for glie_b\n",
    "    train(cfg_path=Path().cwd()/'cfg'/'cartpole_v1.yaml', cfg_args=cfg_args) # < 30 mins"
   ]
  },
  {
   "cell_type": "code",
   "execution_count": 11,
   "id": "a77aea8d-2c8c-4e8f-baec-a3fd68fead5b",
   "metadata": {
    "tags": []
   },
   "outputs": [
    {
     "name": "stdout",
     "output_type": "stream",
     "text": [
      "Numpy/Torch/Random Seed:  408\n"
     ]
    },
    {
     "name": "stderr",
     "output_type": "stream",
     "text": [
      "/opt/software/lib/python3.10/site-packages/gymnasium/wrappers/record_video.py:87: UserWarning: \u001b[33mWARN: Overwriting existing videos at /notebooks/rl2025/ex3/results/CartPole-v1/video/test folder (try specifying a different `video_folder` for the `RecordVideo` wrapper if this is not desired)\u001b[0m\n",
      "  logger.warn(\n"
     ]
    },
    {
     "name": "stdout",
     "output_type": "stream",
     "text": [
      "{'test_episode': 0, 'test_ep_reward': 357.0, 'timesteps': 357}\n",
      "{'test_episode': 1, 'test_ep_reward': 345.0, 'timesteps': 345}\n",
      "{'test_episode': 2, 'test_ep_reward': 333.0, 'timesteps': 333}\n",
      "{'test_episode': 3, 'test_ep_reward': 348.0, 'timesteps': 348}\n",
      "{'test_episode': 4, 'test_ep_reward': 340.0, 'timesteps': 340}\n",
      "{'test_episode': 5, 'test_ep_reward': 317.0, 'timesteps': 317}\n",
      "{'test_episode': 6, 'test_ep_reward': 324.0, 'timesteps': 324}\n",
      "{'test_episode': 7, 'test_ep_reward': 315.0, 'timesteps': 315}\n",
      "{'test_episode': 8, 'test_ep_reward': 349.0, 'timesteps': 349}\n",
      "{'test_episode': 9, 'test_ep_reward': 341.0, 'timesteps': 341}\n",
      "Testing done!\n"
     ]
    }
   ],
   "source": [
    "# Testing with GLIE\n",
    "if not skip_training:\n",
    "    cfg_args=dict(epsilon='glie', save_video=True)\n",
    "    test(cfg_path=Path().cwd()/'cfg'/'cartpole_v1.yaml', cfg_args=cfg_args)"
   ]
  },
  {
   "cell_type": "markdown",
   "id": "bdec32a0-acec-46fb-80cb-72bf8b6c5843",
   "metadata": {
    "deletable": false,
    "editable": false,
    "nbgrader": {
     "cell_type": "markdown",
     "checksum": "3032b3f39bfb870739c884f17717b974",
     "grade": false,
     "grade_id": "cell-8d0186add26c2a97",
     "locked": true,
     "schema_version": 3,
     "solution": false,
     "task": false
    },
    "tags": []
   },
   "source": [
    "Just as in the \"visualize the results with constant epsilon 0.1\" section, **modify the path** to select the episode you'd like to observe. Remember, videos are saved every 500 episodes during training."
   ]
  },
  {
   "cell_type": "code",
   "execution_count": 12,
   "id": "c6204544",
   "metadata": {
    "tags": []
   },
   "outputs": [
    {
     "data": {
      "text/html": [
       "<video loop autoplay  >\n",
       " <source src=\"data:video/mp4;base64,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\" type=\"video/mp4\">\n",
       " Your browser does not support the video tag.\n",
       " </video>"
      ],
      "text/plain": [
       "<IPython.core.display.Video object>"
      ]
     },
     "metadata": {},
     "output_type": "display_data"
    }
   ],
   "source": [
    "# Visualizing the results with GLIE\n",
    "if not skip_training:\n",
    "      video = Video(Path().cwd()/'results'/'CartPole-v1'/'video'/'test'/'ex3-episode-0.mp4',\n",
    "      embed=True, html_attributes=\"loop autoplay\") # Set html_attributes=\"controls\" for video control\n",
    "      display(video)"
   ]
  },
  {
   "cell_type": "code",
   "execution_count": null,
   "id": "13721787",
   "metadata": {
    "deletable": false,
    "editable": false,
    "nbgrader": {
     "cell_type": "code",
     "checksum": "4729db952ef44314e885465232bd3c7b",
     "grade": true,
     "grade_id": "cell-a49c5defa1c9854f",
     "locked": true,
     "points": 0,
     "schema_version": 3,
     "solution": false,
     "task": false
    }
   },
   "outputs": [],
   "source": []
  },
  {
   "cell_type": "markdown",
   "id": "c86e2e61",
   "metadata": {
    "deletable": false,
    "editable": false,
    "nbgrader": {
     "cell_type": "markdown",
     "checksum": "cb028b05a48b40ee3ffbab9745bfc939",
     "grade": false,
     "grade_id": "cell-61fe5d3f07b35b4b",
     "locked": true,
     "schema_version": 3,
     "solution": false,
     "task": false
    },
    "tags": []
   },
   "source": [
    "<a id='T2'></a>\n",
    "<div class=\" alert alert-warning\">\n",
    "    <h3><b>Student Task 2.</b> Visualizing the Value Function (10 points) </h3> \n",
    "\n",
    "Use your Q-function values estimated with GLIE to calculate the optimal value function of each state. Complete the ```display_heatmap_vf()``` function below to plot the heatmap of the value function in terms of $x$ and $\\theta$, such that $\\theta$ is on horizontal and $x$ is on vertical axis. For plotting, average the values over $\\dot{x}$ and $\\dot{\\theta}$. Attach the heatmap in your report.\n",
    "\n",
    "**Hint:** For plotting the heatmap you can use Matplotlib-pyplot: ```pyplot.imshow(values_array)``` or Seaborn: ```seaborn.heatmap(values_array)```\n",
    "    \n",
    "🔝\t<a href='#TOC'><b>Table of Contents</b></a>\n",
    "</div>\n"
   ]
  },
  {
   "cell_type": "code",
   "execution_count": 13,
   "id": "a4e7567c",
   "metadata": {
    "tags": []
   },
   "outputs": [],
   "source": [
    "# --- Standard Libraries ---\n",
    "from pathlib import Path    # For handling filesystem paths in a more intuitive way\n",
    "\n",
    "# --- Third-party Libraries ---\n",
    "import matplotlib.pyplot as plt  # For creating static, interactive, and animated visualizations\n",
    "import seaborn as sns            # A data visualization library based on matplotlib"
   ]
  },
  {
   "cell_type": "code",
   "execution_count": 14,
   "id": "d18d44fc",
   "metadata": {
    "tags": []
   },
   "outputs": [],
   "source": [
    "def display_heatmap_vf(env_name=\"CartPole-v1\", q_table_name='task1_q_table_glie.pkl'):\n",
    "    \"\"\"\n",
    "    Displays a heatmap of the value function for a given environment and Q-table.\n",
    "\n",
    "    Input:\n",
    "    - env_name (str): Name of the environment, default is \"CartPole-v1\".\n",
    "    - q_table_name (str): Name of the saved Q-table file, default is 'q_table_glie.pkl'.\n",
    "\n",
    "    Output:\n",
    "    - Visual display of the heatmap.\n",
    "\n",
    "    \"\"\"\n",
    "    \n",
    "    # load the Q-value array\n",
    "    work_dir = Path().cwd()/'results'/f'{env_name}'\n",
    "    \n",
    "    data = u.load_object(work_dir/q_table_name) # load q_table \n",
    "    q_axis, q_table = data['axis'], data['q_table'] \n",
    "    x_axis, th_axis = q_axis[0], q_axis[2]  # get the axis for x and \\theta\n",
    "\n",
    "    discr = q_table.shape[0] # get the number of discretized bins for a state variable in the Q-table\n",
    "    '''\n",
    "    # TODO: Task 2 Plot the heatmap of the value function\n",
    "    # 1. Compute the maximum Q-value for each state, which gives the value function of that state\n",
    "    # 2. Uses Seaborn and Matplotlib to display the heatmap.  \n",
    "    '''\n",
    "    \n",
    "    ########## Your code begins here. ##########\n",
    "    max_q_values = np.max(q_table, axis=-1)  \n",
    "    sns.heatmap(max_q_values.mean(axis=(1,3)))\n",
    "    plt.xlabel('Pole Angle (theta)')\n",
    "    plt.ylabel('Cart Position (x)')\n",
    "    plt.title('Value Function Heatmap')\n",
    "    plt.show()\n",
    "\n",
    "    ########## Your code ends here. ##########\n",
    "\n",
    "        \n",
    "    "
   ]
  },
  {
   "cell_type": "code",
   "execution_count": 15,
   "id": "eab4bd9c",
   "metadata": {
    "tags": []
   },
   "outputs": [
    {
     "data": {
      "image/png": "[encoded data removed]",
      "text/plain": [
       "<Figure size 640x480 with 2 Axes>"
      ]
     },
     "metadata": {},
     "output_type": "display_data"
    }
   ],
   "source": [
    "# Visual display of the heatmap of the value function\n",
    "if not skip_training:\n",
    "    display_heatmap_vf()"
   ]
  },
  {
   "cell_type": "markdown",
   "id": "6752c4c4-f909-41e0-8eae-10f80055dbc3",
   "metadata": {
    "deletable": false,
    "editable": false,
    "nbgrader": {
     "cell_type": "markdown",
     "checksum": "f367a81d85146d63beb807550992c62b",
     "grade": false,
     "grade_id": "cell-88d5a81a7f1ca9f1",
     "locked": true,
     "points": 10,
     "schema_version": 3,
     "solution": false,
     "task": true
    },
    "tags": []
   },
   "source": [
    "Do not remove this cell as it is used for grading"
   ]
  },
  {
   "cell_type": "markdown",
   "id": "bbba1c47",
   "metadata": {
    "deletable": false,
    "editable": false,
    "nbgrader": {
     "cell_type": "markdown",
     "checksum": "41b202e122633a59ef0b2f03f5647b95",
     "grade": false,
     "grade_id": "cell-3cc55d2e2a030ea1",
     "locked": true,
     "schema_version": 3,
     "solution": false,
     "task": false
    },
    "tags": []
   },
   "source": [
    "<a id='Q1'></a>\n",
    "<div class=\" alert alert-warning\">\n",
    "    <h3><b>Student Question 2.1</b> Analyzing the Value Function Heatmap (15 points) </h3> \n",
    "\n",
    "What do you think the heatmap of the Q-values would have looked like at different stages of training? Select all accurate description for each stage.\n",
    "\n",
    "***Attaching the plots is not required.*** \n",
    "    \n",
    "🔝\t<a href='#TOC'><b>Table of Contents</b></a>\n",
    "</div>\n"
   ]
  },
  {
   "cell_type": "markdown",
   "id": "a99b696c-1c31-42a3-b783-9efd7212b516",
   "metadata": {
    "deletable": false,
    "editable": false,
    "nbgrader": {
     "cell_type": "markdown",
     "checksum": "a86e8a6f0c2eae37637dbebbc699d0c7",
     "grade": false,
     "grade_id": "cell-ffe562275575fe2a",
     "locked": true,
     "schema_version": 3,
     "solution": false,
     "task": false
    },
    "tags": []
   },
   "source": [
    "Select *all* correct options. You will get 3 points for each correct answer. Select **at most** 6 answers or you will lose **all points**\n",
    "\n",
    "Options\n",
    "\n",
    "1. Before training, the heatmap is all zeros (assuming Q-values are initialized as zeros)\n",
    "2. Before training, the heatmap has random values between -1 and 1\n",
    "3. After a single episode, the Q-values of visited states are updated with non-zero values\n",
    "4. After a single episode, there is a horizontal line in the middle of the heatmap\n",
    "5. After a single episode, the heatmap shows a vertical line in the middle of the heatmap\n",
    "6. Halfway through training, the heatmap already looks quite similar to the final optimal heatmap\n",
    "7. Halfway through training, the heatmap looks quite similar to the heatmap of after a single episode\n",
    "8. The cart's limited movement in the x direction and the pole's fall create a distinct pattern after one episode\n",
    "9. Random exploration in the first episode leads to scattered non-zero values throughout the heatmap"
   ]
  },
  {
   "cell_type": "code",
   "execution_count": 16,
   "id": "b4a6d4dd-3f07-4e69-aa6d-414b2eb02c8d",
   "metadata": {
    "tags": []
   },
   "outputs": [],
   "source": [
    "# Answer question 2.1 with appropriate option numbers\n",
    "sq2_1 = [1, 3, 6, 8] "
   ]
  },
  {
   "cell_type": "code",
   "execution_count": 17,
   "id": "5dbd9c27-ff3a-4c0b-8343-40a161b90386",
   "metadata": {
    "deletable": false,
    "editable": false,
    "nbgrader": {
     "cell_type": "code",
     "checksum": "ab06d1602d12d9821e3c33db9fe9375e",
     "grade": true,
     "grade_id": "cell-df8153a4c6b9c5a0",
     "locked": true,
     "points": 0,
     "schema_version": 3,
     "solution": false,
     "task": false
    },
    "tags": []
   },
   "outputs": [],
   "source": [
    "assert 1 <= len(sq2_1) <= 6\n",
    "assert max(sq2_1) <= 9"
   ]
  },
  {
   "cell_type": "markdown",
   "id": "02200ecc",
   "metadata": {
    "deletable": false,
    "editable": false,
    "nbgrader": {
     "cell_type": "markdown",
     "checksum": "ef964f8a38b7b879b191836bcd36ce0f",
     "grade": false,
     "grade_id": "cell-dcd042d34d99d37f",
     "locked": true,
     "schema_version": 3,
     "solution": false,
     "task": false
    },
    "tags": []
   },
   "source": [
    "This and following cells are used for grading."
   ]
  },
  {
   "cell_type": "code",
   "execution_count": null,
   "id": "9a060f2e-81e6-4927-bd46-f4a2b3933407",
   "metadata": {
    "deletable": false,
    "editable": false,
    "nbgrader": {
     "cell_type": "code",
     "checksum": "21e5c990ef3565650af30d1c3072c470",
     "grade": true,
     "grade_id": "cell-04e2f6847a6ba16b",
     "locked": true,
     "points": 3,
     "schema_version": 3,
     "solution": false,
     "task": false
    },
    "tags": []
   },
   "outputs": [],
   "source": []
  },
  {
   "cell_type": "code",
   "execution_count": null,
   "id": "d3e41260-10f8-4560-9f4b-a6a3337f7908",
   "metadata": {
    "deletable": false,
    "editable": false,
    "nbgrader": {
     "cell_type": "code",
     "checksum": "68697a7d2e6f1db783faa8eca19312ad",
     "grade": true,
     "grade_id": "cell-8093e9632ac2057b",
     "locked": true,
     "points": 3,
     "schema_version": 3,
     "solution": false,
     "task": false
    },
    "tags": []
   },
   "outputs": [],
   "source": []
  },
  {
   "cell_type": "code",
   "execution_count": null,
   "id": "df401a57-7053-486a-82b3-2d4c15023496",
   "metadata": {
    "deletable": false,
    "editable": false,
    "nbgrader": {
     "cell_type": "code",
     "checksum": "0c34ef2b67238347dc3d1f0103c4c890",
     "grade": true,
     "grade_id": "cell-c34556db05295fbe",
     "locked": true,
     "points": 3,
     "schema_version": 3,
     "solution": false,
     "task": false
    },
    "tags": []
   },
   "outputs": [],
   "source": []
  },
  {
   "cell_type": "code",
   "execution_count": null,
   "id": "579da06a-03a2-451f-8d3a-cacc7c272610",
   "metadata": {
    "deletable": false,
    "editable": false,
    "nbgrader": {
     "cell_type": "code",
     "checksum": "0dab553f2291074f7154c4903b2b2785",
     "grade": true,
     "grade_id": "cell-ca0be29e85c4e9f7",
     "locked": true,
     "points": 3,
     "schema_version": 3,
     "solution": false,
     "task": false
    },
    "tags": []
   },
   "outputs": [],
   "source": []
  },
  {
   "cell_type": "code",
   "execution_count": null,
   "id": "92042bae-3dcb-4e4a-ac8e-7e2efa4781c1",
   "metadata": {
    "deletable": false,
    "editable": false,
    "nbgrader": {
     "cell_type": "code",
     "checksum": "888e365fc59ccc8ef8175932de07dc81",
     "grade": true,
     "grade_id": "cell-f8e268ebc7896dc9",
     "locked": true,
     "points": 3,
     "schema_version": 3,
     "solution": false,
     "task": false
    },
    "tags": []
   },
   "outputs": [],
   "source": []
  },
  {
   "cell_type": "markdown",
   "id": "87fb7b90",
   "metadata": {
    "deletable": false,
    "editable": false,
    "nbgrader": {
     "cell_type": "markdown",
     "checksum": "0ed6babe8fed7689fc686d2d454a949c",
     "grade": false,
     "grade_id": "cell-c779d433119d8b02",
     "locked": true,
     "schema_version": 3,
     "solution": false,
     "task": false
    },
    "tags": []
   },
   "source": [
    "<a id='T3'></a>\n",
    "<div class=\" alert alert-warning\">\n",
    "    <h3><b>Student Task 3.</b> Investigating Initial Values (10 points) </h3> \n",
    "\n",
    "Set $\\epsilon$ to zero, effectively making the policy greedy w.r.t. current Q-value estimates. Run the training again while\n",
    "1) keeping the initial estimates of the Q function at 0,\n",
    "2) setting the initial estimates of the Q function to 50 for all states and actions.\n",
    "\n",
    "You can change the initial Q value estimates by passing ```initial_q=<value>``` in the following cells. \n",
    "\n",
    "**Attach training performance plots of both initializations in your report.**\n",
    "\n",
    "🔝\t<a href='#TOC'><b>Table of Contents</b></a>\n",
    "</div>\n"
   ]
  },
  {
   "cell_type": "code",
   "execution_count": 18,
   "id": "39cf3dd6",
   "metadata": {
    "tags": []
   },
   "outputs": [
    {
     "name": "stdout",
     "output_type": "stream",
     "text": [
      "Numpy/Torch/Random Seed:  408\n",
      "{'episode': 0, 'epsilon': 0, 'ep_reward': 9.0, 'timesteps': 9, 'ep_reward_avg': 9.0}\n",
      "{'episode': 500, 'epsilon': 0, 'ep_reward': 10.0, 'timesteps': 10, 'ep_reward_avg': 9.328}\n",
      "{'episode': 1000, 'epsilon': 0, 'ep_reward': 10.0, 'timesteps': 10, 'ep_reward_avg': 9.42}\n",
      "{'episode': 1500, 'epsilon': 0, 'ep_reward': 9.0, 'timesteps': 9, 'ep_reward_avg': 9.364}\n",
      "{'episode': 2000, 'epsilon': 0, 'ep_reward': 9.0, 'timesteps': 9, 'ep_reward_avg': 9.352}\n",
      "{'episode': 2500, 'epsilon': 0, 'ep_reward': 10.0, 'timesteps': 10, 'ep_reward_avg': 9.31}\n",
      "{'episode': 3000, 'epsilon': 0, 'ep_reward': 9.0, 'timesteps': 9, 'ep_reward_avg': 9.36}\n",
      "{'episode': 3500, 'epsilon': 0, 'ep_reward': 10.0, 'timesteps': 10, 'ep_reward_avg': 9.334}\n",
      "{'episode': 4000, 'epsilon': 0, 'ep_reward': 8.0, 'timesteps': 8, 'ep_reward_avg': 9.386}\n",
      "{'episode': 4500, 'epsilon': 0, 'ep_reward': 8.0, 'timesteps': 8, 'ep_reward_avg': 9.376}\n",
      "{'episode': 5000, 'epsilon': 0, 'ep_reward': 9.0, 'timesteps': 9, 'ep_reward_avg': 9.298}\n",
      "{'episode': 5500, 'epsilon': 0, 'ep_reward': 8.0, 'timesteps': 8, 'ep_reward_avg': 9.314}\n",
      "{'episode': 6000, 'epsilon': 0, 'ep_reward': 10.0, 'timesteps': 10, 'ep_reward_avg': 9.324}\n",
      "{'episode': 6500, 'epsilon': 0, 'ep_reward': 9.0, 'timesteps': 9, 'ep_reward_avg': 9.324}\n",
      "{'episode': 7000, 'epsilon': 0, 'ep_reward': 8.0, 'timesteps': 8, 'ep_reward_avg': 9.36}\n",
      "{'episode': 7500, 'epsilon': 0, 'ep_reward': 10.0, 'timesteps': 10, 'ep_reward_avg': 9.332}\n",
      "{'episode': 8000, 'epsilon': 0, 'ep_reward': 9.0, 'timesteps': 9, 'ep_reward_avg': 9.342}\n",
      "{'episode': 8500, 'epsilon': 0, 'ep_reward': 9.0, 'timesteps': 9, 'ep_reward_avg': 9.33}\n",
      "{'episode': 9000, 'epsilon': 0, 'ep_reward': 10.0, 'timesteps': 10, 'ep_reward_avg': 9.382}\n",
      "{'episode': 9500, 'epsilon': 0, 'ep_reward': 9.0, 'timesteps': 9, 'ep_reward_avg': 9.376}\n",
      "{'episode': 10000, 'epsilon': 0, 'ep_reward': 8.0, 'timesteps': 8, 'ep_reward_avg': 9.37}\n",
      "{'episode': 10500, 'epsilon': 0, 'ep_reward': 10.0, 'timesteps': 10, 'ep_reward_avg': 9.39}\n",
      "{'episode': 11000, 'epsilon': 0, 'ep_reward': 10.0, 'timesteps': 10, 'ep_reward_avg': 9.372}\n",
      "{'episode': 11500, 'epsilon': 0, 'ep_reward': 10.0, 'timesteps': 10, 'ep_reward_avg': 9.364}\n",
      "{'episode': 12000, 'epsilon': 0, 'ep_reward': 10.0, 'timesteps': 10, 'ep_reward_avg': 9.39}\n",
      "{'episode': 12500, 'epsilon': 0, 'ep_reward': 9.0, 'timesteps': 9, 'ep_reward_avg': 9.366}\n",
      "{'episode': 13000, 'epsilon': 0, 'ep_reward': 10.0, 'timesteps': 10, 'ep_reward_avg': 9.356}\n",
      "{'episode': 13500, 'epsilon': 0, 'ep_reward': 9.0, 'timesteps': 9, 'ep_reward_avg': 9.35}\n",
      "{'episode': 14000, 'epsilon': 0, 'ep_reward': 10.0, 'timesteps': 10, 'ep_reward_avg': 9.312}\n",
      "{'episode': 14500, 'epsilon': 0, 'ep_reward': 10.0, 'timesteps': 10, 'ep_reward_avg': 9.328}\n",
      "{'episode': 15000, 'epsilon': 0, 'ep_reward': 10.0, 'timesteps': 10, 'ep_reward_avg': 9.356}\n",
      "{'episode': 15500, 'epsilon': 0, 'ep_reward': 10.0, 'timesteps': 10, 'ep_reward_avg': 9.362}\n",
      "{'episode': 16000, 'epsilon': 0, 'ep_reward': 8.0, 'timesteps': 8, 'ep_reward_avg': 9.324}\n",
      "{'episode': 16500, 'epsilon': 0, 'ep_reward': 10.0, 'timesteps': 10, 'ep_reward_avg': 9.396}\n",
      "{'episode': 17000, 'epsilon': 0, 'ep_reward': 10.0, 'timesteps': 10, 'ep_reward_avg': 9.354}\n",
      "{'episode': 17500, 'epsilon': 0, 'ep_reward': 9.0, 'timesteps': 9, 'ep_reward_avg': 9.35}\n",
      "{'episode': 18000, 'epsilon': 0, 'ep_reward': 9.0, 'timesteps': 9, 'ep_reward_avg': 9.298}\n",
      "{'episode': 18500, 'epsilon': 0, 'ep_reward': 10.0, 'timesteps': 10, 'ep_reward_avg': 9.45}\n",
      "{'episode': 19000, 'epsilon': 0, 'ep_reward': 9.0, 'timesteps': 9, 'ep_reward_avg': 9.38}\n",
      "{'episode': 19500, 'epsilon': 0, 'ep_reward': 9.0, 'timesteps': 9, 'ep_reward_avg': 9.288}\n",
      "{'episode': 20000, 'epsilon': 0, 'ep_reward': 9.0, 'timesteps': 9, 'ep_reward_avg': 9.316}\n"
     ]
    },
    {
     "data": {
      "image/png": "[encoded data removed]",
      "text/plain": [
       "<Figure size 500x350 with 1 Axes>"
      ]
     },
     "metadata": {},
     "output_type": "display_data"
    },
    {
     "name": "stdout",
     "output_type": "stream",
     "text": [
      "Training done!\n"
     ]
    }
   ],
   "source": [
    "# Initialize the Q function with a value of 0 and begin training\n",
    "if not skip_training:\n",
    "    cfg_args=dict(epsilon=0, initial_q=0, task_no='task3.1') # set the initial estimates of the Q function to 0\n",
    "    train(cfg_path=Path().cwd()/'cfg'/'cartpole_v1.yaml', cfg_args=cfg_args)"
   ]
  },
  {
   "cell_type": "code",
   "execution_count": 19,
   "id": "ee238f34",
   "metadata": {
    "tags": []
   },
   "outputs": [
    {
     "data": {
      "image/png": "[encoded data removed]",
      "text/plain": [
       "<Figure size 640x480 with 2 Axes>"
      ]
     },
     "metadata": {},
     "output_type": "display_data"
    }
   ],
   "source": [
    "# Visual display of the heatmap of the value function\n",
    "if not skip_training:\n",
    "    display_heatmap_vf('CartPole-v1', 'task3.1_q_table_e.pkl')"
   ]
  },
  {
   "cell_type": "code",
   "execution_count": 20,
   "id": "3cc746ac",
   "metadata": {
    "tags": []
   },
   "outputs": [
    {
     "name": "stdout",
     "output_type": "stream",
     "text": [
      "Numpy/Torch/Random Seed:  408\n",
      "{'episode': 0, 'epsilon': 0, 'ep_reward': 8.0, 'timesteps': 8, 'ep_reward_avg': 8.0}\n",
      "{'episode': 500, 'epsilon': 0, 'ep_reward': 15.0, 'timesteps': 15, 'ep_reward_avg': 111.738}\n",
      "{'episode': 1000, 'epsilon': 0, 'ep_reward': 352.0, 'timesteps': 352, 'ep_reward_avg': 251.622}\n",
      "{'episode': 1500, 'epsilon': 0, 'ep_reward': 351.0, 'timesteps': 351, 'ep_reward_avg': 253.768}\n",
      "{'episode': 2000, 'epsilon': 0, 'ep_reward': 166.0, 'timesteps': 166, 'ep_reward_avg': 214.332}\n",
      "{'episode': 2500, 'epsilon': 0, 'ep_reward': 500.0, 'timesteps': 500, 'ep_reward_avg': 368.008}\n",
      "{'episode': 3000, 'epsilon': 0, 'ep_reward': 500.0, 'timesteps': 500, 'ep_reward_avg': 473.468}\n",
      "{'episode': 3500, 'epsilon': 0, 'ep_reward': 500.0, 'timesteps': 500, 'ep_reward_avg': 481.918}\n",
      "{'episode': 4000, 'epsilon': 0, 'ep_reward': 500.0, 'timesteps': 500, 'ep_reward_avg': 497.416}\n",
      "{'episode': 4500, 'epsilon': 0, 'ep_reward': 500.0, 'timesteps': 500, 'ep_reward_avg': 499.614}\n",
      "{'episode': 5000, 'epsilon': 0, 'ep_reward': 500.0, 'timesteps': 500, 'ep_reward_avg': 499.542}\n",
      "{'episode': 5500, 'epsilon': 0, 'ep_reward': 500.0, 'timesteps': 500, 'ep_reward_avg': 499.616}\n",
      "{'episode': 6000, 'epsilon': 0, 'ep_reward': 500.0, 'timesteps': 500, 'ep_reward_avg': 499.236}\n",
      "{'episode': 6500, 'epsilon': 0, 'ep_reward': 500.0, 'timesteps': 500, 'ep_reward_avg': 499.512}\n",
      "{'episode': 7000, 'epsilon': 0, 'ep_reward': 500.0, 'timesteps': 500, 'ep_reward_avg': 498.474}\n",
      "{'episode': 7500, 'epsilon': 0, 'ep_reward': 500.0, 'timesteps': 500, 'ep_reward_avg': 498.884}\n",
      "{'episode': 8000, 'epsilon': 0, 'ep_reward': 500.0, 'timesteps': 500, 'ep_reward_avg': 497.978}\n",
      "{'episode': 8500, 'epsilon': 0, 'ep_reward': 500.0, 'timesteps': 500, 'ep_reward_avg': 498.914}\n",
      "{'episode': 9000, 'epsilon': 0, 'ep_reward': 500.0, 'timesteps': 500, 'ep_reward_avg': 499.538}\n",
      "{'episode': 9500, 'epsilon': 0, 'ep_reward': 500.0, 'timesteps': 500, 'ep_reward_avg': 499.582}\n",
      "{'episode': 10000, 'epsilon': 0, 'ep_reward': 500.0, 'timesteps': 500, 'ep_reward_avg': 499.568}\n",
      "{'episode': 10500, 'epsilon': 0, 'ep_reward': 500.0, 'timesteps': 500, 'ep_reward_avg': 500.0}\n",
      "{'episode': 11000, 'epsilon': 0, 'ep_reward': 500.0, 'timesteps': 500, 'ep_reward_avg': 500.0}\n",
      "{'episode': 11500, 'epsilon': 0, 'ep_reward': 500.0, 'timesteps': 500, 'ep_reward_avg': 499.652}\n",
      "{'episode': 12000, 'epsilon': 0, 'ep_reward': 500.0, 'timesteps': 500, 'ep_reward_avg': 500.0}\n",
      "{'episode': 12500, 'epsilon': 0, 'ep_reward': 500.0, 'timesteps': 500, 'ep_reward_avg': 500.0}\n",
      "{'episode': 13000, 'epsilon': 0, 'ep_reward': 500.0, 'timesteps': 500, 'ep_reward_avg': 499.592}\n",
      "{'episode': 13500, 'epsilon': 0, 'ep_reward': 500.0, 'timesteps': 500, 'ep_reward_avg': 500.0}\n",
      "{'episode': 14000, 'epsilon': 0, 'ep_reward': 500.0, 'timesteps': 500, 'ep_reward_avg': 499.332}\n",
      "{'episode': 14500, 'epsilon': 0, 'ep_reward': 500.0, 'timesteps': 500, 'ep_reward_avg': 499.042}\n",
      "{'episode': 15000, 'epsilon': 0, 'ep_reward': 500.0, 'timesteps': 500, 'ep_reward_avg': 499.704}\n",
      "{'episode': 15500, 'epsilon': 0, 'ep_reward': 500.0, 'timesteps': 500, 'ep_reward_avg': 499.44}\n",
      "{'episode': 16000, 'epsilon': 0, 'ep_reward': 500.0, 'timesteps': 500, 'ep_reward_avg': 499.242}\n",
      "{'episode': 16500, 'epsilon': 0, 'ep_reward': 500.0, 'timesteps': 500, 'ep_reward_avg': 499.148}\n",
      "{'episode': 17000, 'epsilon': 0, 'ep_reward': 500.0, 'timesteps': 500, 'ep_reward_avg': 499.686}\n",
      "{'episode': 17500, 'epsilon': 0, 'ep_reward': 500.0, 'timesteps': 500, 'ep_reward_avg': 499.982}\n",
      "{'episode': 18000, 'epsilon': 0, 'ep_reward': 500.0, 'timesteps': 500, 'ep_reward_avg': 499.534}\n",
      "{'episode': 18500, 'epsilon': 0, 'ep_reward': 500.0, 'timesteps': 500, 'ep_reward_avg': 500.0}\n",
      "{'episode': 19000, 'epsilon': 0, 'ep_reward': 500.0, 'timesteps': 500, 'ep_reward_avg': 499.618}\n",
      "{'episode': 19500, 'epsilon': 0, 'ep_reward': 500.0, 'timesteps': 500, 'ep_reward_avg': 498.722}\n",
      "{'episode': 20000, 'epsilon': 0, 'ep_reward': 500.0, 'timesteps': 500, 'ep_reward_avg': 500.0}\n"
     ]
    },
    {
     "data": {
      "image/png": "[encoded data removed]",
      "text/plain": [
       "<Figure size 500x350 with 1 Axes>"
      ]
     },
     "metadata": {},
     "output_type": "display_data"
    },
    {
     "name": "stdout",
     "output_type": "stream",
     "text": [
      "Training done!\n"
     ]
    }
   ],
   "source": [
    "# Initialize the Q function with a value of 50 and begin training\n",
    "if not skip_training:\n",
    "    cfg_args=dict(epsilon=0, initial_q=50,task_no='task3.2') # set the initial estimates of the Q function to 50\n",
    "    train(cfg_path=Path().cwd()/'cfg'/'cartpole_v1.yaml', cfg_args=cfg_args)"
   ]
  },
  {
   "cell_type": "code",
   "execution_count": 21,
   "id": "d9ed3aaf",
   "metadata": {
    "tags": []
   },
   "outputs": [
    {
     "data": {
      "image/png": "[encoded data removed]",
      "text/plain": [
       "<Figure size 640x480 with 2 Axes>"
      ]
     },
     "metadata": {},
     "output_type": "display_data"
    }
   ],
   "source": [
    "# Visual display of the heatmap of the value function\n",
    "display_heatmap_vf('CartPole-v1', 'task3.2_q_table_e.pkl')"
   ]
  },
  {
   "cell_type": "code",
   "execution_count": null,
   "id": "09514150",
   "metadata": {
    "deletable": false,
    "editable": false,
    "nbgrader": {
     "cell_type": "code",
     "checksum": "f9ab1fd48e4583a37a4c80bea1298d51",
     "grade": true,
     "grade_id": "cell-f3641856fbc277ec",
     "locked": true,
     "points": 5,
     "schema_version": 3,
     "solution": false,
     "task": false
    }
   },
   "outputs": [],
   "source": []
  },
  {
   "cell_type": "code",
   "execution_count": null,
   "id": "35d54874-22c9-4367-a262-10399f81c0a2",
   "metadata": {
    "deletable": false,
    "editable": false,
    "nbgrader": {
     "cell_type": "code",
     "checksum": "620e26ec411953c00ef7617e63c34d79",
     "grade": true,
     "grade_id": "cell-1f7e70d287bd137d",
     "locked": true,
     "points": 5,
     "schema_version": 3,
     "solution": false,
     "task": false
    }
   },
   "outputs": [],
   "source": []
  },
  {
   "cell_type": "markdown",
   "id": "fbea9f8b",
   "metadata": {
    "deletable": false,
    "editable": false,
    "nbgrader": {
     "cell_type": "markdown",
     "checksum": "43adf752f5f23c243131934494ef1036",
     "grade": false,
     "grade_id": "cell-fb0ef3d88859dc85",
     "locked": true,
     "schema_version": 3,
     "solution": false,
     "task": false
    },
    "tags": []
   },
   "source": [
    "Based on the results you observed in Task 3, answer the following questions:"
   ]
  },
  {
   "cell_type": "markdown",
   "id": "2f97da87",
   "metadata": {
    "deletable": false,
    "editable": false,
    "nbgrader": {
     "cell_type": "markdown",
     "checksum": "8f9822fbf1a56fd63b9d1927e845b30d",
     "grade": false,
     "grade_id": "cell-7769c407f3a50628",
     "locked": true,
     "schema_version": 3,
     "solution": false,
     "task": false
    },
    "tags": []
   },
   "source": [
    "<a id='Q2'></a>\n",
    "<div class=\" alert alert-warning\">\n",
    "    <h3><b>Student Question 3.1</b> Analyzing Initial Values (5 points) </h3> \n",
    "\n",
    "In which case does the model perform better?\n",
    "    \n",
    "🔝\t<a href='#TOC'><b>Table of Contents</b></a>\n",
    "</div>\n"
   ]
  },
  {
   "cell_type": "markdown",
   "id": "a0b4827d-c6c2-41de-a652-a5440959c144",
   "metadata": {
    "deletable": false,
    "editable": false,
    "nbgrader": {
     "cell_type": "markdown",
     "checksum": "354771ebcdb9915ff4dc70176892b1a4",
     "grade": false,
     "grade_id": "cell-519c04dfa86099ee",
     "locked": true,
     "schema_version": 3,
     "solution": false,
     "task": false
    },
    "tags": []
   },
   "source": [
    "Options: **Choose only one**\n",
    "1. The model performs better with initial Q-values of 0\n",
    "2. The model performs better with initial Q-values of 50"
   ]
  },
  {
   "cell_type": "code",
   "execution_count": 22,
   "id": "bd6d3838-9cd4-42f3-87b3-dbe8683ffcaf",
   "metadata": {},
   "outputs": [],
   "source": [
    "# Answer question 3.1 with appropriate option number\n",
    "sq3_1 = 2"
   ]
  },
  {
   "cell_type": "markdown",
   "id": "38fcbcf9",
   "metadata": {
    "deletable": false,
    "editable": false,
    "nbgrader": {
     "cell_type": "markdown",
     "checksum": "aa28e6272b0a93cc6809b6dab8b27c55",
     "grade": false,
     "grade_id": "cell-b3ee495d57962ef2",
     "locked": true,
     "schema_version": 3,
     "solution": false,
     "task": false
    },
    "tags": []
   },
   "source": [
    "This and following cells are used for grading."
   ]
  },
  {
   "cell_type": "code",
   "execution_count": 23,
   "id": "1f2deb0c-5e00-4ff0-bd34-85958ec29603",
   "metadata": {
    "deletable": false,
    "editable": false,
    "nbgrader": {
     "cell_type": "code",
     "checksum": "1e0498d350e6b03c0f6e60feaf7ba2c6",
     "grade": true,
     "grade_id": "cell-27c0a98fb49daec6",
     "locked": true,
     "points": 0,
     "schema_version": 3,
     "solution": false,
     "task": false
    },
    "tags": []
   },
   "outputs": [],
   "source": [
    "assert sq3_1 in (1, 2)"
   ]
  },
  {
   "cell_type": "code",
   "execution_count": null,
   "id": "477baea1-305d-45bd-bec8-a7f835d161e1",
   "metadata": {
    "deletable": false,
    "editable": false,
    "nbgrader": {
     "cell_type": "code",
     "checksum": "863d7d0b3a33ad730759604d6b547520",
     "grade": true,
     "grade_id": "cell-eb14719e4d62f7a8",
     "locked": true,
     "points": 5,
     "schema_version": 3,
     "solution": false,
     "task": false
    },
    "tags": []
   },
   "outputs": [],
   "source": []
  },
  {
   "cell_type": "markdown",
   "id": "9a200626",
   "metadata": {
    "deletable": false,
    "editable": false,
    "nbgrader": {
     "cell_type": "markdown",
     "checksum": "e6aa182ce0418396cf899243220d6187",
     "grade": false,
     "grade_id": "cell-8884a770b0a05023",
     "locked": true,
     "schema_version": 3,
     "solution": false,
     "task": false
    },
    "tags": []
   },
   "source": [
    "<a id='Q3'></a>\n",
    "<div class=\" alert alert-warning\">\n",
    "    <h3><b>Student Question 3.2</b> Exploration (15 points) </h3> \n",
    "\n",
    "Why is this the case, and how does the initialization of Q values affect exploration?\n",
    "    \n",
    "🔝\t<a href='#TOC'><b>Table of Contents</b></a>\n",
    "</div>\n"
   ]
  },
  {
   "cell_type": "markdown",
   "id": "716ab4d0-19a3-40d2-a7ca-22d8fee27300",
   "metadata": {
    "deletable": false,
    "editable": false,
    "nbgrader": {
     "cell_type": "markdown",
     "checksum": "afa2b737703f6a83218da809291ec2bd",
     "grade": false,
     "grade_id": "cell-605ea63c68c5b2c9",
     "locked": true,
     "schema_version": 3,
     "solution": false,
     "task": false
    },
    "tags": []
   },
   "source": [
    "Select *all* correct options. Select **at most** 5 options, or you will lose **all** points\n",
    "\n",
    "Options\n",
    "\n",
    "1. Higher initial Q-values encourage exploration by making unexplored actions seem more attractive.\n",
    "2. Q-values of 0 make the agent indifferent to all actions initially, leading to diverse exploration.\n",
    "3. Initializing Q-values to 50 creates an \"optimistic\" prior that encourages trying new actions.\n",
    "4. Q-values of 0 promote exploration because the agent needs to try all actions to differentiate their values.\n",
    "5. Higher initial Q-values allow the agent to overcome local optima more easily.\n",
    "6. Initializing to 0 encourages exploration as the agent is more willing to try actions with unknown outcomes.\n",
    "7. Q-values of 0 cause the agent to be overly cautious, avoiding potentially risky but rewarding actions.\n",
    "8. Higher initial Q-values compensate for the lack of explicit exploration in a greedy policy.\n",
    "9. Initializing to 0 promotes a \"blank slate\" approach, allowing the agent to explore without bias.\n",
    "10. With Q-values initialized to 0, the agent tends to stick with the first action it tries due to non-negative rewards.\n",
    "\n"
   ]
  },
  {
   "cell_type": "code",
   "execution_count": 24,
   "id": "b02135a3-4830-465c-980c-b4be3e04f13d",
   "metadata": {},
   "outputs": [],
   "source": [
    "# Answer question 3.2 with appropriate option numbers\n",
    "sq3_2 = [1, 3, 5, 8, 9]"
   ]
  },
  {
   "cell_type": "markdown",
   "id": "05b77508",
   "metadata": {
    "deletable": false,
    "editable": false,
    "nbgrader": {
     "cell_type": "markdown",
     "checksum": "21e57df34ff7d38bf6ff8b3ebef1bd6c",
     "grade": false,
     "grade_id": "cell-926f5ebbd45e13dd",
     "locked": true,
     "schema_version": 3,
     "solution": false,
     "task": false
    },
    "tags": []
   },
   "source": [
    "This and following cells are used for grading."
   ]
  },
  {
   "cell_type": "code",
   "execution_count": 25,
   "id": "9bd4f684-c278-481f-893f-bed40304e5e9",
   "metadata": {
    "deletable": false,
    "editable": false,
    "nbgrader": {
     "cell_type": "code",
     "checksum": "09aa16ffba08fcca7ff2397773e396e4",
     "grade": true,
     "grade_id": "cell-f74f34215be390f7",
     "locked": true,
     "points": 0,
     "schema_version": 3,
     "solution": false,
     "task": false
    },
    "tags": []
   },
   "outputs": [],
   "source": [
    "assert 1 <= len(sq3_2) <= 5\n",
    "assert max(sq3_2) <= 10"
   ]
  },
  {
   "cell_type": "code",
   "execution_count": null,
   "id": "70c2cfbb-5442-4500-8eb9-50a9dc498093",
   "metadata": {
    "deletable": false,
    "editable": false,
    "nbgrader": {
     "cell_type": "code",
     "checksum": "4c2ec55f6e4d6b9b5a04afff89138077",
     "grade": true,
     "grade_id": "cell-409541b588829a7d",
     "locked": true,
     "points": 4,
     "schema_version": 3,
     "solution": false,
     "task": false
    },
    "tags": []
   },
   "outputs": [],
   "source": []
  },
  {
   "cell_type": "code",
   "execution_count": null,
   "id": "634cfdb8-0b54-4e2e-9ca7-67d4e1d66ff0",
   "metadata": {
    "deletable": false,
    "editable": false,
    "nbgrader": {
     "cell_type": "code",
     "checksum": "7a05ee45b491c1c60653d6002f4b0e3d",
     "grade": true,
     "grade_id": "cell-c7dfe60e748bfaa5",
     "locked": true,
     "points": 4,
     "schema_version": 3,
     "solution": false,
     "task": false
    },
    "tags": []
   },
   "outputs": [],
   "source": []
  },
  {
   "cell_type": "code",
   "execution_count": null,
   "id": "75d303b9-5bc5-4698-a856-75c2abc50ede",
   "metadata": {
    "deletable": false,
    "editable": false,
    "nbgrader": {
     "cell_type": "code",
     "checksum": "3016ae2dc130d2b568a3248455fb562c",
     "grade": true,
     "grade_id": "cell-2f8cbb8be3f63150",
     "locked": true,
     "points": 4,
     "schema_version": 3,
     "solution": false,
     "task": false
    },
    "tags": []
   },
   "outputs": [],
   "source": []
  },
  {
   "cell_type": "code",
   "execution_count": null,
   "id": "121fb0e9-93d6-4d46-87a7-e7c4725d304d",
   "metadata": {
    "deletable": false,
    "editable": false,
    "nbgrader": {
     "cell_type": "code",
     "checksum": "4b3ad3fa4f6dd9419a479ece03fef846",
     "grade": true,
     "grade_id": "cell-598b63c886d8faf0",
     "locked": true,
     "points": 3,
     "schema_version": 3,
     "solution": false,
     "task": false
    },
    "tags": []
   },
   "outputs": [],
   "source": []
  },
  {
   "cell_type": "markdown",
   "id": "6176d62f",
   "metadata": {
    "deletable": false,
    "editable": false,
    "nbgrader": {
     "cell_type": "markdown",
     "checksum": "cebaca39f2d792d715901612cd04a3e4",
     "grade": false,
     "grade_id": "cell-b3915d3ec750dbcd",
     "locked": true,
     "schema_version": 3,
     "solution": false,
     "task": false
    },
    "tags": []
   },
   "source": [
    "# 3. Lunar lander <a id='3.'></a>"
   ]
  },
  {
   "cell_type": "markdown",
   "id": "95724c44",
   "metadata": {
    "deletable": false,
    "editable": false,
    "nbgrader": {
     "cell_type": "markdown",
     "checksum": "dd737602bb706e30df3df0d745a53fd3",
     "grade": false,
     "grade_id": "cell-5179eb4489994c45",
     "locked": true,
     "schema_version": 3,
     "solution": false,
     "task": false
    },
    "tags": []
   },
   "source": [
    "<figure style=\"text-align: center\">\n",
    "<img src=\"imgs/lunar_lander.png\" width=\"600px\">\n",
    "<figcaption style=\"text-align: center\"> Figure 2: The Lunar lander environment. </figcaption>\n",
    "</figure>\n",
    "\n",
    "The ***Lunar lander*** environment is shown in Figure 2. The goal is to make the lunar lander land on the ground between two flag poles. The agent receives a positive reward for moving towards the landing pad, landing, etc. A negative reward is given for firing the main engine (more fuel-efficient policies are better) and for crashing. Four actions are available: firing the left/right/main engines, or doing nothing (free fall). The observation vector consists of 6 continuous and 2 discrete values:\n",
    "\n",
    "$$\n",
    "o=\\left(\\begin{array}{llllllll}\n",
    "x & y & \\dot{x} & \\dot{y} & \\theta & \\dot{\\theta} & c_l & c_r\n",
    "\\end{array}\\right)^T,\n",
    "$$\n",
    "\n",
    "where $x$ and $y$ are the coordinates of the lander, $\\dot{x}$ and $\\dot{y}$ its velocities, $\\theta$ represents the rotation angle and $\\dot{\\theta}$ the angular velocity of the lander. Two discrete values $c_l$ and $c_r$  indicate whether the lander’s legs are in contact with the ground (0 or 1).\n"
   ]
  },
  {
   "cell_type": "markdown",
   "id": "3636f10e",
   "metadata": {
    "deletable": false,
    "editable": false,
    "nbgrader": {
     "cell_type": "markdown",
     "checksum": "441db32fe0877b8535c2e9a5fec31cc0",
     "grade": false,
     "grade_id": "cell-ca35aad51d60b334",
     "locked": true,
     "schema_version": 3,
     "solution": false,
     "task": false
    },
    "tags": []
   },
   "source": [
    "<a id='T4'></a>\n",
    "<div class=\" alert alert-warning\">\n",
    "    <h3><b>Student Task 4.</b> Using Q-Learning on the Lunar Lander Environment (5 points) </h3> \n",
    "\n",
    "Run the training for Lunar Lander environment by executing cell ```Training on the Lunar Lander Environment```. Run it for 20000 episodes (which was enough for the Cartpole to learn). **Attach the training performance plot in your submission.**\n",
    "\n",
    "**Heads Up:** The generated file `task4_q_table.pkl` is sizeable, approximately 2 GB. Ensure you **delete** it before submitting. But do not delete the `task4__glie.png` file.\n",
    "    \n",
    "🔝\t<a href='#TOC'><b>Table of Contents</b></a>\n",
    "</div>\n"
   ]
  },
  {
   "cell_type": "code",
   "execution_count": 26,
   "id": "ec43485e",
   "metadata": {
    "tags": []
   },
   "outputs": [
    {
     "name": "stdout",
     "output_type": "stream",
     "text": [
      "Numpy/Torch/Random Seed:  408\n",
      "{'episode': 0, 'epsilon': 1.0, 'ep_reward': -252.2712334137435, 'timesteps': 106, 'ep_reward_avg': -252.2712334137435}\n",
      "{'episode': 500, 'epsilon': 0.8163115356355621, 'ep_reward': -206.89329097573918, 'timesteps': 164, 'ep_reward_avg': -147.61217064429107}\n",
      "{'episode': 1000, 'epsilon': 0.6896337678460583, 'ep_reward': -65.65136499933428, 'timesteps': 139, 'ep_reward_avg': -110.54293488435235}\n",
      "{'episode': 1500, 'epsilon': 0.5969908651262762, 'ep_reward': -115.41878870097982, 'timesteps': 80, 'ep_reward_avg': -96.26797473681903}\n",
      "{'episode': 2000, 'epsilon': 0.5262908574135481, 'ep_reward': -30.65894614238225, 'timesteps': 200, 'ep_reward_avg': -86.82810763170836}\n",
      "{'episode': 2500, 'epsilon': 0.470563320626853, 'ep_reward': -99.21671241618316, 'timesteps': 93, 'ep_reward_avg': -79.66418962568376}\n",
      "{'episode': 3000, 'epsilon': 0.42550746840291076, 'ep_reward': -82.98401994556924, 'timesteps': 171, 'ep_reward_avg': -79.275505047976}\n",
      "{'episode': 3500, 'epsilon': 0.388325760223698, 'ep_reward': 98.16084311911594, 'timesteps': 1000, 'ep_reward_avg': -88.45730269767647}\n",
      "{'episode': 4000, 'epsilon': 0.3571198971391835, 'ep_reward': 7.262106034687093, 'timesteps': 216, 'ep_reward_avg': -96.93470064752813}\n",
      "{'episode': 4500, 'epsilon': 0.330556382029158, 'ep_reward': -40.78626686319375, 'timesteps': 319, 'ep_reward_avg': -104.23819727795438}\n",
      "{'episode': 5000, 'epsilon': 0.3076710052617004, 'ep_reward': 96.65867734110086, 'timesteps': 1000, 'ep_reward_avg': -109.09188117723228}\n",
      "{'episode': 5500, 'epsilon': 0.28774928774928776, 'ep_reward': -212.5356290325562, 'timesteps': 450, 'ep_reward_avg': -100.1415410202083}\n",
      "{'episode': 6000, 'epsilon': 0.27025054731208953, 'ep_reward': -66.18230118201811, 'timesteps': 131, 'ep_reward_avg': -112.25128515643752}\n",
      "{'episode': 6500, 'epsilon': 0.2547580830084843, 'ep_reward': -330.4567809648304, 'timesteps': 157, 'ep_reward_avg': -107.49147407377006}\n",
      "{'episode': 7000, 'epsilon': 0.24094556495337238, 'ep_reward': -182.26532234950065, 'timesteps': 204, 'ep_reward_avg': -103.60775285391469}\n",
      "{'episode': 7500, 'epsilon': 0.22855379551532606, 'ep_reward': -303.7421282316791, 'timesteps': 146, 'ep_reward_avg': -104.57026335961733}\n",
      "{'episode': 8000, 'epsilon': 0.21737429074545098, 'ep_reward': -179.4463947782897, 'timesteps': 216, 'ep_reward_avg': -120.61995972277616}\n",
      "{'episode': 8500, 'epsilon': 0.2072374556985637, 'ep_reward': -215.53348642670312, 'timesteps': 194, 'ep_reward_avg': -103.8183762269844}\n",
      "{'episode': 9000, 'epsilon': 0.19800392086972018, 'ep_reward': -131.09957961925818, 'timesteps': 152, 'ep_reward_avg': -122.34767444486786}\n",
      "{'episode': 9500, 'epsilon': 0.1895580958880737, 'ep_reward': -78.47664252266306, 'timesteps': 114, 'ep_reward_avg': -110.01690534762984}\n",
      "{'episode': 10000, 'epsilon': 0.1818033055146457, 'ep_reward': -3.5035778598468426, 'timesteps': 470, 'ep_reward_avg': -99.1729360678405}\n",
      "{'episode': 10500, 'epsilon': 0.17465807263008962, 'ep_reward': -29.08930705365647, 'timesteps': 218, 'ep_reward_avg': -122.7444442902185}\n",
      "{'episode': 11000, 'epsilon': 0.16805324459234608, 'ep_reward': -212.26713357611027, 'timesteps': 228, 'ep_reward_avg': -118.79180605327639}\n",
      "{'episode': 11500, 'epsilon': 0.16192974785016762, 'ep_reward': -177.61432783613145, 'timesteps': 418, 'ep_reward_avg': -114.19260480580982}\n",
      "{'episode': 12000, 'epsilon': 0.15623681620025312, 'ep_reward': -256.0085445473291, 'timesteps': 314, 'ep_reward_avg': -114.67745869296776}\n",
      "{'episode': 12500, 'epsilon': 0.1509305800842277, 'ep_reward': -154.90300462549575, 'timesteps': 118, 'ep_reward_avg': -113.22203894812286}\n",
      "{'episode': 13000, 'epsilon': 0.14597293391144398, 'ep_reward': -18.38880786673117, 'timesteps': 294, 'ep_reward_avg': -114.64974875362128}\n",
      "{'episode': 13500, 'epsilon': 0.14133061951405673, 'ep_reward': -131.27459648000843, 'timesteps': 238, 'ep_reward_avg': -100.33072059893145}\n",
      "{'episode': 14000, 'epsilon': 0.13697447910245344, 'ep_reward': -96.57730487888, 'timesteps': 151, 'ep_reward_avg': -107.51129165341612}\n",
      "{'episode': 14500, 'epsilon': 0.13287884224375074, 'ep_reward': -123.55176369792099, 'timesteps': 139, 'ep_reward_avg': -113.82941728581497}\n",
      "{'episode': 15000, 'epsilon': 0.1290210196260597, 'ep_reward': -330.1646596060517, 'timesteps': 205, 'ep_reward_avg': -112.89434038803296}\n",
      "{'episode': 15500, 'epsilon': 0.12538088251890306, 'ep_reward': -41.411617868791225, 'timesteps': 78, 'ep_reward_avg': -103.16430051873573}\n",
      "{'episode': 16000, 'epsilon': 0.12194051146965207, 'ep_reward': -191.25929841863268, 'timesteps': 110, 'ep_reward_avg': -96.75927735866821}\n",
      "{'episode': 16500, 'epsilon': 0.11868390129259694, 'ep_reward': -70.26566809350824, 'timesteps': 199, 'ep_reward_avg': -105.28605470606993}\n",
      "{'episode': 17000, 'epsilon': 0.11559671210071792, 'ep_reward': -107.92640060156917, 'timesteps': 170, 'ep_reward_avg': -104.73532969306943}\n",
      "{'episode': 17500, 'epsilon': 0.11266605820910658, 'ep_reward': -73.42085506850691, 'timesteps': 127, 'ep_reward_avg': -90.6317616278243}\n",
      "{'episode': 18000, 'epsilon': 0.10988032835525666, 'ep_reward': -68.7532542341565, 'timesteps': 175, 'ep_reward_avg': -99.77684128116036}\n",
      "{'episode': 18500, 'epsilon': 0.10722903194672329, 'ep_reward': -92.6059210523738, 'timesteps': 151, 'ep_reward_avg': -112.54180281621846}\n",
      "{'episode': 19000, 'epsilon': 0.10470266704363397, 'ep_reward': -17.190496103653558, 'timesteps': 109, 'ep_reward_avg': -94.58185650848627}\n",
      "{'episode': 19500, 'epsilon': 0.1022926065739803, 'ep_reward': -98.3801430780252, 'timesteps': 656, 'ep_reward_avg': -98.42821024529763}\n",
      "{'episode': 20000, 'epsilon': 0.0999909999099991, 'ep_reward': -111.85787974613805, 'timesteps': 257, 'ep_reward_avg': -104.38599803062884}\n"
     ]
    },
    {
     "data": {
      "image/png": "[encoded data removed]",
      "text/plain": [
       "<Figure size 500x350 with 1 Axes>"
      ]
     },
     "metadata": {},
     "output_type": "display_data"
    },
    {
     "name": "stdout",
     "output_type": "stream",
     "text": [
      "Training done!\n"
     ]
    }
   ],
   "source": [
    "# Training on the Lunar Lander Environment\n",
    "if not skip_training:\n",
    "    cfg_args=dict(epsilon='glie', glie_b=2222, save_video=False, discr=12) # insert correct value for glie_b\n",
    "    train(cfg_path=Path().cwd()/'cfg'/'lunarlander_v2.yaml', cfg_args=cfg_args) # "
   ]
  },
  {
   "cell_type": "code",
   "execution_count": 27,
   "id": "d7d4481f",
   "metadata": {
    "tags": []
   },
   "outputs": [
    {
     "name": "stdout",
     "output_type": "stream",
     "text": [
      "Numpy/Torch/Random Seed:  408\n",
      "{'test_episode': 0, 'test_ep_reward': -277.93969662206064, 'timesteps': 245}\n",
      "{'test_episode': 1, 'test_ep_reward': -51.41033856336365, 'timesteps': 205}\n",
      "{'test_episode': 2, 'test_ep_reward': -40.62455934823261, 'timesteps': 163}\n",
      "{'test_episode': 3, 'test_ep_reward': -41.827595182964615, 'timesteps': 168}\n",
      "{'test_episode': 4, 'test_ep_reward': -40.09065256377727, 'timesteps': 198}\n",
      "Testing done!\n"
     ]
    }
   ],
   "source": [
    "if not skip_training:\n",
    "    cfg_args=dict(epsilon='glie', save_video=True, test_episodes=5)\n",
    "    test(cfg_path=Path().cwd()/'cfg'/'lunarlander_v2.yaml', cfg_args=cfg_args)"
   ]
  },
  {
   "cell_type": "code",
   "execution_count": 28,
   "id": "b2f33113",
   "metadata": {
    "tags": []
   },
   "outputs": [
    {
     "data": {
      "text/html": [
       "<video loop autoplay  >\n",
       " <source src=\"data:video/mp4;base64,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\" type=\"video/mp4\">\n",
       " Your browser does not support the video tag.\n",
       " </video>"
      ],
      "text/plain": [
       "<IPython.core.display.Video object>"
      ]
     },
     "metadata": {},
     "output_type": "display_data"
    }
   ],
   "source": [
    "if not skip_training:\n",
    "      video = Video(Path().cwd()/'results'/'LunarLander-v2'/'video'/'test'/'ex3-episode-4.mp4',\n",
    "      embed=True, html_attributes=\"loop autoplay\") # Set html_attributes=\"controls\" for video control\n",
    "      display(video)"
   ]
  },
  {
   "cell_type": "code",
   "execution_count": null,
   "id": "9ff0a252",
   "metadata": {
    "deletable": false,
    "editable": false,
    "nbgrader": {
     "cell_type": "code",
     "checksum": "650c9f3243d0a1d2956190dcf3759aa0",
     "grade": true,
     "grade_id": "cell-d29073ccaa4d44b2",
     "locked": true,
     "points": 5,
     "schema_version": 3,
     "solution": false,
     "task": false
    }
   },
   "outputs": [],
   "source": []
  },
  {
   "cell_type": "markdown",
   "id": "39cd6a58",
   "metadata": {
    "deletable": false,
    "editable": false,
    "nbgrader": {
     "cell_type": "markdown",
     "checksum": "bf42e8ba417ce7ecdcd983c97abc34ea",
     "grade": false,
     "grade_id": "cell-e9ca0c916324acc2",
     "locked": true,
     "schema_version": 3,
     "solution": false,
     "task": false
    },
    "tags": []
   },
   "source": [
    "<a id='Q4'></a>\n",
    "<div class=\" alert alert-warning\">\n",
    "    <h3><b>Student Question 4.1</b> Lunar Lander Performance (15 points) </h3> \n",
    "\n",
    "Why doesn't the Lunar Lander learn to land consistently between the flag poles after 20,000 episodes? Select all that apply.\n",
    "    \n",
    "🔝\t<a href='#TOC'><b>Table of Contents</b></a>\n",
    "</div>\n"
   ]
  },
  {
   "cell_type": "markdown",
   "id": "341674d8-05f1-45fd-86f1-58e6fe053bcb",
   "metadata": {
    "deletable": false,
    "editable": false,
    "nbgrader": {
     "cell_type": "markdown",
     "checksum": "b3ced91cf860f74bd25377b2f0b1c4b8",
     "grade": false,
     "grade_id": "cell-241b3bf1f2c6e6fe",
     "locked": true,
     "schema_version": 3,
     "solution": false,
     "task": false
    },
    "tags": []
   },
   "source": [
    "Choose *all* correct options. Select **at most** 5 answers, or you will lose **all points**\n",
    "\n",
    "Options: \n",
    "\n",
    "1. The lunar lander's dynamics are too complex for a simple Q-learning approach\n",
    "2. The discretization of continuous states causes loss of crucial information\n",
    "3. The Q-learning algorithm struggles with high-dimensional state spaces\n",
    "4. The reward function may not provide enough guidance for precise landing\n",
    "5. The epsilon-greedy strategy may not provide sufficient exploration for Q-learning\n",
    "6. 20,000 episodes is insufficient for the Q-learning algorithm to converge in lunar lander\n",
    "7. The state space is too large for efficient exploration\n"
   ]
  },
  {
   "cell_type": "markdown",
   "id": "94efbd2d",
   "metadata": {
    "deletable": false,
    "editable": false,
    "nbgrader": {
     "cell_type": "markdown",
     "checksum": "5b97732431e585ba137a784a6e6e227f",
     "grade": false,
     "grade_id": "cell-686f2227c30c23bc",
     "locked": true,
     "schema_version": 3,
     "solution": false,
     "task": false
    },
    "tags": []
   },
   "source": [
    "This and following cells are used for grading."
   ]
  },
  {
   "cell_type": "code",
   "execution_count": 31,
   "id": "6f1ceb16-e955-4083-b765-ac8ce7fc4afb",
   "metadata": {},
   "outputs": [],
   "source": [
    "# Answer question 4.2 with appropriate option numbers\n",
    "sq4_2 = [1,2,3,5,7]"
   ]
  },
  {
   "cell_type": "code",
   "execution_count": 32,
   "id": "d2648e91-a063-4c99-8372-097b91525edd",
   "metadata": {
    "deletable": false,
    "editable": false,
    "nbgrader": {
     "cell_type": "code",
     "checksum": "fce6c3e7e354bc3773af362336ecde11",
     "grade": true,
     "grade_id": "cell-ac0292bc216b3977",
     "locked": true,
     "points": 0,
     "schema_version": 3,
     "solution": false,
     "task": false
    },
    "tags": []
   },
   "outputs": [],
   "source": [
    "assert 1 <= len(sq4_2) <= 5\n",
    "assert max(sq4_2) <= 7"
   ]
  },
  {
   "cell_type": "code",
   "execution_count": null,
   "id": "c8073563-5ecb-4469-b4ad-f236833e6806",
   "metadata": {
    "deletable": false,
    "editable": false,
    "nbgrader": {
     "cell_type": "code",
     "checksum": "e02dd1e74bbf2769002ec21af0088e1a",
     "grade": true,
     "grade_id": "cell-2ad87fd87ff8fc4d",
     "locked": true,
     "points": 4,
     "schema_version": 3,
     "solution": false,
     "task": false
    },
    "tags": []
   },
   "outputs": [],
   "source": []
  },
  {
   "cell_type": "code",
   "execution_count": null,
   "id": "a0d05400-cf65-48cd-ae5b-df87e558e6d7",
   "metadata": {
    "deletable": false,
    "editable": false,
    "nbgrader": {
     "cell_type": "code",
     "checksum": "b3d3f5a6361a9104c49d32b977df1b1f",
     "grade": true,
     "grade_id": "cell-ace1ce896c910591",
     "locked": true,
     "points": 4,
     "schema_version": 3,
     "solution": false,
     "task": false
    },
    "tags": []
   },
   "outputs": [],
   "source": []
  },
  {
   "cell_type": "code",
   "execution_count": null,
   "id": "6aa1b9a2-3e17-418d-941b-768323b362a5",
   "metadata": {
    "deletable": false,
    "editable": false,
    "nbgrader": {
     "cell_type": "code",
     "checksum": "f9ae885128cea38b5fcd2dd826ed1ba4",
     "grade": true,
     "grade_id": "cell-c8b576d9447b1b29",
     "locked": true,
     "points": 4,
     "schema_version": 3,
     "solution": false,
     "task": false
    },
    "tags": []
   },
   "outputs": [],
   "source": []
  },
  {
   "cell_type": "code",
   "execution_count": null,
   "id": "c56b84da-febd-4216-9d4a-9793656252f7",
   "metadata": {
    "deletable": false,
    "editable": false,
    "nbgrader": {
     "cell_type": "code",
     "checksum": "04db3ecc55638ca359f9e4ab798543d1",
     "grade": true,
     "grade_id": "cell-d4bf11ec4662fce0",
     "locked": true,
     "points": 3,
     "schema_version": 3,
     "solution": false,
     "task": false
    },
    "tags": []
   },
   "outputs": [],
   "source": []
  },
  {
   "cell_type": "markdown",
   "id": "98e534eb",
   "metadata": {
    "deletable": false,
    "editable": false,
    "nbgrader": {
     "cell_type": "markdown",
     "checksum": "86af336745b3942ce8d10f8aee9edcd7",
     "grade": false,
     "grade_id": "cell-922eef33455eab38",
     "locked": true,
     "schema_version": 3,
     "solution": false,
     "task": false
    },
    "tags": []
   },
   "source": [
    "# 4. Submitting <a id='4.'></a>\n",
    "Ensure all tasks and questions (in ```ex3.ipynb```) are answered and the relevant plots are recorded in the relevant places. Details about attaching images and figures can be found below. The relevant graphs to be included for this assignment are:\n",
    "\n",
    "\n",
    "- Training performance plots:\n",
    "  - `task1_e.png`: Cartpole, constant value of $\\epsilon$ training performance plots in terms of episode and smoothed episodic reward\n",
    "  - `task1_glie.png`: Cartpole, GLIE training performance plots in terms of episode and smoothed episodic reward\n",
    "  - `task3.1_e.png`: Cartpole, training performance plots of the initial estimates of the Q function at 0 \n",
    "  - `task3.2_e.png`: Cartpole, training performance plots of the initial estimates of the Q function at 50\n",
    "  - `task4_glie.png`: Luner Lander, training performance plots in terms of episode and smoothed episodic reward\n",
    "- Q-table files:\n",
    "  - `task1_q_table_e.pkl`: Cartpole, Q-table for the constant exploration rate.\n",
    "  - `task1_q_table_glie.pkl`: Cartpole, Q-table for GLIE.\n",
    "\n",
    "\n",
    "Ensure the correct model files and plots are saved:\n",
    "- ```results/CartPole-v1/task1_e.png``` From Task 1\n",
    "- ```results/CartPole-v1/task1_glie.png``` From Task 1\n",
    "- ```results/CartPole-v1/task1_q_table_e.pkl``` From Task 1\n",
    "- ```results/CartPole-v1/task1_q_table_glie.pkl``` From Task 1\n",
    "- ```results/CartPole-v1/task3.1__e.png``` From Task 3\n",
    "- ```results/CartPole-v1/task3.2__e.png``` From Task 3\n",
    "- ```results/LunarLander-v2/task4__glie.png``` From Task 4\n"
   ]
  },
  {
   "cell_type": "code",
   "execution_count": null,
   "id": "15c6c5b4",
   "metadata": {},
   "outputs": [],
   "source": [
    "# Make sure that skip training is set to True before submission\n",
    "assert skip_training == True"
   ]
  },
  {
   "cell_type": "markdown",
   "id": "4fdb3823",
   "metadata": {
    "deletable": false,
    "editable": false,
    "nbgrader": {
     "cell_type": "markdown",
     "checksum": "d69da8110b35b10bd4ef5ab4155d96b4",
     "grade": false,
     "grade_id": "cell-a63faf07dd8a1a80",
     "locked": true,
     "schema_version": 3,
     "solution": false,
     "task": false
    },
    "tags": []
   },
   "source": [
    "## 4.1 Feedback <a id='4.1'></a>\n",
    "\n",
    "In order to help the staff of the course as well as the forthcoming students, it would be great if you could answer to the following questions in your submission:"
   ]
  },
  {
   "cell_type": "markdown",
   "id": "1a19aa8d-6ce6-4688-b6f8-db0ae3caa596",
   "metadata": {
    "deletable": false,
    "editable": false,
    "nbgrader": {
     "cell_type": "markdown",
     "checksum": "c4a0cd82cb3471ab490f99840771f4a8",
     "grade": false,
     "grade_id": "cell-2a358f3dfa686d37",
     "locked": true,
     "schema_version": 3,
     "solution": false,
     "task": false
    },
    "tags": []
   },
   "source": [
    "1) How much time did you spend solving this exercise? (change the ```hrs``` variable below to a floating point number representing the number of hours taken e.g. 5.43)"
   ]
  },
  {
   "cell_type": "code",
   "execution_count": null,
   "id": "5b7c8370-ff84-4dc9-aab8-596782c55d62",
   "metadata": {
    "tags": []
   },
   "outputs": [],
   "source": [
    "hrs = None"
   ]
  },
  {
   "cell_type": "markdown",
   "id": "75d254d1-ad16-4c10-87a6-72afb79d49fe",
   "metadata": {
    "deletable": false,
    "editable": false,
    "nbgrader": {
     "cell_type": "markdown",
     "checksum": "b5db50df30213990cd28c1c809e1a7b6",
     "grade": false,
     "grade_id": "cell-2139188fae1d1565",
     "locked": true,
     "schema_version": 3,
     "solution": false,
     "task": false
    },
    "tags": []
   },
   "source": [
    "2) Difficulty of each task/question from 1-5 (int or float)"
   ]
  },
  {
   "cell_type": "code",
   "execution_count": null,
   "id": "58193777-64de-4d7c-be84-249d34e1c027",
   "metadata": {
    "tags": []
   },
   "outputs": [],
   "source": [
    "T1 = None   # Student Task 1. Implementing Q-Learning (25 points)\n",
    "T2 = None   # Student Task 2. Visualizing the Value Function (10 points)\n",
    "Q2_1 = None # Student Question 2.1 Analyzing the Value Function Heatmap (15 points)\n",
    "T3 = None   # Student Task 3. Investigating Initial Values (10 points)\n",
    "Q3_1 = None # Student Question 3.1 Analyzing Initial Values (5 points)\n",
    "Q3_2 = None # Student Question 3.2 Exploration (15 points)\n",
    "T4 = None   # Student Task 4. Using Q-Learning on the Lunar Lander Environment (5 points)\n",
    "Q4_1 = None # Student Question 4.1 Lunar Lander Performance (15 points)"
   ]
  },
  {
   "cell_type": "markdown",
   "id": "af146c4d-9475-4c0b-8b43-823fc345a584",
   "metadata": {
    "deletable": false,
    "editable": false,
    "nbgrader": {
     "cell_type": "markdown",
     "checksum": "e6a70089a969d60c3c49742635867ae8",
     "grade": false,
     "grade_id": "cell-04a0666c38cd5547",
     "locked": true,
     "schema_version": 3,
     "solution": false,
     "task": false
    },
    "tags": []
   },
   "source": [
    "3) How well did you understand the content of the task/question from 1-5? (int or float)"
   ]
  },
  {
   "cell_type": "code",
   "execution_count": null,
   "id": "0f5a460a-eb5b-45e4-a091-7153416dbd43",
   "metadata": {
    "tags": []
   },
   "outputs": [],
   "source": [
    "T1 = None   # Student Task 1. Implementing Q-Learning (25 points)\n",
    "T2 = None   # Student Task 2. Visualizing the Value Function (10 points)\n",
    "Q2_1 = None # Student Question 2.1 Analyzing the Value Function Heatmap (15 points)\n",
    "T3 = None   # Student Task 3. Investigating Initial Values (10 points)\n",
    "Q3_1 = None # Student Question 3.1 Analyzing Initial Values (5 points)\n",
    "Q3_2 = None # Student Question 3.2 Exploration (15 points)\n",
    "T4 = None   # Student Task 4. Using Q-Learning on the Lunar Lander Environment (5 points)\n",
    "Q4_1 = None # Student Question 4.1 Lunar Lander Performance (15 points)"
   ]
  },
  {
   "cell_type": "markdown",
   "id": "3de4ebe0-4012-42fd-90ae-2c8e386afa4f",
   "metadata": {
    "deletable": false,
    "editable": false,
    "nbgrader": {
     "cell_type": "markdown",
     "checksum": "65c2840d9245a90678fa5ceb9a377031",
     "grade": false,
     "grade_id": "cell-05f2777fbdfab5ce",
     "locked": true,
     "schema_version": 3,
     "solution": false,
     "task": false
    },
    "tags": []
   },
   "source": [
    "4) General feedback. Consider questions like:\n",
    "\n",
    "    - Did the content of the lecture relate well with the assignment?\n",
    "    - To what extent did you find the material to be potentially useful for your research and studies?\n",
    "    \n",
    "And other feedback you think is worth including. Type in the box below"
   ]
  },
  {
   "cell_type": "markdown",
   "id": "d67c9543-3652-4311-ad4d-6b6a087e5587",
   "metadata": {
    "tags": []
   },
   "source": [
    "DOUBLE CLICK HERE TO EDIT, CLEAR THIS TEXT AND ANSWER HERE"
   ]
  }
 ],
 "metadata": {
  "kernelspec": {
   "display_name": "Python 3",
   "language": "python",
   "name": "python3"
  },
  "language_info": {
   "codemirror_mode": {
    "name": "ipython",
    "version": 3
   },
   "file_extension": ".py",
   "mimetype": "text/x-python",
   "name": "python",
   "nbconvert_exporter": "python",
   "pygments_lexer": "ipython3",
   "version": "3.10.12"
  }
 },
 "nbformat": 4,
 "nbformat_minor": 5
}
